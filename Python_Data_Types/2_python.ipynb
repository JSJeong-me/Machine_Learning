{
 "cells": [
  {
   "cell_type": "code",
   "execution_count": 76,
   "id": "697b316a-81a8-4749-a927-b0c3769240bf",
   "metadata": {},
   "outputs": [],
   "source": [
    "scores = [[11, 12, 13], [21, 22, 23]]"
   ]
  },
  {
   "cell_type": "code",
   "execution_count": 77,
   "id": "368d6bd0-9d55-4ab6-9c78-111f2d5bb0fc",
   "metadata": {},
   "outputs": [
    {
     "data": {
      "text/plain": [
       "list"
      ]
     },
     "execution_count": 77,
     "metadata": {},
     "output_type": "execute_result"
    }
   ],
   "source": [
    "type(scores)"
   ]
  },
  {
   "cell_type": "code",
   "execution_count": 78,
   "id": "3cc2cb29-b28e-442b-8b00-4cab155d0481",
   "metadata": {},
   "outputs": [
    {
     "data": {
      "text/plain": [
       "[[11, 12, 13], [21, 22, 23]]"
      ]
     },
     "execution_count": 78,
     "metadata": {},
     "output_type": "execute_result"
    }
   ],
   "source": [
    "scores"
   ]
  },
  {
   "cell_type": "code",
   "execution_count": 79,
   "id": "466ae63b-06a3-4b9e-b903-6a620e62368e",
   "metadata": {},
   "outputs": [],
   "source": [
    "import numpy as np"
   ]
  },
  {
   "cell_type": "code",
   "execution_count": 80,
   "id": "b98b5a34-7c5d-4cca-97cc-1ed5fc6a8e17",
   "metadata": {},
   "outputs": [],
   "source": [
    "score_array = np.array(scores)"
   ]
  },
  {
   "cell_type": "code",
   "execution_count": 81,
   "id": "61ec1b8f-1369-4dce-a421-b58f0ee4f145",
   "metadata": {},
   "outputs": [
    {
     "data": {
      "text/plain": [
       "numpy.ndarray"
      ]
     },
     "execution_count": 81,
     "metadata": {},
     "output_type": "execute_result"
    }
   ],
   "source": [
    "type(score_array)"
   ]
  },
  {
   "cell_type": "code",
   "execution_count": 82,
   "id": "2d0b6ea4-eb3a-490d-bec7-5d94279a4362",
   "metadata": {},
   "outputs": [
    {
     "data": {
      "text/plain": [
       "array([[11, 12, 13],\n",
       "       [21, 22, 23]])"
      ]
     },
     "execution_count": 82,
     "metadata": {},
     "output_type": "execute_result"
    }
   ],
   "source": [
    "score_array"
   ]
  },
  {
   "cell_type": "code",
   "execution_count": 83,
   "id": "bd3bcd30-8dce-40f0-b2ea-b0c1208488e5",
   "metadata": {},
   "outputs": [
    {
     "data": {
      "text/plain": [
       "12"
      ]
     },
     "execution_count": 83,
     "metadata": {},
     "output_type": "execute_result"
    }
   ],
   "source": [
    "score_array[0,1]"
   ]
  },
  {
   "cell_type": "code",
   "execution_count": 84,
   "id": "12af8a6b-ae2e-4911-bffb-e5d6f0840931",
   "metadata": {},
   "outputs": [],
   "source": [
    "import pandas as pd"
   ]
  },
  {
   "cell_type": "code",
   "execution_count": 85,
   "id": "655d2bc6-1ae6-4db5-908f-118e417e6c5c",
   "metadata": {},
   "outputs": [],
   "source": [
    "scores_columns = [\"Korean\", \"English\", \"Math\"]\n",
    "scores_index = [\"1_Class\", \"2_Class\"]"
   ]
  },
  {
   "cell_type": "code",
   "execution_count": 86,
   "id": "e175586f-f2d3-40f1-ae01-4e022efe65ce",
   "metadata": {},
   "outputs": [],
   "source": [
    "df_scores = pd.DataFrame(score_array, index = scores_index, columns = scores_columns)"
   ]
  },
  {
   "cell_type": "code",
   "execution_count": 87,
   "id": "0c3ef6b2-eb13-4ef8-a46d-bf2c9aac67a6",
   "metadata": {},
   "outputs": [
    {
     "data": {
      "text/html": [
       "<div>\n",
       "<style scoped>\n",
       "    .dataframe tbody tr th:only-of-type {\n",
       "        vertical-align: middle;\n",
       "    }\n",
       "\n",
       "    .dataframe tbody tr th {\n",
       "        vertical-align: top;\n",
       "    }\n",
       "\n",
       "    .dataframe thead th {\n",
       "        text-align: right;\n",
       "    }\n",
       "</style>\n",
       "<table border=\"1\" class=\"dataframe\">\n",
       "  <thead>\n",
       "    <tr style=\"text-align: right;\">\n",
       "      <th></th>\n",
       "      <th>Korean</th>\n",
       "      <th>English</th>\n",
       "      <th>Math</th>\n",
       "    </tr>\n",
       "  </thead>\n",
       "  <tbody>\n",
       "    <tr>\n",
       "      <th>1_Class</th>\n",
       "      <td>11</td>\n",
       "      <td>12</td>\n",
       "      <td>13</td>\n",
       "    </tr>\n",
       "    <tr>\n",
       "      <th>2_Class</th>\n",
       "      <td>21</td>\n",
       "      <td>22</td>\n",
       "      <td>23</td>\n",
       "    </tr>\n",
       "  </tbody>\n",
       "</table>\n",
       "</div>"
      ],
      "text/plain": [
       "         Korean  English  Math\n",
       "1_Class      11       12    13\n",
       "2_Class      21       22    23"
      ]
     },
     "execution_count": 87,
     "metadata": {},
     "output_type": "execute_result"
    }
   ],
   "source": [
    "df_scores"
   ]
  },
  {
   "cell_type": "code",
   "execution_count": 88,
   "id": "81da7b5b-d288-44ef-9327-ed207b672016",
   "metadata": {},
   "outputs": [
    {
     "data": {
      "text/html": [
       "<div>\n",
       "<style scoped>\n",
       "    .dataframe tbody tr th:only-of-type {\n",
       "        vertical-align: middle;\n",
       "    }\n",
       "\n",
       "    .dataframe tbody tr th {\n",
       "        vertical-align: top;\n",
       "    }\n",
       "\n",
       "    .dataframe thead th {\n",
       "        text-align: right;\n",
       "    }\n",
       "</style>\n",
       "<table border=\"1\" class=\"dataframe\">\n",
       "  <thead>\n",
       "    <tr style=\"text-align: right;\">\n",
       "      <th></th>\n",
       "      <th>Korean</th>\n",
       "      <th>English</th>\n",
       "    </tr>\n",
       "  </thead>\n",
       "  <tbody>\n",
       "    <tr>\n",
       "      <th>1_Class</th>\n",
       "      <td>11</td>\n",
       "      <td>12</td>\n",
       "    </tr>\n",
       "    <tr>\n",
       "      <th>2_Class</th>\n",
       "      <td>21</td>\n",
       "      <td>22</td>\n",
       "    </tr>\n",
       "  </tbody>\n",
       "</table>\n",
       "</div>"
      ],
      "text/plain": [
       "         Korean  English\n",
       "1_Class      11       12\n",
       "2_Class      21       22"
      ]
     },
     "execution_count": 88,
     "metadata": {},
     "output_type": "execute_result"
    }
   ],
   "source": [
    "df_scores[[\"Korean\",\"English\"]]"
   ]
  },
  {
   "cell_type": "code",
   "execution_count": 89,
   "id": "a55abaa7-96ae-49f3-88e8-3a8b96de55c0",
   "metadata": {},
   "outputs": [
    {
     "data": {
      "text/plain": [
       "1_Class    11\n",
       "2_Class    21\n",
       "Name: Korean, dtype: int32"
      ]
     },
     "execution_count": 89,
     "metadata": {},
     "output_type": "execute_result"
    }
   ],
   "source": [
    "df_scores.Korean"
   ]
  },
  {
   "cell_type": "code",
   "execution_count": 90,
   "id": "6de06529-741e-4c7e-931f-7cd3185357c7",
   "metadata": {},
   "outputs": [
    {
     "data": {
      "text/plain": [
       "Korean     int32\n",
       "English    int32\n",
       "Math       int32\n",
       "dtype: object"
      ]
     },
     "execution_count": 90,
     "metadata": {},
     "output_type": "execute_result"
    }
   ],
   "source": [
    "df_scores.dtypes"
   ]
  },
  {
   "cell_type": "code",
   "execution_count": 91,
   "id": "576d5b2a-4697-4a85-b907-f5768bef972c",
   "metadata": {},
   "outputs": [
    {
     "data": {
      "text/html": [
       "<div>\n",
       "<style scoped>\n",
       "    .dataframe tbody tr th:only-of-type {\n",
       "        vertical-align: middle;\n",
       "    }\n",
       "\n",
       "    .dataframe tbody tr th {\n",
       "        vertical-align: top;\n",
       "    }\n",
       "\n",
       "    .dataframe thead th {\n",
       "        text-align: right;\n",
       "    }\n",
       "</style>\n",
       "<table border=\"1\" class=\"dataframe\">\n",
       "  <thead>\n",
       "    <tr style=\"text-align: right;\">\n",
       "      <th></th>\n",
       "      <th>Korean</th>\n",
       "      <th>English</th>\n",
       "      <th>Math</th>\n",
       "    </tr>\n",
       "  </thead>\n",
       "  <tbody>\n",
       "    <tr>\n",
       "      <th>1_Class</th>\n",
       "      <td>11</td>\n",
       "      <td>12</td>\n",
       "      <td>13</td>\n",
       "    </tr>\n",
       "    <tr>\n",
       "      <th>2_Class</th>\n",
       "      <td>21</td>\n",
       "      <td>22</td>\n",
       "      <td>23</td>\n",
       "    </tr>\n",
       "  </tbody>\n",
       "</table>\n",
       "</div>"
      ],
      "text/plain": [
       "         Korean  English  Math\n",
       "1_Class      11       12    13\n",
       "2_Class      21       22    23"
      ]
     },
     "execution_count": 91,
     "metadata": {},
     "output_type": "execute_result"
    }
   ],
   "source": [
    "df_scores.iloc[:,:]"
   ]
  },
  {
   "cell_type": "code",
   "execution_count": 92,
   "id": "209c0b7c-4ddb-4318-a2df-7c57a191ecfb",
   "metadata": {},
   "outputs": [
    {
     "data": {
      "text/html": [
       "<div>\n",
       "<style scoped>\n",
       "    .dataframe tbody tr th:only-of-type {\n",
       "        vertical-align: middle;\n",
       "    }\n",
       "\n",
       "    .dataframe tbody tr th {\n",
       "        vertical-align: top;\n",
       "    }\n",
       "\n",
       "    .dataframe thead th {\n",
       "        text-align: right;\n",
       "    }\n",
       "</style>\n",
       "<table border=\"1\" class=\"dataframe\">\n",
       "  <thead>\n",
       "    <tr style=\"text-align: right;\">\n",
       "      <th></th>\n",
       "      <th>Korean</th>\n",
       "      <th>English</th>\n",
       "      <th>Math</th>\n",
       "    </tr>\n",
       "  </thead>\n",
       "  <tbody>\n",
       "    <tr>\n",
       "      <th>1_Class</th>\n",
       "      <td>11</td>\n",
       "      <td>12</td>\n",
       "      <td>13</td>\n",
       "    </tr>\n",
       "    <tr>\n",
       "      <th>2_Class</th>\n",
       "      <td>21</td>\n",
       "      <td>22</td>\n",
       "      <td>23</td>\n",
       "    </tr>\n",
       "  </tbody>\n",
       "</table>\n",
       "</div>"
      ],
      "text/plain": [
       "         Korean  English  Math\n",
       "1_Class      11       12    13\n",
       "2_Class      21       22    23"
      ]
     },
     "execution_count": 92,
     "metadata": {},
     "output_type": "execute_result"
    }
   ],
   "source": [
    "df_scores"
   ]
  },
  {
   "cell_type": "code",
   "execution_count": 93,
   "id": "6433716d-ed04-49ae-a4a4-f782d4a589c8",
   "metadata": {},
   "outputs": [
    {
     "data": {
      "text/plain": [
       "pandas.core.frame.DataFrame"
      ]
     },
     "execution_count": 93,
     "metadata": {},
     "output_type": "execute_result"
    }
   ],
   "source": [
    "type(df_scores)"
   ]
  },
  {
   "cell_type": "code",
   "execution_count": 94,
   "id": "1e27fd5d-e6a1-4823-b34d-5074b4c36e2d",
   "metadata": {},
   "outputs": [],
   "source": [
    "new_array = df_scores.values"
   ]
  },
  {
   "cell_type": "code",
   "execution_count": 95,
   "id": "a9e8e028-9b79-4566-9a86-7e18338b8add",
   "metadata": {},
   "outputs": [],
   "source": [
    "new_list = new_array.tolist()"
   ]
  },
  {
   "cell_type": "code",
   "execution_count": 96,
   "id": "c767129c-ac6c-41db-9524-38fc2fedba21",
   "metadata": {},
   "outputs": [
    {
     "data": {
      "text/plain": [
       "list"
      ]
     },
     "execution_count": 96,
     "metadata": {},
     "output_type": "execute_result"
    }
   ],
   "source": [
    "type(new_list)"
   ]
  }
 ],
 "metadata": {
  "kernelspec": {
   "display_name": "Python 3",
   "language": "python",
   "name": "python3"
  },
  "language_info": {
   "codemirror_mode": {
    "name": "ipython",
    "version": 3
   },
   "file_extension": ".py",
   "mimetype": "text/x-python",
   "name": "python",
   "nbconvert_exporter": "python",
   "pygments_lexer": "ipython3",
   "version": "3.8.8"
  }
 },
 "nbformat": 4,
 "nbformat_minor": 5
}
