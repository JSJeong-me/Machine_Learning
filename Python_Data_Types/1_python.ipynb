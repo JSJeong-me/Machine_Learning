{
 "cells": [
  {
   "cell_type": "code",
   "execution_count": 30,
   "id": "84737a92-e892-49fc-b7cf-2c5cac22b0d7",
   "metadata": {},
   "outputs": [
    {
     "name": "stdout",
     "output_type": "stream",
     "text": [
      "C:\\Users\\user\\Documents\\ml\n"
     ]
    }
   ],
   "source": [
    "!cd"
   ]
  },
  {
   "cell_type": "code",
   "execution_count": 31,
   "id": "51b4618d-5425-4298-bba5-19e880c1028f",
   "metadata": {},
   "outputs": [
    {
     "name": "stdout",
     "output_type": "stream",
     "text": [
      " C 드라이브의 볼륨에는 이름이 없습니다.\n",
      " 볼륨 일련 번호: 0C56-4BF1\n",
      "\n",
      " C:\\Users\\user\\Documents\\ml 디렉터리\n",
      "\n",
      "2022-02-28  오전 10:12    <DIR>          .\n",
      "2022-02-28  오전 10:12    <DIR>          ..\n",
      "2022-02-28  오전 09:38    <DIR>          .ipynb_checkpoints\n",
      "2022-02-28  오전 10:03             9,540 1_python.ipynb\n",
      "2022-02-28  오전 10:12            11,404 2_python.ipynb\n",
      "               2개 파일              20,944 바이트\n",
      "               3개 디렉터리  416,963,100,672 바이트 남음\n"
     ]
    }
   ],
   "source": [
    "!dir"
   ]
  },
  {
   "cell_type": "code",
   "execution_count": 32,
   "id": "8e4de94a-ccbf-4bf4-8b0e-3ed582447094",
   "metadata": {},
   "outputs": [],
   "source": [
    "var1 = 5.7"
   ]
  },
  {
   "cell_type": "code",
   "execution_count": 35,
   "id": "42d32294-3874-4fe4-9cc8-9cc07cc9eced",
   "metadata": {},
   "outputs": [
    {
     "data": {
      "text/plain": [
       "float"
      ]
     },
     "execution_count": 35,
     "metadata": {},
     "output_type": "execute_result"
    }
   ],
   "source": [
    "type(var1)"
   ]
  },
  {
   "cell_type": "code",
   "execution_count": 36,
   "id": "52b16e3f-af65-4cc0-a47f-23ad319e6cf2",
   "metadata": {},
   "outputs": [],
   "source": [
    "var2 = 3"
   ]
  },
  {
   "cell_type": "code",
   "execution_count": 37,
   "id": "0ab37c7e-eb93-415e-82f8-db81759a4d6c",
   "metadata": {},
   "outputs": [],
   "source": [
    "var3 = 9"
   ]
  },
  {
   "cell_type": "code",
   "execution_count": 38,
   "id": "41c58647-cc2a-466f-9516-8fc976c0c994",
   "metadata": {},
   "outputs": [
    {
     "data": {
      "text/plain": [
       "float"
      ]
     },
     "execution_count": 38,
     "metadata": {},
     "output_type": "execute_result"
    }
   ],
   "source": [
    "type(var1)"
   ]
  },
  {
   "cell_type": "code",
   "execution_count": 39,
   "id": "ac23f4e6-fb5a-458f-b656-fb330cda7e99",
   "metadata": {},
   "outputs": [],
   "source": [
    "var_tuple = (2, 5, 7, 9, 15) # Tuple"
   ]
  },
  {
   "cell_type": "code",
   "execution_count": 40,
   "id": "58e8712b-d995-4135-a583-dc012a3cf9d7",
   "metadata": {},
   "outputs": [],
   "source": [
    "var_int = int(5.7)"
   ]
  },
  {
   "cell_type": "code",
   "execution_count": 41,
   "id": "9e7d8e35-777e-42b5-a95e-5280d54ec7f3",
   "metadata": {},
   "outputs": [
    {
     "data": {
      "text/plain": [
       "5"
      ]
     },
     "execution_count": 41,
     "metadata": {},
     "output_type": "execute_result"
    }
   ],
   "source": [
    "var_int"
   ]
  },
  {
   "cell_type": "code",
   "execution_count": 42,
   "id": "d3453146-6131-45b1-a547-80b09f77eba3",
   "metadata": {},
   "outputs": [],
   "source": [
    "var_tuple00 = (3,)"
   ]
  },
  {
   "cell_type": "code",
   "execution_count": 43,
   "id": "53f412a5-65ed-43f1-8b44-8cba2d2b5c8e",
   "metadata": {},
   "outputs": [
    {
     "data": {
      "text/plain": [
       "tuple"
      ]
     },
     "execution_count": 43,
     "metadata": {},
     "output_type": "execute_result"
    }
   ],
   "source": [
    "type(var_tuple00)"
   ]
  },
  {
   "cell_type": "code",
   "execution_count": 44,
   "id": "94221a8d-89b0-435a-bc9a-13db3fdba29b",
   "metadata": {},
   "outputs": [
    {
     "ename": "TypeError",
     "evalue": "'tuple' object does not support item assignment",
     "output_type": "error",
     "traceback": [
      "\u001b[1;31m---------------------------------------------------------------------------\u001b[0m",
      "\u001b[1;31mTypeError\u001b[0m                                 Traceback (most recent call last)",
      "\u001b[1;32m<ipython-input-44-cc3f5a4babec>\u001b[0m in \u001b[0;36m<module>\u001b[1;34m\u001b[0m\n\u001b[1;32m----> 1\u001b[1;33m \u001b[0mvar_tuple00\u001b[0m\u001b[1;33m[\u001b[0m\u001b[1;36m0\u001b[0m\u001b[1;33m]\u001b[0m \u001b[1;33m=\u001b[0m \u001b[1;36m55\u001b[0m\u001b[1;33m\u001b[0m\u001b[1;33m\u001b[0m\u001b[0m\n\u001b[0m",
      "\u001b[1;31mTypeError\u001b[0m: 'tuple' object does not support item assignment"
     ]
    }
   ],
   "source": [
    "var_tuple00[0] = 55"
   ]
  },
  {
   "cell_type": "code",
   "execution_count": 45,
   "id": "3542eac5-0d7b-4716-9aae-97ea89193c76",
   "metadata": {},
   "outputs": [
    {
     "ename": "TypeError",
     "evalue": "'tuple' object does not support item assignment",
     "output_type": "error",
     "traceback": [
      "\u001b[1;31m---------------------------------------------------------------------------\u001b[0m",
      "\u001b[1;31mTypeError\u001b[0m                                 Traceback (most recent call last)",
      "\u001b[1;32m<ipython-input-45-0dbbfd4da4f2>\u001b[0m in \u001b[0;36m<module>\u001b[1;34m\u001b[0m\n\u001b[1;32m----> 1\u001b[1;33m \u001b[0mvar_tuple\u001b[0m\u001b[1;33m[\u001b[0m\u001b[1;36m0\u001b[0m\u001b[1;33m]\u001b[0m \u001b[1;33m=\u001b[0m \u001b[1;36m35\u001b[0m\u001b[1;33m\u001b[0m\u001b[1;33m\u001b[0m\u001b[0m\n\u001b[0m",
      "\u001b[1;31mTypeError\u001b[0m: 'tuple' object does not support item assignment"
     ]
    }
   ],
   "source": [
    "var_tuple[0] = 35"
   ]
  },
  {
   "cell_type": "code",
   "execution_count": 46,
   "id": "a0466b55-8b94-4782-8530-d2cf6b81794d",
   "metadata": {},
   "outputs": [
    {
     "data": {
      "text/plain": [
       "tuple"
      ]
     },
     "execution_count": 46,
     "metadata": {},
     "output_type": "execute_result"
    }
   ],
   "source": [
    "type(var_tuple)"
   ]
  },
  {
   "cell_type": "code",
   "execution_count": 47,
   "id": "9de94197-26e7-4402-bb0c-5ba189d2993f",
   "metadata": {},
   "outputs": [
    {
     "data": {
      "text/plain": [
       "{}"
      ]
     },
     "execution_count": 47,
     "metadata": {},
     "output_type": "execute_result"
    }
   ],
   "source": [
    "{} # Set"
   ]
  },
  {
   "cell_type": "code",
   "execution_count": 48,
   "id": "12678834-f2a4-42f1-af40-e8bb0605a975",
   "metadata": {},
   "outputs": [],
   "source": [
    "var_set = {2, 5, 7, 9, 15, 150, 15}"
   ]
  },
  {
   "cell_type": "code",
   "execution_count": 49,
   "id": "3fc1990c-5ec4-4700-8a26-2b322072fb4d",
   "metadata": {},
   "outputs": [
    {
     "data": {
      "text/plain": [
       "{2, 5, 7, 9, 15, 150}"
      ]
     },
     "execution_count": 49,
     "metadata": {},
     "output_type": "execute_result"
    }
   ],
   "source": [
    "var_set"
   ]
  },
  {
   "cell_type": "code",
   "execution_count": 50,
   "id": "0015e108-c95c-418b-9f3c-e0bc701feeb6",
   "metadata": {},
   "outputs": [
    {
     "data": {
      "text/plain": [
       "set"
      ]
     },
     "execution_count": 50,
     "metadata": {},
     "output_type": "execute_result"
    }
   ],
   "source": [
    "type(var_set)"
   ]
  },
  {
   "cell_type": "code",
   "execution_count": 51,
   "id": "392d1029-41d1-4fd3-8580-a4b60d933976",
   "metadata": {},
   "outputs": [
    {
     "data": {
      "text/plain": [
       "[]"
      ]
     },
     "execution_count": 51,
     "metadata": {},
     "output_type": "execute_result"
    }
   ],
   "source": [
    "[] # List"
   ]
  },
  {
   "cell_type": "code",
   "execution_count": 52,
   "id": "b2e3aab6-1ee9-4e49-8b27-61422add7f25",
   "metadata": {},
   "outputs": [],
   "source": [
    "var_list = [2, 5, 7, 9, 15]"
   ]
  },
  {
   "cell_type": "code",
   "execution_count": 53,
   "id": "f704a51f-698d-4bd5-aa01-71d56b07eeec",
   "metadata": {},
   "outputs": [],
   "source": [
    "var_list.append(15)"
   ]
  },
  {
   "cell_type": "code",
   "execution_count": 54,
   "id": "0002ef11-3b30-49be-83bf-da98ecb3e47f",
   "metadata": {},
   "outputs": [
    {
     "data": {
      "text/plain": [
       "[2, 5, 7, 9, 15, 15]"
      ]
     },
     "execution_count": 54,
     "metadata": {},
     "output_type": "execute_result"
    }
   ],
   "source": [
    "var_list"
   ]
  },
  {
   "cell_type": "code",
   "execution_count": 55,
   "id": "790a5772-c178-4093-b2a6-2178e8e2544e",
   "metadata": {},
   "outputs": [],
   "source": [
    "str = \"Good morning!!!\""
   ]
  },
  {
   "cell_type": "code",
   "execution_count": 56,
   "id": "c3e19a6b-57d7-4b91-9c98-5cfe9b7496b3",
   "metadata": {},
   "outputs": [
    {
     "data": {
      "text/plain": [
       "'Good morning!!!'"
      ]
     },
     "execution_count": 56,
     "metadata": {},
     "output_type": "execute_result"
    }
   ],
   "source": [
    "str"
   ]
  }
 ],
 "metadata": {
  "kernelspec": {
   "display_name": "Python 3",
   "language": "python",
   "name": "python3"
  },
  "language_info": {
   "codemirror_mode": {
    "name": "ipython",
    "version": 3
   },
   "file_extension": ".py",
   "mimetype": "text/x-python",
   "name": "python",
   "nbconvert_exporter": "python",
   "pygments_lexer": "ipython3",
   "version": "3.8.8"
  }
 },
 "nbformat": 4,
 "nbformat_minor": 5
}
