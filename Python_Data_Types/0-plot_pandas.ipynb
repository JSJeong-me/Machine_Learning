{
  "cells": [
    {
      "cell_type": "markdown",
      "metadata": {
        "id": "view-in-github",
        "colab_type": "text"
      },
      "source": [
        "<a href=\"https://colab.research.google.com/github/JSJeong-me/Machine_Learning/blob/main/Python_Data_Types/0-plot_pandas.ipynb\" target=\"_parent\"><img src=\"https://colab.research.google.com/assets/colab-badge.svg\" alt=\"Open In Colab\"/></a>"
      ]
    },
    {
      "cell_type": "markdown",
      "metadata": {
        "id": "yh7xjNHNt4UD"
      },
      "source": [
        "# ___How to plot a histogram in Python (using pandas)___\n",
        "_Find the tutorial article here: https://data36.com/plot-histogram-python-pandas_"
      ]
    },
    {
      "cell_type": "markdown",
      "metadata": {
        "id": "8pOO9zRnt4UE"
      },
      "source": [
        "## Step #1: Import pandas and numpy!"
      ]
    },
    {
      "cell_type": "code",
      "execution_count": null,
      "metadata": {
        "id": "ywjWx4iDt4UF"
      },
      "outputs": [],
      "source": [
        "import numpy as np\n",
        "import pandas as pd\n",
        "%matplotlib inline"
      ]
    },
    {
      "cell_type": "markdown",
      "metadata": {
        "id": "c8VnYTGlt4UG"
      },
      "source": [
        "## Step #2: Get the data!"
      ]
    },
    {
      "cell_type": "code",
      "execution_count": null,
      "metadata": {
        "id": "rBOy0QGet4UG"
      },
      "outputs": [],
      "source": [
        "mu = 168 #mean\n",
        "sigma = 5 #stddev\n",
        "sample = 250\n",
        "np.random.seed(0)\n",
        "height_f = np.random.normal(mu, sigma, sample).astype(int)\n",
        "\n",
        "mu = 176 #mean\n",
        "sigma = 6 #stddev\n",
        "sample = 250\n",
        "np.random.seed(1)\n",
        "height_m = np.random.normal(mu, sigma, sample).astype(int)"
      ]
    },
    {
      "cell_type": "code",
      "source": [
        "len(height_m)"
      ],
      "metadata": {
        "id": "XX8oi4jTu2bE"
      },
      "execution_count": null,
      "outputs": []
    },
    {
      "cell_type": "code",
      "execution_count": null,
      "metadata": {
        "id": "1c5JbeHEt4UG"
      },
      "outputs": [],
      "source": [
        "height_f"
      ]
    },
    {
      "cell_type": "markdown",
      "metadata": {
        "id": "HUEC_U5Jt4UH"
      },
      "source": [
        "## Step #3: Prepare the data!"
      ]
    },
    {
      "cell_type": "code",
      "execution_count": null,
      "metadata": {
        "id": "imUyAcIHt4UH"
      },
      "outputs": [],
      "source": [
        "gym = pd.DataFrame({'height_f': height_f, 'height_m': height_m})"
      ]
    },
    {
      "cell_type": "code",
      "source": [
        "type(gym)"
      ],
      "metadata": {
        "id": "WaktJ_QDvA2F"
      },
      "execution_count": null,
      "outputs": []
    },
    {
      "cell_type": "code",
      "source": [
        "gym.shape"
      ],
      "metadata": {
        "id": "W92tqhv6vvse"
      },
      "execution_count": null,
      "outputs": []
    },
    {
      "cell_type": "code",
      "source": [
        "gym.iloc[:,0]"
      ],
      "metadata": {
        "id": "ea3ag5civDP8"
      },
      "execution_count": null,
      "outputs": []
    },
    {
      "cell_type": "code",
      "source": [
        "gym.loc[:, \"height_f\"]"
      ],
      "metadata": {
        "id": "eguVJfA0vnpm"
      },
      "execution_count": null,
      "outputs": []
    },
    {
      "cell_type": "markdown",
      "metadata": {
        "id": "5gMGFQqXt4UI"
      },
      "source": [
        "## [OPTIONAL] Basics: Plotting in Python using pandas"
      ]
    },
    {
      "cell_type": "markdown",
      "metadata": {
        "id": "6QXTvCCpt4UI"
      },
      "source": [
        "### _Messy line chart_"
      ]
    },
    {
      "cell_type": "code",
      "execution_count": null,
      "metadata": {
        "id": "P-Is8_S2t4UI"
      },
      "outputs": [],
      "source": [
        "gym.plot()"
      ]
    },
    {
      "cell_type": "markdown",
      "metadata": {
        "id": "SzLXLBGSt4UJ"
      },
      "source": [
        "### _Nicer line chart_"
      ]
    },
    {
      "cell_type": "code",
      "source": [
        "gym.groupby('height_m').count().plot()"
      ],
      "metadata": {
        "id": "DZkG4OK8v2jU"
      },
      "execution_count": null,
      "outputs": []
    },
    {
      "cell_type": "code",
      "execution_count": null,
      "metadata": {
        "id": "-ZG4-yI4t4UJ"
      },
      "outputs": [],
      "source": [
        "gym.groupby('height_f').count().plot()"
      ]
    },
    {
      "cell_type": "markdown",
      "metadata": {
        "id": "RXgCHCeFt4UJ"
      },
      "source": [
        "### _Bar charts_"
      ]
    },
    {
      "cell_type": "code",
      "execution_count": null,
      "metadata": {
        "id": "j83Bbq1st4UJ"
      },
      "outputs": [],
      "source": [
        "gym.groupby('height_m').count().plot.bar()"
      ]
    },
    {
      "cell_type": "code",
      "execution_count": null,
      "metadata": {
        "id": "f_3zcdULt4UK"
      },
      "outputs": [],
      "source": [
        "gym.groupby('height_f').count().plot.bar()"
      ]
    },
    {
      "cell_type": "markdown",
      "metadata": {
        "id": "er643pC8t4UK"
      },
      "source": [
        "## Step #4: Plot a histogram in Python!"
      ]
    },
    {
      "cell_type": "code",
      "execution_count": null,
      "metadata": {
        "id": "YlqxeTOZt4UK"
      },
      "outputs": [],
      "source": [
        "gym.hist()"
      ]
    },
    {
      "cell_type": "code",
      "execution_count": null,
      "metadata": {
        "id": "Sw3JBBzQt4UK"
      },
      "outputs": [],
      "source": [
        "gym.hist(bins=20)"
      ]
    },
    {
      "cell_type": "markdown",
      "metadata": {
        "id": "3iMjFOFZt4UL"
      },
      "source": [
        "## Bonus: Plot your histograms on the same chart!"
      ]
    },
    {
      "cell_type": "code",
      "execution_count": null,
      "metadata": {
        "id": "ie57gb22t4UL"
      },
      "outputs": [],
      "source": [
        "gym.plot.hist(bins=20)"
      ]
    },
    {
      "cell_type": "code",
      "execution_count": null,
      "metadata": {
        "id": "1X_IC6_et4UL"
      },
      "outputs": [],
      "source": [
        "gym.plot.hist(bins=20, alpha=0.7)"
      ]
    }
  ],
  "metadata": {
    "kernelspec": {
      "display_name": "Python 3",
      "language": "python",
      "name": "python3"
    },
    "language_info": {
      "codemirror_mode": {
        "name": "ipython",
        "version": 3
      },
      "file_extension": ".py",
      "mimetype": "text/x-python",
      "name": "python",
      "nbconvert_exporter": "python",
      "pygments_lexer": "ipython3",
      "version": "3.7.6"
    },
    "colab": {
      "name": "plot-histogram-python-pandas.ipynb",
      "provenance": [],
      "include_colab_link": true
    }
  },
  "nbformat": 4,
  "nbformat_minor": 0
}