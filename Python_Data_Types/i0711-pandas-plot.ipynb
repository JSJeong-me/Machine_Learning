{
  "nbformat": 4,
  "nbformat_minor": 0,
  "metadata": {
    "colab": {
      "name": "Untitled25.ipynb",
      "provenance": [],
      "authorship_tag": "ABX9TyOULyI+FpARUdb/IoGhkP5T",
      "include_colab_link": true
    },
    "kernelspec": {
      "name": "python3",
      "display_name": "Python 3"
    },
    "language_info": {
      "name": "python"
    }
  },
  "cells": [
    {
      "cell_type": "markdown",
      "metadata": {
        "id": "view-in-github",
        "colab_type": "text"
      },
      "source": [
        "<a href=\"https://colab.research.google.com/github/JSJeong-me/Machine_Learning/blob/main/Python_Data_Types/i0711-pandas-plot.ipynb\" target=\"_parent\"><img src=\"https://colab.research.google.com/assets/colab-badge.svg\" alt=\"Open In Colab\"/></a>"
      ]
    },
    {
      "cell_type": "code",
      "execution_count": null,
      "metadata": {
        "id": "badNoAPTM8o2"
      },
      "outputs": [],
      "source": [
        "import numpy as np\n",
        "import pandas as pd"
      ]
    },
    {
      "cell_type": "code",
      "source": [
        "mu = 168 #mean\n",
        "sigma = 5 #stddev\n",
        "sample = 250\n",
        "np.random.seed(0)\n",
        "height_f = np.random.normal(mu, sigma, sample).astype(int)"
      ],
      "metadata": {
        "id": "PQ_KZ_0pNpA-"
      },
      "execution_count": null,
      "outputs": []
    },
    {
      "cell_type": "code",
      "source": [
        "height_f"
      ],
      "metadata": {
        "id": "xyC_-NCYOc3r"
      },
      "execution_count": null,
      "outputs": []
    },
    {
      "cell_type": "code",
      "source": [
        "mu = 176 #mean\n",
        "sigma = 6 #stddev\n",
        "sample = 250\n",
        "np.random.seed(1)\n",
        "height_m = np.random.normal(mu, sigma, sample).astype(int)"
      ],
      "metadata": {
        "id": "6X_VfY1-Nm4u"
      },
      "execution_count": null,
      "outputs": []
    },
    {
      "cell_type": "code",
      "source": [
        "height_m"
      ],
      "metadata": {
        "id": "w-JPTyD1OjIe"
      },
      "execution_count": null,
      "outputs": []
    },
    {
      "cell_type": "code",
      "source": [
        "gym = pd.DataFrame({'height_m': height_m, 'height_f': height_f})"
      ],
      "metadata": {
        "id": "Hve0atKNOmbZ"
      },
      "execution_count": null,
      "outputs": []
    },
    {
      "cell_type": "code",
      "source": [
        "gym.head()"
      ],
      "metadata": {
        "id": "4fIVGoBePI1o"
      },
      "execution_count": null,
      "outputs": []
    },
    {
      "cell_type": "code",
      "source": [
        "gym.plot()"
      ],
      "metadata": {
        "id": "cLQAmBXJPTwp"
      },
      "execution_count": null,
      "outputs": []
    },
    {
      "cell_type": "code",
      "source": [
        "gym.hist()"
      ],
      "metadata": {
        "id": "PcMWzdLhQGdB"
      },
      "execution_count": null,
      "outputs": []
    },
    {
      "cell_type": "code",
      "source": [
        "gym.groupby('height_f').count().plot()"
      ],
      "metadata": {
        "id": "C2J4qT3uQN-Q"
      },
      "execution_count": null,
      "outputs": []
    },
    {
      "cell_type": "code",
      "source": [
        "gym.groupby('height_m').count().hist()"
      ],
      "metadata": {
        "id": "NQ8bnkeHQm6o"
      },
      "execution_count": null,
      "outputs": []
    },
    {
      "cell_type": "code",
      "source": [
        "gym.groupby('height_f').count().plot.bar()"
      ],
      "metadata": {
        "id": "wn5TI68LQ3Xf"
      },
      "execution_count": null,
      "outputs": []
    },
    {
      "cell_type": "code",
      "source": [
        "gym.groupby('height_m').count().plot.bar()"
      ],
      "metadata": {
        "id": "JQZCCu_cS5v_"
      },
      "execution_count": null,
      "outputs": []
    },
    {
      "cell_type": "code",
      "source": [
        "gym.groupby('height_m').count().plot.bar()"
      ],
      "metadata": {
        "id": "H9BjR6GoRj-e"
      },
      "execution_count": null,
      "outputs": []
    },
    {
      "cell_type": "code",
      "source": [
        "gym.hist(bins=30)"
      ],
      "metadata": {
        "id": "ceOrQfI7RUG_"
      },
      "execution_count": null,
      "outputs": []
    },
    {
      "cell_type": "code",
      "source": [
        "gym.hist()"
      ],
      "metadata": {
        "id": "hXnde4XMR6_H"
      },
      "execution_count": null,
      "outputs": []
    },
    {
      "cell_type": "code",
      "source": [
        "gym.plot.hist(bins=30, alpha=0.7)"
      ],
      "metadata": {
        "id": "pmv_77AeThNr"
      },
      "execution_count": null,
      "outputs": []
    },
    {
      "cell_type": "code",
      "source": [
        "gym.plot.hist(bins=30)"
      ],
      "metadata": {
        "id": "RYBXwTglT1zE"
      },
      "execution_count": null,
      "outputs": []
    },
    {
      "cell_type": "code",
      "source": [
        ""
      ],
      "metadata": {
        "id": "GTdtVSMxTnK8"
      },
      "execution_count": null,
      "outputs": []
    }
  ]
}