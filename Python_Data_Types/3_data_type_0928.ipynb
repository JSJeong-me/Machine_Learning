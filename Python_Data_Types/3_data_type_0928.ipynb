{
  "nbformat": 4,
  "nbformat_minor": 0,
  "metadata": {
    "colab": {
      "name": "Untitled24.ipynb",
      "provenance": [],
      "authorship_tag": "ABX9TyOQD6eBQJlsH417lUgPxsUX",
      "include_colab_link": true
    },
    "kernelspec": {
      "name": "python3",
      "display_name": "Python 3"
    },
    "language_info": {
      "name": "python"
    }
  },
  "cells": [
    {
      "cell_type": "markdown",
      "metadata": {
        "id": "view-in-github",
        "colab_type": "text"
      },
      "source": [
        "<a href=\"https://colab.research.google.com/github/JSJeong-me/Machine_Learning/blob/main/Python_Data_Types/3_data_type_0928.ipynb\" target=\"_parent\"><img src=\"https://colab.research.google.com/assets/colab-badge.svg\" alt=\"Open In Colab\"/></a>"
      ]
    },
    {
      "cell_type": "markdown",
      "source": [
        "### Python Collections (Arrays)\n",
        "There are four collection data types in the Python programming language:\n",
        "\n",
        "### List is a collection which is ordered and changeable. Allows duplicate members.\n",
        "### Tuple is a collection which is ordered and unchangeable. Allows duplicate members.\n",
        "### Set is a collection which is unordered, unchangeable*, and unindexed. No duplicate members.\n",
        "### Dictionary is a collection which is ordered** and changeable. No duplicate members."
      ],
      "metadata": {
        "id": "jm2XaH4ARW-N"
      }
    },
    {
      "cell_type": "markdown",
      "source": [
        "![python-data-structures-1024x407.webp](data:image/webp;base64,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)"
      ],
      "metadata": {
        "id": "wrlg911WtHCZ"
      }
    },
    {
      "cell_type": "code",
      "source": [
        "var = ('apple', 'banana', 'cherry')"
      ],
      "metadata": {
        "id": "XKtI44q64rA_"
      },
      "execution_count": 1,
      "outputs": []
    },
    {
      "cell_type": "code",
      "source": [
        "type(var)"
      ],
      "metadata": {
        "id": "94GCG64b4q-L",
        "outputId": "848dd8cd-8ab5-454d-995f-1aee93b94696",
        "colab": {
          "base_uri": "https://localhost:8080/"
        }
      },
      "execution_count": 2,
      "outputs": [
        {
          "output_type": "execute_result",
          "data": {
            "text/plain": [
              "tuple"
            ]
          },
          "metadata": {},
          "execution_count": 2
        }
      ]
    },
    {
      "cell_type": "code",
      "source": [
        "x1, y1, z1 = var"
      ],
      "metadata": {
        "id": "GwV7ctHX4q7Q"
      },
      "execution_count": 6,
      "outputs": []
    },
    {
      "cell_type": "code",
      "source": [
        "list_var = list(var)"
      ],
      "metadata": {
        "id": "T87Csw_A4q4r"
      },
      "execution_count": 13,
      "outputs": []
    },
    {
      "cell_type": "code",
      "source": [
        "type(list_var)"
      ],
      "metadata": {
        "id": "qdORDrFA53no",
        "outputId": "645dd897-eabc-4ebd-b92c-c9b6fa0d461d",
        "colab": {
          "base_uri": "https://localhost:8080/"
        }
      },
      "execution_count": 18,
      "outputs": [
        {
          "output_type": "execute_result",
          "data": {
            "text/plain": [
              "list"
            ]
          },
          "metadata": {},
          "execution_count": 18
        }
      ]
    },
    {
      "cell_type": "code",
      "source": [
        "list_var = list(('apple', 'banana', 'cherry'))"
      ],
      "metadata": {
        "id": "DTHeFEZu4q2G"
      },
      "execution_count": 15,
      "outputs": []
    },
    {
      "cell_type": "code",
      "source": [
        "list_var = ['apple', 'banana', 'cherry']"
      ],
      "metadata": {
        "id": "HKu60b2A4qzb"
      },
      "execution_count": 17,
      "outputs": []
    },
    {
      "cell_type": "code",
      "source": [
        "list_var.append('melon')"
      ],
      "metadata": {
        "id": "GybGRCbe4qwu"
      },
      "execution_count": 19,
      "outputs": []
    },
    {
      "cell_type": "code",
      "source": [
        "list_var.append('banana')"
      ],
      "metadata": {
        "id": "7JVzTirj4quA"
      },
      "execution_count": 21,
      "outputs": []
    },
    {
      "cell_type": "code",
      "source": [
        "list_var.append(var)"
      ],
      "metadata": {
        "id": "qVCYkU7q4qrk"
      },
      "execution_count": 23,
      "outputs": []
    },
    {
      "cell_type": "code",
      "source": [
        "list_var.pop()"
      ],
      "metadata": {
        "id": "RYEmRMi44qow",
        "outputId": "fea6e5a5-b6b3-4c16-87ad-6ffa5ea32ac9",
        "colab": {
          "base_uri": "https://localhost:8080/"
        }
      },
      "execution_count": 27,
      "outputs": [
        {
          "output_type": "execute_result",
          "data": {
            "text/plain": [
              "('apple', 'banana', 'cherry')"
            ]
          },
          "metadata": {},
          "execution_count": 27
        }
      ]
    },
    {
      "cell_type": "code",
      "source": [
        "list_var"
      ],
      "metadata": {
        "id": "o3gsxtYm4ql7",
        "outputId": "39282051-7ce4-4fd6-c79f-371aac531c24",
        "colab": {
          "base_uri": "https://localhost:8080/"
        }
      },
      "execution_count": 28,
      "outputs": [
        {
          "output_type": "execute_result",
          "data": {
            "text/plain": [
              "['apple', 'banana', 'cherry', 'melon', 'banana']"
            ]
          },
          "metadata": {},
          "execution_count": 28
        }
      ]
    },
    {
      "cell_type": "code",
      "source": [
        "set_var = set(('apple', 'banana', 'cherry'))"
      ],
      "metadata": {
        "id": "lb-XGaQk4qjI"
      },
      "execution_count": 29,
      "outputs": []
    },
    {
      "cell_type": "code",
      "source": [
        "set_var = {'apple', 'banana', 'cherry'}"
      ],
      "metadata": {
        "id": "DlaM_sgi4qgN"
      },
      "execution_count": 32,
      "outputs": []
    },
    {
      "cell_type": "code",
      "source": [
        "type(set_var)"
      ],
      "metadata": {
        "id": "2OBkQEm74qdX",
        "outputId": "87aba5f5-f7cd-4363-e829-1e707959ed3c",
        "colab": {
          "base_uri": "https://localhost:8080/"
        }
      },
      "execution_count": 33,
      "outputs": [
        {
          "output_type": "execute_result",
          "data": {
            "text/plain": [
              "set"
            ]
          },
          "metadata": {},
          "execution_count": 33
        }
      ]
    },
    {
      "cell_type": "code",
      "source": [
        "set_var.add('melon')"
      ],
      "metadata": {
        "id": "3s_yjeie4qZv"
      },
      "execution_count": 36,
      "outputs": []
    },
    {
      "cell_type": "code",
      "source": [
        "set_var"
      ],
      "metadata": {
        "id": "24xah7SC4qWu",
        "outputId": "031a1f95-bbab-43bf-b09a-cd7f56eb6793",
        "colab": {
          "base_uri": "https://localhost:8080/"
        }
      },
      "execution_count": 37,
      "outputs": [
        {
          "output_type": "execute_result",
          "data": {
            "text/plain": [
              "{'apple', 'banana', 'cherry', 'melon'}"
            ]
          },
          "metadata": {},
          "execution_count": 37
        }
      ]
    },
    {
      "cell_type": "code",
      "source": [
        "my_list = [100, 200, 300, 400, 500]"
      ],
      "metadata": {
        "id": "XFbdtU3w7MSP"
      },
      "execution_count": 38,
      "outputs": []
    },
    {
      "cell_type": "code",
      "source": [
        "my_list.append(300)"
      ],
      "metadata": {
        "id": "7S2DHqtP7MPi"
      },
      "execution_count": 40,
      "outputs": []
    },
    {
      "cell_type": "code",
      "source": [
        "my_list"
      ],
      "metadata": {
        "id": "Y9orR1cl7MMQ",
        "outputId": "1182cfcb-7b0f-4039-f4d4-a3e1c0559cc1",
        "colab": {
          "base_uri": "https://localhost:8080/"
        }
      },
      "execution_count": 41,
      "outputs": [
        {
          "output_type": "execute_result",
          "data": {
            "text/plain": [
              "[100, 200, 300, 400, 500, 300]"
            ]
          },
          "metadata": {},
          "execution_count": 41
        }
      ]
    },
    {
      "cell_type": "code",
      "source": [
        "set_num = set(my_list)"
      ],
      "metadata": {
        "id": "YrvJqFES7MJr"
      },
      "execution_count": 42,
      "outputs": []
    },
    {
      "cell_type": "code",
      "source": [
        "set_num "
      ],
      "metadata": {
        "id": "WWTFByM47MGh",
        "outputId": "10a16857-c6db-4a87-bf35-6ed06d832ca1",
        "colab": {
          "base_uri": "https://localhost:8080/"
        }
      },
      "execution_count": 43,
      "outputs": [
        {
          "output_type": "execute_result",
          "data": {
            "text/plain": [
              "{100, 200, 300, 400, 500}"
            ]
          },
          "metadata": {},
          "execution_count": 43
        }
      ]
    },
    {
      "cell_type": "code",
      "source": [
        "again_list = list(set_num)"
      ],
      "metadata": {
        "id": "hFIwarLO7MDn"
      },
      "execution_count": 44,
      "outputs": []
    },
    {
      "cell_type": "code",
      "source": [
        "again_list"
      ],
      "metadata": {
        "id": "3CIejUbw7MBF",
        "outputId": "86c5e177-7d71-4e2f-ac38-0cebd5908822",
        "colab": {
          "base_uri": "https://localhost:8080/"
        }
      },
      "execution_count": 45,
      "outputs": [
        {
          "output_type": "execute_result",
          "data": {
            "text/plain": [
              "[100, 200, 300, 400, 500]"
            ]
          },
          "metadata": {},
          "execution_count": 45
        }
      ]
    },
    {
      "cell_type": "code",
      "source": [
        "img = (640, 480, 3)"
      ],
      "metadata": {
        "id": "HMbPDg7Q7L-A"
      },
      "execution_count": 46,
      "outputs": []
    },
    {
      "cell_type": "code",
      "source": [
        "type(img)"
      ],
      "metadata": {
        "id": "fbvo663L7L6t",
        "outputId": "dfc36b32-e092-4265-cf44-5f220dc1ba01",
        "colab": {
          "base_uri": "https://localhost:8080/"
        }
      },
      "execution_count": 47,
      "outputs": [
        {
          "output_type": "execute_result",
          "data": {
            "text/plain": [
              "tuple"
            ]
          },
          "metadata": {},
          "execution_count": 47
        }
      ]
    },
    {
      "cell_type": "code",
      "source": [
        "width, height, rgb = img"
      ],
      "metadata": {
        "id": "nMjUIyHf7L3R"
      },
      "execution_count": 48,
      "outputs": []
    },
    {
      "cell_type": "code",
      "source": [
        "rgb"
      ],
      "metadata": {
        "id": "vb_3xxQ4tkQR",
        "outputId": "288b49dd-2f9f-44ef-a2ee-a03403cb28a6",
        "colab": {
          "base_uri": "https://localhost:8080/"
        }
      },
      "execution_count": 51,
      "outputs": [
        {
          "output_type": "execute_result",
          "data": {
            "text/plain": [
              "3"
            ]
          },
          "metadata": {},
          "execution_count": 51
        }
      ]
    },
    {
      "cell_type": "code",
      "source": [
        "hsv = (3,)"
      ],
      "metadata": {
        "id": "23fH7qpb9OJI"
      },
      "execution_count": 56,
      "outputs": []
    },
    {
      "cell_type": "code",
      "source": [
        "type(hsv)"
      ],
      "metadata": {
        "id": "UQH3dUYZ9OGi",
        "outputId": "6fa9daa0-42f0-4ffb-f979-01d28d74a108",
        "colab": {
          "base_uri": "https://localhost:8080/"
        }
      },
      "execution_count": 57,
      "outputs": [
        {
          "output_type": "execute_result",
          "data": {
            "text/plain": [
              "tuple"
            ]
          },
          "metadata": {},
          "execution_count": 57
        }
      ]
    },
    {
      "cell_type": "code",
      "source": [
        "score = [[77, 66, 55], [45, 55, 65], [87, 99, 88]]"
      ],
      "metadata": {
        "id": "TzRGM9j_9-nD"
      },
      "execution_count": 59,
      "outputs": []
    },
    {
      "cell_type": "code",
      "source": [
        "import numpy as np"
      ],
      "metadata": {
        "id": "VonC07nX9ODv"
      },
      "execution_count": 58,
      "outputs": []
    },
    {
      "cell_type": "code",
      "source": [
        "score_arr = np.array(score)"
      ],
      "metadata": {
        "id": "xmfHAXAa9OBT"
      },
      "execution_count": 60,
      "outputs": []
    },
    {
      "cell_type": "code",
      "source": [
        "type(score_arr)"
      ],
      "metadata": {
        "id": "fuOk62k89N-t",
        "outputId": "84086788-f12a-4189-89b9-3bbdf13d58b4",
        "colab": {
          "base_uri": "https://localhost:8080/"
        }
      },
      "execution_count": 61,
      "outputs": [
        {
          "output_type": "execute_result",
          "data": {
            "text/plain": [
              "numpy.ndarray"
            ]
          },
          "metadata": {},
          "execution_count": 61
        }
      ]
    },
    {
      "cell_type": "code",
      "source": [
        "score"
      ],
      "metadata": {
        "id": "KOUpvxx39-Pa",
        "outputId": "4991640d-43cf-4ee8-9655-925e5c6ce660",
        "colab": {
          "base_uri": "https://localhost:8080/"
        }
      },
      "execution_count": 62,
      "outputs": [
        {
          "output_type": "execute_result",
          "data": {
            "text/plain": [
              "[[77, 66, 55], [45, 55, 65], [87, 99, 88]]"
            ]
          },
          "metadata": {},
          "execution_count": 62
        }
      ]
    },
    {
      "cell_type": "code",
      "source": [
        "score_arr"
      ],
      "metadata": {
        "id": "aw0YqXLE9-M6",
        "outputId": "96039987-cf37-47fc-cc96-2d8864b28fdd",
        "colab": {
          "base_uri": "https://localhost:8080/"
        }
      },
      "execution_count": 63,
      "outputs": [
        {
          "output_type": "execute_result",
          "data": {
            "text/plain": [
              "array([[77, 66, 55],\n",
              "       [45, 55, 65],\n",
              "       [87, 99, 88]])"
            ]
          },
          "metadata": {},
          "execution_count": 63
        }
      ]
    },
    {
      "cell_type": "code",
      "source": [
        "score[0][-1]"
      ],
      "metadata": {
        "id": "SxXoqs_g9-J4",
        "outputId": "8c6fe883-a3cb-4a60-ef3a-ba1fa50c8e04",
        "colab": {
          "base_uri": "https://localhost:8080/"
        }
      },
      "execution_count": 64,
      "outputs": [
        {
          "output_type": "execute_result",
          "data": {
            "text/plain": [
              "55"
            ]
          },
          "metadata": {},
          "execution_count": 64
        }
      ]
    },
    {
      "cell_type": "code",
      "source": [
        "score_arr[0, 2]"
      ],
      "metadata": {
        "id": "F23ZhXrZ9-G5",
        "outputId": "3a34772d-fd51-4e3a-f32f-72d920a497a6",
        "colab": {
          "base_uri": "https://localhost:8080/"
        }
      },
      "execution_count": 65,
      "outputs": [
        {
          "output_type": "execute_result",
          "data": {
            "text/plain": [
              "55"
            ]
          },
          "metadata": {},
          "execution_count": 65
        }
      ]
    },
    {
      "cell_type": "code",
      "source": [
        "score_arr.shape"
      ],
      "metadata": {
        "id": "sjvqNddD9-AY",
        "outputId": "99e7e345-9aaf-4728-9686-5acd5c6b8b20",
        "colab": {
          "base_uri": "https://localhost:8080/"
        }
      },
      "execution_count": 67,
      "outputs": [
        {
          "output_type": "execute_result",
          "data": {
            "text/plain": [
              "(3, 3)"
            ]
          },
          "metadata": {},
          "execution_count": 67
        }
      ]
    },
    {
      "cell_type": "code",
      "source": [
        "import pandas as pd"
      ],
      "metadata": {
        "id": "aBILycK2999j"
      },
      "execution_count": 68,
      "outputs": []
    },
    {
      "cell_type": "code",
      "source": [
        "col = ['Eng', 'Math', 'Sci']"
      ],
      "metadata": {
        "id": "_vB9WKRn_u7M"
      },
      "execution_count": 69,
      "outputs": []
    },
    {
      "cell_type": "code",
      "source": [
        "idx = ['1_class', '2_class', '3_class']"
      ],
      "metadata": {
        "id": "SAUWFeQO_7_j"
      },
      "execution_count": 70,
      "outputs": []
    },
    {
      "cell_type": "code",
      "source": [
        "df = pd.DataFrame(score_arr, index=idx, columns=col)"
      ],
      "metadata": {
        "id": "jRUbIniO9963"
      },
      "execution_count": 71,
      "outputs": []
    },
    {
      "cell_type": "code",
      "source": [
        "df"
      ],
      "metadata": {
        "id": "5rssT5WE994E",
        "outputId": "fc251858-0764-4a35-d15b-28d006e02f5c",
        "colab": {
          "base_uri": "https://localhost:8080/",
          "height": 143
        }
      },
      "execution_count": 72,
      "outputs": [
        {
          "output_type": "execute_result",
          "data": {
            "text/plain": [
              "         Eng  Math  Sci\n",
              "1_class   77    66   55\n",
              "2_class   45    55   65\n",
              "3_class   87    99   88"
            ],
            "text/html": [
              "\n",
              "  <div id=\"df-754f4dad-e397-42d7-8a57-dd35af372c05\">\n",
              "    <div class=\"colab-df-container\">\n",
              "      <div>\n",
              "<style scoped>\n",
              "    .dataframe tbody tr th:only-of-type {\n",
              "        vertical-align: middle;\n",
              "    }\n",
              "\n",
              "    .dataframe tbody tr th {\n",
              "        vertical-align: top;\n",
              "    }\n",
              "\n",
              "    .dataframe thead th {\n",
              "        text-align: right;\n",
              "    }\n",
              "</style>\n",
              "<table border=\"1\" class=\"dataframe\">\n",
              "  <thead>\n",
              "    <tr style=\"text-align: right;\">\n",
              "      <th></th>\n",
              "      <th>Eng</th>\n",
              "      <th>Math</th>\n",
              "      <th>Sci</th>\n",
              "    </tr>\n",
              "  </thead>\n",
              "  <tbody>\n",
              "    <tr>\n",
              "      <th>1_class</th>\n",
              "      <td>77</td>\n",
              "      <td>66</td>\n",
              "      <td>55</td>\n",
              "    </tr>\n",
              "    <tr>\n",
              "      <th>2_class</th>\n",
              "      <td>45</td>\n",
              "      <td>55</td>\n",
              "      <td>65</td>\n",
              "    </tr>\n",
              "    <tr>\n",
              "      <th>3_class</th>\n",
              "      <td>87</td>\n",
              "      <td>99</td>\n",
              "      <td>88</td>\n",
              "    </tr>\n",
              "  </tbody>\n",
              "</table>\n",
              "</div>\n",
              "      <button class=\"colab-df-convert\" onclick=\"convertToInteractive('df-754f4dad-e397-42d7-8a57-dd35af372c05')\"\n",
              "              title=\"Convert this dataframe to an interactive table.\"\n",
              "              style=\"display:none;\">\n",
              "        \n",
              "  <svg xmlns=\"http://www.w3.org/2000/svg\" height=\"24px\"viewBox=\"0 0 24 24\"\n",
              "       width=\"24px\">\n",
              "    <path d=\"M0 0h24v24H0V0z\" fill=\"none\"/>\n",
              "    <path d=\"M18.56 5.44l.94 2.06.94-2.06 2.06-.94-2.06-.94-.94-2.06-.94 2.06-2.06.94zm-11 1L8.5 8.5l.94-2.06 2.06-.94-2.06-.94L8.5 2.5l-.94 2.06-2.06.94zm10 10l.94 2.06.94-2.06 2.06-.94-2.06-.94-.94-2.06-.94 2.06-2.06.94z\"/><path d=\"M17.41 7.96l-1.37-1.37c-.4-.4-.92-.59-1.43-.59-.52 0-1.04.2-1.43.59L10.3 9.45l-7.72 7.72c-.78.78-.78 2.05 0 2.83L4 21.41c.39.39.9.59 1.41.59.51 0 1.02-.2 1.41-.59l7.78-7.78 2.81-2.81c.8-.78.8-2.07 0-2.86zM5.41 20L4 18.59l7.72-7.72 1.47 1.35L5.41 20z\"/>\n",
              "  </svg>\n",
              "      </button>\n",
              "      \n",
              "  <style>\n",
              "    .colab-df-container {\n",
              "      display:flex;\n",
              "      flex-wrap:wrap;\n",
              "      gap: 12px;\n",
              "    }\n",
              "\n",
              "    .colab-df-convert {\n",
              "      background-color: #E8F0FE;\n",
              "      border: none;\n",
              "      border-radius: 50%;\n",
              "      cursor: pointer;\n",
              "      display: none;\n",
              "      fill: #1967D2;\n",
              "      height: 32px;\n",
              "      padding: 0 0 0 0;\n",
              "      width: 32px;\n",
              "    }\n",
              "\n",
              "    .colab-df-convert:hover {\n",
              "      background-color: #E2EBFA;\n",
              "      box-shadow: 0px 1px 2px rgba(60, 64, 67, 0.3), 0px 1px 3px 1px rgba(60, 64, 67, 0.15);\n",
              "      fill: #174EA6;\n",
              "    }\n",
              "\n",
              "    [theme=dark] .colab-df-convert {\n",
              "      background-color: #3B4455;\n",
              "      fill: #D2E3FC;\n",
              "    }\n",
              "\n",
              "    [theme=dark] .colab-df-convert:hover {\n",
              "      background-color: #434B5C;\n",
              "      box-shadow: 0px 1px 3px 1px rgba(0, 0, 0, 0.15);\n",
              "      filter: drop-shadow(0px 1px 2px rgba(0, 0, 0, 0.3));\n",
              "      fill: #FFFFFF;\n",
              "    }\n",
              "  </style>\n",
              "\n",
              "      <script>\n",
              "        const buttonEl =\n",
              "          document.querySelector('#df-754f4dad-e397-42d7-8a57-dd35af372c05 button.colab-df-convert');\n",
              "        buttonEl.style.display =\n",
              "          google.colab.kernel.accessAllowed ? 'block' : 'none';\n",
              "\n",
              "        async function convertToInteractive(key) {\n",
              "          const element = document.querySelector('#df-754f4dad-e397-42d7-8a57-dd35af372c05');\n",
              "          const dataTable =\n",
              "            await google.colab.kernel.invokeFunction('convertToInteractive',\n",
              "                                                     [key], {});\n",
              "          if (!dataTable) return;\n",
              "\n",
              "          const docLinkHtml = 'Like what you see? Visit the ' +\n",
              "            '<a target=\"_blank\" href=https://colab.research.google.com/notebooks/data_table.ipynb>data table notebook</a>'\n",
              "            + ' to learn more about interactive tables.';\n",
              "          element.innerHTML = '';\n",
              "          dataTable['output_type'] = 'display_data';\n",
              "          await google.colab.output.renderOutput(dataTable, element);\n",
              "          const docLink = document.createElement('div');\n",
              "          docLink.innerHTML = docLinkHtml;\n",
              "          element.appendChild(docLink);\n",
              "        }\n",
              "      </script>\n",
              "    </div>\n",
              "  </div>\n",
              "  "
            ]
          },
          "metadata": {},
          "execution_count": 72
        }
      ]
    },
    {
      "cell_type": "code",
      "source": [
        "df['Sum'] = df['Eng'] + df['Math'] + df['Sci']"
      ],
      "metadata": {
        "id": "HZfP_q9M9N70"
      },
      "execution_count": 73,
      "outputs": []
    },
    {
      "cell_type": "code",
      "source": [
        "df"
      ],
      "metadata": {
        "id": "l3Xb4jxbAThD",
        "outputId": "51d7976d-bed6-4d75-bd87-cf1a97622005",
        "colab": {
          "base_uri": "https://localhost:8080/",
          "height": 143
        }
      },
      "execution_count": 74,
      "outputs": [
        {
          "output_type": "execute_result",
          "data": {
            "text/plain": [
              "         Eng  Math  Sci  Sum\n",
              "1_class   77    66   55  198\n",
              "2_class   45    55   65  165\n",
              "3_class   87    99   88  274"
            ],
            "text/html": [
              "\n",
              "  <div id=\"df-98b7de8b-19c9-40b5-ada4-46318c1c4f6e\">\n",
              "    <div class=\"colab-df-container\">\n",
              "      <div>\n",
              "<style scoped>\n",
              "    .dataframe tbody tr th:only-of-type {\n",
              "        vertical-align: middle;\n",
              "    }\n",
              "\n",
              "    .dataframe tbody tr th {\n",
              "        vertical-align: top;\n",
              "    }\n",
              "\n",
              "    .dataframe thead th {\n",
              "        text-align: right;\n",
              "    }\n",
              "</style>\n",
              "<table border=\"1\" class=\"dataframe\">\n",
              "  <thead>\n",
              "    <tr style=\"text-align: right;\">\n",
              "      <th></th>\n",
              "      <th>Eng</th>\n",
              "      <th>Math</th>\n",
              "      <th>Sci</th>\n",
              "      <th>Sum</th>\n",
              "    </tr>\n",
              "  </thead>\n",
              "  <tbody>\n",
              "    <tr>\n",
              "      <th>1_class</th>\n",
              "      <td>77</td>\n",
              "      <td>66</td>\n",
              "      <td>55</td>\n",
              "      <td>198</td>\n",
              "    </tr>\n",
              "    <tr>\n",
              "      <th>2_class</th>\n",
              "      <td>45</td>\n",
              "      <td>55</td>\n",
              "      <td>65</td>\n",
              "      <td>165</td>\n",
              "    </tr>\n",
              "    <tr>\n",
              "      <th>3_class</th>\n",
              "      <td>87</td>\n",
              "      <td>99</td>\n",
              "      <td>88</td>\n",
              "      <td>274</td>\n",
              "    </tr>\n",
              "  </tbody>\n",
              "</table>\n",
              "</div>\n",
              "      <button class=\"colab-df-convert\" onclick=\"convertToInteractive('df-98b7de8b-19c9-40b5-ada4-46318c1c4f6e')\"\n",
              "              title=\"Convert this dataframe to an interactive table.\"\n",
              "              style=\"display:none;\">\n",
              "        \n",
              "  <svg xmlns=\"http://www.w3.org/2000/svg\" height=\"24px\"viewBox=\"0 0 24 24\"\n",
              "       width=\"24px\">\n",
              "    <path d=\"M0 0h24v24H0V0z\" fill=\"none\"/>\n",
              "    <path d=\"M18.56 5.44l.94 2.06.94-2.06 2.06-.94-2.06-.94-.94-2.06-.94 2.06-2.06.94zm-11 1L8.5 8.5l.94-2.06 2.06-.94-2.06-.94L8.5 2.5l-.94 2.06-2.06.94zm10 10l.94 2.06.94-2.06 2.06-.94-2.06-.94-.94-2.06-.94 2.06-2.06.94z\"/><path d=\"M17.41 7.96l-1.37-1.37c-.4-.4-.92-.59-1.43-.59-.52 0-1.04.2-1.43.59L10.3 9.45l-7.72 7.72c-.78.78-.78 2.05 0 2.83L4 21.41c.39.39.9.59 1.41.59.51 0 1.02-.2 1.41-.59l7.78-7.78 2.81-2.81c.8-.78.8-2.07 0-2.86zM5.41 20L4 18.59l7.72-7.72 1.47 1.35L5.41 20z\"/>\n",
              "  </svg>\n",
              "      </button>\n",
              "      \n",
              "  <style>\n",
              "    .colab-df-container {\n",
              "      display:flex;\n",
              "      flex-wrap:wrap;\n",
              "      gap: 12px;\n",
              "    }\n",
              "\n",
              "    .colab-df-convert {\n",
              "      background-color: #E8F0FE;\n",
              "      border: none;\n",
              "      border-radius: 50%;\n",
              "      cursor: pointer;\n",
              "      display: none;\n",
              "      fill: #1967D2;\n",
              "      height: 32px;\n",
              "      padding: 0 0 0 0;\n",
              "      width: 32px;\n",
              "    }\n",
              "\n",
              "    .colab-df-convert:hover {\n",
              "      background-color: #E2EBFA;\n",
              "      box-shadow: 0px 1px 2px rgba(60, 64, 67, 0.3), 0px 1px 3px 1px rgba(60, 64, 67, 0.15);\n",
              "      fill: #174EA6;\n",
              "    }\n",
              "\n",
              "    [theme=dark] .colab-df-convert {\n",
              "      background-color: #3B4455;\n",
              "      fill: #D2E3FC;\n",
              "    }\n",
              "\n",
              "    [theme=dark] .colab-df-convert:hover {\n",
              "      background-color: #434B5C;\n",
              "      box-shadow: 0px 1px 3px 1px rgba(0, 0, 0, 0.15);\n",
              "      filter: drop-shadow(0px 1px 2px rgba(0, 0, 0, 0.3));\n",
              "      fill: #FFFFFF;\n",
              "    }\n",
              "  </style>\n",
              "\n",
              "      <script>\n",
              "        const buttonEl =\n",
              "          document.querySelector('#df-98b7de8b-19c9-40b5-ada4-46318c1c4f6e button.colab-df-convert');\n",
              "        buttonEl.style.display =\n",
              "          google.colab.kernel.accessAllowed ? 'block' : 'none';\n",
              "\n",
              "        async function convertToInteractive(key) {\n",
              "          const element = document.querySelector('#df-98b7de8b-19c9-40b5-ada4-46318c1c4f6e');\n",
              "          const dataTable =\n",
              "            await google.colab.kernel.invokeFunction('convertToInteractive',\n",
              "                                                     [key], {});\n",
              "          if (!dataTable) return;\n",
              "\n",
              "          const docLinkHtml = 'Like what you see? Visit the ' +\n",
              "            '<a target=\"_blank\" href=https://colab.research.google.com/notebooks/data_table.ipynb>data table notebook</a>'\n",
              "            + ' to learn more about interactive tables.';\n",
              "          element.innerHTML = '';\n",
              "          dataTable['output_type'] = 'display_data';\n",
              "          await google.colab.output.renderOutput(dataTable, element);\n",
              "          const docLink = document.createElement('div');\n",
              "          docLink.innerHTML = docLinkHtml;\n",
              "          element.appendChild(docLink);\n",
              "        }\n",
              "      </script>\n",
              "    </div>\n",
              "  </div>\n",
              "  "
            ]
          },
          "metadata": {},
          "execution_count": 74
        }
      ]
    },
    {
      "cell_type": "code",
      "source": [
        "df.drop('Sum', axis=1, inplace=True)"
      ],
      "metadata": {
        "id": "MeE0SULfATdg"
      },
      "execution_count": 76,
      "outputs": []
    },
    {
      "cell_type": "code",
      "source": [
        "df"
      ],
      "metadata": {
        "id": "rCrxdTnBATZ_",
        "outputId": "6354ec0f-edf6-4fcb-9f87-189ababdac25",
        "colab": {
          "base_uri": "https://localhost:8080/",
          "height": 143
        }
      },
      "execution_count": 77,
      "outputs": [
        {
          "output_type": "execute_result",
          "data": {
            "text/plain": [
              "         Eng  Math  Sci\n",
              "1_class   77    66   55\n",
              "2_class   45    55   65\n",
              "3_class   87    99   88"
            ],
            "text/html": [
              "\n",
              "  <div id=\"df-3714691a-32a1-4491-bd4a-bad9e47fe3d3\">\n",
              "    <div class=\"colab-df-container\">\n",
              "      <div>\n",
              "<style scoped>\n",
              "    .dataframe tbody tr th:only-of-type {\n",
              "        vertical-align: middle;\n",
              "    }\n",
              "\n",
              "    .dataframe tbody tr th {\n",
              "        vertical-align: top;\n",
              "    }\n",
              "\n",
              "    .dataframe thead th {\n",
              "        text-align: right;\n",
              "    }\n",
              "</style>\n",
              "<table border=\"1\" class=\"dataframe\">\n",
              "  <thead>\n",
              "    <tr style=\"text-align: right;\">\n",
              "      <th></th>\n",
              "      <th>Eng</th>\n",
              "      <th>Math</th>\n",
              "      <th>Sci</th>\n",
              "    </tr>\n",
              "  </thead>\n",
              "  <tbody>\n",
              "    <tr>\n",
              "      <th>1_class</th>\n",
              "      <td>77</td>\n",
              "      <td>66</td>\n",
              "      <td>55</td>\n",
              "    </tr>\n",
              "    <tr>\n",
              "      <th>2_class</th>\n",
              "      <td>45</td>\n",
              "      <td>55</td>\n",
              "      <td>65</td>\n",
              "    </tr>\n",
              "    <tr>\n",
              "      <th>3_class</th>\n",
              "      <td>87</td>\n",
              "      <td>99</td>\n",
              "      <td>88</td>\n",
              "    </tr>\n",
              "  </tbody>\n",
              "</table>\n",
              "</div>\n",
              "      <button class=\"colab-df-convert\" onclick=\"convertToInteractive('df-3714691a-32a1-4491-bd4a-bad9e47fe3d3')\"\n",
              "              title=\"Convert this dataframe to an interactive table.\"\n",
              "              style=\"display:none;\">\n",
              "        \n",
              "  <svg xmlns=\"http://www.w3.org/2000/svg\" height=\"24px\"viewBox=\"0 0 24 24\"\n",
              "       width=\"24px\">\n",
              "    <path d=\"M0 0h24v24H0V0z\" fill=\"none\"/>\n",
              "    <path d=\"M18.56 5.44l.94 2.06.94-2.06 2.06-.94-2.06-.94-.94-2.06-.94 2.06-2.06.94zm-11 1L8.5 8.5l.94-2.06 2.06-.94-2.06-.94L8.5 2.5l-.94 2.06-2.06.94zm10 10l.94 2.06.94-2.06 2.06-.94-2.06-.94-.94-2.06-.94 2.06-2.06.94z\"/><path d=\"M17.41 7.96l-1.37-1.37c-.4-.4-.92-.59-1.43-.59-.52 0-1.04.2-1.43.59L10.3 9.45l-7.72 7.72c-.78.78-.78 2.05 0 2.83L4 21.41c.39.39.9.59 1.41.59.51 0 1.02-.2 1.41-.59l7.78-7.78 2.81-2.81c.8-.78.8-2.07 0-2.86zM5.41 20L4 18.59l7.72-7.72 1.47 1.35L5.41 20z\"/>\n",
              "  </svg>\n",
              "      </button>\n",
              "      \n",
              "  <style>\n",
              "    .colab-df-container {\n",
              "      display:flex;\n",
              "      flex-wrap:wrap;\n",
              "      gap: 12px;\n",
              "    }\n",
              "\n",
              "    .colab-df-convert {\n",
              "      background-color: #E8F0FE;\n",
              "      border: none;\n",
              "      border-radius: 50%;\n",
              "      cursor: pointer;\n",
              "      display: none;\n",
              "      fill: #1967D2;\n",
              "      height: 32px;\n",
              "      padding: 0 0 0 0;\n",
              "      width: 32px;\n",
              "    }\n",
              "\n",
              "    .colab-df-convert:hover {\n",
              "      background-color: #E2EBFA;\n",
              "      box-shadow: 0px 1px 2px rgba(60, 64, 67, 0.3), 0px 1px 3px 1px rgba(60, 64, 67, 0.15);\n",
              "      fill: #174EA6;\n",
              "    }\n",
              "\n",
              "    [theme=dark] .colab-df-convert {\n",
              "      background-color: #3B4455;\n",
              "      fill: #D2E3FC;\n",
              "    }\n",
              "\n",
              "    [theme=dark] .colab-df-convert:hover {\n",
              "      background-color: #434B5C;\n",
              "      box-shadow: 0px 1px 3px 1px rgba(0, 0, 0, 0.15);\n",
              "      filter: drop-shadow(0px 1px 2px rgba(0, 0, 0, 0.3));\n",
              "      fill: #FFFFFF;\n",
              "    }\n",
              "  </style>\n",
              "\n",
              "      <script>\n",
              "        const buttonEl =\n",
              "          document.querySelector('#df-3714691a-32a1-4491-bd4a-bad9e47fe3d3 button.colab-df-convert');\n",
              "        buttonEl.style.display =\n",
              "          google.colab.kernel.accessAllowed ? 'block' : 'none';\n",
              "\n",
              "        async function convertToInteractive(key) {\n",
              "          const element = document.querySelector('#df-3714691a-32a1-4491-bd4a-bad9e47fe3d3');\n",
              "          const dataTable =\n",
              "            await google.colab.kernel.invokeFunction('convertToInteractive',\n",
              "                                                     [key], {});\n",
              "          if (!dataTable) return;\n",
              "\n",
              "          const docLinkHtml = 'Like what you see? Visit the ' +\n",
              "            '<a target=\"_blank\" href=https://colab.research.google.com/notebooks/data_table.ipynb>data table notebook</a>'\n",
              "            + ' to learn more about interactive tables.';\n",
              "          element.innerHTML = '';\n",
              "          dataTable['output_type'] = 'display_data';\n",
              "          await google.colab.output.renderOutput(dataTable, element);\n",
              "          const docLink = document.createElement('div');\n",
              "          docLink.innerHTML = docLinkHtml;\n",
              "          element.appendChild(docLink);\n",
              "        }\n",
              "      </script>\n",
              "    </div>\n",
              "  </div>\n",
              "  "
            ]
          },
          "metadata": {},
          "execution_count": 77
        }
      ]
    },
    {
      "cell_type": "code",
      "source": [
        "again_arr = df.values"
      ],
      "metadata": {
        "id": "D8irEaCMATW8"
      },
      "execution_count": 78,
      "outputs": []
    },
    {
      "cell_type": "code",
      "source": [
        "again_arr"
      ],
      "metadata": {
        "id": "35Aw3ruZATTU",
        "outputId": "38cffa39-cb18-4373-bfe0-002bfd7e6e68",
        "colab": {
          "base_uri": "https://localhost:8080/"
        }
      },
      "execution_count": 79,
      "outputs": [
        {
          "output_type": "execute_result",
          "data": {
            "text/plain": [
              "array([[77, 66, 55],\n",
              "       [45, 55, 65],\n",
              "       [87, 99, 88]])"
            ]
          },
          "metadata": {},
          "execution_count": 79
        }
      ]
    },
    {
      "cell_type": "code",
      "source": [
        "again_list = again_arr.tolist()"
      ],
      "metadata": {
        "id": "BCv9j5O6BbTW"
      },
      "execution_count": 80,
      "outputs": []
    },
    {
      "cell_type": "code",
      "source": [
        "again_list"
      ],
      "metadata": {
        "id": "GuLBn-YvBiL3",
        "outputId": "5cd38d52-4d61-484b-c2d2-f1c802c8a21a",
        "colab": {
          "base_uri": "https://localhost:8080/"
        }
      },
      "execution_count": 81,
      "outputs": [
        {
          "output_type": "execute_result",
          "data": {
            "text/plain": [
              "[[77, 66, 55], [45, 55, 65], [87, 99, 88]]"
            ]
          },
          "metadata": {},
          "execution_count": 81
        }
      ]
    },
    {
      "cell_type": "markdown",
      "source": [
        "set()\n",
        "집합 (set) 객체는 서로 다른 해시 가능 객체의 순서 없는 컬렉션입니다. 일반적인 용도는 멤버십 검사, 시퀀스에서 중복 제거와 교집합, 합집합, 차집합, 대칭 차집합과 같은 수학 연산을 계산하는 것입니다.\n",
        "다른 컬렉션과 마찬가지로, 집합은 x in set, len(set), for x in set 을 지원합니다. 순서가 없는 컬렉션이므로, 집합은 원소의 위치나 삽입 순서를 기록하지 않습니다. 따라서 집합은 인덱싱, 슬라이싱 또는 기타 시퀀스와 유사한 동작을 지원하지 않습니다."
      ],
      "metadata": {
        "id": "YfMDImLKt6AN"
      }
    },
    {
      "cell_type": "code",
      "source": [
        "# 세개 다 같은 집합을 만듭니다.\n",
        "s1 = set({1, 2, 3})\n",
        "s2 = set([1, 2, 3])\n",
        "s3 = {1, 2, 3}"
      ],
      "metadata": {
        "id": "H4mpSsMKtju7"
      },
      "execution_count": null,
      "outputs": []
    },
    {
      "cell_type": "code",
      "source": [
        "s1"
      ],
      "metadata": {
        "id": "48PKZFb1ulSU"
      },
      "execution_count": null,
      "outputs": []
    },
    {
      "cell_type": "code",
      "source": [
        "s3[0]  # 순서가 없기 때문에 리스트나 튜플에서 사용했던 인덱싱이 불가능 한 것 입니다.\n",
        "\n"
      ],
      "metadata": {
        "id": "rRFOiOYRtje9"
      },
      "execution_count": null,
      "outputs": []
    },
    {
      "cell_type": "code",
      "source": [
        "# 비어있는 집합을 만들기 위해서는 아래와 같이 사용합니다.\n",
        "s4 = set()"
      ],
      "metadata": {
        "id": "53RNbgrsugdA"
      },
      "execution_count": null,
      "outputs": []
    },
    {
      "cell_type": "markdown",
      "source": [
        "파이썬 교집합, 합집합, 차집합, 집합이 같은지, 다른지"
      ],
      "metadata": {
        "id": "uc6mhqvSvTcS"
      }
    },
    {
      "cell_type": "code",
      "source": [
        "# 교집합 : 교집합을 구할때는 \"intersection\" 이라는 메서드를 이용하거나 \"&\"를 이용하여 집합의 교집합을 구할 수 있습니다.\n",
        "\n",
        "s1 = set([1, 2, 3, 4, 5])\n",
        "s2 = set([4, 5, 6, 7, 8])\n",
        " \n",
        "# 교집합 메서드 intersection\n",
        "print(s1.intersection(s2))\n",
        " \n",
        "# 교집합 연산자 &\n",
        "print(s1 & s2)"
      ],
      "metadata": {
        "id": "JqTDqMwXvSV0"
      },
      "execution_count": null,
      "outputs": []
    },
    {
      "cell_type": "code",
      "source": [
        "# 합집합 : 합집합을 구할때는 \"union\" 이라는 메서드를 이용하거나 \"|\" 연산자를 이용하여 구할 수 있습니다.\n",
        "\n",
        "s1 = set([1, 2, 3, 4, 5])\n",
        "s2 = set([4, 5, 6, 7, 8])\n",
        " \n",
        "# 합집합 메서드 union\n",
        "print(s1.union(s2))\n",
        " \n",
        "# 합집합 연산자 |\n",
        "print(s1 | s2)"
      ],
      "metadata": {
        "id": "mtFpEynFvgCp"
      },
      "execution_count": null,
      "outputs": []
    },
    {
      "cell_type": "code",
      "source": [
        "# 차집합 : 순서가 바뀌어도 상관이 없는 교집합, 합집합과 달리 차집합은 순서가 상관이 있습니다.\n",
        "# 차집합을 구할때는 \"difference\" 메서드를 이용하거나 \"-\" 연산자를 이용해서 구할 수 있습니다.\n",
        "\n",
        "s1 = set([1, 2, 3, 4, 5])\n",
        "s2 = set([4, 5, 6, 7, 8])\n",
        " \n",
        "# 차집합 메서드 difference\n",
        "print(s1.difference(s2))\n",
        "print(s2.difference(s1))\n",
        " \n",
        "# 차집합 연산자 -\n",
        "print(s1 - s2)\n",
        "print(s2 - s1)\n"
      ],
      "metadata": {
        "id": "QDtv_fg5v55L"
      },
      "execution_count": null,
      "outputs": []
    },
    {
      "cell_type": "code",
      "source": [
        "# 집합이 같은지 : 집합은 순서가 상관이 없기 때문에 같은 요소만 들어있다면 같은 집합입니다.\n",
        "# 집합의 모든요소가 같을때'만' 집합이 같은것 입니다.\n",
        "\n",
        "s1 = set([1, 2, 3, 4, 5])\n",
        "s2 = set([4, 5, 6, 7, 8])\n",
        "s3 = {1, 2, 3, 4, 5}\n",
        " \n",
        "if s1 == s2:\n",
        "    print(\"s1과 s2은 같습니다.\")\n",
        "else:\n",
        "    print(\"s1과 s2은 다릅니다.\")\n",
        " \n",
        "if s1 == s3:\n",
        "    print(\"s1과 s3은 같습니다.\")\n",
        "else:\n",
        "    print(\"s1과 s3은 다릅니다.\")"
      ],
      "metadata": {
        "id": "u4KHDk3UwE9d"
      },
      "execution_count": null,
      "outputs": []
    },
    {
      "cell_type": "code",
      "source": [
        "# 집합이 아예 다른지 (같은요소가 없다) 집합이 다른것은 사실 요소가 하나라도 다르면 다른것 입니다. 그것에 대한검사는 != 으로 할수 있습니다.\n",
        "# 하지만, 여기서 확인하고 싶은것은 집합에서 공통된 부분이 하나도 없다.\n",
        "# 즉, 교집합이 없다.\n",
        "# 즉, 아예 모든 요소가 다 다르다. 그때 사용하는 메서드는 isdisjoint 입니다.\n",
        "\n",
        "\n",
        "s1 = set([1, 2, 3, 4, 5])\n",
        "s2 = set([4, 5, 6, 7, 8])\n",
        "s3 = {1, 2, 3, 4, 5}\n",
        "s4 = {6, 7, 8, 9, 10}\n",
        " \n",
        "if s1.isdisjoint(s2):\n",
        "    print(\"s1과 s2은 같은 요소가 하나도 없습니다.\")\n",
        "else:\n",
        "    print(\"s1과 s2은 같은 요소가 적어도 하나는 있습니다.\")\n",
        " \n",
        "if s1.isdisjoint(s3):\n",
        "    print(\"s1과 s3은 같은 요소가 하나도 없습니다.\")\n",
        "else:\n",
        "    print(\"s1과 s3은 같은 요소가 적어도 하나는 있습니다.\")\n",
        " \n",
        "if s1.isdisjoint(s4):\n",
        "    print(\"s1과 s4은 같은 요소가 하나도 없습니다.\")\n",
        "else:\n",
        "    print(\"s1과 s4은 같은 요소가 적어도 하나는 있습니다.\")"
      ],
      "metadata": {
        "id": "Z0_Q1ebkw1K7"
      },
      "execution_count": null,
      "outputs": []
    },
    {
      "cell_type": "code",
      "source": [],
      "metadata": {
        "id": "ntTE3YnGxP53"
      },
      "execution_count": null,
      "outputs": []
    },
    {
      "cell_type": "markdown",
      "source": [
        "튜플 (Tuple)\n",
        "Tuple은 리스트와 비슷하게 여러 요소들을 갖는 컬렉션이다. 리스트와 다른 점은 Tuple은 새로운 요소를 추가하거나 갱신, 삭제하는 일을 할 수 없다. 즉, Tuple은 한변 결정된 요소를 변경할 수 없는 Immutable 데이타 타입이다. 따라서, Tuple은 컬렉션이 항상 고정된 요소값을 갖기를 원하거나 변경되지 말아야 하는 경우에 사용하게 된다.\n",
        "\n",
        "튜플의 요소들은 둥근 괄호(...) 를 사용하여 컬렉션을 표현하는데, 각 요소들은 서로 다른 타입이 될 수 있으며, 컴마(,)로 구분한다. 요소가 없는 빈 튜플은 \"()\"와 같이 표현한다."
      ],
      "metadata": {
        "id": "vuagAeeUxrJq"
      }
    },
    {
      "cell_type": "code",
      "source": [
        "t = (\"AB\", 10, False)\n",
        "print(t)"
      ],
      "metadata": {
        "id": "ub9N6OjYxQvS"
      },
      "execution_count": null,
      "outputs": []
    },
    {
      "cell_type": "code",
      "source": [
        "type(t)"
      ],
      "metadata": {
        "id": "yFBLAL2PxwfI"
      },
      "execution_count": null,
      "outputs": []
    },
    {
      "cell_type": "markdown",
      "source": [
        "특히 요소가 하나일 경우에는 요소 뒤에 콤마를 붙여 명시적으로 Tuple임을 표시해야 한다. 아래 예제를 보면 첫번째 (123) 의 경우, 이는 산술식의 괄호로 인식하여 t1의 타입이 정수가 된다. 이러한 혼동을 방지하기 위해 t2 에서 처럼 (123,) 콤마를 붙여 명시적으로 Tuple임을 표시한다."
      ],
      "metadata": {
        "id": "Hsj8TnHOx9Zj"
      }
    },
    {
      "cell_type": "code",
      "source": [
        "t1 = (123)\n",
        "print(t1)  # int 타입\n",
        " \n",
        "t2 = (123,)\n",
        "print(t2)  # tuple 타입"
      ],
      "metadata": {
        "id": "xpR1bkEVxy-5"
      },
      "execution_count": null,
      "outputs": []
    },
    {
      "cell_type": "code",
      "source": [
        "type(t1)"
      ],
      "metadata": {
        "id": "Wuf6cAJWyCKU"
      },
      "execution_count": null,
      "outputs": []
    },
    {
      "cell_type": "markdown",
      "source": [
        "Tuple 인덱싱과 슬라이싱\n",
        "Tuple은 리스트와 마찬가지로 한 요소를 리턴하는 인덱싱과 특정 부분집합을 리턴하는 슬라이싱을 지원한다. 단, 요소값을 변경하거나 추가 혹은 삭제하는 일은 할 수 없다."
      ],
      "metadata": {
        "id": "c7DSAkdfyK1k"
      }
    },
    {
      "cell_type": "code",
      "source": [
        "t = (1, 5, 10)\n",
        " \n",
        "# 인덱스\n",
        "second = t[1]      # 5\n",
        "last = t[-1]       # 10\n",
        " \n",
        "# 슬라이스\n",
        "s = t[1:2]         # (5)\n",
        "s = t[1:]          # (5, 10)"
      ],
      "metadata": {
        "id": "XWu8GOY1yE3J"
      },
      "execution_count": null,
      "outputs": []
    },
    {
      "cell_type": "markdown",
      "source": [
        "Tuple 병합과 반복\n",
        "Tuple은 리스트와 마찬가지로 두 개의 튜플을 병합하기 위해 플러스(+)를 사용하고, 하나의 튜플을 N 번 반복하기 위해서는 \"튜플 * N\"와 같이 표현한다."
      ],
      "metadata": {
        "id": "MoHhIrp0yY_o"
      }
    },
    {
      "cell_type": "code",
      "source": [
        "# 병합\n",
        "a = (1, 2)\n",
        "b = (3, 4, 5)\n",
        "c = a + b\n",
        "print(c)   # (1, 2, 3, 4, 5)\n",
        " \n",
        "# 반복\n",
        "d = a * 3  # 혹은 \"d = 3 * a\" 도 동일\n",
        "print(d)   # (1, 2, 1, 2, 1, 2)"
      ],
      "metadata": {
        "id": "kxs-0VV0yaIk"
      },
      "execution_count": null,
      "outputs": []
    },
    {
      "cell_type": "code",
      "source": [
        "type(c)"
      ],
      "metadata": {
        "id": "viPOAbVFyjA-"
      },
      "execution_count": null,
      "outputs": []
    },
    {
      "cell_type": "markdown",
      "source": [
        "Tuple 변수 할당\n",
        "Tuple 데이타를 변수에 할당할 때, 각 요소를 각각 다른 변수에 할당할 수도 있다. 예를 들어, 아래 예제에서 첫번째 예의 name 변수는 튜플 전체를 할당받는 변수이지만, 두번째의 firstname, lastname 변수는 튜플에 있는 각 요소를 하나씩 할당받는 변수들이다."
      ],
      "metadata": {
        "id": "_VQkeraxzAkx"
      }
    },
    {
      "cell_type": "code",
      "source": [
        "name = (\"John\", \"Kim\")\n",
        "print(name)\n",
        "# 출력: ('John', 'Kim')\n",
        " \n",
        "firstname, lastname = (\"John\", \"Kim\")\n",
        "print(lastname, \",\", firstname)\n",
        "# 출력: Kim, John"
      ],
      "metadata": {
        "id": "cRUApWreykjB"
      },
      "execution_count": null,
      "outputs": []
    },
    {
      "cell_type": "markdown",
      "source": [
        "Dictionary (dict)\n",
        "Dictionary는 \"키(Key) - 값(Value)\" 쌍을 요소로 갖는 컬렉션이다. Dictionary는 흔히 Map 이라고도 불리우는데, 키(Key)로 신속하게 값(Value)을 찾아내는 해시테이블(Hash Table) 구조를 갖는다.\n",
        "\n",
        "파이썬에서 Dictionary는 \"dict\" 클래스로 구현되어 있다. Dictionary의 키(key)는 그 값을 변경할 수 없는 Immutable 타입이어야 하며, Dictionary 값(value)은 Immutable과 Mutable 모두 가능하다. 예를 들어, Dictionary의 키(key)로 문자열이나 Tuple은 사용될 수 있는 반면, 리스트는 키로 사용될 수 없다.\n",
        "\n",
        "Dictionary의 요소들은 Curly Brace \"{...}\" 를 사용하여 컬렉션을 표현하는데, 각 요소들은 \"Key:Value\"\" 쌍으로 되어 있으며, 요소간은 콤마로 구분한다. 요소가 없는 빈 Dictionary는 \"{}\"와 같이 표현한다. 특정 요소를 찾아 읽고 쓰기 위해서는 \"Dictionary변수[키]\"와 같이 키를 인덱스처럼 사용한다."
      ],
      "metadata": {
        "id": "6YcN4FkGznlE"
      }
    },
    {
      "cell_type": "code",
      "source": [
        "scores = {\"철수\": 90, \"민수\": 85, \"영희\": 80}\n",
        "v = scores[\"민수\"]   # 특정 요소 읽기\n",
        "scores[\"민수\"] = 88  # 쓰기\n",
        "print(scores)"
      ],
      "metadata": {
        "id": "JE5C9TI_zpG2"
      },
      "execution_count": null,
      "outputs": []
    },
    {
      "cell_type": "markdown",
      "source": [
        "파이썬의 Dictionary는 생성하기 위해 위의 예제와 같이 {...} 리터럴(Literal)을 사용할 수도 있지만, 또한 dict 클래스의 dict() 생성자를 사용할 수도 있다. dict() 생성자는 (아래 첫번째 예처럼) Key-Value 쌍을 갖는 Tuple 리스트를 받아들이거나 (두번째 예처럼) dict(key=value, key=value, ...) 식의 키-값을 직접 파라미터로 지정하는 방식을 사용할 수 있다."
      ],
      "metadata": {
        "id": "qtZRZ9ct0YEF"
      }
    },
    {
      "cell_type": "code",
      "source": [
        "# 1. Tuple List로부터 dict 생성\n",
        "persons = [('김기수', 30), ('홍대길', 35), ('강찬수', 25)]\n",
        "mydict = dict(persons)\n",
        " \n",
        "age = mydict[\"홍대길\"]\n",
        "print(age)   # 35\n",
        " \n",
        "# 2. Key=Value 파라미터로부터 dict 생성\n",
        "scores = dict(a=80, b=90, c=85)\n",
        "print(scores['b'])  #90"
      ],
      "metadata": {
        "id": "9JicAHTjz-h8"
      },
      "execution_count": null,
      "outputs": []
    },
    {
      "cell_type": "code",
      "source": [
        "type(persons)"
      ],
      "metadata": {
        "id": "1q1Hv0KUz_lw"
      },
      "execution_count": null,
      "outputs": []
    },
    {
      "cell_type": "markdown",
      "source": [
        "추가,수정,삭제,읽기\n",
        "Dictionary 요소를 수정하기 위해서는 \"Dictionary[키]=새값\"와 같이 해당 키 인덱스를 사용하여 새 값을 할당하면 된다. Dictionary에 새로운 요소를 추가하기 위해서는 수정 때와 마찬가지로 (\"맵[새키]=새값\") 새 키에 새 값을 할당한다. Dictionary 요소를 삭제하기 위해서는 \"del 요소\"와 같이 하여 특정 요소를 지운다."
      ],
      "metadata": {
        "id": "B_OvSegF0s3E"
      }
    },
    {
      "cell_type": "code",
      "source": [
        "scores = {\"철수\": 90, \"민수\": 85, \"영희\": 80}\n",
        "scores[\"민수\"] = 88   # 수정\n",
        "scores[\"길동\"] = 95   # 추가\n",
        "del scores[\"영희\"]\n",
        "print(scores)\n",
        "# 출력 {'철수': 90, '길동': 95, '민수': 88}\n"
      ],
      "metadata": {
        "id": "334ahKEg0hZJ"
      },
      "execution_count": null,
      "outputs": []
    },
    {
      "cell_type": "markdown",
      "source": [
        "Dictionary에 있는 값들을 모두 출력하기 위해서는 다음과 같이 루프를 사용할 수 있다. 아래 예제에서 for 루프는 scores 맵으로부터 키를 하나씩 리턴하게 된다. 이때 키는 랜덤하게 리턴되는데, 이는 해시테이블의 속성이다. 각 키에 따른 값을 구하기 위해서는 scores[key]와 같이 사용한다."
      ],
      "metadata": {
        "id": "Gm-M7a9m06mM"
      }
    },
    {
      "cell_type": "code",
      "source": [
        "scores = {\"철수\": 90, \"민수\": 85, \"영희\": 80}\n",
        " \n",
        "for key in scores:\n",
        "    val = scores[key]\n",
        "    print(\"%s : %d\" % (key, val))"
      ],
      "metadata": {
        "id": "d_j79Pfe053E"
      },
      "execution_count": null,
      "outputs": []
    },
    {
      "cell_type": "markdown",
      "source": [
        "유용한 dict 메서드\n",
        "Dictonary와 관련하여 dict 클래스에는 여러 유용한 메서드들이 있다. dict 클래스의 keys()는 Dictonary의 키값들로 된 dict_keys 객체를 리턴하고, values()는 Dictonary의 값들로 된 dict_values 객체를 리턴한다."
      ],
      "metadata": {
        "id": "vtPgxzOl1UFw"
      }
    },
    {
      "cell_type": "code",
      "source": [
        "scores = {\"철수\": 90, \"민수\": 85, \"영희\": 80}\n",
        " \n",
        "# keys\n",
        "keys = scores.keys()\n",
        "for k in keys:\n",
        "    print(k)\n",
        " \n",
        "# values\n",
        "values = scores.values()\n",
        "for v in values:\n",
        "    print(v)"
      ],
      "metadata": {
        "id": "f7wc4cgI1ahN"
      },
      "execution_count": null,
      "outputs": []
    },
    {
      "cell_type": "code",
      "source": [
        "type(scores.keys())"
      ],
      "metadata": {
        "id": "rzBx36om1iPO"
      },
      "execution_count": null,
      "outputs": []
    },
    {
      "cell_type": "code",
      "source": [
        "scores.keys()"
      ],
      "metadata": {
        "id": "21XSghpG1kvi"
      },
      "execution_count": null,
      "outputs": []
    },
    {
      "cell_type": "code",
      "source": [
        "type(scores.values())"
      ],
      "metadata": {
        "id": "qIBgkl1K1oR3"
      },
      "execution_count": null,
      "outputs": []
    },
    {
      "cell_type": "code",
      "source": [
        "scores.values()"
      ],
      "metadata": {
        "id": "Ax7uKI3J1yHh"
      },
      "execution_count": null,
      "outputs": []
    },
    {
      "cell_type": "code",
      "source": [
        "list_values = list(scores.values())"
      ],
      "metadata": {
        "id": "Datd0Ibx11-Y"
      },
      "execution_count": null,
      "outputs": []
    },
    {
      "cell_type": "code",
      "source": [
        "type(list_values)"
      ],
      "metadata": {
        "id": "lrbjtI7C18Eg"
      },
      "execution_count": null,
      "outputs": []
    },
    {
      "cell_type": "markdown",
      "source": [
        "dict.get() 메서드는 특정 키에 대한 값을 리턴하는데, 이는 Dictionary[키]를 사용하는 것과 비슷하다. 단, Dictionary[키]를 사용하면 키가 없을 때 에러(KeyError)를 리턴하는 반면, get()은 키가 Dictionary에 없을 경우 None을 리턴하므로 더 유용할 수 있다. 물론 get()을 사용하는 대신 해당 키가 Dictionary에 존재하는지 체크하고 Dictionary[키]를 사용하는 방법도 있다. 키가 Dictionary에 존재하는지를 체크하지 위해서는 멤버쉽연산자 in 을 사용하면 된다."
      ],
      "metadata": {
        "id": "_1UYSr4j2Vd2"
      }
    },
    {
      "cell_type": "code",
      "source": [
        "scores = {\"철수\": 90, \"민수\": 85, \"영희\": 80}\n",
        "v = scores.get(\"민수\")  # 85\n",
        "v = scores.get(\"길동\")  # None\n",
        "#v = scores[\"길동\"]      # 에러 발생\n",
        " \n",
        "# 멤버쉽연산자 in 사용\n",
        "if \"길동\" in scores:\n",
        "    print(scores[\"길동\"])\n",
        " \n",
        "scores.clear()  # 모두 삭제\n",
        "print(scores)"
      ],
      "metadata": {
        "id": "1DL4YZOi2CcX"
      },
      "execution_count": null,
      "outputs": []
    },
    {
      "cell_type": "markdown",
      "source": [
        "dict.update() 메서드는 Dictionary 안의 여러 데이타를 한꺼번에 갱신하는데 유용한 메서드이다. 아래 예제에서 처럼, update() 안에 Dictionary 형태로 여러 데이타의 값을 변경하면, 해당 데이타들이 update() 메서드에 의해 한꺼번에 수정된다."
      ],
      "metadata": {
        "id": "1JMvMc3r2oIU"
      }
    },
    {
      "cell_type": "code",
      "source": [
        "persons = [('김기수', 30), ('홍대길', 35), ('강찬수', 25)]\n",
        "mydict = dict(persons)\n",
        " \n",
        "mydict.update({'홍대길':33,'강찬수':26})"
      ],
      "metadata": {
        "id": "2T0OkGCH2peT"
      },
      "execution_count": null,
      "outputs": []
    },
    {
      "cell_type": "code",
      "source": [
        "persons"
      ],
      "metadata": {
        "id": "Lr1ALvAl2vw5"
      },
      "execution_count": null,
      "outputs": []
    },
    {
      "cell_type": "code",
      "source": [
        "mydict"
      ],
      "metadata": {
        "id": "FPh4FrOC23sj"
      },
      "execution_count": null,
      "outputs": []
    }
  ]
}