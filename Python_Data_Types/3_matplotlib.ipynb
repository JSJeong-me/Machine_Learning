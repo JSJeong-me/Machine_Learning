{
  "cells": [
    {
      "cell_type": "markdown",
      "metadata": {
        "id": "view-in-github",
        "colab_type": "text"
      },
      "source": [
        "<a href=\"https://colab.research.google.com/github/JSJeong-me/Machine_Learning/blob/main/Python_Data_Types/3_matplotlib.ipynb\" target=\"_parent\"><img src=\"https://colab.research.google.com/assets/colab-badge.svg\" alt=\"Open In Colab\"/></a>"
      ]
    },
    {
      "cell_type": "markdown",
      "metadata": {
        "id": "8ny_rGrJnGTa"
      },
      "source": [
        "# matplotlib"
      ]
    },
    {
      "cell_type": "markdown",
      "metadata": {
        "id": "BcyytvuMnGTg"
      },
      "source": [
        "pip install matplotlib"
      ]
    },
    {
      "cell_type": "markdown",
      "metadata": {
        "id": "6iEaUK7JnGTh"
      },
      "source": [
        "https://matplotlib.org/gallery/index.html"
      ]
    },
    {
      "cell_type": "code",
      "execution_count": null,
      "metadata": {
        "id": "GXmE5JsDnGTi"
      },
      "outputs": [],
      "source": [
        "import matplotlib.pyplot as plt"
      ]
    },
    {
      "cell_type": "code",
      "execution_count": null,
      "metadata": {
        "id": "c1tBQdq3nGTj"
      },
      "outputs": [],
      "source": [
        "%matplotlib inline"
      ]
    },
    {
      "cell_type": "code",
      "source": [
        ""
      ],
      "metadata": {
        "id": "IlO_5KQCU4SZ"
      },
      "execution_count": null,
      "outputs": []
    },
    {
      "cell_type": "code",
      "execution_count": null,
      "metadata": {
        "id": "kZ1QEZSFnGTk"
      },
      "outputs": [],
      "source": [
        "import numpy as np\n",
        "x = np.linspace(0,5,11)\n",
        "y = x ** 2"
      ]
    },
    {
      "cell_type": "code",
      "execution_count": null,
      "metadata": {
        "id": "6n55OK-xnGTl"
      },
      "outputs": [],
      "source": [
        "x"
      ]
    },
    {
      "cell_type": "code",
      "execution_count": null,
      "metadata": {
        "id": "jNNc4bqpnGTm"
      },
      "outputs": [],
      "source": [
        "y"
      ]
    },
    {
      "cell_type": "markdown",
      "metadata": {
        "id": "PM1eVHflnGTn"
      },
      "source": [
        "**Functional Method**"
      ]
    },
    {
      "cell_type": "code",
      "execution_count": null,
      "metadata": {
        "id": "nJAOXXoBnGTo"
      },
      "outputs": [],
      "source": [
        "plt.plot(x, y)\n",
        "plt.xlabel('X Label')\n",
        "plt.ylabel('Y Label')\n",
        "plt.title('Title')"
      ]
    },
    {
      "cell_type": "markdown",
      "metadata": {
        "id": "1lDDElk-nGTp"
      },
      "source": [
        "Create Multi-plots"
      ]
    },
    {
      "cell_type": "code",
      "execution_count": null,
      "metadata": {
        "id": "-TtwinBNnGTp"
      },
      "outputs": [],
      "source": [
        "plt.subplot(1,2,1)\n",
        "plt.plot(x,y,'r')\n",
        "\n",
        "plt.subplot(1,2,2)\n",
        "plt.plot(y,x,'b')"
      ]
    },
    {
      "cell_type": "markdown",
      "metadata": {
        "id": "8J8tC_iPnGTq"
      },
      "source": [
        "**Object-oriented Method**"
      ]
    },
    {
      "cell_type": "markdown",
      "source": [
        "### https://engineer-mole.tistory.com/218\n"
      ],
      "metadata": {
        "id": "9iagc93zViAi"
      }
    },
    {
      "cell_type": "markdown",
      "source": [
        "![img.png](data:image/png;base64,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)"
      ],
      "metadata": {
        "id": "fSOcV4WCV-ZO"
      }
    },
    {
      "cell_type": "code",
      "source": [
        "# # [경우1]\n",
        "\n",
        "# x = np.linspace(-3, 3, 20)\n",
        "# y1 = x\n",
        "# y2 = x ** 2\n",
        " \n",
        "# # figure는 1개\n",
        "# plt.figure(figsize=(3, 4))\n",
        " \n",
        "# plt.subplot(2,1,1)\n",
        "# plt.plot(x, y1)\n",
        " \n",
        "# plt.subplot(2,1,2)\n",
        "# plt.plot(x, y2)\n",
        " \n",
        "# plt.show()"
      ],
      "metadata": {
        "id": "PQwzqDYUV0yz"
      },
      "execution_count": null,
      "outputs": []
    },
    {
      "cell_type": "markdown",
      "source": [
        "자유롭게 그래프를 배치\n",
        " 자유롭게 그래프를 배치하고 싶은 경우 axes 메소드를 사용한다.\n",
        "\n",
        "axes([왼쪽, 아래, 폭, 높이])\n",
        "\n",
        "각 값은 0부터 1사이의 소수만 지정할 수 있다.\n"
      ],
      "metadata": {
        "id": "A9dzzlP_Wdi-"
      }
    },
    {
      "cell_type": "code",
      "execution_count": null,
      "metadata": {
        "id": "wQxODk4VnGTq"
      },
      "outputs": [],
      "source": [
        "# create figure object (empty canvas)\n",
        "fig = plt.figure()\n",
        "\n",
        "# define the location of the axes\n",
        "# [ left, bottom, width, height ]\n",
        "\n",
        "axes = fig.add_axes([ 0.1, 0.1, 0.8, 0.8 ])\n",
        "\n",
        "axes.plot(x,y)\n",
        "axes.set_xlabel( 'X Label' )\n",
        "axes.set_ylabel( 'Y Label' )\n",
        "axes.set_title( 'Set Title' )"
      ]
    },
    {
      "cell_type": "code",
      "execution_count": null,
      "metadata": {
        "id": "SCWCj6btnGTr"
      },
      "outputs": [],
      "source": [
        "# fig = plt.figure()\n",
        "\n",
        "# axes1 = fig.add_axes([0.1, 0.1, 0.8, 0.8])\n",
        "# axes2 = fig.add_axes([0.2, 0.5, 0.4, 0.3])\n",
        "\n",
        "# axes1.plot(x,y)\n",
        "# axes1.set_title('LARGER PLOT')\n",
        "# axes2.plot(y,x)\n",
        "# axes2.set_title('SMALLER PLOT')"
      ]
    },
    {
      "cell_type": "markdown",
      "metadata": {
        "id": "ZLSPzYzCnGTr"
      },
      "source": [
        "subplots()"
      ]
    },
    {
      "cell_type": "code",
      "execution_count": null,
      "metadata": {
        "id": "4uqfmpVAnGTs"
      },
      "outputs": [],
      "source": [
        "fig, axes = plt.subplots( nrows = 1, ncols = 2 )\n",
        "\n",
        "axes[0].plot(x, y)\n",
        "axes[1].plot(y, x)\n",
        "\n",
        "plt.tight_layout()"
      ]
    },
    {
      "cell_type": "markdown",
      "metadata": {
        "id": "NxQt2G9inGTs"
      },
      "source": [
        "Figure Size and DPI"
      ]
    },
    {
      "cell_type": "code",
      "execution_count": null,
      "metadata": {
        "id": "EzJzjqiknGTs"
      },
      "outputs": [],
      "source": [
        "fig = plt.figure(figsize = (8,2), dpi = 60)\n",
        "\n",
        "ax = fig.add_axes([0,0,1,1])\n",
        "ax.plot(x,y)"
      ]
    },
    {
      "cell_type": "markdown",
      "metadata": {
        "id": "S1yLxpq5nGTt"
      },
      "source": [
        "Save a Figure"
      ]
    },
    {
      "cell_type": "code",
      "execution_count": null,
      "metadata": {
        "id": "argmCgrWnGTt"
      },
      "outputs": [],
      "source": [
        "fig.savefig( 'my_picture.png', dpi = 200 )"
      ]
    },
    {
      "cell_type": "markdown",
      "metadata": {
        "id": "Hkxb0fJLnGTt"
      },
      "source": [
        "Adding a Legend"
      ]
    },
    {
      "cell_type": "code",
      "execution_count": null,
      "metadata": {
        "id": "EZS9SKOvnGTu"
      },
      "outputs": [],
      "source": [
        "fig = plt.figure()\n",
        "ax = fig.add_axes([0,0,1,1])\n",
        "\n",
        "ax.plot( x, x ** 2, label = 'X Squared' )\n",
        "ax.plot( x, x ** 3, label = 'X Cubed' )\n",
        "\n",
        "ax.legend( loc = (0.1, 0.1) )\n",
        "# 0 ~ 10 locations"
      ]
    },
    {
      "cell_type": "markdown",
      "metadata": {
        "id": "9eVKEM0mnGTu"
      },
      "source": [
        "Plot Appearance"
      ]
    },
    {
      "cell_type": "code",
      "execution_count": null,
      "metadata": {
        "id": "t_x7YQ-TnGTu"
      },
      "outputs": [],
      "source": [
        "fig = plt.figure()\n",
        "ax = fig.add_axes( [0, 0, 1, 1] )\n",
        "\n",
        "ax.plot( x, y, color = '#FF8C00', linewidth = 0.5, alpha = 0.5,\n",
        "       linestyle = '--', marker = 'o', markersize = 20,\n",
        "       markerfacecolor = 'yellow', markeredgewidth = 3, \n",
        "        markeredgecolor = 'green') \n",
        "# refer to the 'RGB Hex Code' for custom colors\n",
        "# marker = o, +, *, 1, 2, etc."
      ]
    },
    {
      "cell_type": "markdown",
      "metadata": {
        "id": "ItGKxgM6nGTv"
      },
      "source": [
        "Plot Range"
      ]
    },
    {
      "cell_type": "code",
      "execution_count": null,
      "metadata": {
        "id": "jIxcmpnrnGTv"
      },
      "outputs": [],
      "source": [
        "fig = plt.figure()\n",
        "ax = fig.add_axes( [0, 0, 1, 1] )\n",
        "\n",
        "ax.plot( x, y, color = 'purple', lw = 2, ls = '--' )\n",
        "\n",
        "ax.set_xlim( [0, 1] )\n",
        "ax.set_ylim( [0, 2] )"
      ]
    },
    {
      "cell_type": "markdown",
      "metadata": {
        "id": "k1RdrB4dnGTv"
      },
      "source": [
        "matplotlib Tutorial\n",
        "\n",
        "http://www.loria.fr/~rougier/teaching/matplotlib"
      ]
    },
    {
      "cell_type": "markdown",
      "metadata": {
        "id": "El-tWes-nGTv"
      },
      "source": [
        "Plotting a Figure (Object-oriented Method)\n",
        "1. Call figure\n",
        "2. Add axes to the figure\n",
        "3. Plot on the axes"
      ]
    }
  ],
  "metadata": {
    "kernelspec": {
      "display_name": "Python 3",
      "language": "python",
      "name": "python3"
    },
    "language_info": {
      "codemirror_mode": {
        "name": "ipython",
        "version": 3
      },
      "file_extension": ".py",
      "mimetype": "text/x-python",
      "name": "python",
      "nbconvert_exporter": "python",
      "pygments_lexer": "ipython3",
      "version": "3.7.6"
    },
    "colab": {
      "name": "3-matplotlib.ipynb",
      "provenance": [],
      "include_colab_link": true
    }
  },
  "nbformat": 4,
  "nbformat_minor": 0
}