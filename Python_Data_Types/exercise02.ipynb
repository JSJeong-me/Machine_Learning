{
  "nbformat": 4,
  "nbformat_minor": 0,
  "metadata": {
    "colab": {
      "name": "Untitled15.ipynb",
      "provenance": [],
      "authorship_tag": "ABX9TyOi/LDehDuXKU8WELTZK0x8",
      "include_colab_link": true
    },
    "kernelspec": {
      "name": "python3",
      "display_name": "Python 3"
    },
    "language_info": {
      "name": "python"
    }
  },
  "cells": [
    {
      "cell_type": "markdown",
      "metadata": {
        "id": "view-in-github",
        "colab_type": "text"
      },
      "source": [
        "<a href=\"https://colab.research.google.com/github/JSJeong-me/Machine_Learning/blob/main/Python_Data_Types/exercise02.ipynb\" target=\"_parent\"><img src=\"https://colab.research.google.com/assets/colab-badge.svg\" alt=\"Open In Colab\"/></a>"
      ]
    },
    {
      "cell_type": "code",
      "source": [
        "# 타입 변환\n",
        "# str() 함수 : 숫자를 문자열로 변환\n",
        "# print('나는 현재 나이가 ' + str(23) + \"살입니다\")"
      ],
      "metadata": {
        "id": "eHbqgliWXOmG"
      },
      "execution_count": 1,
      "outputs": []
    },
    {
      "cell_type": "code",
      "source": [
        "# int() :정수형식의 문자열을 정수로 변환\n",
        "num = input('숫자를 입력하세요 :')  # 키보드로 입력받은 자료를 num변수에 할당\n",
        "# print(type(num))\n",
        "# print(int(num) + 100)"
      ],
      "metadata": {
        "colab": {
          "base_uri": "https://localhost:8080/"
        },
        "id": "KXRCOcDfXSAs",
        "outputId": "f5056755-9d5f-4f08-9885-f7903e42f7f1"
      },
      "execution_count": 2,
      "outputs": [
        {
          "name": "stdout",
          "output_type": "stream",
          "text": [
            "숫자를 입력하세요 :29\n"
          ]
        }
      ]
    },
    {
      "cell_type": "code",
      "execution_count": 3,
      "metadata": {
        "colab": {
          "base_uri": "https://localhost:8080/"
        },
        "id": "PGWl-XfiXHhS",
        "outputId": "271b398a-a3d9-4387-a0e5-7ddc6879f15b"
      },
      "outputs": [
        {
          "output_type": "stream",
          "name": "stdout",
          "text": [
            "129.0\n"
          ]
        }
      ],
      "source": [
        "'''\n",
        "print(int('123', 8))  # 8진수 0o123    2진수 : 1010011\n",
        "print(int('123', 16))\n",
        "print(int('1111', 2))\n",
        "'''\n",
        "\n",
        "# float(문자열)  : 문자열을 실수로 변환\n",
        "print(float(num) + 100)"
      ]
    }
  ]
}