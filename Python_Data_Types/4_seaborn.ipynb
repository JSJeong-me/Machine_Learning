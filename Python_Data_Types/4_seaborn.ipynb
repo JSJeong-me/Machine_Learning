{
  "cells": [
    {
      "cell_type": "markdown",
      "metadata": {
        "id": "view-in-github",
        "colab_type": "text"
      },
      "source": [
        "<a href=\"https://colab.research.google.com/github/JSJeong-me/Machine_Learning/blob/main/Python_Data_Types/4_seaborn.ipynb\" target=\"_parent\"><img src=\"https://colab.research.google.com/assets/colab-badge.svg\" alt=\"Open In Colab\"/></a>"
      ]
    },
    {
      "cell_type": "markdown",
      "metadata": {
        "id": "tp5D2Lu0nhej"
      },
      "source": [
        "# seaborn"
      ]
    },
    {
      "cell_type": "markdown",
      "metadata": {
        "id": "jYWwbjiinheq"
      },
      "source": [
        "https://seaborn.pydata.org/examples/index.html#example-gallery"
      ]
    },
    {
      "cell_type": "code",
      "execution_count": null,
      "metadata": {
        "id": "EHAnNWDNnhes"
      },
      "outputs": [],
      "source": [
        "import seaborn as sns\n",
        "%matplotlib inline"
      ]
    },
    {
      "cell_type": "markdown",
      "metadata": {
        "id": "dc8D44jlnheu"
      },
      "source": [
        "**Distribution Plots**"
      ]
    },
    {
      "cell_type": "code",
      "execution_count": null,
      "metadata": {
        "id": "0_b-gGcXnhev"
      },
      "outputs": [],
      "source": [
        "tips = sns.load_dataset('tips')\n",
        "tips.head()"
      ]
    },
    {
      "cell_type": "code",
      "execution_count": null,
      "metadata": {
        "id": "aKwYd1uSnhew"
      },
      "outputs": [],
      "source": [
        "sns.distplot( tips['total_bill'], bins = 40 )"
      ]
    },
    {
      "cell_type": "code",
      "execution_count": null,
      "metadata": {
        "id": "s3Ko3kKSnhex"
      },
      "outputs": [],
      "source": [
        "sns.jointplot( x = 'total_bill', y = 'tip', data = tips )"
      ]
    },
    {
      "cell_type": "code",
      "execution_count": null,
      "metadata": {
        "id": "eB3mRWTinhey"
      },
      "outputs": [],
      "source": [
        "sns.pairplot( tips, hue = 'sex', palette = 'coolwarm' )"
      ]
    },
    {
      "cell_type": "markdown",
      "metadata": {
        "id": "x1QkXXT3nhe0"
      },
      "source": [
        "**Categorial Plots**"
      ]
    },
    {
      "cell_type": "code",
      "execution_count": null,
      "metadata": {
        "id": "yNa6sNTLnhe0"
      },
      "outputs": [],
      "source": [
        "import numpy as np\n",
        "sns.barplot( x = 'sex', y = 'total_bill', data = tips )"
      ]
    },
    {
      "cell_type": "code",
      "execution_count": null,
      "metadata": {
        "id": "dBnK4Sg9nhe1"
      },
      "outputs": [],
      "source": [
        "sns.countplot( x = 'sex', data = tips )"
      ]
    },
    {
      "cell_type": "code",
      "execution_count": null,
      "metadata": {
        "id": "gxitfZJjnhe2"
      },
      "outputs": [],
      "source": [
        "sns.boxplot( x = 'day', y = 'total_bill', data = tips )"
      ]
    },
    {
      "cell_type": "markdown",
      "metadata": {
        "id": "foiqlgkGnhe3"
      },
      "source": [
        "**Matrix Plots**"
      ]
    },
    {
      "cell_type": "code",
      "execution_count": null,
      "metadata": {
        "id": "oxY434wxnhe3"
      },
      "outputs": [],
      "source": [
        "flights = sns.load_dataset('flights')\n",
        "flights.head()"
      ]
    },
    {
      "cell_type": "code",
      "execution_count": null,
      "metadata": {
        "id": "_0pIocNwnhe3"
      },
      "outputs": [],
      "source": [
        "tc = tips.corr()\n",
        "sns.heatmap(tc, annot=True, cmap = 'coolwarm')"
      ]
    },
    {
      "cell_type": "code",
      "execution_count": null,
      "metadata": {
        "id": "fTGMajscnhe4"
      },
      "outputs": [],
      "source": [
        "fp = flights.pivot_table(index = 'month', columns='year', values='passengers')\n",
        "fp"
      ]
    },
    {
      "cell_type": "code",
      "execution_count": null,
      "metadata": {
        "id": "4CB5Q6innhe4"
      },
      "outputs": [],
      "source": [
        "sns.heatmap(fp, cmap='coolwarm', linecolor='white',linewidths=1)"
      ]
    },
    {
      "cell_type": "code",
      "execution_count": null,
      "metadata": {
        "id": "NbM32CDinhe5"
      },
      "outputs": [],
      "source": [
        "sns.clustermap(fp,cmap='coolwarm',standard_scale=1)"
      ]
    },
    {
      "cell_type": "markdown",
      "metadata": {
        "id": "5-jmEuyPnhe5"
      },
      "source": [
        "**Regression Plots**"
      ]
    },
    {
      "cell_type": "code",
      "execution_count": null,
      "metadata": {
        "id": "uVIkC5wznhe6"
      },
      "outputs": [],
      "source": [
        "sns.lmplot( x = 'total_bill', y = 'tip', data = tips, hue = 'sex', markers = ['o', 'v'] )"
      ]
    },
    {
      "cell_type": "markdown",
      "metadata": {
        "id": "kYDfAt8hnhe6"
      },
      "source": [
        "**Style and Color**"
      ]
    },
    {
      "cell_type": "code",
      "execution_count": null,
      "metadata": {
        "id": "Vjp7xrg5nhe6"
      },
      "outputs": [],
      "source": [
        "sns.set_style( 'white' )\n",
        "sns.set_context( 'poster' )\n",
        "sns.countplot( x = 'sex', data = tips )\n",
        "sns.despine()"
      ]
    },
    {
      "cell_type": "code",
      "execution_count": null,
      "metadata": {
        "id": "5qZvBh60nhe7"
      },
      "outputs": [],
      "source": [
        "sns.lmplot( x = 'total_bill', y = 'tip', data = tips, hue = 'sex', palette = 'seismic' )"
      ]
    },
    {
      "cell_type": "markdown",
      "metadata": {
        "id": "fB6OD1Rxnhe7"
      },
      "source": [
        "palette : refer to 'matplotlib colormap'\n",
        "\n",
        "https://matplotlib.org/examples/color/colormaps_reference.html"
      ]
    }
  ],
  "metadata": {
    "kernelspec": {
      "display_name": "Python 3",
      "language": "python",
      "name": "python3"
    },
    "language_info": {
      "codemirror_mode": {
        "name": "ipython",
        "version": 3
      },
      "file_extension": ".py",
      "mimetype": "text/x-python",
      "name": "python",
      "nbconvert_exporter": "python",
      "pygments_lexer": "ipython3",
      "version": "3.7.6"
    },
    "colab": {
      "name": "4-seaborn.ipynb",
      "provenance": [],
      "include_colab_link": true
    }
  },
  "nbformat": 4,
  "nbformat_minor": 0
}