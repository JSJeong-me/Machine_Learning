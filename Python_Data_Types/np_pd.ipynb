{
  "nbformat": 4,
  "nbformat_minor": 0,
  "metadata": {
    "colab": {
      "name": "Untitled19.ipynb",
      "provenance": [],
      "authorship_tag": "ABX9TyNyUhDNcdL7kWigUXcdeD7v",
      "include_colab_link": true
    },
    "kernelspec": {
      "name": "python3",
      "display_name": "Python 3"
    },
    "language_info": {
      "name": "python"
    }
  },
  "cells": [
    {
      "cell_type": "markdown",
      "metadata": {
        "id": "view-in-github",
        "colab_type": "text"
      },
      "source": [
        "<a href=\"https://colab.research.google.com/github/JSJeong-me/Machine_Learning/blob/main/Python_Data_Types/np_pd.ipynb\" target=\"_parent\"><img src=\"https://colab.research.google.com/assets/colab-badge.svg\" alt=\"Open In Colab\"/></a>"
      ]
    },
    {
      "cell_type": "code",
      "execution_count": 1,
      "metadata": {
        "id": "2E_v42-lr4An"
      },
      "outputs": [],
      "source": [
        "import pandas as pd\n",
        "\n",
        "df=pd.read_json('./_20220603105724.json')"
      ]
    },
    {
      "cell_type": "code",
      "source": [
        "print(\"DataFrame generated using JSON file:\")\n",
        "print(df)"
      ],
      "metadata": {
        "id": "4QYuAgRQsujF",
        "outputId": "edb93b77-aa0a-43a2-8b43-edda917aa7f1",
        "colab": {
          "base_uri": "https://localhost:8080/"
        }
      },
      "execution_count": 2,
      "outputs": [
        {
          "output_type": "stream",
          "name": "stdout",
          "text": [
            "DataFrame generated using JSON file:\n",
            "                            company_id   device_id  country_code tel  \\\n",
            "foot_length                    Yesfoot  Getta-0006            82       \n",
            "foot_width                     Yesfoot  Getta-0006            82       \n",
            "ball_distance                  Yesfoot  Getta-0006            82       \n",
            "ball_height                    Yesfoot  Getta-0006            82       \n",
            "ball_girth                     Yesfoot  Getta-0006            82       \n",
            "instep_height                  Yesfoot  Getta-0006            82       \n",
            "instep_girth                   Yesfoot  Getta-0006            82       \n",
            "big_toe_height                 Yesfoot  Getta-0006            82       \n",
            "heel_height                    Yesfoot  Getta-0006            82       \n",
            "heel_width                     Yesfoot  Getta-0006            82       \n",
            "inner_ankle_bone_height        Yesfoot  Getta-0006            82       \n",
            "outer_ankle_bone_height        Yesfoot  Getta-0006            82       \n",
            "ankle_height                   Yesfoot  Getta-0006            82       \n",
            "ankle_hor_girth                Yesfoot  Getta-0006            82       \n",
            "ankle_ver_girth                Yesfoot  Getta-0006            82       \n",
            "ankle_length                   Yesfoot  Getta-0006            82       \n",
            "ankle_width                    Yesfoot  Getta-0006            82       \n",
            "heel_to_inner_ball_distance    Yesfoot  Getta-0006            82       \n",
            "heel_to_outer_ball_distance    Yesfoot  Getta-0006            82       \n",
            "heel_to_ankle_hor_distance     Yesfoot  Getta-0006            82       \n",
            "heel_to_ankle_girth            Yesfoot  Getta-0006            82       \n",
            "heel_to_instep_girth           Yesfoot  Getta-0006            82       \n",
            "big_toe_angle                  Yesfoot  Getta-0006            82       \n",
            "arch_height                    Yesfoot  Getta-0006            82       \n",
            "\n",
            "                                                  date      footR      footL  \n",
            "foot_length                 1970-08-23 00:50:03.105724  217.36900  217.85400  \n",
            "foot_width                  1970-08-23 00:50:03.105724   83.08360   83.23360  \n",
            "ball_distance               1970-08-23 00:50:03.105724   85.48310   85.19830  \n",
            "ball_height                 1970-08-23 00:50:03.105724   30.61710   30.63490  \n",
            "ball_girth                  1970-08-23 00:50:03.105724  207.37300  206.70300  \n",
            "instep_height               1970-08-23 00:50:03.105724   46.63680   47.08310  \n",
            "instep_girth                1970-08-23 00:50:03.105724  207.50500  205.13400  \n",
            "big_toe_height              1970-08-23 00:50:03.105724   17.45370   17.89700  \n",
            "heel_height                 1970-08-23 00:50:03.105724   19.07780   16.76580  \n",
            "heel_width                  1970-08-23 00:50:03.105724   54.51420   54.65910  \n",
            "inner_ankle_bone_height     1970-08-23 00:50:03.105724   63.47240   62.98380  \n",
            "outer_ankle_bone_height     1970-08-23 00:50:03.105724   51.68230   56.16940  \n",
            "ankle_height                1970-08-23 00:50:03.105724   61.05650   60.91970  \n",
            "ankle_hor_girth             1970-08-23 00:50:03.105724  222.85600  220.64900  \n",
            "ankle_ver_girth             1970-08-23 00:50:03.105724  222.65300  219.33300  \n",
            "ankle_length                1970-08-23 00:50:03.105724   87.77200   86.93690  \n",
            "ankle_width                 1970-08-23 00:50:03.105724   57.81800   56.97870  \n",
            "heel_to_inner_ball_distance 1970-08-23 00:50:03.105724  163.74700  164.19500  \n",
            "heel_to_outer_ball_distance 1970-08-23 00:50:03.105724  144.70600  146.89600  \n",
            "heel_to_ankle_hor_distance  1970-08-23 00:50:03.105724   94.48860   94.86280  \n",
            "heel_to_ankle_girth         1970-08-23 00:50:03.105724  275.03400  276.55200  \n",
            "heel_to_instep_girth        1970-08-23 00:50:03.105724  308.33900  309.43000  \n",
            "big_toe_angle               1970-08-23 00:50:03.105724    3.69139    8.13010  \n",
            "arch_height                 1970-08-23 00:50:03.105724    4.89851    5.50545  \n"
          ]
        }
      ]
    },
    {
      "cell_type": "code",
      "source": [
        "df.columns"
      ],
      "metadata": {
        "colab": {
          "base_uri": "https://localhost:8080/"
        },
        "id": "kocGRr3xvqzH",
        "outputId": "17664fea-1d16-4b62-b846-aa3230368db9"
      },
      "execution_count": 3,
      "outputs": [
        {
          "output_type": "execute_result",
          "data": {
            "text/plain": [
              "Index(['company_id', 'device_id', 'country_code', 'tel', 'date', 'footR',\n",
              "       'footL'],\n",
              "      dtype='object')"
            ]
          },
          "metadata": {},
          "execution_count": 3
        }
      ]
    },
    {
      "cell_type": "code",
      "source": [
        "df.footR"
      ],
      "metadata": {
        "colab": {
          "base_uri": "https://localhost:8080/"
        },
        "id": "WoWagBYnvsJs",
        "outputId": "a713fa37-5169-46a8-c660-52cad3b128b4"
      },
      "execution_count": 4,
      "outputs": [
        {
          "output_type": "execute_result",
          "data": {
            "text/plain": [
              "foot_length                    217.36900\n",
              "foot_width                      83.08360\n",
              "ball_distance                   85.48310\n",
              "ball_height                     30.61710\n",
              "ball_girth                     207.37300\n",
              "instep_height                   46.63680\n",
              "instep_girth                   207.50500\n",
              "big_toe_height                  17.45370\n",
              "heel_height                     19.07780\n",
              "heel_width                      54.51420\n",
              "inner_ankle_bone_height         63.47240\n",
              "outer_ankle_bone_height         51.68230\n",
              "ankle_height                    61.05650\n",
              "ankle_hor_girth                222.85600\n",
              "ankle_ver_girth                222.65300\n",
              "ankle_length                    87.77200\n",
              "ankle_width                     57.81800\n",
              "heel_to_inner_ball_distance    163.74700\n",
              "heel_to_outer_ball_distance    144.70600\n",
              "heel_to_ankle_hor_distance      94.48860\n",
              "heel_to_ankle_girth            275.03400\n",
              "heel_to_instep_girth           308.33900\n",
              "big_toe_angle                    3.69139\n",
              "arch_height                      4.89851\n",
              "Name: footR, dtype: float64"
            ]
          },
          "metadata": {},
          "execution_count": 4
        }
      ]
    },
    {
      "cell_type": "code",
      "source": [
        "df.footR.foot_length"
      ],
      "metadata": {
        "colab": {
          "base_uri": "https://localhost:8080/"
        },
        "id": "p1e5NV4Hvv-_",
        "outputId": "94cb99c5-d2e0-46bf-b405-c49eaf461d9e"
      },
      "execution_count": 5,
      "outputs": [
        {
          "output_type": "execute_result",
          "data": {
            "text/plain": [
              "217.369"
            ]
          },
          "metadata": {},
          "execution_count": 5
        }
      ]
    },
    {
      "cell_type": "code",
      "source": [
        "df.footL.foot_length"
      ],
      "metadata": {
        "colab": {
          "base_uri": "https://localhost:8080/"
        },
        "id": "8vVRxxPDv5IX",
        "outputId": "54aa995e-6e04-4e9e-a52a-dab8019025a5"
      },
      "execution_count": 6,
      "outputs": [
        {
          "output_type": "execute_result",
          "data": {
            "text/plain": [
              "217.854"
            ]
          },
          "metadata": {},
          "execution_count": 6
        }
      ]
    },
    {
      "cell_type": "code",
      "source": [
        ""
      ],
      "metadata": {
        "id": "KG-bPGRbmQpu"
      },
      "execution_count": null,
      "outputs": []
    },
    {
      "cell_type": "code",
      "source": [
        ""
      ],
      "metadata": {
        "id": "RJnU-5TomSED"
      },
      "execution_count": null,
      "outputs": []
    },
    {
      "cell_type": "code",
      "source": [
        ""
      ],
      "metadata": {
        "id": "1aPHE81vmSBM"
      },
      "execution_count": null,
      "outputs": []
    },
    {
      "cell_type": "code",
      "source": [
        ""
      ],
      "metadata": {
        "id": "p43u6K8imR-c"
      },
      "execution_count": null,
      "outputs": []
    },
    {
      "cell_type": "code",
      "source": [
        ""
      ],
      "metadata": {
        "id": "_H62np6kmR7k"
      },
      "execution_count": null,
      "outputs": []
    },
    {
      "cell_type": "code",
      "source": [
        ""
      ],
      "metadata": {
        "id": "bhgGPfNMmR4w"
      },
      "execution_count": null,
      "outputs": []
    },
    {
      "cell_type": "code",
      "source": [
        "scores = [25, 56, 76, 88, 12]"
      ],
      "metadata": {
        "id": "6MrFy6RNmR0W"
      },
      "execution_count": 7,
      "outputs": []
    },
    {
      "cell_type": "code",
      "source": [
        "scores.append(45)"
      ],
      "metadata": {
        "id": "Tcq_ZFMjmRui"
      },
      "execution_count": 8,
      "outputs": []
    },
    {
      "cell_type": "code",
      "source": [
        "scores"
      ],
      "metadata": {
        "id": "iZBeQn5pmRr-",
        "outputId": "d943786a-77a7-4317-efd0-e5d9531bb977",
        "colab": {
          "base_uri": "https://localhost:8080/"
        }
      },
      "execution_count": 9,
      "outputs": [
        {
          "output_type": "execute_result",
          "data": {
            "text/plain": [
              "[25, 56, 76, 88, 12, 45]"
            ]
          },
          "metadata": {},
          "execution_count": 9
        }
      ]
    },
    {
      "cell_type": "code",
      "source": [
        "scores.sort()"
      ],
      "metadata": {
        "id": "iyXjI5lRmiW4"
      },
      "execution_count": 10,
      "outputs": []
    },
    {
      "cell_type": "code",
      "source": [
        "scores"
      ],
      "metadata": {
        "id": "TsBAU30xmlG_",
        "outputId": "80c26619-cb39-4758-caf4-e2cf2828cf11",
        "colab": {
          "base_uri": "https://localhost:8080/"
        }
      },
      "execution_count": 11,
      "outputs": [
        {
          "output_type": "execute_result",
          "data": {
            "text/plain": [
              "[12, 25, 45, 56, 76, 88]"
            ]
          },
          "metadata": {},
          "execution_count": 11
        }
      ]
    },
    {
      "cell_type": "code",
      "source": [
        "t_scores = (12, 25, 45, 56, 76, 88)"
      ],
      "metadata": {
        "id": "mUrzDnvnml-Y"
      },
      "execution_count": 12,
      "outputs": []
    },
    {
      "cell_type": "code",
      "source": [
        "t_scores[0] = 100"
      ],
      "metadata": {
        "id": "CQLVIykHm0lA",
        "outputId": "85c71c30-5c26-4cea-b4c4-28c5f85d0274",
        "colab": {
          "base_uri": "https://localhost:8080/",
          "height": 176
        }
      },
      "execution_count": 13,
      "outputs": [
        {
          "output_type": "error",
          "ename": "TypeError",
          "evalue": "ignored",
          "traceback": [
            "\u001b[0;31m---------------------------------------------------------------------------\u001b[0m",
            "\u001b[0;31mTypeError\u001b[0m                                 Traceback (most recent call last)",
            "\u001b[0;32m<ipython-input-13-0ceb3f6ec750>\u001b[0m in \u001b[0;36m<module>\u001b[0;34m()\u001b[0m\n\u001b[0;32m----> 1\u001b[0;31m \u001b[0mt_scores\u001b[0m\u001b[0;34m[\u001b[0m\u001b[0;36m0\u001b[0m\u001b[0;34m]\u001b[0m \u001b[0;34m=\u001b[0m \u001b[0;36m100\u001b[0m\u001b[0;34m\u001b[0m\u001b[0;34m\u001b[0m\u001b[0m\n\u001b[0m",
            "\u001b[0;31mTypeError\u001b[0m: 'tuple' object does not support item assignment"
          ]
        }
      ]
    },
    {
      "cell_type": "code",
      "source": [
        "t_scores[0]"
      ],
      "metadata": {
        "id": "qgQjoweQm4UI",
        "outputId": "132a8169-4ef2-4c86-b967-2b856e4cd414",
        "colab": {
          "base_uri": "https://localhost:8080/"
        }
      },
      "execution_count": 14,
      "outputs": [
        {
          "output_type": "execute_result",
          "data": {
            "text/plain": [
              "12"
            ]
          },
          "metadata": {},
          "execution_count": 14
        }
      ]
    },
    {
      "cell_type": "code",
      "source": [
        "one_tuple = (99,)"
      ],
      "metadata": {
        "id": "BdiVRFsLm8QY"
      },
      "execution_count": 15,
      "outputs": []
    },
    {
      "cell_type": "code",
      "source": [
        "one_tuple"
      ],
      "metadata": {
        "id": "_SFviUX3nE4s",
        "outputId": "081d8867-aaa4-4a3a-eebe-e78098179fae",
        "colab": {
          "base_uri": "https://localhost:8080/"
        }
      },
      "execution_count": 16,
      "outputs": [
        {
          "output_type": "execute_result",
          "data": {
            "text/plain": [
              "(99,)"
            ]
          },
          "metadata": {},
          "execution_count": 16
        }
      ]
    },
    {
      "cell_type": "code",
      "source": [
        "set_scores = {100, 300, 400, 500, 600}"
      ],
      "metadata": {
        "id": "q8TzyQTXnFeI"
      },
      "execution_count": 17,
      "outputs": []
    },
    {
      "cell_type": "code",
      "source": [
        "set_scores[2]"
      ],
      "metadata": {
        "id": "go40svhTnNcv"
      },
      "execution_count": null,
      "outputs": []
    },
    {
      "cell_type": "code",
      "source": [
        "dict_type = {\"key: 100\"}"
      ],
      "metadata": {
        "id": "kix2GulunTOo"
      },
      "execution_count": 19,
      "outputs": []
    },
    {
      "cell_type": "code",
      "source": [
        ""
      ],
      "metadata": {
        "id": "JB0oJAaYoOoi"
      },
      "execution_count": null,
      "outputs": []
    },
    {
      "cell_type": "code",
      "source": [
        ""
      ],
      "metadata": {
        "id": "9WuHgiyooOmA"
      },
      "execution_count": null,
      "outputs": []
    },
    {
      "cell_type": "code",
      "source": [
        "x = 1 + 2**3/4*5"
      ],
      "metadata": {
        "id": "_JdILoi3oOjW"
      },
      "execution_count": 20,
      "outputs": []
    },
    {
      "cell_type": "code",
      "source": [
        "x"
      ],
      "metadata": {
        "id": "e6Oj0ixdoOgs",
        "outputId": "46fb4f41-bf7a-4a3e-afad-a4576e2d30ce",
        "colab": {
          "base_uri": "https://localhost:8080/"
        }
      },
      "execution_count": 21,
      "outputs": [
        {
          "output_type": "execute_result",
          "data": {
            "text/plain": [
              "11.0"
            ]
          },
          "metadata": {},
          "execution_count": 21
        }
      ]
    },
    {
      "cell_type": "code",
      "source": [
        "y = 2**3/4*5"
      ],
      "metadata": {
        "id": "iymvzwFuoNxU"
      },
      "execution_count": 22,
      "outputs": []
    },
    {
      "cell_type": "code",
      "source": [
        "y"
      ],
      "metadata": {
        "id": "4Bo_-5KvojmI",
        "outputId": "d5db9d9c-50a8-4e57-e9dd-77720aa7a877",
        "colab": {
          "base_uri": "https://localhost:8080/"
        }
      },
      "execution_count": 23,
      "outputs": [
        {
          "output_type": "execute_result",
          "data": {
            "text/plain": [
              "10.0"
            ]
          },
          "metadata": {},
          "execution_count": 23
        }
      ]
    },
    {
      "cell_type": "code",
      "source": [
        "x = (2 + 4) * 5 / (2 * 2) ** 2"
      ],
      "metadata": {
        "id": "DSrZSb9IokYX"
      },
      "execution_count": null,
      "outputs": []
    },
    {
      "cell_type": "code",
      "source": [
        "x = (2 + 4) * 5"
      ],
      "metadata": {
        "id": "RPA9kgORo8iX"
      },
      "execution_count": 24,
      "outputs": []
    },
    {
      "cell_type": "code",
      "source": [
        "x"
      ],
      "metadata": {
        "id": "n7bsm3QDpANF",
        "outputId": "fcbfcb60-027d-4f81-c261-442bb23db6fb",
        "colab": {
          "base_uri": "https://localhost:8080/"
        }
      },
      "execution_count": 27,
      "outputs": [
        {
          "output_type": "execute_result",
          "data": {
            "text/plain": [
              "1.875"
            ]
          },
          "metadata": {},
          "execution_count": 27
        }
      ]
    },
    {
      "cell_type": "code",
      "source": [
        "#x = 30/16"
      ],
      "metadata": {
        "id": "OS5bLOpypA93"
      },
      "execution_count": 28,
      "outputs": []
    },
    {
      "cell_type": "code",
      "source": [
        "str = 'Hello World'"
      ],
      "metadata": {
        "id": "lo6Hoj44pMnV"
      },
      "execution_count": 29,
      "outputs": []
    },
    {
      "cell_type": "code",
      "source": [
        "str"
      ],
      "metadata": {
        "id": "tDLtswZUpRce",
        "outputId": "da8702b7-1478-4431-b387-d0da8bd5319b",
        "colab": {
          "base_uri": "https://localhost:8080/",
          "height": 36
        }
      },
      "execution_count": 30,
      "outputs": [
        {
          "output_type": "execute_result",
          "data": {
            "text/plain": [
              "'Hello World'"
            ],
            "application/vnd.google.colaboratory.intrinsic+json": {
              "type": "string"
            }
          },
          "metadata": {},
          "execution_count": 30
        }
      ]
    },
    {
      "cell_type": "code",
      "source": [
        "mul_line = ''' 12345  '''"
      ],
      "metadata": {
        "id": "PJADcLYFpSdG"
      },
      "execution_count": 32,
      "outputs": []
    },
    {
      "cell_type": "code",
      "source": [
        "mul_line"
      ],
      "metadata": {
        "id": "rmIuZgZRpZYu",
        "outputId": "09ea8c8c-5b8a-4ec7-9f9c-d02a2ec23767",
        "colab": {
          "base_uri": "https://localhost:8080/",
          "height": 36
        }
      },
      "execution_count": 33,
      "outputs": [
        {
          "output_type": "execute_result",
          "data": {
            "text/plain": [
              "' 12345  '"
            ],
            "application/vnd.google.colaboratory.intrinsic+json": {
              "type": "string"
            }
          },
          "metadata": {},
          "execution_count": 33
        }
      ]
    },
    {
      "cell_type": "code",
      "source": [
        "''' 12345  '''"
      ],
      "metadata": {
        "id": "iWXPavOopje7",
        "outputId": "137e68e1-2618-4e7b-b4d1-34882cd2b911",
        "colab": {
          "base_uri": "https://localhost:8080/",
          "height": 36
        }
      },
      "execution_count": 34,
      "outputs": [
        {
          "output_type": "execute_result",
          "data": {
            "text/plain": [
              "' 12345  '"
            ],
            "application/vnd.google.colaboratory.intrinsic+json": {
              "type": "string"
            }
          },
          "metadata": {},
          "execution_count": 34
        }
      ]
    },
    {
      "cell_type": "code",
      "source": [
        "\"\"\" 12345 \"\"\""
      ],
      "metadata": {
        "id": "6h5o_KT_ptvG",
        "outputId": "fdfc3ee5-f89d-4d61-cc74-73dbc1ecaa5f",
        "colab": {
          "base_uri": "https://localhost:8080/",
          "height": 36
        }
      },
      "execution_count": 35,
      "outputs": [
        {
          "output_type": "execute_result",
          "data": {
            "text/plain": [
              "' 12345 '"
            ],
            "application/vnd.google.colaboratory.intrinsic+json": {
              "type": "string"
            }
          },
          "metadata": {},
          "execution_count": 35
        }
      ]
    },
    {
      "cell_type": "code",
      "source": [
        "a = 'dog'*5"
      ],
      "metadata": {
        "id": "Pme007Wapvgk"
      },
      "execution_count": 36,
      "outputs": []
    },
    {
      "cell_type": "code",
      "source": [
        "a"
      ],
      "metadata": {
        "id": "lRSRRwTNsflx",
        "outputId": "691c8518-4350-46de-cf88-542cee057d73",
        "colab": {
          "base_uri": "https://localhost:8080/",
          "height": 36
        }
      },
      "execution_count": 37,
      "outputs": [
        {
          "output_type": "execute_result",
          "data": {
            "text/plain": [
              "'dogdogdogdogdog'"
            ],
            "application/vnd.google.colaboratory.intrinsic+json": {
              "type": "string"
            }
          },
          "metadata": {},
          "execution_count": 37
        }
      ]
    },
    {
      "cell_type": "code",
      "source": [
        "len(a)"
      ],
      "metadata": {
        "id": "6NcfQMm-sgK1",
        "outputId": "934ae28c-41df-4b84-d6b3-4c8f1a501336",
        "colab": {
          "base_uri": "https://localhost:8080/"
        }
      },
      "execution_count": 38,
      "outputs": [
        {
          "output_type": "execute_result",
          "data": {
            "text/plain": [
              "15"
            ]
          },
          "metadata": {},
          "execution_count": 38
        }
      ]
    },
    {
      "cell_type": "code",
      "source": [
        "a[-1]"
      ],
      "metadata": {
        "id": "JCMp6hGPsteb",
        "outputId": "9aee0214-fe15-4b23-a722-d4905b77877e",
        "colab": {
          "base_uri": "https://localhost:8080/",
          "height": 36
        }
      },
      "execution_count": 42,
      "outputs": [
        {
          "output_type": "execute_result",
          "data": {
            "text/plain": [
              "'g'"
            ],
            "application/vnd.google.colaboratory.intrinsic+json": {
              "type": "string"
            }
          },
          "metadata": {},
          "execution_count": 42
        }
      ]
    },
    {
      "cell_type": "code",
      "source": [
        "b = '='*30"
      ],
      "metadata": {
        "id": "nv0qmOPwskFF"
      },
      "execution_count": 39,
      "outputs": []
    },
    {
      "cell_type": "code",
      "source": [
        "len(b)"
      ],
      "metadata": {
        "id": "ijDF9-G0sqX5",
        "outputId": "af7bf73e-b966-489f-98fc-10d610cc5b9e",
        "colab": {
          "base_uri": "https://localhost:8080/"
        }
      },
      "execution_count": 40,
      "outputs": [
        {
          "output_type": "execute_result",
          "data": {
            "text/plain": [
              "30"
            ]
          },
          "metadata": {},
          "execution_count": 40
        }
      ]
    },
    {
      "cell_type": "code",
      "source": [
        ""
      ],
      "metadata": {
        "id": "gJTsFYkWsrjN"
      },
      "execution_count": null,
      "outputs": []
    },
    {
      "cell_type": "code",
      "source": [
        ""
      ],
      "metadata": {
        "id": "N5HjkGIOtsDQ"
      },
      "execution_count": null,
      "outputs": []
    },
    {
      "cell_type": "code",
      "source": [
        "def add(a, b):\n",
        "  c = a+b\n",
        "  return c"
      ],
      "metadata": {
        "id": "4Jg8V0VNtsAQ"
      },
      "execution_count": 46,
      "outputs": []
    },
    {
      "cell_type": "code",
      "source": [
        "def mul(a, b):\n",
        "  c = a*b\n",
        "  return c"
      ],
      "metadata": {
        "id": "2lirFxaJuLpD"
      },
      "execution_count": 53,
      "outputs": []
    },
    {
      "cell_type": "code",
      "source": [
        "def multi(a, b):\n",
        "  c = a+b\n",
        "  d = a*b\n",
        "  return c, d"
      ],
      "metadata": {
        "id": "rgbXGydwufwO"
      },
      "execution_count": 57,
      "outputs": []
    },
    {
      "cell_type": "code",
      "source": [
        "x, y = multi(55, 100)"
      ],
      "metadata": {
        "id": "CRB-1wLcutjA"
      },
      "execution_count": 58,
      "outputs": []
    },
    {
      "cell_type": "code",
      "source": [
        "x"
      ],
      "metadata": {
        "id": "yb117kkhutZK",
        "outputId": "f0366198-7573-4685-ae88-3ccc2f43fa81",
        "colab": {
          "base_uri": "https://localhost:8080/"
        }
      },
      "execution_count": 59,
      "outputs": [
        {
          "output_type": "execute_result",
          "data": {
            "text/plain": [
              "155"
            ]
          },
          "metadata": {},
          "execution_count": 59
        }
      ]
    },
    {
      "cell_type": "code",
      "source": [
        "y"
      ],
      "metadata": {
        "id": "WQjrd-Rsu2I8",
        "outputId": "2f184a43-9bbe-4f72-a1c5-c18446f6dbd7",
        "colab": {
          "base_uri": "https://localhost:8080/"
        }
      },
      "execution_count": 60,
      "outputs": [
        {
          "output_type": "execute_result",
          "data": {
            "text/plain": [
              "5500"
            ]
          },
          "metadata": {},
          "execution_count": 60
        }
      ]
    },
    {
      "cell_type": "code",
      "source": [
        ""
      ],
      "metadata": {
        "id": "bQs_UUeWu18u"
      },
      "execution_count": null,
      "outputs": []
    },
    {
      "cell_type": "code",
      "source": [
        "c = add(5,6)"
      ],
      "metadata": {
        "id": "353-Z_Nwtr9f"
      },
      "execution_count": 47,
      "outputs": []
    },
    {
      "cell_type": "code",
      "source": [
        "c"
      ],
      "metadata": {
        "id": "moYx0OTbtr63",
        "outputId": "f8093f71-ef03-45c2-b1b7-55144d133886",
        "colab": {
          "base_uri": "https://localhost:8080/"
        }
      },
      "execution_count": 48,
      "outputs": [
        {
          "output_type": "execute_result",
          "data": {
            "text/plain": [
              "11"
            ]
          },
          "metadata": {},
          "execution_count": 48
        }
      ]
    },
    {
      "cell_type": "code",
      "source": [
        "d = mul(3,10)"
      ],
      "metadata": {
        "id": "sv5WZPp_tr4R"
      },
      "execution_count": 54,
      "outputs": []
    },
    {
      "cell_type": "code",
      "source": [
        "d"
      ],
      "metadata": {
        "id": "qv2qBOQjtr1h",
        "outputId": "c48785e3-e579-48b8-9c49-57df2d7d7c7c",
        "colab": {
          "base_uri": "https://localhost:8080/"
        }
      },
      "execution_count": 55,
      "outputs": [
        {
          "output_type": "execute_result",
          "data": {
            "text/plain": [
              "30"
            ]
          },
          "metadata": {},
          "execution_count": 55
        }
      ]
    },
    {
      "cell_type": "code",
      "source": [
        ""
      ],
      "metadata": {
        "id": "o0tT9R9UuYob"
      },
      "execution_count": null,
      "outputs": []
    },
    {
      "cell_type": "code",
      "source": [
        "import numpy as np"
      ],
      "metadata": {
        "id": "TZgC2Ge3wkLN"
      },
      "execution_count": 71,
      "outputs": []
    },
    {
      "cell_type": "code",
      "source": [
        "scores = [[35, 45, 65, 78, 12], [95, 55, 15, 88, 19]]"
      ],
      "metadata": {
        "id": "9abq7VEoxO-b"
      },
      "execution_count": 75,
      "outputs": []
    },
    {
      "cell_type": "code",
      "source": [
        "scores[1][-1]"
      ],
      "metadata": {
        "id": "WyxWOBnzyQ2-",
        "outputId": "d9f1abc8-4e00-4a93-c1f1-3a020b434221",
        "colab": {
          "base_uri": "https://localhost:8080/"
        }
      },
      "execution_count": 77,
      "outputs": [
        {
          "output_type": "execute_result",
          "data": {
            "text/plain": [
              "19"
            ]
          },
          "metadata": {},
          "execution_count": 77
        }
      ]
    },
    {
      "cell_type": "code",
      "source": [
        "type(scores)\n"
      ],
      "metadata": {
        "id": "C0FztmOXxcXD",
        "outputId": "85e19920-bd7c-46bc-c894-3f4b28ea06d5",
        "colab": {
          "base_uri": "https://localhost:8080/"
        }
      },
      "execution_count": 64,
      "outputs": [
        {
          "output_type": "execute_result",
          "data": {
            "text/plain": [
              "list"
            ]
          },
          "metadata": {},
          "execution_count": 64
        }
      ]
    },
    {
      "cell_type": "code",
      "source": [
        "scores"
      ],
      "metadata": {
        "id": "ziJEl6sbxw6U",
        "outputId": "741c448c-2ece-4d2e-c760-cfc2e92040f3",
        "colab": {
          "base_uri": "https://localhost:8080/"
        }
      },
      "execution_count": 78,
      "outputs": [
        {
          "output_type": "execute_result",
          "data": {
            "text/plain": [
              "[[35, 45, 65, 78, 12], [95, 55, 15, 88, 19]]"
            ]
          },
          "metadata": {},
          "execution_count": 78
        }
      ]
    },
    {
      "cell_type": "code",
      "source": [
        "arr_scores = np.array(scores)"
      ],
      "metadata": {
        "id": "0xNBYVwBwkH-"
      },
      "execution_count": 79,
      "outputs": []
    },
    {
      "cell_type": "code",
      "source": [
        "type(arr_scores)"
      ],
      "metadata": {
        "id": "uM6OdGaqxb4L",
        "outputId": "9751f76e-987f-4ab3-947b-36d9b97b2703",
        "colab": {
          "base_uri": "https://localhost:8080/"
        }
      },
      "execution_count": 80,
      "outputs": [
        {
          "output_type": "execute_result",
          "data": {
            "text/plain": [
              "numpy.ndarray"
            ]
          },
          "metadata": {},
          "execution_count": 80
        }
      ]
    },
    {
      "cell_type": "code",
      "source": [
        "arr_scores"
      ],
      "metadata": {
        "id": "hgtndqrFwkDr",
        "outputId": "b4975d87-db1f-47b9-d482-46e231e36322",
        "colab": {
          "base_uri": "https://localhost:8080/"
        }
      },
      "execution_count": 81,
      "outputs": [
        {
          "output_type": "execute_result",
          "data": {
            "text/plain": [
              "array([[35, 45, 65, 78, 12],\n",
              "       [95, 55, 15, 88, 19]])"
            ]
          },
          "metadata": {},
          "execution_count": 81
        }
      ]
    },
    {
      "cell_type": "code",
      "source": [
        "arr_scores[1,4]"
      ],
      "metadata": {
        "id": "-xEwzWU3yloc",
        "outputId": "400059cf-6580-41e6-9bf1-931e5dcdb358",
        "colab": {
          "base_uri": "https://localhost:8080/"
        }
      },
      "execution_count": 83,
      "outputs": [
        {
          "output_type": "execute_result",
          "data": {
            "text/plain": [
              "19"
            ]
          },
          "metadata": {},
          "execution_count": 83
        }
      ]
    },
    {
      "cell_type": "code",
      "source": [
        "import pandas as pd"
      ],
      "metadata": {
        "id": "NSBjt2Tfwj_F"
      },
      "execution_count": 84,
      "outputs": []
    },
    {
      "cell_type": "code",
      "source": [
        "scores_columns = [\"Korean\", \"English\", \"Janpanese\", \"French\", \"Chainese\"]"
      ],
      "metadata": {
        "id": "9Fs-3erxzTrN"
      },
      "execution_count": 88,
      "outputs": []
    },
    {
      "cell_type": "code",
      "source": [
        "scores_index = [\"A_Class\", \"B_Calss\"]"
      ],
      "metadata": {
        "id": "Bv7Jpt19zUjR"
      },
      "execution_count": 89,
      "outputs": []
    },
    {
      "cell_type": "code",
      "source": [
        "df = pd.DataFrame(arr_scores, columns=scores_columns, index=scores_index)"
      ],
      "metadata": {
        "id": "QNMOe96YzEgA"
      },
      "execution_count": 90,
      "outputs": []
    },
    {
      "cell_type": "code",
      "source": [
        "df"
      ],
      "metadata": {
        "id": "jgcfAt_60PhZ",
        "outputId": "7f88046c-8b7e-4700-b0f0-eb914222fc9d",
        "colab": {
          "base_uri": "https://localhost:8080/",
          "height": 148
        }
      },
      "execution_count": 91,
      "outputs": [
        {
          "output_type": "execute_result",
          "data": {
            "text/plain": [
              "         Korean  English  Janpanese  French  Chainese\n",
              "A_Class      35       45         65      78        12\n",
              "B_Calss      95       55         15      88        19"
            ],
            "text/html": [
              "\n",
              "  <div id=\"df-8e1128d1-28b3-4d06-9f7d-0876e65b9106\">\n",
              "    <div class=\"colab-df-container\">\n",
              "      <div>\n",
              "<style scoped>\n",
              "    .dataframe tbody tr th:only-of-type {\n",
              "        vertical-align: middle;\n",
              "    }\n",
              "\n",
              "    .dataframe tbody tr th {\n",
              "        vertical-align: top;\n",
              "    }\n",
              "\n",
              "    .dataframe thead th {\n",
              "        text-align: right;\n",
              "    }\n",
              "</style>\n",
              "<table border=\"1\" class=\"dataframe\">\n",
              "  <thead>\n",
              "    <tr style=\"text-align: right;\">\n",
              "      <th></th>\n",
              "      <th>Korean</th>\n",
              "      <th>English</th>\n",
              "      <th>Janpanese</th>\n",
              "      <th>French</th>\n",
              "      <th>Chainese</th>\n",
              "    </tr>\n",
              "  </thead>\n",
              "  <tbody>\n",
              "    <tr>\n",
              "      <th>A_Class</th>\n",
              "      <td>35</td>\n",
              "      <td>45</td>\n",
              "      <td>65</td>\n",
              "      <td>78</td>\n",
              "      <td>12</td>\n",
              "    </tr>\n",
              "    <tr>\n",
              "      <th>B_Calss</th>\n",
              "      <td>95</td>\n",
              "      <td>55</td>\n",
              "      <td>15</td>\n",
              "      <td>88</td>\n",
              "      <td>19</td>\n",
              "    </tr>\n",
              "  </tbody>\n",
              "</table>\n",
              "</div>\n",
              "      <button class=\"colab-df-convert\" onclick=\"convertToInteractive('df-8e1128d1-28b3-4d06-9f7d-0876e65b9106')\"\n",
              "              title=\"Convert this dataframe to an interactive table.\"\n",
              "              style=\"display:none;\">\n",
              "        \n",
              "  <svg xmlns=\"http://www.w3.org/2000/svg\" height=\"24px\"viewBox=\"0 0 24 24\"\n",
              "       width=\"24px\">\n",
              "    <path d=\"M0 0h24v24H0V0z\" fill=\"none\"/>\n",
              "    <path d=\"M18.56 5.44l.94 2.06.94-2.06 2.06-.94-2.06-.94-.94-2.06-.94 2.06-2.06.94zm-11 1L8.5 8.5l.94-2.06 2.06-.94-2.06-.94L8.5 2.5l-.94 2.06-2.06.94zm10 10l.94 2.06.94-2.06 2.06-.94-2.06-.94-.94-2.06-.94 2.06-2.06.94z\"/><path d=\"M17.41 7.96l-1.37-1.37c-.4-.4-.92-.59-1.43-.59-.52 0-1.04.2-1.43.59L10.3 9.45l-7.72 7.72c-.78.78-.78 2.05 0 2.83L4 21.41c.39.39.9.59 1.41.59.51 0 1.02-.2 1.41-.59l7.78-7.78 2.81-2.81c.8-.78.8-2.07 0-2.86zM5.41 20L4 18.59l7.72-7.72 1.47 1.35L5.41 20z\"/>\n",
              "  </svg>\n",
              "      </button>\n",
              "      \n",
              "  <style>\n",
              "    .colab-df-container {\n",
              "      display:flex;\n",
              "      flex-wrap:wrap;\n",
              "      gap: 12px;\n",
              "    }\n",
              "\n",
              "    .colab-df-convert {\n",
              "      background-color: #E8F0FE;\n",
              "      border: none;\n",
              "      border-radius: 50%;\n",
              "      cursor: pointer;\n",
              "      display: none;\n",
              "      fill: #1967D2;\n",
              "      height: 32px;\n",
              "      padding: 0 0 0 0;\n",
              "      width: 32px;\n",
              "    }\n",
              "\n",
              "    .colab-df-convert:hover {\n",
              "      background-color: #E2EBFA;\n",
              "      box-shadow: 0px 1px 2px rgba(60, 64, 67, 0.3), 0px 1px 3px 1px rgba(60, 64, 67, 0.15);\n",
              "      fill: #174EA6;\n",
              "    }\n",
              "\n",
              "    [theme=dark] .colab-df-convert {\n",
              "      background-color: #3B4455;\n",
              "      fill: #D2E3FC;\n",
              "    }\n",
              "\n",
              "    [theme=dark] .colab-df-convert:hover {\n",
              "      background-color: #434B5C;\n",
              "      box-shadow: 0px 1px 3px 1px rgba(0, 0, 0, 0.15);\n",
              "      filter: drop-shadow(0px 1px 2px rgba(0, 0, 0, 0.3));\n",
              "      fill: #FFFFFF;\n",
              "    }\n",
              "  </style>\n",
              "\n",
              "      <script>\n",
              "        const buttonEl =\n",
              "          document.querySelector('#df-8e1128d1-28b3-4d06-9f7d-0876e65b9106 button.colab-df-convert');\n",
              "        buttonEl.style.display =\n",
              "          google.colab.kernel.accessAllowed ? 'block' : 'none';\n",
              "\n",
              "        async function convertToInteractive(key) {\n",
              "          const element = document.querySelector('#df-8e1128d1-28b3-4d06-9f7d-0876e65b9106');\n",
              "          const dataTable =\n",
              "            await google.colab.kernel.invokeFunction('convertToInteractive',\n",
              "                                                     [key], {});\n",
              "          if (!dataTable) return;\n",
              "\n",
              "          const docLinkHtml = 'Like what you see? Visit the ' +\n",
              "            '<a target=\"_blank\" href=https://colab.research.google.com/notebooks/data_table.ipynb>data table notebook</a>'\n",
              "            + ' to learn more about interactive tables.';\n",
              "          element.innerHTML = '';\n",
              "          dataTable['output_type'] = 'display_data';\n",
              "          await google.colab.output.renderOutput(dataTable, element);\n",
              "          const docLink = document.createElement('div');\n",
              "          docLink.innerHTML = docLinkHtml;\n",
              "          element.appendChild(docLink);\n",
              "        }\n",
              "      </script>\n",
              "    </div>\n",
              "  </div>\n",
              "  "
            ]
          },
          "metadata": {},
          "execution_count": 91
        }
      ]
    },
    {
      "cell_type": "code",
      "source": [
        ""
      ],
      "metadata": {
        "id": "swaZYe7B0QJi"
      },
      "execution_count": null,
      "outputs": []
    }
  ]
}