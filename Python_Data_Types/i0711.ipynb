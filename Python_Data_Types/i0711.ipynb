{
  "cells": [
    {
      "cell_type": "markdown",
      "metadata": {
        "id": "view-in-github",
        "colab_type": "text"
      },
      "source": [
        "<a href=\"https://colab.research.google.com/github/JSJeong-me/Machine_Learning/blob/main/Python_Data_Types/i0711.ipynb\" target=\"_parent\"><img src=\"https://colab.research.google.com/assets/colab-badge.svg\" alt=\"Open In Colab\"/></a>"
      ]
    },
    {
      "cell_type": "markdown",
      "metadata": {
        "id": "8ny_rGrJnGTa"
      },
      "source": [
        "# matplotlib"
      ]
    },
    {
      "cell_type": "code",
      "source": [
        "!pip list"
      ],
      "metadata": {
        "id": "9qa3dfTExap0"
      },
      "execution_count": null,
      "outputs": []
    },
    {
      "cell_type": "markdown",
      "metadata": {
        "id": "BcyytvuMnGTg"
      },
      "source": [
        "pip install matplotlib"
      ]
    },
    {
      "cell_type": "markdown",
      "metadata": {
        "id": "6iEaUK7JnGTh"
      },
      "source": [
        "https://matplotlib.org/gallery/index.html"
      ]
    },
    {
      "cell_type": "code",
      "execution_count": 1,
      "metadata": {
        "id": "GXmE5JsDnGTi"
      },
      "outputs": [],
      "source": [
        "import matplotlib.pyplot as plt"
      ]
    },
    {
      "cell_type": "code",
      "source": [
        "# plt.show()"
      ],
      "metadata": {
        "id": "aWSQ8gunx41Z"
      },
      "execution_count": null,
      "outputs": []
    },
    {
      "cell_type": "code",
      "source": [
        "import numpy as np\n"
      ],
      "metadata": {
        "id": "_oNohY2DyIj6"
      },
      "execution_count": 2,
      "outputs": []
    },
    {
      "cell_type": "code",
      "execution_count": 3,
      "metadata": {
        "id": "c1tBQdq3nGTj"
      },
      "outputs": [],
      "source": [
        "# %matplotlib inline"
      ]
    },
    {
      "cell_type": "code",
      "source": [
        "np.linspace(0,5,11)"
      ],
      "metadata": {
        "id": "IlO_5KQCU4SZ",
        "outputId": "28f3aed9-b418-40e8-aa1e-7c9924e15aac",
        "colab": {
          "base_uri": "https://localhost:8080/"
        }
      },
      "execution_count": 3,
      "outputs": [
        {
          "output_type": "execute_result",
          "data": {
            "text/plain": [
              "array([0. , 0.5, 1. , 1.5, 2. , 2.5, 3. , 3.5, 4. , 4.5, 5. ])"
            ]
          },
          "metadata": {},
          "execution_count": 3
        }
      ]
    },
    {
      "cell_type": "code",
      "source": [
        ""
      ],
      "metadata": {
        "id": "mBp_xoiPyNrN"
      },
      "execution_count": null,
      "outputs": []
    },
    {
      "cell_type": "code",
      "execution_count": 4,
      "metadata": {
        "id": "kZ1QEZSFnGTk"
      },
      "outputs": [],
      "source": [
        "#import numpy as np\n",
        "x = np.linspace(0,5,11)\n",
        "y = x ** 2"
      ]
    },
    {
      "cell_type": "code",
      "execution_count": 9,
      "metadata": {
        "id": "6n55OK-xnGTl",
        "outputId": "07d0a767-85d3-4e68-fd98-498e25877d7b",
        "colab": {
          "base_uri": "https://localhost:8080/"
        }
      },
      "outputs": [
        {
          "output_type": "execute_result",
          "data": {
            "text/plain": [
              "11"
            ]
          },
          "metadata": {},
          "execution_count": 9
        }
      ],
      "source": [
        "len(x)"
      ]
    },
    {
      "cell_type": "code",
      "source": [
        "x.shape"
      ],
      "metadata": {
        "id": "W28fbXykyU_e",
        "outputId": "4f8718da-ab46-446b-ceab-330df695891a",
        "colab": {
          "base_uri": "https://localhost:8080/"
        }
      },
      "execution_count": 10,
      "outputs": [
        {
          "output_type": "execute_result",
          "data": {
            "text/plain": [
              "(11,)"
            ]
          },
          "metadata": {},
          "execution_count": 10
        }
      ]
    },
    {
      "cell_type": "code",
      "execution_count": 11,
      "metadata": {
        "id": "jNNc4bqpnGTm",
        "outputId": "8efff680-8f76-4b18-aa4e-b128830d2ce8",
        "colab": {
          "base_uri": "https://localhost:8080/"
        }
      },
      "outputs": [
        {
          "output_type": "execute_result",
          "data": {
            "text/plain": [
              "array([ 0.  ,  0.25,  1.  ,  2.25,  4.  ,  6.25,  9.  , 12.25, 16.  ,\n",
              "       20.25, 25.  ])"
            ]
          },
          "metadata": {},
          "execution_count": 11
        }
      ],
      "source": [
        "y"
      ]
    },
    {
      "cell_type": "markdown",
      "metadata": {
        "id": "PM1eVHflnGTn"
      },
      "source": [
        "**Functional Method**"
      ]
    },
    {
      "cell_type": "code",
      "source": [
        "plt.plot(x, y)\n",
        "plt.title(\"y= x**2\")\n",
        "plt.xlabel(\"X axis\")\n",
        "plt.ylabel(\"Y axis\")\n",
        "plt.show()"
      ],
      "metadata": {
        "id": "FPwscmDdyd72",
        "outputId": "3dbc66af-8608-4fd2-b075-87bc5486126e",
        "colab": {
          "base_uri": "https://localhost:8080/",
          "height": 295
        }
      },
      "execution_count": 9,
      "outputs": [
        {
          "output_type": "display_data",
          "data": {
            "text/plain": [
              "<Figure size 432x288 with 1 Axes>"
            ],
            "image/png": "[encoded data removed]"
          },
          "metadata": {
            "needs_background": "light"
          }
        }
      ]
    },
    {
      "cell_type": "code",
      "execution_count": null,
      "metadata": {
        "id": "nJAOXXoBnGTo"
      },
      "outputs": [],
      "source": [
        "# plt.plot(x, y)\n",
        "# plt.xlabel('X Label')\n",
        "# plt.ylabel('Y Label')\n",
        "# plt.title('Title')"
      ]
    },
    {
      "cell_type": "code",
      "source": [
        "plt.subplot(1,2, 1)\n",
        "plt.plot(x, y, 'b')"
      ],
      "metadata": {
        "id": "HycJX_CkzU-g",
        "outputId": "e9a71255-dbfc-406f-f121-1d00b986f407",
        "colab": {
          "base_uri": "https://localhost:8080/",
          "height": 283
        }
      },
      "execution_count": 16,
      "outputs": [
        {
          "output_type": "execute_result",
          "data": {
            "text/plain": [
              "[<matplotlib.lines.Line2D at 0x7fbe73697ad0>]"
            ]
          },
          "metadata": {},
          "execution_count": 16
        },
        {
          "output_type": "display_data",
          "data": {
            "text/plain": [
              "<Figure size 432x288 with 1 Axes>"
            ],
            "image/png": "[encoded data removed]"
          },
          "metadata": {
            "needs_background": "light"
          }
        }
      ]
    },
    {
      "cell_type": "code",
      "source": [
        "plt.subplot(1, 2, 2)\n",
        "plt.plot(x, y, 'r')"
      ],
      "metadata": {
        "id": "A9dM0Tc4zU7b",
        "outputId": "2aad51ab-27c6-4fdb-cb2f-3c4d47e40954",
        "colab": {
          "base_uri": "https://localhost:8080/",
          "height": 283
        }
      },
      "execution_count": 17,
      "outputs": [
        {
          "output_type": "execute_result",
          "data": {
            "text/plain": [
              "[<matplotlib.lines.Line2D at 0x7fbe735f5b10>]"
            ]
          },
          "metadata": {},
          "execution_count": 17
        },
        {
          "output_type": "display_data",
          "data": {
            "text/plain": [
              "<Figure size 432x288 with 1 Axes>"
            ],
            "image/png": "[encoded data removed]"
          },
          "metadata": {
            "needs_background": "light"
          }
        }
      ]
    },
    {
      "cell_type": "code",
      "source": [
        ""
      ],
      "metadata": {
        "id": "bDtVGJCqzU3l"
      },
      "execution_count": null,
      "outputs": []
    },
    {
      "cell_type": "code",
      "source": [
        ""
      ],
      "metadata": {
        "id": "Vv7qR3bHzU0L"
      },
      "execution_count": null,
      "outputs": []
    },
    {
      "cell_type": "markdown",
      "metadata": {
        "id": "1lDDElk-nGTp"
      },
      "source": [
        "Create Multi-plots"
      ]
    },
    {
      "cell_type": "code",
      "execution_count": null,
      "metadata": {
        "id": "-TtwinBNnGTp"
      },
      "outputs": [],
      "source": [
        "plt.subplot(1,2,1)\n",
        "plt.plot(x,y,'r')\n",
        "\n",
        "plt.subplot(1,2,2)\n",
        "plt.plot(y,x,'b')"
      ]
    },
    {
      "cell_type": "markdown",
      "metadata": {
        "id": "8J8tC_iPnGTq"
      },
      "source": [
        "**Object-oriented Method**"
      ]
    },
    {
      "cell_type": "markdown",
      "source": [
        "### https://engineer-mole.tistory.com/218\n"
      ],
      "metadata": {
        "id": "9iagc93zViAi"
      }
    },
    {
      "cell_type": "markdown",
      "source": [
        "![img.png](data:image/png;base64,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)"
      ],
      "metadata": {
        "id": "fSOcV4WCV-ZO"
      }
    },
    {
      "cell_type": "code",
      "source": [
        "# # [경우1]\n",
        "\n",
        "# x = np.linspace(-3, 3, 20)\n",
        "# y1 = x\n",
        "# y2 = x ** 2\n",
        " \n",
        "# # figure는 1개\n",
        "# plt.figure(figsize=(3, 4))\n",
        " \n",
        "# plt.subplot(2,1,1)\n",
        "# plt.plot(x, y1)\n",
        " \n",
        "# plt.subplot(2,1,2)\n",
        "# plt.plot(x, y2)\n",
        " \n",
        "# plt.show()"
      ],
      "metadata": {
        "id": "PQwzqDYUV0yz"
      },
      "execution_count": null,
      "outputs": []
    },
    {
      "cell_type": "markdown",
      "source": [
        "자유롭게 그래프를 배치\n",
        " 자유롭게 그래프를 배치하고 싶은 경우 axes 메소드를 사용한다.\n",
        "\n",
        "axes([왼쪽, 아래, 폭, 높이])\n",
        "\n",
        "각 값은 0부터 1사이의 소수만 지정할 수 있다.\n"
      ],
      "metadata": {
        "id": "A9dzzlP_Wdi-"
      }
    },
    {
      "cell_type": "code",
      "execution_count": 18,
      "metadata": {
        "id": "wQxODk4VnGTq",
        "outputId": "d3b257d2-b835-4e08-e40a-b5488e6bb234",
        "colab": {
          "base_uri": "https://localhost:8080/",
          "height": 326
        }
      },
      "outputs": [
        {
          "output_type": "execute_result",
          "data": {
            "text/plain": [
              "Text(0.5, 1.0, 'Set Title')"
            ]
          },
          "metadata": {},
          "execution_count": 18
        },
        {
          "output_type": "display_data",
          "data": {
            "text/plain": [
              "<Figure size 432x288 with 1 Axes>"
            ],
            "image/png": "[encoded data removed]"
          },
          "metadata": {
            "needs_background": "light"
          }
        }
      ],
      "source": [
        "# create figure object (empty canvas)\n",
        "fig = plt.figure()\n",
        "\n",
        "# define the location of the axes\n",
        "# [ left, bottom, width, height ] 0 ~ 1\n",
        "\n",
        "axes = fig.add_axes([ 0.1, 0.1, 0.8, 0.8 ])\n",
        "\n",
        "axes.plot(x,y)\n",
        "axes.set_xlabel( 'X Label' )\n",
        "axes.set_ylabel( 'Y Label' )\n",
        "axes.set_title( 'Set Title' )"
      ]
    },
    {
      "cell_type": "code",
      "execution_count": 25,
      "metadata": {
        "id": "SCWCj6btnGTr",
        "outputId": "eaa5a558-03a3-4e34-ac93-dc91c07b1991",
        "colab": {
          "base_uri": "https://localhost:8080/",
          "height": 312
        }
      },
      "outputs": [
        {
          "output_type": "execute_result",
          "data": {
            "text/plain": [
              "Text(0.5, 1.0, 'RIght Under PLOT')"
            ]
          },
          "metadata": {},
          "execution_count": 25
        },
        {
          "output_type": "display_data",
          "data": {
            "text/plain": [
              "<Figure size 432x288 with 3 Axes>"
            ],
            "image/png": "[encoded data removed]"
          },
          "metadata": {
            "needs_background": "light"
          }
        }
      ],
      "source": [
        "fig = plt.figure()\n",
        "\n",
        "axes1 = fig.add_axes([0.1, 0.1, 0.8, 0.8])\n",
        "axes2 = fig.add_axes([0.2, 0.5, 0.4, 0.4])\n",
        "axes3 = fig.add_axes([0.5, 0.1, 0.4, 0.4])\n",
        "\n",
        "axes1.plot(x,y)\n",
        "axes1.set_title('LARGER PLOT')\n",
        "axes2.plot(y,x)\n",
        "axes2.set_title('SMALLER PLOT')\n",
        "axes3.plot(y,x)\n",
        "axes3.set_title('RIght Under PLOT')"
      ]
    },
    {
      "cell_type": "markdown",
      "metadata": {
        "id": "ZLSPzYzCnGTr"
      },
      "source": [
        "subplots()"
      ]
    },
    {
      "cell_type": "code",
      "source": [
        "fig, axes =plt.subplots(3,2)"
      ],
      "metadata": {
        "id": "xL4GZv_X3e8M",
        "outputId": "02da72e4-d38f-4037-814d-f945b9d12bce",
        "colab": {
          "base_uri": "https://localhost:8080/",
          "height": 269
        }
      },
      "execution_count": 45,
      "outputs": [
        {
          "output_type": "display_data",
          "data": {
            "text/plain": [
              "<Figure size 432x288 with 6 Axes>"
            ],
            "image/png": "[encoded data removed]"
          },
          "metadata": {
            "needs_background": "light"
          }
        }
      ]
    },
    {
      "cell_type": "code",
      "source": [
        "axes.shape"
      ],
      "metadata": {
        "id": "9bz0rXF23iGx",
        "outputId": "9962a785-3046-4b1a-da4c-d43a8783dedb",
        "colab": {
          "base_uri": "https://localhost:8080/"
        }
      },
      "execution_count": 46,
      "outputs": [
        {
          "output_type": "execute_result",
          "data": {
            "text/plain": [
              "(3, 2)"
            ]
          },
          "metadata": {},
          "execution_count": 46
        }
      ]
    },
    {
      "cell_type": "code",
      "source": [
        "axes[0,0]"
      ],
      "metadata": {
        "id": "5ikx5oyo3iDu",
        "outputId": "91c690cb-d138-4dbb-ee55-415020303094",
        "colab": {
          "base_uri": "https://localhost:8080/"
        }
      },
      "execution_count": 47,
      "outputs": [
        {
          "output_type": "execute_result",
          "data": {
            "text/plain": [
              "<matplotlib.axes._subplots.AxesSubplot at 0x7fbe6ab7e350>"
            ]
          },
          "metadata": {},
          "execution_count": 47
        }
      ]
    },
    {
      "cell_type": "code",
      "source": [
        ""
      ],
      "metadata": {
        "id": "4CJTcxD93iBD"
      },
      "execution_count": null,
      "outputs": []
    },
    {
      "cell_type": "code",
      "source": [
        ""
      ],
      "metadata": {
        "id": "ElcUM5zr3h-V"
      },
      "execution_count": null,
      "outputs": []
    },
    {
      "cell_type": "code",
      "source": [
        ""
      ],
      "metadata": {
        "id": "mdsXDU8h3h7x"
      },
      "execution_count": null,
      "outputs": []
    },
    {
      "cell_type": "code",
      "source": [
        ""
      ],
      "metadata": {
        "id": "qYT6QF_Q3h4m"
      },
      "execution_count": null,
      "outputs": []
    },
    {
      "cell_type": "code",
      "source": [
        "fig, axes = plt.subplots( nrows = 1, ncols = 2 )"
      ],
      "metadata": {
        "id": "o62DnuKB2Sdf"
      },
      "execution_count": null,
      "outputs": []
    },
    {
      "cell_type": "code",
      "source": [
        "type(axes)"
      ],
      "metadata": {
        "id": "__A4c6LD2Wt8",
        "outputId": "84aad683-87f4-4553-906f-5c5357bf7c1f",
        "colab": {
          "base_uri": "https://localhost:8080/"
        }
      },
      "execution_count": 28,
      "outputs": [
        {
          "output_type": "execute_result",
          "data": {
            "text/plain": [
              "numpy.ndarray"
            ]
          },
          "metadata": {},
          "execution_count": 28
        }
      ]
    },
    {
      "cell_type": "code",
      "source": [
        "axes.shape"
      ],
      "metadata": {
        "id": "NcZtJodu2etl",
        "outputId": "94761687-137e-44bd-cf86-50d5e732f7e6",
        "colab": {
          "base_uri": "https://localhost:8080/"
        }
      },
      "execution_count": 33,
      "outputs": [
        {
          "output_type": "execute_result",
          "data": {
            "text/plain": [
              "(2,)"
            ]
          },
          "metadata": {},
          "execution_count": 33
        }
      ]
    },
    {
      "cell_type": "code",
      "source": [
        "axes[0].plot(x,y,\"r\")"
      ],
      "metadata": {
        "id": "_RYl9n782sDO",
        "outputId": "76033049-dc3c-4c72-f8e6-e65ab19d810b",
        "colab": {
          "base_uri": "https://localhost:8080/"
        }
      },
      "execution_count": 39,
      "outputs": [
        {
          "output_type": "execute_result",
          "data": {
            "text/plain": [
              "[<matplotlib.lines.Line2D at 0x7fbe6afbe090>]"
            ]
          },
          "metadata": {},
          "execution_count": 39
        }
      ]
    },
    {
      "cell_type": "code",
      "source": [
        "axes[1].plot(x,y, \"b\")"
      ],
      "metadata": {
        "id": "cG73OaA52xcp",
        "outputId": "c4df5a51-cf4a-49f0-f977-57bd7d04bcd4",
        "colab": {
          "base_uri": "https://localhost:8080/"
        }
      },
      "execution_count": 40,
      "outputs": [
        {
          "output_type": "execute_result",
          "data": {
            "text/plain": [
              "[<matplotlib.lines.Line2D at 0x7fbe6b0171d0>]"
            ]
          },
          "metadata": {},
          "execution_count": 40
        }
      ]
    },
    {
      "cell_type": "code",
      "execution_count": 36,
      "metadata": {
        "id": "4uqfmpVAnGTs",
        "outputId": "b5fe15a6-8a05-4b18-855f-ce3bc7c39888",
        "colab": {
          "base_uri": "https://localhost:8080/",
          "height": 35
        }
      },
      "outputs": [
        {
          "output_type": "display_data",
          "data": {
            "text/plain": [
              "<Figure size 432x288 with 0 Axes>"
            ]
          },
          "metadata": {}
        }
      ],
      "source": [
        "\n",
        "\n",
        "# axes[0].plot(x, y)\n",
        "# axes[1].plot(y, x)\n",
        "\n",
        "plt.tight_layout()"
      ]
    },
    {
      "cell_type": "code",
      "source": [
        "fig"
      ],
      "metadata": {
        "id": "b9O4ka5J3Dmy",
        "outputId": "a2f3f840-c317-4a7d-89df-b81dcc92581c",
        "colab": {
          "base_uri": "https://localhost:8080/",
          "height": 265
        }
      },
      "execution_count": 41,
      "outputs": [
        {
          "output_type": "execute_result",
          "data": {
            "text/plain": [
              "<Figure size 432x288 with 2 Axes>"
            ],
            "image/png": "[encoded data removed]"
          },
          "metadata": {},
          "execution_count": 41
        }
      ]
    },
    {
      "cell_type": "code",
      "source": [
        ""
      ],
      "metadata": {
        "id": "-XOze8Sg3XYs"
      },
      "execution_count": null,
      "outputs": []
    },
    {
      "cell_type": "markdown",
      "metadata": {
        "id": "NxQt2G9inGTs"
      },
      "source": [
        "Figure Size and DPI"
      ]
    },
    {
      "cell_type": "code",
      "source": [
        "fig = plt.figure(figsize = (8,2), dpi = 60)"
      ],
      "metadata": {
        "id": "hMFkmbLi4H8z",
        "outputId": "22f389ed-9b58-4f0e-d3bb-f8d5f05ed494",
        "colab": {
          "base_uri": "https://localhost:8080/",
          "height": 35
        }
      },
      "execution_count": 48,
      "outputs": [
        {
          "output_type": "display_data",
          "data": {
            "text/plain": [
              "<Figure size 480x120 with 0 Axes>"
            ]
          },
          "metadata": {}
        }
      ]
    },
    {
      "cell_type": "code",
      "source": [
        "fig"
      ],
      "metadata": {
        "id": "20GviTJ_4JTr",
        "outputId": "f797a9d4-b3df-469b-a5a3-52766ca1129b",
        "colab": {
          "base_uri": "https://localhost:8080/"
        }
      },
      "execution_count": 49,
      "outputs": [
        {
          "output_type": "execute_result",
          "data": {
            "text/plain": [
              "<Figure size 480x120 with 0 Axes>"
            ]
          },
          "metadata": {},
          "execution_count": 49
        }
      ]
    },
    {
      "cell_type": "code",
      "execution_count": 50,
      "metadata": {
        "id": "EzJzjqiknGTs",
        "outputId": "26524a40-3098-45d4-8805-e15feb843efa",
        "colab": {
          "base_uri": "https://localhost:8080/",
          "height": 181
        }
      },
      "outputs": [
        {
          "output_type": "execute_result",
          "data": {
            "text/plain": [
              "[<matplotlib.lines.Line2D at 0x7fbe6a922410>]"
            ]
          },
          "metadata": {},
          "execution_count": 50
        },
        {
          "output_type": "display_data",
          "data": {
            "text/plain": [
              "<Figure size 480x120 with 1 Axes>"
            ],
            "image/png": "[encoded data removed]"
          },
          "metadata": {
            "needs_background": "light"
          }
        }
      ],
      "source": [
        "fig = plt.figure(figsize = (8,2), dpi = 60)\n",
        "\n",
        "ax = fig.add_axes([0,0,1,1])\n",
        "ax.plot(x,y)"
      ]
    },
    {
      "cell_type": "markdown",
      "metadata": {
        "id": "S1yLxpq5nGTt"
      },
      "source": [
        "Save a Figure"
      ]
    },
    {
      "cell_type": "code",
      "execution_count": 51,
      "metadata": {
        "id": "argmCgrWnGTt"
      },
      "outputs": [],
      "source": [
        "fig.savefig( 'my_picture.png', dpi = 200 )"
      ]
    },
    {
      "cell_type": "markdown",
      "metadata": {
        "id": "Hkxb0fJLnGTt"
      },
      "source": [
        "Adding a Legend"
      ]
    },
    {
      "cell_type": "code",
      "execution_count": 53,
      "metadata": {
        "id": "EZS9SKOvnGTu",
        "outputId": "56f5d969-625b-4481-8e06-d38ff29eab6b",
        "colab": {
          "base_uri": "https://localhost:8080/",
          "height": 354
        }
      },
      "outputs": [
        {
          "output_type": "execute_result",
          "data": {
            "text/plain": [
              "<matplotlib.legend.Legend at 0x7fbe6a94d990>"
            ]
          },
          "metadata": {},
          "execution_count": 53
        },
        {
          "output_type": "display_data",
          "data": {
            "text/plain": [
              "<Figure size 432x288 with 1 Axes>"
            ],
            "image/png": "[encoded data removed]"
          },
          "metadata": {
            "needs_background": "light"
          }
        }
      ],
      "source": [
        "fig = plt.figure()\n",
        "ax = fig.add_axes([0,0,1,1])\n",
        "\n",
        "ax.plot( x, x ** 2, label = 'X Squared' )\n",
        "ax.plot( x, x ** 3, label = 'X Cubed' )\n",
        "\n",
        "ax.legend( loc = (0.5, 0.5) )\n",
        "# 0 ~ 10 locations"
      ]
    },
    {
      "cell_type": "markdown",
      "metadata": {
        "id": "9eVKEM0mnGTu"
      },
      "source": [
        "Plot Appearance"
      ]
    },
    {
      "cell_type": "code",
      "execution_count": 55,
      "metadata": {
        "id": "t_x7YQ-TnGTu",
        "outputId": "84b242bb-0ee1-4316-b42f-0d8e96d272e7",
        "colab": {
          "base_uri": "https://localhost:8080/",
          "height": 354
        }
      },
      "outputs": [
        {
          "output_type": "execute_result",
          "data": {
            "text/plain": [
              "[<matplotlib.lines.Line2D at 0x7fbe6ade8790>]"
            ]
          },
          "metadata": {},
          "execution_count": 55
        },
        {
          "output_type": "display_data",
          "data": {
            "text/plain": [
              "<Figure size 432x288 with 1 Axes>"
            ],
            "image/png": "[encoded data removed]"
          },
          "metadata": {
            "needs_background": "light"
          }
        }
      ],
      "source": [
        "fig = plt.figure()\n",
        "ax = fig.add_axes( [0, 0, 1, 1] )\n",
        "\n",
        "ax.plot( x, y, color = '#FF8C00', linewidth = 0.5, alpha = 0.5,\n",
        "       linestyle = '--', marker = 'o', markersize = 20,\n",
        "       markerfacecolor = 'b', markeredgewidth = 3, \n",
        "        markeredgecolor = 'green') \n",
        "# refer to the 'RGB Hex Code' for custom colors\n",
        "# marker = o, +, *, 1, 2, etc."
      ]
    },
    {
      "cell_type": "markdown",
      "metadata": {
        "id": "ItGKxgM6nGTv"
      },
      "source": [
        "Plot Range"
      ]
    },
    {
      "cell_type": "code",
      "source": [
        "fig , axes = plt.subplots(2,3)"
      ],
      "metadata": {
        "id": "pWvqdDcA5r0l",
        "outputId": "d82253aa-2593-4711-8c7c-25add56d6caa",
        "colab": {
          "base_uri": "https://localhost:8080/",
          "height": 269
        }
      },
      "execution_count": 63,
      "outputs": [
        {
          "output_type": "display_data",
          "data": {
            "text/plain": [
              "<Figure size 432x288 with 6 Axes>"
            ],
            "image/png": "[encoded data removed]"
          },
          "metadata": {
            "needs_background": "light"
          }
        }
      ]
    },
    {
      "cell_type": "code",
      "source": [
        "axes[1,2]"
      ],
      "metadata": {
        "id": "KLlzksw66Ann",
        "outputId": "85f3c9f3-888c-44d9-ca25-0acc09c81146",
        "colab": {
          "base_uri": "https://localhost:8080/"
        }
      },
      "execution_count": 65,
      "outputs": [
        {
          "output_type": "execute_result",
          "data": {
            "text/plain": [
              "<matplotlib.axes._subplots.AxesSubplot at 0x7fbe6a7ee590>"
            ]
          },
          "metadata": {},
          "execution_count": 65
        }
      ]
    },
    {
      "cell_type": "code",
      "execution_count": 59,
      "metadata": {
        "id": "jIxcmpnrnGTv",
        "outputId": "4351950d-27c3-4657-85c8-150fea0e3da9",
        "colab": {
          "base_uri": "https://localhost:8080/",
          "height": 358
        }
      },
      "outputs": [
        {
          "output_type": "execute_result",
          "data": {
            "text/plain": [
              "(0.0, 2.0)"
            ]
          },
          "metadata": {},
          "execution_count": 59
        },
        {
          "output_type": "display_data",
          "data": {
            "text/plain": [
              "<Figure size 432x288 with 1 Axes>"
            ],
            "image/png": "[encoded data removed]"
          },
          "metadata": {
            "needs_background": "light"
          }
        }
      ],
      "source": [
        "fig = plt.figure()\n",
        "ax = fig.add_axes( [0.0, 0.0, 1, 1] )\n",
        "\n",
        "ax.plot( x, y, color = 'purple', lw = 2, ls = '--' )\n",
        "\n",
        "ax.set_xlim( [0, 1] )\n",
        "ax.set_ylim( [0, 2] )"
      ]
    },
    {
      "cell_type": "markdown",
      "metadata": {
        "id": "k1RdrB4dnGTv"
      },
      "source": [
        "matplotlib Tutorial\n",
        "\n",
        "http://www.loria.fr/~rougier/teaching/matplotlib"
      ]
    },
    {
      "cell_type": "markdown",
      "metadata": {
        "id": "El-tWes-nGTv"
      },
      "source": [
        "Plotting a Figure (Object-oriented Method)\n",
        "1. Call figure\n",
        "2. Add axes to the figure\n",
        "3. Plot on the axes"
      ]
    }
  ],
  "metadata": {
    "kernelspec": {
      "display_name": "Python 3",
      "language": "python",
      "name": "python3"
    },
    "language_info": {
      "codemirror_mode": {
        "name": "ipython",
        "version": 3
      },
      "file_extension": ".py",
      "mimetype": "text/x-python",
      "name": "python",
      "nbconvert_exporter": "python",
      "pygments_lexer": "ipython3",
      "version": "3.7.6"
    },
    "colab": {
      "name": "3-matplotlib.ipynb",
      "provenance": [],
      "include_colab_link": true
    }
  },
  "nbformat": 4,
  "nbformat_minor": 0
}