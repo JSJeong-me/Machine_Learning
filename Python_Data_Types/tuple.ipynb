{
  "nbformat": 4,
  "nbformat_minor": 0,
  "metadata": {
    "colab": {
      "name": "Untitled14.ipynb",
      "provenance": [],
      "authorship_tag": "ABX9TyOLE3T41LmD7GsGVMIrXLVU",
      "include_colab_link": true
    },
    "kernelspec": {
      "name": "python3",
      "display_name": "Python 3"
    },
    "language_info": {
      "name": "python"
    }
  },
  "cells": [
    {
      "cell_type": "markdown",
      "metadata": {
        "id": "view-in-github",
        "colab_type": "text"
      },
      "source": [
        "<a href=\"https://colab.research.google.com/github/JSJeong-me/Machine_Learning/blob/main/Python_Data_Types/tuple.ipynb\" target=\"_parent\"><img src=\"https://colab.research.google.com/assets/colab-badge.svg\" alt=\"Open In Colab\"/></a>"
      ]
    },
    {
      "cell_type": "code",
      "source": [
        "t = (\"AB\", 10, False)\n",
        "print(t)"
      ],
      "metadata": {
        "colab": {
          "base_uri": "https://localhost:8080/"
        },
        "id": "VMgyPt0KUQjW",
        "outputId": "f94d5f71-3d69-4266-cb1d-00321e11cefa"
      },
      "execution_count": 36,
      "outputs": [
        {
          "output_type": "stream",
          "name": "stdout",
          "text": [
            "('AB', 10, False)\n"
          ]
        }
      ]
    },
    {
      "cell_type": "code",
      "source": [
        "type(t)"
      ],
      "metadata": {
        "id": "7iTf0yfMUl7c",
        "outputId": "41f56743-9866-4e4b-b6d7-6544aca58217",
        "colab": {
          "base_uri": "https://localhost:8080/"
        }
      },
      "execution_count": 37,
      "outputs": [
        {
          "output_type": "execute_result",
          "data": {
            "text/plain": [
              "tuple"
            ]
          },
          "metadata": {},
          "execution_count": 37
        }
      ]
    },
    {
      "cell_type": "code",
      "source": [
        "t[0]"
      ],
      "metadata": {
        "id": "Bosl1ctwUl36",
        "outputId": "d7e2ee1d-b84f-4ad6-8891-87278eb53451",
        "colab": {
          "base_uri": "https://localhost:8080/",
          "height": 35
        }
      },
      "execution_count": 38,
      "outputs": [
        {
          "output_type": "execute_result",
          "data": {
            "text/plain": [
              "'AB'"
            ],
            "application/vnd.google.colaboratory.intrinsic+json": {
              "type": "string"
            }
          },
          "metadata": {},
          "execution_count": 38
        }
      ]
    },
    {
      "cell_type": "code",
      "source": [
        "t[0] = 'CD'"
      ],
      "metadata": {
        "id": "hjh5m0zxUl0p",
        "outputId": "d68a267b-af96-4a54-faf3-324689791587",
        "colab": {
          "base_uri": "https://localhost:8080/",
          "height": 174
        }
      },
      "execution_count": 39,
      "outputs": [
        {
          "output_type": "error",
          "ename": "TypeError",
          "evalue": "ignored",
          "traceback": [
            "\u001b[0;31m---------------------------------------------------------------------------\u001b[0m",
            "\u001b[0;31mTypeError\u001b[0m                                 Traceback (most recent call last)",
            "\u001b[0;32m<ipython-input-39-5acd466d6752>\u001b[0m in \u001b[0;36m<module>\u001b[0;34m()\u001b[0m\n\u001b[0;32m----> 1\u001b[0;31m \u001b[0mt\u001b[0m\u001b[0;34m[\u001b[0m\u001b[0;36m0\u001b[0m\u001b[0;34m]\u001b[0m \u001b[0;34m=\u001b[0m \u001b[0;34m'CD'\u001b[0m\u001b[0;34m\u001b[0m\u001b[0;34m\u001b[0m\u001b[0m\n\u001b[0m",
            "\u001b[0;31mTypeError\u001b[0m: 'tuple' object does not support item assignment"
          ]
        }
      ]
    },
    {
      "cell_type": "code",
      "source": [
        "x, y, z = t"
      ],
      "metadata": {
        "id": "4O8gv9bQUlxq"
      },
      "execution_count": 45,
      "outputs": []
    },
    {
      "cell_type": "code",
      "source": [
        ""
      ],
      "metadata": {
        "id": "wj2n2CAyUluq"
      },
      "execution_count": null,
      "outputs": []
    },
    {
      "cell_type": "code",
      "source": [
        ""
      ],
      "metadata": {
        "id": "NiKjciVoUlsI"
      },
      "execution_count": null,
      "outputs": []
    },
    {
      "cell_type": "code",
      "source": [
        ""
      ],
      "metadata": {
        "id": "spGxyfrTUlpV"
      },
      "execution_count": null,
      "outputs": []
    },
    {
      "cell_type": "code",
      "source": [
        ""
      ],
      "metadata": {
        "id": "SlkESNK2Ulmp"
      },
      "execution_count": null,
      "outputs": []
    },
    {
      "cell_type": "code",
      "source": [
        ""
      ],
      "metadata": {
        "id": "FShMvYB_Uljy"
      },
      "execution_count": null,
      "outputs": []
    },
    {
      "cell_type": "code",
      "source": [
        ""
      ],
      "metadata": {
        "id": "1tndwixlUlhF"
      },
      "execution_count": null,
      "outputs": []
    },
    {
      "cell_type": "code",
      "source": [
        ""
      ],
      "metadata": {
        "id": "zfmJLyRwUled"
      },
      "execution_count": null,
      "outputs": []
    },
    {
      "cell_type": "code",
      "source": [
        ""
      ],
      "metadata": {
        "id": "znJ9zDE6Ulbm"
      },
      "execution_count": null,
      "outputs": []
    },
    {
      "cell_type": "code",
      "source": [
        ""
      ],
      "metadata": {
        "id": "V4t3CPehUlY7"
      },
      "execution_count": null,
      "outputs": []
    },
    {
      "cell_type": "code",
      "source": [
        ""
      ],
      "metadata": {
        "id": "gfQAByhUUlWJ"
      },
      "execution_count": null,
      "outputs": []
    },
    {
      "cell_type": "code",
      "source": [
        ""
      ],
      "metadata": {
        "id": "no8Z4xRyUlTZ"
      },
      "execution_count": null,
      "outputs": []
    },
    {
      "cell_type": "code",
      "source": [
        ""
      ],
      "metadata": {
        "id": "d_6Tlq-IUlQS"
      },
      "execution_count": null,
      "outputs": []
    },
    {
      "cell_type": "code",
      "source": [
        ""
      ],
      "metadata": {
        "id": "c2EVuZpjUlGs"
      },
      "execution_count": null,
      "outputs": []
    },
    {
      "cell_type": "code",
      "source": [
        ""
      ],
      "metadata": {
        "id": "Kh4aUUscUQfh"
      },
      "execution_count": null,
      "outputs": []
    },
    {
      "cell_type": "code",
      "source": [
        ""
      ],
      "metadata": {
        "id": "7hz0zesqUQbz"
      },
      "execution_count": null,
      "outputs": []
    },
    {
      "cell_type": "code",
      "source": [
        ""
      ],
      "metadata": {
        "id": "Z9aXkBhaUQYK"
      },
      "execution_count": null,
      "outputs": []
    },
    {
      "cell_type": "code",
      "source": [
        ""
      ],
      "metadata": {
        "id": "Xc8NAI8CUQUL"
      },
      "execution_count": null,
      "outputs": []
    },
    {
      "cell_type": "code",
      "source": [
        ""
      ],
      "metadata": {
        "id": "Kkn4WIhWUQMS"
      },
      "execution_count": null,
      "outputs": []
    },
    {
      "cell_type": "code",
      "source": [
        ""
      ],
      "metadata": {
        "id": "5Eq4xdZrUQBS"
      },
      "execution_count": null,
      "outputs": []
    },
    {
      "cell_type": "code",
      "source": [
        "print(x, y, z)\n",
        "print(x)\n",
        "print(y)\n",
        "print(z)"
      ],
      "metadata": {
        "id": "yszRPY6ROnGN"
      },
      "execution_count": null,
      "outputs": []
    },
    {
      "cell_type": "code",
      "source": [
        "# 여러개의 변수에 여러개의 값을 값을 저장\n",
        "x, y, z = 10, 20, 30\n",
        "\n",
        "print(x, y, z)\n",
        "print(x)\n",
        "print(y)\n",
        "print(z)"
      ],
      "metadata": {
        "id": "alRV0jooOqLM"
      },
      "execution_count": null,
      "outputs": []
    },
    {
      "cell_type": "code",
      "source": [
        "# 여러 개의 변에 동일한 값을 할당\n",
        "a=b=c=100\n",
        "\n",
        "print(a, b, c)"
      ],
      "metadata": {
        "id": "ylGLoVwNOtdU"
      },
      "execution_count": null,
      "outputs": []
    },
    {
      "cell_type": "code",
      "source": [
        "#두 변수의 값을 교환 (swap)\n",
        "\n",
        "a, b = 10, 20\n",
        "\n",
        "print('a=', a)\n",
        "print('b=', b)\n",
        "\n",
        "print('[swap] ')"
      ],
      "metadata": {
        "id": "ifwFPFb4OwDU"
      },
      "execution_count": null,
      "outputs": []
    },
    {
      "cell_type": "code",
      "source": [
        "c = a\n",
        "a = b\n",
        "b = c"
      ],
      "metadata": {
        "id": "RGDwqvXgO0nl"
      },
      "execution_count": null,
      "outputs": []
    },
    {
      "cell_type": "code",
      "source": [
        "a, b = b, a\n",
        "\n",
        "print('a=', a)\n",
        "print('b=', b)"
      ],
      "metadata": {
        "id": "eWkYOUWyO3Ul"
      },
      "execution_count": null,
      "outputs": []
    },
    {
      "cell_type": "code",
      "source": [
        "# 변수를 삭제\n",
        "\n",
        "x = 100\n",
        "\n",
        "print(x)\n",
        "\n",
        "print(id(x))\n",
        "print(type(x))"
      ],
      "metadata": {
        "id": "WKDyc277O571"
      },
      "execution_count": null,
      "outputs": []
    },
    {
      "cell_type": "code",
      "source": [
        "del x\n",
        "\n",
        "print(x)"
      ],
      "metadata": {
        "id": "OoRNWmQdO-xd"
      },
      "execution_count": null,
      "outputs": []
    },
    {
      "cell_type": "code",
      "source": [
        "# 문자열에 큰 따옴표 사용\n",
        "name = \"땡땡이\"\n",
        "age = 15\n",
        "\n",
        "print(name, age)\n",
        "\n",
        "address = '서울'\n",
        "print(name + \"는 \" + address + \"에 삽니다\")\n",
        "print(name + '는 ' + address + '에 삽니다')"
      ],
      "metadata": {
        "id": "6g2W1RTHPBeV"
      },
      "execution_count": null,
      "outputs": []
    },
    {
      "cell_type": "code",
      "source": [
        "# str( ) : 숫자형을 문자열로 형변환\n",
        "\n",
        "print(name + '은 ' + str(age) + '살입니다')\n",
        "\n",
        "\n",
        "print(name + '은 ' , age , '살입니다')\n",
        "\n",
        "#문자열 변수와 값을 연결할 때 값이 숫자면 + 사용 불가\n",
        "#문자열 데이터를 연결할 때문 + 사용 가능\n",
        "print(name + \"은\"+ address + \" 에 삽니다.\")\n",
        "#print(name + \"은\" + age + \"살 입니다.\") #age 숫자 변수 -error\n",
        "print(name + \"은\" + str(age) + \"살 입니다.\") #age 형변환"
      ],
      "metadata": {
        "id": "zrvqsmvvPSms"
      },
      "execution_count": null,
      "outputs": []
    },
    {
      "cell_type": "code",
      "source": [
        "#--형변환\n",
        "#값의 형태를 강제적으로 다른 형태로 변환하는 것\n",
        "#int -> str, str-> folot\n",
        "#문자열 형변환 함수 str()\n",
        "#정수형 형변환 함수 int()\n",
        "#실수형 형변환 함수 float()\n",
        "##파이썬은 파일 단위로 일괄 실행 시킨다. 가급적 콘솔 실행은 하지 말 것"
      ],
      "metadata": {
        "id": "gVvj9BJHPWJl"
      },
      "execution_count": null,
      "outputs": []
    },
    {
      "cell_type": "code",
      "source": [
        "# 사각형의 면적을 구하는 프로그램\n",
        "\n",
        "width = 100\n",
        "height = 50\n",
        "area = width * height\n",
        "print(\"사각형의 면적은\", area)"
      ],
      "metadata": {
        "id": "3hs5eJnPPaXE"
      },
      "execution_count": null,
      "outputs": []
    },
    {
      "cell_type": "code",
      "source": [
        "name = '홍길동'\n",
        "no = 2016001\n",
        "year = 4\n",
        "grade = 'A'\n",
        "average = 93.5\n",
        "\n",
        "print( \"성명 : \" + name)\n",
        "print( \"학번 :\" , no)\n",
        "print( \"학년 :\", year)\n",
        "print( \"성적 : \"+ grade)\n",
        "print( \"평균 :\", average)"
      ],
      "metadata": {
        "id": "MElF30NrPcGN"
      },
      "execution_count": null,
      "outputs": []
    },
    {
      "cell_type": "code",
      "source": [
        "print( \"성명 : %s\" % name)\n",
        "print( \"학번 : %d\" % no)\n",
        "print( \"학년 : %d\" % year)\n",
        "print( \"성적 : %s\" % grade)\n",
        "print( \"평균 : %10.2f\" % average)"
      ],
      "metadata": {
        "id": "tjYRQbqOPgAt"
      },
      "execution_count": null,
      "outputs": []
    },
    {
      "cell_type": "code",
      "source": [
        "print('이름: %s, 학년: %d' %(name, year))"
      ],
      "metadata": {
        "id": "m5lQUStHPhkd"
      },
      "execution_count": null,
      "outputs": []
    },
    {
      "cell_type": "code",
      "source": [
        "rate= 80\n",
        "print('이름: %s, 출석률: %d%%' %(name, rate))\n",
        "\n",
        "print(format(average, '.2f'))"
      ],
      "metadata": {
        "id": "Unxv6Z_mPkWF"
      },
      "execution_count": null,
      "outputs": []
    },
    {
      "cell_type": "code",
      "source": [
        "kor= 90\n",
        "eng = 80\n",
        "math = 80\n",
        "total = kor + eng + math\n",
        "average = total / 3\n",
        "\n",
        "print('총점: %d, 평균: %.2f' %(total, average))"
      ],
      "metadata": {
        "id": "wpIWu8uzPn-l"
      },
      "execution_count": null,
      "outputs": []
    },
    {
      "cell_type": "code",
      "source": [
        "# 상수\n",
        "# 값이 변경되지 않는 값\n",
        "# 파이썬에서는 별도의 상수가 없음\n",
        "# 변수와 구분하기 위해 대문자로 사용\n",
        "# 나중에 상수의 값을 변경해도 오류가 없음\n",
        "# 프로그램 내에서 변하지 않는 값을 쓸때는 상수로 처리하는\n",
        "# 것이 편하다.\n",
        "\n",
        "PI = 3.141592 #대문자이름이므로 상수로 처리\n",
        "r = 10\n",
        "area =r*r*PI\n",
        "print(area)\n",
        "\n",
        "INT_RATE = 0.03\n",
        "\n",
        "deposit = 10000\n",
        "interest = deposit * INT_RATE\n",
        "balance = deposit + interest\n",
        "\n",
        "print(balance) #변수값 그대로 출력\n",
        "print(int(balance)) #변수값을 정수형으로 형변환 후 출력\n",
        "print(format(int(balance),',')) #변수값을 정수형으로 형 변환후 천단위 구분자 기호"
      ],
      "metadata": {
        "id": "Le8va6NnPpat"
      },
      "execution_count": null,
      "outputs": []
    },
    {
      "cell_type": "code",
      "source": [
        "#정수 리터럴\n",
        "a = 0b1010 #2진수\n",
        "b = 300\n",
        "c =0o123 #8진수\n",
        "d = 0x12fc #16진수\n",
        "print(a, b, c, d)\n"
      ],
      "metadata": {
        "id": "Ejm9Ax97PwGE"
      },
      "execution_count": null,
      "outputs": []
    },
    {
      "cell_type": "code",
      "source": [
        "#-------------------\n",
        "#실수 리터럴\n",
        "f1 = 3.14\n",
        "f2 = -123.45\n",
        "f3 =1.234567e5\n",
        "print(f1,f2,f3)"
      ],
      "metadata": {
        "id": "_RzhU98ePzTl"
      },
      "execution_count": null,
      "outputs": []
    },
    {
      "cell_type": "code",
      "source": [
        "#----------------\n",
        "#문자열 리터럴\n",
        "char1 = 'A'\n",
        "char2 = \"B\"\n",
        "print(char1,char2)"
      ],
      "metadata": {
        "id": "up0S_sLMP10l"
      },
      "execution_count": null,
      "outputs": []
    },
    {
      "cell_type": "code",
      "source": [
        "str1 ='홍길동'\n",
        "str2 = \"python\"\n",
        "str3 = \"\"\"Python Programming\"\"\"\n",
        "str3 = '''Python Programming'''"
      ],
      "metadata": {
        "id": "ZJwtpEcrP4S0"
      },
      "execution_count": null,
      "outputs": []
    },
    {
      "cell_type": "code",
      "source": [
        "str4 = '''삼 따옴표는\n",
        "여러줄에 나누어서\n",
        "문자을 저장할 때 사용'''#enter까지 문자열로 저장"
      ],
      "metadata": {
        "id": "Jxc6y07yP89l"
      },
      "execution_count": null,
      "outputs": []
    },
    {
      "cell_type": "code",
      "source": [
        "'''삼 따옴표는\n",
        "여러줄에 나누어서\n",
        "문자을 저장할 때 사용'''#enter까지 문자열로 저장"
      ],
      "metadata": {
        "id": "UfOAk0-XQDwV"
      },
      "execution_count": null,
      "outputs": []
    },
    {
      "cell_type": "code",
      "source": [
        "print(str4)\n",
        "\n",
        "#논리값 리터럴\n",
        "t = True\n",
        "f = False"
      ],
      "metadata": {
        "id": "YyXFJk5jP-Yt"
      },
      "execution_count": null,
      "outputs": []
    },
    {
      "cell_type": "code",
      "source": [
        "print(t,f)\n",
        "\n",
        "#특수 리터럴\n",
        "#None"
      ],
      "metadata": {
        "id": "MCRPVIMCQMlN"
      },
      "execution_count": null,
      "outputs": []
    },
    {
      "cell_type": "code",
      "source": [
        "address = None\n",
        "print(address)\n",
        "print(type(address))\n",
        "print(id(address))"
      ],
      "metadata": {
        "id": "6fYolkOlQR7M"
      },
      "execution_count": null,
      "outputs": []
    },
    {
      "cell_type": "code",
      "source": [
        "a = 1 + 2 + \\\n",
        "    4 + 5\n",
        "print(a)\n",
        "\n",
        "b = (1 + 2+\n",
        "     3+5)\n",
        "print(b)\n",
        "\n",
        "print(\"c:\\pythonStudy\\name\")\n",
        "print(r\"c:\\pythonStudy\\name\")\n",
        "\n",
        "print(\"first\", end=\"@\")\n",
        "print(\"second\")\n"
      ],
      "metadata": {
        "id": "HReI_K-NQTU0"
      },
      "execution_count": null,
      "outputs": []
    },
    {
      "cell_type": "code",
      "source": [
        "#주석문\n",
        "# 프로그램에 대한 설명문, 실행에 영향 없음\n",
        "\n",
        "#주석처리 방법\n",
        "# 1줄 주석 : 줄 맨 처음에 # 기호 사용\n",
        "# 블럭 주석 : 파이썬은 여러줄 주석 기호는 없음. 다만, ''' ''' 이용하면\n",
        "# 문자열 처리 되면서 실행에 영향을 주지 않는다\n",
        "#\n",
        "# 주석문을 미리 입력 해 농고 ctrl + / 키를 이용해 한번에 주석처리\n",
        "\n",
        "# 주석을 사용하는 이유\n",
        "# 프로그램에 관한 정보를 추가할 수 있다.\n",
        "# 수정이 용이하다\n",
        "# 가독성을 높여준다.\n",
        "# 코드를 이해하기 쉽다\n",
        "#\n",
        "# 가능하면 코드에 주석을 붙이는 습관이 필요"
      ],
      "metadata": {
        "id": "wJblWG4BQbNd"
      },
      "execution_count": null,
      "outputs": []
    },
    {
      "cell_type": "code",
      "source": [
        "#----------------------------------------\n",
        "#행 분리 기호\n",
        "# 1줄의 내용이 긴 경우 여러 행으로 분리 가능\n",
        "# 역 슬래시나 괄호 사용\n",
        "\n",
        "#역 슬래시 사용\n",
        "# a = 1+2+3+ \\\n",
        "# 4+5+6\n",
        "\n",
        "#괄호 사용\n",
        "a = (1+2+3+\n",
        "4+5+6)"
      ],
      "metadata": {
        "id": "GuphXyx3Qcdl"
      },
      "execution_count": null,
      "outputs": []
    },
    {
      "cell_type": "code",
      "source": [
        "#print 함수에서 여러 행으로 입력\n",
        "#문자열 중간에서 엔터키를 치면 다음행으로 가고 자동을 \"\"처리되면서\n",
        "#1줄로 인식\n",
        "\n",
        "print(\"긴 문장을 입력할 때 중간에서 엔터키를 치면\"\n",
        "      \"다음행으로 가고 자동으로 따옴표 처리 되면서\"\n",
        "      \"1줄로 인식\")\n",
        "\n",
        "#여러줄로 출력 하려면 줄바꿈 문자(\\n)  사용\n",
        "print(\"긴 문장을 입력할 때 중간에서 엔터키를 치면\\n\"\n",
        "      \"다음행으로 가고 자동으로 따옴표 처리 되면서\\n\"\n",
        "      \"1줄로 인식\")"
      ],
      "metadata": {
        "id": "P7X8iiG_Qgft"
      },
      "execution_count": null,
      "outputs": []
    },
    {
      "cell_type": "code",
      "source": [
        "#------------행결합\n",
        "#2개의 문장을 한줄에 입력시 에러 발생\n",
        "# print('apple') print('banana')\n",
        "\n",
        "#행 결합해서 2개 문장을 한줄에 입력하기 위해 ; 을 추가\n",
        "print('apple') ; print('banana')\n"
      ],
      "metadata": {
        "id": "YxhE7QQrQkRN"
      },
      "execution_count": null,
      "outputs": []
    },
    {
      "cell_type": "code",
      "source": [
        "#print() 함수 : 다음행으로 커서를 이동\n",
        "print(\"first\")\n",
        "print(\"second\")\n",
        "\n",
        "#옆으로 출력(한줄에 모두 출력)\n",
        "print(\"first\", end=\"\")\n",
        "print(\"second\")\n",
        "\n",
        "#구분자 표시: 띄어쓰기, 쉼표, 대시, 콜론, ....\n",
        "print(\"first\", end=\"-\")\n",
        "print(\"second\")"
      ],
      "metadata": {
        "id": "Uj0FBTB_Qoc0"
      },
      "execution_count": null,
      "outputs": []
    }
  ]
}