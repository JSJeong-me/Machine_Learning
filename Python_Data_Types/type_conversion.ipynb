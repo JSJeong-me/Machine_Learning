{
  "nbformat": 4,
  "nbformat_minor": 0,
  "metadata": {
    "colab": {
      "name": "Untitled14.ipynb",
      "provenance": [],
      "authorship_tag": "ABX9TyOvuzJ5U1KgcmhOSN0KvtVR",
      "include_colab_link": true
    },
    "kernelspec": {
      "name": "python3",
      "display_name": "Python 3"
    },
    "language_info": {
      "name": "python"
    }
  },
  "cells": [
    {
      "cell_type": "markdown",
      "metadata": {
        "id": "view-in-github",
        "colab_type": "text"
      },
      "source": [
        "<a href=\"https://colab.research.google.com/github/JSJeong-me/Machine_Learning/blob/main/Python_Data_Types/type_conversion.ipynb\" target=\"_parent\"><img src=\"https://colab.research.google.com/assets/colab-badge.svg\" alt=\"Open In Colab\"/></a>"
      ]
    },
    {
      "cell_type": "markdown",
      "source": [
        "\n",
        "### https://m.blog.naver.com/wideeyed/221964700554\n",
        "\n",
        "\n"
      ],
      "metadata": {
        "id": "xI62vW1ZaGP7"
      }
    },
    {
      "cell_type": "code",
      "source": [
        ""
      ],
      "metadata": {
        "id": "wAq4mFXFaFuT"
      },
      "execution_count": null,
      "outputs": []
    },
    {
      "cell_type": "code",
      "source": [
        "scores = [[11, 12, 13], [21, 22, 23]]"
      ],
      "metadata": {
        "id": "MZtofFfRYI5X"
      },
      "execution_count": 72,
      "outputs": []
    },
    {
      "cell_type": "code",
      "source": [
        ""
      ],
      "metadata": {
        "id": "hbZhEX8XYI19"
      },
      "execution_count": null,
      "outputs": []
    },
    {
      "cell_type": "code",
      "source": [
        "import numpy as np"
      ],
      "metadata": {
        "id": "qpN6T1OJYIwC"
      },
      "execution_count": 73,
      "outputs": []
    },
    {
      "cell_type": "code",
      "source": [
        "score_array = np.array(scores)"
      ],
      "metadata": {
        "id": "iLhVtRQhYItk"
      },
      "execution_count": 74,
      "outputs": []
    },
    {
      "cell_type": "code",
      "source": [
        "score_array[0,1]"
      ],
      "metadata": {
        "id": "WqaZ7fdUYIqs",
        "outputId": "d720b2e4-bb43-4bb0-fda3-18c6e9ffa93d",
        "colab": {
          "base_uri": "https://localhost:8080/"
        }
      },
      "execution_count": 75,
      "outputs": [
        {
          "output_type": "execute_result",
          "data": {
            "text/plain": [
              "12"
            ]
          },
          "metadata": {},
          "execution_count": 75
        }
      ]
    },
    {
      "cell_type": "code",
      "source": [
        ""
      ],
      "metadata": {
        "id": "fZXhvl3mYIoE"
      },
      "execution_count": null,
      "outputs": []
    },
    {
      "cell_type": "code",
      "source": [
        "import pandas as pd"
      ],
      "metadata": {
        "id": "TeRgfvtEYIlV"
      },
      "execution_count": 76,
      "outputs": []
    },
    {
      "cell_type": "code",
      "source": [
        "scores_columns = [\"Korean\", \"English\", \"Math\"]\n",
        "scores_index = [\"1_Class\", \"2_Class\"]"
      ],
      "metadata": {
        "id": "V3xiZwWzYIi8"
      },
      "execution_count": 77,
      "outputs": []
    },
    {
      "cell_type": "code",
      "source": [
        "df_scores = pd.DataFrame(score_array, index = scores_index, columns = scores_columns)"
      ],
      "metadata": {
        "id": "xRynluTvYIgD"
      },
      "execution_count": 78,
      "outputs": []
    },
    {
      "cell_type": "code",
      "source": [
        ""
      ],
      "metadata": {
        "id": "IvLD1Iz5YIdS"
      },
      "execution_count": null,
      "outputs": []
    },
    {
      "cell_type": "code",
      "source": [
        "df_scores.iloc[0]  # 배열형태가 아닌 값을 입력하면 1차원 시리즈 형태가 리턴됩니다."
      ],
      "metadata": {
        "id": "ZZhcbbXUYIam",
        "outputId": "3239ece8-d0a7-45ef-ab23-1c1105049e3a",
        "colab": {
          "base_uri": "https://localhost:8080/"
        }
      },
      "execution_count": 87,
      "outputs": [
        {
          "output_type": "execute_result",
          "data": {
            "text/plain": [
              "Korean     11\n",
              "English    12\n",
              "Math       13\n",
              "Name: 1_Class, dtype: int64"
            ]
          },
          "metadata": {},
          "execution_count": 87
        }
      ]
    },
    {
      "cell_type": "code",
      "source": [
        ""
      ],
      "metadata": {
        "id": "CY4oCceeYIXy"
      },
      "execution_count": null,
      "outputs": []
    },
    {
      "cell_type": "code",
      "source": [
        "df_scores.loc[['1_Class']]  # 배열형태를 입력하면 2차원 데이터프레임 형태가 리턴됩니다."
      ],
      "metadata": {
        "id": "pjYQdoRmYIU6",
        "outputId": "8fbcb7c1-267c-4133-b68c-f465ebd674ac",
        "colab": {
          "base_uri": "https://localhost:8080/",
          "height": 81
        }
      },
      "execution_count": 88,
      "outputs": [
        {
          "output_type": "execute_result",
          "data": {
            "text/plain": [
              "         Korean  English  Math\n",
              "1_Class      11       12    13"
            ],
            "text/html": [
              "\n",
              "  <div id=\"df-9cd2b230-5f42-4a82-8dc0-58068eff1809\">\n",
              "    <div class=\"colab-df-container\">\n",
              "      <div>\n",
              "<style scoped>\n",
              "    .dataframe tbody tr th:only-of-type {\n",
              "        vertical-align: middle;\n",
              "    }\n",
              "\n",
              "    .dataframe tbody tr th {\n",
              "        vertical-align: top;\n",
              "    }\n",
              "\n",
              "    .dataframe thead th {\n",
              "        text-align: right;\n",
              "    }\n",
              "</style>\n",
              "<table border=\"1\" class=\"dataframe\">\n",
              "  <thead>\n",
              "    <tr style=\"text-align: right;\">\n",
              "      <th></th>\n",
              "      <th>Korean</th>\n",
              "      <th>English</th>\n",
              "      <th>Math</th>\n",
              "    </tr>\n",
              "  </thead>\n",
              "  <tbody>\n",
              "    <tr>\n",
              "      <th>1_Class</th>\n",
              "      <td>11</td>\n",
              "      <td>12</td>\n",
              "      <td>13</td>\n",
              "    </tr>\n",
              "  </tbody>\n",
              "</table>\n",
              "</div>\n",
              "      <button class=\"colab-df-convert\" onclick=\"convertToInteractive('df-9cd2b230-5f42-4a82-8dc0-58068eff1809')\"\n",
              "              title=\"Convert this dataframe to an interactive table.\"\n",
              "              style=\"display:none;\">\n",
              "        \n",
              "  <svg xmlns=\"http://www.w3.org/2000/svg\" height=\"24px\"viewBox=\"0 0 24 24\"\n",
              "       width=\"24px\">\n",
              "    <path d=\"M0 0h24v24H0V0z\" fill=\"none\"/>\n",
              "    <path d=\"M18.56 5.44l.94 2.06.94-2.06 2.06-.94-2.06-.94-.94-2.06-.94 2.06-2.06.94zm-11 1L8.5 8.5l.94-2.06 2.06-.94-2.06-.94L8.5 2.5l-.94 2.06-2.06.94zm10 10l.94 2.06.94-2.06 2.06-.94-2.06-.94-.94-2.06-.94 2.06-2.06.94z\"/><path d=\"M17.41 7.96l-1.37-1.37c-.4-.4-.92-.59-1.43-.59-.52 0-1.04.2-1.43.59L10.3 9.45l-7.72 7.72c-.78.78-.78 2.05 0 2.83L4 21.41c.39.39.9.59 1.41.59.51 0 1.02-.2 1.41-.59l7.78-7.78 2.81-2.81c.8-.78.8-2.07 0-2.86zM5.41 20L4 18.59l7.72-7.72 1.47 1.35L5.41 20z\"/>\n",
              "  </svg>\n",
              "      </button>\n",
              "      \n",
              "  <style>\n",
              "    .colab-df-container {\n",
              "      display:flex;\n",
              "      flex-wrap:wrap;\n",
              "      gap: 12px;\n",
              "    }\n",
              "\n",
              "    .colab-df-convert {\n",
              "      background-color: #E8F0FE;\n",
              "      border: none;\n",
              "      border-radius: 50%;\n",
              "      cursor: pointer;\n",
              "      display: none;\n",
              "      fill: #1967D2;\n",
              "      height: 32px;\n",
              "      padding: 0 0 0 0;\n",
              "      width: 32px;\n",
              "    }\n",
              "\n",
              "    .colab-df-convert:hover {\n",
              "      background-color: #E2EBFA;\n",
              "      box-shadow: 0px 1px 2px rgba(60, 64, 67, 0.3), 0px 1px 3px 1px rgba(60, 64, 67, 0.15);\n",
              "      fill: #174EA6;\n",
              "    }\n",
              "\n",
              "    [theme=dark] .colab-df-convert {\n",
              "      background-color: #3B4455;\n",
              "      fill: #D2E3FC;\n",
              "    }\n",
              "\n",
              "    [theme=dark] .colab-df-convert:hover {\n",
              "      background-color: #434B5C;\n",
              "      box-shadow: 0px 1px 3px 1px rgba(0, 0, 0, 0.15);\n",
              "      filter: drop-shadow(0px 1px 2px rgba(0, 0, 0, 0.3));\n",
              "      fill: #FFFFFF;\n",
              "    }\n",
              "  </style>\n",
              "\n",
              "      <script>\n",
              "        const buttonEl =\n",
              "          document.querySelector('#df-9cd2b230-5f42-4a82-8dc0-58068eff1809 button.colab-df-convert');\n",
              "        buttonEl.style.display =\n",
              "          google.colab.kernel.accessAllowed ? 'block' : 'none';\n",
              "\n",
              "        async function convertToInteractive(key) {\n",
              "          const element = document.querySelector('#df-9cd2b230-5f42-4a82-8dc0-58068eff1809');\n",
              "          const dataTable =\n",
              "            await google.colab.kernel.invokeFunction('convertToInteractive',\n",
              "                                                     [key], {});\n",
              "          if (!dataTable) return;\n",
              "\n",
              "          const docLinkHtml = 'Like what you see? Visit the ' +\n",
              "            '<a target=\"_blank\" href=https://colab.research.google.com/notebooks/data_table.ipynb>data table notebook</a>'\n",
              "            + ' to learn more about interactive tables.';\n",
              "          element.innerHTML = '';\n",
              "          dataTable['output_type'] = 'display_data';\n",
              "          await google.colab.output.renderOutput(dataTable, element);\n",
              "          const docLink = document.createElement('div');\n",
              "          docLink.innerHTML = docLinkHtml;\n",
              "          element.appendChild(docLink);\n",
              "        }\n",
              "      </script>\n",
              "    </div>\n",
              "  </div>\n",
              "  "
            ]
          },
          "metadata": {},
          "execution_count": 88
        }
      ]
    },
    {
      "cell_type": "code",
      "source": [
        ""
      ],
      "metadata": {
        "id": "XYMk85c2YIRM"
      },
      "execution_count": null,
      "outputs": []
    },
    {
      "cell_type": "code",
      "source": [
        "df_scores.loc[:, 'Korean'] # 배열행태가 아닌 값을 입력하면 1차원 시리즈 형태가 리턴됩니다."
      ],
      "metadata": {
        "colab": {
          "base_uri": "https://localhost:8080/"
        },
        "id": "1TymbGQAXqNJ",
        "outputId": "2f1fae19-e2ba-4f70-81a8-6e3e53fd0b2f"
      },
      "execution_count": 89,
      "outputs": [
        {
          "output_type": "execute_result",
          "data": {
            "text/plain": [
              "1_Class    11\n",
              "2_Class    21\n",
              "Name: Korean, dtype: int64"
            ]
          },
          "metadata": {},
          "execution_count": 89
        }
      ]
    },
    {
      "cell_type": "code",
      "source": [
        "df_scores.loc[:, ['Korean']]  # 배열형태로 열명을 입력하면 2차원 데이터프레임 형태가 리턴됩니다.\n"
      ],
      "metadata": {
        "colab": {
          "base_uri": "https://localhost:8080/",
          "height": 112
        },
        "id": "0ag6YKCEXqKC",
        "outputId": "65e9feba-e7c6-4610-eb43-08c8d5025e92"
      },
      "execution_count": 91,
      "outputs": [
        {
          "output_type": "execute_result",
          "data": {
            "text/plain": [
              "         Korean\n",
              "1_Class      11\n",
              "2_Class      21"
            ],
            "text/html": [
              "\n",
              "  <div id=\"df-aa3afa69-89be-4c26-bc1f-2fe999305858\">\n",
              "    <div class=\"colab-df-container\">\n",
              "      <div>\n",
              "<style scoped>\n",
              "    .dataframe tbody tr th:only-of-type {\n",
              "        vertical-align: middle;\n",
              "    }\n",
              "\n",
              "    .dataframe tbody tr th {\n",
              "        vertical-align: top;\n",
              "    }\n",
              "\n",
              "    .dataframe thead th {\n",
              "        text-align: right;\n",
              "    }\n",
              "</style>\n",
              "<table border=\"1\" class=\"dataframe\">\n",
              "  <thead>\n",
              "    <tr style=\"text-align: right;\">\n",
              "      <th></th>\n",
              "      <th>Korean</th>\n",
              "    </tr>\n",
              "  </thead>\n",
              "  <tbody>\n",
              "    <tr>\n",
              "      <th>1_Class</th>\n",
              "      <td>11</td>\n",
              "    </tr>\n",
              "    <tr>\n",
              "      <th>2_Class</th>\n",
              "      <td>21</td>\n",
              "    </tr>\n",
              "  </tbody>\n",
              "</table>\n",
              "</div>\n",
              "      <button class=\"colab-df-convert\" onclick=\"convertToInteractive('df-aa3afa69-89be-4c26-bc1f-2fe999305858')\"\n",
              "              title=\"Convert this dataframe to an interactive table.\"\n",
              "              style=\"display:none;\">\n",
              "        \n",
              "  <svg xmlns=\"http://www.w3.org/2000/svg\" height=\"24px\"viewBox=\"0 0 24 24\"\n",
              "       width=\"24px\">\n",
              "    <path d=\"M0 0h24v24H0V0z\" fill=\"none\"/>\n",
              "    <path d=\"M18.56 5.44l.94 2.06.94-2.06 2.06-.94-2.06-.94-.94-2.06-.94 2.06-2.06.94zm-11 1L8.5 8.5l.94-2.06 2.06-.94-2.06-.94L8.5 2.5l-.94 2.06-2.06.94zm10 10l.94 2.06.94-2.06 2.06-.94-2.06-.94-.94-2.06-.94 2.06-2.06.94z\"/><path d=\"M17.41 7.96l-1.37-1.37c-.4-.4-.92-.59-1.43-.59-.52 0-1.04.2-1.43.59L10.3 9.45l-7.72 7.72c-.78.78-.78 2.05 0 2.83L4 21.41c.39.39.9.59 1.41.59.51 0 1.02-.2 1.41-.59l7.78-7.78 2.81-2.81c.8-.78.8-2.07 0-2.86zM5.41 20L4 18.59l7.72-7.72 1.47 1.35L5.41 20z\"/>\n",
              "  </svg>\n",
              "      </button>\n",
              "      \n",
              "  <style>\n",
              "    .colab-df-container {\n",
              "      display:flex;\n",
              "      flex-wrap:wrap;\n",
              "      gap: 12px;\n",
              "    }\n",
              "\n",
              "    .colab-df-convert {\n",
              "      background-color: #E8F0FE;\n",
              "      border: none;\n",
              "      border-radius: 50%;\n",
              "      cursor: pointer;\n",
              "      display: none;\n",
              "      fill: #1967D2;\n",
              "      height: 32px;\n",
              "      padding: 0 0 0 0;\n",
              "      width: 32px;\n",
              "    }\n",
              "\n",
              "    .colab-df-convert:hover {\n",
              "      background-color: #E2EBFA;\n",
              "      box-shadow: 0px 1px 2px rgba(60, 64, 67, 0.3), 0px 1px 3px 1px rgba(60, 64, 67, 0.15);\n",
              "      fill: #174EA6;\n",
              "    }\n",
              "\n",
              "    [theme=dark] .colab-df-convert {\n",
              "      background-color: #3B4455;\n",
              "      fill: #D2E3FC;\n",
              "    }\n",
              "\n",
              "    [theme=dark] .colab-df-convert:hover {\n",
              "      background-color: #434B5C;\n",
              "      box-shadow: 0px 1px 3px 1px rgba(0, 0, 0, 0.15);\n",
              "      filter: drop-shadow(0px 1px 2px rgba(0, 0, 0, 0.3));\n",
              "      fill: #FFFFFF;\n",
              "    }\n",
              "  </style>\n",
              "\n",
              "      <script>\n",
              "        const buttonEl =\n",
              "          document.querySelector('#df-aa3afa69-89be-4c26-bc1f-2fe999305858 button.colab-df-convert');\n",
              "        buttonEl.style.display =\n",
              "          google.colab.kernel.accessAllowed ? 'block' : 'none';\n",
              "\n",
              "        async function convertToInteractive(key) {\n",
              "          const element = document.querySelector('#df-aa3afa69-89be-4c26-bc1f-2fe999305858');\n",
              "          const dataTable =\n",
              "            await google.colab.kernel.invokeFunction('convertToInteractive',\n",
              "                                                     [key], {});\n",
              "          if (!dataTable) return;\n",
              "\n",
              "          const docLinkHtml = 'Like what you see? Visit the ' +\n",
              "            '<a target=\"_blank\" href=https://colab.research.google.com/notebooks/data_table.ipynb>data table notebook</a>'\n",
              "            + ' to learn more about interactive tables.';\n",
              "          element.innerHTML = '';\n",
              "          dataTable['output_type'] = 'display_data';\n",
              "          await google.colab.output.renderOutput(dataTable, element);\n",
              "          const docLink = document.createElement('div');\n",
              "          docLink.innerHTML = docLinkHtml;\n",
              "          element.appendChild(docLink);\n",
              "        }\n",
              "      </script>\n",
              "    </div>\n",
              "  </div>\n",
              "  "
            ]
          },
          "metadata": {},
          "execution_count": 91
        }
      ]
    },
    {
      "cell_type": "code",
      "source": [
        ""
      ],
      "metadata": {
        "id": "MSZLhC9nXqHR"
      },
      "execution_count": null,
      "outputs": []
    },
    {
      "cell_type": "code",
      "source": [
        ""
      ],
      "metadata": {
        "id": "5bgmXdw-XqEZ"
      },
      "execution_count": null,
      "outputs": []
    },
    {
      "cell_type": "code",
      "source": [
        ""
      ],
      "metadata": {
        "id": "RyA3zhm3XqBT"
      },
      "execution_count": null,
      "outputs": []
    },
    {
      "cell_type": "code",
      "source": [
        ""
      ],
      "metadata": {
        "id": "DFWgvaAgXp-B"
      },
      "execution_count": null,
      "outputs": []
    },
    {
      "cell_type": "code",
      "source": [
        ""
      ],
      "metadata": {
        "id": "i2tbbKwuXp6q"
      },
      "execution_count": null,
      "outputs": []
    },
    {
      "cell_type": "code",
      "source": [
        "print(x, y, z)\n",
        "print(x)\n",
        "print(y)\n",
        "print(z)"
      ],
      "metadata": {
        "id": "yszRPY6ROnGN"
      },
      "execution_count": null,
      "outputs": []
    },
    {
      "cell_type": "code",
      "source": [
        "# 여러개의 변수에 여러개의 값을 값을 저장\n",
        "x, y, z = 10, 20, 30\n",
        "\n",
        "print(x, y, z)\n",
        "print(x)\n",
        "print(y)\n",
        "print(z)"
      ],
      "metadata": {
        "id": "alRV0jooOqLM"
      },
      "execution_count": null,
      "outputs": []
    },
    {
      "cell_type": "code",
      "source": [
        "# 여러 개의 변에 동일한 값을 할당\n",
        "a=b=c=100\n",
        "\n",
        "print(a, b, c)"
      ],
      "metadata": {
        "id": "ylGLoVwNOtdU"
      },
      "execution_count": null,
      "outputs": []
    },
    {
      "cell_type": "code",
      "source": [
        "#두 변수의 값을 교환 (swap)\n",
        "\n",
        "a, b = 10, 20\n",
        "\n",
        "print('a=', a)\n",
        "print('b=', b)\n",
        "\n",
        "print('[swap] ')"
      ],
      "metadata": {
        "id": "ifwFPFb4OwDU"
      },
      "execution_count": null,
      "outputs": []
    },
    {
      "cell_type": "code",
      "source": [
        "c = a\n",
        "a = b\n",
        "b = c"
      ],
      "metadata": {
        "id": "RGDwqvXgO0nl"
      },
      "execution_count": null,
      "outputs": []
    },
    {
      "cell_type": "code",
      "source": [
        "a, b = b, a\n",
        "\n",
        "print('a=', a)\n",
        "print('b=', b)"
      ],
      "metadata": {
        "id": "eWkYOUWyO3Ul"
      },
      "execution_count": null,
      "outputs": []
    },
    {
      "cell_type": "code",
      "source": [
        "# 변수를 삭제\n",
        "\n",
        "x = 100\n",
        "\n",
        "print(x)\n",
        "\n",
        "print(id(x))\n",
        "print(type(x))"
      ],
      "metadata": {
        "id": "WKDyc277O571"
      },
      "execution_count": null,
      "outputs": []
    },
    {
      "cell_type": "code",
      "source": [
        "del x\n",
        "\n",
        "print(x)"
      ],
      "metadata": {
        "id": "OoRNWmQdO-xd"
      },
      "execution_count": null,
      "outputs": []
    },
    {
      "cell_type": "code",
      "source": [
        "# 문자열에 큰 따옴표 사용\n",
        "name = \"땡땡이\"\n",
        "age = 15\n",
        "\n",
        "print(name, age)\n",
        "\n",
        "address = '서울'\n",
        "print(name + \"는 \" + address + \"에 삽니다\")\n",
        "print(name + '는 ' + address + '에 삽니다')"
      ],
      "metadata": {
        "id": "6g2W1RTHPBeV"
      },
      "execution_count": null,
      "outputs": []
    },
    {
      "cell_type": "code",
      "source": [
        "# str( ) : 숫자형을 문자열로 형변환\n",
        "\n",
        "print(name + '은 ' + str(age) + '살입니다')\n",
        "\n",
        "\n",
        "print(name + '은 ' , age , '살입니다')\n",
        "\n",
        "#문자열 변수와 값을 연결할 때 값이 숫자면 + 사용 불가\n",
        "#문자열 데이터를 연결할 때문 + 사용 가능\n",
        "print(name + \"은\"+ address + \" 에 삽니다.\")\n",
        "#print(name + \"은\" + age + \"살 입니다.\") #age 숫자 변수 -error\n",
        "print(name + \"은\" + str(age) + \"살 입니다.\") #age 형변환"
      ],
      "metadata": {
        "id": "zrvqsmvvPSms"
      },
      "execution_count": null,
      "outputs": []
    },
    {
      "cell_type": "code",
      "source": [
        "#--형변환\n",
        "#값의 형태를 강제적으로 다른 형태로 변환하는 것\n",
        "#int -> str, str-> folot\n",
        "#문자열 형변환 함수 str()\n",
        "#정수형 형변환 함수 int()\n",
        "#실수형 형변환 함수 float()\n",
        "##파이썬은 파일 단위로 일괄 실행 시킨다. 가급적 콘솔 실행은 하지 말 것"
      ],
      "metadata": {
        "id": "gVvj9BJHPWJl"
      },
      "execution_count": null,
      "outputs": []
    },
    {
      "cell_type": "code",
      "source": [
        "# 사각형의 면적을 구하는 프로그램\n",
        "\n",
        "width = 100\n",
        "height = 50\n",
        "area = width * height\n",
        "print(\"사각형의 면적은\", area)"
      ],
      "metadata": {
        "id": "3hs5eJnPPaXE"
      },
      "execution_count": null,
      "outputs": []
    },
    {
      "cell_type": "code",
      "source": [
        "name = '홍길동'\n",
        "no = 2016001\n",
        "year = 4\n",
        "grade = 'A'\n",
        "average = 93.5\n",
        "\n",
        "print( \"성명 : \" + name)\n",
        "print( \"학번 :\" , no)\n",
        "print( \"학년 :\", year)\n",
        "print( \"성적 : \"+ grade)\n",
        "print( \"평균 :\", average)"
      ],
      "metadata": {
        "id": "MElF30NrPcGN"
      },
      "execution_count": null,
      "outputs": []
    },
    {
      "cell_type": "code",
      "source": [
        "print( \"성명 : %s\" % name)\n",
        "print( \"학번 : %d\" % no)\n",
        "print( \"학년 : %d\" % year)\n",
        "print( \"성적 : %s\" % grade)\n",
        "print( \"평균 : %10.2f\" % average)"
      ],
      "metadata": {
        "id": "tjYRQbqOPgAt"
      },
      "execution_count": null,
      "outputs": []
    },
    {
      "cell_type": "code",
      "source": [
        "print('이름: %s, 학년: %d' %(name, year))"
      ],
      "metadata": {
        "id": "m5lQUStHPhkd"
      },
      "execution_count": null,
      "outputs": []
    },
    {
      "cell_type": "code",
      "source": [
        "rate= 80\n",
        "print('이름: %s, 출석률: %d%%' %(name, rate))\n",
        "\n",
        "print(format(average, '.2f'))"
      ],
      "metadata": {
        "id": "Unxv6Z_mPkWF"
      },
      "execution_count": null,
      "outputs": []
    },
    {
      "cell_type": "code",
      "source": [
        "kor= 90\n",
        "eng = 80\n",
        "math = 80\n",
        "total = kor + eng + math\n",
        "average = total / 3\n",
        "\n",
        "print('총점: %d, 평균: %.2f' %(total, average))"
      ],
      "metadata": {
        "id": "wpIWu8uzPn-l"
      },
      "execution_count": null,
      "outputs": []
    },
    {
      "cell_type": "code",
      "source": [
        "# 상수\n",
        "# 값이 변경되지 않는 값\n",
        "# 파이썬에서는 별도의 상수가 없음\n",
        "# 변수와 구분하기 위해 대문자로 사용\n",
        "# 나중에 상수의 값을 변경해도 오류가 없음\n",
        "# 프로그램 내에서 변하지 않는 값을 쓸때는 상수로 처리하는\n",
        "# 것이 편하다.\n",
        "\n",
        "PI = 3.141592 #대문자이름이므로 상수로 처리\n",
        "r = 10\n",
        "area =r*r*PI\n",
        "print(area)\n",
        "\n",
        "INT_RATE = 0.03\n",
        "\n",
        "deposit = 10000\n",
        "interest = deposit * INT_RATE\n",
        "balance = deposit + interest\n",
        "\n",
        "print(balance) #변수값 그대로 출력\n",
        "print(int(balance)) #변수값을 정수형으로 형변환 후 출력\n",
        "print(format(int(balance),',')) #변수값을 정수형으로 형 변환후 천단위 구분자 기호"
      ],
      "metadata": {
        "id": "Le8va6NnPpat"
      },
      "execution_count": null,
      "outputs": []
    },
    {
      "cell_type": "code",
      "source": [
        "#정수 리터럴\n",
        "a = 0b1010 #2진수\n",
        "b = 300\n",
        "c =0o123 #8진수\n",
        "d = 0x12fc #16진수\n",
        "print(a, b, c, d)\n"
      ],
      "metadata": {
        "id": "Ejm9Ax97PwGE"
      },
      "execution_count": null,
      "outputs": []
    },
    {
      "cell_type": "code",
      "source": [
        "#-------------------\n",
        "#실수 리터럴\n",
        "f1 = 3.14\n",
        "f2 = -123.45\n",
        "f3 =1.234567e5\n",
        "print(f1,f2,f3)"
      ],
      "metadata": {
        "id": "_RzhU98ePzTl"
      },
      "execution_count": null,
      "outputs": []
    },
    {
      "cell_type": "code",
      "source": [
        "#----------------\n",
        "#문자열 리터럴\n",
        "char1 = 'A'\n",
        "char2 = \"B\"\n",
        "print(char1,char2)"
      ],
      "metadata": {
        "id": "up0S_sLMP10l"
      },
      "execution_count": null,
      "outputs": []
    },
    {
      "cell_type": "code",
      "source": [
        "str1 ='홍길동'\n",
        "str2 = \"python\"\n",
        "str3 = \"\"\"Python Programming\"\"\"\n",
        "str3 = '''Python Programming'''"
      ],
      "metadata": {
        "id": "ZJwtpEcrP4S0"
      },
      "execution_count": null,
      "outputs": []
    },
    {
      "cell_type": "code",
      "source": [
        "str4 = '''삼 따옴표는\n",
        "여러줄에 나누어서\n",
        "문자을 저장할 때 사용'''#enter까지 문자열로 저장"
      ],
      "metadata": {
        "id": "Jxc6y07yP89l"
      },
      "execution_count": null,
      "outputs": []
    },
    {
      "cell_type": "code",
      "source": [
        "'''삼 따옴표는\n",
        "여러줄에 나누어서\n",
        "문자을 저장할 때 사용'''#enter까지 문자열로 저장"
      ],
      "metadata": {
        "id": "UfOAk0-XQDwV"
      },
      "execution_count": null,
      "outputs": []
    },
    {
      "cell_type": "code",
      "source": [
        "print(str4)\n",
        "\n",
        "#논리값 리터럴\n",
        "t = True\n",
        "f = False"
      ],
      "metadata": {
        "id": "YyXFJk5jP-Yt"
      },
      "execution_count": null,
      "outputs": []
    },
    {
      "cell_type": "code",
      "source": [
        "print(t,f)\n",
        "\n",
        "#특수 리터럴\n",
        "#None"
      ],
      "metadata": {
        "id": "MCRPVIMCQMlN"
      },
      "execution_count": null,
      "outputs": []
    },
    {
      "cell_type": "code",
      "source": [
        "address = None\n",
        "print(address)\n",
        "print(type(address))\n",
        "print(id(address))"
      ],
      "metadata": {
        "id": "6fYolkOlQR7M"
      },
      "execution_count": null,
      "outputs": []
    },
    {
      "cell_type": "code",
      "source": [
        "a = 1 + 2 + \\\n",
        "    4 + 5\n",
        "print(a)\n",
        "\n",
        "b = (1 + 2+\n",
        "     3+5)\n",
        "print(b)\n",
        "\n",
        "print(\"c:\\pythonStudy\\name\")\n",
        "print(r\"c:\\pythonStudy\\name\")\n",
        "\n",
        "print(\"first\", end=\"@\")\n",
        "print(\"second\")\n"
      ],
      "metadata": {
        "id": "HReI_K-NQTU0"
      },
      "execution_count": null,
      "outputs": []
    },
    {
      "cell_type": "code",
      "source": [
        "#주석문\n",
        "# 프로그램에 대한 설명문, 실행에 영향 없음\n",
        "\n",
        "#주석처리 방법\n",
        "# 1줄 주석 : 줄 맨 처음에 # 기호 사용\n",
        "# 블럭 주석 : 파이썬은 여러줄 주석 기호는 없음. 다만, ''' ''' 이용하면\n",
        "# 문자열 처리 되면서 실행에 영향을 주지 않는다\n",
        "#\n",
        "# 주석문을 미리 입력 해 농고 ctrl + / 키를 이용해 한번에 주석처리\n",
        "\n",
        "# 주석을 사용하는 이유\n",
        "# 프로그램에 관한 정보를 추가할 수 있다.\n",
        "# 수정이 용이하다\n",
        "# 가독성을 높여준다.\n",
        "# 코드를 이해하기 쉽다\n",
        "#\n",
        "# 가능하면 코드에 주석을 붙이는 습관이 필요"
      ],
      "metadata": {
        "id": "wJblWG4BQbNd"
      },
      "execution_count": null,
      "outputs": []
    },
    {
      "cell_type": "code",
      "source": [
        "#----------------------------------------\n",
        "#행 분리 기호\n",
        "# 1줄의 내용이 긴 경우 여러 행으로 분리 가능\n",
        "# 역 슬래시나 괄호 사용\n",
        "\n",
        "#역 슬래시 사용\n",
        "# a = 1+2+3+ \\\n",
        "# 4+5+6\n",
        "\n",
        "#괄호 사용\n",
        "a = (1+2+3+\n",
        "4+5+6)"
      ],
      "metadata": {
        "id": "GuphXyx3Qcdl"
      },
      "execution_count": null,
      "outputs": []
    },
    {
      "cell_type": "code",
      "source": [
        "#print 함수에서 여러 행으로 입력\n",
        "#문자열 중간에서 엔터키를 치면 다음행으로 가고 자동을 \"\"처리되면서\n",
        "#1줄로 인식\n",
        "\n",
        "print(\"긴 문장을 입력할 때 중간에서 엔터키를 치면\"\n",
        "      \"다음행으로 가고 자동으로 따옴표 처리 되면서\"\n",
        "      \"1줄로 인식\")\n",
        "\n",
        "#여러줄로 출력 하려면 줄바꿈 문자(\\n)  사용\n",
        "print(\"긴 문장을 입력할 때 중간에서 엔터키를 치면\\n\"\n",
        "      \"다음행으로 가고 자동으로 따옴표 처리 되면서\\n\"\n",
        "      \"1줄로 인식\")"
      ],
      "metadata": {
        "id": "P7X8iiG_Qgft"
      },
      "execution_count": null,
      "outputs": []
    },
    {
      "cell_type": "code",
      "source": [
        "#------------행결합\n",
        "#2개의 문장을 한줄에 입력시 에러 발생\n",
        "# print('apple') print('banana')\n",
        "\n",
        "#행 결합해서 2개 문장을 한줄에 입력하기 위해 ; 을 추가\n",
        "print('apple') ; print('banana')\n"
      ],
      "metadata": {
        "id": "YxhE7QQrQkRN"
      },
      "execution_count": null,
      "outputs": []
    },
    {
      "cell_type": "code",
      "source": [
        "#print() 함수 : 다음행으로 커서를 이동\n",
        "print(\"first\")\n",
        "print(\"second\")\n",
        "\n",
        "#옆으로 출력(한줄에 모두 출력)\n",
        "print(\"first\", end=\"\")\n",
        "print(\"second\")\n",
        "\n",
        "#구분자 표시: 띄어쓰기, 쉼표, 대시, 콜론, ....\n",
        "print(\"first\", end=\"-\")\n",
        "print(\"second\")"
      ],
      "metadata": {
        "id": "Uj0FBTB_Qoc0"
      },
      "execution_count": null,
      "outputs": []
    }
  ]
}