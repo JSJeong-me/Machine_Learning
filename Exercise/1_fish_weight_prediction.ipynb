{
  "metadata": {
    "kernelspec": {
      "language": "python",
      "display_name": "Python 3",
      "name": "python3"
    },
    "language_info": {
      "pygments_lexer": "ipython3",
      "nbconvert_exporter": "python",
      "version": "3.6.4",
      "file_extension": ".py",
      "codemirror_mode": {
        "name": "ipython",
        "version": 3
      },
      "name": "python",
      "mimetype": "text/x-python"
    },
    "colab": {
      "name": "fish-weight-prediction.ipynb",
      "provenance": [],
      "include_colab_link": true
    }
  },
  "nbformat_minor": 0,
  "nbformat": 4,
  "cells": [
    {
      "cell_type": "markdown",
      "metadata": {
        "id": "view-in-github",
        "colab_type": "text"
      },
      "source": [
        "<a href=\"https://colab.research.google.com/github/JSJeong-me/Machine_Learning/blob/main/Exercise/1_fish_weight_prediction.ipynb\" target=\"_parent\"><img src=\"https://colab.research.google.com/assets/colab-badge.svg\" alt=\"Open In Colab\"/></a>"
      ]
    },
    {
      "cell_type": "markdown",
      "source": [
        "# Fish Weight Prediction\n",
        "\n",
        "This dataset is a record of 7 common different fish species in fish market sales. With this dataset, a predictive model can be performed using machine friendly data and estimate the weight of fish can be predicted.\n",
        "\n",
        "This dataset is from [Kaggle](https://www.kaggle.com/aungpyaeap/fish-market/version/2)\n",
        "\n",
        "## Feature Columns\n",
        "1. Species  - Species of the fish\n",
        "2. Length 1 - Vertical Length in cm\n",
        "3. Length 2 - Diagnol length in cm\n",
        "4. Length 3 - Cross Length in cm\n",
        "5. Height   - height in cm\n",
        "6. Width    - width in cm\n",
        "\n",
        "## Dependant Column\n",
        "1. Weight = Weight of fish in gram\n"
      ],
      "metadata": {
        "id": "E1SISHHliw9S"
      }
    },
    {
      "cell_type": "markdown",
      "source": [
        "# Import Libraries"
      ],
      "metadata": {
        "id": "PmR_ndV6kLyQ"
      }
    },
    {
      "cell_type": "code",
      "source": [
        "import pandas as pd\n",
        "import matplotlib.pyplot as plt\n",
        "import numpy as np\n",
        "import seaborn as sns"
      ],
      "metadata": {
        "id": "LrQ4C38gkO0i",
        "execution": {
          "iopub.status.busy": "2022-02-17T14:02:56.389058Z",
          "iopub.execute_input": "2022-02-17T14:02:56.389448Z",
          "iopub.status.idle": "2022-02-17T14:02:56.393729Z",
          "shell.execute_reply.started": "2022-02-17T14:02:56.389417Z",
          "shell.execute_reply": "2022-02-17T14:02:56.393196Z"
        },
        "trusted": true
      },
      "execution_count": null,
      "outputs": []
    },
    {
      "cell_type": "markdown",
      "source": [
        "# Explore the data"
      ],
      "metadata": {
        "id": "OB68X4u5kSOo"
      }
    },
    {
      "cell_type": "code",
      "source": [
        "df = pd.read_csv('./Fish.csv')\n",
        "df.head()"
      ],
      "metadata": {
        "id": "CyhsSZ2RkXvq",
        "execution": {
          "iopub.status.busy": "2022-02-17T14:02:56.394952Z",
          "iopub.execute_input": "2022-02-17T14:02:56.395445Z",
          "iopub.status.idle": "2022-02-17T14:02:56.420936Z",
          "shell.execute_reply.started": "2022-02-17T14:02:56.395401Z",
          "shell.execute_reply": "2022-02-17T14:02:56.420153Z"
        },
        "trusted": true
      },
      "execution_count": null,
      "outputs": []
    },
    {
      "cell_type": "code",
      "source": [
        "df.describe()"
      ],
      "metadata": {
        "id": "uf7DbRlxkutC",
        "execution": {
          "iopub.status.busy": "2022-02-17T14:02:56.422493Z",
          "iopub.execute_input": "2022-02-17T14:02:56.422687Z",
          "iopub.status.idle": "2022-02-17T14:02:56.577948Z",
          "shell.execute_reply.started": "2022-02-17T14:02:56.422663Z",
          "shell.execute_reply": "2022-02-17T14:02:56.57718Z"
        },
        "trusted": true
      },
      "execution_count": null,
      "outputs": []
    },
    {
      "cell_type": "code",
      "source": [
        "df.info()"
      ],
      "metadata": {
        "id": "fYl_nI72kv2a",
        "execution": {
          "iopub.status.busy": "2022-02-17T14:02:56.579243Z",
          "iopub.execute_input": "2022-02-17T14:02:56.579433Z",
          "iopub.status.idle": "2022-02-17T14:02:56.589968Z",
          "shell.execute_reply.started": "2022-02-17T14:02:56.57941Z",
          "shell.execute_reply": "2022-02-17T14:02:56.589231Z"
        },
        "trusted": true
      },
      "execution_count": null,
      "outputs": []
    },
    {
      "cell_type": "code",
      "source": [
        "df.isna().sum()"
      ],
      "metadata": {
        "id": "xdPzMbrolgmf",
        "execution": {
          "iopub.status.busy": "2022-02-17T14:02:56.592131Z",
          "iopub.execute_input": "2022-02-17T14:02:56.59234Z",
          "iopub.status.idle": "2022-02-17T14:02:56.605001Z",
          "shell.execute_reply.started": "2022-02-17T14:02:56.592299Z",
          "shell.execute_reply": "2022-02-17T14:02:56.604232Z"
        },
        "trusted": true
      },
      "execution_count": null,
      "outputs": []
    },
    {
      "cell_type": "code",
      "source": [
        "df['Species'].value_counts()"
      ],
      "metadata": {
        "id": "0sMrXq4UmHjQ",
        "execution": {
          "iopub.status.busy": "2022-02-17T14:02:56.606304Z",
          "iopub.execute_input": "2022-02-17T14:02:56.60676Z",
          "iopub.status.idle": "2022-02-17T14:02:56.616808Z",
          "shell.execute_reply.started": "2022-02-17T14:02:56.606689Z",
          "shell.execute_reply": "2022-02-17T14:02:56.61604Z"
        },
        "trusted": true
      },
      "execution_count": null,
      "outputs": []
    },
    {
      "cell_type": "code",
      "source": [
        "df['Species'].value_counts().plot.bar()"
      ],
      "metadata": {
        "id": "avtUyHqgmOaE",
        "execution": {
          "iopub.status.busy": "2022-02-17T14:02:56.617741Z",
          "iopub.execute_input": "2022-02-17T14:02:56.617919Z",
          "iopub.status.idle": "2022-02-17T14:02:56.813666Z",
          "shell.execute_reply.started": "2022-02-17T14:02:56.617897Z",
          "shell.execute_reply": "2022-02-17T14:02:56.813174Z"
        },
        "trusted": true
      },
      "execution_count": null,
      "outputs": []
    },
    {
      "cell_type": "code",
      "source": [
        "corr = df.corr()\n",
        "corr"
      ],
      "metadata": {
        "id": "oItDSP-8na_3",
        "execution": {
          "iopub.status.busy": "2022-02-17T14:02:56.81457Z",
          "iopub.execute_input": "2022-02-17T14:02:56.815124Z",
          "iopub.status.idle": "2022-02-17T14:02:56.828635Z",
          "shell.execute_reply.started": "2022-02-17T14:02:56.815091Z",
          "shell.execute_reply": "2022-02-17T14:02:56.827856Z"
        },
        "trusted": true
      },
      "execution_count": null,
      "outputs": []
    },
    {
      "cell_type": "code",
      "source": [
        "plt.figure(figsize=(11, 8))\n",
        "sns.heatmap(corr, cmap=\"Greens\",annot=True)\n",
        "plt.show()"
      ],
      "metadata": {
        "id": "Oui4ik3noJKe",
        "execution": {
          "iopub.status.busy": "2022-02-17T14:02:56.829844Z",
          "iopub.execute_input": "2022-02-17T14:02:56.830049Z",
          "iopub.status.idle": "2022-02-17T14:02:57.209852Z",
          "shell.execute_reply.started": "2022-02-17T14:02:56.830025Z",
          "shell.execute_reply": "2022-02-17T14:02:57.209299Z"
        },
        "trusted": true
      },
      "execution_count": null,
      "outputs": []
    },
    {
      "cell_type": "markdown",
      "source": [
        "It seems Weight is correlated with all the numerical columns. the minimum correlation is 0.72 which is not bad as well."
      ],
      "metadata": {
        "id": "0NFpzGNio3mR"
      }
    },
    {
      "cell_type": "markdown",
      "source": [
        "## Non - Normalized Box Plot"
      ],
      "metadata": {
        "id": "mJh-K_6Xtc22"
      }
    },
    {
      "cell_type": "code",
      "source": [
        "sns.boxplot(x='Species', y='Weight', data=df);"
      ],
      "metadata": {
        "id": "n06I9FxMtNCC",
        "execution": {
          "iopub.status.busy": "2022-02-17T14:02:57.210712Z",
          "iopub.execute_input": "2022-02-17T14:02:57.21101Z",
          "iopub.status.idle": "2022-02-17T14:02:57.478343Z",
          "shell.execute_reply.started": "2022-02-17T14:02:57.210984Z",
          "shell.execute_reply": "2022-02-17T14:02:57.477766Z"
        },
        "trusted": true
      },
      "execution_count": null,
      "outputs": []
    },
    {
      "cell_type": "markdown",
      "source": [
        "# Split Feature Column (X) & Dependant Variable (y)"
      ],
      "metadata": {
        "id": "Hh1fr-s3p8hF"
      }
    },
    {
      "cell_type": "code",
      "source": [
        "X = df.drop('Weight', axis=1)\n",
        "y = df['Weight']\n",
        "\n",
        "X.shape, y.shape"
      ],
      "metadata": {
        "id": "sGxY6w_GqCex",
        "execution": {
          "iopub.status.busy": "2022-02-17T14:02:57.481084Z",
          "iopub.execute_input": "2022-02-17T14:02:57.481303Z",
          "iopub.status.idle": "2022-02-17T14:02:57.488832Z",
          "shell.execute_reply.started": "2022-02-17T14:02:57.481276Z",
          "shell.execute_reply": "2022-02-17T14:02:57.487988Z"
        },
        "trusted": true
      },
      "execution_count": null,
      "outputs": []
    },
    {
      "cell_type": "code",
      "source": [
        "type(X), type(y)"
      ],
      "metadata": {
        "id": "i_4n-kW2qZKX",
        "execution": {
          "iopub.status.busy": "2022-02-17T14:02:57.489905Z",
          "iopub.execute_input": "2022-02-17T14:02:57.490485Z",
          "iopub.status.idle": "2022-02-17T14:02:57.502283Z",
          "shell.execute_reply.started": "2022-02-17T14:02:57.490438Z",
          "shell.execute_reply": "2022-02-17T14:02:57.501782Z"
        },
        "trusted": true
      },
      "execution_count": null,
      "outputs": []
    },
    {
      "cell_type": "markdown",
      "source": [
        "# Encode the categorical data & Scale Numeric Columns"
      ],
      "metadata": {
        "id": "QFSG_firlpqz"
      }
    },
    {
      "cell_type": "code",
      "source": [
        "from sklearn.compose import ColumnTransformer\n",
        "from sklearn.preprocessing import OneHotEncoder, StandardScaler\n",
        "\n",
        "ct = ColumnTransformer(transformers=\n",
        "                       [('encoder', OneHotEncoder(), [0])],\n",
        "                        remainder=\"passthrough\")\n",
        "\n",
        "transformed_X = ct.fit_transform( X, y)"
      ],
      "metadata": {
        "id": "Z2LFxAiCl2-v",
        "execution": {
          "iopub.status.busy": "2022-02-17T14:02:57.503259Z",
          "iopub.execute_input": "2022-02-17T14:02:57.503637Z",
          "iopub.status.idle": "2022-02-17T14:02:57.514106Z",
          "shell.execute_reply.started": "2022-02-17T14:02:57.503609Z",
          "shell.execute_reply": "2022-02-17T14:02:57.513345Z"
        },
        "trusted": true
      },
      "execution_count": null,
      "outputs": []
    },
    {
      "cell_type": "code",
      "source": [
        "transformed_X[0]"
      ],
      "metadata": {
        "id": "h9s13YRmqpOF",
        "execution": {
          "iopub.status.busy": "2022-02-17T14:02:57.515181Z",
          "iopub.execute_input": "2022-02-17T14:02:57.515403Z",
          "iopub.status.idle": "2022-02-17T14:02:57.522714Z",
          "shell.execute_reply.started": "2022-02-17T14:02:57.515377Z",
          "shell.execute_reply": "2022-02-17T14:02:57.521984Z"
        },
        "trusted": true
      },
      "execution_count": null,
      "outputs": []
    },
    {
      "cell_type": "code",
      "source": [
        "transformed_X"
      ],
      "metadata": {
        "id": "eARnfhQDzNIG",
        "execution": {
          "iopub.status.busy": "2022-02-17T14:02:57.524152Z",
          "iopub.execute_input": "2022-02-17T14:02:57.524435Z",
          "iopub.status.idle": "2022-02-17T14:02:57.532383Z",
          "shell.execute_reply.started": "2022-02-17T14:02:57.524397Z",
          "shell.execute_reply": "2022-02-17T14:02:57.53151Z"
        },
        "trusted": true
      },
      "execution_count": null,
      "outputs": []
    },
    {
      "cell_type": "markdown",
      "source": [
        "# Split data into train and test split"
      ],
      "metadata": {
        "id": "OnPDyeLOreWD"
      }
    },
    {
      "cell_type": "code",
      "source": [
        "from sklearn.model_selection import train_test_split\n",
        "\n",
        "X_train, X_test, y_train, y_test = train_test_split(transformed_X, y, test_size=0.2, random_state=42)"
      ],
      "metadata": {
        "id": "3UUu_jFZt8k5",
        "execution": {
          "iopub.status.busy": "2022-02-17T14:02:57.534029Z",
          "iopub.execute_input": "2022-02-17T14:02:57.534394Z",
          "iopub.status.idle": "2022-02-17T14:02:57.582064Z",
          "shell.execute_reply.started": "2022-02-17T14:02:57.53435Z",
          "shell.execute_reply": "2022-02-17T14:02:57.581493Z"
        },
        "trusted": true
      },
      "execution_count": null,
      "outputs": []
    },
    {
      "cell_type": "code",
      "source": [
        "X_train.shape, X_test.shape, y_train.shape, y_test.shape"
      ],
      "metadata": {
        "id": "0Qqk344XuIIQ",
        "execution": {
          "iopub.status.busy": "2022-02-17T14:02:57.583225Z",
          "iopub.execute_input": "2022-02-17T14:02:57.584104Z",
          "iopub.status.idle": "2022-02-17T14:02:57.591482Z",
          "shell.execute_reply.started": "2022-02-17T14:02:57.584061Z",
          "shell.execute_reply": "2022-02-17T14:02:57.590438Z"
        },
        "trusted": true
      },
      "execution_count": null,
      "outputs": []
    },
    {
      "cell_type": "markdown",
      "source": [
        "# Train the model with LinearRegressor"
      ],
      "metadata": {
        "id": "wT3k5fGbuNiz"
      }
    },
    {
      "cell_type": "code",
      "source": [
        "from sklearn.linear_model import LinearRegression\n",
        "\n",
        "regressor = LinearRegression()\n",
        "regressor.fit(X_train, y_train)"
      ],
      "metadata": {
        "id": "zamuUYhL0He7",
        "execution": {
          "iopub.status.busy": "2022-02-17T14:04:19.887052Z",
          "iopub.execute_input": "2022-02-17T14:04:19.887677Z",
          "iopub.status.idle": "2022-02-17T14:04:19.89521Z",
          "shell.execute_reply.started": "2022-02-17T14:04:19.887641Z",
          "shell.execute_reply": "2022-02-17T14:04:19.894609Z"
        },
        "trusted": true
      },
      "execution_count": null,
      "outputs": []
    },
    {
      "cell_type": "markdown",
      "source": [
        "## Predict the result"
      ],
      "metadata": {
        "id": "xwjdldCT0RCP"
      }
    },
    {
      "cell_type": "code",
      "source": [
        "y_pred = regressor.predict(X_test)"
      ],
      "metadata": {
        "id": "jH_k4eCi0U7E",
        "execution": {
          "iopub.status.busy": "2022-02-17T14:04:21.770677Z",
          "iopub.execute_input": "2022-02-17T14:04:21.770921Z",
          "iopub.status.idle": "2022-02-17T14:04:21.777671Z",
          "shell.execute_reply.started": "2022-02-17T14:04:21.770897Z",
          "shell.execute_reply": "2022-02-17T14:04:21.776813Z"
        },
        "trusted": true
      },
      "execution_count": null,
      "outputs": []
    },
    {
      "cell_type": "code",
      "source": [
        "y_pred[:10]"
      ],
      "metadata": {
        "id": "bKCi3CJg0bv8",
        "execution": {
          "iopub.status.busy": "2022-02-17T14:04:23.236967Z",
          "iopub.execute_input": "2022-02-17T14:04:23.237404Z",
          "iopub.status.idle": "2022-02-17T14:04:23.242999Z",
          "shell.execute_reply.started": "2022-02-17T14:04:23.237353Z",
          "shell.execute_reply": "2022-02-17T14:04:23.242344Z"
        },
        "trusted": true
      },
      "execution_count": null,
      "outputs": []
    },
    {
      "cell_type": "code",
      "source": [
        "np.array(y_test)"
      ],
      "metadata": {
        "id": "C0xcZ75w0dk4",
        "execution": {
          "iopub.status.busy": "2022-02-17T14:02:57.702661Z",
          "iopub.execute_input": "2022-02-17T14:02:57.702901Z",
          "iopub.status.idle": "2022-02-17T14:02:57.711439Z",
          "shell.execute_reply.started": "2022-02-17T14:02:57.702876Z",
          "shell.execute_reply": "2022-02-17T14:02:57.710943Z"
        },
        "trusted": true
      },
      "execution_count": null,
      "outputs": []
    },
    {
      "cell_type": "markdown",
      "source": [
        "## Check metrics (r2 score) for LinearRegression\n",
        "\n",
        "\n"
      ],
      "metadata": {
        "id": "CC_ntJm60e2u"
      }
    },
    {
      "cell_type": "code",
      "source": [
        "from sklearn.metrics import r2_score\n",
        "print('R2 Score', r2_score(y_test, y_pred))"
      ],
      "metadata": {
        "id": "74op5ke644Rn",
        "execution": {
          "iopub.status.busy": "2022-02-17T14:04:51.901816Z",
          "iopub.execute_input": "2022-02-17T14:04:51.902391Z",
          "iopub.status.idle": "2022-02-17T14:04:51.908085Z",
          "shell.execute_reply.started": "2022-02-17T14:04:51.902357Z",
          "shell.execute_reply": "2022-02-17T14:04:51.907457Z"
        },
        "trusted": true
      },
      "execution_count": null,
      "outputs": []
    },
    {
      "cell_type": "markdown",
      "source": [
        "# Train Model with RandomForestRegressor"
      ],
      "metadata": {
        "id": "nC40axmX5AC_"
      }
    },
    {
      "cell_type": "code",
      "source": [
        "from sklearn.ensemble import RandomForestRegressor\n",
        "reg = RandomForestRegressor(n_estimators=200,)\n",
        "reg.fit(X_train, y_train)"
      ],
      "metadata": {
        "id": "Bv42vo6i7gPB",
        "execution": {
          "iopub.status.busy": "2022-02-17T14:04:54.178692Z",
          "iopub.execute_input": "2022-02-17T14:04:54.178995Z",
          "iopub.status.idle": "2022-02-17T14:04:54.541549Z",
          "shell.execute_reply.started": "2022-02-17T14:04:54.178965Z",
          "shell.execute_reply": "2022-02-17T14:04:54.540738Z"
        },
        "trusted": true
      },
      "execution_count": null,
      "outputs": []
    },
    {
      "cell_type": "code",
      "source": [
        "y_pred_reg = reg.predict(X_test)"
      ],
      "metadata": {
        "id": "kePgU_fL7pOT",
        "execution": {
          "iopub.status.busy": "2022-02-17T14:04:54.603221Z",
          "iopub.execute_input": "2022-02-17T14:04:54.603514Z",
          "iopub.status.idle": "2022-02-17T14:04:54.624072Z",
          "shell.execute_reply.started": "2022-02-17T14:04:54.603456Z",
          "shell.execute_reply": "2022-02-17T14:04:54.623519Z"
        },
        "trusted": true
      },
      "execution_count": null,
      "outputs": []
    },
    {
      "cell_type": "code",
      "source": [
        "y_pred_reg"
      ],
      "metadata": {
        "id": "kY9GMYn17rxu",
        "execution": {
          "iopub.status.busy": "2022-02-17T14:04:54.791406Z",
          "iopub.execute_input": "2022-02-17T14:04:54.792167Z",
          "iopub.status.idle": "2022-02-17T14:04:54.797357Z",
          "shell.execute_reply.started": "2022-02-17T14:04:54.792135Z",
          "shell.execute_reply": "2022-02-17T14:04:54.796799Z"
        },
        "trusted": true
      },
      "execution_count": null,
      "outputs": []
    },
    {
      "cell_type": "code",
      "source": [
        "np.array(y_test)"
      ],
      "metadata": {
        "id": "opNWU7s17tQB",
        "execution": {
          "iopub.status.busy": "2022-02-17T14:04:54.967321Z",
          "iopub.execute_input": "2022-02-17T14:04:54.96809Z",
          "iopub.status.idle": "2022-02-17T14:04:54.973773Z",
          "shell.execute_reply.started": "2022-02-17T14:04:54.968054Z",
          "shell.execute_reply": "2022-02-17T14:04:54.973167Z"
        },
        "trusted": true
      },
      "execution_count": null,
      "outputs": []
    },
    {
      "cell_type": "markdown",
      "source": [
        "## Check metrics (r2 score, MSLE) for RandomForestRegressor\n"
      ],
      "metadata": {
        "id": "V1lXPI8l7udf"
      }
    },
    {
      "cell_type": "code",
      "source": [
        "from sklearn.metrics import mean_squared_log_error, r2_score\n",
        "print('Mean Squared Log Error', mean_squared_log_error(y_test, y_pred_reg))\n",
        "print('R2 Score', r2_score(y_test, y_pred_reg))"
      ],
      "metadata": {
        "id": "O0QTk54D76Ur",
        "execution": {
          "iopub.status.busy": "2022-02-17T14:04:55.307905Z",
          "iopub.execute_input": "2022-02-17T14:04:55.308318Z",
          "iopub.status.idle": "2022-02-17T14:04:55.315444Z",
          "shell.execute_reply.started": "2022-02-17T14:04:55.308288Z",
          "shell.execute_reply": "2022-02-17T14:04:55.314667Z"
        },
        "trusted": true
      },
      "execution_count": null,
      "outputs": []
    },
    {
      "cell_type": "code",
      "source": [
        ""
      ],
      "metadata": {
        "id": "shxnU0f68H9v"
      },
      "execution_count": null,
      "outputs": []
    }
  ]
}