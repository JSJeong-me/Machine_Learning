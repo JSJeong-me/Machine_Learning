{
  "nbformat": 4,
  "nbformat_minor": 0,
  "metadata": {
    "colab": {
      "name": "Untitled3.ipynb",
      "provenance": [],
      "authorship_tag": "ABX9TyOxTWLgR8s7sgjjy/QLSLww",
      "include_colab_link": true
    },
    "kernelspec": {
      "name": "python3",
      "display_name": "Python 3"
    },
    "language_info": {
      "name": "python"
    }
  },
  "cells": [
    {
      "cell_type": "markdown",
      "metadata": {
        "id": "view-in-github",
        "colab_type": "text"
      },
      "source": [
        "<a href=\"https://colab.research.google.com/github/JSJeong-me/Machine_Learning/blob/main/ML/6-tanh.ipynb\" target=\"_parent\"><img src=\"https://colab.research.google.com/assets/colab-badge.svg\" alt=\"Open In Colab\"/></a>"
      ]
    },
    {
      "cell_type": "code",
      "execution_count": 3,
      "metadata": {
        "colab": {
          "base_uri": "https://localhost:8080/",
          "height": 265
        },
        "id": "NMG9OVzYiWJh",
        "outputId": "cd917568-b5be-45c2-e8cf-4634397577d8"
      },
      "outputs": [
        {
          "output_type": "display_data",
          "data": {
            "text/plain": [
              "<Figure size 432x288 with 1 Axes>"
            ],
            "image/png": "[encoded data removed]"
          },
          "metadata": {
            "needs_background": "light"
          }
        }
      ],
      "source": [
        "# example plot for the tanh activation function\n",
        "from math import exp\n",
        "from matplotlib import pyplot\n",
        "\n",
        "# tanh activation function\n",
        "def tanh(x):\n",
        "\treturn (exp(x) - exp(-x)) / (exp(x) + exp(-x))\n",
        "\n",
        "# define input data\n",
        "inputs = [x for x in range(-10, 10)]\n",
        "# calculate outputs\n",
        "outputs = [tanh(x) for x in inputs]\n",
        "# plot inputs vs outputs\n",
        "pyplot.plot(inputs, outputs)\n",
        "pyplot.show()"
      ]
    }
  ]
}