{
  "nbformat": 4,
  "nbformat_minor": 0,
  "metadata": {
    "colab": {
      "name": "Untitled7.ipynb",
      "provenance": [],
      "authorship_tag": "ABX9TyMpdV3NNjPQNsqqHWAnvs5/",
      "include_colab_link": true
    },
    "kernelspec": {
      "name": "python3",
      "display_name": "Python 3"
    },
    "language_info": {
      "name": "python"
    }
  },
  "cells": [
    {
      "cell_type": "markdown",
      "metadata": {
        "id": "view-in-github",
        "colab_type": "text"
      },
      "source": [
        "<a href=\"https://colab.research.google.com/github/JSJeong-me/Machine_Learning/blob/main/ML/5_keras-model-aj2.ipynb\" target=\"_parent\"><img src=\"https://colab.research.google.com/assets/colab-badge.svg\" alt=\"Open In Colab\"/></a>"
      ]
    },
    {
      "cell_type": "code",
      "source": [
        "from tensorflow import keras\n",
        "from tensorflow.keras import layers"
      ],
      "metadata": {
        "id": "fZHfzppHb6we"
      },
      "execution_count": 1,
      "outputs": []
    },
    {
      "cell_type": "code",
      "execution_count": 20,
      "metadata": {
        "id": "UxCRcOYnb0hQ"
      },
      "outputs": [],
      "source": [
        "# Create a network with 1 linear unit\n",
        "model = keras.Sequential([\n",
        "    layers.Dense(units=50, input_shape=[3], activation='relu'),\n",
        "    layers.Dense(units=150, activation='relu'),\n",
        "    layers.Dense(units=250, activation='relu'),\n",
        "    layers.Dense(units=120, activation='relu'),\n",
        "    layers.Dense(units=50, activation='relu'),\n",
        "    layers.Dense(units=20, activation='relu'),\n",
        "    layers.Dense(units=1, activation='sigmoid')\n",
        "])"
      ]
    },
    {
      "cell_type": "code",
      "source": [
        "model.summary()"
      ],
      "metadata": {
        "id": "PxfuQN4cb-S7",
        "outputId": "62829dcc-843d-44bc-fbb2-aa307e502100",
        "colab": {
          "base_uri": "https://localhost:8080/"
        }
      },
      "execution_count": 21,
      "outputs": [
        {
          "output_type": "stream",
          "name": "stdout",
          "text": [
            "Model: \"sequential_9\"\n",
            "_________________________________________________________________\n",
            " Layer (type)                Output Shape              Param #   \n",
            "=================================================================\n",
            " dense_36 (Dense)            (None, 50)                200       \n",
            "                                                                 \n",
            " dense_37 (Dense)            (None, 150)               7650      \n",
            "                                                                 \n",
            " dense_38 (Dense)            (None, 250)               37750     \n",
            "                                                                 \n",
            " dense_39 (Dense)            (None, 120)               30120     \n",
            "                                                                 \n",
            " dense_40 (Dense)            (None, 50)                6050      \n",
            "                                                                 \n",
            " dense_41 (Dense)            (None, 20)                1020      \n",
            "                                                                 \n",
            " dense_42 (Dense)            (None, 1)                 21        \n",
            "                                                                 \n",
            "=================================================================\n",
            "Total params: 82,811\n",
            "Trainable params: 82,811\n",
            "Non-trainable params: 0\n",
            "_________________________________________________________________\n"
          ]
        }
      ]
    },
    {
      "cell_type": "code",
      "source": [
        ""
      ],
      "metadata": {
        "id": "E4LdCDiucBZ2"
      },
      "execution_count": null,
      "outputs": []
    }
  ]
}