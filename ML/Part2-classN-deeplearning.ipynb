{
  "metadata": {
    "kernelspec": {
      "language": "python",
      "display_name": "Python 3",
      "name": "python3"
    },
    "language_info": {
      "name": "python",
      "version": "3.7.12",
      "mimetype": "text/x-python",
      "codemirror_mode": {
        "name": "ipython",
        "version": 3
      },
      "pygments_lexer": "ipython3",
      "nbconvert_exporter": "python",
      "file_extension": ".py"
    },
    "colab": {
      "name": "notebook0fdae1b397.ipynb",
      "provenance": [],
      "include_colab_link": true
    },
    "accelerator": "GPU"
  },
  "nbformat_minor": 0,
  "nbformat": 4,
  "cells": [
    {
      "cell_type": "markdown",
      "metadata": {
        "id": "view-in-github",
        "colab_type": "text"
      },
      "source": [
        "<a href=\"https://colab.research.google.com/github/JSJeong-me/Machine_Learning/blob/main/ML/Part2-classN-deeplearning.ipynb\" target=\"_parent\"><img src=\"https://colab.research.google.com/assets/colab-badge.svg\" alt=\"Open In Colab\"/></a>"
      ]
    },
    {
      "cell_type": "markdown",
      "source": [
        "**This notebook is an exercise in the [Intro to Deep Learning](https://www.kaggle.com/learn/intro-to-deep-learning) course.  You can reference the tutorial at [this link](https://www.kaggle.com/ryanholbrook/a-single-neuron).**\n",
        "\n",
        "---\n"
      ],
      "metadata": {
        "id": "3mUBPSlwm4qA"
      }
    },
    {
      "cell_type": "markdown",
      "source": [
        "# Introduction #\n",
        "\n",
        "In the tutorial we learned about the building blocks of neural networks: *linear units*. We saw that a model of just one linear unit will fit a linear function to a dataset (equivalent to linear regression). In this exercise, you'll build a linear model and get some practice working with models in Keras.\n",
        "\n",
        "Before you get started, run the code cell below to set everything up."
      ],
      "metadata": {
        "id": "lu_BKhPIm4qE"
      }
    },
    {
      "cell_type": "markdown",
      "source": [
        "The *Red Wine Quality* dataset consists of physiochemical measurements from about 1600 Portuguese red wines.  Also included is a quality rating for each wine from blind taste-tests. \n",
        "\n",
        "First, run the next cell to display the first few rows of this dataset."
      ],
      "metadata": {
        "id": "beV27Dokm4qF"
      }
    },
    {
      "cell_type": "code",
      "source": [
        "import pandas as pd\n",
        "from IPython.display import display\n",
        "\n",
        "red_wine = pd.read_csv('winequality-red.csv')"
      ],
      "metadata": {
        "id": "oOsO38pc7e7i"
      },
      "execution_count": 1,
      "outputs": []
    },
    {
      "cell_type": "code",
      "source": [
        "#for setting up train and test sets\n",
        "from sklearn.model_selection import train_test_split\n",
        "from sklearn.preprocessing import StandardScaler"
      ],
      "metadata": {
        "id": "utg6bvBNcPUA"
      },
      "execution_count": 2,
      "outputs": []
    },
    {
      "cell_type": "code",
      "source": [
        "y = red_wine['quality']\n",
        "X = red_wine.drop(columns = 'quality')"
      ],
      "metadata": {
        "id": "1Pu8-raNcXIj"
      },
      "execution_count": 3,
      "outputs": []
    },
    {
      "cell_type": "code",
      "source": [
        ""
      ],
      "metadata": {
        "id": "Yz9Wvao2d2zj"
      },
      "execution_count": 3,
      "outputs": []
    },
    {
      "cell_type": "code",
      "source": [
        "X_train,X_test,y_train,y_test = train_test_split(X,y,test_size=0.2,random_state=1)\n",
        "\n",
        "print(X_train.shape)\n",
        "print(X_test.shape)\n",
        "print(y_train.shape)\n",
        "print(y_test.shape)"
      ],
      "metadata": {
        "id": "ZUt888a4crgr",
        "outputId": "7cfed048-64bc-4bb9-ba4e-e6698db7b144",
        "colab": {
          "base_uri": "https://localhost:8080/"
        }
      },
      "execution_count": 4,
      "outputs": [
        {
          "output_type": "stream",
          "name": "stdout",
          "text": [
            "(1279, 11)\n",
            "(320, 11)\n",
            "(1279,)\n",
            "(320,)\n"
          ]
        }
      ]
    },
    {
      "cell_type": "code",
      "source": [
        "sc = StandardScaler()\n",
        "X_train = sc.fit_transform(X_train)\n",
        "X_test = sc.transform(X_test)"
      ],
      "metadata": {
        "id": "aVf7VHmTd6I5"
      },
      "execution_count": 5,
      "outputs": []
    },
    {
      "cell_type": "code",
      "source": [
        "red_wine.describe()"
      ],
      "metadata": {
        "execution": {
          "iopub.status.busy": "2022-04-01T09:57:19.076902Z",
          "iopub.execute_input": "2022-04-01T09:57:19.077158Z",
          "iopub.status.idle": "2022-04-01T09:57:19.124183Z",
          "shell.execute_reply.started": "2022-04-01T09:57:19.077129Z",
          "shell.execute_reply": "2022-04-01T09:57:19.123278Z"
        },
        "trusted": true,
        "colab": {
          "base_uri": "https://localhost:8080/",
          "height": 399
        },
        "id": "v8bGY_i3m4qG",
        "outputId": "c758b4c6-9163-4ee2-d506-3da2286505c7"
      },
      "execution_count": 6,
      "outputs": [
        {
          "output_type": "execute_result",
          "data": {
            "text/plain": [
              "       fixed acidity  volatile acidity  citric acid  residual sugar  \\\n",
              "count    1599.000000       1599.000000  1599.000000     1599.000000   \n",
              "mean        8.319637          0.527821     0.270976        2.538806   \n",
              "std         1.741096          0.179060     0.194801        1.409928   \n",
              "min         4.600000          0.120000     0.000000        0.900000   \n",
              "25%         7.100000          0.390000     0.090000        1.900000   \n",
              "50%         7.900000          0.520000     0.260000        2.200000   \n",
              "75%         9.200000          0.640000     0.420000        2.600000   \n",
              "max        15.900000          1.580000     1.000000       15.500000   \n",
              "\n",
              "         chlorides  free sulfur dioxide  total sulfur dioxide      density  \\\n",
              "count  1599.000000          1599.000000           1599.000000  1599.000000   \n",
              "mean      0.087467            15.874922             46.467792     0.996747   \n",
              "std       0.047065            10.460157             32.895324     0.001887   \n",
              "min       0.012000             1.000000              6.000000     0.990070   \n",
              "25%       0.070000             7.000000             22.000000     0.995600   \n",
              "50%       0.079000            14.000000             38.000000     0.996750   \n",
              "75%       0.090000            21.000000             62.000000     0.997835   \n",
              "max       0.611000            72.000000            289.000000     1.003690   \n",
              "\n",
              "                pH    sulphates      alcohol      quality  \n",
              "count  1599.000000  1599.000000  1599.000000  1599.000000  \n",
              "mean      3.311113     0.658149    10.422983     5.636023  \n",
              "std       0.154386     0.169507     1.065668     0.807569  \n",
              "min       2.740000     0.330000     8.400000     3.000000  \n",
              "25%       3.210000     0.550000     9.500000     5.000000  \n",
              "50%       3.310000     0.620000    10.200000     6.000000  \n",
              "75%       3.400000     0.730000    11.100000     6.000000  \n",
              "max       4.010000     2.000000    14.900000     8.000000  "
            ],
            "text/html": [
              "\n",
              "  <div id=\"df-ca8586e7-fc9c-4f0d-9a07-3d26709436d1\">\n",
              "    <div class=\"colab-df-container\">\n",
              "      <div>\n",
              "<style scoped>\n",
              "    .dataframe tbody tr th:only-of-type {\n",
              "        vertical-align: middle;\n",
              "    }\n",
              "\n",
              "    .dataframe tbody tr th {\n",
              "        vertical-align: top;\n",
              "    }\n",
              "\n",
              "    .dataframe thead th {\n",
              "        text-align: right;\n",
              "    }\n",
              "</style>\n",
              "<table border=\"1\" class=\"dataframe\">\n",
              "  <thead>\n",
              "    <tr style=\"text-align: right;\">\n",
              "      <th></th>\n",
              "      <th>fixed acidity</th>\n",
              "      <th>volatile acidity</th>\n",
              "      <th>citric acid</th>\n",
              "      <th>residual sugar</th>\n",
              "      <th>chlorides</th>\n",
              "      <th>free sulfur dioxide</th>\n",
              "      <th>total sulfur dioxide</th>\n",
              "      <th>density</th>\n",
              "      <th>pH</th>\n",
              "      <th>sulphates</th>\n",
              "      <th>alcohol</th>\n",
              "      <th>quality</th>\n",
              "    </tr>\n",
              "  </thead>\n",
              "  <tbody>\n",
              "    <tr>\n",
              "      <th>count</th>\n",
              "      <td>1599.000000</td>\n",
              "      <td>1599.000000</td>\n",
              "      <td>1599.000000</td>\n",
              "      <td>1599.000000</td>\n",
              "      <td>1599.000000</td>\n",
              "      <td>1599.000000</td>\n",
              "      <td>1599.000000</td>\n",
              "      <td>1599.000000</td>\n",
              "      <td>1599.000000</td>\n",
              "      <td>1599.000000</td>\n",
              "      <td>1599.000000</td>\n",
              "      <td>1599.000000</td>\n",
              "    </tr>\n",
              "    <tr>\n",
              "      <th>mean</th>\n",
              "      <td>8.319637</td>\n",
              "      <td>0.527821</td>\n",
              "      <td>0.270976</td>\n",
              "      <td>2.538806</td>\n",
              "      <td>0.087467</td>\n",
              "      <td>15.874922</td>\n",
              "      <td>46.467792</td>\n",
              "      <td>0.996747</td>\n",
              "      <td>3.311113</td>\n",
              "      <td>0.658149</td>\n",
              "      <td>10.422983</td>\n",
              "      <td>5.636023</td>\n",
              "    </tr>\n",
              "    <tr>\n",
              "      <th>std</th>\n",
              "      <td>1.741096</td>\n",
              "      <td>0.179060</td>\n",
              "      <td>0.194801</td>\n",
              "      <td>1.409928</td>\n",
              "      <td>0.047065</td>\n",
              "      <td>10.460157</td>\n",
              "      <td>32.895324</td>\n",
              "      <td>0.001887</td>\n",
              "      <td>0.154386</td>\n",
              "      <td>0.169507</td>\n",
              "      <td>1.065668</td>\n",
              "      <td>0.807569</td>\n",
              "    </tr>\n",
              "    <tr>\n",
              "      <th>min</th>\n",
              "      <td>4.600000</td>\n",
              "      <td>0.120000</td>\n",
              "      <td>0.000000</td>\n",
              "      <td>0.900000</td>\n",
              "      <td>0.012000</td>\n",
              "      <td>1.000000</td>\n",
              "      <td>6.000000</td>\n",
              "      <td>0.990070</td>\n",
              "      <td>2.740000</td>\n",
              "      <td>0.330000</td>\n",
              "      <td>8.400000</td>\n",
              "      <td>3.000000</td>\n",
              "    </tr>\n",
              "    <tr>\n",
              "      <th>25%</th>\n",
              "      <td>7.100000</td>\n",
              "      <td>0.390000</td>\n",
              "      <td>0.090000</td>\n",
              "      <td>1.900000</td>\n",
              "      <td>0.070000</td>\n",
              "      <td>7.000000</td>\n",
              "      <td>22.000000</td>\n",
              "      <td>0.995600</td>\n",
              "      <td>3.210000</td>\n",
              "      <td>0.550000</td>\n",
              "      <td>9.500000</td>\n",
              "      <td>5.000000</td>\n",
              "    </tr>\n",
              "    <tr>\n",
              "      <th>50%</th>\n",
              "      <td>7.900000</td>\n",
              "      <td>0.520000</td>\n",
              "      <td>0.260000</td>\n",
              "      <td>2.200000</td>\n",
              "      <td>0.079000</td>\n",
              "      <td>14.000000</td>\n",
              "      <td>38.000000</td>\n",
              "      <td>0.996750</td>\n",
              "      <td>3.310000</td>\n",
              "      <td>0.620000</td>\n",
              "      <td>10.200000</td>\n",
              "      <td>6.000000</td>\n",
              "    </tr>\n",
              "    <tr>\n",
              "      <th>75%</th>\n",
              "      <td>9.200000</td>\n",
              "      <td>0.640000</td>\n",
              "      <td>0.420000</td>\n",
              "      <td>2.600000</td>\n",
              "      <td>0.090000</td>\n",
              "      <td>21.000000</td>\n",
              "      <td>62.000000</td>\n",
              "      <td>0.997835</td>\n",
              "      <td>3.400000</td>\n",
              "      <td>0.730000</td>\n",
              "      <td>11.100000</td>\n",
              "      <td>6.000000</td>\n",
              "    </tr>\n",
              "    <tr>\n",
              "      <th>max</th>\n",
              "      <td>15.900000</td>\n",
              "      <td>1.580000</td>\n",
              "      <td>1.000000</td>\n",
              "      <td>15.500000</td>\n",
              "      <td>0.611000</td>\n",
              "      <td>72.000000</td>\n",
              "      <td>289.000000</td>\n",
              "      <td>1.003690</td>\n",
              "      <td>4.010000</td>\n",
              "      <td>2.000000</td>\n",
              "      <td>14.900000</td>\n",
              "      <td>8.000000</td>\n",
              "    </tr>\n",
              "  </tbody>\n",
              "</table>\n",
              "</div>\n",
              "      <button class=\"colab-df-convert\" onclick=\"convertToInteractive('df-ca8586e7-fc9c-4f0d-9a07-3d26709436d1')\"\n",
              "              title=\"Convert this dataframe to an interactive table.\"\n",
              "              style=\"display:none;\">\n",
              "        \n",
              "  <svg xmlns=\"http://www.w3.org/2000/svg\" height=\"24px\"viewBox=\"0 0 24 24\"\n",
              "       width=\"24px\">\n",
              "    <path d=\"M0 0h24v24H0V0z\" fill=\"none\"/>\n",
              "    <path d=\"M18.56 5.44l.94 2.06.94-2.06 2.06-.94-2.06-.94-.94-2.06-.94 2.06-2.06.94zm-11 1L8.5 8.5l.94-2.06 2.06-.94-2.06-.94L8.5 2.5l-.94 2.06-2.06.94zm10 10l.94 2.06.94-2.06 2.06-.94-2.06-.94-.94-2.06-.94 2.06-2.06.94z\"/><path d=\"M17.41 7.96l-1.37-1.37c-.4-.4-.92-.59-1.43-.59-.52 0-1.04.2-1.43.59L10.3 9.45l-7.72 7.72c-.78.78-.78 2.05 0 2.83L4 21.41c.39.39.9.59 1.41.59.51 0 1.02-.2 1.41-.59l7.78-7.78 2.81-2.81c.8-.78.8-2.07 0-2.86zM5.41 20L4 18.59l7.72-7.72 1.47 1.35L5.41 20z\"/>\n",
              "  </svg>\n",
              "      </button>\n",
              "      \n",
              "  <style>\n",
              "    .colab-df-container {\n",
              "      display:flex;\n",
              "      flex-wrap:wrap;\n",
              "      gap: 12px;\n",
              "    }\n",
              "\n",
              "    .colab-df-convert {\n",
              "      background-color: #E8F0FE;\n",
              "      border: none;\n",
              "      border-radius: 50%;\n",
              "      cursor: pointer;\n",
              "      display: none;\n",
              "      fill: #1967D2;\n",
              "      height: 32px;\n",
              "      padding: 0 0 0 0;\n",
              "      width: 32px;\n",
              "    }\n",
              "\n",
              "    .colab-df-convert:hover {\n",
              "      background-color: #E2EBFA;\n",
              "      box-shadow: 0px 1px 2px rgba(60, 64, 67, 0.3), 0px 1px 3px 1px rgba(60, 64, 67, 0.15);\n",
              "      fill: #174EA6;\n",
              "    }\n",
              "\n",
              "    [theme=dark] .colab-df-convert {\n",
              "      background-color: #3B4455;\n",
              "      fill: #D2E3FC;\n",
              "    }\n",
              "\n",
              "    [theme=dark] .colab-df-convert:hover {\n",
              "      background-color: #434B5C;\n",
              "      box-shadow: 0px 1px 3px 1px rgba(0, 0, 0, 0.15);\n",
              "      filter: drop-shadow(0px 1px 2px rgba(0, 0, 0, 0.3));\n",
              "      fill: #FFFFFF;\n",
              "    }\n",
              "  </style>\n",
              "\n",
              "      <script>\n",
              "        const buttonEl =\n",
              "          document.querySelector('#df-ca8586e7-fc9c-4f0d-9a07-3d26709436d1 button.colab-df-convert');\n",
              "        buttonEl.style.display =\n",
              "          google.colab.kernel.accessAllowed ? 'block' : 'none';\n",
              "\n",
              "        async function convertToInteractive(key) {\n",
              "          const element = document.querySelector('#df-ca8586e7-fc9c-4f0d-9a07-3d26709436d1');\n",
              "          const dataTable =\n",
              "            await google.colab.kernel.invokeFunction('convertToInteractive',\n",
              "                                                     [key], {});\n",
              "          if (!dataTable) return;\n",
              "\n",
              "          const docLinkHtml = 'Like what you see? Visit the ' +\n",
              "            '<a target=\"_blank\" href=https://colab.research.google.com/notebooks/data_table.ipynb>data table notebook</a>'\n",
              "            + ' to learn more about interactive tables.';\n",
              "          element.innerHTML = '';\n",
              "          dataTable['output_type'] = 'display_data';\n",
              "          await google.colab.output.renderOutput(dataTable, element);\n",
              "          const docLink = document.createElement('div');\n",
              "          docLink.innerHTML = docLinkHtml;\n",
              "          element.appendChild(docLink);\n",
              "        }\n",
              "      </script>\n",
              "    </div>\n",
              "  </div>\n",
              "  "
            ]
          },
          "metadata": {},
          "execution_count": 6
        }
      ]
    },
    {
      "cell_type": "code",
      "source": [
        "from tensorflow import keras\n",
        "from tensorflow.keras import layers\n",
        "\n",
        "model = keras.Sequential([\n",
        "    layers.Dense(1024, activation='relu', input_shape=[11]),\n",
        "    layers.Dropout(0.3),\n",
        "    layers.BatchNormalization(),\n",
        "    layers.Dense(1024, activation='relu'),\n",
        "    layers.Dropout(0.3),\n",
        "    layers.BatchNormalization(),\n",
        "    layers.Dense(512, activation='relu'),\n",
        "    layers.Dropout(0.3),\n",
        "    layers.BatchNormalization(),\n",
        "    layers.Dense(512, activation='relu'),\n",
        "    layers.Dropout(0.3),\n",
        "    layers.BatchNormalization(),\n",
        "    layers.Dense(1),\n",
        "])"
      ],
      "metadata": {
        "execution": {
          "iopub.status.busy": "2022-04-01T09:57:19.125173Z",
          "iopub.execute_input": "2022-04-01T09:57:19.125378Z",
          "iopub.status.idle": "2022-04-01T09:57:19.144320Z",
          "shell.execute_reply.started": "2022-04-01T09:57:19.125351Z",
          "shell.execute_reply": "2022-04-01T09:57:19.143449Z"
        },
        "trusted": true,
        "id": "VLqpQWRfm4qH"
      },
      "execution_count": 7,
      "outputs": []
    },
    {
      "cell_type": "code",
      "source": [
        "model.summary()"
      ],
      "metadata": {
        "id": "_4yylu3gPc4w",
        "outputId": "942f8a9f-28e4-4d8e-fcf3-0cf357f8ab3a",
        "colab": {
          "base_uri": "https://localhost:8080/"
        }
      },
      "execution_count": 8,
      "outputs": [
        {
          "output_type": "stream",
          "name": "stdout",
          "text": [
            "Model: \"sequential\"\n",
            "_________________________________________________________________\n",
            " Layer (type)                Output Shape              Param #   \n",
            "=================================================================\n",
            " dense (Dense)               (None, 1024)              12288     \n",
            "                                                                 \n",
            " dropout (Dropout)           (None, 1024)              0         \n",
            "                                                                 \n",
            " batch_normalization (BatchN  (None, 1024)             4096      \n",
            " ormalization)                                                   \n",
            "                                                                 \n",
            " dense_1 (Dense)             (None, 1024)              1049600   \n",
            "                                                                 \n",
            " dropout_1 (Dropout)         (None, 1024)              0         \n",
            "                                                                 \n",
            " batch_normalization_1 (Batc  (None, 1024)             4096      \n",
            " hNormalization)                                                 \n",
            "                                                                 \n",
            " dense_2 (Dense)             (None, 512)               524800    \n",
            "                                                                 \n",
            " dropout_2 (Dropout)         (None, 512)               0         \n",
            "                                                                 \n",
            " batch_normalization_2 (Batc  (None, 512)              2048      \n",
            " hNormalization)                                                 \n",
            "                                                                 \n",
            " dense_3 (Dense)             (None, 512)               262656    \n",
            "                                                                 \n",
            " dropout_3 (Dropout)         (None, 512)               0         \n",
            "                                                                 \n",
            " batch_normalization_3 (Batc  (None, 512)              2048      \n",
            " hNormalization)                                                 \n",
            "                                                                 \n",
            " dense_4 (Dense)             (None, 1)                 513       \n",
            "                                                                 \n",
            "=================================================================\n",
            "Total params: 1,862,145\n",
            "Trainable params: 1,856,001\n",
            "Non-trainable params: 6,144\n",
            "_________________________________________________________________\n"
          ]
        }
      ]
    },
    {
      "cell_type": "code",
      "source": [
        "from tensorflow import keras\n",
        "from tensorflow.keras import layers, callbacks\n",
        "\n",
        "early_stopping = callbacks.EarlyStopping(\n",
        "    min_delta=0.001, # minimium amount of change to count as an improvement\n",
        "    patience=20, # how many epochs to wait before stopping\n",
        "    restore_best_weights=True,\n",
        ")"
      ],
      "metadata": {
        "id": "6v2iGIe6Xuz5"
      },
      "execution_count": 9,
      "outputs": []
    },
    {
      "cell_type": "code",
      "source": [
        "model.compile(\n",
        "    optimizer='adam',\n",
        "    loss='mse',\n",
        ")"
      ],
      "metadata": {
        "execution": {
          "iopub.status.busy": "2022-04-01T09:57:19.145527Z",
          "iopub.execute_input": "2022-04-01T09:57:19.145858Z",
          "iopub.status.idle": "2022-04-01T09:57:19.154108Z",
          "shell.execute_reply.started": "2022-04-01T09:57:19.145830Z",
          "shell.execute_reply": "2022-04-01T09:57:19.153139Z"
        },
        "trusted": true,
        "id": "3eMdsFmAm4qH"
      },
      "execution_count": 10,
      "outputs": []
    },
    {
      "cell_type": "code",
      "source": [
        "model.summary()"
      ],
      "metadata": {
        "id": "OgOoIThoaID_",
        "outputId": "25101260-716c-4fa0-eae3-5d6333324df2",
        "colab": {
          "base_uri": "https://localhost:8080/"
        }
      },
      "execution_count": 11,
      "outputs": [
        {
          "output_type": "stream",
          "name": "stdout",
          "text": [
            "Model: \"sequential\"\n",
            "_________________________________________________________________\n",
            " Layer (type)                Output Shape              Param #   \n",
            "=================================================================\n",
            " dense (Dense)               (None, 1024)              12288     \n",
            "                                                                 \n",
            " dropout (Dropout)           (None, 1024)              0         \n",
            "                                                                 \n",
            " batch_normalization (BatchN  (None, 1024)             4096      \n",
            " ormalization)                                                   \n",
            "                                                                 \n",
            " dense_1 (Dense)             (None, 1024)              1049600   \n",
            "                                                                 \n",
            " dropout_1 (Dropout)         (None, 1024)              0         \n",
            "                                                                 \n",
            " batch_normalization_1 (Batc  (None, 1024)             4096      \n",
            " hNormalization)                                                 \n",
            "                                                                 \n",
            " dense_2 (Dense)             (None, 512)               524800    \n",
            "                                                                 \n",
            " dropout_2 (Dropout)         (None, 512)               0         \n",
            "                                                                 \n",
            " batch_normalization_2 (Batc  (None, 512)              2048      \n",
            " hNormalization)                                                 \n",
            "                                                                 \n",
            " dense_3 (Dense)             (None, 512)               262656    \n",
            "                                                                 \n",
            " dropout_3 (Dropout)         (None, 512)               0         \n",
            "                                                                 \n",
            " batch_normalization_3 (Batc  (None, 512)              2048      \n",
            " hNormalization)                                                 \n",
            "                                                                 \n",
            " dense_4 (Dense)             (None, 1)                 513       \n",
            "                                                                 \n",
            "=================================================================\n",
            "Total params: 1,862,145\n",
            "Trainable params: 1,856,001\n",
            "Non-trainable params: 6,144\n",
            "_________________________________________________________________\n"
          ]
        }
      ]
    },
    {
      "cell_type": "code",
      "source": [
        "history = model.fit(\n",
        "    X_train, y_train,\n",
        "    validation_data=(X_test, y_test),\n",
        "    batch_size=256,\n",
        "    epochs=1000,\n",
        "    callbacks=[early_stopping],\n",
        "    verbose=1,\n",
        ")"
      ],
      "metadata": {
        "id": "jOeEi7ppaDGQ",
        "outputId": "f328b206-d6ec-4df3-d724-65783fb29b5f",
        "colab": {
          "base_uri": "https://localhost:8080/"
        }
      },
      "execution_count": 12,
      "outputs": [
        {
          "output_type": "stream",
          "name": "stdout",
          "text": [
            "Epoch 1/1000\n",
            "5/5 [==============================] - 5s 194ms/step - loss: 33.7845 - val_loss: 30.3827\n",
            "Epoch 2/1000\n",
            "5/5 [==============================] - 0s 40ms/step - loss: 31.7571 - val_loss: 28.6671\n",
            "Epoch 3/1000\n",
            "5/5 [==============================] - 0s 44ms/step - loss: 30.0354 - val_loss: 27.1856\n",
            "Epoch 4/1000\n",
            "5/5 [==============================] - 0s 42ms/step - loss: 28.6984 - val_loss: 25.7850\n",
            "Epoch 5/1000\n",
            "5/5 [==============================] - 0s 37ms/step - loss: 27.0081 - val_loss: 24.0297\n",
            "Epoch 6/1000\n",
            "5/5 [==============================] - 0s 38ms/step - loss: 25.4857 - val_loss: 22.0899\n",
            "Epoch 7/1000\n",
            "5/5 [==============================] - 0s 33ms/step - loss: 23.7778 - val_loss: 20.5590\n",
            "Epoch 8/1000\n",
            "5/5 [==============================] - 0s 45ms/step - loss: 22.0652 - val_loss: 18.4005\n",
            "Epoch 9/1000\n",
            "5/5 [==============================] - 0s 46ms/step - loss: 20.1077 - val_loss: 16.2471\n",
            "Epoch 10/1000\n",
            "5/5 [==============================] - 0s 51ms/step - loss: 18.3955 - val_loss: 14.0175\n",
            "Epoch 11/1000\n",
            "5/5 [==============================] - 0s 37ms/step - loss: 16.5863 - val_loss: 11.9491\n",
            "Epoch 12/1000\n",
            "5/5 [==============================] - 0s 53ms/step - loss: 14.5401 - val_loss: 9.8040\n",
            "Epoch 13/1000\n",
            "5/5 [==============================] - 0s 65ms/step - loss: 12.2234 - val_loss: 9.6582\n",
            "Epoch 14/1000\n",
            "5/5 [==============================] - 0s 55ms/step - loss: 10.2262 - val_loss: 7.2973\n",
            "Epoch 15/1000\n",
            "5/5 [==============================] - 0s 54ms/step - loss: 8.7079 - val_loss: 5.5313\n",
            "Epoch 16/1000\n",
            "5/5 [==============================] - 0s 39ms/step - loss: 7.1797 - val_loss: 4.1640\n",
            "Epoch 17/1000\n",
            "5/5 [==============================] - 0s 43ms/step - loss: 5.8747 - val_loss: 3.2066\n",
            "Epoch 18/1000\n",
            "5/5 [==============================] - 0s 51ms/step - loss: 4.9310 - val_loss: 2.3861\n",
            "Epoch 19/1000\n",
            "5/5 [==============================] - 0s 46ms/step - loss: 4.0704 - val_loss: 1.9422\n",
            "Epoch 20/1000\n",
            "5/5 [==============================] - 0s 47ms/step - loss: 3.9059 - val_loss: 1.4243\n",
            "Epoch 21/1000\n",
            "5/5 [==============================] - 0s 40ms/step - loss: 3.6039 - val_loss: 0.8515\n",
            "Epoch 22/1000\n",
            "5/5 [==============================] - 0s 31ms/step - loss: 3.6010 - val_loss: 1.0158\n",
            "Epoch 23/1000\n",
            "5/5 [==============================] - 0s 36ms/step - loss: 3.3190 - val_loss: 0.6792\n",
            "Epoch 24/1000\n",
            "5/5 [==============================] - 0s 62ms/step - loss: 3.5947 - val_loss: 0.6272\n",
            "Epoch 25/1000\n",
            "5/5 [==============================] - 0s 48ms/step - loss: 3.7498 - val_loss: 0.8393\n",
            "Epoch 26/1000\n",
            "5/5 [==============================] - 0s 42ms/step - loss: 3.4248 - val_loss: 0.5683\n",
            "Epoch 27/1000\n",
            "5/5 [==============================] - 0s 39ms/step - loss: 3.2438 - val_loss: 0.7092\n",
            "Epoch 28/1000\n",
            "5/5 [==============================] - 0s 54ms/step - loss: 2.7577 - val_loss: 0.6178\n",
            "Epoch 29/1000\n",
            "5/5 [==============================] - 0s 39ms/step - loss: 2.9931 - val_loss: 0.6572\n",
            "Epoch 30/1000\n",
            "5/5 [==============================] - 0s 34ms/step - loss: 2.4364 - val_loss: 0.6750\n",
            "Epoch 31/1000\n",
            "5/5 [==============================] - 0s 43ms/step - loss: 2.8462 - val_loss: 0.5244\n",
            "Epoch 32/1000\n",
            "5/5 [==============================] - 0s 72ms/step - loss: 2.7013 - val_loss: 0.5213\n",
            "Epoch 33/1000\n",
            "5/5 [==============================] - 0s 58ms/step - loss: 2.7103 - val_loss: 0.6032\n",
            "Epoch 34/1000\n",
            "5/5 [==============================] - 0s 37ms/step - loss: 2.4709 - val_loss: 0.6661\n",
            "Epoch 35/1000\n",
            "5/5 [==============================] - 0s 56ms/step - loss: 2.6814 - val_loss: 0.8680\n",
            "Epoch 36/1000\n",
            "5/5 [==============================] - 0s 47ms/step - loss: 2.5062 - val_loss: 0.4572\n",
            "Epoch 37/1000\n",
            "5/5 [==============================] - 0s 30ms/step - loss: 2.8767 - val_loss: 0.5602\n",
            "Epoch 38/1000\n",
            "5/5 [==============================] - 0s 39ms/step - loss: 2.3438 - val_loss: 0.4998\n",
            "Epoch 39/1000\n",
            "5/5 [==============================] - 0s 30ms/step - loss: 2.1073 - val_loss: 0.4558\n",
            "Epoch 40/1000\n",
            "5/5 [==============================] - 0s 27ms/step - loss: 2.1096 - val_loss: 0.6425\n",
            "Epoch 41/1000\n",
            "5/5 [==============================] - 0s 42ms/step - loss: 2.5017 - val_loss: 0.5763\n",
            "Epoch 42/1000\n",
            "5/5 [==============================] - 0s 39ms/step - loss: 2.1196 - val_loss: 0.4290\n",
            "Epoch 43/1000\n",
            "5/5 [==============================] - 0s 26ms/step - loss: 2.0022 - val_loss: 0.4488\n",
            "Epoch 44/1000\n",
            "5/5 [==============================] - 0s 35ms/step - loss: 2.3432 - val_loss: 0.5234\n",
            "Epoch 45/1000\n",
            "5/5 [==============================] - 0s 31ms/step - loss: 2.0368 - val_loss: 0.4705\n",
            "Epoch 46/1000\n",
            "5/5 [==============================] - 0s 33ms/step - loss: 1.9410 - val_loss: 0.5277\n",
            "Epoch 47/1000\n",
            "5/5 [==============================] - 0s 31ms/step - loss: 2.1978 - val_loss: 0.5423\n",
            "Epoch 48/1000\n",
            "5/5 [==============================] - 0s 56ms/step - loss: 2.2266 - val_loss: 0.4116\n",
            "Epoch 49/1000\n",
            "5/5 [==============================] - 0s 56ms/step - loss: 2.0239 - val_loss: 0.5201\n",
            "Epoch 50/1000\n",
            "5/5 [==============================] - 0s 45ms/step - loss: 2.2980 - val_loss: 0.5860\n",
            "Epoch 51/1000\n",
            "5/5 [==============================] - 0s 35ms/step - loss: 1.7572 - val_loss: 0.4739\n",
            "Epoch 52/1000\n",
            "5/5 [==============================] - 0s 46ms/step - loss: 1.8153 - val_loss: 0.4694\n",
            "Epoch 53/1000\n",
            "5/5 [==============================] - 0s 52ms/step - loss: 1.7759 - val_loss: 0.4521\n",
            "Epoch 54/1000\n",
            "5/5 [==============================] - 0s 53ms/step - loss: 1.7566 - val_loss: 0.5220\n",
            "Epoch 55/1000\n",
            "5/5 [==============================] - 0s 43ms/step - loss: 1.5693 - val_loss: 0.5891\n",
            "Epoch 56/1000\n",
            "5/5 [==============================] - 0s 35ms/step - loss: 1.9512 - val_loss: 0.5124\n",
            "Epoch 57/1000\n",
            "5/5 [==============================] - 0s 33ms/step - loss: 1.8245 - val_loss: 0.5430\n",
            "Epoch 58/1000\n",
            "5/5 [==============================] - 0s 38ms/step - loss: 1.6214 - val_loss: 0.4448\n",
            "Epoch 59/1000\n",
            "5/5 [==============================] - 0s 32ms/step - loss: 1.6777 - val_loss: 0.4306\n",
            "Epoch 60/1000\n",
            "5/5 [==============================] - 0s 39ms/step - loss: 1.8948 - val_loss: 0.4144\n",
            "Epoch 61/1000\n",
            "5/5 [==============================] - 0s 32ms/step - loss: 1.6589 - val_loss: 0.5247\n",
            "Epoch 62/1000\n",
            "5/5 [==============================] - 0s 32ms/step - loss: 1.7176 - val_loss: 0.5478\n",
            "Epoch 63/1000\n",
            "5/5 [==============================] - 0s 58ms/step - loss: 1.7261 - val_loss: 0.3944\n",
            "Epoch 64/1000\n",
            "5/5 [==============================] - 0s 41ms/step - loss: 1.6432 - val_loss: 0.4340\n",
            "Epoch 65/1000\n",
            "5/5 [==============================] - 0s 39ms/step - loss: 1.8431 - val_loss: 0.4558\n",
            "Epoch 66/1000\n",
            "5/5 [==============================] - 0s 37ms/step - loss: 1.9432 - val_loss: 0.5492\n",
            "Epoch 67/1000\n",
            "5/5 [==============================] - 0s 33ms/step - loss: 2.3719 - val_loss: 0.4454\n",
            "Epoch 68/1000\n",
            "5/5 [==============================] - 0s 35ms/step - loss: 1.9652 - val_loss: 0.4880\n",
            "Epoch 69/1000\n",
            "5/5 [==============================] - 0s 36ms/step - loss: 1.6725 - val_loss: 0.4364\n",
            "Epoch 70/1000\n",
            "5/5 [==============================] - 0s 35ms/step - loss: 1.6724 - val_loss: 0.4668\n",
            "Epoch 71/1000\n",
            "5/5 [==============================] - 0s 29ms/step - loss: 1.4862 - val_loss: 0.4913\n",
            "Epoch 72/1000\n",
            "5/5 [==============================] - 0s 29ms/step - loss: 1.3693 - val_loss: 0.6324\n",
            "Epoch 73/1000\n",
            "5/5 [==============================] - 0s 29ms/step - loss: 1.3588 - val_loss: 0.5438\n",
            "Epoch 74/1000\n",
            "5/5 [==============================] - 0s 34ms/step - loss: 1.7069 - val_loss: 0.4964\n",
            "Epoch 75/1000\n",
            "5/5 [==============================] - 0s 26ms/step - loss: 1.6658 - val_loss: 0.4558\n",
            "Epoch 76/1000\n",
            "5/5 [==============================] - 0s 29ms/step - loss: 1.4042 - val_loss: 0.5407\n",
            "Epoch 77/1000\n",
            "5/5 [==============================] - 0s 32ms/step - loss: 1.3462 - val_loss: 0.4293\n",
            "Epoch 78/1000\n",
            "5/5 [==============================] - 0s 42ms/step - loss: 1.1694 - val_loss: 0.4331\n",
            "Epoch 79/1000\n",
            "5/5 [==============================] - 0s 38ms/step - loss: 1.2716 - val_loss: 0.4229\n",
            "Epoch 80/1000\n",
            "5/5 [==============================] - 0s 46ms/step - loss: 1.4153 - val_loss: 0.4438\n",
            "Epoch 81/1000\n",
            "5/5 [==============================] - 0s 32ms/step - loss: 1.4540 - val_loss: 0.4337\n",
            "Epoch 82/1000\n",
            "5/5 [==============================] - 0s 32ms/step - loss: 1.2857 - val_loss: 0.4180\n",
            "Epoch 83/1000\n",
            "5/5 [==============================] - 0s 37ms/step - loss: 1.3285 - val_loss: 0.3999\n"
          ]
        }
      ]
    },
    {
      "cell_type": "code",
      "source": [
        "# Show the learning curves\n",
        "history_df = pd.DataFrame(history.history)\n",
        "history_df.loc[:, ['loss', 'val_loss']].plot();\n",
        "print((\"Minimum Validation Loss: {:0.4f}\").format(history_df['val_loss'].min()))"
      ],
      "metadata": {
        "colab": {
          "base_uri": "https://localhost:8080/",
          "height": 285
        },
        "id": "3JH2xgHWYZA5",
        "outputId": "4fcf3810-db38-4b7e-8cd1-a8ab2215d461"
      },
      "execution_count": 13,
      "outputs": [
        {
          "output_type": "stream",
          "name": "stdout",
          "text": [
            "Minimum Validation Loss: 0.3944\n"
          ]
        },
        {
          "output_type": "display_data",
          "data": {
            "text/plain": [
              "<Figure size 432x288 with 1 Axes>"
            ],
            "image/png": "[encoded data removed]"
          },
          "metadata": {
            "needs_background": "light"
          }
        }
      ]
    },
    {
      "cell_type": "markdown",
      "source": [
        "Minimum Validation Loss: 0.4830\n",
        "![다운로드 (3).png](data:image/png;base64,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)"
      ],
      "metadata": {
        "id": "2n2VXawyQ44r"
      }
    },
    {
      "cell_type": "code",
      "source": [
        ""
      ],
      "metadata": {
        "id": "IP65Eu8ZbqDX"
      },
      "execution_count": 13,
      "outputs": []
    },
    {
      "cell_type": "code",
      "source": [
        "#making the predictions\n",
        "dnn_pred = model.predict(X_test)"
      ],
      "metadata": {
        "id": "zT-p0ufAas-W"
      },
      "execution_count": 14,
      "outputs": []
    },
    {
      "cell_type": "code",
      "source": [
        "from sklearn.metrics import mean_squared_error"
      ],
      "metadata": {
        "id": "drMJofgHcC1u"
      },
      "execution_count": 15,
      "outputs": []
    },
    {
      "cell_type": "code",
      "source": [
        "#getting our results\n",
        "dnn_mse = mean_squared_error(y_test,dnn_pred)"
      ],
      "metadata": {
        "id": "XCfQWkdibnxf"
      },
      "execution_count": 16,
      "outputs": []
    },
    {
      "cell_type": "code",
      "source": [
        "#printing rmse\n",
        "print(\"MSE =\",(round(dnn_mse,2)))"
      ],
      "metadata": {
        "id": "2nTi8t3sbsGt",
        "outputId": "7ad8588f-4857-4418-f3ad-26e98025d0e1",
        "colab": {
          "base_uri": "https://localhost:8080/"
        }
      },
      "execution_count": 17,
      "outputs": [
        {
          "output_type": "stream",
          "name": "stdout",
          "text": [
            "MSE = 0.39\n"
          ]
        }
      ]
    },
    {
      "cell_type": "code",
      "source": [
        "#result table\n",
        "from tabulate import tabulate"
      ],
      "metadata": {
        "id": "XSiJFgn8gTnj"
      },
      "execution_count": 18,
      "outputs": []
    },
    {
      "cell_type": "code",
      "source": [
        "#gathering the results\n",
        "result_table = [['Deep Learning', round(dnn_mse,2)]]\n",
        "\n",
        "#defining header names\n",
        "col_names = [\"Model\", \"MSE\"]\n",
        "\n",
        "#creating a results table\n",
        "print(tabulate(result_table, headers=col_names))"
      ],
      "metadata": {
        "id": "zWurjsb9gJst",
        "outputId": "2216e304-64c4-4416-89e4-d7e7d625df09",
        "colab": {
          "base_uri": "https://localhost:8080/"
        }
      },
      "execution_count": 19,
      "outputs": [
        {
          "output_type": "stream",
          "name": "stdout",
          "text": [
            "Model            MSE\n",
            "-------------  -----\n",
            "Deep Learning   0.39\n"
          ]
        }
      ]
    }
  ]
}