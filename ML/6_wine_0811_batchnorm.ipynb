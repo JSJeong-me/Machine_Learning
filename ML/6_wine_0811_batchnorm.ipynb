{
  "metadata": {
    "kernelspec": {
      "language": "python",
      "display_name": "Python 3",
      "name": "python3"
    },
    "language_info": {
      "name": "python",
      "version": "3.7.12",
      "mimetype": "text/x-python",
      "codemirror_mode": {
        "name": "ipython",
        "version": 3
      },
      "pygments_lexer": "ipython3",
      "nbconvert_exporter": "python",
      "file_extension": ".py"
    },
    "colab": {
      "name": "notebook0fdae1b397.ipynb",
      "provenance": [],
      "include_colab_link": true
    }
  },
  "nbformat_minor": 0,
  "nbformat": 4,
  "cells": [
    {
      "cell_type": "markdown",
      "metadata": {
        "id": "view-in-github",
        "colab_type": "text"
      },
      "source": [
        "<a href=\"https://colab.research.google.com/github/JSJeong-me/Machine_Learning/blob/main/ML/6_wine_0811_batchnorm.ipynb\" target=\"_parent\"><img src=\"https://colab.research.google.com/assets/colab-badge.svg\" alt=\"Open In Colab\"/></a>"
      ]
    },
    {
      "cell_type": "markdown",
      "source": [
        "**This notebook is an exercise in the [Intro to Deep Learning](https://www.kaggle.com/learn/intro-to-deep-learning) course.  You can reference the tutorial at [this link](https://www.kaggle.com/ryanholbrook/a-single-neuron).**\n",
        "\n",
        "---\n"
      ],
      "metadata": {
        "id": "3mUBPSlwm4qA"
      }
    },
    {
      "cell_type": "markdown",
      "source": [
        "# Introduction #\n",
        "\n",
        "In the tutorial we learned about the building blocks of neural networks: *linear units*. We saw that a model of just one linear unit will fit a linear function to a dataset (equivalent to linear regression). In this exercise, you'll build a linear model and get some practice working with models in Keras.\n",
        "\n",
        "Before you get started, run the code cell below to set everything up."
      ],
      "metadata": {
        "id": "lu_BKhPIm4qE"
      }
    },
    {
      "cell_type": "markdown",
      "source": [
        "The *Red Wine Quality* dataset consists of physiochemical measurements from about 1600 Portuguese red wines.  Also included is a quality rating for each wine from blind taste-tests. \n",
        "\n",
        "First, run the next cell to display the first few rows of this dataset."
      ],
      "metadata": {
        "id": "beV27Dokm4qF"
      }
    },
    {
      "cell_type": "code",
      "source": [
        "import pandas as pd\n",
        "from IPython.display import display\n",
        "\n",
        "red_wine = pd.read_csv('winequality-red.csv')"
      ],
      "metadata": {
        "id": "oOsO38pc7e7i"
      },
      "execution_count": 1,
      "outputs": []
    },
    {
      "cell_type": "code",
      "source": [
        "import seaborn as sns\n",
        "import matplotlib.pyplot as plt\n",
        "\n",
        "corr = red_wine.corr()\n",
        "sns.heatmap(corr, xticklabels = corr.columns.values,\n",
        "           yticklabels=corr.columns.values)"
      ],
      "metadata": {
        "id": "hU_Cz8VsGJ2I",
        "outputId": "7b68c627-4052-4f67-dadd-8d8f6b389804",
        "colab": {
          "base_uri": "https://localhost:8080/",
          "height": 371
        }
      },
      "execution_count": 2,
      "outputs": [
        {
          "output_type": "execute_result",
          "data": {
            "text/plain": [
              "<matplotlib.axes._subplots.AxesSubplot at 0x7fec45ad23d0>"
            ]
          },
          "metadata": {},
          "execution_count": 2
        },
        {
          "output_type": "display_data",
          "data": {
            "text/plain": [
              "<Figure size 432x288 with 2 Axes>"
            ],
            "image/png": "[encoded data removed]"
          },
          "metadata": {
            "needs_background": "light"
          }
        }
      ]
    },
    {
      "cell_type": "code",
      "source": [
        "red_wine['quality'].hist()"
      ],
      "metadata": {
        "id": "Ptu1qMbdGThJ",
        "outputId": "ee491fc8-0b4b-4cfa-cc16-d8ea13f9de91",
        "colab": {
          "base_uri": "https://localhost:8080/",
          "height": 283
        }
      },
      "execution_count": 3,
      "outputs": [
        {
          "output_type": "execute_result",
          "data": {
            "text/plain": [
              "<matplotlib.axes._subplots.AxesSubplot at 0x7fec45368510>"
            ]
          },
          "metadata": {},
          "execution_count": 3
        },
        {
          "output_type": "display_data",
          "data": {
            "text/plain": [
              "<Figure size 432x288 with 1 Axes>"
            ],
            "image/png": "[encoded data removed]"
          },
          "metadata": {
            "needs_background": "light"
          }
        }
      ]
    },
    {
      "cell_type": "code",
      "source": [
        "from sklearn.model_selection import train_test_split\n",
        "\n",
        "X = red_wine.iloc[:,0:11]\n",
        "y = red_wine['quality']\n",
        "  \n",
        "\n",
        "X_train, X_test, y_train, y_test = train_test_split(X,\n",
        "                                                  y,\n",
        "                                                  test_size=0.33,\n",
        "                                                  random_state = 42)"
      ],
      "metadata": {
        "id": "7Hd3WHYI7hHy"
      },
      "execution_count": 4,
      "outputs": []
    },
    {
      "cell_type": "code",
      "source": [
        "# Scale to [0, 1]\n",
        "# max_ = df_train.max(axis=0)\n",
        "# min_ = df_train.min(axis=0)\n",
        "# df_train = (df_train - min_) / (max_ - min_)\n",
        "# df_valid = (df_valid - min_) / (max_ - min_)"
      ],
      "metadata": {
        "id": "JVfWAkMg7jJx"
      },
      "execution_count": 5,
      "outputs": []
    },
    {
      "cell_type": "code",
      "source": [
        "from sklearn.preprocessing import MinMaxScaler"
      ],
      "metadata": {
        "id": "FpenQQuDEIsD"
      },
      "execution_count": 6,
      "outputs": []
    },
    {
      "cell_type": "code",
      "source": [
        "scaler = MinMaxScaler(feature_range=(0, 1))"
      ],
      "metadata": {
        "id": "7sr2sEcQEDiZ"
      },
      "execution_count": 7,
      "outputs": []
    },
    {
      "cell_type": "code",
      "source": [
        "X_train = scaler.fit_transform(X_train)\n",
        "X_train = pd.DataFrame(X_train)\n",
        "\n",
        "X_test = scaler.fit_transform(X_test)\n",
        "X_test = pd.DataFrame(X_test)"
      ],
      "metadata": {
        "id": "ENslQb-rERTF"
      },
      "execution_count": 8,
      "outputs": []
    },
    {
      "cell_type": "code",
      "source": [
        ""
      ],
      "metadata": {
        "id": "5fLa53NrEU8X"
      },
      "execution_count": 8,
      "outputs": []
    },
    {
      "cell_type": "code",
      "source": [
        "red_wine.describe()"
      ],
      "metadata": {
        "execution": {
          "iopub.status.busy": "2022-04-01T09:57:19.076902Z",
          "iopub.execute_input": "2022-04-01T09:57:19.077158Z",
          "iopub.status.idle": "2022-04-01T09:57:19.124183Z",
          "shell.execute_reply.started": "2022-04-01T09:57:19.077129Z",
          "shell.execute_reply": "2022-04-01T09:57:19.123278Z"
        },
        "trusted": true,
        "id": "v8bGY_i3m4qG",
        "outputId": "4fe9e463-302f-44b7-dee4-ea69843d56f0",
        "colab": {
          "base_uri": "https://localhost:8080/",
          "height": 399
        }
      },
      "execution_count": 9,
      "outputs": [
        {
          "output_type": "execute_result",
          "data": {
            "text/plain": [
              "       fixed acidity  volatile acidity  citric acid  residual sugar  \\\n",
              "count    1599.000000       1599.000000  1599.000000     1599.000000   \n",
              "mean        8.319637          0.527821     0.270976        2.538806   \n",
              "std         1.741096          0.179060     0.194801        1.409928   \n",
              "min         4.600000          0.120000     0.000000        0.900000   \n",
              "25%         7.100000          0.390000     0.090000        1.900000   \n",
              "50%         7.900000          0.520000     0.260000        2.200000   \n",
              "75%         9.200000          0.640000     0.420000        2.600000   \n",
              "max        15.900000          1.580000     1.000000       15.500000   \n",
              "\n",
              "         chlorides  free sulfur dioxide  total sulfur dioxide      density  \\\n",
              "count  1599.000000          1599.000000           1599.000000  1599.000000   \n",
              "mean      0.087467            15.874922             46.467792     0.996747   \n",
              "std       0.047065            10.460157             32.895324     0.001887   \n",
              "min       0.012000             1.000000              6.000000     0.990070   \n",
              "25%       0.070000             7.000000             22.000000     0.995600   \n",
              "50%       0.079000            14.000000             38.000000     0.996750   \n",
              "75%       0.090000            21.000000             62.000000     0.997835   \n",
              "max       0.611000            72.000000            289.000000     1.003690   \n",
              "\n",
              "                pH    sulphates      alcohol      quality  \n",
              "count  1599.000000  1599.000000  1599.000000  1599.000000  \n",
              "mean      3.311113     0.658149    10.422983     5.636023  \n",
              "std       0.154386     0.169507     1.065668     0.807569  \n",
              "min       2.740000     0.330000     8.400000     3.000000  \n",
              "25%       3.210000     0.550000     9.500000     5.000000  \n",
              "50%       3.310000     0.620000    10.200000     6.000000  \n",
              "75%       3.400000     0.730000    11.100000     6.000000  \n",
              "max       4.010000     2.000000    14.900000     8.000000  "
            ],
            "text/html": [
              "\n",
              "  <div id=\"df-9050de77-ec33-4dd0-bf50-d4a2da956d52\">\n",
              "    <div class=\"colab-df-container\">\n",
              "      <div>\n",
              "<style scoped>\n",
              "    .dataframe tbody tr th:only-of-type {\n",
              "        vertical-align: middle;\n",
              "    }\n",
              "\n",
              "    .dataframe tbody tr th {\n",
              "        vertical-align: top;\n",
              "    }\n",
              "\n",
              "    .dataframe thead th {\n",
              "        text-align: right;\n",
              "    }\n",
              "</style>\n",
              "<table border=\"1\" class=\"dataframe\">\n",
              "  <thead>\n",
              "    <tr style=\"text-align: right;\">\n",
              "      <th></th>\n",
              "      <th>fixed acidity</th>\n",
              "      <th>volatile acidity</th>\n",
              "      <th>citric acid</th>\n",
              "      <th>residual sugar</th>\n",
              "      <th>chlorides</th>\n",
              "      <th>free sulfur dioxide</th>\n",
              "      <th>total sulfur dioxide</th>\n",
              "      <th>density</th>\n",
              "      <th>pH</th>\n",
              "      <th>sulphates</th>\n",
              "      <th>alcohol</th>\n",
              "      <th>quality</th>\n",
              "    </tr>\n",
              "  </thead>\n",
              "  <tbody>\n",
              "    <tr>\n",
              "      <th>count</th>\n",
              "      <td>1599.000000</td>\n",
              "      <td>1599.000000</td>\n",
              "      <td>1599.000000</td>\n",
              "      <td>1599.000000</td>\n",
              "      <td>1599.000000</td>\n",
              "      <td>1599.000000</td>\n",
              "      <td>1599.000000</td>\n",
              "      <td>1599.000000</td>\n",
              "      <td>1599.000000</td>\n",
              "      <td>1599.000000</td>\n",
              "      <td>1599.000000</td>\n",
              "      <td>1599.000000</td>\n",
              "    </tr>\n",
              "    <tr>\n",
              "      <th>mean</th>\n",
              "      <td>8.319637</td>\n",
              "      <td>0.527821</td>\n",
              "      <td>0.270976</td>\n",
              "      <td>2.538806</td>\n",
              "      <td>0.087467</td>\n",
              "      <td>15.874922</td>\n",
              "      <td>46.467792</td>\n",
              "      <td>0.996747</td>\n",
              "      <td>3.311113</td>\n",
              "      <td>0.658149</td>\n",
              "      <td>10.422983</td>\n",
              "      <td>5.636023</td>\n",
              "    </tr>\n",
              "    <tr>\n",
              "      <th>std</th>\n",
              "      <td>1.741096</td>\n",
              "      <td>0.179060</td>\n",
              "      <td>0.194801</td>\n",
              "      <td>1.409928</td>\n",
              "      <td>0.047065</td>\n",
              "      <td>10.460157</td>\n",
              "      <td>32.895324</td>\n",
              "      <td>0.001887</td>\n",
              "      <td>0.154386</td>\n",
              "      <td>0.169507</td>\n",
              "      <td>1.065668</td>\n",
              "      <td>0.807569</td>\n",
              "    </tr>\n",
              "    <tr>\n",
              "      <th>min</th>\n",
              "      <td>4.600000</td>\n",
              "      <td>0.120000</td>\n",
              "      <td>0.000000</td>\n",
              "      <td>0.900000</td>\n",
              "      <td>0.012000</td>\n",
              "      <td>1.000000</td>\n",
              "      <td>6.000000</td>\n",
              "      <td>0.990070</td>\n",
              "      <td>2.740000</td>\n",
              "      <td>0.330000</td>\n",
              "      <td>8.400000</td>\n",
              "      <td>3.000000</td>\n",
              "    </tr>\n",
              "    <tr>\n",
              "      <th>25%</th>\n",
              "      <td>7.100000</td>\n",
              "      <td>0.390000</td>\n",
              "      <td>0.090000</td>\n",
              "      <td>1.900000</td>\n",
              "      <td>0.070000</td>\n",
              "      <td>7.000000</td>\n",
              "      <td>22.000000</td>\n",
              "      <td>0.995600</td>\n",
              "      <td>3.210000</td>\n",
              "      <td>0.550000</td>\n",
              "      <td>9.500000</td>\n",
              "      <td>5.000000</td>\n",
              "    </tr>\n",
              "    <tr>\n",
              "      <th>50%</th>\n",
              "      <td>7.900000</td>\n",
              "      <td>0.520000</td>\n",
              "      <td>0.260000</td>\n",
              "      <td>2.200000</td>\n",
              "      <td>0.079000</td>\n",
              "      <td>14.000000</td>\n",
              "      <td>38.000000</td>\n",
              "      <td>0.996750</td>\n",
              "      <td>3.310000</td>\n",
              "      <td>0.620000</td>\n",
              "      <td>10.200000</td>\n",
              "      <td>6.000000</td>\n",
              "    </tr>\n",
              "    <tr>\n",
              "      <th>75%</th>\n",
              "      <td>9.200000</td>\n",
              "      <td>0.640000</td>\n",
              "      <td>0.420000</td>\n",
              "      <td>2.600000</td>\n",
              "      <td>0.090000</td>\n",
              "      <td>21.000000</td>\n",
              "      <td>62.000000</td>\n",
              "      <td>0.997835</td>\n",
              "      <td>3.400000</td>\n",
              "      <td>0.730000</td>\n",
              "      <td>11.100000</td>\n",
              "      <td>6.000000</td>\n",
              "    </tr>\n",
              "    <tr>\n",
              "      <th>max</th>\n",
              "      <td>15.900000</td>\n",
              "      <td>1.580000</td>\n",
              "      <td>1.000000</td>\n",
              "      <td>15.500000</td>\n",
              "      <td>0.611000</td>\n",
              "      <td>72.000000</td>\n",
              "      <td>289.000000</td>\n",
              "      <td>1.003690</td>\n",
              "      <td>4.010000</td>\n",
              "      <td>2.000000</td>\n",
              "      <td>14.900000</td>\n",
              "      <td>8.000000</td>\n",
              "    </tr>\n",
              "  </tbody>\n",
              "</table>\n",
              "</div>\n",
              "      <button class=\"colab-df-convert\" onclick=\"convertToInteractive('df-9050de77-ec33-4dd0-bf50-d4a2da956d52')\"\n",
              "              title=\"Convert this dataframe to an interactive table.\"\n",
              "              style=\"display:none;\">\n",
              "        \n",
              "  <svg xmlns=\"http://www.w3.org/2000/svg\" height=\"24px\"viewBox=\"0 0 24 24\"\n",
              "       width=\"24px\">\n",
              "    <path d=\"M0 0h24v24H0V0z\" fill=\"none\"/>\n",
              "    <path d=\"M18.56 5.44l.94 2.06.94-2.06 2.06-.94-2.06-.94-.94-2.06-.94 2.06-2.06.94zm-11 1L8.5 8.5l.94-2.06 2.06-.94-2.06-.94L8.5 2.5l-.94 2.06-2.06.94zm10 10l.94 2.06.94-2.06 2.06-.94-2.06-.94-.94-2.06-.94 2.06-2.06.94z\"/><path d=\"M17.41 7.96l-1.37-1.37c-.4-.4-.92-.59-1.43-.59-.52 0-1.04.2-1.43.59L10.3 9.45l-7.72 7.72c-.78.78-.78 2.05 0 2.83L4 21.41c.39.39.9.59 1.41.59.51 0 1.02-.2 1.41-.59l7.78-7.78 2.81-2.81c.8-.78.8-2.07 0-2.86zM5.41 20L4 18.59l7.72-7.72 1.47 1.35L5.41 20z\"/>\n",
              "  </svg>\n",
              "      </button>\n",
              "      \n",
              "  <style>\n",
              "    .colab-df-container {\n",
              "      display:flex;\n",
              "      flex-wrap:wrap;\n",
              "      gap: 12px;\n",
              "    }\n",
              "\n",
              "    .colab-df-convert {\n",
              "      background-color: #E8F0FE;\n",
              "      border: none;\n",
              "      border-radius: 50%;\n",
              "      cursor: pointer;\n",
              "      display: none;\n",
              "      fill: #1967D2;\n",
              "      height: 32px;\n",
              "      padding: 0 0 0 0;\n",
              "      width: 32px;\n",
              "    }\n",
              "\n",
              "    .colab-df-convert:hover {\n",
              "      background-color: #E2EBFA;\n",
              "      box-shadow: 0px 1px 2px rgba(60, 64, 67, 0.3), 0px 1px 3px 1px rgba(60, 64, 67, 0.15);\n",
              "      fill: #174EA6;\n",
              "    }\n",
              "\n",
              "    [theme=dark] .colab-df-convert {\n",
              "      background-color: #3B4455;\n",
              "      fill: #D2E3FC;\n",
              "    }\n",
              "\n",
              "    [theme=dark] .colab-df-convert:hover {\n",
              "      background-color: #434B5C;\n",
              "      box-shadow: 0px 1px 3px 1px rgba(0, 0, 0, 0.15);\n",
              "      filter: drop-shadow(0px 1px 2px rgba(0, 0, 0, 0.3));\n",
              "      fill: #FFFFFF;\n",
              "    }\n",
              "  </style>\n",
              "\n",
              "      <script>\n",
              "        const buttonEl =\n",
              "          document.querySelector('#df-9050de77-ec33-4dd0-bf50-d4a2da956d52 button.colab-df-convert');\n",
              "        buttonEl.style.display =\n",
              "          google.colab.kernel.accessAllowed ? 'block' : 'none';\n",
              "\n",
              "        async function convertToInteractive(key) {\n",
              "          const element = document.querySelector('#df-9050de77-ec33-4dd0-bf50-d4a2da956d52');\n",
              "          const dataTable =\n",
              "            await google.colab.kernel.invokeFunction('convertToInteractive',\n",
              "                                                     [key], {});\n",
              "          if (!dataTable) return;\n",
              "\n",
              "          const docLinkHtml = 'Like what you see? Visit the ' +\n",
              "            '<a target=\"_blank\" href=https://colab.research.google.com/notebooks/data_table.ipynb>data table notebook</a>'\n",
              "            + ' to learn more about interactive tables.';\n",
              "          element.innerHTML = '';\n",
              "          dataTable['output_type'] = 'display_data';\n",
              "          await google.colab.output.renderOutput(dataTable, element);\n",
              "          const docLink = document.createElement('div');\n",
              "          docLink.innerHTML = docLinkHtml;\n",
              "          element.appendChild(docLink);\n",
              "        }\n",
              "      </script>\n",
              "    </div>\n",
              "  </div>\n",
              "  "
            ]
          },
          "metadata": {},
          "execution_count": 9
        }
      ]
    },
    {
      "cell_type": "code",
      "source": [
        "from tensorflow import keras\n",
        "from tensorflow.keras import layers, callbacks\n",
        "\n",
        "model = keras.Sequential([\n",
        "    layers.Dense(164, activation='relu', input_shape=[11]),\n",
        "    layers.Dense(64, activation='relu'),\n",
        "    layers.Dense(32, activation='relu'),\n",
        "    layers.Dense(1),\n",
        "])"
      ],
      "metadata": {
        "execution": {
          "iopub.status.busy": "2022-04-01T09:57:19.125173Z",
          "iopub.execute_input": "2022-04-01T09:57:19.125378Z",
          "iopub.status.idle": "2022-04-01T09:57:19.144320Z",
          "shell.execute_reply.started": "2022-04-01T09:57:19.125351Z",
          "shell.execute_reply": "2022-04-01T09:57:19.143449Z"
        },
        "trusted": true,
        "id": "VLqpQWRfm4qH"
      },
      "execution_count": 10,
      "outputs": []
    },
    {
      "cell_type": "code",
      "source": [
        "# early_stopping = callbacks.EarlyStopping(\n",
        "#     min_delta=0.001, # minimium amount of change to count as an improvement\n",
        "#     patience=20, # how many epochs to wait before stopping\n",
        "#     restore_best_weights=True,\n",
        "# )"
      ],
      "metadata": {
        "id": "YRFXgvMVGnQ9"
      },
      "execution_count": 11,
      "outputs": []
    },
    {
      "cell_type": "code",
      "source": [
        "model.compile(\n",
        "    optimizer='adam',\n",
        "    loss='mae', metrics=['mse']\n",
        ")"
      ],
      "metadata": {
        "execution": {
          "iopub.status.busy": "2022-04-01T09:57:19.145527Z",
          "iopub.execute_input": "2022-04-01T09:57:19.145858Z",
          "iopub.status.idle": "2022-04-01T09:57:19.154108Z",
          "shell.execute_reply.started": "2022-04-01T09:57:19.145830Z",
          "shell.execute_reply": "2022-04-01T09:57:19.153139Z"
        },
        "trusted": true,
        "id": "3eMdsFmAm4qH"
      },
      "execution_count": 12,
      "outputs": []
    },
    {
      "cell_type": "code",
      "source": [
        "history = model.fit(\n",
        "    X_train, y_train,\n",
        "    validation_data = (X_test,y_test),\n",
        "    batch_size=256,\n",
        "    # callbacks=[early_stopping],\n",
        "    epochs=30,\n",
        ")"
      ],
      "metadata": {
        "id": "7cgxvzRrryg3",
        "outputId": "c1c0d99d-8c58-40f6-f571-8c01ffdba1ea",
        "colab": {
          "base_uri": "https://localhost:8080/"
        }
      },
      "execution_count": 13,
      "outputs": [
        {
          "output_type": "stream",
          "name": "stdout",
          "text": [
            "Epoch 1/30\n",
            "5/5 [==============================] - 2s 189ms/step - loss: 5.5624 - mse: 31.5895 - val_loss: 5.4691 - val_mse: 30.5611\n",
            "Epoch 2/30\n",
            "5/5 [==============================] - 0s 17ms/step - loss: 5.3489 - mse: 29.2515 - val_loss: 5.2198 - val_mse: 27.8853\n",
            "Epoch 3/30\n",
            "5/5 [==============================] - 0s 17ms/step - loss: 5.0763 - mse: 26.4073 - val_loss: 4.8970 - val_mse: 24.6117\n",
            "Epoch 4/30\n",
            "5/5 [==============================] - 0s 19ms/step - loss: 4.7143 - mse: 22.8648 - val_loss: 4.4521 - val_mse: 20.4477\n",
            "Epoch 5/30\n",
            "5/5 [==============================] - 0s 20ms/step - loss: 4.2083 - mse: 18.3714 - val_loss: 3.8204 - val_mse: 15.2292\n",
            "Epoch 6/30\n",
            "5/5 [==============================] - 0s 22ms/step - loss: 3.4854 - mse: 12.8744 - val_loss: 2.9125 - val_mse: 9.1529\n",
            "Epoch 7/30\n",
            "5/5 [==============================] - 0s 16ms/step - loss: 2.4529 - mse: 6.7962 - val_loss: 1.6442 - val_mse: 3.3597\n",
            "Epoch 8/30\n",
            "5/5 [==============================] - 0s 18ms/step - loss: 1.1690 - mse: 1.9937 - val_loss: 0.7853 - val_mse: 1.0031\n",
            "Epoch 9/30\n",
            "5/5 [==============================] - 0s 17ms/step - loss: 0.9630 - mse: 1.5271 - val_loss: 1.0699 - val_mse: 1.8614\n",
            "Epoch 10/30\n",
            "5/5 [==============================] - 0s 19ms/step - loss: 1.0831 - mse: 1.8812 - val_loss: 0.7950 - val_mse: 1.0446\n",
            "Epoch 11/30\n",
            "5/5 [==============================] - 0s 22ms/step - loss: 0.7819 - mse: 1.0107 - val_loss: 0.8363 - val_mse: 1.0703\n",
            "Epoch 12/30\n",
            "5/5 [==============================] - 0s 17ms/step - loss: 0.8125 - mse: 1.0576 - val_loss: 0.8689 - val_mse: 1.1418\n",
            "Epoch 13/30\n",
            "5/5 [==============================] - 0s 19ms/step - loss: 0.7796 - mse: 0.9914 - val_loss: 0.7523 - val_mse: 0.8905\n",
            "Epoch 14/30\n",
            "5/5 [==============================] - 0s 41ms/step - loss: 0.7262 - mse: 0.8751 - val_loss: 0.7344 - val_mse: 0.8727\n",
            "Epoch 15/30\n",
            "5/5 [==============================] - 0s 17ms/step - loss: 0.7403 - mse: 0.9191 - val_loss: 0.7214 - val_mse: 0.8377\n",
            "Epoch 16/30\n",
            "5/5 [==============================] - 0s 17ms/step - loss: 0.7089 - mse: 0.8395 - val_loss: 0.7211 - val_mse: 0.8217\n",
            "Epoch 17/30\n",
            "5/5 [==============================] - 0s 17ms/step - loss: 0.6940 - mse: 0.8032 - val_loss: 0.7240 - val_mse: 0.8269\n",
            "Epoch 18/30\n",
            "5/5 [==============================] - 0s 21ms/step - loss: 0.6785 - mse: 0.7749 - val_loss: 0.6898 - val_mse: 0.7656\n",
            "Epoch 19/30\n",
            "5/5 [==============================] - 0s 18ms/step - loss: 0.6606 - mse: 0.7475 - val_loss: 0.6758 - val_mse: 0.7484\n",
            "Epoch 20/30\n",
            "5/5 [==============================] - 0s 17ms/step - loss: 0.6516 - mse: 0.7320 - val_loss: 0.6710 - val_mse: 0.7346\n",
            "Epoch 21/30\n",
            "5/5 [==============================] - 0s 43ms/step - loss: 0.6376 - mse: 0.7060 - val_loss: 0.6684 - val_mse: 0.7262\n",
            "Epoch 22/30\n",
            "5/5 [==============================] - 0s 21ms/step - loss: 0.6275 - mse: 0.6895 - val_loss: 0.6621 - val_mse: 0.7168\n",
            "Epoch 23/30\n",
            "5/5 [==============================] - 0s 17ms/step - loss: 0.6186 - mse: 0.6757 - val_loss: 0.6616 - val_mse: 0.7130\n",
            "Epoch 24/30\n",
            "5/5 [==============================] - 0s 20ms/step - loss: 0.6123 - mse: 0.6654 - val_loss: 0.6583 - val_mse: 0.7085\n",
            "Epoch 25/30\n",
            "5/5 [==============================] - 0s 19ms/step - loss: 0.6048 - mse: 0.6547 - val_loss: 0.6488 - val_mse: 0.7082\n",
            "Epoch 26/30\n",
            "5/5 [==============================] - 0s 21ms/step - loss: 0.6014 - mse: 0.6514 - val_loss: 0.6535 - val_mse: 0.7027\n",
            "Epoch 27/30\n",
            "5/5 [==============================] - 0s 23ms/step - loss: 0.6014 - mse: 0.6441 - val_loss: 0.6527 - val_mse: 0.6999\n",
            "Epoch 28/30\n",
            "5/5 [==============================] - 0s 22ms/step - loss: 0.5920 - mse: 0.6334 - val_loss: 0.6473 - val_mse: 0.7189\n",
            "Epoch 29/30\n",
            "5/5 [==============================] - 0s 19ms/step - loss: 0.6035 - mse: 0.6515 - val_loss: 0.6420 - val_mse: 0.6857\n",
            "Epoch 30/30\n",
            "5/5 [==============================] - 0s 16ms/step - loss: 0.5905 - mse: 0.6216 - val_loss: 0.6420 - val_mse: 0.6803\n"
          ]
        }
      ]
    },
    {
      "cell_type": "markdown",
      "source": [
        "# 2) Define a linear model\n",
        "\n",
        "Now define a linear model appropriate for this task. Pay attention to how many inputs and outputs the model should have."
      ],
      "metadata": {
        "id": "CEEa85Xzm4qH"
      }
    },
    {
      "cell_type": "code",
      "source": [
        "model.summary()"
      ],
      "metadata": {
        "execution": {
          "iopub.status.busy": "2022-04-01T09:57:19.225295Z",
          "iopub.execute_input": "2022-04-01T09:57:19.225843Z",
          "iopub.status.idle": "2022-04-01T09:57:19.237548Z",
          "shell.execute_reply.started": "2022-04-01T09:57:19.225808Z",
          "shell.execute_reply": "2022-04-01T09:57:19.236685Z"
        },
        "trusted": true,
        "id": "RwuUB91vm4qI",
        "outputId": "49c89427-23ca-47b1-ce17-36e4c82efbc7",
        "colab": {
          "base_uri": "https://localhost:8080/"
        }
      },
      "execution_count": 14,
      "outputs": [
        {
          "output_type": "stream",
          "name": "stdout",
          "text": [
            "Model: \"sequential\"\n",
            "_________________________________________________________________\n",
            " Layer (type)                Output Shape              Param #   \n",
            "=================================================================\n",
            " dense (Dense)               (None, 164)               1968      \n",
            "                                                                 \n",
            " dense_1 (Dense)             (None, 64)                10560     \n",
            "                                                                 \n",
            " dense_2 (Dense)             (None, 32)                2080      \n",
            "                                                                 \n",
            " dense_3 (Dense)             (None, 1)                 33        \n",
            "                                                                 \n",
            "=================================================================\n",
            "Total params: 14,641\n",
            "Trainable params: 14,641\n",
            "Non-trainable params: 0\n",
            "_________________________________________________________________\n"
          ]
        }
      ]
    },
    {
      "cell_type": "code",
      "source": [
        ""
      ],
      "metadata": {
        "id": "JtcpDvZWE-ce"
      },
      "execution_count": 14,
      "outputs": []
    },
    {
      "cell_type": "code",
      "source": [
        "import pandas as pd\n",
        "\n",
        "# convert the training history to a dataframe\n",
        "history_df = pd.DataFrame(history.history)\n",
        "# use Pandas native plot method\n",
        "history_df.loc[:,['loss','val_loss']].plot()"
      ],
      "metadata": {
        "id": "i6FtZdYSoj2l",
        "outputId": "eef34222-a7ab-4f0d-8d07-62e54f559f74",
        "colab": {
          "base_uri": "https://localhost:8080/",
          "height": 283
        }
      },
      "execution_count": 15,
      "outputs": [
        {
          "output_type": "execute_result",
          "data": {
            "text/plain": [
              "<matplotlib.axes._subplots.AxesSubplot at 0x7febdc6cc210>"
            ]
          },
          "metadata": {},
          "execution_count": 15
        },
        {
          "output_type": "display_data",
          "data": {
            "text/plain": [
              "<Figure size 432x288 with 1 Axes>"
            ],
            "image/png": "[encoded data removed]"
          },
          "metadata": {
            "needs_background": "light"
          }
        }
      ]
    },
    {
      "cell_type": "code",
      "source": [
        "mse_value, mae_value = model.evaluate(X_test, y_test, verbose=0)\n",
        "\n",
        "print(mse_value)"
      ],
      "metadata": {
        "id": "EDO4vhapE_bi",
        "outputId": "ef444a9b-612c-4955-989e-834f8de196eb",
        "colab": {
          "base_uri": "https://localhost:8080/"
        }
      },
      "execution_count": 16,
      "outputs": [
        {
          "output_type": "stream",
          "name": "stdout",
          "text": [
            "0.6419965624809265\n"
          ]
        }
      ]
    },
    {
      "cell_type": "code",
      "source": [
        "y_pred = model.predict(X_test)"
      ],
      "metadata": {
        "id": "8HIcDR9tFCWg"
      },
      "execution_count": 17,
      "outputs": []
    },
    {
      "cell_type": "code",
      "source": [
        "y_pred[0]"
      ],
      "metadata": {
        "id": "WNigXt_kFIvR",
        "outputId": "648044d4-dcbc-4bd9-fbeb-3f12466d2ca1",
        "colab": {
          "base_uri": "https://localhost:8080/"
        }
      },
      "execution_count": 18,
      "outputs": [
        {
          "output_type": "execute_result",
          "data": {
            "text/plain": [
              "array([4.8078785], dtype=float32)"
            ]
          },
          "metadata": {},
          "execution_count": 18
        }
      ]
    },
    {
      "cell_type": "code",
      "source": [
        "y_test"
      ],
      "metadata": {
        "id": "vY0bATdwFQW4",
        "outputId": "c0524e58-1fd9-48b0-db77-05e03c2382bb",
        "colab": {
          "base_uri": "https://localhost:8080/"
        }
      },
      "execution_count": 19,
      "outputs": [
        {
          "output_type": "execute_result",
          "data": {
            "text/plain": [
              "803     6\n",
              "124     5\n",
              "350     6\n",
              "682     5\n",
              "1326    6\n",
              "       ..\n",
              "813     4\n",
              "377     7\n",
              "898     7\n",
              "126     5\n",
              "819     5\n",
              "Name: quality, Length: 528, dtype: int64"
            ]
          },
          "metadata": {},
          "execution_count": 19
        }
      ]
    },
    {
      "cell_type": "code",
      "source": [
        "from sklearn.metrics import r2_score\n",
        "\n",
        "r2_score(y_test, y_pred)"
      ],
      "metadata": {
        "id": "kdEqEiKzFG3F",
        "outputId": "f52d964e-1a8c-470b-fba9-5ad6da0601be",
        "colab": {
          "base_uri": "https://localhost:8080/"
        }
      },
      "execution_count": 20,
      "outputs": [
        {
          "output_type": "execute_result",
          "data": {
            "text/plain": [
              "-0.027218863727579867"
            ]
          },
          "metadata": {},
          "execution_count": 20
        }
      ]
    }
  ]
}