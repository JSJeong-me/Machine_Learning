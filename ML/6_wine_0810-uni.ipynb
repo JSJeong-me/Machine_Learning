{
  "nbformat": 4,
  "nbformat_minor": 0,
  "metadata": {
    "colab": {
      "name": "Untitled7.ipynb",
      "provenance": [],
      "authorship_tag": "ABX9TyN3W4KGuYmroo6KdwlTbUiB",
      "include_colab_link": true
    },
    "kernelspec": {
      "name": "python3",
      "display_name": "Python 3"
    },
    "language_info": {
      "name": "python"
    }
  },
  "cells": [
    {
      "cell_type": "markdown",
      "metadata": {
        "id": "view-in-github",
        "colab_type": "text"
      },
      "source": [
        "<a href=\"https://colab.research.google.com/github/JSJeong-me/Machine_Learning/blob/main/ML/6_wine_0810-uni.ipynb\" target=\"_parent\"><img src=\"https://colab.research.google.com/assets/colab-badge.svg\" alt=\"Open In Colab\"/></a>"
      ]
    },
    {
      "cell_type": "code",
      "source": [
        "from tensorflow import keras\n",
        "from tensorflow.keras import layers"
      ],
      "metadata": {
        "id": "fZHfzppHb6we"
      },
      "execution_count": 1,
      "outputs": []
    },
    {
      "cell_type": "code",
      "source": [
        "import pandas as pd"
      ],
      "metadata": {
        "id": "S-m1BFnQEEsH"
      },
      "execution_count": 2,
      "outputs": []
    },
    {
      "cell_type": "code",
      "source": [
        "red_wine = pd.read_csv('winequality-red.csv')"
      ],
      "metadata": {
        "id": "37BoYUkDEJQf"
      },
      "execution_count": 3,
      "outputs": []
    },
    {
      "cell_type": "code",
      "source": [
        "red_wine.describe()"
      ],
      "metadata": {
        "id": "XLsomny5EVWH",
        "outputId": "d3765df7-36a7-4da5-a499-d2c5eac63033",
        "colab": {
          "base_uri": "https://localhost:8080/",
          "height": 399
        }
      },
      "execution_count": 4,
      "outputs": [
        {
          "output_type": "execute_result",
          "data": {
            "text/plain": [
              "       fixed acidity  volatile acidity  citric acid  residual sugar  \\\n",
              "count    1599.000000       1599.000000  1599.000000     1599.000000   \n",
              "mean        8.319637          0.527821     0.270976        2.538806   \n",
              "std         1.741096          0.179060     0.194801        1.409928   \n",
              "min         4.600000          0.120000     0.000000        0.900000   \n",
              "25%         7.100000          0.390000     0.090000        1.900000   \n",
              "50%         7.900000          0.520000     0.260000        2.200000   \n",
              "75%         9.200000          0.640000     0.420000        2.600000   \n",
              "max        15.900000          1.580000     1.000000       15.500000   \n",
              "\n",
              "         chlorides  free sulfur dioxide  total sulfur dioxide      density  \\\n",
              "count  1599.000000          1599.000000           1599.000000  1599.000000   \n",
              "mean      0.087467            15.874922             46.467792     0.996747   \n",
              "std       0.047065            10.460157             32.895324     0.001887   \n",
              "min       0.012000             1.000000              6.000000     0.990070   \n",
              "25%       0.070000             7.000000             22.000000     0.995600   \n",
              "50%       0.079000            14.000000             38.000000     0.996750   \n",
              "75%       0.090000            21.000000             62.000000     0.997835   \n",
              "max       0.611000            72.000000            289.000000     1.003690   \n",
              "\n",
              "                pH    sulphates      alcohol      quality  \n",
              "count  1599.000000  1599.000000  1599.000000  1599.000000  \n",
              "mean      3.311113     0.658149    10.422983     5.636023  \n",
              "std       0.154386     0.169507     1.065668     0.807569  \n",
              "min       2.740000     0.330000     8.400000     3.000000  \n",
              "25%       3.210000     0.550000     9.500000     5.000000  \n",
              "50%       3.310000     0.620000    10.200000     6.000000  \n",
              "75%       3.400000     0.730000    11.100000     6.000000  \n",
              "max       4.010000     2.000000    14.900000     8.000000  "
            ],
            "text/html": [
              "\n",
              "  <div id=\"df-a7bd7152-d6b7-4b26-aff9-a7d10926ceb0\">\n",
              "    <div class=\"colab-df-container\">\n",
              "      <div>\n",
              "<style scoped>\n",
              "    .dataframe tbody tr th:only-of-type {\n",
              "        vertical-align: middle;\n",
              "    }\n",
              "\n",
              "    .dataframe tbody tr th {\n",
              "        vertical-align: top;\n",
              "    }\n",
              "\n",
              "    .dataframe thead th {\n",
              "        text-align: right;\n",
              "    }\n",
              "</style>\n",
              "<table border=\"1\" class=\"dataframe\">\n",
              "  <thead>\n",
              "    <tr style=\"text-align: right;\">\n",
              "      <th></th>\n",
              "      <th>fixed acidity</th>\n",
              "      <th>volatile acidity</th>\n",
              "      <th>citric acid</th>\n",
              "      <th>residual sugar</th>\n",
              "      <th>chlorides</th>\n",
              "      <th>free sulfur dioxide</th>\n",
              "      <th>total sulfur dioxide</th>\n",
              "      <th>density</th>\n",
              "      <th>pH</th>\n",
              "      <th>sulphates</th>\n",
              "      <th>alcohol</th>\n",
              "      <th>quality</th>\n",
              "    </tr>\n",
              "  </thead>\n",
              "  <tbody>\n",
              "    <tr>\n",
              "      <th>count</th>\n",
              "      <td>1599.000000</td>\n",
              "      <td>1599.000000</td>\n",
              "      <td>1599.000000</td>\n",
              "      <td>1599.000000</td>\n",
              "      <td>1599.000000</td>\n",
              "      <td>1599.000000</td>\n",
              "      <td>1599.000000</td>\n",
              "      <td>1599.000000</td>\n",
              "      <td>1599.000000</td>\n",
              "      <td>1599.000000</td>\n",
              "      <td>1599.000000</td>\n",
              "      <td>1599.000000</td>\n",
              "    </tr>\n",
              "    <tr>\n",
              "      <th>mean</th>\n",
              "      <td>8.319637</td>\n",
              "      <td>0.527821</td>\n",
              "      <td>0.270976</td>\n",
              "      <td>2.538806</td>\n",
              "      <td>0.087467</td>\n",
              "      <td>15.874922</td>\n",
              "      <td>46.467792</td>\n",
              "      <td>0.996747</td>\n",
              "      <td>3.311113</td>\n",
              "      <td>0.658149</td>\n",
              "      <td>10.422983</td>\n",
              "      <td>5.636023</td>\n",
              "    </tr>\n",
              "    <tr>\n",
              "      <th>std</th>\n",
              "      <td>1.741096</td>\n",
              "      <td>0.179060</td>\n",
              "      <td>0.194801</td>\n",
              "      <td>1.409928</td>\n",
              "      <td>0.047065</td>\n",
              "      <td>10.460157</td>\n",
              "      <td>32.895324</td>\n",
              "      <td>0.001887</td>\n",
              "      <td>0.154386</td>\n",
              "      <td>0.169507</td>\n",
              "      <td>1.065668</td>\n",
              "      <td>0.807569</td>\n",
              "    </tr>\n",
              "    <tr>\n",
              "      <th>min</th>\n",
              "      <td>4.600000</td>\n",
              "      <td>0.120000</td>\n",
              "      <td>0.000000</td>\n",
              "      <td>0.900000</td>\n",
              "      <td>0.012000</td>\n",
              "      <td>1.000000</td>\n",
              "      <td>6.000000</td>\n",
              "      <td>0.990070</td>\n",
              "      <td>2.740000</td>\n",
              "      <td>0.330000</td>\n",
              "      <td>8.400000</td>\n",
              "      <td>3.000000</td>\n",
              "    </tr>\n",
              "    <tr>\n",
              "      <th>25%</th>\n",
              "      <td>7.100000</td>\n",
              "      <td>0.390000</td>\n",
              "      <td>0.090000</td>\n",
              "      <td>1.900000</td>\n",
              "      <td>0.070000</td>\n",
              "      <td>7.000000</td>\n",
              "      <td>22.000000</td>\n",
              "      <td>0.995600</td>\n",
              "      <td>3.210000</td>\n",
              "      <td>0.550000</td>\n",
              "      <td>9.500000</td>\n",
              "      <td>5.000000</td>\n",
              "    </tr>\n",
              "    <tr>\n",
              "      <th>50%</th>\n",
              "      <td>7.900000</td>\n",
              "      <td>0.520000</td>\n",
              "      <td>0.260000</td>\n",
              "      <td>2.200000</td>\n",
              "      <td>0.079000</td>\n",
              "      <td>14.000000</td>\n",
              "      <td>38.000000</td>\n",
              "      <td>0.996750</td>\n",
              "      <td>3.310000</td>\n",
              "      <td>0.620000</td>\n",
              "      <td>10.200000</td>\n",
              "      <td>6.000000</td>\n",
              "    </tr>\n",
              "    <tr>\n",
              "      <th>75%</th>\n",
              "      <td>9.200000</td>\n",
              "      <td>0.640000</td>\n",
              "      <td>0.420000</td>\n",
              "      <td>2.600000</td>\n",
              "      <td>0.090000</td>\n",
              "      <td>21.000000</td>\n",
              "      <td>62.000000</td>\n",
              "      <td>0.997835</td>\n",
              "      <td>3.400000</td>\n",
              "      <td>0.730000</td>\n",
              "      <td>11.100000</td>\n",
              "      <td>6.000000</td>\n",
              "    </tr>\n",
              "    <tr>\n",
              "      <th>max</th>\n",
              "      <td>15.900000</td>\n",
              "      <td>1.580000</td>\n",
              "      <td>1.000000</td>\n",
              "      <td>15.500000</td>\n",
              "      <td>0.611000</td>\n",
              "      <td>72.000000</td>\n",
              "      <td>289.000000</td>\n",
              "      <td>1.003690</td>\n",
              "      <td>4.010000</td>\n",
              "      <td>2.000000</td>\n",
              "      <td>14.900000</td>\n",
              "      <td>8.000000</td>\n",
              "    </tr>\n",
              "  </tbody>\n",
              "</table>\n",
              "</div>\n",
              "      <button class=\"colab-df-convert\" onclick=\"convertToInteractive('df-a7bd7152-d6b7-4b26-aff9-a7d10926ceb0')\"\n",
              "              title=\"Convert this dataframe to an interactive table.\"\n",
              "              style=\"display:none;\">\n",
              "        \n",
              "  <svg xmlns=\"http://www.w3.org/2000/svg\" height=\"24px\"viewBox=\"0 0 24 24\"\n",
              "       width=\"24px\">\n",
              "    <path d=\"M0 0h24v24H0V0z\" fill=\"none\"/>\n",
              "    <path d=\"M18.56 5.44l.94 2.06.94-2.06 2.06-.94-2.06-.94-.94-2.06-.94 2.06-2.06.94zm-11 1L8.5 8.5l.94-2.06 2.06-.94-2.06-.94L8.5 2.5l-.94 2.06-2.06.94zm10 10l.94 2.06.94-2.06 2.06-.94-2.06-.94-.94-2.06-.94 2.06-2.06.94z\"/><path d=\"M17.41 7.96l-1.37-1.37c-.4-.4-.92-.59-1.43-.59-.52 0-1.04.2-1.43.59L10.3 9.45l-7.72 7.72c-.78.78-.78 2.05 0 2.83L4 21.41c.39.39.9.59 1.41.59.51 0 1.02-.2 1.41-.59l7.78-7.78 2.81-2.81c.8-.78.8-2.07 0-2.86zM5.41 20L4 18.59l7.72-7.72 1.47 1.35L5.41 20z\"/>\n",
              "  </svg>\n",
              "      </button>\n",
              "      \n",
              "  <style>\n",
              "    .colab-df-container {\n",
              "      display:flex;\n",
              "      flex-wrap:wrap;\n",
              "      gap: 12px;\n",
              "    }\n",
              "\n",
              "    .colab-df-convert {\n",
              "      background-color: #E8F0FE;\n",
              "      border: none;\n",
              "      border-radius: 50%;\n",
              "      cursor: pointer;\n",
              "      display: none;\n",
              "      fill: #1967D2;\n",
              "      height: 32px;\n",
              "      padding: 0 0 0 0;\n",
              "      width: 32px;\n",
              "    }\n",
              "\n",
              "    .colab-df-convert:hover {\n",
              "      background-color: #E2EBFA;\n",
              "      box-shadow: 0px 1px 2px rgba(60, 64, 67, 0.3), 0px 1px 3px 1px rgba(60, 64, 67, 0.15);\n",
              "      fill: #174EA6;\n",
              "    }\n",
              "\n",
              "    [theme=dark] .colab-df-convert {\n",
              "      background-color: #3B4455;\n",
              "      fill: #D2E3FC;\n",
              "    }\n",
              "\n",
              "    [theme=dark] .colab-df-convert:hover {\n",
              "      background-color: #434B5C;\n",
              "      box-shadow: 0px 1px 3px 1px rgba(0, 0, 0, 0.15);\n",
              "      filter: drop-shadow(0px 1px 2px rgba(0, 0, 0, 0.3));\n",
              "      fill: #FFFFFF;\n",
              "    }\n",
              "  </style>\n",
              "\n",
              "      <script>\n",
              "        const buttonEl =\n",
              "          document.querySelector('#df-a7bd7152-d6b7-4b26-aff9-a7d10926ceb0 button.colab-df-convert');\n",
              "        buttonEl.style.display =\n",
              "          google.colab.kernel.accessAllowed ? 'block' : 'none';\n",
              "\n",
              "        async function convertToInteractive(key) {\n",
              "          const element = document.querySelector('#df-a7bd7152-d6b7-4b26-aff9-a7d10926ceb0');\n",
              "          const dataTable =\n",
              "            await google.colab.kernel.invokeFunction('convertToInteractive',\n",
              "                                                     [key], {});\n",
              "          if (!dataTable) return;\n",
              "\n",
              "          const docLinkHtml = 'Like what you see? Visit the ' +\n",
              "            '<a target=\"_blank\" href=https://colab.research.google.com/notebooks/data_table.ipynb>data table notebook</a>'\n",
              "            + ' to learn more about interactive tables.';\n",
              "          element.innerHTML = '';\n",
              "          dataTable['output_type'] = 'display_data';\n",
              "          await google.colab.output.renderOutput(dataTable, element);\n",
              "          const docLink = document.createElement('div');\n",
              "          docLink.innerHTML = docLinkHtml;\n",
              "          element.appendChild(docLink);\n",
              "        }\n",
              "      </script>\n",
              "    </div>\n",
              "  </div>\n",
              "  "
            ]
          },
          "metadata": {},
          "execution_count": 4
        }
      ]
    },
    {
      "cell_type": "code",
      "source": [
        "red_wine.corr(method='pearson')"
      ],
      "metadata": {
        "id": "Wo_tw1S4FP0Y",
        "outputId": "94bc1a02-24c4-456e-e885-2d7d4a26357f",
        "colab": {
          "base_uri": "https://localhost:8080/",
          "height": 663
        }
      },
      "execution_count": 5,
      "outputs": [
        {
          "output_type": "execute_result",
          "data": {
            "text/plain": [
              "                      fixed acidity  volatile acidity  citric acid  \\\n",
              "fixed acidity              1.000000         -0.256131     0.671703   \n",
              "volatile acidity          -0.256131          1.000000    -0.552496   \n",
              "citric acid                0.671703         -0.552496     1.000000   \n",
              "residual sugar             0.114777          0.001918     0.143577   \n",
              "chlorides                  0.093705          0.061298     0.203823   \n",
              "free sulfur dioxide       -0.153794         -0.010504    -0.060978   \n",
              "total sulfur dioxide      -0.113181          0.076470     0.035533   \n",
              "density                    0.668047          0.022026     0.364947   \n",
              "pH                        -0.682978          0.234937    -0.541904   \n",
              "sulphates                  0.183006         -0.260987     0.312770   \n",
              "alcohol                   -0.061668         -0.202288     0.109903   \n",
              "quality                    0.124052         -0.390558     0.226373   \n",
              "\n",
              "                      residual sugar  chlorides  free sulfur dioxide  \\\n",
              "fixed acidity               0.114777   0.093705            -0.153794   \n",
              "volatile acidity            0.001918   0.061298            -0.010504   \n",
              "citric acid                 0.143577   0.203823            -0.060978   \n",
              "residual sugar              1.000000   0.055610             0.187049   \n",
              "chlorides                   0.055610   1.000000             0.005562   \n",
              "free sulfur dioxide         0.187049   0.005562             1.000000   \n",
              "total sulfur dioxide        0.203028   0.047400             0.667666   \n",
              "density                     0.355283   0.200632            -0.021946   \n",
              "pH                         -0.085652  -0.265026             0.070377   \n",
              "sulphates                   0.005527   0.371260             0.051658   \n",
              "alcohol                     0.042075  -0.221141            -0.069408   \n",
              "quality                     0.013732  -0.128907            -0.050656   \n",
              "\n",
              "                      total sulfur dioxide   density        pH  sulphates  \\\n",
              "fixed acidity                    -0.113181  0.668047 -0.682978   0.183006   \n",
              "volatile acidity                  0.076470  0.022026  0.234937  -0.260987   \n",
              "citric acid                       0.035533  0.364947 -0.541904   0.312770   \n",
              "residual sugar                    0.203028  0.355283 -0.085652   0.005527   \n",
              "chlorides                         0.047400  0.200632 -0.265026   0.371260   \n",
              "free sulfur dioxide               0.667666 -0.021946  0.070377   0.051658   \n",
              "total sulfur dioxide              1.000000  0.071269 -0.066495   0.042947   \n",
              "density                           0.071269  1.000000 -0.341699   0.148506   \n",
              "pH                               -0.066495 -0.341699  1.000000  -0.196648   \n",
              "sulphates                         0.042947  0.148506 -0.196648   1.000000   \n",
              "alcohol                          -0.205654 -0.496180  0.205633   0.093595   \n",
              "quality                          -0.185100 -0.174919 -0.057731   0.251397   \n",
              "\n",
              "                       alcohol   quality  \n",
              "fixed acidity        -0.061668  0.124052  \n",
              "volatile acidity     -0.202288 -0.390558  \n",
              "citric acid           0.109903  0.226373  \n",
              "residual sugar        0.042075  0.013732  \n",
              "chlorides            -0.221141 -0.128907  \n",
              "free sulfur dioxide  -0.069408 -0.050656  \n",
              "total sulfur dioxide -0.205654 -0.185100  \n",
              "density              -0.496180 -0.174919  \n",
              "pH                    0.205633 -0.057731  \n",
              "sulphates             0.093595  0.251397  \n",
              "alcohol               1.000000  0.476166  \n",
              "quality               0.476166  1.000000  "
            ],
            "text/html": [
              "\n",
              "  <div id=\"df-b20fd00b-8e47-4167-8b7e-79b5967acfaa\">\n",
              "    <div class=\"colab-df-container\">\n",
              "      <div>\n",
              "<style scoped>\n",
              "    .dataframe tbody tr th:only-of-type {\n",
              "        vertical-align: middle;\n",
              "    }\n",
              "\n",
              "    .dataframe tbody tr th {\n",
              "        vertical-align: top;\n",
              "    }\n",
              "\n",
              "    .dataframe thead th {\n",
              "        text-align: right;\n",
              "    }\n",
              "</style>\n",
              "<table border=\"1\" class=\"dataframe\">\n",
              "  <thead>\n",
              "    <tr style=\"text-align: right;\">\n",
              "      <th></th>\n",
              "      <th>fixed acidity</th>\n",
              "      <th>volatile acidity</th>\n",
              "      <th>citric acid</th>\n",
              "      <th>residual sugar</th>\n",
              "      <th>chlorides</th>\n",
              "      <th>free sulfur dioxide</th>\n",
              "      <th>total sulfur dioxide</th>\n",
              "      <th>density</th>\n",
              "      <th>pH</th>\n",
              "      <th>sulphates</th>\n",
              "      <th>alcohol</th>\n",
              "      <th>quality</th>\n",
              "    </tr>\n",
              "  </thead>\n",
              "  <tbody>\n",
              "    <tr>\n",
              "      <th>fixed acidity</th>\n",
              "      <td>1.000000</td>\n",
              "      <td>-0.256131</td>\n",
              "      <td>0.671703</td>\n",
              "      <td>0.114777</td>\n",
              "      <td>0.093705</td>\n",
              "      <td>-0.153794</td>\n",
              "      <td>-0.113181</td>\n",
              "      <td>0.668047</td>\n",
              "      <td>-0.682978</td>\n",
              "      <td>0.183006</td>\n",
              "      <td>-0.061668</td>\n",
              "      <td>0.124052</td>\n",
              "    </tr>\n",
              "    <tr>\n",
              "      <th>volatile acidity</th>\n",
              "      <td>-0.256131</td>\n",
              "      <td>1.000000</td>\n",
              "      <td>-0.552496</td>\n",
              "      <td>0.001918</td>\n",
              "      <td>0.061298</td>\n",
              "      <td>-0.010504</td>\n",
              "      <td>0.076470</td>\n",
              "      <td>0.022026</td>\n",
              "      <td>0.234937</td>\n",
              "      <td>-0.260987</td>\n",
              "      <td>-0.202288</td>\n",
              "      <td>-0.390558</td>\n",
              "    </tr>\n",
              "    <tr>\n",
              "      <th>citric acid</th>\n",
              "      <td>0.671703</td>\n",
              "      <td>-0.552496</td>\n",
              "      <td>1.000000</td>\n",
              "      <td>0.143577</td>\n",
              "      <td>0.203823</td>\n",
              "      <td>-0.060978</td>\n",
              "      <td>0.035533</td>\n",
              "      <td>0.364947</td>\n",
              "      <td>-0.541904</td>\n",
              "      <td>0.312770</td>\n",
              "      <td>0.109903</td>\n",
              "      <td>0.226373</td>\n",
              "    </tr>\n",
              "    <tr>\n",
              "      <th>residual sugar</th>\n",
              "      <td>0.114777</td>\n",
              "      <td>0.001918</td>\n",
              "      <td>0.143577</td>\n",
              "      <td>1.000000</td>\n",
              "      <td>0.055610</td>\n",
              "      <td>0.187049</td>\n",
              "      <td>0.203028</td>\n",
              "      <td>0.355283</td>\n",
              "      <td>-0.085652</td>\n",
              "      <td>0.005527</td>\n",
              "      <td>0.042075</td>\n",
              "      <td>0.013732</td>\n",
              "    </tr>\n",
              "    <tr>\n",
              "      <th>chlorides</th>\n",
              "      <td>0.093705</td>\n",
              "      <td>0.061298</td>\n",
              "      <td>0.203823</td>\n",
              "      <td>0.055610</td>\n",
              "      <td>1.000000</td>\n",
              "      <td>0.005562</td>\n",
              "      <td>0.047400</td>\n",
              "      <td>0.200632</td>\n",
              "      <td>-0.265026</td>\n",
              "      <td>0.371260</td>\n",
              "      <td>-0.221141</td>\n",
              "      <td>-0.128907</td>\n",
              "    </tr>\n",
              "    <tr>\n",
              "      <th>free sulfur dioxide</th>\n",
              "      <td>-0.153794</td>\n",
              "      <td>-0.010504</td>\n",
              "      <td>-0.060978</td>\n",
              "      <td>0.187049</td>\n",
              "      <td>0.005562</td>\n",
              "      <td>1.000000</td>\n",
              "      <td>0.667666</td>\n",
              "      <td>-0.021946</td>\n",
              "      <td>0.070377</td>\n",
              "      <td>0.051658</td>\n",
              "      <td>-0.069408</td>\n",
              "      <td>-0.050656</td>\n",
              "    </tr>\n",
              "    <tr>\n",
              "      <th>total sulfur dioxide</th>\n",
              "      <td>-0.113181</td>\n",
              "      <td>0.076470</td>\n",
              "      <td>0.035533</td>\n",
              "      <td>0.203028</td>\n",
              "      <td>0.047400</td>\n",
              "      <td>0.667666</td>\n",
              "      <td>1.000000</td>\n",
              "      <td>0.071269</td>\n",
              "      <td>-0.066495</td>\n",
              "      <td>0.042947</td>\n",
              "      <td>-0.205654</td>\n",
              "      <td>-0.185100</td>\n",
              "    </tr>\n",
              "    <tr>\n",
              "      <th>density</th>\n",
              "      <td>0.668047</td>\n",
              "      <td>0.022026</td>\n",
              "      <td>0.364947</td>\n",
              "      <td>0.355283</td>\n",
              "      <td>0.200632</td>\n",
              "      <td>-0.021946</td>\n",
              "      <td>0.071269</td>\n",
              "      <td>1.000000</td>\n",
              "      <td>-0.341699</td>\n",
              "      <td>0.148506</td>\n",
              "      <td>-0.496180</td>\n",
              "      <td>-0.174919</td>\n",
              "    </tr>\n",
              "    <tr>\n",
              "      <th>pH</th>\n",
              "      <td>-0.682978</td>\n",
              "      <td>0.234937</td>\n",
              "      <td>-0.541904</td>\n",
              "      <td>-0.085652</td>\n",
              "      <td>-0.265026</td>\n",
              "      <td>0.070377</td>\n",
              "      <td>-0.066495</td>\n",
              "      <td>-0.341699</td>\n",
              "      <td>1.000000</td>\n",
              "      <td>-0.196648</td>\n",
              "      <td>0.205633</td>\n",
              "      <td>-0.057731</td>\n",
              "    </tr>\n",
              "    <tr>\n",
              "      <th>sulphates</th>\n",
              "      <td>0.183006</td>\n",
              "      <td>-0.260987</td>\n",
              "      <td>0.312770</td>\n",
              "      <td>0.005527</td>\n",
              "      <td>0.371260</td>\n",
              "      <td>0.051658</td>\n",
              "      <td>0.042947</td>\n",
              "      <td>0.148506</td>\n",
              "      <td>-0.196648</td>\n",
              "      <td>1.000000</td>\n",
              "      <td>0.093595</td>\n",
              "      <td>0.251397</td>\n",
              "    </tr>\n",
              "    <tr>\n",
              "      <th>alcohol</th>\n",
              "      <td>-0.061668</td>\n",
              "      <td>-0.202288</td>\n",
              "      <td>0.109903</td>\n",
              "      <td>0.042075</td>\n",
              "      <td>-0.221141</td>\n",
              "      <td>-0.069408</td>\n",
              "      <td>-0.205654</td>\n",
              "      <td>-0.496180</td>\n",
              "      <td>0.205633</td>\n",
              "      <td>0.093595</td>\n",
              "      <td>1.000000</td>\n",
              "      <td>0.476166</td>\n",
              "    </tr>\n",
              "    <tr>\n",
              "      <th>quality</th>\n",
              "      <td>0.124052</td>\n",
              "      <td>-0.390558</td>\n",
              "      <td>0.226373</td>\n",
              "      <td>0.013732</td>\n",
              "      <td>-0.128907</td>\n",
              "      <td>-0.050656</td>\n",
              "      <td>-0.185100</td>\n",
              "      <td>-0.174919</td>\n",
              "      <td>-0.057731</td>\n",
              "      <td>0.251397</td>\n",
              "      <td>0.476166</td>\n",
              "      <td>1.000000</td>\n",
              "    </tr>\n",
              "  </tbody>\n",
              "</table>\n",
              "</div>\n",
              "      <button class=\"colab-df-convert\" onclick=\"convertToInteractive('df-b20fd00b-8e47-4167-8b7e-79b5967acfaa')\"\n",
              "              title=\"Convert this dataframe to an interactive table.\"\n",
              "              style=\"display:none;\">\n",
              "        \n",
              "  <svg xmlns=\"http://www.w3.org/2000/svg\" height=\"24px\"viewBox=\"0 0 24 24\"\n",
              "       width=\"24px\">\n",
              "    <path d=\"M0 0h24v24H0V0z\" fill=\"none\"/>\n",
              "    <path d=\"M18.56 5.44l.94 2.06.94-2.06 2.06-.94-2.06-.94-.94-2.06-.94 2.06-2.06.94zm-11 1L8.5 8.5l.94-2.06 2.06-.94-2.06-.94L8.5 2.5l-.94 2.06-2.06.94zm10 10l.94 2.06.94-2.06 2.06-.94-2.06-.94-.94-2.06-.94 2.06-2.06.94z\"/><path d=\"M17.41 7.96l-1.37-1.37c-.4-.4-.92-.59-1.43-.59-.52 0-1.04.2-1.43.59L10.3 9.45l-7.72 7.72c-.78.78-.78 2.05 0 2.83L4 21.41c.39.39.9.59 1.41.59.51 0 1.02-.2 1.41-.59l7.78-7.78 2.81-2.81c.8-.78.8-2.07 0-2.86zM5.41 20L4 18.59l7.72-7.72 1.47 1.35L5.41 20z\"/>\n",
              "  </svg>\n",
              "      </button>\n",
              "      \n",
              "  <style>\n",
              "    .colab-df-container {\n",
              "      display:flex;\n",
              "      flex-wrap:wrap;\n",
              "      gap: 12px;\n",
              "    }\n",
              "\n",
              "    .colab-df-convert {\n",
              "      background-color: #E8F0FE;\n",
              "      border: none;\n",
              "      border-radius: 50%;\n",
              "      cursor: pointer;\n",
              "      display: none;\n",
              "      fill: #1967D2;\n",
              "      height: 32px;\n",
              "      padding: 0 0 0 0;\n",
              "      width: 32px;\n",
              "    }\n",
              "\n",
              "    .colab-df-convert:hover {\n",
              "      background-color: #E2EBFA;\n",
              "      box-shadow: 0px 1px 2px rgba(60, 64, 67, 0.3), 0px 1px 3px 1px rgba(60, 64, 67, 0.15);\n",
              "      fill: #174EA6;\n",
              "    }\n",
              "\n",
              "    [theme=dark] .colab-df-convert {\n",
              "      background-color: #3B4455;\n",
              "      fill: #D2E3FC;\n",
              "    }\n",
              "\n",
              "    [theme=dark] .colab-df-convert:hover {\n",
              "      background-color: #434B5C;\n",
              "      box-shadow: 0px 1px 3px 1px rgba(0, 0, 0, 0.15);\n",
              "      filter: drop-shadow(0px 1px 2px rgba(0, 0, 0, 0.3));\n",
              "      fill: #FFFFFF;\n",
              "    }\n",
              "  </style>\n",
              "\n",
              "      <script>\n",
              "        const buttonEl =\n",
              "          document.querySelector('#df-b20fd00b-8e47-4167-8b7e-79b5967acfaa button.colab-df-convert');\n",
              "        buttonEl.style.display =\n",
              "          google.colab.kernel.accessAllowed ? 'block' : 'none';\n",
              "\n",
              "        async function convertToInteractive(key) {\n",
              "          const element = document.querySelector('#df-b20fd00b-8e47-4167-8b7e-79b5967acfaa');\n",
              "          const dataTable =\n",
              "            await google.colab.kernel.invokeFunction('convertToInteractive',\n",
              "                                                     [key], {});\n",
              "          if (!dataTable) return;\n",
              "\n",
              "          const docLinkHtml = 'Like what you see? Visit the ' +\n",
              "            '<a target=\"_blank\" href=https://colab.research.google.com/notebooks/data_table.ipynb>data table notebook</a>'\n",
              "            + ' to learn more about interactive tables.';\n",
              "          element.innerHTML = '';\n",
              "          dataTable['output_type'] = 'display_data';\n",
              "          await google.colab.output.renderOutput(dataTable, element);\n",
              "          const docLink = document.createElement('div');\n",
              "          docLink.innerHTML = docLinkHtml;\n",
              "          element.appendChild(docLink);\n",
              "        }\n",
              "      </script>\n",
              "    </div>\n",
              "  </div>\n",
              "  "
            ]
          },
          "metadata": {},
          "execution_count": 5
        }
      ]
    },
    {
      "cell_type": "code",
      "source": [
        "corr = red_wine.corr(method='pearson')"
      ],
      "metadata": {
        "id": "fpeQLUFXK1A6"
      },
      "execution_count": 6,
      "outputs": []
    },
    {
      "cell_type": "code",
      "source": [
        "import seaborn as sns\n",
        "import matplotlib.pyplot as plt\n",
        "\n",
        "# corr = red_wine.corr()\n",
        "sns.heatmap(corr, xticklabels = corr.columns.values,\n",
        "           yticklabels=corr.columns.values)"
      ],
      "metadata": {
        "id": "HJhPnrxgKx-W",
        "outputId": "cf058bb1-3df3-4cae-98a1-5b3702652c19",
        "colab": {
          "base_uri": "https://localhost:8080/",
          "height": 371
        }
      },
      "execution_count": 7,
      "outputs": [
        {
          "output_type": "execute_result",
          "data": {
            "text/plain": [
              "<matplotlib.axes._subplots.AxesSubplot at 0x7f42b8e32690>"
            ]
          },
          "metadata": {},
          "execution_count": 7
        },
        {
          "output_type": "display_data",
          "data": {
            "text/plain": [
              "<Figure size 432x288 with 2 Axes>"
            ],
            "image/png": "[encoded data removed]"
          },
          "metadata": {
            "needs_background": "light"
          }
        }
      ]
    },
    {
      "cell_type": "code",
      "source": [
        "red_wine['quality'].unique()"
      ],
      "metadata": {
        "id": "DwLctxHrLtju",
        "outputId": "191872e7-b733-4289-ef5f-6c5ef8c500be",
        "colab": {
          "base_uri": "https://localhost:8080/"
        }
      },
      "execution_count": 8,
      "outputs": [
        {
          "output_type": "execute_result",
          "data": {
            "text/plain": [
              "array([5, 6, 7, 4, 8, 3])"
            ]
          },
          "metadata": {},
          "execution_count": 8
        }
      ]
    },
    {
      "cell_type": "code",
      "source": [
        "red_wine['quality'].hist()"
      ],
      "metadata": {
        "id": "7fyXsFPKMCCk",
        "outputId": "164b3014-9d57-403b-f23c-247bf22a279d",
        "colab": {
          "base_uri": "https://localhost:8080/",
          "height": 283
        }
      },
      "execution_count": 9,
      "outputs": [
        {
          "output_type": "execute_result",
          "data": {
            "text/plain": [
              "<matplotlib.axes._subplots.AxesSubplot at 0x7f42b8708c90>"
            ]
          },
          "metadata": {},
          "execution_count": 9
        },
        {
          "output_type": "display_data",
          "data": {
            "text/plain": [
              "<Figure size 432x288 with 1 Axes>"
            ],
            "image/png": "[encoded data removed]"
          },
          "metadata": {
            "needs_background": "light"
          }
        }
      ]
    },
    {
      "cell_type": "code",
      "source": [
        "red_wine['quality'].value_counts()"
      ],
      "metadata": {
        "id": "Clqbr85VMF2s",
        "outputId": "a4684398-f5ac-4552-cce0-483c89a316d5",
        "colab": {
          "base_uri": "https://localhost:8080/"
        }
      },
      "execution_count": 10,
      "outputs": [
        {
          "output_type": "execute_result",
          "data": {
            "text/plain": [
              "5    681\n",
              "6    638\n",
              "7    199\n",
              "4     53\n",
              "8     18\n",
              "3     10\n",
              "Name: quality, dtype: int64"
            ]
          },
          "metadata": {},
          "execution_count": 10
        }
      ]
    },
    {
      "cell_type": "code",
      "source": [
        "red_wine.columns"
      ],
      "metadata": {
        "id": "fa1xy-lSMFzk",
        "outputId": "f2f1e87c-f775-4474-9b31-75595420a5a7",
        "colab": {
          "base_uri": "https://localhost:8080/"
        }
      },
      "execution_count": 11,
      "outputs": [
        {
          "output_type": "execute_result",
          "data": {
            "text/plain": [
              "Index(['fixed acidity', 'volatile acidity', 'citric acid', 'residual sugar',\n",
              "       'chlorides', 'free sulfur dioxide', 'total sulfur dioxide', 'density',\n",
              "       'pH', 'sulphates', 'alcohol', 'quality'],\n",
              "      dtype='object')"
            ]
          },
          "metadata": {},
          "execution_count": 11
        }
      ]
    },
    {
      "cell_type": "code",
      "source": [
        "red_wine['alcohol'].hist()"
      ],
      "metadata": {
        "id": "m2_7uIvSMFwg",
        "outputId": "9dd0f970-f1c8-4a8c-9200-574603202f8a",
        "colab": {
          "base_uri": "https://localhost:8080/",
          "height": 283
        }
      },
      "execution_count": 12,
      "outputs": [
        {
          "output_type": "execute_result",
          "data": {
            "text/plain": [
              "<matplotlib.axes._subplots.AxesSubplot at 0x7f42ba16e290>"
            ]
          },
          "metadata": {},
          "execution_count": 12
        },
        {
          "output_type": "display_data",
          "data": {
            "text/plain": [
              "<Figure size 432x288 with 1 Axes>"
            ],
            "image/png": "[encoded data removed]"
          },
          "metadata": {
            "needs_background": "light"
          }
        }
      ]
    },
    {
      "cell_type": "code",
      "source": [
        "red_wine['pH'].hist()"
      ],
      "metadata": {
        "id": "KRgAEr6QMFt2",
        "outputId": "cd3ac3c7-2651-43bc-aac2-f74ed867e05d",
        "colab": {
          "base_uri": "https://localhost:8080/",
          "height": 283
        }
      },
      "execution_count": 13,
      "outputs": [
        {
          "output_type": "execute_result",
          "data": {
            "text/plain": [
              "<matplotlib.axes._subplots.AxesSubplot at 0x7f42b8662dd0>"
            ]
          },
          "metadata": {},
          "execution_count": 13
        },
        {
          "output_type": "display_data",
          "data": {
            "text/plain": [
              "<Figure size 432x288 with 1 Axes>"
            ],
            "image/png": "[encoded data removed]"
          },
          "metadata": {
            "needs_background": "light"
          }
        }
      ]
    },
    {
      "cell_type": "code",
      "source": [
        "X = red_wine.iloc[:,0:11]"
      ],
      "metadata": {
        "id": "tQpR38x4MFrU"
      },
      "execution_count": 14,
      "outputs": []
    },
    {
      "cell_type": "code",
      "source": [
        "# y.shape"
      ],
      "metadata": {
        "id": "1Ox0zj8UNOx5"
      },
      "execution_count": 16,
      "outputs": []
    },
    {
      "cell_type": "code",
      "source": [
        "y = red_wine['quality']"
      ],
      "metadata": {
        "id": "mv0HQC56MFoK"
      },
      "execution_count": 19,
      "outputs": []
    },
    {
      "cell_type": "code",
      "source": [
        "from sklearn.model_selection import train_test_split"
      ],
      "metadata": {
        "id": "aJIIPlAGNdl4"
      },
      "execution_count": 20,
      "outputs": []
    },
    {
      "cell_type": "code",
      "source": [
        "X_train, X_test, y_train, y_test = train_test_split(X, y, test_size=0.2, random_state=42)"
      ],
      "metadata": {
        "id": "u5Lqarg9NRvg"
      },
      "execution_count": 21,
      "outputs": []
    },
    {
      "cell_type": "code",
      "source": [
        "y_test.shape"
      ],
      "metadata": {
        "id": "XPY8gEIfNRrp",
        "outputId": "803a3e40-e9b4-4a88-d5d2-5ad85813c94c",
        "colab": {
          "base_uri": "https://localhost:8080/"
        }
      },
      "execution_count": 22,
      "outputs": [
        {
          "output_type": "execute_result",
          "data": {
            "text/plain": [
              "(320,)"
            ]
          },
          "metadata": {},
          "execution_count": 22
        }
      ]
    },
    {
      "cell_type": "code",
      "source": [
        "from sklearn.preprocessing import MinMaxScaler"
      ],
      "metadata": {
        "id": "x603v1GQNRoJ"
      },
      "execution_count": 23,
      "outputs": []
    },
    {
      "cell_type": "code",
      "source": [
        "scaler = MinMaxScaler(feature_range=(0, 1))"
      ],
      "metadata": {
        "id": "Kwx462IaOa2w"
      },
      "execution_count": 24,
      "outputs": []
    },
    {
      "cell_type": "code",
      "source": [
        "s_X_train = scaler.fit_transform(X_train)"
      ],
      "metadata": {
        "id": "p43HT7r5Oay9"
      },
      "execution_count": 25,
      "outputs": []
    },
    {
      "cell_type": "code",
      "source": [
        "s_X_test = scaler.fit_transform(X_test)"
      ],
      "metadata": {
        "id": "uOhixOIcS360"
      },
      "execution_count": 26,
      "outputs": []
    },
    {
      "cell_type": "code",
      "source": [
        "type(s_X_train)"
      ],
      "metadata": {
        "id": "33-pnVhAOau9",
        "outputId": "344eabd8-176a-4ae2-bd44-2a3c3aa7650b",
        "colab": {
          "base_uri": "https://localhost:8080/"
        }
      },
      "execution_count": 27,
      "outputs": [
        {
          "output_type": "execute_result",
          "data": {
            "text/plain": [
              "numpy.ndarray"
            ]
          },
          "metadata": {},
          "execution_count": 27
        }
      ]
    },
    {
      "cell_type": "code",
      "source": [
        "s_X_train.max()"
      ],
      "metadata": {
        "id": "pPoeJ-qCOarh",
        "outputId": "7606c9d2-44e2-4337-8074-8acdf1de5157",
        "colab": {
          "base_uri": "https://localhost:8080/"
        }
      },
      "execution_count": 28,
      "outputs": [
        {
          "output_type": "execute_result",
          "data": {
            "text/plain": [
              "1.0000000000000002"
            ]
          },
          "metadata": {},
          "execution_count": 28
        }
      ]
    },
    {
      "cell_type": "code",
      "source": [
        "s_X_df = pd.DataFrame(s_X_train)"
      ],
      "metadata": {
        "id": "rzGFjVyQSekG"
      },
      "execution_count": 29,
      "outputs": []
    },
    {
      "cell_type": "code",
      "source": [
        "s_X_df.describe()"
      ],
      "metadata": {
        "id": "s5ZW6wazSehO",
        "outputId": "62b7f44c-726d-46f2-94c6-298ad3a814b0",
        "colab": {
          "base_uri": "https://localhost:8080/",
          "height": 364
        }
      },
      "execution_count": 30,
      "outputs": [
        {
          "output_type": "execute_result",
          "data": {
            "text/plain": [
              "                0            1            2            3            4   \\\n",
              "count  1279.000000  1279.000000  1279.000000  1279.000000  1279.000000   \n",
              "mean      0.329530     0.281205     0.272471     0.113389     0.127626   \n",
              "std       0.152588     0.122791     0.195448     0.098342     0.082358   \n",
              "min       0.000000     0.000000     0.000000     0.000000     0.000000   \n",
              "25%       0.221239     0.191781     0.100000     0.068493     0.098497   \n",
              "50%       0.292035     0.273973     0.260000     0.089041     0.113523   \n",
              "75%       0.407080     0.356164     0.430000     0.116438     0.131886   \n",
              "max       1.000000     1.000000     1.000000     1.000000     1.000000   \n",
              "\n",
              "                5            6            7            8            9   \\\n",
              "count  1279.000000  1279.000000  1279.000000  1279.000000  1279.000000   \n",
              "mean      0.222031     0.143665     0.492216     0.450118     0.177929   \n",
              "std       0.153933     0.116403     0.136266     0.121272     0.107119   \n",
              "min       0.000000     0.000000     0.000000     0.000000     0.000000   \n",
              "25%       0.089552     0.056537     0.410059     0.370079     0.110429   \n",
              "50%       0.194030     0.113074     0.494126     0.448819     0.153374   \n",
              "75%       0.298507     0.201413     0.570852     0.519685     0.220859   \n",
              "max       1.000000     1.000000     1.000000     1.000000     1.000000   \n",
              "\n",
              "                10  \n",
              "count  1279.000000  \n",
              "mean      0.310477  \n",
              "std       0.161953  \n",
              "min       0.000000  \n",
              "25%       0.169231  \n",
              "50%       0.276923  \n",
              "75%       0.415385  \n",
              "max       1.000000  "
            ],
            "text/html": [
              "\n",
              "  <div id=\"df-08264229-b7cf-43d9-9694-86cbf02b93f8\">\n",
              "    <div class=\"colab-df-container\">\n",
              "      <div>\n",
              "<style scoped>\n",
              "    .dataframe tbody tr th:only-of-type {\n",
              "        vertical-align: middle;\n",
              "    }\n",
              "\n",
              "    .dataframe tbody tr th {\n",
              "        vertical-align: top;\n",
              "    }\n",
              "\n",
              "    .dataframe thead th {\n",
              "        text-align: right;\n",
              "    }\n",
              "</style>\n",
              "<table border=\"1\" class=\"dataframe\">\n",
              "  <thead>\n",
              "    <tr style=\"text-align: right;\">\n",
              "      <th></th>\n",
              "      <th>0</th>\n",
              "      <th>1</th>\n",
              "      <th>2</th>\n",
              "      <th>3</th>\n",
              "      <th>4</th>\n",
              "      <th>5</th>\n",
              "      <th>6</th>\n",
              "      <th>7</th>\n",
              "      <th>8</th>\n",
              "      <th>9</th>\n",
              "      <th>10</th>\n",
              "    </tr>\n",
              "  </thead>\n",
              "  <tbody>\n",
              "    <tr>\n",
              "      <th>count</th>\n",
              "      <td>1279.000000</td>\n",
              "      <td>1279.000000</td>\n",
              "      <td>1279.000000</td>\n",
              "      <td>1279.000000</td>\n",
              "      <td>1279.000000</td>\n",
              "      <td>1279.000000</td>\n",
              "      <td>1279.000000</td>\n",
              "      <td>1279.000000</td>\n",
              "      <td>1279.000000</td>\n",
              "      <td>1279.000000</td>\n",
              "      <td>1279.000000</td>\n",
              "    </tr>\n",
              "    <tr>\n",
              "      <th>mean</th>\n",
              "      <td>0.329530</td>\n",
              "      <td>0.281205</td>\n",
              "      <td>0.272471</td>\n",
              "      <td>0.113389</td>\n",
              "      <td>0.127626</td>\n",
              "      <td>0.222031</td>\n",
              "      <td>0.143665</td>\n",
              "      <td>0.492216</td>\n",
              "      <td>0.450118</td>\n",
              "      <td>0.177929</td>\n",
              "      <td>0.310477</td>\n",
              "    </tr>\n",
              "    <tr>\n",
              "      <th>std</th>\n",
              "      <td>0.152588</td>\n",
              "      <td>0.122791</td>\n",
              "      <td>0.195448</td>\n",
              "      <td>0.098342</td>\n",
              "      <td>0.082358</td>\n",
              "      <td>0.153933</td>\n",
              "      <td>0.116403</td>\n",
              "      <td>0.136266</td>\n",
              "      <td>0.121272</td>\n",
              "      <td>0.107119</td>\n",
              "      <td>0.161953</td>\n",
              "    </tr>\n",
              "    <tr>\n",
              "      <th>min</th>\n",
              "      <td>0.000000</td>\n",
              "      <td>0.000000</td>\n",
              "      <td>0.000000</td>\n",
              "      <td>0.000000</td>\n",
              "      <td>0.000000</td>\n",
              "      <td>0.000000</td>\n",
              "      <td>0.000000</td>\n",
              "      <td>0.000000</td>\n",
              "      <td>0.000000</td>\n",
              "      <td>0.000000</td>\n",
              "      <td>0.000000</td>\n",
              "    </tr>\n",
              "    <tr>\n",
              "      <th>25%</th>\n",
              "      <td>0.221239</td>\n",
              "      <td>0.191781</td>\n",
              "      <td>0.100000</td>\n",
              "      <td>0.068493</td>\n",
              "      <td>0.098497</td>\n",
              "      <td>0.089552</td>\n",
              "      <td>0.056537</td>\n",
              "      <td>0.410059</td>\n",
              "      <td>0.370079</td>\n",
              "      <td>0.110429</td>\n",
              "      <td>0.169231</td>\n",
              "    </tr>\n",
              "    <tr>\n",
              "      <th>50%</th>\n",
              "      <td>0.292035</td>\n",
              "      <td>0.273973</td>\n",
              "      <td>0.260000</td>\n",
              "      <td>0.089041</td>\n",
              "      <td>0.113523</td>\n",
              "      <td>0.194030</td>\n",
              "      <td>0.113074</td>\n",
              "      <td>0.494126</td>\n",
              "      <td>0.448819</td>\n",
              "      <td>0.153374</td>\n",
              "      <td>0.276923</td>\n",
              "    </tr>\n",
              "    <tr>\n",
              "      <th>75%</th>\n",
              "      <td>0.407080</td>\n",
              "      <td>0.356164</td>\n",
              "      <td>0.430000</td>\n",
              "      <td>0.116438</td>\n",
              "      <td>0.131886</td>\n",
              "      <td>0.298507</td>\n",
              "      <td>0.201413</td>\n",
              "      <td>0.570852</td>\n",
              "      <td>0.519685</td>\n",
              "      <td>0.220859</td>\n",
              "      <td>0.415385</td>\n",
              "    </tr>\n",
              "    <tr>\n",
              "      <th>max</th>\n",
              "      <td>1.000000</td>\n",
              "      <td>1.000000</td>\n",
              "      <td>1.000000</td>\n",
              "      <td>1.000000</td>\n",
              "      <td>1.000000</td>\n",
              "      <td>1.000000</td>\n",
              "      <td>1.000000</td>\n",
              "      <td>1.000000</td>\n",
              "      <td>1.000000</td>\n",
              "      <td>1.000000</td>\n",
              "      <td>1.000000</td>\n",
              "    </tr>\n",
              "  </tbody>\n",
              "</table>\n",
              "</div>\n",
              "      <button class=\"colab-df-convert\" onclick=\"convertToInteractive('df-08264229-b7cf-43d9-9694-86cbf02b93f8')\"\n",
              "              title=\"Convert this dataframe to an interactive table.\"\n",
              "              style=\"display:none;\">\n",
              "        \n",
              "  <svg xmlns=\"http://www.w3.org/2000/svg\" height=\"24px\"viewBox=\"0 0 24 24\"\n",
              "       width=\"24px\">\n",
              "    <path d=\"M0 0h24v24H0V0z\" fill=\"none\"/>\n",
              "    <path d=\"M18.56 5.44l.94 2.06.94-2.06 2.06-.94-2.06-.94-.94-2.06-.94 2.06-2.06.94zm-11 1L8.5 8.5l.94-2.06 2.06-.94-2.06-.94L8.5 2.5l-.94 2.06-2.06.94zm10 10l.94 2.06.94-2.06 2.06-.94-2.06-.94-.94-2.06-.94 2.06-2.06.94z\"/><path d=\"M17.41 7.96l-1.37-1.37c-.4-.4-.92-.59-1.43-.59-.52 0-1.04.2-1.43.59L10.3 9.45l-7.72 7.72c-.78.78-.78 2.05 0 2.83L4 21.41c.39.39.9.59 1.41.59.51 0 1.02-.2 1.41-.59l7.78-7.78 2.81-2.81c.8-.78.8-2.07 0-2.86zM5.41 20L4 18.59l7.72-7.72 1.47 1.35L5.41 20z\"/>\n",
              "  </svg>\n",
              "      </button>\n",
              "      \n",
              "  <style>\n",
              "    .colab-df-container {\n",
              "      display:flex;\n",
              "      flex-wrap:wrap;\n",
              "      gap: 12px;\n",
              "    }\n",
              "\n",
              "    .colab-df-convert {\n",
              "      background-color: #E8F0FE;\n",
              "      border: none;\n",
              "      border-radius: 50%;\n",
              "      cursor: pointer;\n",
              "      display: none;\n",
              "      fill: #1967D2;\n",
              "      height: 32px;\n",
              "      padding: 0 0 0 0;\n",
              "      width: 32px;\n",
              "    }\n",
              "\n",
              "    .colab-df-convert:hover {\n",
              "      background-color: #E2EBFA;\n",
              "      box-shadow: 0px 1px 2px rgba(60, 64, 67, 0.3), 0px 1px 3px 1px rgba(60, 64, 67, 0.15);\n",
              "      fill: #174EA6;\n",
              "    }\n",
              "\n",
              "    [theme=dark] .colab-df-convert {\n",
              "      background-color: #3B4455;\n",
              "      fill: #D2E3FC;\n",
              "    }\n",
              "\n",
              "    [theme=dark] .colab-df-convert:hover {\n",
              "      background-color: #434B5C;\n",
              "      box-shadow: 0px 1px 3px 1px rgba(0, 0, 0, 0.15);\n",
              "      filter: drop-shadow(0px 1px 2px rgba(0, 0, 0, 0.3));\n",
              "      fill: #FFFFFF;\n",
              "    }\n",
              "  </style>\n",
              "\n",
              "      <script>\n",
              "        const buttonEl =\n",
              "          document.querySelector('#df-08264229-b7cf-43d9-9694-86cbf02b93f8 button.colab-df-convert');\n",
              "        buttonEl.style.display =\n",
              "          google.colab.kernel.accessAllowed ? 'block' : 'none';\n",
              "\n",
              "        async function convertToInteractive(key) {\n",
              "          const element = document.querySelector('#df-08264229-b7cf-43d9-9694-86cbf02b93f8');\n",
              "          const dataTable =\n",
              "            await google.colab.kernel.invokeFunction('convertToInteractive',\n",
              "                                                     [key], {});\n",
              "          if (!dataTable) return;\n",
              "\n",
              "          const docLinkHtml = 'Like what you see? Visit the ' +\n",
              "            '<a target=\"_blank\" href=https://colab.research.google.com/notebooks/data_table.ipynb>data table notebook</a>'\n",
              "            + ' to learn more about interactive tables.';\n",
              "          element.innerHTML = '';\n",
              "          dataTable['output_type'] = 'display_data';\n",
              "          await google.colab.output.renderOutput(dataTable, element);\n",
              "          const docLink = document.createElement('div');\n",
              "          docLink.innerHTML = docLinkHtml;\n",
              "          element.appendChild(docLink);\n",
              "        }\n",
              "      </script>\n",
              "    </div>\n",
              "  </div>\n",
              "  "
            ]
          },
          "metadata": {},
          "execution_count": 30
        }
      ]
    },
    {
      "cell_type": "code",
      "source": [
        ""
      ],
      "metadata": {
        "id": "3V2bRsZRSeeF"
      },
      "execution_count": 30,
      "outputs": []
    },
    {
      "cell_type": "code",
      "source": [
        ""
      ],
      "metadata": {
        "id": "-j--7OVnSeba"
      },
      "execution_count": 30,
      "outputs": []
    },
    {
      "cell_type": "code",
      "source": [
        ""
      ],
      "metadata": {
        "id": "GLy2Fj70SeY4"
      },
      "execution_count": 30,
      "outputs": []
    },
    {
      "cell_type": "code",
      "source": [
        ""
      ],
      "metadata": {
        "id": "sgcfBCpsSeWM"
      },
      "execution_count": 30,
      "outputs": []
    },
    {
      "cell_type": "code",
      "source": [
        "# Scale to [0, 1]\n",
        "# max_ = df_train.max(axis=0)\n",
        "# min_ = df_train.min(axis=0)\n",
        "# df_train = (df_train - min_) / (max_ - min_)\n",
        "# df_valid = (df_valid - min_) / (max_ - min_)"
      ],
      "metadata": {
        "id": "U7OwfAUjGby9"
      },
      "execution_count": 31,
      "outputs": []
    },
    {
      "cell_type": "code",
      "source": [
        "# df_train.describe()"
      ],
      "metadata": {
        "id": "R42dSQVLHGcn"
      },
      "execution_count": 32,
      "outputs": []
    },
    {
      "cell_type": "code",
      "source": [
        "s_X_train.shape"
      ],
      "metadata": {
        "id": "HiGvOy0dTcQI",
        "outputId": "2d631188-17d0-4e87-e3af-7f93e5639c71",
        "colab": {
          "base_uri": "https://localhost:8080/"
        }
      },
      "execution_count": 33,
      "outputs": [
        {
          "output_type": "execute_result",
          "data": {
            "text/plain": [
              "(1279, 11)"
            ]
          },
          "metadata": {},
          "execution_count": 33
        }
      ]
    },
    {
      "cell_type": "code",
      "source": [
        "keras_layer = [\n",
        "    layers.Dense(units=150, input_shape=[11], activation='relu'),\n",
        "    layers.Dense(units=64, activation='relu'),\n",
        "    layers.Dense(units=32, activation='relu'),\n",
        "    layers.Dense(units=1, activation='linear')\n",
        "]"
      ],
      "metadata": {
        "id": "MStiDnpqbN2o"
      },
      "execution_count": 34,
      "outputs": []
    },
    {
      "cell_type": "code",
      "execution_count": 35,
      "metadata": {
        "id": "UxCRcOYnb0hQ"
      },
      "outputs": [],
      "source": [
        "# Create a network with 1 linear unit\n",
        "model = keras.Sequential(keras_layer)"
      ]
    },
    {
      "cell_type": "code",
      "source": [
        "model.compile(optimizer='adam', loss='mse', metrics=['mse'])"
      ],
      "metadata": {
        "id": "jHm2jZTm5CgZ"
      },
      "execution_count": 36,
      "outputs": []
    },
    {
      "cell_type": "code",
      "source": [
        "model.summary()"
      ],
      "metadata": {
        "id": "CVhNlucvT-co",
        "outputId": "6bcdb54e-56bf-4cb2-b8e5-e130b5bb507f",
        "colab": {
          "base_uri": "https://localhost:8080/"
        }
      },
      "execution_count": 37,
      "outputs": [
        {
          "output_type": "stream",
          "name": "stdout",
          "text": [
            "Model: \"sequential\"\n",
            "_________________________________________________________________\n",
            " Layer (type)                Output Shape              Param #   \n",
            "=================================================================\n",
            " dense (Dense)               (None, 150)               1800      \n",
            "                                                                 \n",
            " dense_1 (Dense)             (None, 64)                9664      \n",
            "                                                                 \n",
            " dense_2 (Dense)             (None, 32)                2080      \n",
            "                                                                 \n",
            " dense_3 (Dense)             (None, 1)                 33        \n",
            "                                                                 \n",
            "=================================================================\n",
            "Total params: 13,577\n",
            "Trainable params: 13,577\n",
            "Non-trainable params: 0\n",
            "_________________________________________________________________\n"
          ]
        }
      ]
    },
    {
      "cell_type": "code",
      "source": [
        "history = model.fit(s_X_train, y_train, batch_size=16, epochs=200, validation_data=None)"
      ],
      "metadata": {
        "id": "OyhNcLav5BZY",
        "outputId": "3eb54680-3a0c-436c-e2c9-fca147897c8b",
        "colab": {
          "base_uri": "https://localhost:8080/"
        }
      },
      "execution_count": 38,
      "outputs": [
        {
          "output_type": "stream",
          "name": "stdout",
          "text": [
            "Epoch 1/200\n",
            "80/80 [==============================] - 1s 2ms/step - loss: 8.5336 - mse: 8.5336\n",
            "Epoch 2/200\n",
            "80/80 [==============================] - 0s 3ms/step - loss: 0.7659 - mse: 0.7659\n",
            "Epoch 3/200\n",
            "80/80 [==============================] - 0s 3ms/step - loss: 0.6391 - mse: 0.6391\n",
            "Epoch 4/200\n",
            "80/80 [==============================] - 0s 3ms/step - loss: 0.5933 - mse: 0.5933\n",
            "Epoch 5/200\n",
            "80/80 [==============================] - 0s 2ms/step - loss: 0.5620 - mse: 0.5620\n",
            "Epoch 6/200\n",
            "80/80 [==============================] - 0s 2ms/step - loss: 0.5366 - mse: 0.5366\n",
            "Epoch 7/200\n",
            "80/80 [==============================] - 0s 3ms/step - loss: 0.5259 - mse: 0.5259\n",
            "Epoch 8/200\n",
            "80/80 [==============================] - 0s 3ms/step - loss: 0.4820 - mse: 0.4820\n",
            "Epoch 9/200\n",
            "80/80 [==============================] - 0s 2ms/step - loss: 0.4590 - mse: 0.4590\n",
            "Epoch 10/200\n",
            "80/80 [==============================] - 0s 2ms/step - loss: 0.4492 - mse: 0.4492\n",
            "Epoch 11/200\n",
            "80/80 [==============================] - 0s 3ms/step - loss: 0.4401 - mse: 0.4401\n",
            "Epoch 12/200\n",
            "80/80 [==============================] - 0s 2ms/step - loss: 0.4278 - mse: 0.4278\n",
            "Epoch 13/200\n",
            "80/80 [==============================] - 0s 2ms/step - loss: 0.4144 - mse: 0.4144\n",
            "Epoch 14/200\n",
            "80/80 [==============================] - 0s 3ms/step - loss: 0.4107 - mse: 0.4107\n",
            "Epoch 15/200\n",
            "80/80 [==============================] - 0s 3ms/step - loss: 0.4177 - mse: 0.4177\n",
            "Epoch 16/200\n",
            "80/80 [==============================] - 0s 2ms/step - loss: 0.4315 - mse: 0.4315\n",
            "Epoch 17/200\n",
            "80/80 [==============================] - 0s 3ms/step - loss: 0.4232 - mse: 0.4232\n",
            "Epoch 18/200\n",
            "80/80 [==============================] - 0s 2ms/step - loss: 0.4043 - mse: 0.4043\n",
            "Epoch 19/200\n",
            "80/80 [==============================] - 0s 2ms/step - loss: 0.4101 - mse: 0.4101\n",
            "Epoch 20/200\n",
            "80/80 [==============================] - 0s 3ms/step - loss: 0.4105 - mse: 0.4105\n",
            "Epoch 21/200\n",
            "80/80 [==============================] - 0s 3ms/step - loss: 0.3976 - mse: 0.3976\n",
            "Epoch 22/200\n",
            "80/80 [==============================] - 0s 3ms/step - loss: 0.3911 - mse: 0.3911\n",
            "Epoch 23/200\n",
            "80/80 [==============================] - 0s 3ms/step - loss: 0.3903 - mse: 0.3903\n",
            "Epoch 24/200\n",
            "80/80 [==============================] - 0s 2ms/step - loss: 0.4171 - mse: 0.4171\n",
            "Epoch 25/200\n",
            "80/80 [==============================] - 0s 3ms/step - loss: 0.3981 - mse: 0.3981\n",
            "Epoch 26/200\n",
            "80/80 [==============================] - 0s 3ms/step - loss: 0.3991 - mse: 0.3991\n",
            "Epoch 27/200\n",
            "80/80 [==============================] - 0s 3ms/step - loss: 0.3888 - mse: 0.3888\n",
            "Epoch 28/200\n",
            "80/80 [==============================] - 0s 3ms/step - loss: 0.4079 - mse: 0.4079\n",
            "Epoch 29/200\n",
            "80/80 [==============================] - 0s 2ms/step - loss: 0.3978 - mse: 0.3978\n",
            "Epoch 30/200\n",
            "80/80 [==============================] - 0s 3ms/step - loss: 0.3813 - mse: 0.3813\n",
            "Epoch 31/200\n",
            "80/80 [==============================] - 0s 3ms/step - loss: 0.3918 - mse: 0.3918\n",
            "Epoch 32/200\n",
            "80/80 [==============================] - 0s 3ms/step - loss: 0.3999 - mse: 0.3999\n",
            "Epoch 33/200\n",
            "80/80 [==============================] - 0s 3ms/step - loss: 0.3873 - mse: 0.3873\n",
            "Epoch 34/200\n",
            "80/80 [==============================] - 0s 2ms/step - loss: 0.4003 - mse: 0.4003\n",
            "Epoch 35/200\n",
            "80/80 [==============================] - 0s 2ms/step - loss: 0.3700 - mse: 0.3700\n",
            "Epoch 36/200\n",
            "80/80 [==============================] - 0s 3ms/step - loss: 0.3936 - mse: 0.3936\n",
            "Epoch 37/200\n",
            "80/80 [==============================] - 0s 3ms/step - loss: 0.3738 - mse: 0.3738\n",
            "Epoch 38/200\n",
            "80/80 [==============================] - 0s 2ms/step - loss: 0.3646 - mse: 0.3646\n",
            "Epoch 39/200\n",
            "80/80 [==============================] - 0s 3ms/step - loss: 0.3734 - mse: 0.3734\n",
            "Epoch 40/200\n",
            "80/80 [==============================] - 0s 2ms/step - loss: 0.3558 - mse: 0.3558\n",
            "Epoch 41/200\n",
            "80/80 [==============================] - 0s 3ms/step - loss: 0.3771 - mse: 0.3771\n",
            "Epoch 42/200\n",
            "80/80 [==============================] - 0s 2ms/step - loss: 0.3661 - mse: 0.3661\n",
            "Epoch 43/200\n",
            "80/80 [==============================] - 0s 2ms/step - loss: 0.3682 - mse: 0.3682\n",
            "Epoch 44/200\n",
            "80/80 [==============================] - 0s 3ms/step - loss: 0.3789 - mse: 0.3789\n",
            "Epoch 45/200\n",
            "80/80 [==============================] - 0s 2ms/step - loss: 0.3499 - mse: 0.3499\n",
            "Epoch 46/200\n",
            "80/80 [==============================] - 0s 2ms/step - loss: 0.3494 - mse: 0.3494\n",
            "Epoch 47/200\n",
            "80/80 [==============================] - 0s 3ms/step - loss: 0.3566 - mse: 0.3566\n",
            "Epoch 48/200\n",
            "80/80 [==============================] - 0s 3ms/step - loss: 0.3571 - mse: 0.3571\n",
            "Epoch 49/200\n",
            "80/80 [==============================] - 0s 3ms/step - loss: 0.3594 - mse: 0.3594\n",
            "Epoch 50/200\n",
            "80/80 [==============================] - 0s 3ms/step - loss: 0.3504 - mse: 0.3504\n",
            "Epoch 51/200\n",
            "80/80 [==============================] - 0s 3ms/step - loss: 0.3672 - mse: 0.3672\n",
            "Epoch 52/200\n",
            "80/80 [==============================] - 0s 3ms/step - loss: 0.3565 - mse: 0.3565\n",
            "Epoch 53/200\n",
            "80/80 [==============================] - 0s 3ms/step - loss: 0.3479 - mse: 0.3479\n",
            "Epoch 54/200\n",
            "80/80 [==============================] - 0s 3ms/step - loss: 0.3603 - mse: 0.3603\n",
            "Epoch 55/200\n",
            "80/80 [==============================] - 0s 3ms/step - loss: 0.3621 - mse: 0.3621\n",
            "Epoch 56/200\n",
            "80/80 [==============================] - 0s 2ms/step - loss: 0.3768 - mse: 0.3768\n",
            "Epoch 57/200\n",
            "80/80 [==============================] - 0s 2ms/step - loss: 0.3600 - mse: 0.3600\n",
            "Epoch 58/200\n",
            "80/80 [==============================] - 0s 3ms/step - loss: 0.3498 - mse: 0.3498\n",
            "Epoch 59/200\n",
            "80/80 [==============================] - 0s 2ms/step - loss: 0.3488 - mse: 0.3488\n",
            "Epoch 60/200\n",
            "80/80 [==============================] - 0s 2ms/step - loss: 0.3551 - mse: 0.3551\n",
            "Epoch 61/200\n",
            "80/80 [==============================] - 0s 2ms/step - loss: 0.3775 - mse: 0.3775\n",
            "Epoch 62/200\n",
            "80/80 [==============================] - 0s 2ms/step - loss: 0.3320 - mse: 0.3320\n",
            "Epoch 63/200\n",
            "80/80 [==============================] - 0s 2ms/step - loss: 0.3544 - mse: 0.3544\n",
            "Epoch 64/200\n",
            "80/80 [==============================] - 0s 3ms/step - loss: 0.3513 - mse: 0.3513\n",
            "Epoch 65/200\n",
            "80/80 [==============================] - 0s 2ms/step - loss: 0.3376 - mse: 0.3376\n",
            "Epoch 66/200\n",
            "80/80 [==============================] - 0s 3ms/step - loss: 0.3465 - mse: 0.3465\n",
            "Epoch 67/200\n",
            "80/80 [==============================] - 0s 2ms/step - loss: 0.3383 - mse: 0.3383\n",
            "Epoch 68/200\n",
            "80/80 [==============================] - 0s 2ms/step - loss: 0.3393 - mse: 0.3393\n",
            "Epoch 69/200\n",
            "80/80 [==============================] - 0s 3ms/step - loss: 0.3331 - mse: 0.3331\n",
            "Epoch 70/200\n",
            "80/80 [==============================] - 0s 2ms/step - loss: 0.3679 - mse: 0.3679\n",
            "Epoch 71/200\n",
            "80/80 [==============================] - 0s 3ms/step - loss: 0.3384 - mse: 0.3384\n",
            "Epoch 72/200\n",
            "80/80 [==============================] - 0s 3ms/step - loss: 0.3278 - mse: 0.3278\n",
            "Epoch 73/200\n",
            "80/80 [==============================] - 0s 3ms/step - loss: 0.3537 - mse: 0.3537\n",
            "Epoch 74/200\n",
            "80/80 [==============================] - 0s 3ms/step - loss: 0.3445 - mse: 0.3445\n",
            "Epoch 75/200\n",
            "80/80 [==============================] - 0s 3ms/step - loss: 0.3259 - mse: 0.3259\n",
            "Epoch 76/200\n",
            "80/80 [==============================] - 0s 4ms/step - loss: 0.3419 - mse: 0.3419\n",
            "Epoch 77/200\n",
            "80/80 [==============================] - 0s 4ms/step - loss: 0.3647 - mse: 0.3647\n",
            "Epoch 78/200\n",
            "80/80 [==============================] - 0s 3ms/step - loss: 0.3347 - mse: 0.3347\n",
            "Epoch 79/200\n",
            "80/80 [==============================] - 0s 3ms/step - loss: 0.3536 - mse: 0.3536\n",
            "Epoch 80/200\n",
            "80/80 [==============================] - 0s 3ms/step - loss: 0.3246 - mse: 0.3246\n",
            "Epoch 81/200\n",
            "80/80 [==============================] - 0s 3ms/step - loss: 0.3329 - mse: 0.3329\n",
            "Epoch 82/200\n",
            "80/80 [==============================] - 0s 3ms/step - loss: 0.3408 - mse: 0.3408\n",
            "Epoch 83/200\n",
            "80/80 [==============================] - 0s 3ms/step - loss: 0.3188 - mse: 0.3188\n",
            "Epoch 84/200\n",
            "80/80 [==============================] - 0s 3ms/step - loss: 0.3292 - mse: 0.3292\n",
            "Epoch 85/200\n",
            "80/80 [==============================] - 0s 3ms/step - loss: 0.3361 - mse: 0.3361\n",
            "Epoch 86/200\n",
            "80/80 [==============================] - 0s 3ms/step - loss: 0.3334 - mse: 0.3334\n",
            "Epoch 87/200\n",
            "80/80 [==============================] - 0s 3ms/step - loss: 0.3319 - mse: 0.3319\n",
            "Epoch 88/200\n",
            "80/80 [==============================] - 0s 3ms/step - loss: 0.3252 - mse: 0.3252\n",
            "Epoch 89/200\n",
            "80/80 [==============================] - 0s 3ms/step - loss: 0.3226 - mse: 0.3226\n",
            "Epoch 90/200\n",
            "80/80 [==============================] - 0s 3ms/step - loss: 0.3196 - mse: 0.3196\n",
            "Epoch 91/200\n",
            "80/80 [==============================] - 0s 3ms/step - loss: 0.3366 - mse: 0.3366\n",
            "Epoch 92/200\n",
            "80/80 [==============================] - 0s 3ms/step - loss: 0.3171 - mse: 0.3171\n",
            "Epoch 93/200\n",
            "80/80 [==============================] - 0s 3ms/step - loss: 0.3239 - mse: 0.3239\n",
            "Epoch 94/200\n",
            "80/80 [==============================] - 0s 3ms/step - loss: 0.3218 - mse: 0.3218\n",
            "Epoch 95/200\n",
            "80/80 [==============================] - 0s 2ms/step - loss: 0.3181 - mse: 0.3181\n",
            "Epoch 96/200\n",
            "80/80 [==============================] - 0s 3ms/step - loss: 0.3258 - mse: 0.3258\n",
            "Epoch 97/200\n",
            "80/80 [==============================] - 0s 3ms/step - loss: 0.3194 - mse: 0.3194\n",
            "Epoch 98/200\n",
            "80/80 [==============================] - 0s 3ms/step - loss: 0.3139 - mse: 0.3139\n",
            "Epoch 99/200\n",
            "80/80 [==============================] - 0s 3ms/step - loss: 0.3197 - mse: 0.3197\n",
            "Epoch 100/200\n",
            "80/80 [==============================] - 0s 3ms/step - loss: 0.3491 - mse: 0.3491\n",
            "Epoch 101/200\n",
            "80/80 [==============================] - 0s 3ms/step - loss: 0.3141 - mse: 0.3141\n",
            "Epoch 102/200\n",
            "80/80 [==============================] - 0s 3ms/step - loss: 0.3303 - mse: 0.3303\n",
            "Epoch 103/200\n",
            "80/80 [==============================] - 0s 3ms/step - loss: 0.3258 - mse: 0.3258\n",
            "Epoch 104/200\n",
            "80/80 [==============================] - 0s 3ms/step - loss: 0.3363 - mse: 0.3363\n",
            "Epoch 105/200\n",
            "80/80 [==============================] - 0s 3ms/step - loss: 0.3402 - mse: 0.3402\n",
            "Epoch 106/200\n",
            "80/80 [==============================] - 0s 3ms/step - loss: 0.3273 - mse: 0.3273\n",
            "Epoch 107/200\n",
            "80/80 [==============================] - 0s 3ms/step - loss: 0.3207 - mse: 0.3207\n",
            "Epoch 108/200\n",
            "80/80 [==============================] - 0s 3ms/step - loss: 0.3089 - mse: 0.3089\n",
            "Epoch 109/200\n",
            "80/80 [==============================] - 0s 2ms/step - loss: 0.3055 - mse: 0.3055\n",
            "Epoch 110/200\n",
            "80/80 [==============================] - 0s 2ms/step - loss: 0.3025 - mse: 0.3025\n",
            "Epoch 111/200\n",
            "80/80 [==============================] - 0s 2ms/step - loss: 0.3099 - mse: 0.3099\n",
            "Epoch 112/200\n",
            "80/80 [==============================] - 0s 3ms/step - loss: 0.3082 - mse: 0.3082\n",
            "Epoch 113/200\n",
            "80/80 [==============================] - 0s 2ms/step - loss: 0.3221 - mse: 0.3221\n",
            "Epoch 114/200\n",
            "80/80 [==============================] - 0s 3ms/step - loss: 0.3052 - mse: 0.3052\n",
            "Epoch 115/200\n",
            "80/80 [==============================] - 0s 3ms/step - loss: 0.3147 - mse: 0.3147\n",
            "Epoch 116/200\n",
            "80/80 [==============================] - 0s 2ms/step - loss: 0.3198 - mse: 0.3198\n",
            "Epoch 117/200\n",
            "80/80 [==============================] - 0s 3ms/step - loss: 0.3275 - mse: 0.3275\n",
            "Epoch 118/200\n",
            "80/80 [==============================] - 0s 2ms/step - loss: 0.3127 - mse: 0.3127\n",
            "Epoch 119/200\n",
            "80/80 [==============================] - 0s 2ms/step - loss: 0.3103 - mse: 0.3103\n",
            "Epoch 120/200\n",
            "80/80 [==============================] - 0s 2ms/step - loss: 0.3094 - mse: 0.3094\n",
            "Epoch 121/200\n",
            "80/80 [==============================] - 0s 2ms/step - loss: 0.3038 - mse: 0.3038\n",
            "Epoch 122/200\n",
            "80/80 [==============================] - 0s 2ms/step - loss: 0.3254 - mse: 0.3254\n",
            "Epoch 123/200\n",
            "80/80 [==============================] - 0s 2ms/step - loss: 0.3118 - mse: 0.3118\n",
            "Epoch 124/200\n",
            "80/80 [==============================] - 0s 3ms/step - loss: 0.3059 - mse: 0.3059\n",
            "Epoch 125/200\n",
            "80/80 [==============================] - 0s 2ms/step - loss: 0.3051 - mse: 0.3051\n",
            "Epoch 126/200\n",
            "80/80 [==============================] - 0s 3ms/step - loss: 0.3373 - mse: 0.3373\n",
            "Epoch 127/200\n",
            "80/80 [==============================] - 0s 2ms/step - loss: 0.3064 - mse: 0.3064\n",
            "Epoch 128/200\n",
            "80/80 [==============================] - 0s 2ms/step - loss: 0.2948 - mse: 0.2948\n",
            "Epoch 129/200\n",
            "80/80 [==============================] - 0s 3ms/step - loss: 0.2967 - mse: 0.2967\n",
            "Epoch 130/200\n",
            "80/80 [==============================] - 0s 2ms/step - loss: 0.3247 - mse: 0.3247\n",
            "Epoch 131/200\n",
            "80/80 [==============================] - 0s 3ms/step - loss: 0.3063 - mse: 0.3063\n",
            "Epoch 132/200\n",
            "80/80 [==============================] - 0s 3ms/step - loss: 0.3194 - mse: 0.3194\n",
            "Epoch 133/200\n",
            "80/80 [==============================] - 0s 3ms/step - loss: 0.3059 - mse: 0.3059\n",
            "Epoch 134/200\n",
            "80/80 [==============================] - 0s 2ms/step - loss: 0.2959 - mse: 0.2959\n",
            "Epoch 135/200\n",
            "80/80 [==============================] - 0s 3ms/step - loss: 0.3030 - mse: 0.3030\n",
            "Epoch 136/200\n",
            "80/80 [==============================] - 0s 2ms/step - loss: 0.3041 - mse: 0.3041\n",
            "Epoch 137/200\n",
            "80/80 [==============================] - 0s 2ms/step - loss: 0.2976 - mse: 0.2976\n",
            "Epoch 138/200\n",
            "80/80 [==============================] - 0s 3ms/step - loss: 0.2971 - mse: 0.2971\n",
            "Epoch 139/200\n",
            "80/80 [==============================] - 0s 3ms/step - loss: 0.3024 - mse: 0.3024\n",
            "Epoch 140/200\n",
            "80/80 [==============================] - 0s 2ms/step - loss: 0.3099 - mse: 0.3099\n",
            "Epoch 141/200\n",
            "80/80 [==============================] - 0s 3ms/step - loss: 0.3029 - mse: 0.3029\n",
            "Epoch 142/200\n",
            "80/80 [==============================] - 0s 2ms/step - loss: 0.2957 - mse: 0.2957\n",
            "Epoch 143/200\n",
            "80/80 [==============================] - 0s 3ms/step - loss: 0.3061 - mse: 0.3061\n",
            "Epoch 144/200\n",
            "80/80 [==============================] - 0s 3ms/step - loss: 0.2911 - mse: 0.2911\n",
            "Epoch 145/200\n",
            "80/80 [==============================] - 0s 3ms/step - loss: 0.2925 - mse: 0.2925\n",
            "Epoch 146/200\n",
            "80/80 [==============================] - 0s 2ms/step - loss: 0.3138 - mse: 0.3138\n",
            "Epoch 147/200\n",
            "80/80 [==============================] - 0s 3ms/step - loss: 0.3086 - mse: 0.3086\n",
            "Epoch 148/200\n",
            "80/80 [==============================] - 0s 3ms/step - loss: 0.2986 - mse: 0.2986\n",
            "Epoch 149/200\n",
            "80/80 [==============================] - 0s 3ms/step - loss: 0.2993 - mse: 0.2993\n",
            "Epoch 150/200\n",
            "80/80 [==============================] - 0s 3ms/step - loss: 0.2977 - mse: 0.2977\n",
            "Epoch 151/200\n",
            "80/80 [==============================] - 0s 3ms/step - loss: 0.2920 - mse: 0.2920\n",
            "Epoch 152/200\n",
            "80/80 [==============================] - 0s 3ms/step - loss: 0.2889 - mse: 0.2889\n",
            "Epoch 153/200\n",
            "80/80 [==============================] - 0s 3ms/step - loss: 0.2979 - mse: 0.2979\n",
            "Epoch 154/200\n",
            "80/80 [==============================] - 0s 3ms/step - loss: 0.2972 - mse: 0.2972\n",
            "Epoch 155/200\n",
            "80/80 [==============================] - 0s 3ms/step - loss: 0.2953 - mse: 0.2953\n",
            "Epoch 156/200\n",
            "80/80 [==============================] - 0s 3ms/step - loss: 0.2947 - mse: 0.2947\n",
            "Epoch 157/200\n",
            "80/80 [==============================] - 0s 3ms/step - loss: 0.2935 - mse: 0.2935\n",
            "Epoch 158/200\n",
            "80/80 [==============================] - 0s 3ms/step - loss: 0.2897 - mse: 0.2897\n",
            "Epoch 159/200\n",
            "80/80 [==============================] - 0s 3ms/step - loss: 0.2838 - mse: 0.2838\n",
            "Epoch 160/200\n",
            "80/80 [==============================] - 0s 3ms/step - loss: 0.2872 - mse: 0.2872\n",
            "Epoch 161/200\n",
            "80/80 [==============================] - 0s 3ms/step - loss: 0.2873 - mse: 0.2873\n",
            "Epoch 162/200\n",
            "80/80 [==============================] - 0s 3ms/step - loss: 0.2961 - mse: 0.2961\n",
            "Epoch 163/200\n",
            "80/80 [==============================] - 0s 3ms/step - loss: 0.2981 - mse: 0.2981\n",
            "Epoch 164/200\n",
            "80/80 [==============================] - 0s 3ms/step - loss: 0.3050 - mse: 0.3050\n",
            "Epoch 165/200\n",
            "80/80 [==============================] - 0s 3ms/step - loss: 0.2826 - mse: 0.2826\n",
            "Epoch 166/200\n",
            "80/80 [==============================] - 0s 2ms/step - loss: 0.2879 - mse: 0.2879\n",
            "Epoch 167/200\n",
            "80/80 [==============================] - 0s 3ms/step - loss: 0.3085 - mse: 0.3085\n",
            "Epoch 168/200\n",
            "80/80 [==============================] - 0s 3ms/step - loss: 0.2962 - mse: 0.2962\n",
            "Epoch 169/200\n",
            "80/80 [==============================] - 0s 2ms/step - loss: 0.2888 - mse: 0.2888\n",
            "Epoch 170/200\n",
            "80/80 [==============================] - 0s 2ms/step - loss: 0.2956 - mse: 0.2956\n",
            "Epoch 171/200\n",
            "80/80 [==============================] - 0s 2ms/step - loss: 0.2856 - mse: 0.2856\n",
            "Epoch 172/200\n",
            "80/80 [==============================] - 0s 3ms/step - loss: 0.2818 - mse: 0.2818\n",
            "Epoch 173/200\n",
            "80/80 [==============================] - 0s 3ms/step - loss: 0.2765 - mse: 0.2765\n",
            "Epoch 174/200\n",
            "80/80 [==============================] - 0s 2ms/step - loss: 0.2788 - mse: 0.2788\n",
            "Epoch 175/200\n",
            "80/80 [==============================] - 0s 3ms/step - loss: 0.2874 - mse: 0.2874\n",
            "Epoch 176/200\n",
            "80/80 [==============================] - 0s 2ms/step - loss: 0.2752 - mse: 0.2752\n",
            "Epoch 177/200\n",
            "80/80 [==============================] - 0s 3ms/step - loss: 0.2827 - mse: 0.2827\n",
            "Epoch 178/200\n",
            "80/80 [==============================] - 0s 2ms/step - loss: 0.2878 - mse: 0.2878\n",
            "Epoch 179/200\n",
            "80/80 [==============================] - 0s 2ms/step - loss: 0.2791 - mse: 0.2791\n",
            "Epoch 180/200\n",
            "80/80 [==============================] - 0s 2ms/step - loss: 0.2655 - mse: 0.2655\n",
            "Epoch 181/200\n",
            "80/80 [==============================] - 0s 2ms/step - loss: 0.2873 - mse: 0.2873\n",
            "Epoch 182/200\n",
            "80/80 [==============================] - 0s 2ms/step - loss: 0.2684 - mse: 0.2684\n",
            "Epoch 183/200\n",
            "80/80 [==============================] - 0s 2ms/step - loss: 0.2855 - mse: 0.2855\n",
            "Epoch 184/200\n",
            "80/80 [==============================] - 0s 3ms/step - loss: 0.2732 - mse: 0.2732\n",
            "Epoch 185/200\n",
            "80/80 [==============================] - 0s 2ms/step - loss: 0.2691 - mse: 0.2691\n",
            "Epoch 186/200\n",
            "80/80 [==============================] - 0s 3ms/step - loss: 0.2785 - mse: 0.2785\n",
            "Epoch 187/200\n",
            "80/80 [==============================] - 0s 3ms/step - loss: 0.2721 - mse: 0.2721\n",
            "Epoch 188/200\n",
            "80/80 [==============================] - 0s 3ms/step - loss: 0.2877 - mse: 0.2877\n",
            "Epoch 189/200\n",
            "80/80 [==============================] - 0s 3ms/step - loss: 0.2595 - mse: 0.2595\n",
            "Epoch 190/200\n",
            "80/80 [==============================] - 0s 3ms/step - loss: 0.2743 - mse: 0.2743\n",
            "Epoch 191/200\n",
            "80/80 [==============================] - 0s 3ms/step - loss: 0.2761 - mse: 0.2761\n",
            "Epoch 192/200\n",
            "80/80 [==============================] - 0s 3ms/step - loss: 0.2738 - mse: 0.2738\n",
            "Epoch 193/200\n",
            "80/80 [==============================] - 0s 3ms/step - loss: 0.2634 - mse: 0.2634\n",
            "Epoch 194/200\n",
            "80/80 [==============================] - 0s 3ms/step - loss: 0.2669 - mse: 0.2669\n",
            "Epoch 195/200\n",
            "80/80 [==============================] - 0s 3ms/step - loss: 0.3055 - mse: 0.3055\n",
            "Epoch 196/200\n",
            "80/80 [==============================] - 0s 3ms/step - loss: 0.2748 - mse: 0.2748\n",
            "Epoch 197/200\n",
            "80/80 [==============================] - 0s 3ms/step - loss: 0.2657 - mse: 0.2657\n",
            "Epoch 198/200\n",
            "80/80 [==============================] - 0s 3ms/step - loss: 0.2785 - mse: 0.2785\n",
            "Epoch 199/200\n",
            "80/80 [==============================] - 0s 2ms/step - loss: 0.2573 - mse: 0.2573\n",
            "Epoch 200/200\n",
            "80/80 [==============================] - 0s 2ms/step - loss: 0.2732 - mse: 0.2732\n"
          ]
        }
      ]
    },
    {
      "cell_type": "code",
      "source": [
        "history_df = pd.DataFrame(history.history)"
      ],
      "metadata": {
        "id": "PxfuQN4cb-S7"
      },
      "execution_count": 39,
      "outputs": []
    },
    {
      "cell_type": "code",
      "source": [
        "history_df.columns"
      ],
      "metadata": {
        "id": "E4LdCDiucBZ2",
        "outputId": "6a04dd66-40a9-4777-f5db-1b0fc18ec5b9",
        "colab": {
          "base_uri": "https://localhost:8080/"
        }
      },
      "execution_count": 40,
      "outputs": [
        {
          "output_type": "execute_result",
          "data": {
            "text/plain": [
              "Index(['loss', 'mse'], dtype='object')"
            ]
          },
          "metadata": {},
          "execution_count": 40
        }
      ]
    },
    {
      "cell_type": "code",
      "source": [
        "history_df['loss'].plot()"
      ],
      "metadata": {
        "id": "jLaxVJ9-U-78",
        "outputId": "6368adbb-1d6e-4b5f-ccd0-9e2774eaa8b2",
        "colab": {
          "base_uri": "https://localhost:8080/",
          "height": 283
        }
      },
      "execution_count": 41,
      "outputs": [
        {
          "output_type": "execute_result",
          "data": {
            "text/plain": [
              "<matplotlib.axes._subplots.AxesSubplot at 0x7f42b23ce810>"
            ]
          },
          "metadata": {},
          "execution_count": 41
        },
        {
          "output_type": "display_data",
          "data": {
            "text/plain": [
              "<Figure size 432x288 with 1 Axes>"
            ],
            "image/png": "[encoded data removed]"
          },
          "metadata": {
            "needs_background": "light"
          }
        }
      ]
    },
    {
      "cell_type": "code",
      "source": [
        "history_df['mse'].plot()"
      ],
      "metadata": {
        "id": "Vx23z3jsVLgf",
        "outputId": "06c0dcd0-6f1d-40a1-8021-452cf216f3fd",
        "colab": {
          "base_uri": "https://localhost:8080/",
          "height": 283
        }
      },
      "execution_count": 42,
      "outputs": [
        {
          "output_type": "execute_result",
          "data": {
            "text/plain": [
              "<matplotlib.axes._subplots.AxesSubplot at 0x7f42b3c22110>"
            ]
          },
          "metadata": {},
          "execution_count": 42
        },
        {
          "output_type": "display_data",
          "data": {
            "text/plain": [
              "<Figure size 432x288 with 1 Axes>"
            ],
            "image/png": "[encoded data removed]"
          },
          "metadata": {
            "needs_background": "light"
          }
        }
      ]
    }
  ]
}