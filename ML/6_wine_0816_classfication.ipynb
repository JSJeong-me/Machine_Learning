{
  "metadata": {
    "kernelspec": {
      "language": "python",
      "display_name": "Python 3",
      "name": "python3"
    },
    "language_info": {
      "name": "python",
      "version": "3.7.12",
      "mimetype": "text/x-python",
      "codemirror_mode": {
        "name": "ipython",
        "version": 3
      },
      "pygments_lexer": "ipython3",
      "nbconvert_exporter": "python",
      "file_extension": ".py"
    },
    "colab": {
      "name": "notebook0fdae1b397.ipynb",
      "provenance": [],
      "include_colab_link": true
    },
    "accelerator": "GPU",
    "gpuClass": "standard"
  },
  "nbformat_minor": 0,
  "nbformat": 4,
  "cells": [
    {
      "cell_type": "markdown",
      "metadata": {
        "id": "view-in-github",
        "colab_type": "text"
      },
      "source": [
        "<a href=\"https://colab.research.google.com/github/JSJeong-me/Machine_Learning/blob/main/ML/6_wine_0816_classfication.ipynb\" target=\"_parent\"><img src=\"https://colab.research.google.com/assets/colab-badge.svg\" alt=\"Open In Colab\"/></a>"
      ]
    },
    {
      "cell_type": "markdown",
      "source": [
        "**This notebook is an exercise in the [Intro to Deep Learning](https://www.kaggle.com/learn/intro-to-deep-learning) course.  You can reference the tutorial at [this link](https://www.kaggle.com/ryanholbrook/a-single-neuron).**\n",
        "\n",
        "---\n"
      ],
      "metadata": {
        "id": "3mUBPSlwm4qA"
      }
    },
    {
      "cell_type": "markdown",
      "source": [
        "# Introduction #\n",
        "\n",
        "In the tutorial we learned about the building blocks of neural networks: *linear units*. We saw that a model of just one linear unit will fit a linear function to a dataset (equivalent to linear regression). In this exercise, you'll build a linear model and get some practice working with models in Keras.\n",
        "\n",
        "Before you get started, run the code cell below to set everything up."
      ],
      "metadata": {
        "id": "lu_BKhPIm4qE"
      }
    },
    {
      "cell_type": "markdown",
      "source": [
        "The *Red Wine Quality* dataset consists of physiochemical measurements from about 1600 Portuguese red wines.  Also included is a quality rating for each wine from blind taste-tests. \n",
        "\n",
        "First, run the next cell to display the first few rows of this dataset."
      ],
      "metadata": {
        "id": "beV27Dokm4qF"
      }
    },
    {
      "cell_type": "code",
      "source": [
        "import pandas as pd\n",
        "from IPython.display import display\n",
        "\n",
        "red_wine = pd.read_csv('winequality-red.csv')"
      ],
      "metadata": {
        "id": "oOsO38pc7e7i"
      },
      "execution_count": 1,
      "outputs": []
    },
    {
      "cell_type": "code",
      "source": [
        "import seaborn as sns\n",
        "import matplotlib.pyplot as plt\n",
        "\n",
        "corr = red_wine.corr()\n",
        "sns.heatmap(corr, xticklabels = corr.columns.values,\n",
        "           yticklabels=corr.columns.values)"
      ],
      "metadata": {
        "id": "hU_Cz8VsGJ2I",
        "outputId": "e510f883-9b11-4af6-e4ca-e5c705b18d44",
        "colab": {
          "base_uri": "https://localhost:8080/",
          "height": 371
        }
      },
      "execution_count": 2,
      "outputs": [
        {
          "output_type": "execute_result",
          "data": {
            "text/plain": [
              "<matplotlib.axes._subplots.AxesSubplot at 0x7fdcdcc453d0>"
            ]
          },
          "metadata": {},
          "execution_count": 2
        },
        {
          "output_type": "display_data",
          "data": {
            "text/plain": [
              "<Figure size 432x288 with 2 Axes>"
            ],
            "image/png": "[encoded data removed]"
          },
          "metadata": {
            "needs_background": "light"
          }
        }
      ]
    },
    {
      "cell_type": "code",
      "source": [
        "red_wine['quality'].hist()"
      ],
      "metadata": {
        "id": "Ptu1qMbdGThJ"
      },
      "execution_count": null,
      "outputs": []
    },
    {
      "cell_type": "code",
      "source": [
        "from sklearn.preprocessing import LabelEncoder"
      ],
      "metadata": {
        "id": "mtKMerWbRjIR"
      },
      "execution_count": 3,
      "outputs": []
    },
    {
      "cell_type": "code",
      "source": [
        "from tensorflow.keras.utils import to_categorical"
      ],
      "metadata": {
        "id": "-acIjliIRsFf"
      },
      "execution_count": 4,
      "outputs": []
    },
    {
      "cell_type": "code",
      "source": [
        "from sklearn.model_selection import train_test_split\n",
        "\n",
        "X = red_wine.iloc[:,0:11]\n",
        "y = red_wine['quality']\n",
        "\n",
        "le = LabelEncoder()\n",
        "y = le.fit_transform(y)\n",
        "  \n",
        "\n",
        "X_train, X_test, y_train, y_test = train_test_split(X,\n",
        "                                                  y,\n",
        "                                                  test_size=0.33,\n",
        "                                                  random_state = 42)\n",
        "\n",
        "y_train_cat = to_categorical(y_train,6)\n",
        "y_test_cat = to_categorical(y_test, 6)"
      ],
      "metadata": {
        "id": "7Hd3WHYI7hHy"
      },
      "execution_count": 6,
      "outputs": []
    },
    {
      "cell_type": "code",
      "source": [
        "# Scale to [0, 1]\n",
        "# max_ = df_train.max(axis=0)\n",
        "# min_ = df_train.min(axis=0)\n",
        "# df_train = (df_train - min_) / (max_ - min_)\n",
        "# df_valid = (df_valid - min_) / (max_ - min_)"
      ],
      "metadata": {
        "id": "JVfWAkMg7jJx"
      },
      "execution_count": null,
      "outputs": []
    },
    {
      "cell_type": "code",
      "source": [
        "from sklearn.preprocessing import MinMaxScaler"
      ],
      "metadata": {
        "id": "FpenQQuDEIsD"
      },
      "execution_count": 7,
      "outputs": []
    },
    {
      "cell_type": "code",
      "source": [
        "scaler = MinMaxScaler(feature_range=(0, 1))"
      ],
      "metadata": {
        "id": "7sr2sEcQEDiZ"
      },
      "execution_count": 8,
      "outputs": []
    },
    {
      "cell_type": "code",
      "source": [
        "X_train = scaler.fit_transform(X_train)\n",
        "X_train = pd.DataFrame(X_train)\n",
        "\n",
        "X_test = scaler.fit_transform(X_test)\n",
        "X_test = pd.DataFrame(X_test)"
      ],
      "metadata": {
        "id": "ENslQb-rERTF"
      },
      "execution_count": 9,
      "outputs": []
    },
    {
      "cell_type": "code",
      "source": [
        ""
      ],
      "metadata": {
        "id": "5fLa53NrEU8X"
      },
      "execution_count": null,
      "outputs": []
    },
    {
      "cell_type": "code",
      "source": [
        "red_wine.describe()"
      ],
      "metadata": {
        "execution": {
          "iopub.status.busy": "2022-04-01T09:57:19.076902Z",
          "iopub.execute_input": "2022-04-01T09:57:19.077158Z",
          "iopub.status.idle": "2022-04-01T09:57:19.124183Z",
          "shell.execute_reply.started": "2022-04-01T09:57:19.077129Z",
          "shell.execute_reply": "2022-04-01T09:57:19.123278Z"
        },
        "trusted": true,
        "id": "v8bGY_i3m4qG"
      },
      "execution_count": null,
      "outputs": []
    },
    {
      "cell_type": "code",
      "source": [
        "from tensorflow import keras\n",
        "from tensorflow.keras import layers, callbacks\n",
        "\n",
        "model = keras.Sequential([\n",
        "    layers.Dense(128, activation='relu', input_shape=[11]),\n",
        "    # layers.Dropout(rate=0.5),\n",
        "    # layers.BatchNormalization(),\n",
        "    layers.Dense(64, activation='relu'),\n",
        "    # layers.BatchNormalization(),\n",
        "    # layers.Dropout(rate=0.5),\n",
        "    layers.Dense(32, activation='relu'),\n",
        "    # layers.BatchNormalization(),\n",
        "    # layers.Dropout(rate=0.5),\n",
        "    layers.Dense(6, activation='softmax'),\n",
        "])"
      ],
      "metadata": {
        "execution": {
          "iopub.status.busy": "2022-04-01T09:57:19.125173Z",
          "iopub.execute_input": "2022-04-01T09:57:19.125378Z",
          "iopub.status.idle": "2022-04-01T09:57:19.144320Z",
          "shell.execute_reply.started": "2022-04-01T09:57:19.125351Z",
          "shell.execute_reply": "2022-04-01T09:57:19.143449Z"
        },
        "trusted": true,
        "id": "VLqpQWRfm4qH"
      },
      "execution_count": 10,
      "outputs": []
    },
    {
      "cell_type": "code",
      "source": [
        "# early_stopping = callbacks.EarlyStopping(\n",
        "#     min_delta=0.001, # minimium amount of change to count as an improvement\n",
        "#     patience=20, # how many epochs to wait before stopping\n",
        "#     restore_best_weights=True,\n",
        "# )"
      ],
      "metadata": {
        "id": "YRFXgvMVGnQ9"
      },
      "execution_count": null,
      "outputs": []
    },
    {
      "cell_type": "code",
      "source": [
        "model.compile(\n",
        "    optimizer='adam',\n",
        "    loss='categorical_crossentropy', metrics=['accuracy']\n",
        ")"
      ],
      "metadata": {
        "execution": {
          "iopub.status.busy": "2022-04-01T09:57:19.145527Z",
          "iopub.execute_input": "2022-04-01T09:57:19.145858Z",
          "iopub.status.idle": "2022-04-01T09:57:19.154108Z",
          "shell.execute_reply.started": "2022-04-01T09:57:19.145830Z",
          "shell.execute_reply": "2022-04-01T09:57:19.153139Z"
        },
        "trusted": true,
        "id": "3eMdsFmAm4qH"
      },
      "execution_count": 11,
      "outputs": []
    },
    {
      "cell_type": "code",
      "source": [
        "history = model.fit(\n",
        "    X_train, y_train_cat,\n",
        "    validation_data = (X_test,y_test_cat),\n",
        "    batch_size=128,\n",
        "    # callbacks=[early_stopping],\n",
        "    epochs=100,\n",
        ")"
      ],
      "metadata": {
        "id": "7cgxvzRrryg3",
        "outputId": "a163ee19-8690-432f-f165-94b6c558e761",
        "colab": {
          "base_uri": "https://localhost:8080/"
        }
      },
      "execution_count": 12,
      "outputs": [
        {
          "output_type": "stream",
          "name": "stdout",
          "text": [
            "Epoch 1/100\n",
            "9/9 [==============================] - 2s 28ms/step - loss: 1.6672 - accuracy: 0.4332 - val_loss: 1.5472 - val_accuracy: 0.4299\n",
            "Epoch 2/100\n",
            "9/9 [==============================] - 0s 7ms/step - loss: 1.4207 - accuracy: 0.4342 - val_loss: 1.3080 - val_accuracy: 0.4110\n",
            "Epoch 3/100\n",
            "9/9 [==============================] - 0s 6ms/step - loss: 1.2222 - accuracy: 0.4332 - val_loss: 1.2044 - val_accuracy: 0.4337\n",
            "Epoch 4/100\n",
            "9/9 [==============================] - 0s 6ms/step - loss: 1.1650 - accuracy: 0.5107 - val_loss: 1.1725 - val_accuracy: 0.5189\n",
            "Epoch 5/100\n",
            "9/9 [==============================] - 0s 6ms/step - loss: 1.1299 - accuracy: 0.5658 - val_loss: 1.1321 - val_accuracy: 0.5473\n",
            "Epoch 6/100\n",
            "9/9 [==============================] - 0s 7ms/step - loss: 1.0912 - accuracy: 0.5378 - val_loss: 1.1077 - val_accuracy: 0.5246\n",
            "Epoch 7/100\n",
            "9/9 [==============================] - 0s 8ms/step - loss: 1.0649 - accuracy: 0.5378 - val_loss: 1.0870 - val_accuracy: 0.5341\n",
            "Epoch 8/100\n",
            "9/9 [==============================] - 0s 6ms/step - loss: 1.0371 - accuracy: 0.5612 - val_loss: 1.0599 - val_accuracy: 0.5473\n",
            "Epoch 9/100\n",
            "9/9 [==============================] - 0s 6ms/step - loss: 1.0095 - accuracy: 0.5864 - val_loss: 1.0562 - val_accuracy: 0.5625\n",
            "Epoch 10/100\n",
            "9/9 [==============================] - 0s 6ms/step - loss: 0.9909 - accuracy: 0.6106 - val_loss: 1.0363 - val_accuracy: 0.5511\n",
            "Epoch 11/100\n",
            "9/9 [==============================] - 0s 7ms/step - loss: 0.9805 - accuracy: 0.6060 - val_loss: 1.0486 - val_accuracy: 0.5549\n",
            "Epoch 12/100\n",
            "9/9 [==============================] - 0s 6ms/step - loss: 0.9713 - accuracy: 0.6116 - val_loss: 1.0407 - val_accuracy: 0.5568\n",
            "Epoch 13/100\n",
            "9/9 [==============================] - 0s 6ms/step - loss: 0.9674 - accuracy: 0.6153 - val_loss: 1.0403 - val_accuracy: 0.5606\n",
            "Epoch 14/100\n",
            "9/9 [==============================] - 0s 6ms/step - loss: 0.9613 - accuracy: 0.6190 - val_loss: 1.0468 - val_accuracy: 0.5455\n",
            "Epoch 15/100\n",
            "9/9 [==============================] - 0s 6ms/step - loss: 0.9589 - accuracy: 0.6106 - val_loss: 1.0323 - val_accuracy: 0.5549\n",
            "Epoch 16/100\n",
            "9/9 [==============================] - 0s 8ms/step - loss: 0.9592 - accuracy: 0.6172 - val_loss: 1.0135 - val_accuracy: 0.5568\n",
            "Epoch 17/100\n",
            "9/9 [==============================] - 0s 6ms/step - loss: 0.9562 - accuracy: 0.5985 - val_loss: 1.0596 - val_accuracy: 0.5265\n",
            "Epoch 18/100\n",
            "9/9 [==============================] - 0s 7ms/step - loss: 0.9514 - accuracy: 0.6190 - val_loss: 1.0143 - val_accuracy: 0.5682\n",
            "Epoch 19/100\n",
            "9/9 [==============================] - 0s 6ms/step - loss: 0.9446 - accuracy: 0.6144 - val_loss: 1.0284 - val_accuracy: 0.5549\n",
            "Epoch 20/100\n",
            "9/9 [==============================] - 0s 8ms/step - loss: 0.9420 - accuracy: 0.6228 - val_loss: 1.0088 - val_accuracy: 0.5625\n",
            "Epoch 21/100\n",
            "9/9 [==============================] - 0s 7ms/step - loss: 0.9430 - accuracy: 0.6106 - val_loss: 1.0253 - val_accuracy: 0.5492\n",
            "Epoch 22/100\n",
            "9/9 [==============================] - 0s 8ms/step - loss: 0.9392 - accuracy: 0.6162 - val_loss: 1.0161 - val_accuracy: 0.5644\n",
            "Epoch 23/100\n",
            "9/9 [==============================] - 0s 6ms/step - loss: 0.9373 - accuracy: 0.6190 - val_loss: 0.9982 - val_accuracy: 0.5663\n",
            "Epoch 24/100\n",
            "9/9 [==============================] - 0s 6ms/step - loss: 0.9341 - accuracy: 0.6190 - val_loss: 1.0262 - val_accuracy: 0.5473\n",
            "Epoch 25/100\n",
            "9/9 [==============================] - 0s 8ms/step - loss: 0.9293 - accuracy: 0.6218 - val_loss: 0.9976 - val_accuracy: 0.5549\n",
            "Epoch 26/100\n",
            "9/9 [==============================] - 0s 7ms/step - loss: 0.9266 - accuracy: 0.6172 - val_loss: 1.0056 - val_accuracy: 0.5568\n",
            "Epoch 27/100\n",
            "9/9 [==============================] - 0s 8ms/step - loss: 0.9248 - accuracy: 0.6246 - val_loss: 1.0072 - val_accuracy: 0.5530\n",
            "Epoch 28/100\n",
            "9/9 [==============================] - 0s 8ms/step - loss: 0.9226 - accuracy: 0.6265 - val_loss: 1.0194 - val_accuracy: 0.5549\n",
            "Epoch 29/100\n",
            "9/9 [==============================] - 0s 6ms/step - loss: 0.9219 - accuracy: 0.6162 - val_loss: 0.9828 - val_accuracy: 0.5606\n",
            "Epoch 30/100\n",
            "9/9 [==============================] - 0s 7ms/step - loss: 0.9200 - accuracy: 0.6275 - val_loss: 1.0036 - val_accuracy: 0.5587\n",
            "Epoch 31/100\n",
            "9/9 [==============================] - 0s 6ms/step - loss: 0.9140 - accuracy: 0.6228 - val_loss: 0.9954 - val_accuracy: 0.5511\n",
            "Epoch 32/100\n",
            "9/9 [==============================] - 0s 6ms/step - loss: 0.9105 - accuracy: 0.6218 - val_loss: 1.0334 - val_accuracy: 0.5455\n",
            "Epoch 33/100\n",
            "9/9 [==============================] - 0s 6ms/step - loss: 0.9133 - accuracy: 0.6265 - val_loss: 0.9828 - val_accuracy: 0.5530\n",
            "Epoch 34/100\n",
            "9/9 [==============================] - 0s 7ms/step - loss: 0.9097 - accuracy: 0.6265 - val_loss: 1.0179 - val_accuracy: 0.5455\n",
            "Epoch 35/100\n",
            "9/9 [==============================] - 0s 7ms/step - loss: 0.9087 - accuracy: 0.6246 - val_loss: 0.9868 - val_accuracy: 0.5606\n",
            "Epoch 36/100\n",
            "9/9 [==============================] - 0s 7ms/step - loss: 0.9040 - accuracy: 0.6275 - val_loss: 1.0432 - val_accuracy: 0.5398\n",
            "Epoch 37/100\n",
            "9/9 [==============================] - 0s 6ms/step - loss: 0.9050 - accuracy: 0.6284 - val_loss: 0.9713 - val_accuracy: 0.5606\n",
            "Epoch 38/100\n",
            "9/9 [==============================] - 0s 6ms/step - loss: 0.9112 - accuracy: 0.6265 - val_loss: 1.0106 - val_accuracy: 0.5436\n",
            "Epoch 39/100\n",
            "9/9 [==============================] - 0s 6ms/step - loss: 0.8994 - accuracy: 0.6303 - val_loss: 0.9885 - val_accuracy: 0.5492\n",
            "Epoch 40/100\n",
            "9/9 [==============================] - 0s 6ms/step - loss: 0.8957 - accuracy: 0.6303 - val_loss: 0.9878 - val_accuracy: 0.5455\n",
            "Epoch 41/100\n",
            "9/9 [==============================] - 0s 7ms/step - loss: 0.8962 - accuracy: 0.6312 - val_loss: 0.9932 - val_accuracy: 0.5492\n",
            "Epoch 42/100\n",
            "9/9 [==============================] - 0s 7ms/step - loss: 0.8932 - accuracy: 0.6359 - val_loss: 0.9753 - val_accuracy: 0.5511\n",
            "Epoch 43/100\n",
            "9/9 [==============================] - 0s 7ms/step - loss: 0.8926 - accuracy: 0.6312 - val_loss: 1.0085 - val_accuracy: 0.5530\n",
            "Epoch 44/100\n",
            "9/9 [==============================] - 0s 6ms/step - loss: 0.8902 - accuracy: 0.6387 - val_loss: 0.9810 - val_accuracy: 0.5568\n",
            "Epoch 45/100\n",
            "9/9 [==============================] - 0s 7ms/step - loss: 0.8887 - accuracy: 0.6312 - val_loss: 0.9772 - val_accuracy: 0.5549\n",
            "Epoch 46/100\n",
            "9/9 [==============================] - 0s 7ms/step - loss: 0.8896 - accuracy: 0.6293 - val_loss: 0.9836 - val_accuracy: 0.5568\n",
            "Epoch 47/100\n",
            "9/9 [==============================] - 0s 6ms/step - loss: 0.8867 - accuracy: 0.6331 - val_loss: 0.9839 - val_accuracy: 0.5492\n",
            "Epoch 48/100\n",
            "9/9 [==============================] - 0s 6ms/step - loss: 0.8925 - accuracy: 0.6340 - val_loss: 1.0224 - val_accuracy: 0.5360\n",
            "Epoch 49/100\n",
            "9/9 [==============================] - 0s 6ms/step - loss: 0.8886 - accuracy: 0.6349 - val_loss: 0.9741 - val_accuracy: 0.5587\n",
            "Epoch 50/100\n",
            "9/9 [==============================] - 0s 7ms/step - loss: 0.8818 - accuracy: 0.6377 - val_loss: 0.9949 - val_accuracy: 0.5530\n",
            "Epoch 51/100\n",
            "9/9 [==============================] - 0s 8ms/step - loss: 0.8807 - accuracy: 0.6265 - val_loss: 0.9883 - val_accuracy: 0.5625\n",
            "Epoch 52/100\n",
            "9/9 [==============================] - 0s 7ms/step - loss: 0.8794 - accuracy: 0.6433 - val_loss: 0.9853 - val_accuracy: 0.5473\n",
            "Epoch 53/100\n",
            "9/9 [==============================] - 0s 6ms/step - loss: 0.8852 - accuracy: 0.6349 - val_loss: 1.0133 - val_accuracy: 0.5568\n",
            "Epoch 54/100\n",
            "9/9 [==============================] - 0s 6ms/step - loss: 0.8813 - accuracy: 0.6349 - val_loss: 0.9706 - val_accuracy: 0.5625\n",
            "Epoch 55/100\n",
            "9/9 [==============================] - 0s 6ms/step - loss: 0.8807 - accuracy: 0.6405 - val_loss: 0.9875 - val_accuracy: 0.5587\n",
            "Epoch 56/100\n",
            "9/9 [==============================] - 0s 7ms/step - loss: 0.8782 - accuracy: 0.6368 - val_loss: 0.9706 - val_accuracy: 0.5530\n",
            "Epoch 57/100\n",
            "9/9 [==============================] - 0s 7ms/step - loss: 0.8865 - accuracy: 0.6377 - val_loss: 1.0526 - val_accuracy: 0.5227\n",
            "Epoch 58/100\n",
            "9/9 [==============================] - 0s 7ms/step - loss: 0.8845 - accuracy: 0.6489 - val_loss: 0.9675 - val_accuracy: 0.5568\n",
            "Epoch 59/100\n",
            "9/9 [==============================] - 0s 8ms/step - loss: 0.8766 - accuracy: 0.6396 - val_loss: 0.9999 - val_accuracy: 0.5473\n",
            "Epoch 60/100\n",
            "9/9 [==============================] - 0s 7ms/step - loss: 0.8727 - accuracy: 0.6387 - val_loss: 0.9933 - val_accuracy: 0.5568\n",
            "Epoch 61/100\n",
            "9/9 [==============================] - 0s 8ms/step - loss: 0.8806 - accuracy: 0.6424 - val_loss: 0.9663 - val_accuracy: 0.5644\n",
            "Epoch 62/100\n",
            "9/9 [==============================] - 0s 6ms/step - loss: 0.8738 - accuracy: 0.6480 - val_loss: 1.0067 - val_accuracy: 0.5549\n",
            "Epoch 63/100\n",
            "9/9 [==============================] - 0s 7ms/step - loss: 0.8762 - accuracy: 0.6359 - val_loss: 1.0045 - val_accuracy: 0.5511\n",
            "Epoch 64/100\n",
            "9/9 [==============================] - 0s 6ms/step - loss: 0.8672 - accuracy: 0.6424 - val_loss: 0.9659 - val_accuracy: 0.5549\n",
            "Epoch 65/100\n",
            "9/9 [==============================] - 0s 7ms/step - loss: 0.8675 - accuracy: 0.6461 - val_loss: 0.9980 - val_accuracy: 0.5530\n",
            "Epoch 66/100\n",
            "9/9 [==============================] - 0s 6ms/step - loss: 0.8640 - accuracy: 0.6461 - val_loss: 0.9890 - val_accuracy: 0.5587\n",
            "Epoch 67/100\n",
            "9/9 [==============================] - 0s 6ms/step - loss: 0.8651 - accuracy: 0.6415 - val_loss: 0.9717 - val_accuracy: 0.5606\n",
            "Epoch 68/100\n",
            "9/9 [==============================] - 0s 6ms/step - loss: 0.8609 - accuracy: 0.6508 - val_loss: 1.0345 - val_accuracy: 0.5152\n",
            "Epoch 69/100\n",
            "9/9 [==============================] - 0s 6ms/step - loss: 0.8683 - accuracy: 0.6405 - val_loss: 0.9625 - val_accuracy: 0.5568\n",
            "Epoch 70/100\n",
            "9/9 [==============================] - 0s 6ms/step - loss: 0.8589 - accuracy: 0.6527 - val_loss: 1.0350 - val_accuracy: 0.5360\n",
            "Epoch 71/100\n",
            "9/9 [==============================] - 0s 6ms/step - loss: 0.8671 - accuracy: 0.6461 - val_loss: 0.9657 - val_accuracy: 0.5606\n",
            "Epoch 72/100\n",
            "9/9 [==============================] - 0s 6ms/step - loss: 0.8577 - accuracy: 0.6555 - val_loss: 0.9938 - val_accuracy: 0.5568\n",
            "Epoch 73/100\n",
            "9/9 [==============================] - 0s 6ms/step - loss: 0.8636 - accuracy: 0.6489 - val_loss: 1.0203 - val_accuracy: 0.5492\n",
            "Epoch 74/100\n",
            "9/9 [==============================] - 0s 6ms/step - loss: 0.8621 - accuracy: 0.6499 - val_loss: 0.9674 - val_accuracy: 0.5644\n",
            "Epoch 75/100\n",
            "9/9 [==============================] - 0s 8ms/step - loss: 0.8573 - accuracy: 0.6471 - val_loss: 0.9972 - val_accuracy: 0.5568\n",
            "Epoch 76/100\n",
            "9/9 [==============================] - 0s 6ms/step - loss: 0.8523 - accuracy: 0.6480 - val_loss: 0.9888 - val_accuracy: 0.5644\n",
            "Epoch 77/100\n",
            "9/9 [==============================] - 0s 7ms/step - loss: 0.8523 - accuracy: 0.6536 - val_loss: 0.9760 - val_accuracy: 0.5492\n",
            "Epoch 78/100\n",
            "9/9 [==============================] - 0s 6ms/step - loss: 0.8533 - accuracy: 0.6573 - val_loss: 0.9854 - val_accuracy: 0.5530\n",
            "Epoch 79/100\n",
            "9/9 [==============================] - 0s 8ms/step - loss: 0.8515 - accuracy: 0.6471 - val_loss: 1.0450 - val_accuracy: 0.5265\n",
            "Epoch 80/100\n",
            "9/9 [==============================] - 0s 7ms/step - loss: 0.8631 - accuracy: 0.6405 - val_loss: 0.9602 - val_accuracy: 0.5568\n",
            "Epoch 81/100\n",
            "9/9 [==============================] - 0s 7ms/step - loss: 0.8516 - accuracy: 0.6555 - val_loss: 0.9894 - val_accuracy: 0.5587\n",
            "Epoch 82/100\n",
            "9/9 [==============================] - 0s 6ms/step - loss: 0.8441 - accuracy: 0.6517 - val_loss: 0.9773 - val_accuracy: 0.5473\n",
            "Epoch 83/100\n",
            "9/9 [==============================] - 0s 7ms/step - loss: 0.8449 - accuracy: 0.6545 - val_loss: 0.9958 - val_accuracy: 0.5492\n",
            "Epoch 84/100\n",
            "9/9 [==============================] - 0s 8ms/step - loss: 0.8470 - accuracy: 0.6545 - val_loss: 0.9725 - val_accuracy: 0.5606\n",
            "Epoch 85/100\n",
            "9/9 [==============================] - 0s 6ms/step - loss: 0.8421 - accuracy: 0.6517 - val_loss: 1.0314 - val_accuracy: 0.5360\n",
            "Epoch 86/100\n",
            "9/9 [==============================] - 0s 6ms/step - loss: 0.8487 - accuracy: 0.6564 - val_loss: 0.9635 - val_accuracy: 0.5568\n",
            "Epoch 87/100\n",
            "9/9 [==============================] - 0s 7ms/step - loss: 0.8424 - accuracy: 0.6536 - val_loss: 0.9976 - val_accuracy: 0.5606\n",
            "Epoch 88/100\n",
            "9/9 [==============================] - 0s 7ms/step - loss: 0.8428 - accuracy: 0.6480 - val_loss: 1.0298 - val_accuracy: 0.5379\n",
            "Epoch 89/100\n",
            "9/9 [==============================] - 0s 8ms/step - loss: 0.8507 - accuracy: 0.6573 - val_loss: 0.9653 - val_accuracy: 0.5606\n",
            "Epoch 90/100\n",
            "9/9 [==============================] - 0s 8ms/step - loss: 0.8370 - accuracy: 0.6555 - val_loss: 1.0032 - val_accuracy: 0.5606\n",
            "Epoch 91/100\n",
            "9/9 [==============================] - 0s 9ms/step - loss: 0.8347 - accuracy: 0.6545 - val_loss: 0.9731 - val_accuracy: 0.5644\n",
            "Epoch 92/100\n",
            "9/9 [==============================] - 0s 7ms/step - loss: 0.8341 - accuracy: 0.6592 - val_loss: 1.0084 - val_accuracy: 0.5568\n",
            "Epoch 93/100\n",
            "9/9 [==============================] - 0s 6ms/step - loss: 0.8362 - accuracy: 0.6545 - val_loss: 0.9811 - val_accuracy: 0.5530\n",
            "Epoch 94/100\n",
            "9/9 [==============================] - 0s 6ms/step - loss: 0.8329 - accuracy: 0.6536 - val_loss: 1.0090 - val_accuracy: 0.5530\n",
            "Epoch 95/100\n",
            "9/9 [==============================] - 0s 6ms/step - loss: 0.8343 - accuracy: 0.6564 - val_loss: 0.9764 - val_accuracy: 0.5625\n",
            "Epoch 96/100\n",
            "9/9 [==============================] - 0s 6ms/step - loss: 0.8379 - accuracy: 0.6545 - val_loss: 1.0667 - val_accuracy: 0.5246\n",
            "Epoch 97/100\n",
            "9/9 [==============================] - 0s 7ms/step - loss: 0.8483 - accuracy: 0.6489 - val_loss: 0.9696 - val_accuracy: 0.5606\n",
            "Epoch 98/100\n",
            "9/9 [==============================] - 0s 6ms/step - loss: 0.8330 - accuracy: 0.6639 - val_loss: 0.9955 - val_accuracy: 0.5549\n",
            "Epoch 99/100\n",
            "9/9 [==============================] - 0s 6ms/step - loss: 0.8308 - accuracy: 0.6573 - val_loss: 1.0512 - val_accuracy: 0.5265\n",
            "Epoch 100/100\n",
            "9/9 [==============================] - 0s 6ms/step - loss: 0.8408 - accuracy: 0.6555 - val_loss: 0.9670 - val_accuracy: 0.5606\n"
          ]
        }
      ]
    },
    {
      "cell_type": "markdown",
      "source": [
        "# 2) Define a linear model\n",
        "\n",
        "Now define a linear model appropriate for this task. Pay attention to how many inputs and outputs the model should have."
      ],
      "metadata": {
        "id": "CEEa85Xzm4qH"
      }
    },
    {
      "cell_type": "code",
      "source": [
        "model.summary()"
      ],
      "metadata": {
        "execution": {
          "iopub.status.busy": "2022-04-01T09:57:19.225295Z",
          "iopub.execute_input": "2022-04-01T09:57:19.225843Z",
          "iopub.status.idle": "2022-04-01T09:57:19.237548Z",
          "shell.execute_reply.started": "2022-04-01T09:57:19.225808Z",
          "shell.execute_reply": "2022-04-01T09:57:19.236685Z"
        },
        "trusted": true,
        "id": "RwuUB91vm4qI"
      },
      "execution_count": null,
      "outputs": []
    },
    {
      "cell_type": "code",
      "source": [
        ""
      ],
      "metadata": {
        "id": "JtcpDvZWE-ce"
      },
      "execution_count": null,
      "outputs": []
    },
    {
      "cell_type": "code",
      "source": [
        "import pandas as pd\n",
        "\n",
        "# convert the training history to a dataframe\n",
        "history_df = pd.DataFrame(history.history)\n",
        "# use Pandas native plot method\n",
        "history_df.loc[0:100,['loss','val_loss']].plot()"
      ],
      "metadata": {
        "id": "i6FtZdYSoj2l",
        "outputId": "f7b29534-2f47-4fc4-bfc2-bcb4f412e2bc",
        "colab": {
          "base_uri": "https://localhost:8080/",
          "height": 283
        }
      },
      "execution_count": 13,
      "outputs": [
        {
          "output_type": "execute_result",
          "data": {
            "text/plain": [
              "<matplotlib.axes._subplots.AxesSubplot at 0x7fdc0455b510>"
            ]
          },
          "metadata": {},
          "execution_count": 13
        },
        {
          "output_type": "display_data",
          "data": {
            "text/plain": [
              "<Figure size 432x288 with 1 Axes>"
            ],
            "image/png": "[encoded data removed]"
          },
          "metadata": {
            "needs_background": "light"
          }
        }
      ]
    },
    {
      "cell_type": "code",
      "source": [
        "plt.plot(history.history['accuracy'], label='Accuracy training data')\n",
        "plt.plot(history.history['val_accuracy'], label='Accuracy validation data')\n",
        "plt.legend()\n",
        "plt.title('Model accuracy')\n",
        "plt.ylabel('Accuracy')\n",
        "plt.xlabel('epoch')\n",
        "plt.show()"
      ],
      "metadata": {
        "id": "BvlQAgyVmDFk",
        "outputId": "86ba8624-0471-402f-b459-aaf80c0e19ef",
        "colab": {
          "base_uri": "https://localhost:8080/",
          "height": 295
        }
      },
      "execution_count": 14,
      "outputs": [
        {
          "output_type": "display_data",
          "data": {
            "text/plain": [
              "<Figure size 432x288 with 1 Axes>"
            ],
            "image/png": "[encoded data removed]"
          },
          "metadata": {
            "needs_background": "light"
          }
        }
      ]
    },
    {
      "cell_type": "code",
      "source": [
        "# mse_value, mae_value = model.evaluate(X_test, y_test, verbose=0)\n",
        "\n",
        "# print(mse_value)"
      ],
      "metadata": {
        "id": "EDO4vhapE_bi"
      },
      "execution_count": null,
      "outputs": []
    },
    {
      "cell_type": "code",
      "source": [
        "y_pred = model.predict(X_test)"
      ],
      "metadata": {
        "id": "8HIcDR9tFCWg",
        "outputId": "82a84981-6696-4aee-97f5-272e2547dc92",
        "colab": {
          "base_uri": "https://localhost:8080/"
        }
      },
      "execution_count": 15,
      "outputs": [
        {
          "output_type": "stream",
          "name": "stdout",
          "text": [
            "17/17 [==============================] - 0s 4ms/step\n"
          ]
        }
      ]
    },
    {
      "cell_type": "code",
      "source": [
        "y_pred[0]"
      ],
      "metadata": {
        "id": "WNigXt_kFIvR",
        "outputId": "f2e2ddfb-1737-4b54-c477-0b527a900d82",
        "colab": {
          "base_uri": "https://localhost:8080/"
        }
      },
      "execution_count": 16,
      "outputs": [
        {
          "output_type": "execute_result",
          "data": {
            "text/plain": [
              "array([0.00233455, 0.01443571, 0.5006382 , 0.46040484, 0.02156614,\n",
              "       0.0006205 ], dtype=float32)"
            ]
          },
          "metadata": {},
          "execution_count": 16
        }
      ]
    },
    {
      "cell_type": "code",
      "source": [
        "y_test"
      ],
      "metadata": {
        "id": "vY0bATdwFQW4"
      },
      "execution_count": null,
      "outputs": []
    },
    {
      "cell_type": "code",
      "source": [
        "# preds = model.evaluate(x = X_test, y = y_test)\n",
        "# print()\n",
        "# print (\"Loss = \" + str(preds[0]))\n",
        "# print (\"Test Accuracy = \" + str(preds[1]))"
      ],
      "metadata": {
        "id": "s98Y7l7Z9plw"
      },
      "execution_count": null,
      "outputs": []
    },
    {
      "cell_type": "code",
      "source": [
        "# from sklearn.metrics import r2_score\n",
        "\n",
        "# r2_score(y_test, y_pred)"
      ],
      "metadata": {
        "id": "kdEqEiKzFG3F"
      },
      "execution_count": null,
      "outputs": []
    },
    {
      "cell_type": "code",
      "source": [
        ""
      ],
      "metadata": {
        "id": "_zHbOSoYCvCZ"
      },
      "execution_count": null,
      "outputs": []
    },
    {
      "cell_type": "markdown",
      "source": [
        "https://www.tensorflow.org/datasets/catalog/wine_quality"
      ],
      "metadata": {
        "id": "fempb8HMCvlY"
      }
    },
    {
      "cell_type": "markdown",
      "source": [
        "Creating new features¶\n",
        "\n",
        "Creating new features from existing features is also an important step to check if it improves the accuracy or even correlation with our dependent variable. After little research, I came up with the following new features:\n",
        "\n",
        "total_acidity - Sum of fixed and volatile acidity. [fixed acidity + volatile acidity]\n",
        "total_acidity_citric - I learnt that citric acid is a type of titratable or total acid, so i thought maybe i should add that too in total acidity?. Or else let's just create a new feature for that! [fixed acidity + volatile acidity + citric acid]\n",
        "bound_sulphur_dioxide - total sulphur dioxide is actually a sum of bound(fixed) SO2 and free sulphur dioxide. [total sulphur dioxide - free sulphur dioxide]\n",
        "org_minus_final_SG -\n",
        "%alcohol(byvolume)=OriginalSpecificGravity−FinalSpecificGravity7.36×1000\n",
        " \n",
        "Fun fact: Coke has about the same level of sugar, at 108 g/L, as some of the sweetest dessert wines!"
      ],
      "metadata": {
        "id": "ECOEMhxoCdOn"
      }
    },
    {
      "cell_type": "code",
      "source": [
        "dataset_additional = data.copy()\n",
        "\n",
        "dataset_additional['total_acidity'] = dataset_additional['fixed acidity'] + dataset_additional['volatile acidity']\n",
        "dataset_additional['total_acidity_citric'] = dataset_additional['total_acidity'] + dataset_additional['citric acid']\n",
        "dataset_additional['bound_sulphur_dioxide'] = dataset_additional['total sulfur dioxide'] - dataset_additional['free sulfur dioxide']\n",
        "dataset_additional['org_minus_fail_SG'] = (dataset_additional['alcohol'] * 7.36)/1000"
      ],
      "metadata": {
        "id": "vgZrqhcTCajR"
      },
      "execution_count": null,
      "outputs": []
    }
  ]
}