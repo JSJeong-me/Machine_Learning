{
  "metadata": {
    "kernelspec": {
      "language": "python",
      "display_name": "Python 3",
      "name": "python3"
    },
    "language_info": {
      "name": "python",
      "version": "3.7.12",
      "mimetype": "text/x-python",
      "codemirror_mode": {
        "name": "ipython",
        "version": 3
      },
      "pygments_lexer": "ipython3",
      "nbconvert_exporter": "python",
      "file_extension": ".py"
    },
    "colab": {
      "name": "notebook0fdae1b397.ipynb",
      "provenance": [],
      "include_colab_link": true
    },
    "accelerator": "GPU",
    "gpuClass": "standard"
  },
  "nbformat_minor": 0,
  "nbformat": 4,
  "cells": [
    {
      "cell_type": "markdown",
      "metadata": {
        "id": "view-in-github",
        "colab_type": "text"
      },
      "source": [
        "<a href=\"https://colab.research.google.com/github/JSJeong-me/Machine_Learning/blob/main/ML/6_wine_0816_classfication.ipynb\" target=\"_parent\"><img src=\"https://colab.research.google.com/assets/colab-badge.svg\" alt=\"Open In Colab\"/></a>"
      ]
    },
    {
      "cell_type": "markdown",
      "source": [
        "**This notebook is an exercise in the [Intro to Deep Learning](https://www.kaggle.com/learn/intro-to-deep-learning) course.  You can reference the tutorial at [this link](https://www.kaggle.com/ryanholbrook/a-single-neuron).**\n",
        "\n",
        "---\n"
      ],
      "metadata": {
        "id": "3mUBPSlwm4qA"
      }
    },
    {
      "cell_type": "markdown",
      "source": [
        "# Introduction #\n",
        "\n",
        "In the tutorial we learned about the building blocks of neural networks: *linear units*. We saw that a model of just one linear unit will fit a linear function to a dataset (equivalent to linear regression). In this exercise, you'll build a linear model and get some practice working with models in Keras.\n",
        "\n",
        "Before you get started, run the code cell below to set everything up."
      ],
      "metadata": {
        "id": "lu_BKhPIm4qE"
      }
    },
    {
      "cell_type": "markdown",
      "source": [
        "The *Red Wine Quality* dataset consists of physiochemical measurements from about 1600 Portuguese red wines.  Also included is a quality rating for each wine from blind taste-tests. \n",
        "\n",
        "First, run the next cell to display the first few rows of this dataset."
      ],
      "metadata": {
        "id": "beV27Dokm4qF"
      }
    },
    {
      "cell_type": "code",
      "source": [
        "import pandas as pd\n",
        "from IPython.display import display\n",
        "\n",
        "red_wine = pd.read_csv('winequality-red.csv')"
      ],
      "metadata": {
        "id": "oOsO38pc7e7i"
      },
      "execution_count": 1,
      "outputs": []
    },
    {
      "cell_type": "code",
      "source": [
        "import seaborn as sns\n",
        "import matplotlib.pyplot as plt\n",
        "\n",
        "corr = red_wine.corr()\n",
        "sns.heatmap(corr, xticklabels = corr.columns.values,\n",
        "           yticklabels=corr.columns.values)"
      ],
      "metadata": {
        "id": "hU_Cz8VsGJ2I",
        "outputId": "867c4e96-4be8-490a-c62b-bb1653d5ac29",
        "colab": {
          "base_uri": "https://localhost:8080/",
          "height": 371
        }
      },
      "execution_count": 2,
      "outputs": [
        {
          "output_type": "execute_result",
          "data": {
            "text/plain": [
              "<matplotlib.axes._subplots.AxesSubplot at 0x7fc48bff5550>"
            ]
          },
          "metadata": {},
          "execution_count": 2
        },
        {
          "output_type": "display_data",
          "data": {
            "text/plain": [
              "<Figure size 432x288 with 2 Axes>"
            ],
            "image/png": "[encoded data removed]"
          },
          "metadata": {
            "needs_background": "light"
          }
        }
      ]
    },
    {
      "cell_type": "code",
      "source": [
        "red_wine['quality'].hist()"
      ],
      "metadata": {
        "id": "Ptu1qMbdGThJ",
        "outputId": "ce96e6d7-5981-4911-f9ab-cf47f87d10dd",
        "colab": {
          "base_uri": "https://localhost:8080/",
          "height": 283
        }
      },
      "execution_count": 3,
      "outputs": [
        {
          "output_type": "execute_result",
          "data": {
            "text/plain": [
              "<matplotlib.axes._subplots.AxesSubplot at 0x7fc498362350>"
            ]
          },
          "metadata": {},
          "execution_count": 3
        },
        {
          "output_type": "display_data",
          "data": {
            "text/plain": [
              "<Figure size 432x288 with 1 Axes>"
            ],
            "image/png": "[encoded data removed]"
          },
          "metadata": {
            "needs_background": "light"
          }
        }
      ]
    },
    {
      "cell_type": "code",
      "source": [
        "from sklearn.preprocessing import LabelEncoder"
      ],
      "metadata": {
        "id": "mtKMerWbRjIR"
      },
      "execution_count": 4,
      "outputs": []
    },
    {
      "cell_type": "code",
      "source": [
        "from tensorflow.keras.utils import to_categorical"
      ],
      "metadata": {
        "id": "-acIjliIRsFf"
      },
      "execution_count": 5,
      "outputs": []
    },
    {
      "cell_type": "code",
      "source": [
        "from sklearn.model_selection import train_test_split\n",
        "\n",
        "X = red_wine.iloc[:,0:11]\n",
        "y = red_wine['quality']\n",
        "\n",
        "le = LabelEncoder()\n",
        "y = le.fit_transform(y)\n",
        "  \n",
        "\n",
        "X_train, X_test, y_train, y_test = train_test_split(X,\n",
        "                                                  y,\n",
        "                                                  test_size=0.33,\n",
        "                                                  random_state = 42)\n",
        "\n",
        "y_train_cat = to_categorical(y_train,6)\n",
        "y_test_cat = to_categorical(y_test, 6)"
      ],
      "metadata": {
        "id": "7Hd3WHYI7hHy"
      },
      "execution_count": 6,
      "outputs": []
    },
    {
      "cell_type": "code",
      "source": [
        "# Scale to [0, 1]\n",
        "# max_ = df_train.max(axis=0)\n",
        "# min_ = df_train.min(axis=0)\n",
        "# df_train = (df_train - min_) / (max_ - min_)\n",
        "# df_valid = (df_valid - min_) / (max_ - min_)"
      ],
      "metadata": {
        "id": "JVfWAkMg7jJx"
      },
      "execution_count": 7,
      "outputs": []
    },
    {
      "cell_type": "code",
      "source": [
        "from sklearn.preprocessing import MinMaxScaler"
      ],
      "metadata": {
        "id": "FpenQQuDEIsD"
      },
      "execution_count": 8,
      "outputs": []
    },
    {
      "cell_type": "code",
      "source": [
        "scaler = MinMaxScaler(feature_range=(0, 1))"
      ],
      "metadata": {
        "id": "7sr2sEcQEDiZ"
      },
      "execution_count": 9,
      "outputs": []
    },
    {
      "cell_type": "code",
      "source": [
        "X_train = scaler.fit_transform(X_train)\n",
        "X_train = pd.DataFrame(X_train)\n",
        "\n",
        "X_test = scaler.fit_transform(X_test)\n",
        "X_test = pd.DataFrame(X_test)"
      ],
      "metadata": {
        "id": "ENslQb-rERTF"
      },
      "execution_count": 10,
      "outputs": []
    },
    {
      "cell_type": "code",
      "source": [
        ""
      ],
      "metadata": {
        "id": "5fLa53NrEU8X"
      },
      "execution_count": 10,
      "outputs": []
    },
    {
      "cell_type": "code",
      "source": [
        "red_wine.describe()"
      ],
      "metadata": {
        "execution": {
          "iopub.status.busy": "2022-04-01T09:57:19.076902Z",
          "iopub.execute_input": "2022-04-01T09:57:19.077158Z",
          "iopub.status.idle": "2022-04-01T09:57:19.124183Z",
          "shell.execute_reply.started": "2022-04-01T09:57:19.077129Z",
          "shell.execute_reply": "2022-04-01T09:57:19.123278Z"
        },
        "trusted": true,
        "id": "v8bGY_i3m4qG",
        "outputId": "a7c4f079-cf5b-4b36-dbc5-33117ac3867f",
        "colab": {
          "base_uri": "https://localhost:8080/",
          "height": 379
        }
      },
      "execution_count": 11,
      "outputs": [
        {
          "output_type": "execute_result",
          "data": {
            "text/plain": [
              "       fixed acidity  volatile acidity  citric acid  residual sugar  \\\n",
              "count    1599.000000       1599.000000  1599.000000     1599.000000   \n",
              "mean        8.319637          0.527821     0.270976        2.538806   \n",
              "std         1.741096          0.179060     0.194801        1.409928   \n",
              "min         4.600000          0.120000     0.000000        0.900000   \n",
              "25%         7.100000          0.390000     0.090000        1.900000   \n",
              "50%         7.900000          0.520000     0.260000        2.200000   \n",
              "75%         9.200000          0.640000     0.420000        2.600000   \n",
              "max        15.900000          1.580000     1.000000       15.500000   \n",
              "\n",
              "         chlorides  free sulfur dioxide  total sulfur dioxide      density  \\\n",
              "count  1599.000000          1599.000000           1599.000000  1599.000000   \n",
              "mean      0.087467            15.874922             46.467792     0.996747   \n",
              "std       0.047065            10.460157             32.895324     0.001887   \n",
              "min       0.012000             1.000000              6.000000     0.990070   \n",
              "25%       0.070000             7.000000             22.000000     0.995600   \n",
              "50%       0.079000            14.000000             38.000000     0.996750   \n",
              "75%       0.090000            21.000000             62.000000     0.997835   \n",
              "max       0.611000            72.000000            289.000000     1.003690   \n",
              "\n",
              "                pH    sulphates      alcohol      quality  \n",
              "count  1599.000000  1599.000000  1599.000000  1599.000000  \n",
              "mean      3.311113     0.658149    10.422983     5.636023  \n",
              "std       0.154386     0.169507     1.065668     0.807569  \n",
              "min       2.740000     0.330000     8.400000     3.000000  \n",
              "25%       3.210000     0.550000     9.500000     5.000000  \n",
              "50%       3.310000     0.620000    10.200000     6.000000  \n",
              "75%       3.400000     0.730000    11.100000     6.000000  \n",
              "max       4.010000     2.000000    14.900000     8.000000  "
            ],
            "text/html": [
              "\n",
              "  <div id=\"df-0cd2b39f-6701-4d2f-829c-d4df72e12154\">\n",
              "    <div class=\"colab-df-container\">\n",
              "      <div>\n",
              "<style scoped>\n",
              "    .dataframe tbody tr th:only-of-type {\n",
              "        vertical-align: middle;\n",
              "    }\n",
              "\n",
              "    .dataframe tbody tr th {\n",
              "        vertical-align: top;\n",
              "    }\n",
              "\n",
              "    .dataframe thead th {\n",
              "        text-align: right;\n",
              "    }\n",
              "</style>\n",
              "<table border=\"1\" class=\"dataframe\">\n",
              "  <thead>\n",
              "    <tr style=\"text-align: right;\">\n",
              "      <th></th>\n",
              "      <th>fixed acidity</th>\n",
              "      <th>volatile acidity</th>\n",
              "      <th>citric acid</th>\n",
              "      <th>residual sugar</th>\n",
              "      <th>chlorides</th>\n",
              "      <th>free sulfur dioxide</th>\n",
              "      <th>total sulfur dioxide</th>\n",
              "      <th>density</th>\n",
              "      <th>pH</th>\n",
              "      <th>sulphates</th>\n",
              "      <th>alcohol</th>\n",
              "      <th>quality</th>\n",
              "    </tr>\n",
              "  </thead>\n",
              "  <tbody>\n",
              "    <tr>\n",
              "      <th>count</th>\n",
              "      <td>1599.000000</td>\n",
              "      <td>1599.000000</td>\n",
              "      <td>1599.000000</td>\n",
              "      <td>1599.000000</td>\n",
              "      <td>1599.000000</td>\n",
              "      <td>1599.000000</td>\n",
              "      <td>1599.000000</td>\n",
              "      <td>1599.000000</td>\n",
              "      <td>1599.000000</td>\n",
              "      <td>1599.000000</td>\n",
              "      <td>1599.000000</td>\n",
              "      <td>1599.000000</td>\n",
              "    </tr>\n",
              "    <tr>\n",
              "      <th>mean</th>\n",
              "      <td>8.319637</td>\n",
              "      <td>0.527821</td>\n",
              "      <td>0.270976</td>\n",
              "      <td>2.538806</td>\n",
              "      <td>0.087467</td>\n",
              "      <td>15.874922</td>\n",
              "      <td>46.467792</td>\n",
              "      <td>0.996747</td>\n",
              "      <td>3.311113</td>\n",
              "      <td>0.658149</td>\n",
              "      <td>10.422983</td>\n",
              "      <td>5.636023</td>\n",
              "    </tr>\n",
              "    <tr>\n",
              "      <th>std</th>\n",
              "      <td>1.741096</td>\n",
              "      <td>0.179060</td>\n",
              "      <td>0.194801</td>\n",
              "      <td>1.409928</td>\n",
              "      <td>0.047065</td>\n",
              "      <td>10.460157</td>\n",
              "      <td>32.895324</td>\n",
              "      <td>0.001887</td>\n",
              "      <td>0.154386</td>\n",
              "      <td>0.169507</td>\n",
              "      <td>1.065668</td>\n",
              "      <td>0.807569</td>\n",
              "    </tr>\n",
              "    <tr>\n",
              "      <th>min</th>\n",
              "      <td>4.600000</td>\n",
              "      <td>0.120000</td>\n",
              "      <td>0.000000</td>\n",
              "      <td>0.900000</td>\n",
              "      <td>0.012000</td>\n",
              "      <td>1.000000</td>\n",
              "      <td>6.000000</td>\n",
              "      <td>0.990070</td>\n",
              "      <td>2.740000</td>\n",
              "      <td>0.330000</td>\n",
              "      <td>8.400000</td>\n",
              "      <td>3.000000</td>\n",
              "    </tr>\n",
              "    <tr>\n",
              "      <th>25%</th>\n",
              "      <td>7.100000</td>\n",
              "      <td>0.390000</td>\n",
              "      <td>0.090000</td>\n",
              "      <td>1.900000</td>\n",
              "      <td>0.070000</td>\n",
              "      <td>7.000000</td>\n",
              "      <td>22.000000</td>\n",
              "      <td>0.995600</td>\n",
              "      <td>3.210000</td>\n",
              "      <td>0.550000</td>\n",
              "      <td>9.500000</td>\n",
              "      <td>5.000000</td>\n",
              "    </tr>\n",
              "    <tr>\n",
              "      <th>50%</th>\n",
              "      <td>7.900000</td>\n",
              "      <td>0.520000</td>\n",
              "      <td>0.260000</td>\n",
              "      <td>2.200000</td>\n",
              "      <td>0.079000</td>\n",
              "      <td>14.000000</td>\n",
              "      <td>38.000000</td>\n",
              "      <td>0.996750</td>\n",
              "      <td>3.310000</td>\n",
              "      <td>0.620000</td>\n",
              "      <td>10.200000</td>\n",
              "      <td>6.000000</td>\n",
              "    </tr>\n",
              "    <tr>\n",
              "      <th>75%</th>\n",
              "      <td>9.200000</td>\n",
              "      <td>0.640000</td>\n",
              "      <td>0.420000</td>\n",
              "      <td>2.600000</td>\n",
              "      <td>0.090000</td>\n",
              "      <td>21.000000</td>\n",
              "      <td>62.000000</td>\n",
              "      <td>0.997835</td>\n",
              "      <td>3.400000</td>\n",
              "      <td>0.730000</td>\n",
              "      <td>11.100000</td>\n",
              "      <td>6.000000</td>\n",
              "    </tr>\n",
              "    <tr>\n",
              "      <th>max</th>\n",
              "      <td>15.900000</td>\n",
              "      <td>1.580000</td>\n",
              "      <td>1.000000</td>\n",
              "      <td>15.500000</td>\n",
              "      <td>0.611000</td>\n",
              "      <td>72.000000</td>\n",
              "      <td>289.000000</td>\n",
              "      <td>1.003690</td>\n",
              "      <td>4.010000</td>\n",
              "      <td>2.000000</td>\n",
              "      <td>14.900000</td>\n",
              "      <td>8.000000</td>\n",
              "    </tr>\n",
              "  </tbody>\n",
              "</table>\n",
              "</div>\n",
              "      <button class=\"colab-df-convert\" onclick=\"convertToInteractive('df-0cd2b39f-6701-4d2f-829c-d4df72e12154')\"\n",
              "              title=\"Convert this dataframe to an interactive table.\"\n",
              "              style=\"display:none;\">\n",
              "        \n",
              "  <svg xmlns=\"http://www.w3.org/2000/svg\" height=\"24px\"viewBox=\"0 0 24 24\"\n",
              "       width=\"24px\">\n",
              "    <path d=\"M0 0h24v24H0V0z\" fill=\"none\"/>\n",
              "    <path d=\"M18.56 5.44l.94 2.06.94-2.06 2.06-.94-2.06-.94-.94-2.06-.94 2.06-2.06.94zm-11 1L8.5 8.5l.94-2.06 2.06-.94-2.06-.94L8.5 2.5l-.94 2.06-2.06.94zm10 10l.94 2.06.94-2.06 2.06-.94-2.06-.94-.94-2.06-.94 2.06-2.06.94z\"/><path d=\"M17.41 7.96l-1.37-1.37c-.4-.4-.92-.59-1.43-.59-.52 0-1.04.2-1.43.59L10.3 9.45l-7.72 7.72c-.78.78-.78 2.05 0 2.83L4 21.41c.39.39.9.59 1.41.59.51 0 1.02-.2 1.41-.59l7.78-7.78 2.81-2.81c.8-.78.8-2.07 0-2.86zM5.41 20L4 18.59l7.72-7.72 1.47 1.35L5.41 20z\"/>\n",
              "  </svg>\n",
              "      </button>\n",
              "      \n",
              "  <style>\n",
              "    .colab-df-container {\n",
              "      display:flex;\n",
              "      flex-wrap:wrap;\n",
              "      gap: 12px;\n",
              "    }\n",
              "\n",
              "    .colab-df-convert {\n",
              "      background-color: #E8F0FE;\n",
              "      border: none;\n",
              "      border-radius: 50%;\n",
              "      cursor: pointer;\n",
              "      display: none;\n",
              "      fill: #1967D2;\n",
              "      height: 32px;\n",
              "      padding: 0 0 0 0;\n",
              "      width: 32px;\n",
              "    }\n",
              "\n",
              "    .colab-df-convert:hover {\n",
              "      background-color: #E2EBFA;\n",
              "      box-shadow: 0px 1px 2px rgba(60, 64, 67, 0.3), 0px 1px 3px 1px rgba(60, 64, 67, 0.15);\n",
              "      fill: #174EA6;\n",
              "    }\n",
              "\n",
              "    [theme=dark] .colab-df-convert {\n",
              "      background-color: #3B4455;\n",
              "      fill: #D2E3FC;\n",
              "    }\n",
              "\n",
              "    [theme=dark] .colab-df-convert:hover {\n",
              "      background-color: #434B5C;\n",
              "      box-shadow: 0px 1px 3px 1px rgba(0, 0, 0, 0.15);\n",
              "      filter: drop-shadow(0px 1px 2px rgba(0, 0, 0, 0.3));\n",
              "      fill: #FFFFFF;\n",
              "    }\n",
              "  </style>\n",
              "\n",
              "      <script>\n",
              "        const buttonEl =\n",
              "          document.querySelector('#df-0cd2b39f-6701-4d2f-829c-d4df72e12154 button.colab-df-convert');\n",
              "        buttonEl.style.display =\n",
              "          google.colab.kernel.accessAllowed ? 'block' : 'none';\n",
              "\n",
              "        async function convertToInteractive(key) {\n",
              "          const element = document.querySelector('#df-0cd2b39f-6701-4d2f-829c-d4df72e12154');\n",
              "          const dataTable =\n",
              "            await google.colab.kernel.invokeFunction('convertToInteractive',\n",
              "                                                     [key], {});\n",
              "          if (!dataTable) return;\n",
              "\n",
              "          const docLinkHtml = 'Like what you see? Visit the ' +\n",
              "            '<a target=\"_blank\" href=https://colab.research.google.com/notebooks/data_table.ipynb>data table notebook</a>'\n",
              "            + ' to learn more about interactive tables.';\n",
              "          element.innerHTML = '';\n",
              "          dataTable['output_type'] = 'display_data';\n",
              "          await google.colab.output.renderOutput(dataTable, element);\n",
              "          const docLink = document.createElement('div');\n",
              "          docLink.innerHTML = docLinkHtml;\n",
              "          element.appendChild(docLink);\n",
              "        }\n",
              "      </script>\n",
              "    </div>\n",
              "  </div>\n",
              "  "
            ]
          },
          "metadata": {},
          "execution_count": 11
        }
      ]
    },
    {
      "cell_type": "code",
      "source": [
        "from tensorflow import keras\n",
        "from tensorflow.keras import layers, callbacks\n",
        "\n",
        "model = keras.Sequential([\n",
        "    layers.Dense(128, activation='relu', input_shape=[11]),\n",
        "    # layers.Dropout(rate=0.5),\n",
        "    # layers.BatchNormalization(),\n",
        "    layers.Dense(64, activation='relu'),\n",
        "    # layers.BatchNormalization(),\n",
        "    # layers.Dropout(rate=0.5),\n",
        "    layers.Dense(32, activation='relu'),\n",
        "    # layers.BatchNormalization(),\n",
        "    # layers.Dropout(rate=0.5),\n",
        "    layers.Dense(6, activation='sigmoid'),\n",
        "])"
      ],
      "metadata": {
        "execution": {
          "iopub.status.busy": "2022-04-01T09:57:19.125173Z",
          "iopub.execute_input": "2022-04-01T09:57:19.125378Z",
          "iopub.status.idle": "2022-04-01T09:57:19.144320Z",
          "shell.execute_reply.started": "2022-04-01T09:57:19.125351Z",
          "shell.execute_reply": "2022-04-01T09:57:19.143449Z"
        },
        "trusted": true,
        "id": "VLqpQWRfm4qH"
      },
      "execution_count": 12,
      "outputs": []
    },
    {
      "cell_type": "code",
      "source": [
        "# early_stopping = callbacks.EarlyStopping(\n",
        "#     min_delta=0.001, # minimium amount of change to count as an improvement\n",
        "#     patience=20, # how many epochs to wait before stopping\n",
        "#     restore_best_weights=True,\n",
        "# )"
      ],
      "metadata": {
        "id": "YRFXgvMVGnQ9"
      },
      "execution_count": 13,
      "outputs": []
    },
    {
      "cell_type": "code",
      "source": [
        "model.compile(\n",
        "    optimizer='adam',\n",
        "    loss='categorical_crossentropy', metrics=['accuracy']\n",
        ")"
      ],
      "metadata": {
        "execution": {
          "iopub.status.busy": "2022-04-01T09:57:19.145527Z",
          "iopub.execute_input": "2022-04-01T09:57:19.145858Z",
          "iopub.status.idle": "2022-04-01T09:57:19.154108Z",
          "shell.execute_reply.started": "2022-04-01T09:57:19.145830Z",
          "shell.execute_reply": "2022-04-01T09:57:19.153139Z"
        },
        "trusted": true,
        "id": "3eMdsFmAm4qH"
      },
      "execution_count": 14,
      "outputs": []
    },
    {
      "cell_type": "code",
      "source": [
        "history = model.fit(\n",
        "    X_train, y_train_cat,\n",
        "    validation_data = (X_test,y_test_cat),\n",
        "    batch_size=128,\n",
        "    # callbacks=[early_stopping],\n",
        "    epochs=100,\n",
        ")"
      ],
      "metadata": {
        "id": "7cgxvzRrryg3",
        "outputId": "cf9e6e8b-b798-467f-89d6-55741398bb70",
        "colab": {
          "base_uri": "https://localhost:8080/"
        }
      },
      "execution_count": 15,
      "outputs": [
        {
          "output_type": "stream",
          "name": "stdout",
          "text": [
            "Epoch 1/100\n",
            "9/9 [==============================] - 2s 59ms/step - loss: 1.7582 - accuracy: 0.2325 - val_loss: 1.7107 - val_accuracy: 0.4034\n",
            "Epoch 2/100\n",
            "9/9 [==============================] - 0s 10ms/step - loss: 1.6617 - accuracy: 0.3968 - val_loss: 1.5939 - val_accuracy: 0.4034\n",
            "Epoch 3/100\n",
            "9/9 [==============================] - 0s 13ms/step - loss: 1.5308 - accuracy: 0.3968 - val_loss: 1.4687 - val_accuracy: 0.4034\n",
            "Epoch 4/100\n",
            "9/9 [==============================] - 0s 10ms/step - loss: 1.4130 - accuracy: 0.3968 - val_loss: 1.3765 - val_accuracy: 0.4034\n",
            "Epoch 5/100\n",
            "9/9 [==============================] - 0s 12ms/step - loss: 1.3219 - accuracy: 0.3968 - val_loss: 1.2885 - val_accuracy: 0.4034\n",
            "Epoch 6/100\n",
            "9/9 [==============================] - 0s 15ms/step - loss: 1.2250 - accuracy: 0.3968 - val_loss: 1.2042 - val_accuracy: 0.4072\n",
            "Epoch 7/100\n",
            "9/9 [==============================] - 0s 14ms/step - loss: 1.1408 - accuracy: 0.5266 - val_loss: 1.1313 - val_accuracy: 0.5530\n",
            "Epoch 8/100\n",
            "9/9 [==============================] - 0s 10ms/step - loss: 1.0755 - accuracy: 0.5696 - val_loss: 1.0872 - val_accuracy: 0.5587\n",
            "Epoch 9/100\n",
            "9/9 [==============================] - 0s 10ms/step - loss: 1.0360 - accuracy: 0.5705 - val_loss: 1.0689 - val_accuracy: 0.5398\n",
            "Epoch 10/100\n",
            "9/9 [==============================] - 0s 10ms/step - loss: 1.0095 - accuracy: 0.5826 - val_loss: 1.0765 - val_accuracy: 0.5303\n",
            "Epoch 11/100\n",
            "9/9 [==============================] - 0s 9ms/step - loss: 0.9952 - accuracy: 0.5966 - val_loss: 1.0573 - val_accuracy: 0.5436\n",
            "Epoch 12/100\n",
            "9/9 [==============================] - 0s 9ms/step - loss: 0.9835 - accuracy: 0.5966 - val_loss: 1.0701 - val_accuracy: 0.5436\n",
            "Epoch 13/100\n",
            "9/9 [==============================] - 0s 15ms/step - loss: 0.9786 - accuracy: 0.6050 - val_loss: 1.0828 - val_accuracy: 0.5360\n",
            "Epoch 14/100\n",
            "9/9 [==============================] - 0s 9ms/step - loss: 0.9762 - accuracy: 0.6022 - val_loss: 1.0310 - val_accuracy: 0.5511\n",
            "Epoch 15/100\n",
            "9/9 [==============================] - 0s 11ms/step - loss: 0.9715 - accuracy: 0.6032 - val_loss: 1.0812 - val_accuracy: 0.5398\n",
            "Epoch 16/100\n",
            "9/9 [==============================] - 0s 12ms/step - loss: 0.9668 - accuracy: 0.5957 - val_loss: 1.0443 - val_accuracy: 0.5587\n",
            "Epoch 17/100\n",
            "9/9 [==============================] - 0s 10ms/step - loss: 0.9648 - accuracy: 0.6144 - val_loss: 1.0448 - val_accuracy: 0.5549\n",
            "Epoch 18/100\n",
            "9/9 [==============================] - 0s 10ms/step - loss: 0.9621 - accuracy: 0.6200 - val_loss: 1.0279 - val_accuracy: 0.5606\n",
            "Epoch 19/100\n",
            "9/9 [==============================] - 0s 10ms/step - loss: 0.9607 - accuracy: 0.6041 - val_loss: 1.0664 - val_accuracy: 0.5417\n",
            "Epoch 20/100\n",
            "9/9 [==============================] - 0s 9ms/step - loss: 0.9577 - accuracy: 0.6162 - val_loss: 1.0301 - val_accuracy: 0.5549\n",
            "Epoch 21/100\n",
            "9/9 [==============================] - 0s 15ms/step - loss: 0.9538 - accuracy: 0.6144 - val_loss: 1.0427 - val_accuracy: 0.5549\n",
            "Epoch 22/100\n",
            "9/9 [==============================] - 0s 17ms/step - loss: 0.9529 - accuracy: 0.6181 - val_loss: 1.0274 - val_accuracy: 0.5606\n",
            "Epoch 23/100\n",
            "9/9 [==============================] - 0s 12ms/step - loss: 0.9481 - accuracy: 0.6125 - val_loss: 1.0528 - val_accuracy: 0.5322\n",
            "Epoch 24/100\n",
            "9/9 [==============================] - 0s 15ms/step - loss: 0.9529 - accuracy: 0.6162 - val_loss: 1.0240 - val_accuracy: 0.5663\n",
            "Epoch 25/100\n",
            "9/9 [==============================] - 0s 13ms/step - loss: 0.9491 - accuracy: 0.6162 - val_loss: 1.0145 - val_accuracy: 0.5663\n",
            "Epoch 26/100\n",
            "9/9 [==============================] - 0s 9ms/step - loss: 0.9463 - accuracy: 0.6116 - val_loss: 1.0419 - val_accuracy: 0.5436\n",
            "Epoch 27/100\n",
            "9/9 [==============================] - 0s 12ms/step - loss: 0.9431 - accuracy: 0.6200 - val_loss: 1.0156 - val_accuracy: 0.5644\n",
            "Epoch 28/100\n",
            "9/9 [==============================] - 0s 13ms/step - loss: 0.9426 - accuracy: 0.6144 - val_loss: 1.0200 - val_accuracy: 0.5701\n",
            "Epoch 29/100\n",
            "9/9 [==============================] - 0s 14ms/step - loss: 0.9411 - accuracy: 0.6190 - val_loss: 1.0095 - val_accuracy: 0.5682\n",
            "Epoch 30/100\n",
            "9/9 [==============================] - 0s 11ms/step - loss: 0.9438 - accuracy: 0.6106 - val_loss: 1.0276 - val_accuracy: 0.5492\n",
            "Epoch 31/100\n",
            "9/9 [==============================] - 0s 10ms/step - loss: 0.9382 - accuracy: 0.6144 - val_loss: 1.0092 - val_accuracy: 0.5795\n",
            "Epoch 32/100\n",
            "9/9 [==============================] - 0s 10ms/step - loss: 0.9352 - accuracy: 0.6172 - val_loss: 1.0303 - val_accuracy: 0.5530\n",
            "Epoch 33/100\n",
            "9/9 [==============================] - 0s 10ms/step - loss: 0.9345 - accuracy: 0.6190 - val_loss: 1.0171 - val_accuracy: 0.5663\n",
            "Epoch 34/100\n",
            "9/9 [==============================] - 0s 9ms/step - loss: 0.9317 - accuracy: 0.6237 - val_loss: 1.0138 - val_accuracy: 0.5606\n",
            "Epoch 35/100\n",
            "9/9 [==============================] - 0s 11ms/step - loss: 0.9302 - accuracy: 0.6237 - val_loss: 1.0123 - val_accuracy: 0.5720\n",
            "Epoch 36/100\n",
            "9/9 [==============================] - 0s 12ms/step - loss: 0.9295 - accuracy: 0.6200 - val_loss: 1.0218 - val_accuracy: 0.5530\n",
            "Epoch 37/100\n",
            "9/9 [==============================] - 0s 13ms/step - loss: 0.9298 - accuracy: 0.6181 - val_loss: 1.0024 - val_accuracy: 0.5644\n",
            "Epoch 38/100\n",
            "9/9 [==============================] - 0s 9ms/step - loss: 0.9282 - accuracy: 0.6134 - val_loss: 1.0215 - val_accuracy: 0.5625\n",
            "Epoch 39/100\n",
            "9/9 [==============================] - 0s 10ms/step - loss: 0.9278 - accuracy: 0.6265 - val_loss: 1.0098 - val_accuracy: 0.5455\n",
            "Epoch 40/100\n",
            "9/9 [==============================] - 0s 11ms/step - loss: 0.9254 - accuracy: 0.6228 - val_loss: 1.0031 - val_accuracy: 0.5663\n",
            "Epoch 41/100\n",
            "9/9 [==============================] - 0s 16ms/step - loss: 0.9268 - accuracy: 0.6228 - val_loss: 1.0248 - val_accuracy: 0.5492\n",
            "Epoch 42/100\n",
            "9/9 [==============================] - 0s 17ms/step - loss: 0.9201 - accuracy: 0.6209 - val_loss: 0.9940 - val_accuracy: 0.5663\n",
            "Epoch 43/100\n",
            "9/9 [==============================] - 0s 10ms/step - loss: 0.9199 - accuracy: 0.6256 - val_loss: 1.0110 - val_accuracy: 0.5625\n",
            "Epoch 44/100\n",
            "9/9 [==============================] - 0s 10ms/step - loss: 0.9185 - accuracy: 0.6237 - val_loss: 1.0115 - val_accuracy: 0.5644\n",
            "Epoch 45/100\n",
            "9/9 [==============================] - 0s 11ms/step - loss: 0.9173 - accuracy: 0.6237 - val_loss: 0.9979 - val_accuracy: 0.5682\n",
            "Epoch 46/100\n",
            "9/9 [==============================] - 0s 10ms/step - loss: 0.9151 - accuracy: 0.6181 - val_loss: 1.0303 - val_accuracy: 0.5492\n",
            "Epoch 47/100\n",
            "9/9 [==============================] - 0s 9ms/step - loss: 0.9221 - accuracy: 0.6218 - val_loss: 0.9956 - val_accuracy: 0.5701\n",
            "Epoch 48/100\n",
            "9/9 [==============================] - 0s 7ms/step - loss: 0.9165 - accuracy: 0.6321 - val_loss: 0.9817 - val_accuracy: 0.5644\n",
            "Epoch 49/100\n",
            "9/9 [==============================] - 0s 7ms/step - loss: 0.9223 - accuracy: 0.6200 - val_loss: 1.0575 - val_accuracy: 0.5455\n",
            "Epoch 50/100\n",
            "9/9 [==============================] - 0s 6ms/step - loss: 0.9164 - accuracy: 0.6134 - val_loss: 0.9774 - val_accuracy: 0.5720\n",
            "Epoch 51/100\n",
            "9/9 [==============================] - 0s 6ms/step - loss: 0.9104 - accuracy: 0.6284 - val_loss: 1.0418 - val_accuracy: 0.5436\n",
            "Epoch 52/100\n",
            "9/9 [==============================] - 0s 8ms/step - loss: 0.9138 - accuracy: 0.6284 - val_loss: 0.9770 - val_accuracy: 0.5663\n",
            "Epoch 53/100\n",
            "9/9 [==============================] - 0s 6ms/step - loss: 0.9076 - accuracy: 0.6265 - val_loss: 1.0191 - val_accuracy: 0.5379\n",
            "Epoch 54/100\n",
            "9/9 [==============================] - 0s 6ms/step - loss: 0.9047 - accuracy: 0.6293 - val_loss: 0.9760 - val_accuracy: 0.5644\n",
            "Epoch 55/100\n",
            "9/9 [==============================] - 0s 6ms/step - loss: 0.9039 - accuracy: 0.6256 - val_loss: 1.0112 - val_accuracy: 0.5398\n",
            "Epoch 56/100\n",
            "9/9 [==============================] - 0s 6ms/step - loss: 0.9045 - accuracy: 0.6228 - val_loss: 0.9769 - val_accuracy: 0.5720\n",
            "Epoch 57/100\n",
            "9/9 [==============================] - 0s 7ms/step - loss: 0.9076 - accuracy: 0.6256 - val_loss: 1.0276 - val_accuracy: 0.5417\n",
            "Epoch 58/100\n",
            "9/9 [==============================] - 0s 6ms/step - loss: 0.9093 - accuracy: 0.6209 - val_loss: 0.9905 - val_accuracy: 0.5568\n",
            "Epoch 59/100\n",
            "9/9 [==============================] - 0s 7ms/step - loss: 0.9044 - accuracy: 0.6321 - val_loss: 0.9794 - val_accuracy: 0.5682\n",
            "Epoch 60/100\n",
            "9/9 [==============================] - 0s 6ms/step - loss: 0.9012 - accuracy: 0.6265 - val_loss: 1.0086 - val_accuracy: 0.5606\n",
            "Epoch 61/100\n",
            "9/9 [==============================] - 0s 7ms/step - loss: 0.9007 - accuracy: 0.6340 - val_loss: 0.9704 - val_accuracy: 0.5739\n",
            "Epoch 62/100\n",
            "9/9 [==============================] - 0s 7ms/step - loss: 0.8988 - accuracy: 0.6228 - val_loss: 0.9985 - val_accuracy: 0.5473\n",
            "Epoch 63/100\n",
            "9/9 [==============================] - 0s 6ms/step - loss: 0.8948 - accuracy: 0.6303 - val_loss: 0.9848 - val_accuracy: 0.5739\n",
            "Epoch 64/100\n",
            "9/9 [==============================] - 0s 6ms/step - loss: 0.8962 - accuracy: 0.6284 - val_loss: 0.9777 - val_accuracy: 0.5682\n",
            "Epoch 65/100\n",
            "9/9 [==============================] - 0s 6ms/step - loss: 0.8948 - accuracy: 0.6256 - val_loss: 0.9995 - val_accuracy: 0.5492\n",
            "Epoch 66/100\n",
            "9/9 [==============================] - 0s 6ms/step - loss: 0.8967 - accuracy: 0.6275 - val_loss: 0.9680 - val_accuracy: 0.5777\n",
            "Epoch 67/100\n",
            "9/9 [==============================] - 0s 8ms/step - loss: 0.8929 - accuracy: 0.6321 - val_loss: 1.0098 - val_accuracy: 0.5587\n",
            "Epoch 68/100\n",
            "9/9 [==============================] - 0s 8ms/step - loss: 0.8990 - accuracy: 0.6265 - val_loss: 0.9633 - val_accuracy: 0.5758\n",
            "Epoch 69/100\n",
            "9/9 [==============================] - 0s 8ms/step - loss: 0.8949 - accuracy: 0.6265 - val_loss: 0.9871 - val_accuracy: 0.5720\n",
            "Epoch 70/100\n",
            "9/9 [==============================] - 0s 6ms/step - loss: 0.8879 - accuracy: 0.6359 - val_loss: 0.9738 - val_accuracy: 0.5701\n",
            "Epoch 71/100\n",
            "9/9 [==============================] - 0s 6ms/step - loss: 0.8891 - accuracy: 0.6368 - val_loss: 0.9864 - val_accuracy: 0.5663\n",
            "Epoch 72/100\n",
            "9/9 [==============================] - 0s 6ms/step - loss: 0.8893 - accuracy: 0.6489 - val_loss: 0.9687 - val_accuracy: 0.5701\n",
            "Epoch 73/100\n",
            "9/9 [==============================] - 0s 6ms/step - loss: 0.8861 - accuracy: 0.6415 - val_loss: 0.9764 - val_accuracy: 0.5701\n",
            "Epoch 74/100\n",
            "9/9 [==============================] - 0s 6ms/step - loss: 0.8836 - accuracy: 0.6405 - val_loss: 0.9798 - val_accuracy: 0.5606\n",
            "Epoch 75/100\n",
            "9/9 [==============================] - 0s 6ms/step - loss: 0.8864 - accuracy: 0.6377 - val_loss: 0.9594 - val_accuracy: 0.5852\n",
            "Epoch 76/100\n",
            "9/9 [==============================] - 0s 6ms/step - loss: 0.8894 - accuracy: 0.6368 - val_loss: 0.9967 - val_accuracy: 0.5568\n",
            "Epoch 77/100\n",
            "9/9 [==============================] - 0s 6ms/step - loss: 0.8845 - accuracy: 0.6293 - val_loss: 0.9840 - val_accuracy: 0.5682\n",
            "Epoch 78/100\n",
            "9/9 [==============================] - 0s 6ms/step - loss: 0.8823 - accuracy: 0.6331 - val_loss: 0.9682 - val_accuracy: 0.5644\n",
            "Epoch 79/100\n",
            "9/9 [==============================] - 0s 6ms/step - loss: 0.8816 - accuracy: 0.6359 - val_loss: 0.9900 - val_accuracy: 0.5530\n",
            "Epoch 80/100\n",
            "9/9 [==============================] - 0s 6ms/step - loss: 0.8821 - accuracy: 0.6387 - val_loss: 0.9910 - val_accuracy: 0.5587\n",
            "Epoch 81/100\n",
            "9/9 [==============================] - 0s 6ms/step - loss: 0.8817 - accuracy: 0.6368 - val_loss: 0.9708 - val_accuracy: 0.5682\n",
            "Epoch 82/100\n",
            "9/9 [==============================] - 0s 6ms/step - loss: 0.8767 - accuracy: 0.6340 - val_loss: 0.9836 - val_accuracy: 0.5606\n",
            "Epoch 83/100\n",
            "9/9 [==============================] - 0s 8ms/step - loss: 0.8777 - accuracy: 0.6424 - val_loss: 1.0036 - val_accuracy: 0.5530\n",
            "Epoch 84/100\n",
            "9/9 [==============================] - 0s 7ms/step - loss: 0.8816 - accuracy: 0.6331 - val_loss: 0.9615 - val_accuracy: 0.5663\n",
            "Epoch 85/100\n",
            "9/9 [==============================] - 0s 6ms/step - loss: 0.8743 - accuracy: 0.6405 - val_loss: 0.9974 - val_accuracy: 0.5587\n",
            "Epoch 86/100\n",
            "9/9 [==============================] - 0s 7ms/step - loss: 0.8751 - accuracy: 0.6368 - val_loss: 0.9655 - val_accuracy: 0.5663\n",
            "Epoch 87/100\n",
            "9/9 [==============================] - 0s 6ms/step - loss: 0.8728 - accuracy: 0.6415 - val_loss: 0.9914 - val_accuracy: 0.5568\n",
            "Epoch 88/100\n",
            "9/9 [==============================] - 0s 8ms/step - loss: 0.8748 - accuracy: 0.6424 - val_loss: 0.9594 - val_accuracy: 0.5777\n",
            "Epoch 89/100\n",
            "9/9 [==============================] - 0s 6ms/step - loss: 0.8788 - accuracy: 0.6331 - val_loss: 1.0079 - val_accuracy: 0.5568\n",
            "Epoch 90/100\n",
            "9/9 [==============================] - 0s 6ms/step - loss: 0.8742 - accuracy: 0.6415 - val_loss: 0.9613 - val_accuracy: 0.5739\n",
            "Epoch 91/100\n",
            "9/9 [==============================] - 0s 6ms/step - loss: 0.8697 - accuracy: 0.6489 - val_loss: 0.9750 - val_accuracy: 0.5739\n",
            "Epoch 92/100\n",
            "9/9 [==============================] - 0s 6ms/step - loss: 0.8705 - accuracy: 0.6471 - val_loss: 0.9851 - val_accuracy: 0.5663\n",
            "Epoch 93/100\n",
            "9/9 [==============================] - 0s 8ms/step - loss: 0.8703 - accuracy: 0.6489 - val_loss: 0.9686 - val_accuracy: 0.5833\n",
            "Epoch 94/100\n",
            "9/9 [==============================] - 0s 6ms/step - loss: 0.8802 - accuracy: 0.6359 - val_loss: 0.9473 - val_accuracy: 0.5852\n",
            "Epoch 95/100\n",
            "9/9 [==============================] - 0s 7ms/step - loss: 0.8777 - accuracy: 0.6377 - val_loss: 0.9799 - val_accuracy: 0.5682\n",
            "Epoch 96/100\n",
            "9/9 [==============================] - 0s 6ms/step - loss: 0.8710 - accuracy: 0.6368 - val_loss: 0.9857 - val_accuracy: 0.5663\n",
            "Epoch 97/100\n",
            "9/9 [==============================] - 0s 7ms/step - loss: 0.8698 - accuracy: 0.6480 - val_loss: 0.9683 - val_accuracy: 0.5795\n",
            "Epoch 98/100\n",
            "9/9 [==============================] - 0s 7ms/step - loss: 0.8670 - accuracy: 0.6415 - val_loss: 1.0004 - val_accuracy: 0.5549\n",
            "Epoch 99/100\n",
            "9/9 [==============================] - 0s 7ms/step - loss: 0.8648 - accuracy: 0.6536 - val_loss: 0.9560 - val_accuracy: 0.5852\n",
            "Epoch 100/100\n",
            "9/9 [==============================] - 0s 7ms/step - loss: 0.8643 - accuracy: 0.6545 - val_loss: 1.0148 - val_accuracy: 0.5568\n"
          ]
        }
      ]
    },
    {
      "cell_type": "markdown",
      "source": [
        "# 2) Define a linear model\n",
        "\n",
        "Now define a linear model appropriate for this task. Pay attention to how many inputs and outputs the model should have."
      ],
      "metadata": {
        "id": "CEEa85Xzm4qH"
      }
    },
    {
      "cell_type": "code",
      "source": [
        "model.summary()"
      ],
      "metadata": {
        "execution": {
          "iopub.status.busy": "2022-04-01T09:57:19.225295Z",
          "iopub.execute_input": "2022-04-01T09:57:19.225843Z",
          "iopub.status.idle": "2022-04-01T09:57:19.237548Z",
          "shell.execute_reply.started": "2022-04-01T09:57:19.225808Z",
          "shell.execute_reply": "2022-04-01T09:57:19.236685Z"
        },
        "trusted": true,
        "id": "RwuUB91vm4qI"
      },
      "execution_count": null,
      "outputs": []
    },
    {
      "cell_type": "code",
      "source": [
        ""
      ],
      "metadata": {
        "id": "JtcpDvZWE-ce"
      },
      "execution_count": 14,
      "outputs": []
    },
    {
      "cell_type": "code",
      "source": [
        "import pandas as pd\n",
        "\n",
        "# convert the training history to a dataframe\n",
        "history_df = pd.DataFrame(history.history)\n",
        "# use Pandas native plot method\n",
        "history_df.loc[0:100,['loss','val_loss']].plot()"
      ],
      "metadata": {
        "id": "i6FtZdYSoj2l",
        "outputId": "dbb430eb-44fd-4fbd-b290-0b0d2dab7f42",
        "colab": {
          "base_uri": "https://localhost:8080/",
          "height": 287
        }
      },
      "execution_count": 17,
      "outputs": [
        {
          "output_type": "execute_result",
          "data": {
            "text/plain": [
              "<matplotlib.axes._subplots.AxesSubplot at 0x7fc42d6b2710>"
            ]
          },
          "metadata": {},
          "execution_count": 17
        },
        {
          "output_type": "display_data",
          "data": {
            "text/plain": [
              "<Figure size 432x288 with 1 Axes>"
            ],
            "image/png": "[encoded data removed]"
          },
          "metadata": {
            "needs_background": "light"
          }
        }
      ]
    },
    {
      "cell_type": "code",
      "source": [
        "mse_value, mae_value = model.evaluate(X_test, y_test, verbose=0)\n",
        "\n",
        "print(mse_value)"
      ],
      "metadata": {
        "id": "EDO4vhapE_bi"
      },
      "execution_count": null,
      "outputs": []
    },
    {
      "cell_type": "code",
      "source": [
        "y_pred = model.predict(X_test)"
      ],
      "metadata": {
        "id": "8HIcDR9tFCWg"
      },
      "execution_count": 17,
      "outputs": []
    },
    {
      "cell_type": "code",
      "source": [
        "y_pred[-5]"
      ],
      "metadata": {
        "id": "WNigXt_kFIvR",
        "outputId": "4f62d0cf-d5cc-4524-cba3-d4b54448509f",
        "colab": {
          "base_uri": "https://localhost:8080/"
        }
      },
      "execution_count": 18,
      "outputs": [
        {
          "output_type": "execute_result",
          "data": {
            "text/plain": [
              "array([6.375573], dtype=float32)"
            ]
          },
          "metadata": {},
          "execution_count": 18
        }
      ]
    },
    {
      "cell_type": "code",
      "source": [
        "y_test"
      ],
      "metadata": {
        "id": "vY0bATdwFQW4",
        "outputId": "f5283422-129a-4bfd-8ea1-7adb49ee90c4",
        "colab": {
          "base_uri": "https://localhost:8080/"
        }
      },
      "execution_count": 19,
      "outputs": [
        {
          "output_type": "execute_result",
          "data": {
            "text/plain": [
              "803     6\n",
              "124     5\n",
              "350     6\n",
              "682     5\n",
              "1326    6\n",
              "       ..\n",
              "813     4\n",
              "377     7\n",
              "898     7\n",
              "126     5\n",
              "819     5\n",
              "Name: quality, Length: 528, dtype: int64"
            ]
          },
          "metadata": {},
          "execution_count": 19
        }
      ]
    },
    {
      "cell_type": "code",
      "source": [
        "from sklearn.metrics import r2_score\n",
        "\n",
        "r2_score(y_test, y_pred)"
      ],
      "metadata": {
        "id": "kdEqEiKzFG3F",
        "outputId": "8f4d063d-ada8-488b-b010-09a45b18d15b",
        "colab": {
          "base_uri": "https://localhost:8080/"
        }
      },
      "execution_count": 20,
      "outputs": [
        {
          "output_type": "execute_result",
          "data": {
            "text/plain": [
              "0.19498771460059539"
            ]
          },
          "metadata": {},
          "execution_count": 20
        }
      ]
    }
  ]
}