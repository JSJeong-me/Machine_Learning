{
  "metadata": {
    "kernelspec": {
      "language": "python",
      "display_name": "Python 3",
      "name": "python3"
    },
    "language_info": {
      "name": "python",
      "version": "3.7.12",
      "mimetype": "text/x-python",
      "codemirror_mode": {
        "name": "ipython",
        "version": 3
      },
      "pygments_lexer": "ipython3",
      "nbconvert_exporter": "python",
      "file_extension": ".py"
    },
    "colab": {
      "name": "notebook0fdae1b397.ipynb",
      "provenance": [],
      "include_colab_link": true
    },
    "accelerator": "GPU",
    "gpuClass": "standard"
  },
  "nbformat_minor": 0,
  "nbformat": 4,
  "cells": [
    {
      "cell_type": "markdown",
      "metadata": {
        "id": "view-in-github",
        "colab_type": "text"
      },
      "source": [
        "<a href=\"https://colab.research.google.com/github/JSJeong-me/Machine_Learning/blob/main/ML/6_wine_0816_classfication.ipynb\" target=\"_parent\"><img src=\"https://colab.research.google.com/assets/colab-badge.svg\" alt=\"Open In Colab\"/></a>"
      ]
    },
    {
      "cell_type": "markdown",
      "source": [
        "**This notebook is an exercise in the [Intro to Deep Learning](https://www.kaggle.com/learn/intro-to-deep-learning) course.  You can reference the tutorial at [this link](https://www.kaggle.com/ryanholbrook/a-single-neuron).**\n",
        "\n",
        "---\n"
      ],
      "metadata": {
        "id": "3mUBPSlwm4qA"
      }
    },
    {
      "cell_type": "markdown",
      "source": [
        "# Introduction #\n",
        "\n",
        "In the tutorial we learned about the building blocks of neural networks: *linear units*. We saw that a model of just one linear unit will fit a linear function to a dataset (equivalent to linear regression). In this exercise, you'll build a linear model and get some practice working with models in Keras.\n",
        "\n",
        "Before you get started, run the code cell below to set everything up."
      ],
      "metadata": {
        "id": "lu_BKhPIm4qE"
      }
    },
    {
      "cell_type": "markdown",
      "source": [
        "The *Red Wine Quality* dataset consists of physiochemical measurements from about 1600 Portuguese red wines.  Also included is a quality rating for each wine from blind taste-tests. \n",
        "\n",
        "First, run the next cell to display the first few rows of this dataset."
      ],
      "metadata": {
        "id": "beV27Dokm4qF"
      }
    },
    {
      "cell_type": "code",
      "source": [
        "import pandas as pd\n",
        "from IPython.display import display\n",
        "\n",
        "red_wine = pd.read_csv('winequality-red.csv')"
      ],
      "metadata": {
        "id": "oOsO38pc7e7i"
      },
      "execution_count": 1,
      "outputs": []
    },
    {
      "cell_type": "code",
      "source": [
        "import seaborn as sns\n",
        "import matplotlib.pyplot as plt\n",
        "\n",
        "corr = red_wine.corr()\n",
        "sns.heatmap(corr, xticklabels = corr.columns.values,\n",
        "           yticklabels=corr.columns.values)"
      ],
      "metadata": {
        "id": "hU_Cz8VsGJ2I",
        "outputId": "ec5d2078-6718-4f2a-f6f0-b071b7b8b08f",
        "colab": {
          "base_uri": "https://localhost:8080/",
          "height": 371
        }
      },
      "execution_count": 2,
      "outputs": [
        {
          "output_type": "execute_result",
          "data": {
            "text/plain": [
              "<matplotlib.axes._subplots.AxesSubplot at 0x7f7ffdffffd0>"
            ]
          },
          "metadata": {},
          "execution_count": 2
        },
        {
          "output_type": "display_data",
          "data": {
            "text/plain": [
              "<Figure size 432x288 with 2 Axes>"
            ],
            "image/png": "[encoded data removed]"
          },
          "metadata": {
            "needs_background": "light"
          }
        }
      ]
    },
    {
      "cell_type": "code",
      "source": [
        "red_wine['quality'].hist()"
      ],
      "metadata": {
        "id": "Ptu1qMbdGThJ",
        "outputId": "955058aa-a9d0-4fcf-abc8-d395b0b175f2",
        "colab": {
          "base_uri": "https://localhost:8080/",
          "height": 283
        }
      },
      "execution_count": 3,
      "outputs": [
        {
          "output_type": "execute_result",
          "data": {
            "text/plain": [
              "<matplotlib.axes._subplots.AxesSubplot at 0x7f7ffda0a310>"
            ]
          },
          "metadata": {},
          "execution_count": 3
        },
        {
          "output_type": "display_data",
          "data": {
            "text/plain": [
              "<Figure size 432x288 with 1 Axes>"
            ],
            "image/png": "[encoded data removed]"
          },
          "metadata": {
            "needs_background": "light"
          }
        }
      ]
    },
    {
      "cell_type": "code",
      "source": [
        "from sklearn.preprocessing import LabelEncoder"
      ],
      "metadata": {
        "id": "mtKMerWbRjIR"
      },
      "execution_count": 4,
      "outputs": []
    },
    {
      "cell_type": "code",
      "source": [
        "from tensorflow.keras.utils import to_categorical"
      ],
      "metadata": {
        "id": "-acIjliIRsFf"
      },
      "execution_count": 5,
      "outputs": []
    },
    {
      "cell_type": "code",
      "source": [
        "from sklearn.model_selection import train_test_split\n",
        "\n",
        "X = red_wine.iloc[:,0:11]\n",
        "y = red_wine['quality']\n",
        "\n",
        "le = LabelEncoder()\n",
        "y = le.fit_transform(y)\n",
        "  \n",
        "\n",
        "X_train, X_test, y_train, y_test = train_test_split(X,\n",
        "                                                  y,\n",
        "                                                  test_size=0.33,\n",
        "                                                  random_state = 42)\n",
        "\n",
        "y_train_cat = to_categorical(y_train,6)\n",
        "y_test_cat = to_categorical(y_test, 6)"
      ],
      "metadata": {
        "id": "7Hd3WHYI7hHy"
      },
      "execution_count": 6,
      "outputs": []
    },
    {
      "cell_type": "code",
      "source": [
        "# Scale to [0, 1]\n",
        "# max_ = df_train.max(axis=0)\n",
        "# min_ = df_train.min(axis=0)\n",
        "# df_train = (df_train - min_) / (max_ - min_)\n",
        "# df_valid = (df_valid - min_) / (max_ - min_)"
      ],
      "metadata": {
        "id": "JVfWAkMg7jJx"
      },
      "execution_count": 7,
      "outputs": []
    },
    {
      "cell_type": "code",
      "source": [
        "from sklearn.preprocessing import MinMaxScaler"
      ],
      "metadata": {
        "id": "FpenQQuDEIsD"
      },
      "execution_count": 8,
      "outputs": []
    },
    {
      "cell_type": "code",
      "source": [
        "scaler = MinMaxScaler(feature_range=(0, 1))"
      ],
      "metadata": {
        "id": "7sr2sEcQEDiZ"
      },
      "execution_count": 9,
      "outputs": []
    },
    {
      "cell_type": "code",
      "source": [
        "X_train = scaler.fit_transform(X_train)\n",
        "X_train = pd.DataFrame(X_train)\n",
        "\n",
        "X_test = scaler.fit_transform(X_test)\n",
        "X_test = pd.DataFrame(X_test)"
      ],
      "metadata": {
        "id": "ENslQb-rERTF"
      },
      "execution_count": 10,
      "outputs": []
    },
    {
      "cell_type": "code",
      "source": [
        ""
      ],
      "metadata": {
        "id": "5fLa53NrEU8X"
      },
      "execution_count": 10,
      "outputs": []
    },
    {
      "cell_type": "code",
      "source": [
        "red_wine.describe()"
      ],
      "metadata": {
        "execution": {
          "iopub.status.busy": "2022-04-01T09:57:19.076902Z",
          "iopub.execute_input": "2022-04-01T09:57:19.077158Z",
          "iopub.status.idle": "2022-04-01T09:57:19.124183Z",
          "shell.execute_reply.started": "2022-04-01T09:57:19.077129Z",
          "shell.execute_reply": "2022-04-01T09:57:19.123278Z"
        },
        "trusted": true,
        "id": "v8bGY_i3m4qG",
        "outputId": "8f8cf15d-4c5d-4e1e-8268-14e1dced71a9",
        "colab": {
          "base_uri": "https://localhost:8080/",
          "height": 399
        }
      },
      "execution_count": 11,
      "outputs": [
        {
          "output_type": "execute_result",
          "data": {
            "text/plain": [
              "       fixed acidity  volatile acidity  citric acid  residual sugar  \\\n",
              "count    1599.000000       1599.000000  1599.000000     1599.000000   \n",
              "mean        8.319637          0.527821     0.270976        2.538806   \n",
              "std         1.741096          0.179060     0.194801        1.409928   \n",
              "min         4.600000          0.120000     0.000000        0.900000   \n",
              "25%         7.100000          0.390000     0.090000        1.900000   \n",
              "50%         7.900000          0.520000     0.260000        2.200000   \n",
              "75%         9.200000          0.640000     0.420000        2.600000   \n",
              "max        15.900000          1.580000     1.000000       15.500000   \n",
              "\n",
              "         chlorides  free sulfur dioxide  total sulfur dioxide      density  \\\n",
              "count  1599.000000          1599.000000           1599.000000  1599.000000   \n",
              "mean      0.087467            15.874922             46.467792     0.996747   \n",
              "std       0.047065            10.460157             32.895324     0.001887   \n",
              "min       0.012000             1.000000              6.000000     0.990070   \n",
              "25%       0.070000             7.000000             22.000000     0.995600   \n",
              "50%       0.079000            14.000000             38.000000     0.996750   \n",
              "75%       0.090000            21.000000             62.000000     0.997835   \n",
              "max       0.611000            72.000000            289.000000     1.003690   \n",
              "\n",
              "                pH    sulphates      alcohol      quality  \n",
              "count  1599.000000  1599.000000  1599.000000  1599.000000  \n",
              "mean      3.311113     0.658149    10.422983     5.636023  \n",
              "std       0.154386     0.169507     1.065668     0.807569  \n",
              "min       2.740000     0.330000     8.400000     3.000000  \n",
              "25%       3.210000     0.550000     9.500000     5.000000  \n",
              "50%       3.310000     0.620000    10.200000     6.000000  \n",
              "75%       3.400000     0.730000    11.100000     6.000000  \n",
              "max       4.010000     2.000000    14.900000     8.000000  "
            ],
            "text/html": [
              "\n",
              "  <div id=\"df-8b1665ad-ae8c-4f6f-92b8-52733e24917a\">\n",
              "    <div class=\"colab-df-container\">\n",
              "      <div>\n",
              "<style scoped>\n",
              "    .dataframe tbody tr th:only-of-type {\n",
              "        vertical-align: middle;\n",
              "    }\n",
              "\n",
              "    .dataframe tbody tr th {\n",
              "        vertical-align: top;\n",
              "    }\n",
              "\n",
              "    .dataframe thead th {\n",
              "        text-align: right;\n",
              "    }\n",
              "</style>\n",
              "<table border=\"1\" class=\"dataframe\">\n",
              "  <thead>\n",
              "    <tr style=\"text-align: right;\">\n",
              "      <th></th>\n",
              "      <th>fixed acidity</th>\n",
              "      <th>volatile acidity</th>\n",
              "      <th>citric acid</th>\n",
              "      <th>residual sugar</th>\n",
              "      <th>chlorides</th>\n",
              "      <th>free sulfur dioxide</th>\n",
              "      <th>total sulfur dioxide</th>\n",
              "      <th>density</th>\n",
              "      <th>pH</th>\n",
              "      <th>sulphates</th>\n",
              "      <th>alcohol</th>\n",
              "      <th>quality</th>\n",
              "    </tr>\n",
              "  </thead>\n",
              "  <tbody>\n",
              "    <tr>\n",
              "      <th>count</th>\n",
              "      <td>1599.000000</td>\n",
              "      <td>1599.000000</td>\n",
              "      <td>1599.000000</td>\n",
              "      <td>1599.000000</td>\n",
              "      <td>1599.000000</td>\n",
              "      <td>1599.000000</td>\n",
              "      <td>1599.000000</td>\n",
              "      <td>1599.000000</td>\n",
              "      <td>1599.000000</td>\n",
              "      <td>1599.000000</td>\n",
              "      <td>1599.000000</td>\n",
              "      <td>1599.000000</td>\n",
              "    </tr>\n",
              "    <tr>\n",
              "      <th>mean</th>\n",
              "      <td>8.319637</td>\n",
              "      <td>0.527821</td>\n",
              "      <td>0.270976</td>\n",
              "      <td>2.538806</td>\n",
              "      <td>0.087467</td>\n",
              "      <td>15.874922</td>\n",
              "      <td>46.467792</td>\n",
              "      <td>0.996747</td>\n",
              "      <td>3.311113</td>\n",
              "      <td>0.658149</td>\n",
              "      <td>10.422983</td>\n",
              "      <td>5.636023</td>\n",
              "    </tr>\n",
              "    <tr>\n",
              "      <th>std</th>\n",
              "      <td>1.741096</td>\n",
              "      <td>0.179060</td>\n",
              "      <td>0.194801</td>\n",
              "      <td>1.409928</td>\n",
              "      <td>0.047065</td>\n",
              "      <td>10.460157</td>\n",
              "      <td>32.895324</td>\n",
              "      <td>0.001887</td>\n",
              "      <td>0.154386</td>\n",
              "      <td>0.169507</td>\n",
              "      <td>1.065668</td>\n",
              "      <td>0.807569</td>\n",
              "    </tr>\n",
              "    <tr>\n",
              "      <th>min</th>\n",
              "      <td>4.600000</td>\n",
              "      <td>0.120000</td>\n",
              "      <td>0.000000</td>\n",
              "      <td>0.900000</td>\n",
              "      <td>0.012000</td>\n",
              "      <td>1.000000</td>\n",
              "      <td>6.000000</td>\n",
              "      <td>0.990070</td>\n",
              "      <td>2.740000</td>\n",
              "      <td>0.330000</td>\n",
              "      <td>8.400000</td>\n",
              "      <td>3.000000</td>\n",
              "    </tr>\n",
              "    <tr>\n",
              "      <th>25%</th>\n",
              "      <td>7.100000</td>\n",
              "      <td>0.390000</td>\n",
              "      <td>0.090000</td>\n",
              "      <td>1.900000</td>\n",
              "      <td>0.070000</td>\n",
              "      <td>7.000000</td>\n",
              "      <td>22.000000</td>\n",
              "      <td>0.995600</td>\n",
              "      <td>3.210000</td>\n",
              "      <td>0.550000</td>\n",
              "      <td>9.500000</td>\n",
              "      <td>5.000000</td>\n",
              "    </tr>\n",
              "    <tr>\n",
              "      <th>50%</th>\n",
              "      <td>7.900000</td>\n",
              "      <td>0.520000</td>\n",
              "      <td>0.260000</td>\n",
              "      <td>2.200000</td>\n",
              "      <td>0.079000</td>\n",
              "      <td>14.000000</td>\n",
              "      <td>38.000000</td>\n",
              "      <td>0.996750</td>\n",
              "      <td>3.310000</td>\n",
              "      <td>0.620000</td>\n",
              "      <td>10.200000</td>\n",
              "      <td>6.000000</td>\n",
              "    </tr>\n",
              "    <tr>\n",
              "      <th>75%</th>\n",
              "      <td>9.200000</td>\n",
              "      <td>0.640000</td>\n",
              "      <td>0.420000</td>\n",
              "      <td>2.600000</td>\n",
              "      <td>0.090000</td>\n",
              "      <td>21.000000</td>\n",
              "      <td>62.000000</td>\n",
              "      <td>0.997835</td>\n",
              "      <td>3.400000</td>\n",
              "      <td>0.730000</td>\n",
              "      <td>11.100000</td>\n",
              "      <td>6.000000</td>\n",
              "    </tr>\n",
              "    <tr>\n",
              "      <th>max</th>\n",
              "      <td>15.900000</td>\n",
              "      <td>1.580000</td>\n",
              "      <td>1.000000</td>\n",
              "      <td>15.500000</td>\n",
              "      <td>0.611000</td>\n",
              "      <td>72.000000</td>\n",
              "      <td>289.000000</td>\n",
              "      <td>1.003690</td>\n",
              "      <td>4.010000</td>\n",
              "      <td>2.000000</td>\n",
              "      <td>14.900000</td>\n",
              "      <td>8.000000</td>\n",
              "    </tr>\n",
              "  </tbody>\n",
              "</table>\n",
              "</div>\n",
              "      <button class=\"colab-df-convert\" onclick=\"convertToInteractive('df-8b1665ad-ae8c-4f6f-92b8-52733e24917a')\"\n",
              "              title=\"Convert this dataframe to an interactive table.\"\n",
              "              style=\"display:none;\">\n",
              "        \n",
              "  <svg xmlns=\"http://www.w3.org/2000/svg\" height=\"24px\"viewBox=\"0 0 24 24\"\n",
              "       width=\"24px\">\n",
              "    <path d=\"M0 0h24v24H0V0z\" fill=\"none\"/>\n",
              "    <path d=\"M18.56 5.44l.94 2.06.94-2.06 2.06-.94-2.06-.94-.94-2.06-.94 2.06-2.06.94zm-11 1L8.5 8.5l.94-2.06 2.06-.94-2.06-.94L8.5 2.5l-.94 2.06-2.06.94zm10 10l.94 2.06.94-2.06 2.06-.94-2.06-.94-.94-2.06-.94 2.06-2.06.94z\"/><path d=\"M17.41 7.96l-1.37-1.37c-.4-.4-.92-.59-1.43-.59-.52 0-1.04.2-1.43.59L10.3 9.45l-7.72 7.72c-.78.78-.78 2.05 0 2.83L4 21.41c.39.39.9.59 1.41.59.51 0 1.02-.2 1.41-.59l7.78-7.78 2.81-2.81c.8-.78.8-2.07 0-2.86zM5.41 20L4 18.59l7.72-7.72 1.47 1.35L5.41 20z\"/>\n",
              "  </svg>\n",
              "      </button>\n",
              "      \n",
              "  <style>\n",
              "    .colab-df-container {\n",
              "      display:flex;\n",
              "      flex-wrap:wrap;\n",
              "      gap: 12px;\n",
              "    }\n",
              "\n",
              "    .colab-df-convert {\n",
              "      background-color: #E8F0FE;\n",
              "      border: none;\n",
              "      border-radius: 50%;\n",
              "      cursor: pointer;\n",
              "      display: none;\n",
              "      fill: #1967D2;\n",
              "      height: 32px;\n",
              "      padding: 0 0 0 0;\n",
              "      width: 32px;\n",
              "    }\n",
              "\n",
              "    .colab-df-convert:hover {\n",
              "      background-color: #E2EBFA;\n",
              "      box-shadow: 0px 1px 2px rgba(60, 64, 67, 0.3), 0px 1px 3px 1px rgba(60, 64, 67, 0.15);\n",
              "      fill: #174EA6;\n",
              "    }\n",
              "\n",
              "    [theme=dark] .colab-df-convert {\n",
              "      background-color: #3B4455;\n",
              "      fill: #D2E3FC;\n",
              "    }\n",
              "\n",
              "    [theme=dark] .colab-df-convert:hover {\n",
              "      background-color: #434B5C;\n",
              "      box-shadow: 0px 1px 3px 1px rgba(0, 0, 0, 0.15);\n",
              "      filter: drop-shadow(0px 1px 2px rgba(0, 0, 0, 0.3));\n",
              "      fill: #FFFFFF;\n",
              "    }\n",
              "  </style>\n",
              "\n",
              "      <script>\n",
              "        const buttonEl =\n",
              "          document.querySelector('#df-8b1665ad-ae8c-4f6f-92b8-52733e24917a button.colab-df-convert');\n",
              "        buttonEl.style.display =\n",
              "          google.colab.kernel.accessAllowed ? 'block' : 'none';\n",
              "\n",
              "        async function convertToInteractive(key) {\n",
              "          const element = document.querySelector('#df-8b1665ad-ae8c-4f6f-92b8-52733e24917a');\n",
              "          const dataTable =\n",
              "            await google.colab.kernel.invokeFunction('convertToInteractive',\n",
              "                                                     [key], {});\n",
              "          if (!dataTable) return;\n",
              "\n",
              "          const docLinkHtml = 'Like what you see? Visit the ' +\n",
              "            '<a target=\"_blank\" href=https://colab.research.google.com/notebooks/data_table.ipynb>data table notebook</a>'\n",
              "            + ' to learn more about interactive tables.';\n",
              "          element.innerHTML = '';\n",
              "          dataTable['output_type'] = 'display_data';\n",
              "          await google.colab.output.renderOutput(dataTable, element);\n",
              "          const docLink = document.createElement('div');\n",
              "          docLink.innerHTML = docLinkHtml;\n",
              "          element.appendChild(docLink);\n",
              "        }\n",
              "      </script>\n",
              "    </div>\n",
              "  </div>\n",
              "  "
            ]
          },
          "metadata": {},
          "execution_count": 11
        }
      ]
    },
    {
      "cell_type": "code",
      "source": [
        "from tensorflow import keras\n",
        "from tensorflow.keras import layers, callbacks\n",
        "\n",
        "model = keras.Sequential([\n",
        "    layers.Dense(128, activation='relu', input_shape=[11]),\n",
        "    # layers.Dropout(rate=0.5),\n",
        "    # layers.BatchNormalization(),\n",
        "    layers.Dense(64, activation='relu'),\n",
        "    # layers.BatchNormalization(),\n",
        "    # layers.Dropout(rate=0.5),\n",
        "    layers.Dense(32, activation='relu'),\n",
        "    # layers.BatchNormalization(),\n",
        "    # layers.Dropout(rate=0.5),\n",
        "    layers.Dense(6, activation='softmax'),\n",
        "])"
      ],
      "metadata": {
        "execution": {
          "iopub.status.busy": "2022-04-01T09:57:19.125173Z",
          "iopub.execute_input": "2022-04-01T09:57:19.125378Z",
          "iopub.status.idle": "2022-04-01T09:57:19.144320Z",
          "shell.execute_reply.started": "2022-04-01T09:57:19.125351Z",
          "shell.execute_reply": "2022-04-01T09:57:19.143449Z"
        },
        "trusted": true,
        "id": "VLqpQWRfm4qH"
      },
      "execution_count": 12,
      "outputs": []
    },
    {
      "cell_type": "code",
      "source": [
        "# early_stopping = callbacks.EarlyStopping(\n",
        "#     min_delta=0.001, # minimium amount of change to count as an improvement\n",
        "#     patience=20, # how many epochs to wait before stopping\n",
        "#     restore_best_weights=True,\n",
        "# )"
      ],
      "metadata": {
        "id": "YRFXgvMVGnQ9"
      },
      "execution_count": 13,
      "outputs": []
    },
    {
      "cell_type": "code",
      "source": [
        "model.compile(\n",
        "    optimizer='adam',\n",
        "    loss='categorical_crossentropy', metrics=['accuracy']\n",
        ")"
      ],
      "metadata": {
        "execution": {
          "iopub.status.busy": "2022-04-01T09:57:19.145527Z",
          "iopub.execute_input": "2022-04-01T09:57:19.145858Z",
          "iopub.status.idle": "2022-04-01T09:57:19.154108Z",
          "shell.execute_reply.started": "2022-04-01T09:57:19.145830Z",
          "shell.execute_reply": "2022-04-01T09:57:19.153139Z"
        },
        "trusted": true,
        "id": "3eMdsFmAm4qH"
      },
      "execution_count": 14,
      "outputs": []
    },
    {
      "cell_type": "code",
      "source": [
        "history = model.fit(\n",
        "    X_train, y_train_cat,\n",
        "    validation_data = (X_test,y_test_cat),\n",
        "    batch_size=128,\n",
        "    # callbacks=[early_stopping],\n",
        "    epochs=100,\n",
        ")"
      ],
      "metadata": {
        "id": "7cgxvzRrryg3",
        "outputId": "b4ddb51e-4607-4f31-970f-166c6fae5a2c",
        "colab": {
          "base_uri": "https://localhost:8080/"
        }
      },
      "execution_count": 15,
      "outputs": [
        {
          "output_type": "stream",
          "name": "stdout",
          "text": [
            "Epoch 1/100\n",
            "9/9 [==============================] - 1s 26ms/step - loss: 1.7981 - accuracy: 0.2418 - val_loss: 1.7021 - val_accuracy: 0.4034\n",
            "Epoch 2/100\n",
            "9/9 [==============================] - 0s 6ms/step - loss: 1.6511 - accuracy: 0.3968 - val_loss: 1.5769 - val_accuracy: 0.4034\n",
            "Epoch 3/100\n",
            "9/9 [==============================] - 0s 6ms/step - loss: 1.4873 - accuracy: 0.4006 - val_loss: 1.4024 - val_accuracy: 0.4129\n",
            "Epoch 4/100\n",
            "9/9 [==============================] - 0s 7ms/step - loss: 1.3171 - accuracy: 0.4519 - val_loss: 1.2902 - val_accuracy: 0.5341\n",
            "Epoch 5/100\n",
            "9/9 [==============================] - 0s 7ms/step - loss: 1.2343 - accuracy: 0.5135 - val_loss: 1.2463 - val_accuracy: 0.5170\n",
            "Epoch 6/100\n",
            "9/9 [==============================] - 0s 8ms/step - loss: 1.1889 - accuracy: 0.5434 - val_loss: 1.2037 - val_accuracy: 0.5530\n",
            "Epoch 7/100\n",
            "9/9 [==============================] - 0s 6ms/step - loss: 1.1510 - accuracy: 0.5387 - val_loss: 1.1763 - val_accuracy: 0.5455\n",
            "Epoch 8/100\n",
            "9/9 [==============================] - 0s 7ms/step - loss: 1.1265 - accuracy: 0.5649 - val_loss: 1.1577 - val_accuracy: 0.5606\n",
            "Epoch 9/100\n",
            "9/9 [==============================] - 0s 6ms/step - loss: 1.1058 - accuracy: 0.5593 - val_loss: 1.1376 - val_accuracy: 0.5473\n",
            "Epoch 10/100\n",
            "9/9 [==============================] - 0s 9ms/step - loss: 1.0881 - accuracy: 0.5714 - val_loss: 1.1308 - val_accuracy: 0.5682\n",
            "Epoch 11/100\n",
            "9/9 [==============================] - 0s 6ms/step - loss: 1.0740 - accuracy: 0.5873 - val_loss: 1.1123 - val_accuracy: 0.5587\n",
            "Epoch 12/100\n",
            "9/9 [==============================] - 0s 9ms/step - loss: 1.0629 - accuracy: 0.5761 - val_loss: 1.1213 - val_accuracy: 0.5625\n",
            "Epoch 13/100\n",
            "9/9 [==============================] - 0s 6ms/step - loss: 1.0502 - accuracy: 0.5910 - val_loss: 1.0919 - val_accuracy: 0.5663\n",
            "Epoch 14/100\n",
            "9/9 [==============================] - 0s 8ms/step - loss: 1.0424 - accuracy: 0.5920 - val_loss: 1.0858 - val_accuracy: 0.5777\n",
            "Epoch 15/100\n",
            "9/9 [==============================] - 0s 7ms/step - loss: 1.0276 - accuracy: 0.5836 - val_loss: 1.0817 - val_accuracy: 0.5701\n",
            "Epoch 16/100\n",
            "9/9 [==============================] - 0s 6ms/step - loss: 1.0191 - accuracy: 0.5929 - val_loss: 1.0693 - val_accuracy: 0.5739\n",
            "Epoch 17/100\n",
            "9/9 [==============================] - 0s 6ms/step - loss: 1.0092 - accuracy: 0.6022 - val_loss: 1.0591 - val_accuracy: 0.5833\n",
            "Epoch 18/100\n",
            "9/9 [==============================] - 0s 6ms/step - loss: 1.0028 - accuracy: 0.5910 - val_loss: 1.0606 - val_accuracy: 0.5625\n",
            "Epoch 19/100\n",
            "9/9 [==============================] - 0s 6ms/step - loss: 0.9924 - accuracy: 0.5994 - val_loss: 1.0502 - val_accuracy: 0.5814\n",
            "Epoch 20/100\n",
            "9/9 [==============================] - 0s 7ms/step - loss: 0.9832 - accuracy: 0.5994 - val_loss: 1.0437 - val_accuracy: 0.5814\n",
            "Epoch 21/100\n",
            "9/9 [==============================] - 0s 6ms/step - loss: 0.9801 - accuracy: 0.5966 - val_loss: 1.0491 - val_accuracy: 0.5682\n",
            "Epoch 22/100\n",
            "9/9 [==============================] - 0s 6ms/step - loss: 0.9726 - accuracy: 0.5985 - val_loss: 1.0391 - val_accuracy: 0.5795\n",
            "Epoch 23/100\n",
            "9/9 [==============================] - 0s 6ms/step - loss: 0.9673 - accuracy: 0.5901 - val_loss: 1.0275 - val_accuracy: 0.5795\n",
            "Epoch 24/100\n",
            "9/9 [==============================] - 0s 7ms/step - loss: 0.9644 - accuracy: 0.6032 - val_loss: 1.0496 - val_accuracy: 0.5473\n",
            "Epoch 25/100\n",
            "9/9 [==============================] - 0s 7ms/step - loss: 0.9569 - accuracy: 0.6190 - val_loss: 1.0212 - val_accuracy: 0.5682\n",
            "Epoch 26/100\n",
            "9/9 [==============================] - 0s 7ms/step - loss: 0.9544 - accuracy: 0.6116 - val_loss: 1.0390 - val_accuracy: 0.5549\n",
            "Epoch 27/100\n",
            "9/9 [==============================] - 0s 6ms/step - loss: 0.9591 - accuracy: 0.6190 - val_loss: 1.0402 - val_accuracy: 0.5568\n",
            "Epoch 28/100\n",
            "9/9 [==============================] - 0s 6ms/step - loss: 0.9490 - accuracy: 0.6200 - val_loss: 1.0123 - val_accuracy: 0.5644\n",
            "Epoch 29/100\n",
            "9/9 [==============================] - 0s 7ms/step - loss: 0.9424 - accuracy: 0.6246 - val_loss: 1.0468 - val_accuracy: 0.5587\n",
            "Epoch 30/100\n",
            "9/9 [==============================] - 0s 7ms/step - loss: 0.9426 - accuracy: 0.6284 - val_loss: 1.0101 - val_accuracy: 0.5587\n",
            "Epoch 31/100\n",
            "9/9 [==============================] - 0s 6ms/step - loss: 0.9369 - accuracy: 0.6218 - val_loss: 1.0426 - val_accuracy: 0.5455\n",
            "Epoch 32/100\n",
            "9/9 [==============================] - 0s 6ms/step - loss: 0.9466 - accuracy: 0.6246 - val_loss: 1.0037 - val_accuracy: 0.5530\n",
            "Epoch 33/100\n",
            "9/9 [==============================] - 0s 8ms/step - loss: 0.9357 - accuracy: 0.6190 - val_loss: 1.0289 - val_accuracy: 0.5587\n",
            "Epoch 34/100\n",
            "9/9 [==============================] - 0s 6ms/step - loss: 0.9321 - accuracy: 0.6116 - val_loss: 1.0062 - val_accuracy: 0.5568\n",
            "Epoch 35/100\n",
            "9/9 [==============================] - 0s 7ms/step - loss: 0.9278 - accuracy: 0.6181 - val_loss: 1.0340 - val_accuracy: 0.5492\n",
            "Epoch 36/100\n",
            "9/9 [==============================] - 0s 6ms/step - loss: 0.9265 - accuracy: 0.6200 - val_loss: 1.0047 - val_accuracy: 0.5606\n",
            "Epoch 37/100\n",
            "9/9 [==============================] - 0s 7ms/step - loss: 0.9235 - accuracy: 0.6275 - val_loss: 1.0268 - val_accuracy: 0.5511\n",
            "Epoch 38/100\n",
            "9/9 [==============================] - 0s 6ms/step - loss: 0.9211 - accuracy: 0.6349 - val_loss: 1.0001 - val_accuracy: 0.5663\n",
            "Epoch 39/100\n",
            "9/9 [==============================] - 0s 6ms/step - loss: 0.9197 - accuracy: 0.6181 - val_loss: 1.0264 - val_accuracy: 0.5511\n",
            "Epoch 40/100\n",
            "9/9 [==============================] - 0s 6ms/step - loss: 0.9182 - accuracy: 0.6256 - val_loss: 0.9929 - val_accuracy: 0.5455\n",
            "Epoch 41/100\n",
            "9/9 [==============================] - 0s 8ms/step - loss: 0.9300 - accuracy: 0.6162 - val_loss: 1.0181 - val_accuracy: 0.5530\n",
            "Epoch 42/100\n",
            "9/9 [==============================] - 0s 6ms/step - loss: 0.9165 - accuracy: 0.6200 - val_loss: 0.9998 - val_accuracy: 0.5568\n",
            "Epoch 43/100\n",
            "9/9 [==============================] - 0s 6ms/step - loss: 0.9101 - accuracy: 0.6349 - val_loss: 0.9993 - val_accuracy: 0.5511\n",
            "Epoch 44/100\n",
            "9/9 [==============================] - 0s 6ms/step - loss: 0.9092 - accuracy: 0.6340 - val_loss: 0.9993 - val_accuracy: 0.5492\n",
            "Epoch 45/100\n",
            "9/9 [==============================] - 0s 8ms/step - loss: 0.9053 - accuracy: 0.6349 - val_loss: 0.9919 - val_accuracy: 0.5549\n",
            "Epoch 46/100\n",
            "9/9 [==============================] - 0s 6ms/step - loss: 0.9067 - accuracy: 0.6237 - val_loss: 1.0145 - val_accuracy: 0.5568\n",
            "Epoch 47/100\n",
            "9/9 [==============================] - 0s 6ms/step - loss: 0.9074 - accuracy: 0.6209 - val_loss: 0.9943 - val_accuracy: 0.5530\n",
            "Epoch 48/100\n",
            "9/9 [==============================] - 0s 7ms/step - loss: 0.9070 - accuracy: 0.6405 - val_loss: 0.9844 - val_accuracy: 0.5549\n",
            "Epoch 49/100\n",
            "9/9 [==============================] - 0s 6ms/step - loss: 0.9153 - accuracy: 0.6293 - val_loss: 1.0089 - val_accuracy: 0.5549\n",
            "Epoch 50/100\n",
            "9/9 [==============================] - 0s 6ms/step - loss: 0.8984 - accuracy: 0.6396 - val_loss: 0.9892 - val_accuracy: 0.5606\n",
            "Epoch 51/100\n",
            "9/9 [==============================] - 0s 8ms/step - loss: 0.8951 - accuracy: 0.6359 - val_loss: 0.9906 - val_accuracy: 0.5549\n",
            "Epoch 52/100\n",
            "9/9 [==============================] - 0s 7ms/step - loss: 0.8982 - accuracy: 0.6303 - val_loss: 1.0047 - val_accuracy: 0.5549\n",
            "Epoch 53/100\n",
            "9/9 [==============================] - 0s 6ms/step - loss: 0.9001 - accuracy: 0.6452 - val_loss: 0.9766 - val_accuracy: 0.5606\n",
            "Epoch 54/100\n",
            "9/9 [==============================] - 0s 6ms/step - loss: 0.8938 - accuracy: 0.6303 - val_loss: 0.9942 - val_accuracy: 0.5625\n",
            "Epoch 55/100\n",
            "9/9 [==============================] - 0s 6ms/step - loss: 0.8937 - accuracy: 0.6433 - val_loss: 0.9814 - val_accuracy: 0.5530\n",
            "Epoch 56/100\n",
            "9/9 [==============================] - 0s 15ms/step - loss: 0.8901 - accuracy: 0.6387 - val_loss: 1.0084 - val_accuracy: 0.5587\n",
            "Epoch 57/100\n",
            "9/9 [==============================] - 0s 12ms/step - loss: 0.8926 - accuracy: 0.6293 - val_loss: 0.9853 - val_accuracy: 0.5568\n",
            "Epoch 58/100\n",
            "9/9 [==============================] - 0s 10ms/step - loss: 0.8850 - accuracy: 0.6508 - val_loss: 0.9875 - val_accuracy: 0.5568\n",
            "Epoch 59/100\n",
            "9/9 [==============================] - 0s 15ms/step - loss: 0.8829 - accuracy: 0.6424 - val_loss: 0.9795 - val_accuracy: 0.5549\n",
            "Epoch 60/100\n",
            "9/9 [==============================] - 0s 11ms/step - loss: 0.8809 - accuracy: 0.6545 - val_loss: 0.9853 - val_accuracy: 0.5625\n",
            "Epoch 61/100\n",
            "9/9 [==============================] - 0s 10ms/step - loss: 0.8802 - accuracy: 0.6489 - val_loss: 0.9882 - val_accuracy: 0.5625\n",
            "Epoch 62/100\n",
            "9/9 [==============================] - 0s 9ms/step - loss: 0.8870 - accuracy: 0.6368 - val_loss: 0.9928 - val_accuracy: 0.5606\n",
            "Epoch 63/100\n",
            "9/9 [==============================] - 0s 10ms/step - loss: 0.8803 - accuracy: 0.6480 - val_loss: 0.9717 - val_accuracy: 0.5492\n",
            "Epoch 64/100\n",
            "9/9 [==============================] - 0s 14ms/step - loss: 0.8791 - accuracy: 0.6433 - val_loss: 0.9929 - val_accuracy: 0.5606\n",
            "Epoch 65/100\n",
            "9/9 [==============================] - 0s 15ms/step - loss: 0.8840 - accuracy: 0.6452 - val_loss: 0.9683 - val_accuracy: 0.5530\n",
            "Epoch 66/100\n",
            "9/9 [==============================] - 0s 17ms/step - loss: 0.8776 - accuracy: 0.6461 - val_loss: 1.0025 - val_accuracy: 0.5587\n",
            "Epoch 67/100\n",
            "9/9 [==============================] - 0s 13ms/step - loss: 0.8719 - accuracy: 0.6508 - val_loss: 0.9851 - val_accuracy: 0.5625\n",
            "Epoch 68/100\n",
            "9/9 [==============================] - 0s 16ms/step - loss: 0.8696 - accuracy: 0.6555 - val_loss: 0.9840 - val_accuracy: 0.5587\n",
            "Epoch 69/100\n",
            "9/9 [==============================] - 0s 13ms/step - loss: 0.8688 - accuracy: 0.6480 - val_loss: 0.9843 - val_accuracy: 0.5644\n",
            "Epoch 70/100\n",
            "9/9 [==============================] - 0s 8ms/step - loss: 0.8699 - accuracy: 0.6527 - val_loss: 0.9882 - val_accuracy: 0.5625\n",
            "Epoch 71/100\n",
            "9/9 [==============================] - 0s 10ms/step - loss: 0.8698 - accuracy: 0.6480 - val_loss: 0.9761 - val_accuracy: 0.5587\n",
            "Epoch 72/100\n",
            "9/9 [==============================] - 0s 10ms/step - loss: 0.8651 - accuracy: 0.6461 - val_loss: 0.9898 - val_accuracy: 0.5587\n",
            "Epoch 73/100\n",
            "9/9 [==============================] - 0s 11ms/step - loss: 0.8634 - accuracy: 0.6601 - val_loss: 0.9901 - val_accuracy: 0.5606\n",
            "Epoch 74/100\n",
            "9/9 [==============================] - 0s 16ms/step - loss: 0.8596 - accuracy: 0.6545 - val_loss: 0.9690 - val_accuracy: 0.5625\n",
            "Epoch 75/100\n",
            "9/9 [==============================] - 0s 15ms/step - loss: 0.8590 - accuracy: 0.6527 - val_loss: 0.9806 - val_accuracy: 0.5625\n",
            "Epoch 76/100\n",
            "9/9 [==============================] - 0s 16ms/step - loss: 0.8557 - accuracy: 0.6629 - val_loss: 0.9778 - val_accuracy: 0.5549\n",
            "Epoch 77/100\n",
            "9/9 [==============================] - 0s 13ms/step - loss: 0.8534 - accuracy: 0.6648 - val_loss: 0.9977 - val_accuracy: 0.5644\n",
            "Epoch 78/100\n",
            "9/9 [==============================] - 0s 10ms/step - loss: 0.8604 - accuracy: 0.6480 - val_loss: 0.9636 - val_accuracy: 0.5549\n",
            "Epoch 79/100\n",
            "9/9 [==============================] - 0s 10ms/step - loss: 0.8546 - accuracy: 0.6583 - val_loss: 1.0194 - val_accuracy: 0.5739\n",
            "Epoch 80/100\n",
            "9/9 [==============================] - 0s 12ms/step - loss: 0.8587 - accuracy: 0.6480 - val_loss: 0.9697 - val_accuracy: 0.5568\n",
            "Epoch 81/100\n",
            "9/9 [==============================] - 0s 15ms/step - loss: 0.8485 - accuracy: 0.6592 - val_loss: 1.0066 - val_accuracy: 0.5701\n",
            "Epoch 82/100\n",
            "9/9 [==============================] - 0s 10ms/step - loss: 0.8499 - accuracy: 0.6676 - val_loss: 0.9904 - val_accuracy: 0.5663\n",
            "Epoch 83/100\n",
            "9/9 [==============================] - 0s 10ms/step - loss: 0.8441 - accuracy: 0.6676 - val_loss: 0.9870 - val_accuracy: 0.5587\n",
            "Epoch 84/100\n",
            "9/9 [==============================] - 0s 17ms/step - loss: 0.8483 - accuracy: 0.6527 - val_loss: 0.9666 - val_accuracy: 0.5511\n",
            "Epoch 85/100\n",
            "9/9 [==============================] - 0s 11ms/step - loss: 0.8454 - accuracy: 0.6667 - val_loss: 1.0313 - val_accuracy: 0.5625\n",
            "Epoch 86/100\n",
            "9/9 [==============================] - 0s 10ms/step - loss: 0.8446 - accuracy: 0.6601 - val_loss: 0.9672 - val_accuracy: 0.5492\n",
            "Epoch 87/100\n",
            "9/9 [==============================] - 0s 17ms/step - loss: 0.8539 - accuracy: 0.6573 - val_loss: 0.9727 - val_accuracy: 0.5720\n",
            "Epoch 88/100\n",
            "9/9 [==============================] - 0s 9ms/step - loss: 0.8452 - accuracy: 0.6704 - val_loss: 1.0047 - val_accuracy: 0.5701\n",
            "Epoch 89/100\n",
            "9/9 [==============================] - 0s 12ms/step - loss: 0.8401 - accuracy: 0.6685 - val_loss: 0.9850 - val_accuracy: 0.5739\n",
            "Epoch 90/100\n",
            "9/9 [==============================] - 0s 11ms/step - loss: 0.8388 - accuracy: 0.6695 - val_loss: 0.9809 - val_accuracy: 0.5663\n",
            "Epoch 91/100\n",
            "9/9 [==============================] - 0s 13ms/step - loss: 0.8357 - accuracy: 0.6629 - val_loss: 0.9929 - val_accuracy: 0.5739\n",
            "Epoch 92/100\n",
            "9/9 [==============================] - 0s 15ms/step - loss: 0.8362 - accuracy: 0.6657 - val_loss: 0.9983 - val_accuracy: 0.5701\n",
            "Epoch 93/100\n",
            "9/9 [==============================] - 0s 11ms/step - loss: 0.8338 - accuracy: 0.6667 - val_loss: 0.9889 - val_accuracy: 0.5663\n",
            "Epoch 94/100\n",
            "9/9 [==============================] - 0s 10ms/step - loss: 0.8359 - accuracy: 0.6657 - val_loss: 0.9743 - val_accuracy: 0.5587\n",
            "Epoch 95/100\n",
            "9/9 [==============================] - 0s 10ms/step - loss: 0.8355 - accuracy: 0.6667 - val_loss: 1.0163 - val_accuracy: 0.5758\n",
            "Epoch 96/100\n",
            "9/9 [==============================] - 0s 19ms/step - loss: 0.8350 - accuracy: 0.6573 - val_loss: 0.9876 - val_accuracy: 0.5625\n",
            "Epoch 97/100\n",
            "9/9 [==============================] - 0s 13ms/step - loss: 0.8336 - accuracy: 0.6704 - val_loss: 0.9859 - val_accuracy: 0.5682\n",
            "Epoch 98/100\n",
            "9/9 [==============================] - 0s 10ms/step - loss: 0.8252 - accuracy: 0.6620 - val_loss: 0.9881 - val_accuracy: 0.5739\n",
            "Epoch 99/100\n",
            "9/9 [==============================] - 0s 10ms/step - loss: 0.8253 - accuracy: 0.6685 - val_loss: 0.9994 - val_accuracy: 0.5833\n",
            "Epoch 100/100\n",
            "9/9 [==============================] - 0s 16ms/step - loss: 0.8255 - accuracy: 0.6685 - val_loss: 0.9810 - val_accuracy: 0.5663\n"
          ]
        }
      ]
    },
    {
      "cell_type": "markdown",
      "source": [
        "# 2) Define a linear model\n",
        "\n",
        "Now define a linear model appropriate for this task. Pay attention to how many inputs and outputs the model should have."
      ],
      "metadata": {
        "id": "CEEa85Xzm4qH"
      }
    },
    {
      "cell_type": "code",
      "source": [
        "model.summary()"
      ],
      "metadata": {
        "execution": {
          "iopub.status.busy": "2022-04-01T09:57:19.225295Z",
          "iopub.execute_input": "2022-04-01T09:57:19.225843Z",
          "iopub.status.idle": "2022-04-01T09:57:19.237548Z",
          "shell.execute_reply.started": "2022-04-01T09:57:19.225808Z",
          "shell.execute_reply": "2022-04-01T09:57:19.236685Z"
        },
        "trusted": true,
        "id": "RwuUB91vm4qI",
        "outputId": "1f25241b-7a1c-418e-fe40-cb02111ab0e4",
        "colab": {
          "base_uri": "https://localhost:8080/"
        }
      },
      "execution_count": 16,
      "outputs": [
        {
          "output_type": "stream",
          "name": "stdout",
          "text": [
            "Model: \"sequential\"\n",
            "_________________________________________________________________\n",
            " Layer (type)                Output Shape              Param #   \n",
            "=================================================================\n",
            " dense (Dense)               (None, 128)               1536      \n",
            "                                                                 \n",
            " dense_1 (Dense)             (None, 64)                8256      \n",
            "                                                                 \n",
            " dense_2 (Dense)             (None, 32)                2080      \n",
            "                                                                 \n",
            " dense_3 (Dense)             (None, 6)                 198       \n",
            "                                                                 \n",
            "=================================================================\n",
            "Total params: 12,070\n",
            "Trainable params: 12,070\n",
            "Non-trainable params: 0\n",
            "_________________________________________________________________\n"
          ]
        }
      ]
    },
    {
      "cell_type": "code",
      "source": [
        ""
      ],
      "metadata": {
        "id": "JtcpDvZWE-ce"
      },
      "execution_count": 16,
      "outputs": []
    },
    {
      "cell_type": "code",
      "source": [
        "import pandas as pd\n",
        "\n",
        "# convert the training history to a dataframe\n",
        "history_df = pd.DataFrame(history.history)\n",
        "# use Pandas native plot method\n",
        "history_df.loc[0:100,['loss','val_loss']].plot()"
      ],
      "metadata": {
        "id": "i6FtZdYSoj2l",
        "outputId": "6e7fd618-e76d-4d7b-b6a5-16f06bdf2872",
        "colab": {
          "base_uri": "https://localhost:8080/",
          "height": 283
        }
      },
      "execution_count": 17,
      "outputs": [
        {
          "output_type": "execute_result",
          "data": {
            "text/plain": [
              "<matplotlib.axes._subplots.AxesSubplot at 0x7f7f0860ac50>"
            ]
          },
          "metadata": {},
          "execution_count": 17
        },
        {
          "output_type": "display_data",
          "data": {
            "text/plain": [
              "<Figure size 432x288 with 1 Axes>"
            ],
            "image/png": "[encoded data removed]"
          },
          "metadata": {
            "needs_background": "light"
          }
        }
      ]
    },
    {
      "cell_type": "code",
      "source": [
        "plt.plot(history.history['accuracy'], label='Accuracy training data')\n",
        "plt.plot(history.history['val_accuracy'], label='Accuracy validation data')\n",
        "plt.legend()\n",
        "plt.title('Model accuracy')\n",
        "plt.ylabel('Accuracy')\n",
        "plt.xlabel('epoch')\n",
        "plt.show()"
      ],
      "metadata": {
        "id": "BvlQAgyVmDFk",
        "outputId": "2122fc53-c190-483c-9977-a6779efa54e6",
        "colab": {
          "base_uri": "https://localhost:8080/",
          "height": 295
        }
      },
      "execution_count": 18,
      "outputs": [
        {
          "output_type": "display_data",
          "data": {
            "text/plain": [
              "<Figure size 432x288 with 1 Axes>"
            ],
            "image/png": "[encoded data removed]"
          },
          "metadata": {
            "needs_background": "light"
          }
        }
      ]
    },
    {
      "cell_type": "code",
      "source": [
        "# mse_value, mae_value = model.evaluate(X_test, y_test, verbose=0)\n",
        "\n",
        "# print(mse_value)"
      ],
      "metadata": {
        "id": "EDO4vhapE_bi"
      },
      "execution_count": 19,
      "outputs": []
    },
    {
      "cell_type": "code",
      "source": [
        "y_pred = model.predict(X_test)"
      ],
      "metadata": {
        "id": "8HIcDR9tFCWg"
      },
      "execution_count": 20,
      "outputs": []
    },
    {
      "cell_type": "code",
      "source": [
        "y_pred[0]"
      ],
      "metadata": {
        "id": "WNigXt_kFIvR",
        "outputId": "07f9b849-aef4-48d8-801f-34543ba0ee0f",
        "colab": {
          "base_uri": "https://localhost:8080/"
        }
      },
      "execution_count": 21,
      "outputs": [
        {
          "output_type": "execute_result",
          "data": {
            "text/plain": [
              "array([0.00380576, 0.01565272, 0.4581032 , 0.49123368, 0.02958525,\n",
              "       0.00161934], dtype=float32)"
            ]
          },
          "metadata": {},
          "execution_count": 21
        }
      ]
    },
    {
      "cell_type": "code",
      "source": [
        "y_test"
      ],
      "metadata": {
        "id": "vY0bATdwFQW4",
        "outputId": "2882ed18-9f2d-41d1-f0bb-34fbba079e14",
        "colab": {
          "base_uri": "https://localhost:8080/"
        }
      },
      "execution_count": 22,
      "outputs": [
        {
          "output_type": "execute_result",
          "data": {
            "text/plain": [
              "array([3, 2, 3, 2, 3, 2, 2, 2, 2, 3, 4, 0, 2, 2, 3, 4, 2, 4, 5, 2, 2, 3,\n",
              "       2, 3, 3, 3, 4, 3, 2, 3, 2, 2, 3, 2, 3, 2, 4, 2, 1, 3, 2, 2, 4, 2,\n",
              "       2, 3, 4, 3, 2, 3, 2, 2, 2, 4, 3, 3, 3, 2, 2, 2, 2, 4, 2, 3, 3, 2,\n",
              "       3, 2, 3, 2, 3, 1, 3, 3, 3, 2, 5, 2, 3, 3, 2, 3, 2, 3, 3, 4, 2, 3,\n",
              "       4, 1, 4, 3, 2, 2, 2, 3, 2, 3, 2, 3, 2, 2, 2, 4, 3, 4, 3, 2, 3, 2,\n",
              "       5, 2, 3, 2, 3, 4, 3, 3, 2, 3, 3, 3, 3, 3, 3, 3, 4, 3, 2, 2, 3, 2,\n",
              "       2, 2, 3, 2, 2, 2, 2, 3, 4, 3, 5, 2, 2, 2, 3, 3, 3, 2, 3, 4, 3, 2,\n",
              "       3, 2, 2, 3, 3, 3, 4, 2, 4, 2, 2, 2, 3, 3, 2, 2, 3, 2, 4, 3, 4, 3,\n",
              "       3, 2, 2, 3, 1, 3, 2, 4, 2, 2, 1, 2, 4, 3, 2, 3, 3, 4, 3, 2, 2, 3,\n",
              "       2, 4, 2, 3, 3, 2, 4, 2, 2, 2, 3, 4, 4, 2, 2, 3, 3, 4, 3, 2, 3, 3,\n",
              "       3, 3, 3, 4, 1, 2, 2, 4, 2, 2, 2, 2, 3, 3, 2, 4, 2, 3, 3, 3, 2, 1,\n",
              "       3, 4, 3, 4, 2, 3, 3, 2, 2, 3, 2, 3, 1, 2, 3, 3, 2, 3, 3, 2, 2, 3,\n",
              "       4, 4, 3, 2, 3, 3, 2, 3, 2, 3, 2, 2, 2, 3, 3, 3, 4, 2, 2, 3, 2, 4,\n",
              "       2, 3, 1, 3, 3, 5, 3, 2, 2, 3, 2, 4, 3, 3, 2, 2, 4, 3, 3, 2, 3, 3,\n",
              "       2, 4, 3, 3, 3, 3, 2, 3, 2, 2, 3, 1, 3, 3, 3, 2, 2, 2, 3, 3, 3, 3,\n",
              "       1, 4, 3, 3, 3, 2, 3, 4, 2, 2, 3, 4, 2, 2, 3, 2, 3, 2, 3, 2, 2, 3,\n",
              "       2, 3, 3, 3, 2, 3, 1, 2, 1, 2, 2, 3, 2, 3, 3, 2, 2, 2, 2, 2, 3, 2,\n",
              "       3, 3, 3, 2, 2, 3, 2, 2, 3, 3, 3, 4, 3, 2, 2, 3, 3, 2, 2, 3, 4, 3,\n",
              "       2, 3, 2, 4, 2, 2, 4, 2, 3, 4, 4, 3, 3, 2, 3, 3, 4, 3, 2, 4, 3, 3,\n",
              "       3, 2, 2, 2, 2, 2, 3, 2, 2, 2, 4, 3, 4, 3, 1, 2, 4, 2, 2, 2, 3, 3,\n",
              "       3, 3, 3, 2, 3, 2, 3, 2, 3, 3, 4, 1, 3, 2, 3, 3, 4, 2, 4, 2, 2, 3,\n",
              "       2, 2, 3, 2, 3, 2, 2, 3, 3, 1, 2, 3, 2, 4, 5, 3, 4, 1, 4, 2, 2, 3,\n",
              "       2, 3, 4, 2, 2, 2, 3, 2, 2, 2, 3, 2, 4, 2, 2, 2, 2, 3, 3, 2, 3, 2,\n",
              "       3, 3, 4, 3, 3, 4, 2, 0, 2, 5, 1, 3, 4, 2, 3, 2, 4, 1, 4, 4, 2, 2])"
            ]
          },
          "metadata": {},
          "execution_count": 22
        }
      ]
    },
    {
      "cell_type": "code",
      "source": [
        "# from sklearn.metrics import r2_score\n",
        "\n",
        "# r2_score(y_test, y_pred)"
      ],
      "metadata": {
        "id": "kdEqEiKzFG3F"
      },
      "execution_count": 24,
      "outputs": []
    }
  ]
}