{
  "nbformat": 4,
  "nbformat_minor": 0,
  "metadata": {
    "colab": {
      "name": "Untitled8.ipynb",
      "provenance": [],
      "authorship_tag": "ABX9TyOf1ke3FYZjYUZtcLweTZOy",
      "include_colab_link": true
    },
    "kernelspec": {
      "name": "python3",
      "display_name": "Python 3"
    },
    "language_info": {
      "name": "python"
    }
  },
  "cells": [
    {
      "cell_type": "markdown",
      "metadata": {
        "id": "view-in-github",
        "colab_type": "text"
      },
      "source": [
        "<a href=\"https://colab.research.google.com/github/JSJeong-me/Machine_Learning/blob/main/ML/9_kmeans.ipynb\" target=\"_parent\"><img src=\"https://colab.research.google.com/assets/colab-badge.svg\" alt=\"Open In Colab\"/></a>"
      ]
    },
    {
      "cell_type": "code",
      "execution_count": 1,
      "metadata": {
        "colab": {
          "base_uri": "https://localhost:8080/",
          "height": 731
        },
        "id": "S2KbGkOn462G",
        "outputId": "e2b3d5c5-1ebf-48a5-8b0e-76da14cb8758"
      },
      "outputs": [
        {
          "output_type": "stream",
          "name": "stdout",
          "text": [
            "Input data:\n",
            "[[1 4]\n",
            " [2 2]\n",
            " [2 5]\n",
            " [3 3]\n",
            " [3 4]\n",
            " [4 7]\n",
            " [5 6]\n",
            " [6 4]\n",
            " [6 7]\n",
            " [7 6]\n",
            " [7 9]\n",
            " [8 7]\n",
            " [8 9]\n",
            " [9 4]\n",
            " [9 8]]\n",
            "clusters:\n",
            "[1 1 1 1 1 2 2 2 2 2 0 0 0 2 0]\n",
            "kmeans.inertia: 36.91666666666667\n",
            "kmeans.labels: [1 1 1 1 1 2 2 2 2 2 0 0 0 2 0]\n",
            "kmeans.algorithm: auto\n",
            "For n_clusters = 3 The average silhouette_score is : 0.4153407670307898\n",
            "sample_silhouette_values:\n",
            " [0.65074033 0.6185424  0.5478873  0.61705197 0.57919343 0.18887114\n",
            " 0.39498669 0.28747698 0.05572809 0.10496279 0.52273767 0.34845742\n",
            " 0.64952186 0.07634037 0.58761307]\n"
          ]
        },
        {
          "output_type": "display_data",
          "data": {
            "text/plain": [
              "<Figure size 432x288 with 1 Axes>"
            ],
            "image/png": "[encoded data removed]"
          },
          "metadata": {
            "needs_background": "light"
          }
        }
      ],
      "source": [
        "import numpy as np\n",
        "import pandas as pd\n",
        "\n",
        "import matplotlib.pyplot as plt\n",
        "\n",
        "# import sci-kit learn\n",
        "from sklearn.cluster import KMeans\n",
        "from sklearn.metrics import silhouette_samples, silhouette_score\n",
        "\n",
        "# 입력 data 정의\n",
        "df = np.array([[1,4],[2,2],[2,5],[3,3],[3,4],[4,7],[5,6],[6,4],[6,7],[7,6],[7,9],[8,7],[8,9],[9,4],[9,8]])\n",
        "print ('Input data:')\n",
        "print (df)\n",
        "\n",
        "# cluster 개수 정의\n",
        "n_clusters = 3\n",
        "\n",
        "# K-mean 알고리즘 적용\n",
        "kmeans = KMeans(n_clusters=n_clusters, init='k-means++', max_iter=300, n_init=10)\n",
        "\n",
        "# k-mean cluster결과 \n",
        "y_pred = kmeans.fit_predict(df)\n",
        "\n",
        "\n",
        "# The silhouette_score gives the average value for all the samples.\n",
        "# This gives a perspective into the density and separation of the formed clusters\n",
        "# https://scikit-learn.org/stable/auto_examples/cluster/plot_kmeans_silhouette_analysis.html\n",
        "silhouette_avg = silhouette_score(df, y_pred)\n",
        "\n",
        "# Compute the silhouette scores for each sample\n",
        "sample_silhouette_values = silhouette_samples(df, y_pred)\n",
        "\n",
        "print ('clusters:')\n",
        "print (y_pred)\n",
        "\n",
        "print ('kmeans.inertia:',kmeans.inertia_)\n",
        "print ('kmeans.labels:',kmeans.labels_)\n",
        "print ('kmeans.algorithm:',kmeans.algorithm)\n",
        "\n",
        "# select # of cluster\n",
        "print(\"For n_clusters =\", n_clusters, \"The average silhouette_score is :\", silhouette_avg)\n",
        "print ('sample_silhouette_values:\\n', sample_silhouette_values)\n",
        "\n",
        "# plot\n",
        "plt.scatter(df[:,0], df[:,1])\n",
        "plt.savefig('05_kmeans_original.png')\n",
        "plt.clf()\n",
        "\n",
        "plt.scatter(df[:,0], df[:,1], c=y_pred)\n",
        "plt.scatter(kmeans.cluster_centers_[:, 0], kmeans.cluster_centers_[:, 1], s=100, c='red')\n",
        "plt.savefig('05_kmeans_centers.png')"
      ]
    }
  ]
}