{
  "nbformat": 4,
  "nbformat_minor": 0,
  "metadata": {
    "colab": {
      "name": "Untitled8.ipynb",
      "provenance": [],
      "authorship_tag": "ABX9TyOTnrUyIB+5yYpzKWKh4IXl",
      "include_colab_link": true
    },
    "kernelspec": {
      "name": "python3",
      "display_name": "Python 3"
    },
    "language_info": {
      "name": "python"
    }
  },
  "cells": [
    {
      "cell_type": "markdown",
      "metadata": {
        "id": "view-in-github",
        "colab_type": "text"
      },
      "source": [
        "<a href=\"https://colab.research.google.com/github/JSJeong-me/Machine_Learning/blob/main/ML/9_kmeans.ipynb\" target=\"_parent\"><img src=\"https://colab.research.google.com/assets/colab-badge.svg\" alt=\"Open In Colab\"/></a>"
      ]
    },
    {
      "cell_type": "markdown",
      "source": [
        "![05_kmeans_original.png](data:image/png;base64,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)"
      ],
      "metadata": {
        "id": "ZwB0lxk75dbb"
      }
    },
    {
      "cell_type": "code",
      "source": [
        "import numpy as np\n",
        "import pandas as pd\n",
        "\n",
        "import matplotlib.pyplot as plt\n",
        "\n",
        "# import sci-kit learn\n",
        "from sklearn.cluster import KMeans\n",
        "from sklearn.metrics import silhouette_samples, silhouette_score"
      ],
      "metadata": {
        "id": "Gwi48REH6Ivh"
      },
      "execution_count": null,
      "outputs": []
    },
    {
      "cell_type": "code",
      "source": [
        "# 입력 data 정의\n",
        "df = np.array([[1,4],[2,2],[2,5],[3,3],[3,4],[4,7],[5,6],[6,4],[6,7],[7,6],[7,9],[8,7],[8,9],[9,4],[9,8]])\n",
        "print ('Input data:')\n",
        "print (df)"
      ],
      "metadata": {
        "id": "tX3UO-nl6LdL"
      },
      "execution_count": null,
      "outputs": []
    },
    {
      "cell_type": "code",
      "source": [
        "# cluster 개수 정의\n",
        "n_clusters = 3\n",
        "\n",
        "# K-mean 알고리즘 적용\n",
        "kmeans = KMeans(n_clusters=n_clusters, init='k-means++', max_iter=300, n_init=10)"
      ],
      "metadata": {
        "id": "w1t2IH6Z6PZp"
      },
      "execution_count": null,
      "outputs": []
    },
    {
      "cell_type": "code",
      "source": [
        "# k-mean cluster결과 \n",
        "y_pred = kmeans.fit_predict(df)"
      ],
      "metadata": {
        "id": "sDHLu0_Y6RKI"
      },
      "execution_count": null,
      "outputs": []
    },
    {
      "cell_type": "code",
      "source": [
        "# The silhouette_score gives the average value for all the samples.\n",
        "# This gives a perspective into the density and separation of the formed clusters\n",
        "# https://scikit-learn.org/stable/auto_examples/cluster/plot_kmeans_silhouette_analysis.html\n",
        "silhouette_avg = silhouette_score(df, y_pred)"
      ],
      "metadata": {
        "id": "pqGQcCNd6UuQ"
      },
      "execution_count": null,
      "outputs": []
    },
    {
      "cell_type": "code",
      "source": [
        "# Compute the silhouette scores for each sample\n",
        "sample_silhouette_values = silhouette_samples(df, y_pred)"
      ],
      "metadata": {
        "id": "UozxpLKK6YJ_"
      },
      "execution_count": null,
      "outputs": []
    },
    {
      "cell_type": "code",
      "source": [
        "print ('clusters:')\n",
        "print (y_pred)\n",
        "\n",
        "print ('kmeans.inertia:',kmeans.inertia_)\n",
        "print ('kmeans.labels:',kmeans.labels_)\n",
        "print ('kmeans.algorithm:',kmeans.algorithm)"
      ],
      "metadata": {
        "id": "-iefEeLO6cKc"
      },
      "execution_count": null,
      "outputs": []
    },
    {
      "cell_type": "code",
      "source": [
        "# select # of cluster\n",
        "print(\"For n_clusters =\", n_clusters, \"The average silhouette_score is :\", silhouette_avg)\n",
        "print ('sample_silhouette_values:\\n', sample_silhouette_values)"
      ],
      "metadata": {
        "id": "d_yM98JF6yXq"
      },
      "execution_count": null,
      "outputs": []
    },
    {
      "cell_type": "code",
      "execution_count": null,
      "metadata": {
        "id": "S2KbGkOn462G"
      },
      "outputs": [],
      "source": [
        "# plot\n",
        "plt.scatter(df[:,0], df[:,1])\n",
        "plt.savefig('05_kmeans_original.png')\n",
        "plt.clf()\n",
        "\n",
        "plt.scatter(df[:,0], df[:,1], c=y_pred)\n",
        "plt.scatter(kmeans.cluster_centers_[:, 0], kmeans.cluster_centers_[:, 1], s=100, c='red')\n",
        "plt.savefig('05_kmeans_centers.png')"
      ]
    }
  ]
}