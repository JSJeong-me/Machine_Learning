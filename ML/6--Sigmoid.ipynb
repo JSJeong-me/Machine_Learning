{
  "nbformat": 4,
  "nbformat_minor": 0,
  "metadata": {
    "colab": {
      "name": "Untitled3.ipynb",
      "provenance": [],
      "authorship_tag": "ABX9TyPoevRHta8SFLG9FE7Ay6Kt",
      "include_colab_link": true
    },
    "kernelspec": {
      "name": "python3",
      "display_name": "Python 3"
    },
    "language_info": {
      "name": "python"
    }
  },
  "cells": [
    {
      "cell_type": "markdown",
      "metadata": {
        "id": "view-in-github",
        "colab_type": "text"
      },
      "source": [
        "<a href=\"https://colab.research.google.com/github/JSJeong-me/Machine_Learning/blob/main/ML/6--Sigmoid.ipynb\" target=\"_parent\"><img src=\"https://colab.research.google.com/assets/colab-badge.svg\" alt=\"Open In Colab\"/></a>"
      ]
    },
    {
      "cell_type": "code",
      "execution_count": 2,
      "metadata": {
        "colab": {
          "base_uri": "https://localhost:8080/",
          "height": 265
        },
        "id": "NMG9OVzYiWJh",
        "outputId": "b2d07131-5b89-4381-dbf2-dcd7e193e78e"
      },
      "outputs": [
        {
          "output_type": "display_data",
          "data": {
            "text/plain": [
              "<Figure size 432x288 with 1 Axes>"
            ],
            "image/png": "[encoded data removed]"
          },
          "metadata": {
            "needs_background": "light"
          }
        }
      ],
      "source": [
        "# example plot for the sigmoid activation function\n",
        "from math import exp\n",
        "from matplotlib import pyplot\n",
        "\n",
        "# sigmoid activation function\n",
        "def sigmoid(x):\n",
        "\treturn 1.0 / (1.0 + exp(-x))\n",
        "\n",
        "# define input data\n",
        "inputs = [x for x in range(-10, 10)]\n",
        "# calculate outputs\n",
        "outputs = [sigmoid(x) for x in inputs]\n",
        "# plot inputs vs outputs\n",
        "pyplot.plot(inputs, outputs)\n",
        "pyplot.show()"
      ]
    }
  ]
}