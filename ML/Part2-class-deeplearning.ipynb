{
  "metadata": {
    "kernelspec": {
      "language": "python",
      "display_name": "Python 3",
      "name": "python3"
    },
    "language_info": {
      "name": "python",
      "version": "3.7.12",
      "mimetype": "text/x-python",
      "codemirror_mode": {
        "name": "ipython",
        "version": 3
      },
      "pygments_lexer": "ipython3",
      "nbconvert_exporter": "python",
      "file_extension": ".py"
    },
    "colab": {
      "name": "notebook0fdae1b397.ipynb",
      "provenance": [],
      "include_colab_link": true
    }
  },
  "nbformat_minor": 0,
  "nbformat": 4,
  "cells": [
    {
      "cell_type": "markdown",
      "metadata": {
        "id": "view-in-github",
        "colab_type": "text"
      },
      "source": [
        "<a href=\"https://colab.research.google.com/github/JSJeong-me/Machine_Learning/blob/main/ML/Part2-class-deeplearning.ipynb\" target=\"_parent\"><img src=\"https://colab.research.google.com/assets/colab-badge.svg\" alt=\"Open In Colab\"/></a>"
      ]
    },
    {
      "cell_type": "markdown",
      "source": [
        "**This notebook is an exercise in the [Intro to Deep Learning](https://www.kaggle.com/learn/intro-to-deep-learning) course.  You can reference the tutorial at [this link](https://www.kaggle.com/ryanholbrook/a-single-neuron).**\n",
        "\n",
        "---\n"
      ],
      "metadata": {
        "id": "3mUBPSlwm4qA"
      }
    },
    {
      "cell_type": "markdown",
      "source": [
        "# Introduction #\n",
        "\n",
        "In the tutorial we learned about the building blocks of neural networks: *linear units*. We saw that a model of just one linear unit will fit a linear function to a dataset (equivalent to linear regression). In this exercise, you'll build a linear model and get some practice working with models in Keras.\n",
        "\n",
        "Before you get started, run the code cell below to set everything up."
      ],
      "metadata": {
        "id": "lu_BKhPIm4qE"
      }
    },
    {
      "cell_type": "markdown",
      "source": [
        "The *Red Wine Quality* dataset consists of physiochemical measurements from about 1600 Portuguese red wines.  Also included is a quality rating for each wine from blind taste-tests. \n",
        "\n",
        "First, run the next cell to display the first few rows of this dataset."
      ],
      "metadata": {
        "id": "beV27Dokm4qF"
      }
    },
    {
      "cell_type": "code",
      "source": [
        "import pandas as pd\n",
        "from IPython.display import display\n",
        "\n",
        "red_wine = pd.read_csv('winequality-red.csv')"
      ],
      "metadata": {
        "id": "oOsO38pc7e7i"
      },
      "execution_count": 1,
      "outputs": []
    },
    {
      "cell_type": "code",
      "source": [
        "#for setting up train and test sets\n",
        "from sklearn.model_selection import train_test_split\n",
        "from sklearn.preprocessing import StandardScaler"
      ],
      "metadata": {
        "id": "utg6bvBNcPUA"
      },
      "execution_count": 2,
      "outputs": []
    },
    {
      "cell_type": "code",
      "source": [
        "y = red_wine['quality']\n",
        "X = red_wine.drop(columns = 'quality')"
      ],
      "metadata": {
        "id": "1Pu8-raNcXIj"
      },
      "execution_count": 3,
      "outputs": []
    },
    {
      "cell_type": "code",
      "source": [
        ""
      ],
      "metadata": {
        "id": "Yz9Wvao2d2zj"
      },
      "execution_count": 3,
      "outputs": []
    },
    {
      "cell_type": "code",
      "source": [
        "X_train,X_test,y_train,y_test = train_test_split(X,y,test_size=0.2,random_state=1)\n",
        "\n",
        "print(X_train.shape)\n",
        "print(X_test.shape)\n",
        "print(y_train.shape)\n",
        "print(y_test.shape)"
      ],
      "metadata": {
        "id": "ZUt888a4crgr",
        "outputId": "2ac0ca1f-b56b-46e9-ddc1-9b839c113ef3",
        "colab": {
          "base_uri": "https://localhost:8080/"
        }
      },
      "execution_count": 4,
      "outputs": [
        {
          "output_type": "stream",
          "name": "stdout",
          "text": [
            "(1279, 11)\n",
            "(320, 11)\n",
            "(1279,)\n",
            "(320,)\n"
          ]
        }
      ]
    },
    {
      "cell_type": "code",
      "source": [
        "sc = StandardScaler()\n",
        "X_train = sc.fit_transform(X_train)\n",
        "X_test = sc.transform(X_test)"
      ],
      "metadata": {
        "id": "aVf7VHmTd6I5"
      },
      "execution_count": 5,
      "outputs": []
    },
    {
      "cell_type": "code",
      "source": [
        "type(X_train)"
      ],
      "metadata": {
        "id": "ralHcXIs7YOI",
        "outputId": "74e42024-1fa6-48e5-ef92-abc02d7c067b",
        "colab": {
          "base_uri": "https://localhost:8080/"
        }
      },
      "execution_count": 6,
      "outputs": [
        {
          "output_type": "execute_result",
          "data": {
            "text/plain": [
              "numpy.ndarray"
            ]
          },
          "metadata": {},
          "execution_count": 6
        }
      ]
    },
    {
      "cell_type": "code",
      "source": [
        "import pandas as pd\n"
      ],
      "metadata": {
        "id": "cbCfY8Or7msp"
      },
      "execution_count": 7,
      "outputs": []
    },
    {
      "cell_type": "code",
      "source": [
        "train_df = pd.DataFrame(X_train)"
      ],
      "metadata": {
        "id": "VXlCowZd7jd5"
      },
      "execution_count": 8,
      "outputs": []
    },
    {
      "cell_type": "code",
      "source": [
        "train_df.describe().round()"
      ],
      "metadata": {
        "id": "zz1xmkwI7yl6",
        "outputId": "d237846c-ece0-4909-c61b-404a325fdedd",
        "colab": {
          "base_uri": "https://localhost:8080/",
          "height": 300
        }
      },
      "execution_count": 9,
      "outputs": [
        {
          "output_type": "execute_result",
          "data": {
            "text/plain": [
              "           0       1       2       3       4       5       6       7       8   \\\n",
              "count  1279.0  1279.0  1279.0  1279.0  1279.0  1279.0  1279.0  1279.0  1279.0   \n",
              "mean     -0.0    -0.0     0.0    -0.0     0.0    -0.0    -0.0    -0.0    -0.0   \n",
              "std       1.0     1.0     1.0     1.0     1.0     1.0     1.0     1.0     1.0   \n",
              "min      -2.0    -2.0    -1.0    -1.0    -2.0    -1.0    -1.0    -3.0    -4.0   \n",
              "25%      -1.0    -1.0    -1.0    -0.0    -0.0    -1.0    -1.0    -1.0    -1.0   \n",
              "50%      -0.0    -0.0    -0.0    -0.0    -0.0    -0.0    -0.0     0.0    -0.0   \n",
              "75%       1.0     1.0     1.0     0.0     0.0     1.0     0.0     1.0     1.0   \n",
              "max       4.0     6.0     4.0     9.0    11.0     5.0     7.0     4.0     4.0   \n",
              "\n",
              "           9       10  \n",
              "count  1279.0  1279.0  \n",
              "mean      0.0    -0.0  \n",
              "std       1.0     1.0  \n",
              "min      -2.0    -2.0  \n",
              "25%      -1.0    -1.0  \n",
              "50%      -0.0    -0.0  \n",
              "75%       0.0     1.0  \n",
              "max       8.0     4.0  "
            ],
            "text/html": [
              "\n",
              "  <div id=\"df-bea67e6c-9346-42c3-bc3b-6df734d7dde7\">\n",
              "    <div class=\"colab-df-container\">\n",
              "      <div>\n",
              "<style scoped>\n",
              "    .dataframe tbody tr th:only-of-type {\n",
              "        vertical-align: middle;\n",
              "    }\n",
              "\n",
              "    .dataframe tbody tr th {\n",
              "        vertical-align: top;\n",
              "    }\n",
              "\n",
              "    .dataframe thead th {\n",
              "        text-align: right;\n",
              "    }\n",
              "</style>\n",
              "<table border=\"1\" class=\"dataframe\">\n",
              "  <thead>\n",
              "    <tr style=\"text-align: right;\">\n",
              "      <th></th>\n",
              "      <th>0</th>\n",
              "      <th>1</th>\n",
              "      <th>2</th>\n",
              "      <th>3</th>\n",
              "      <th>4</th>\n",
              "      <th>5</th>\n",
              "      <th>6</th>\n",
              "      <th>7</th>\n",
              "      <th>8</th>\n",
              "      <th>9</th>\n",
              "      <th>10</th>\n",
              "    </tr>\n",
              "  </thead>\n",
              "  <tbody>\n",
              "    <tr>\n",
              "      <th>count</th>\n",
              "      <td>1279.0</td>\n",
              "      <td>1279.0</td>\n",
              "      <td>1279.0</td>\n",
              "      <td>1279.0</td>\n",
              "      <td>1279.0</td>\n",
              "      <td>1279.0</td>\n",
              "      <td>1279.0</td>\n",
              "      <td>1279.0</td>\n",
              "      <td>1279.0</td>\n",
              "      <td>1279.0</td>\n",
              "      <td>1279.0</td>\n",
              "    </tr>\n",
              "    <tr>\n",
              "      <th>mean</th>\n",
              "      <td>-0.0</td>\n",
              "      <td>-0.0</td>\n",
              "      <td>0.0</td>\n",
              "      <td>-0.0</td>\n",
              "      <td>0.0</td>\n",
              "      <td>-0.0</td>\n",
              "      <td>-0.0</td>\n",
              "      <td>-0.0</td>\n",
              "      <td>-0.0</td>\n",
              "      <td>0.0</td>\n",
              "      <td>-0.0</td>\n",
              "    </tr>\n",
              "    <tr>\n",
              "      <th>std</th>\n",
              "      <td>1.0</td>\n",
              "      <td>1.0</td>\n",
              "      <td>1.0</td>\n",
              "      <td>1.0</td>\n",
              "      <td>1.0</td>\n",
              "      <td>1.0</td>\n",
              "      <td>1.0</td>\n",
              "      <td>1.0</td>\n",
              "      <td>1.0</td>\n",
              "      <td>1.0</td>\n",
              "      <td>1.0</td>\n",
              "    </tr>\n",
              "    <tr>\n",
              "      <th>min</th>\n",
              "      <td>-2.0</td>\n",
              "      <td>-2.0</td>\n",
              "      <td>-1.0</td>\n",
              "      <td>-1.0</td>\n",
              "      <td>-2.0</td>\n",
              "      <td>-1.0</td>\n",
              "      <td>-1.0</td>\n",
              "      <td>-3.0</td>\n",
              "      <td>-4.0</td>\n",
              "      <td>-2.0</td>\n",
              "      <td>-2.0</td>\n",
              "    </tr>\n",
              "    <tr>\n",
              "      <th>25%</th>\n",
              "      <td>-1.0</td>\n",
              "      <td>-1.0</td>\n",
              "      <td>-1.0</td>\n",
              "      <td>-0.0</td>\n",
              "      <td>-0.0</td>\n",
              "      <td>-1.0</td>\n",
              "      <td>-1.0</td>\n",
              "      <td>-1.0</td>\n",
              "      <td>-1.0</td>\n",
              "      <td>-1.0</td>\n",
              "      <td>-1.0</td>\n",
              "    </tr>\n",
              "    <tr>\n",
              "      <th>50%</th>\n",
              "      <td>-0.0</td>\n",
              "      <td>-0.0</td>\n",
              "      <td>-0.0</td>\n",
              "      <td>-0.0</td>\n",
              "      <td>-0.0</td>\n",
              "      <td>-0.0</td>\n",
              "      <td>-0.0</td>\n",
              "      <td>0.0</td>\n",
              "      <td>-0.0</td>\n",
              "      <td>-0.0</td>\n",
              "      <td>-0.0</td>\n",
              "    </tr>\n",
              "    <tr>\n",
              "      <th>75%</th>\n",
              "      <td>1.0</td>\n",
              "      <td>1.0</td>\n",
              "      <td>1.0</td>\n",
              "      <td>0.0</td>\n",
              "      <td>0.0</td>\n",
              "      <td>1.0</td>\n",
              "      <td>0.0</td>\n",
              "      <td>1.0</td>\n",
              "      <td>1.0</td>\n",
              "      <td>0.0</td>\n",
              "      <td>1.0</td>\n",
              "    </tr>\n",
              "    <tr>\n",
              "      <th>max</th>\n",
              "      <td>4.0</td>\n",
              "      <td>6.0</td>\n",
              "      <td>4.0</td>\n",
              "      <td>9.0</td>\n",
              "      <td>11.0</td>\n",
              "      <td>5.0</td>\n",
              "      <td>7.0</td>\n",
              "      <td>4.0</td>\n",
              "      <td>4.0</td>\n",
              "      <td>8.0</td>\n",
              "      <td>4.0</td>\n",
              "    </tr>\n",
              "  </tbody>\n",
              "</table>\n",
              "</div>\n",
              "      <button class=\"colab-df-convert\" onclick=\"convertToInteractive('df-bea67e6c-9346-42c3-bc3b-6df734d7dde7')\"\n",
              "              title=\"Convert this dataframe to an interactive table.\"\n",
              "              style=\"display:none;\">\n",
              "        \n",
              "  <svg xmlns=\"http://www.w3.org/2000/svg\" height=\"24px\"viewBox=\"0 0 24 24\"\n",
              "       width=\"24px\">\n",
              "    <path d=\"M0 0h24v24H0V0z\" fill=\"none\"/>\n",
              "    <path d=\"M18.56 5.44l.94 2.06.94-2.06 2.06-.94-2.06-.94-.94-2.06-.94 2.06-2.06.94zm-11 1L8.5 8.5l.94-2.06 2.06-.94-2.06-.94L8.5 2.5l-.94 2.06-2.06.94zm10 10l.94 2.06.94-2.06 2.06-.94-2.06-.94-.94-2.06-.94 2.06-2.06.94z\"/><path d=\"M17.41 7.96l-1.37-1.37c-.4-.4-.92-.59-1.43-.59-.52 0-1.04.2-1.43.59L10.3 9.45l-7.72 7.72c-.78.78-.78 2.05 0 2.83L4 21.41c.39.39.9.59 1.41.59.51 0 1.02-.2 1.41-.59l7.78-7.78 2.81-2.81c.8-.78.8-2.07 0-2.86zM5.41 20L4 18.59l7.72-7.72 1.47 1.35L5.41 20z\"/>\n",
              "  </svg>\n",
              "      </button>\n",
              "      \n",
              "  <style>\n",
              "    .colab-df-container {\n",
              "      display:flex;\n",
              "      flex-wrap:wrap;\n",
              "      gap: 12px;\n",
              "    }\n",
              "\n",
              "    .colab-df-convert {\n",
              "      background-color: #E8F0FE;\n",
              "      border: none;\n",
              "      border-radius: 50%;\n",
              "      cursor: pointer;\n",
              "      display: none;\n",
              "      fill: #1967D2;\n",
              "      height: 32px;\n",
              "      padding: 0 0 0 0;\n",
              "      width: 32px;\n",
              "    }\n",
              "\n",
              "    .colab-df-convert:hover {\n",
              "      background-color: #E2EBFA;\n",
              "      box-shadow: 0px 1px 2px rgba(60, 64, 67, 0.3), 0px 1px 3px 1px rgba(60, 64, 67, 0.15);\n",
              "      fill: #174EA6;\n",
              "    }\n",
              "\n",
              "    [theme=dark] .colab-df-convert {\n",
              "      background-color: #3B4455;\n",
              "      fill: #D2E3FC;\n",
              "    }\n",
              "\n",
              "    [theme=dark] .colab-df-convert:hover {\n",
              "      background-color: #434B5C;\n",
              "      box-shadow: 0px 1px 3px 1px rgba(0, 0, 0, 0.15);\n",
              "      filter: drop-shadow(0px 1px 2px rgba(0, 0, 0, 0.3));\n",
              "      fill: #FFFFFF;\n",
              "    }\n",
              "  </style>\n",
              "\n",
              "      <script>\n",
              "        const buttonEl =\n",
              "          document.querySelector('#df-bea67e6c-9346-42c3-bc3b-6df734d7dde7 button.colab-df-convert');\n",
              "        buttonEl.style.display =\n",
              "          google.colab.kernel.accessAllowed ? 'block' : 'none';\n",
              "\n",
              "        async function convertToInteractive(key) {\n",
              "          const element = document.querySelector('#df-bea67e6c-9346-42c3-bc3b-6df734d7dde7');\n",
              "          const dataTable =\n",
              "            await google.colab.kernel.invokeFunction('convertToInteractive',\n",
              "                                                     [key], {});\n",
              "          if (!dataTable) return;\n",
              "\n",
              "          const docLinkHtml = 'Like what you see? Visit the ' +\n",
              "            '<a target=\"_blank\" href=https://colab.research.google.com/notebooks/data_table.ipynb>data table notebook</a>'\n",
              "            + ' to learn more about interactive tables.';\n",
              "          element.innerHTML = '';\n",
              "          dataTable['output_type'] = 'display_data';\n",
              "          await google.colab.output.renderOutput(dataTable, element);\n",
              "          const docLink = document.createElement('div');\n",
              "          docLink.innerHTML = docLinkHtml;\n",
              "          element.appendChild(docLink);\n",
              "        }\n",
              "      </script>\n",
              "    </div>\n",
              "  </div>\n",
              "  "
            ]
          },
          "metadata": {},
          "execution_count": 9
        }
      ]
    },
    {
      "cell_type": "code",
      "source": [
        "red_wine.describe()"
      ],
      "metadata": {
        "execution": {
          "iopub.status.busy": "2022-04-01T09:57:19.076902Z",
          "iopub.execute_input": "2022-04-01T09:57:19.077158Z",
          "iopub.status.idle": "2022-04-01T09:57:19.124183Z",
          "shell.execute_reply.started": "2022-04-01T09:57:19.077129Z",
          "shell.execute_reply": "2022-04-01T09:57:19.123278Z"
        },
        "trusted": true,
        "colab": {
          "base_uri": "https://localhost:8080/",
          "height": 399
        },
        "id": "v8bGY_i3m4qG",
        "outputId": "703c1df4-b809-49ec-eaca-71f68cf0962b"
      },
      "execution_count": 10,
      "outputs": [
        {
          "output_type": "execute_result",
          "data": {
            "text/plain": [
              "       fixed acidity  volatile acidity  citric acid  residual sugar  \\\n",
              "count    1599.000000       1599.000000  1599.000000     1599.000000   \n",
              "mean        8.319637          0.527821     0.270976        2.538806   \n",
              "std         1.741096          0.179060     0.194801        1.409928   \n",
              "min         4.600000          0.120000     0.000000        0.900000   \n",
              "25%         7.100000          0.390000     0.090000        1.900000   \n",
              "50%         7.900000          0.520000     0.260000        2.200000   \n",
              "75%         9.200000          0.640000     0.420000        2.600000   \n",
              "max        15.900000          1.580000     1.000000       15.500000   \n",
              "\n",
              "         chlorides  free sulfur dioxide  total sulfur dioxide      density  \\\n",
              "count  1599.000000          1599.000000           1599.000000  1599.000000   \n",
              "mean      0.087467            15.874922             46.467792     0.996747   \n",
              "std       0.047065            10.460157             32.895324     0.001887   \n",
              "min       0.012000             1.000000              6.000000     0.990070   \n",
              "25%       0.070000             7.000000             22.000000     0.995600   \n",
              "50%       0.079000            14.000000             38.000000     0.996750   \n",
              "75%       0.090000            21.000000             62.000000     0.997835   \n",
              "max       0.611000            72.000000            289.000000     1.003690   \n",
              "\n",
              "                pH    sulphates      alcohol      quality  \n",
              "count  1599.000000  1599.000000  1599.000000  1599.000000  \n",
              "mean      3.311113     0.658149    10.422983     5.636023  \n",
              "std       0.154386     0.169507     1.065668     0.807569  \n",
              "min       2.740000     0.330000     8.400000     3.000000  \n",
              "25%       3.210000     0.550000     9.500000     5.000000  \n",
              "50%       3.310000     0.620000    10.200000     6.000000  \n",
              "75%       3.400000     0.730000    11.100000     6.000000  \n",
              "max       4.010000     2.000000    14.900000     8.000000  "
            ],
            "text/html": [
              "\n",
              "  <div id=\"df-f8259a4b-e49b-4c69-ba8a-0cb2902089ca\">\n",
              "    <div class=\"colab-df-container\">\n",
              "      <div>\n",
              "<style scoped>\n",
              "    .dataframe tbody tr th:only-of-type {\n",
              "        vertical-align: middle;\n",
              "    }\n",
              "\n",
              "    .dataframe tbody tr th {\n",
              "        vertical-align: top;\n",
              "    }\n",
              "\n",
              "    .dataframe thead th {\n",
              "        text-align: right;\n",
              "    }\n",
              "</style>\n",
              "<table border=\"1\" class=\"dataframe\">\n",
              "  <thead>\n",
              "    <tr style=\"text-align: right;\">\n",
              "      <th></th>\n",
              "      <th>fixed acidity</th>\n",
              "      <th>volatile acidity</th>\n",
              "      <th>citric acid</th>\n",
              "      <th>residual sugar</th>\n",
              "      <th>chlorides</th>\n",
              "      <th>free sulfur dioxide</th>\n",
              "      <th>total sulfur dioxide</th>\n",
              "      <th>density</th>\n",
              "      <th>pH</th>\n",
              "      <th>sulphates</th>\n",
              "      <th>alcohol</th>\n",
              "      <th>quality</th>\n",
              "    </tr>\n",
              "  </thead>\n",
              "  <tbody>\n",
              "    <tr>\n",
              "      <th>count</th>\n",
              "      <td>1599.000000</td>\n",
              "      <td>1599.000000</td>\n",
              "      <td>1599.000000</td>\n",
              "      <td>1599.000000</td>\n",
              "      <td>1599.000000</td>\n",
              "      <td>1599.000000</td>\n",
              "      <td>1599.000000</td>\n",
              "      <td>1599.000000</td>\n",
              "      <td>1599.000000</td>\n",
              "      <td>1599.000000</td>\n",
              "      <td>1599.000000</td>\n",
              "      <td>1599.000000</td>\n",
              "    </tr>\n",
              "    <tr>\n",
              "      <th>mean</th>\n",
              "      <td>8.319637</td>\n",
              "      <td>0.527821</td>\n",
              "      <td>0.270976</td>\n",
              "      <td>2.538806</td>\n",
              "      <td>0.087467</td>\n",
              "      <td>15.874922</td>\n",
              "      <td>46.467792</td>\n",
              "      <td>0.996747</td>\n",
              "      <td>3.311113</td>\n",
              "      <td>0.658149</td>\n",
              "      <td>10.422983</td>\n",
              "      <td>5.636023</td>\n",
              "    </tr>\n",
              "    <tr>\n",
              "      <th>std</th>\n",
              "      <td>1.741096</td>\n",
              "      <td>0.179060</td>\n",
              "      <td>0.194801</td>\n",
              "      <td>1.409928</td>\n",
              "      <td>0.047065</td>\n",
              "      <td>10.460157</td>\n",
              "      <td>32.895324</td>\n",
              "      <td>0.001887</td>\n",
              "      <td>0.154386</td>\n",
              "      <td>0.169507</td>\n",
              "      <td>1.065668</td>\n",
              "      <td>0.807569</td>\n",
              "    </tr>\n",
              "    <tr>\n",
              "      <th>min</th>\n",
              "      <td>4.600000</td>\n",
              "      <td>0.120000</td>\n",
              "      <td>0.000000</td>\n",
              "      <td>0.900000</td>\n",
              "      <td>0.012000</td>\n",
              "      <td>1.000000</td>\n",
              "      <td>6.000000</td>\n",
              "      <td>0.990070</td>\n",
              "      <td>2.740000</td>\n",
              "      <td>0.330000</td>\n",
              "      <td>8.400000</td>\n",
              "      <td>3.000000</td>\n",
              "    </tr>\n",
              "    <tr>\n",
              "      <th>25%</th>\n",
              "      <td>7.100000</td>\n",
              "      <td>0.390000</td>\n",
              "      <td>0.090000</td>\n",
              "      <td>1.900000</td>\n",
              "      <td>0.070000</td>\n",
              "      <td>7.000000</td>\n",
              "      <td>22.000000</td>\n",
              "      <td>0.995600</td>\n",
              "      <td>3.210000</td>\n",
              "      <td>0.550000</td>\n",
              "      <td>9.500000</td>\n",
              "      <td>5.000000</td>\n",
              "    </tr>\n",
              "    <tr>\n",
              "      <th>50%</th>\n",
              "      <td>7.900000</td>\n",
              "      <td>0.520000</td>\n",
              "      <td>0.260000</td>\n",
              "      <td>2.200000</td>\n",
              "      <td>0.079000</td>\n",
              "      <td>14.000000</td>\n",
              "      <td>38.000000</td>\n",
              "      <td>0.996750</td>\n",
              "      <td>3.310000</td>\n",
              "      <td>0.620000</td>\n",
              "      <td>10.200000</td>\n",
              "      <td>6.000000</td>\n",
              "    </tr>\n",
              "    <tr>\n",
              "      <th>75%</th>\n",
              "      <td>9.200000</td>\n",
              "      <td>0.640000</td>\n",
              "      <td>0.420000</td>\n",
              "      <td>2.600000</td>\n",
              "      <td>0.090000</td>\n",
              "      <td>21.000000</td>\n",
              "      <td>62.000000</td>\n",
              "      <td>0.997835</td>\n",
              "      <td>3.400000</td>\n",
              "      <td>0.730000</td>\n",
              "      <td>11.100000</td>\n",
              "      <td>6.000000</td>\n",
              "    </tr>\n",
              "    <tr>\n",
              "      <th>max</th>\n",
              "      <td>15.900000</td>\n",
              "      <td>1.580000</td>\n",
              "      <td>1.000000</td>\n",
              "      <td>15.500000</td>\n",
              "      <td>0.611000</td>\n",
              "      <td>72.000000</td>\n",
              "      <td>289.000000</td>\n",
              "      <td>1.003690</td>\n",
              "      <td>4.010000</td>\n",
              "      <td>2.000000</td>\n",
              "      <td>14.900000</td>\n",
              "      <td>8.000000</td>\n",
              "    </tr>\n",
              "  </tbody>\n",
              "</table>\n",
              "</div>\n",
              "      <button class=\"colab-df-convert\" onclick=\"convertToInteractive('df-f8259a4b-e49b-4c69-ba8a-0cb2902089ca')\"\n",
              "              title=\"Convert this dataframe to an interactive table.\"\n",
              "              style=\"display:none;\">\n",
              "        \n",
              "  <svg xmlns=\"http://www.w3.org/2000/svg\" height=\"24px\"viewBox=\"0 0 24 24\"\n",
              "       width=\"24px\">\n",
              "    <path d=\"M0 0h24v24H0V0z\" fill=\"none\"/>\n",
              "    <path d=\"M18.56 5.44l.94 2.06.94-2.06 2.06-.94-2.06-.94-.94-2.06-.94 2.06-2.06.94zm-11 1L8.5 8.5l.94-2.06 2.06-.94-2.06-.94L8.5 2.5l-.94 2.06-2.06.94zm10 10l.94 2.06.94-2.06 2.06-.94-2.06-.94-.94-2.06-.94 2.06-2.06.94z\"/><path d=\"M17.41 7.96l-1.37-1.37c-.4-.4-.92-.59-1.43-.59-.52 0-1.04.2-1.43.59L10.3 9.45l-7.72 7.72c-.78.78-.78 2.05 0 2.83L4 21.41c.39.39.9.59 1.41.59.51 0 1.02-.2 1.41-.59l7.78-7.78 2.81-2.81c.8-.78.8-2.07 0-2.86zM5.41 20L4 18.59l7.72-7.72 1.47 1.35L5.41 20z\"/>\n",
              "  </svg>\n",
              "      </button>\n",
              "      \n",
              "  <style>\n",
              "    .colab-df-container {\n",
              "      display:flex;\n",
              "      flex-wrap:wrap;\n",
              "      gap: 12px;\n",
              "    }\n",
              "\n",
              "    .colab-df-convert {\n",
              "      background-color: #E8F0FE;\n",
              "      border: none;\n",
              "      border-radius: 50%;\n",
              "      cursor: pointer;\n",
              "      display: none;\n",
              "      fill: #1967D2;\n",
              "      height: 32px;\n",
              "      padding: 0 0 0 0;\n",
              "      width: 32px;\n",
              "    }\n",
              "\n",
              "    .colab-df-convert:hover {\n",
              "      background-color: #E2EBFA;\n",
              "      box-shadow: 0px 1px 2px rgba(60, 64, 67, 0.3), 0px 1px 3px 1px rgba(60, 64, 67, 0.15);\n",
              "      fill: #174EA6;\n",
              "    }\n",
              "\n",
              "    [theme=dark] .colab-df-convert {\n",
              "      background-color: #3B4455;\n",
              "      fill: #D2E3FC;\n",
              "    }\n",
              "\n",
              "    [theme=dark] .colab-df-convert:hover {\n",
              "      background-color: #434B5C;\n",
              "      box-shadow: 0px 1px 3px 1px rgba(0, 0, 0, 0.15);\n",
              "      filter: drop-shadow(0px 1px 2px rgba(0, 0, 0, 0.3));\n",
              "      fill: #FFFFFF;\n",
              "    }\n",
              "  </style>\n",
              "\n",
              "      <script>\n",
              "        const buttonEl =\n",
              "          document.querySelector('#df-f8259a4b-e49b-4c69-ba8a-0cb2902089ca button.colab-df-convert');\n",
              "        buttonEl.style.display =\n",
              "          google.colab.kernel.accessAllowed ? 'block' : 'none';\n",
              "\n",
              "        async function convertToInteractive(key) {\n",
              "          const element = document.querySelector('#df-f8259a4b-e49b-4c69-ba8a-0cb2902089ca');\n",
              "          const dataTable =\n",
              "            await google.colab.kernel.invokeFunction('convertToInteractive',\n",
              "                                                     [key], {});\n",
              "          if (!dataTable) return;\n",
              "\n",
              "          const docLinkHtml = 'Like what you see? Visit the ' +\n",
              "            '<a target=\"_blank\" href=https://colab.research.google.com/notebooks/data_table.ipynb>data table notebook</a>'\n",
              "            + ' to learn more about interactive tables.';\n",
              "          element.innerHTML = '';\n",
              "          dataTable['output_type'] = 'display_data';\n",
              "          await google.colab.output.renderOutput(dataTable, element);\n",
              "          const docLink = document.createElement('div');\n",
              "          docLink.innerHTML = docLinkHtml;\n",
              "          element.appendChild(docLink);\n",
              "        }\n",
              "      </script>\n",
              "    </div>\n",
              "  </div>\n",
              "  "
            ]
          },
          "metadata": {},
          "execution_count": 10
        }
      ]
    },
    {
      "cell_type": "code",
      "source": [
        "from tensorflow import keras\n",
        "from tensorflow.keras import layers\n",
        "\n",
        "model = keras.Sequential([\n",
        "    layers.Dense(1024, activation='relu', input_shape=[11]),\n",
        "    layers.Dropout(0.35),\n",
        "    layers.BatchNormalization(),\n",
        "    layers.Dense(1024, activation='relu'),\n",
        "    layers.Dropout(0.35),\n",
        "    layers.BatchNormalization(),\n",
        "    layers.Dense(1024, activation='relu'),\n",
        "    layers.Dropout(0.35),\n",
        "    layers.BatchNormalization(),\n",
        "    layers.Dense(1),\n",
        "])"
      ],
      "metadata": {
        "execution": {
          "iopub.status.busy": "2022-04-01T09:57:19.125173Z",
          "iopub.execute_input": "2022-04-01T09:57:19.125378Z",
          "iopub.status.idle": "2022-04-01T09:57:19.144320Z",
          "shell.execute_reply.started": "2022-04-01T09:57:19.125351Z",
          "shell.execute_reply": "2022-04-01T09:57:19.143449Z"
        },
        "trusted": true,
        "id": "VLqpQWRfm4qH"
      },
      "execution_count": 11,
      "outputs": []
    },
    {
      "cell_type": "code",
      "source": [
        "model.summary()"
      ],
      "metadata": {
        "id": "LKzjaB2B680x",
        "outputId": "a16cfeab-195e-4177-84e1-faf85f2aa0d6",
        "colab": {
          "base_uri": "https://localhost:8080/"
        }
      },
      "execution_count": 12,
      "outputs": [
        {
          "output_type": "stream",
          "name": "stdout",
          "text": [
            "Model: \"sequential\"\n",
            "_________________________________________________________________\n",
            " Layer (type)                Output Shape              Param #   \n",
            "=================================================================\n",
            " dense (Dense)               (None, 1024)              12288     \n",
            "                                                                 \n",
            " dropout (Dropout)           (None, 1024)              0         \n",
            "                                                                 \n",
            " batch_normalization (BatchN  (None, 1024)             4096      \n",
            " ormalization)                                                   \n",
            "                                                                 \n",
            " dense_1 (Dense)             (None, 1024)              1049600   \n",
            "                                                                 \n",
            " dropout_1 (Dropout)         (None, 1024)              0         \n",
            "                                                                 \n",
            " batch_normalization_1 (Batc  (None, 1024)             4096      \n",
            " hNormalization)                                                 \n",
            "                                                                 \n",
            " dense_2 (Dense)             (None, 1024)              1049600   \n",
            "                                                                 \n",
            " dropout_2 (Dropout)         (None, 1024)              0         \n",
            "                                                                 \n",
            " batch_normalization_2 (Batc  (None, 1024)             4096      \n",
            " hNormalization)                                                 \n",
            "                                                                 \n",
            " dense_3 (Dense)             (None, 1)                 1025      \n",
            "                                                                 \n",
            "=================================================================\n",
            "Total params: 2,124,801\n",
            "Trainable params: 2,118,657\n",
            "Non-trainable params: 6,144\n",
            "_________________________________________________________________\n"
          ]
        }
      ]
    },
    {
      "cell_type": "code",
      "source": [
        "from tensorflow import keras\n",
        "from tensorflow.keras import layers, callbacks\n",
        "\n",
        "early_stopping = callbacks.EarlyStopping(\n",
        "    min_delta=0.001, # minimium amount of change to count as an improvement\n",
        "    patience=20, # how many epochs to wait before stopping\n",
        "    restore_best_weights=True,\n",
        ")"
      ],
      "metadata": {
        "id": "6v2iGIe6Xuz5"
      },
      "execution_count": 13,
      "outputs": []
    },
    {
      "cell_type": "code",
      "source": [
        "model.compile(\n",
        "    optimizer='adam', #rmsprop\n",
        "    loss='mse',\n",
        ")"
      ],
      "metadata": {
        "execution": {
          "iopub.status.busy": "2022-04-01T09:57:19.145527Z",
          "iopub.execute_input": "2022-04-01T09:57:19.145858Z",
          "iopub.status.idle": "2022-04-01T09:57:19.154108Z",
          "shell.execute_reply.started": "2022-04-01T09:57:19.145830Z",
          "shell.execute_reply": "2022-04-01T09:57:19.153139Z"
        },
        "trusted": true,
        "id": "3eMdsFmAm4qH"
      },
      "execution_count": 14,
      "outputs": []
    },
    {
      "cell_type": "code",
      "source": [
        "model.summary()"
      ],
      "metadata": {
        "id": "OgOoIThoaID_",
        "outputId": "46f135d2-6b58-4c5f-957a-d90f17f83da9",
        "colab": {
          "base_uri": "https://localhost:8080/"
        }
      },
      "execution_count": 15,
      "outputs": [
        {
          "output_type": "stream",
          "name": "stdout",
          "text": [
            "Model: \"sequential\"\n",
            "_________________________________________________________________\n",
            " Layer (type)                Output Shape              Param #   \n",
            "=================================================================\n",
            " dense (Dense)               (None, 1024)              12288     \n",
            "                                                                 \n",
            " dropout (Dropout)           (None, 1024)              0         \n",
            "                                                                 \n",
            " batch_normalization (BatchN  (None, 1024)             4096      \n",
            " ormalization)                                                   \n",
            "                                                                 \n",
            " dense_1 (Dense)             (None, 1024)              1049600   \n",
            "                                                                 \n",
            " dropout_1 (Dropout)         (None, 1024)              0         \n",
            "                                                                 \n",
            " batch_normalization_1 (Batc  (None, 1024)             4096      \n",
            " hNormalization)                                                 \n",
            "                                                                 \n",
            " dense_2 (Dense)             (None, 1024)              1049600   \n",
            "                                                                 \n",
            " dropout_2 (Dropout)         (None, 1024)              0         \n",
            "                                                                 \n",
            " batch_normalization_2 (Batc  (None, 1024)             4096      \n",
            " hNormalization)                                                 \n",
            "                                                                 \n",
            " dense_3 (Dense)             (None, 1)                 1025      \n",
            "                                                                 \n",
            "=================================================================\n",
            "Total params: 2,124,801\n",
            "Trainable params: 2,118,657\n",
            "Non-trainable params: 6,144\n",
            "_________________________________________________________________\n"
          ]
        }
      ]
    },
    {
      "cell_type": "code",
      "source": [
        "history = model.fit(\n",
        "    X_train, y_train,\n",
        "    validation_data=(X_test, y_test),\n",
        "    batch_size=256,\n",
        "    epochs=300,\n",
        "    callbacks=[early_stopping],\n",
        "    verbose=0,\n",
        ")"
      ],
      "metadata": {
        "id": "jOeEi7ppaDGQ"
      },
      "execution_count": 16,
      "outputs": []
    },
    {
      "cell_type": "code",
      "source": [
        "# Show the learning curves\n",
        "history_df = pd.DataFrame(history.history)\n",
        "history_df.loc[:, ['loss', 'val_loss']].plot();\n",
        "print((\"Minimum Validation Loss: {:0.4f}\").format(history_df['val_loss'].min()))"
      ],
      "metadata": {
        "colab": {
          "base_uri": "https://localhost:8080/",
          "height": 283
        },
        "id": "3JH2xgHWYZA5",
        "outputId": "93ca88f0-d8ff-4715-878e-eaa4563e9b55"
      },
      "execution_count": 17,
      "outputs": [
        {
          "output_type": "stream",
          "name": "stdout",
          "text": [
            "Minimum Validation Loss: 0.4257\n"
          ]
        },
        {
          "output_type": "display_data",
          "data": {
            "text/plain": [
              "<Figure size 432x288 with 1 Axes>"
            ],
            "image/png": "[encoded data removed]"
          },
          "metadata": {
            "needs_background": "light"
          }
        }
      ]
    },
    {
      "cell_type": "code",
      "source": [
        ""
      ],
      "metadata": {
        "id": "IP65Eu8ZbqDX"
      },
      "execution_count": 17,
      "outputs": []
    },
    {
      "cell_type": "code",
      "source": [
        "#making the predictions\n",
        "dnn_pred = model.predict(X_test)"
      ],
      "metadata": {
        "id": "zT-p0ufAas-W"
      },
      "execution_count": 18,
      "outputs": []
    },
    {
      "cell_type": "code",
      "source": [
        "from sklearn.metrics import mean_squared_error"
      ],
      "metadata": {
        "id": "drMJofgHcC1u"
      },
      "execution_count": 19,
      "outputs": []
    },
    {
      "cell_type": "code",
      "source": [
        "#getting our results\n",
        "dnn_mse = mean_squared_error(y_test,dnn_pred)"
      ],
      "metadata": {
        "id": "XCfQWkdibnxf"
      },
      "execution_count": 20,
      "outputs": []
    },
    {
      "cell_type": "code",
      "source": [
        "#printing rmse\n",
        "print(\"MSE =\",(round(dnn_mse,2)))"
      ],
      "metadata": {
        "id": "2nTi8t3sbsGt",
        "outputId": "ff2d0c10-1a2b-4149-9811-dbdb62717e96",
        "colab": {
          "base_uri": "https://localhost:8080/"
        }
      },
      "execution_count": 21,
      "outputs": [
        {
          "output_type": "stream",
          "name": "stdout",
          "text": [
            "MSE = 0.43\n"
          ]
        }
      ]
    },
    {
      "cell_type": "code",
      "source": [
        "#result table\n",
        "from tabulate import tabulate"
      ],
      "metadata": {
        "id": "XSiJFgn8gTnj"
      },
      "execution_count": 22,
      "outputs": []
    },
    {
      "cell_type": "code",
      "source": [
        "#gathering the results\n",
        "result_table = [['Deep Learning', round(dnn_mse,2)]]\n",
        "\n",
        "#defining header names\n",
        "col_names = [\"Model\", \"MSE\"]\n",
        "\n",
        "#creating a results table\n",
        "print(tabulate(result_table, headers=col_names))"
      ],
      "metadata": {
        "id": "zWurjsb9gJst",
        "outputId": "0bf76fd2-5acd-4a5f-931c-01c25a0f80a0",
        "colab": {
          "base_uri": "https://localhost:8080/"
        }
      },
      "execution_count": 23,
      "outputs": [
        {
          "output_type": "stream",
          "name": "stdout",
          "text": [
            "Model            MSE\n",
            "-------------  -----\n",
            "Deep Learning   0.43\n"
          ]
        }
      ]
    },
    {
      "cell_type": "markdown",
      "source": [
        "![다운로드.png](data:image/png;base64,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)"
      ],
      "metadata": {
        "id": "5yLF1OawBKWS"
      }
    },
    {
      "cell_type": "markdown",
      "source": [
        ""
      ],
      "metadata": {
        "id": "yAkTBZb4BNcf"
      }
    },
    {
      "cell_type": "markdown",
      "source": [
        "![다운로드 (1).png](data:image/png;base64,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)"
      ],
      "metadata": {
        "id": "WwiwavXYBaZu"
      }
    },
    {
      "cell_type": "markdown",
      "source": [
        "![다운로드 (2).png](data:image/png;base64,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)"
      ],
      "metadata": {
        "id": "gt462kA2BdEH"
      }
    },
    {
      "cell_type": "markdown",
      "source": [
        "![다운로드 (3).png](data:image/png;base64,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)"
      ],
      "metadata": {
        "id": "m48ToGZKCeR3"
      }
    },
    {
      "cell_type": "markdown",
      "source": [
        ""
      ],
      "metadata": {
        "id": "xIEh3l8HDWNw"
      }
    }
  ]
}