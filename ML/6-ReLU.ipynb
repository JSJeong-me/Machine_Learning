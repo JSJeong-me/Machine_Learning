{
  "nbformat": 4,
  "nbformat_minor": 0,
  "metadata": {
    "colab": {
      "name": "Untitled3.ipynb",
      "provenance": [],
      "authorship_tag": "ABX9TyNUTbSWTDl5bw2SmGZ6t8KK",
      "include_colab_link": true
    },
    "kernelspec": {
      "name": "python3",
      "display_name": "Python 3"
    },
    "language_info": {
      "name": "python"
    }
  },
  "cells": [
    {
      "cell_type": "markdown",
      "metadata": {
        "id": "view-in-github",
        "colab_type": "text"
      },
      "source": [
        "<a href=\"https://colab.research.google.com/github/JSJeong-me/Machine_Learning/blob/main/ML/6-ReLU.ipynb\" target=\"_parent\"><img src=\"https://colab.research.google.com/assets/colab-badge.svg\" alt=\"Open In Colab\"/></a>"
      ]
    },
    {
      "cell_type": "code",
      "execution_count": 1,
      "metadata": {
        "colab": {
          "base_uri": "https://localhost:8080/",
          "height": 265
        },
        "id": "NMG9OVzYiWJh",
        "outputId": "3e556cbb-d962-4615-a237-88cc38e19bbb"
      },
      "outputs": [
        {
          "output_type": "display_data",
          "data": {
            "text/plain": [
              "<Figure size 432x288 with 1 Axes>"
            ],
            "image/png": "[encoded data removed]"
          },
          "metadata": {
            "needs_background": "light"
          }
        }
      ],
      "source": [
        "# example plot for the relu activation function\n",
        "from matplotlib import pyplot\n",
        "\n",
        "# rectified linear function\n",
        "def rectified(x):\n",
        "\treturn max(0.0, x)\n",
        "\n",
        "# define input data\n",
        "inputs = [x for x in range(-10, 10)]\n",
        "# calculate outputs\n",
        "outputs = [rectified(x) for x in inputs]\n",
        "# plot inputs vs outputs\n",
        "pyplot.plot(inputs, outputs)\n",
        "pyplot.show()"
      ]
    }
  ]
}