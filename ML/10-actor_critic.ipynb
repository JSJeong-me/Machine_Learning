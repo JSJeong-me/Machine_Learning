{
  "cells": [
    {
      "cell_type": "markdown",
      "metadata": {
        "id": "_jQ1tEQCxwRx"
      },
      "source": [
        "##### Copyright 2020 The TensorFlow Authors."
      ]
    },
    {
      "cell_type": "code",
      "execution_count": 1,
      "metadata": {
        "cellView": "form",
        "id": "V_sgB_5dx1f1"
      },
      "outputs": [],
      "source": [
        "#@title Licensed under the Apache License, Version 2.0 (the \"License\");\n",
        "# you may not use this file except in compliance with the License.\n",
        "# You may obtain a copy of the License at\n",
        "#\n",
        "# https://www.apache.org/licenses/LICENSE-2.0\n",
        "#\n",
        "# Unless required by applicable law or agreed to in writing, software\n",
        "# distributed under the License is distributed on an \"AS IS\" BASIS,\n",
        "# WITHOUT WARRANTIES OR CONDITIONS OF ANY KIND, either express or implied.\n",
        "# See the License for the specific language governing permissions and\n",
        "# limitations under the License."
      ]
    },
    {
      "cell_type": "markdown",
      "metadata": {
        "id": "p62G8M_viUJp"
      },
      "source": [
        "# Actor-Critic 방법으로 CartPole의 문제 풀기\n"
      ]
    },
    {
      "cell_type": "markdown",
      "metadata": {
        "id": "-mJ2i6jvZ3sK"
      },
      "source": [
        "<table class=\"tfo-notebook-buttons\" align=\"left\">\n",
        "  <td><a target=\"_blank\" href=\"https://www.tensorflow.org/tutorials/reinforcement_learning/actor_critic\"><img src=\"https://www.tensorflow.org/images/tf_logo_32px.png\">TensorFlow.org에서 보기</a></td>\n",
        "  <td><a target=\"_blank\" href=\"https://colab.research.google.com/github/tensorflow/docs-l10n/blob/master/site/ko/tutorials/reinforcement_learning/actor_critic.ipynb\"><img src=\"https://www.tensorflow.org/images/colab_logo_32px.png\">Google Colab에서 실행</a></td>\n",
        "  <td><a target=\"_blank\" href=\"https://github.com/tensorflow/docs-l10n/blob/master/site/ko/tutorials/reinforcement_learning/actor_critic.ipynb\"><img src=\"https://www.tensorflow.org/images/GitHub-Mark-32px.png\">GitHub에서 소스 보기</a></td>\n",
        "  <td><a href=\"https://storage.googleapis.com/tensorflow_docs/docs-l10n/site/ko/tutorials/reinforcement_learning/actor_critic.ipynb\"><img src=\"https://www.tensorflow.org/images/download_logo_32px.png\">노트북 다운로드</a></td>\n",
        "</table>"
      ]
    },
    {
      "cell_type": "markdown",
      "metadata": {
        "id": "kFgN7h_wiUJq"
      },
      "source": [
        "이 튜토리얼에서는 TensorFlow로 [Actor-Critic](https://papers.nips.cc/paper/1786-actor-critic-algorithms.pdf) 방법을 구현하여 [Open AI Gym](https://gym.openai.com/) CartPole-V0 환경에서 에이전트를 훈련하는 방법을 보여줍니다. 독자가 강화 학습의 [정책 그래디언드 방법](https://papers.nips.cc/paper/1713-policy-gradient-methods-for-reinforcement-learning-with-function-approximation.pdf)에 어느 정도 익숙하다고 가정합니다.\n"
      ]
    },
    {
      "cell_type": "markdown",
      "metadata": {
        "id": "_kA10ZKRR0hi"
      },
      "source": [
        "**Actor-Critic 방법**\n",
        "\n",
        "Actor-Critic 방법은 가치 함수와 독립적인 정책 함수를 나타내는 [Temporal Difference(TD) 학습](https://en.wikipedia.org/wiki/Temporal_difference_learning) 방법입니다.\n",
        "\n",
        "정책 함수(또는 정책)는 에이전트가 주어진 상태에 따라 취할 수 있는 동작에 대한 확률 분포를 반환합니다. 가치 함수는 주어진 상태에서 시작하여 특정 정책에 따라 영원히 동작하는 에이전트의 예상 이익을 결정합니다.\n",
        "\n",
        "Actor-Critic 방법에서 정책은 주어진 상태에 따라 가능한 일련의 동작을 제안하는 *행위자*라고 하며, 추정값 함수는 주어진 정책에 따라 *행위자*가 취한 동작을 평가하는 *비평가*라고 합니다.\n",
        "\n",
        "이 튜토리얼에서 *행위자*와 *비평가* 모두 두 개의 출력이 있는 하나의 신경망을 사용하여 표현됩니다.\n"
      ]
    },
    {
      "cell_type": "markdown",
      "metadata": {
        "id": "rBfiafKSRs2k"
      },
      "source": [
        "**CartPole-v0**\n",
        "\n",
        "[CartPole-v0 환경](https://gym.openai.com/envs/CartPole-v0)에서는 마찰이 없는 트랙을 따라 이동하는 카트에 막대가 연결되어 있습니다. 막대는 똑바른 상태에서 시작되고 에이전트의 목표는 카트에 -1 또는 +1의 힘을 가하여 카트가 넘어지는 것을 방지하는 것입니다. 막대가 똑바로 유지될 때마다 +1의 보상이 주어집니다. 에피소드는 (1) 막대가 수직에서 15도 이상 기울어지거나 (2) 카트가 중앙에서 2.4 단위 이상 이동하면 끝납니다.\n",
        "\n",
        "<center>\n",
        "  <pre data-md-type=\"custom_pre\">&lt;figure&gt;\n",
        "    &lt;image src=\"images/cartpole-v0.gif\"&gt;\n",
        "    &lt;figcaption&gt;Cartpole-v0 환경에서 훈련된 Actor-Critic 모델&lt;/figcaption&gt;\n",
        "  &lt;/image&gt;&lt;/figure&gt;</pre>\n",
        "</center>\n"
      ]
    },
    {
      "cell_type": "markdown",
      "metadata": {
        "id": "XSNVK0AeRoJd"
      },
      "source": [
        "이 문제는 에피소드에 대한 평균 총 보상이 100회 연속 시도에서 195에 도달하면 \"해결\"된 것으로 간주됩니다."
      ]
    },
    {
      "cell_type": "markdown",
      "metadata": {
        "id": "glLwIctHiUJq"
      },
      "source": [
        "## 설정\n",
        "\n",
        "필요한 패키지를 가져오고 전역 설정을 구성합니다.\n"
      ]
    },
    {
      "cell_type": "code",
      "execution_count": 2,
      "metadata": {
        "id": "13l6BbxKhCKp",
        "outputId": "75d18186-7dd1-46d9-d158-9fc5746b1d79",
        "colab": {
          "base_uri": "https://localhost:8080/"
        }
      },
      "outputs": [
        {
          "output_type": "stream",
          "name": "stdout",
          "text": [
            "Requirement already satisfied: gym in /usr/local/lib/python3.7/dist-packages (0.17.3)\n",
            "Requirement already satisfied: scipy in /usr/local/lib/python3.7/dist-packages (from gym) (1.4.1)\n",
            "Requirement already satisfied: cloudpickle<1.7.0,>=1.2.0 in /usr/local/lib/python3.7/dist-packages (from gym) (1.3.0)\n",
            "Requirement already satisfied: numpy>=1.10.4 in /usr/local/lib/python3.7/dist-packages (from gym) (1.21.6)\n",
            "Requirement already satisfied: pyglet<=1.5.0,>=1.4.0 in /usr/local/lib/python3.7/dist-packages (from gym) (1.5.0)\n",
            "Requirement already satisfied: future in /usr/local/lib/python3.7/dist-packages (from pyglet<=1.5.0,>=1.4.0->gym) (0.16.0)\n"
          ]
        }
      ],
      "source": [
        "!pip install gym"
      ]
    },
    {
      "cell_type": "code",
      "execution_count": 3,
      "metadata": {
        "id": "WBeQhPi2S4m5"
      },
      "outputs": [],
      "source": [
        "%%bash\n",
        "# Install additional packages for visualization\n",
        "sudo apt-get install -y xvfb python-opengl > /dev/null 2>&1\n",
        "pip install pyvirtualdisplay > /dev/null 2>&1\n",
        "pip install git+https://github.com/tensorflow/docs > /dev/null 2>&1"
      ]
    },
    {
      "cell_type": "code",
      "execution_count": 4,
      "metadata": {
        "id": "tT4N3qYviUJr"
      },
      "outputs": [],
      "source": [
        "import collections\n",
        "import gym\n",
        "import numpy as np\n",
        "import tensorflow as tf\n",
        "import tqdm\n",
        "\n",
        "from matplotlib import pyplot as plt\n",
        "from tensorflow.keras import layers\n",
        "from typing import Any, List, Sequence, Tuple\n",
        "\n",
        "\n",
        "# Create the environment\n",
        "env = gym.make(\"CartPole-v0\")\n",
        "\n",
        "# Set seed for experiment reproducibility\n",
        "seed = 42\n",
        "env.seed(seed)\n",
        "tf.random.set_seed(seed)\n",
        "np.random.seed(seed)\n",
        "\n",
        "# Small epsilon value for stabilizing division operations\n",
        "eps = np.finfo(np.float32).eps.item()"
      ]
    },
    {
      "cell_type": "markdown",
      "metadata": {
        "id": "AOUCe2D0iUJu"
      },
      "source": [
        "## 모델\n",
        "\n",
        "*행위자*와 *비평가*는 각각 동작 확률과 비평 값을 생성하는 하나의 신경망을 사용하여 모델링됩니다. 이 튜토리얼에서는 모델 하위 클래스화를 사용하여 모델을 정의합니다.\n",
        "\n",
        "순방향 전달 중에 모델은 상태를 입력으로 받고 상태 종속 [값 함수](https://spinningup.openai.com/en/latest/spinningup/rl_intro.html#value-functions)를 모델링하는 동작 확률과 비평 값 $V$를 모두 출력합니다. 목표는 예상 [이익](https://spinningup.openai.com/en/latest/spinningup/rl_intro.html#reward-and-return)을 최대화하는 $\\pi$ 정책을 기반으로 행동을 선택하는 모델을 훈련하는 것입니다.\n",
        "\n",
        "Cartpole-v0의 경우, 상태를 나타내는 네 가지 값이 있는데, 각각 카트 위치, 카트 속도, 막대 각도 및 막대 속도입니다. 에이전트는 카트를 각각 왼쪽(0)과 오른쪽(1)으로 밀기 위해 두 가지 동작을 취할 수 있습니다.\n",
        "\n",
        "자세한 내용은 [OpenAI Gym의 CartPole-v0 위키 페이지](http://www.derongliu.org/adp/adp-cdrom/Barto1983.pdf)를 참조하세요.\n"
      ]
    },
    {
      "cell_type": "code",
      "execution_count": 5,
      "metadata": {
        "id": "aXKbbMC-kmuv"
      },
      "outputs": [],
      "source": [
        "class ActorCritic(tf.keras.Model):\n",
        "  \"\"\"Combined actor-critic network.\"\"\"\n",
        "\n",
        "  def __init__(\n",
        "      self, \n",
        "      num_actions: int, \n",
        "      num_hidden_units: int):\n",
        "    \"\"\"Initialize.\"\"\"\n",
        "    super().__init__()\n",
        "\n",
        "    self.common = layers.Dense(num_hidden_units, activation=\"relu\")\n",
        "    self.actor = layers.Dense(num_actions)\n",
        "    self.critic = layers.Dense(1)\n",
        "\n",
        "  def call(self, inputs: tf.Tensor) -> Tuple[tf.Tensor, tf.Tensor]:\n",
        "    x = self.common(inputs)\n",
        "    return self.actor(x), self.critic(x)"
      ]
    },
    {
      "cell_type": "code",
      "execution_count": 6,
      "metadata": {
        "id": "nWyxJgjLn68c"
      },
      "outputs": [],
      "source": [
        "num_actions = env.action_space.n  # 2\n",
        "num_hidden_units = 128\n",
        "\n",
        "model = ActorCritic(num_actions, num_hidden_units)"
      ]
    },
    {
      "cell_type": "markdown",
      "metadata": {
        "id": "hk92njFziUJw"
      },
      "source": [
        "## 훈련\n",
        "\n",
        "에이전트를 훈련하기 위해 다음 단계를 따릅니다.\n",
        "\n",
        "1. 환경에서 에이전트를 실행하여 에피소드별로 훈련 데이터를 수집합니다.\n",
        "2. 각 시간 스텝에서 예상 이익을 계산합니다.\n",
        "3. 결합된 Actor-Critic 모델의 손실을 계산합니다.\n",
        "4. 그래디언트를 계산하고 네트워크 매개변수를 업데이트합니다.\n",
        "5. 성공 기준 또는 최대 에피소드에 도달할 때까지 1~4를 반복합니다.\n"
      ]
    },
    {
      "cell_type": "markdown",
      "metadata": {
        "id": "R2nde2XDs8Gh"
      },
      "source": [
        "### 1. 훈련 데이터 수집하기\n",
        "\n",
        "지도 학습에서와 같이 Actor-Critic 모델을 훈련하려면 훈련 데이터가 필요합니다. 그러나, 이러한 데이터를 수집하려면 모델이 환경에서 \"실행\"되어야 합니다.\n",
        "\n",
        "여기서는 각 에피소드에 대한 훈련 데이터를 수집합니다. 그런 다음, 모델의 가중치에 의해 매개변수화된 현재 정책을 기반으로 동작 확률과 비평 값을 생성하기 위해 각 타임스텝에서 모델의 순방향 전달을 환경 상태에서 실행합니다.\n",
        "\n",
        "다음 동작은 모델에 의해 생성된 동작 확률로부터 샘플링되며, 그런 다음 환경에 적용되어 다음 상태와 보상을 생성합니다.\n",
        "\n",
        "이 프로세스는 더 빠른 훈련을 위해 나중에 TensorFlow 그래프로 컴파일할 수 있도록 TensorFlow 연산을 사용하는 `run_episode` 함수에서 구현됩니다. `tf.TensorArray`는 가변 길이 배열에서 Tensor 반복을 지원하는 데 사용되었습니다."
      ]
    },
    {
      "cell_type": "code",
      "execution_count": 7,
      "metadata": {
        "id": "5URrbGlDSAGx"
      },
      "outputs": [],
      "source": [
        "# Wrap OpenAI Gym's `env.step` call as an operation in a TensorFlow function.\n",
        "# This would allow it to be included in a callable TensorFlow graph.\n",
        "\n",
        "def env_step(action: np.ndarray) -> Tuple[np.ndarray, np.ndarray, np.ndarray]:\n",
        "  \"\"\"Returns state, reward and done flag given an action.\"\"\"\n",
        "\n",
        "  state, reward, done, _ = env.step(action)\n",
        "  return (state.astype(np.float32), \n",
        "          np.array(reward, np.int32), \n",
        "          np.array(done, np.int32))\n",
        "\n",
        "\n",
        "def tf_env_step(action: tf.Tensor) -> List[tf.Tensor]:\n",
        "  return tf.numpy_function(env_step, [action], \n",
        "                           [tf.float32, tf.int32, tf.int32])"
      ]
    },
    {
      "cell_type": "code",
      "execution_count": 8,
      "metadata": {
        "id": "a4qVRV063Cl9"
      },
      "outputs": [],
      "source": [
        "def run_episode(\n",
        "    initial_state: tf.Tensor,  \n",
        "    model: tf.keras.Model, \n",
        "    max_steps: int) -> List[tf.Tensor]:\n",
        "  \"\"\"Runs a single episode to collect training data.\"\"\"\n",
        "\n",
        "  action_probs = tf.TensorArray(dtype=tf.float32, size=0, dynamic_size=True)\n",
        "  values = tf.TensorArray(dtype=tf.float32, size=0, dynamic_size=True)\n",
        "  rewards = tf.TensorArray(dtype=tf.int32, size=0, dynamic_size=True)\n",
        "\n",
        "  initial_state_shape = initial_state.shape\n",
        "  state = initial_state\n",
        "\n",
        "  for t in tf.range(max_steps):\n",
        "    # Convert state into a batched tensor (batch size = 1)\n",
        "    state = tf.expand_dims(state, 0)\n",
        "  \n",
        "    # Run the model and to get action probabilities and critic value\n",
        "    action_logits_t, value = model(state)\n",
        "  \n",
        "    # Sample next action from the action probability distribution\n",
        "    action = tf.random.categorical(action_logits_t, 1)[0, 0]\n",
        "    action_probs_t = tf.nn.softmax(action_logits_t)\n",
        "\n",
        "    # Store critic values\n",
        "    values = values.write(t, tf.squeeze(value))\n",
        "\n",
        "    # Store log probability of the action chosen\n",
        "    action_probs = action_probs.write(t, action_probs_t[0, action])\n",
        "  \n",
        "    # Apply action to the environment to get next state and reward\n",
        "    state, reward, done = tf_env_step(action)\n",
        "    state.set_shape(initial_state_shape)\n",
        "  \n",
        "    # Store reward\n",
        "    rewards = rewards.write(t, reward)\n",
        "\n",
        "    if tf.cast(done, tf.bool):\n",
        "      break\n",
        "\n",
        "  action_probs = action_probs.stack()\n",
        "  values = values.stack()\n",
        "  rewards = rewards.stack()\n",
        "  \n",
        "  return action_probs, values, rewards"
      ]
    },
    {
      "cell_type": "markdown",
      "metadata": {
        "id": "lBnIHdz22dIx"
      },
      "source": [
        "### 2. 예상 이익 계산하기\n",
        "\n",
        "한 에피소드 동안 수집된 각 타임스텝 $t$, ${r_{t}}^{T}*{t=1}$에서 보상의 시퀀스를 예상 이익 ${G*{t}}^{T}_{t=1}$의 시퀀스로 변환합니다. 여기서 보상의 합계는 현재 타임스텝 $t$에서 $T$까지 계산되며, 각 보상에 기하급수적으로 감소하는 할인 계수 $\\gamma$를 곱합니다.\n",
        "\n",
        "$$G_{t} = \\sum^{T}{t'=t} \\gamma^{t'-t}r{t'}$$\n",
        "\n",
        "$\\gamma\\in(0,1)$ 이후, 현재 타임스텝에서 더 멀리 떨어진 보상에는 더 적은 가중치가 부여됩니다.\n",
        "\n",
        "직관적으로, 예상 이익은 단순히 지금 보상이 이후 보상보다 낫다는 것을 암시합니다. 이것은 수학적 의미에서 보상의 합이 수렴하도록 하려는 것입니다.\n",
        "\n",
        "또한, 훈련을 안정화하기 위해 이익의 결과 시퀀스를 표준화합니다(즉, 평균이 0이고 단위 표준 편차를 갖도록 함).\n"
      ]
    },
    {
      "cell_type": "code",
      "execution_count": 9,
      "metadata": {
        "id": "jpEwFyl315dl"
      },
      "outputs": [],
      "source": [
        "def get_expected_return(\n",
        "    rewards: tf.Tensor, \n",
        "    gamma: float, \n",
        "    standardize: bool = True) -> tf.Tensor:\n",
        "  \"\"\"Compute expected returns per timestep.\"\"\"\n",
        "\n",
        "  n = tf.shape(rewards)[0]\n",
        "  returns = tf.TensorArray(dtype=tf.float32, size=n)\n",
        "\n",
        "  # Start from the end of `rewards` and accumulate reward sums\n",
        "  # into the `returns` array\n",
        "  rewards = tf.cast(rewards[::-1], dtype=tf.float32)\n",
        "  discounted_sum = tf.constant(0.0)\n",
        "  discounted_sum_shape = discounted_sum.shape\n",
        "  for i in tf.range(n):\n",
        "    reward = rewards[i]\n",
        "    discounted_sum = reward + gamma * discounted_sum\n",
        "    discounted_sum.set_shape(discounted_sum_shape)\n",
        "    returns = returns.write(i, discounted_sum)\n",
        "  returns = returns.stack()[::-1]\n",
        "\n",
        "  if standardize:\n",
        "    returns = ((returns - tf.math.reduce_mean(returns)) / \n",
        "               (tf.math.reduce_std(returns) + eps))\n",
        "\n",
        "  return returns"
      ]
    },
    {
      "cell_type": "markdown",
      "metadata": {
        "id": "1hrPLrgGxlvb"
      },
      "source": [
        "### 3. Actor-Critic 손실\n",
        "\n",
        "여기서는 하이브리드 Actor-Critic 모델을 사용하고 있기 때문에 아래와 같이 훈련을 위해 행위자와 비평가 손실의 조합인 손실 함수를 사용합니다.\n",
        "\n",
        "$$L = L_{actor} + L_{critic}$$\n",
        "\n",
        "#### Actor 손실\n",
        "\n",
        "[비평가가 상태 종속 기준선인 정책 그래디언트](https://www.youtube.com/watch?v=EKqxumCuAAY&t=62m23s)를 기반으로 행위자 손실을 공식화하고 단일 샘플(에피소드별) 추정치를 계산합니다.\n",
        "\n",
        "$$L_{actor} = -\\sum^{T}*{t=1} log\\pi*{\\theta}(a_{t} | s_{t})[G(s_{t}, a_{t})  - V^{\\pi}*{\\theta}(s*{t})]$$\n",
        "\n",
        "여기서:\n",
        "\n",
        "- $T$: 에피소드별로 달라질 수 있는 에피소드별 타임스텝의 수\n",
        "- $s_{t}$: $t$ 타임스텝의 상태\n",
        "- $a_{t}$: $s$ 상태에 따라 $t$ 타임스텝에서 선택된 동작\n",
        "- $\\pi_{\\theta}$: $\\theta$에 의해 매개변수화된 정책(행위자)\n",
        "- $V^{\\pi}_{\\theta}$: 마찬가지로 $\\theta$에 의해 매개변수화된 값 함수(비평가)\n",
        "- $G = G_{t}$: 주어진 상태에 대한 예상 이익, 타임스텝 $t$에서 동작 쌍\n",
        "\n",
        "결합된 손실을 최소화하여 보상이 더 높은 행동의 확률을 최대화하려고 하므로 합계에 음의 항을 추가합니다.\n",
        "\n",
        "<br>\n",
        "\n",
        "##### 이점\n",
        "\n",
        "$L_{actor}$ 공식에서 $G - V$ 항을 [이점](https://spinningup.openai.com/en/latest/spinningup/rl_intro.html#advantage-functions)이라고 하며, 이는 특정한 상태에서 $\\pi$ 정책에 따라 선택된 임의의 동작보다 이 상태에 얼마나 더 나은 동작이 주어지는지를 나타냅니다.\n",
        "\n",
        "기준선을 제외할 수 있지만 이로 인해 훈련 중에 큰 변동이 발생할 수 있습니다. 그리고 비평가 $V$를 기준선으로 선택할 때의 좋은 점은 가능한 한 $G$에 가깝게 훈련되어 변동이 낮아진다는 것입니다.\n",
        "\n",
        "또한, 비평가가 없으면 알고리즘이 예상 이익을 바탕으로 특정 상태에서 취하는 행동의 확률을 높이려고 시도할 것이며, 이 때 동작 사이의 상대적 확률이 같게 유지된다면 큰 차이가 생기지 않습니다.\n",
        "\n",
        "예를 들어, 주어진 상태에서 두 행동의 예상 이익이 같다고 가정합니다. 비평가가 없으면 알고리즘은 목표 $J$에 따라 이들 동작의 확률을 높이려고 합니다. 비평가의 경우, 이점($G - V = 0$)이 없기 때문에 동작의 확률을 높이는 데 따른 이점이 없으며 알고리즘이 그래디언트를 0으로 설정합니다.\n",
        "\n",
        "<br>\n",
        "\n",
        "#### 비평가 손실\n",
        "\n",
        "$V$를 $G$에 최대한 가깝게 훈련하는 것은 다음 손실 함수를 사용한 회귀 문제로 설정할 수 있습니다.\n",
        "\n",
        "$$L_{critic} = L_{\\delta}(G, V^{\\pi}_{\\theta})$$\n",
        "\n",
        "여기서 $L_{\\delta}$는 [Huber 손실](https://en.wikipedia.org/wiki/Huber_loss)로, 제곱 오차 손실보다 데이터의 이상 값에 덜 민감합니다.\n"
      ]
    },
    {
      "cell_type": "code",
      "execution_count": 10,
      "metadata": {
        "id": "9EXwbEez6n9m"
      },
      "outputs": [],
      "source": [
        "huber_loss = tf.keras.losses.Huber(reduction=tf.keras.losses.Reduction.SUM)\n",
        "\n",
        "def compute_loss(\n",
        "    action_probs: tf.Tensor,  \n",
        "    values: tf.Tensor,  \n",
        "    returns: tf.Tensor) -> tf.Tensor:\n",
        "  \"\"\"Computes the combined actor-critic loss.\"\"\"\n",
        "\n",
        "  advantage = returns - values\n",
        "\n",
        "  action_log_probs = tf.math.log(action_probs)\n",
        "  actor_loss = -tf.math.reduce_sum(action_log_probs * advantage)\n",
        "\n",
        "  critic_loss = huber_loss(values, returns)\n",
        "\n",
        "  return actor_loss + critic_loss"
      ]
    },
    {
      "cell_type": "markdown",
      "metadata": {
        "id": "HSYkQOmRfV75"
      },
      "source": [
        "### 4. 매개변수를 업데이트하기 위한 훈련 단계 정의하기\n",
        "\n",
        "위의 모든 단계를 모든 에피소드에서 실행되는 훈련 단계로 결합합니다. 손실 함수로 이어지는 모든 단계는 `tf.GradientTape` 컨텍스트로 실행되어 자동 미분이 가능합니다.\n",
        "\n",
        "이 튜토리얼에서는 Adam 옵티마이저를 사용하여 모델 매개변수에 그래디언트를 적용합니다.\n",
        "\n",
        "할인되지 않은 보상의 합계인 `episode_reward`도 이 단계에서 계산됩니다. 이 값은 나중에 성공 기준이 충족되는지 평가하는 데 사용됩니다.\n",
        "\n",
        "`tf.function` 컨텍스트를 `train_step` 함수에 적용하여 호출 가능한 TensorFlow 그래프로 컴파일할 수 있고, 그러면 훈련 속도가 10배 빨라질 수 있습니다.\n"
      ]
    },
    {
      "cell_type": "code",
      "execution_count": 11,
      "metadata": {
        "id": "QoccrkF3IFCg"
      },
      "outputs": [],
      "source": [
        "optimizer = tf.keras.optimizers.Adam(learning_rate=0.01)\n",
        "\n",
        "\n",
        "@tf.function\n",
        "def train_step(\n",
        "    initial_state: tf.Tensor, \n",
        "    model: tf.keras.Model, \n",
        "    optimizer: tf.keras.optimizers.Optimizer, \n",
        "    gamma: float, \n",
        "    max_steps_per_episode: int) -> tf.Tensor:\n",
        "  \"\"\"Runs a model training step.\"\"\"\n",
        "\n",
        "  with tf.GradientTape() as tape:\n",
        "\n",
        "    # Run the model for one episode to collect training data\n",
        "    action_probs, values, rewards = run_episode(\n",
        "        initial_state, model, max_steps_per_episode) \n",
        "\n",
        "    # Calculate expected returns\n",
        "    returns = get_expected_return(rewards, gamma)\n",
        "\n",
        "    # Convert training data to appropriate TF tensor shapes\n",
        "    action_probs, values, returns = [\n",
        "        tf.expand_dims(x, 1) for x in [action_probs, values, returns]] \n",
        "\n",
        "    # Calculating loss values to update our network\n",
        "    loss = compute_loss(action_probs, values, returns)\n",
        "\n",
        "  # Compute the gradients from the loss\n",
        "  grads = tape.gradient(loss, model.trainable_variables)\n",
        "\n",
        "  # Apply the gradients to the model's parameters\n",
        "  optimizer.apply_gradients(zip(grads, model.trainable_variables))\n",
        "\n",
        "  episode_reward = tf.math.reduce_sum(rewards)\n",
        "\n",
        "  return episode_reward"
      ]
    },
    {
      "cell_type": "markdown",
      "metadata": {
        "id": "HFvZiDoAflGK"
      },
      "source": [
        "### 5. 훈련 루프 실행하기\n",
        "\n",
        "성공 기준 또는 최대 에피소드 수에 도달할 때까지 훈련 단계를 실행하는 방식으로 훈련을 실행합니다.\n",
        "\n",
        "대기열을 사용하여 에피소드 보상의 실행 레코드를 유지합니다. 100회 시도에 도달하면 가장 오래된 보상이 대기열의 왼쪽(꼬리쪽) 끝에서 제거되고 최근 보상이 머리쪽(오른쪽)에 추가됩니다. 계산 효율을 높이기 위해 보상의 누적 합계도 유지됩니다.\n",
        "\n",
        "런타임에 따라 훈련은 1분 이내에 완료될 수 있습니다."
      ]
    },
    {
      "cell_type": "code",
      "source": [
        "#from statistics import *"
      ],
      "metadata": {
        "id": "ylmE8sB5XGqq"
      },
      "execution_count": 12,
      "outputs": []
    },
    {
      "cell_type": "code",
      "source": [
        "from statistics import mean, median, mode, stdev"
      ],
      "metadata": {
        "id": "4oQT4JBkXekp"
      },
      "execution_count": 15,
      "outputs": []
    },
    {
      "cell_type": "code",
      "execution_count": 16,
      "metadata": {
        "id": "kbmBxnzLiUJx",
        "outputId": "03bf59c9-21ac-4fdb-93f3-d087af094bcf",
        "colab": {
          "base_uri": "https://localhost:8080/"
        }
      },
      "outputs": [
        {
          "output_type": "stream",
          "name": "stderr",
          "text": [
            "Episode 541:   5%|▌         | 541/10000 [03:49<1:06:48,  2.36it/s, episode_reward=200, running_reward=195]"
          ]
        },
        {
          "output_type": "stream",
          "name": "stdout",
          "text": [
            "\n",
            "Solved at episode 541: average reward: 195.13!\n",
            "CPU times: user 5min 24s, sys: 50.2 s, total: 6min 14s\n",
            "Wall time: 3min 49s\n"
          ]
        },
        {
          "output_type": "stream",
          "name": "stderr",
          "text": [
            "\n"
          ]
        }
      ],
      "source": [
        "%%time\n",
        "\n",
        "min_episodes_criterion = 100\n",
        "max_episodes = 10000\n",
        "max_steps_per_episode = 1000\n",
        "\n",
        "# Cartpole-v0 is considered solved if average reward is >= 195 over 100 \n",
        "# consecutive trials\n",
        "reward_threshold = 195\n",
        "running_reward = 0\n",
        "\n",
        "# Discount factor for future rewards\n",
        "gamma = 0.99\n",
        "\n",
        "# Keep last episodes reward\n",
        "episodes_reward: collections.deque = collections.deque(maxlen=min_episodes_criterion)\n",
        "\n",
        "with tqdm.trange(max_episodes) as t:\n",
        "  for i in t:\n",
        "    initial_state = tf.constant(env.reset(), dtype=tf.float32)\n",
        "    episode_reward = int(train_step(\n",
        "        initial_state, model, optimizer, gamma, max_steps_per_episode))\n",
        "    \n",
        "    episodes_reward.append(episode_reward)\n",
        "    # running_reward = statistics.mean(episodes_reward)\n",
        "    running_reward = mean(episodes_reward)\n",
        "  \n",
        "    t.set_description(f'Episode {i}')\n",
        "    t.set_postfix(\n",
        "        episode_reward=episode_reward, running_reward=running_reward)\n",
        "  \n",
        "    # Show average episode reward every 10 episodes\n",
        "    if i % 10 == 0:\n",
        "      pass # print(f'Episode {i}: average reward: {avg_reward}')\n",
        "  \n",
        "    if running_reward > reward_threshold and i >= min_episodes_criterion:  \n",
        "        break\n",
        "\n",
        "print(f'\\nSolved at episode {i}: average reward: {running_reward:.2f}!')"
      ]
    },
    {
      "cell_type": "markdown",
      "metadata": {
        "id": "ru8BEwS1EmAv"
      },
      "source": [
        "## 시각화\n",
        "\n",
        "훈련 후에는 모델이 환경에서 어떻게 동작하는지 시각화하는 것이 좋습니다. 아래 셀을 실행하여 모델의 한 에피소드 실행에 대한 GIF 애니메이션을 생성할 수 있습니다. Colab에서 환경의 이미지를 올바르게 렌더링하려면 OpenAI Gym에 대한 추가 패키지를 설치해야 합니다."
      ]
    },
    {
      "cell_type": "code",
      "execution_count": 17,
      "metadata": {
        "id": "qbIMMkfmRHyC"
      },
      "outputs": [],
      "source": [
        "# Render an episode and save as a GIF file\n",
        "\n",
        "from IPython import display as ipythondisplay\n",
        "from PIL import Image\n",
        "from pyvirtualdisplay import Display\n",
        "\n",
        "\n",
        "display = Display(visible=0, size=(400, 300))\n",
        "display.start()\n",
        "\n",
        "\n",
        "def render_episode(env: gym.Env, model: tf.keras.Model, max_steps: int): \n",
        "  screen = env.render(mode='rgb_array')\n",
        "  im = Image.fromarray(screen)\n",
        "\n",
        "  images = [im]\n",
        "  \n",
        "  state = tf.constant(env.reset(), dtype=tf.float32)\n",
        "  for i in range(1, max_steps + 1):\n",
        "    state = tf.expand_dims(state, 0)\n",
        "    action_probs, _ = model(state)\n",
        "    action = np.argmax(np.squeeze(action_probs))\n",
        "\n",
        "    state, _, done, _ = env.step(action)\n",
        "    state = tf.constant(state, dtype=tf.float32)\n",
        "\n",
        "    # Render screen every 10 steps\n",
        "    if i % 10 == 0:\n",
        "      screen = env.render(mode='rgb_array')\n",
        "      images.append(Image.fromarray(screen))\n",
        "  \n",
        "    if done:\n",
        "      break\n",
        "  \n",
        "  return images\n",
        "\n",
        "\n",
        "# Save GIF image\n",
        "images = render_episode(env, model, max_steps_per_episode)\n",
        "image_file = 'cartpole-v0.gif'\n",
        "# loop=0: loop forever, duration=1: play each frame for 1ms\n",
        "images[0].save(\n",
        "    image_file, save_all=True, append_images=images[1:], loop=0, duration=1)"
      ]
    },
    {
      "cell_type": "code",
      "execution_count": 18,
      "metadata": {
        "id": "TLd720SejKmf",
        "outputId": "d2f2b2e7-6c8a-4c8d-9313-eec25c1368a8",
        "colab": {
          "base_uri": "https://localhost:8080/",
          "height": 420
        }
      },
      "outputs": [
        {
          "output_type": "execute_result",
          "data": {
            "text/plain": [
              "<IPython.core.display.HTML object>"
            ],
            "text/html": [
              "<img src=\"data:image/gif;base64,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\"/>"
            ]
          },
          "metadata": {},
          "execution_count": 18
        }
      ],
      "source": [
        "import tensorflow_docs.vis.embed as embed\n",
        "embed.embed_file(image_file)"
      ]
    },
    {
      "cell_type": "markdown",
      "metadata": {
        "id": "lnq9Hzo1Po6X"
      },
      "source": [
        "## 다음 단계\n",
        "\n",
        "이 튜토리얼에서는 Tensorflow를 사용하여 Actor-Critic 방법을 구현하는 방법을 보여주었습니다.\n",
        "\n",
        "다음 단계로 OpenAI Gym의 다른 환경에서 모델의 훈련을 시도할 수 있습니다.\n",
        "\n",
        "Actor-Critic 방법 및 Cartpole-v0 문제에 대한 추가 정보는 다음 리소스를 참조하세요.\n",
        "\n",
        "- [Actor Critic 방법](https://hal.inria.fr/hal-00840470/document)\n",
        "- [CAL(Actor Critic Lecture)](https://www.youtube.com/watch?v=EKqxumCuAAY&list=PLkFD6_40KJIwhWJpGazJ9VSj9CFMkb79A&index=7&t=0s)\n",
        "- [카트폴 학습 제어 문제 [Barto 등 1983]](http://www.derongliu.org/adp/adp-cdrom/Barto1983.pdf)\n",
        "\n",
        "TensorFlow에서 더 많은 강화 학습 예를 보려면 다음 리소스를 확인하세요.\n",
        "\n",
        "- [강화 학습 코드 예제(keras.io)](https://keras.io/examples/rl/)\n",
        "- [TF-Agents 강화 학습 라이브러리](https://www.tensorflow.org/agents)\n"
      ]
    }
  ],
  "metadata": {
    "colab": {
      "collapsed_sections": [
        "_jQ1tEQCxwRx"
      ],
      "name": "actor_critic.ipynb",
      "provenance": []
    },
    "kernelspec": {
      "display_name": "Python 3",
      "name": "python3"
    },
    "accelerator": "GPU"
  },
  "nbformat": 4,
  "nbformat_minor": 0
}