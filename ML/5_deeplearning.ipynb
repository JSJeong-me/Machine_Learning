{
  "metadata": {
    "kernelspec": {
      "language": "python",
      "display_name": "Python 3",
      "name": "python3"
    },
    "language_info": {
      "name": "python",
      "version": "3.7.12",
      "mimetype": "text/x-python",
      "codemirror_mode": {
        "name": "ipython",
        "version": 3
      },
      "pygments_lexer": "ipython3",
      "nbconvert_exporter": "python",
      "file_extension": ".py"
    },
    "colab": {
      "name": "notebook0fdae1b397.ipynb",
      "provenance": [],
      "include_colab_link": true
    }
  },
  "nbformat_minor": 0,
  "nbformat": 4,
  "cells": [
    {
      "cell_type": "markdown",
      "metadata": {
        "id": "view-in-github",
        "colab_type": "text"
      },
      "source": [
        "<a href=\"https://colab.research.google.com/github/JSJeong-me/Machine_Learning/blob/main/ML/5_deeplearning.ipynb\" target=\"_parent\"><img src=\"https://colab.research.google.com/assets/colab-badge.svg\" alt=\"Open In Colab\"/></a>"
      ]
    },
    {
      "cell_type": "markdown",
      "source": [
        "**This notebook is an exercise in the [Intro to Deep Learning](https://www.kaggle.com/learn/intro-to-deep-learning) course.  You can reference the tutorial at [this link](https://www.kaggle.com/ryanholbrook/a-single-neuron).**\n",
        "\n",
        "---\n"
      ],
      "metadata": {
        "id": "3mUBPSlwm4qA"
      }
    },
    {
      "cell_type": "markdown",
      "source": [
        "# Introduction #\n",
        "\n",
        "In the tutorial we learned about the building blocks of neural networks: *linear units*. We saw that a model of just one linear unit will fit a linear function to a dataset (equivalent to linear regression). In this exercise, you'll build a linear model and get some practice working with models in Keras.\n",
        "\n",
        "Before you get started, run the code cell below to set everything up."
      ],
      "metadata": {
        "id": "lu_BKhPIm4qE"
      }
    },
    {
      "cell_type": "markdown",
      "source": [
        "The *Red Wine Quality* dataset consists of physiochemical measurements from about 1600 Portuguese red wines.  Also included is a quality rating for each wine from blind taste-tests. \n",
        "\n",
        "First, run the next cell to display the first few rows of this dataset."
      ],
      "metadata": {
        "id": "beV27Dokm4qF"
      }
    },
    {
      "cell_type": "code",
      "source": [
        "import pandas as pd\n",
        "from IPython.display import display\n",
        "\n",
        "red_wine = pd.read_csv('winequality-red.csv')"
      ],
      "metadata": {
        "id": "oOsO38pc7e7i"
      },
      "execution_count": null,
      "outputs": []
    },
    {
      "cell_type": "code",
      "source": [
        "# Create training and validation splits\n",
        "df_train = red_wine.sample(frac=0.7, random_state=0)\n",
        "df_valid = red_wine.drop(df_train.index)\n",
        "display(df_train.head(4))"
      ],
      "metadata": {
        "id": "7Hd3WHYI7hHy"
      },
      "execution_count": null,
      "outputs": []
    },
    {
      "cell_type": "code",
      "source": [
        "# Scale to [0, 1]\n",
        "max_ = df_train.max(axis=0)\n",
        "min_ = df_train.min(axis=0)\n",
        "df_train = (df_train - min_) / (max_ - min_)\n",
        "df_valid = (df_valid - min_) / (max_ - min_)"
      ],
      "metadata": {
        "id": "JVfWAkMg7jJx"
      },
      "execution_count": null,
      "outputs": []
    },
    {
      "cell_type": "code",
      "source": [
        "# Split features and target\n",
        "X_train = df_train.drop('quality', axis=1)\n",
        "X_valid = df_valid.drop('quality', axis=1)\n",
        "y_train = df_train['quality']\n",
        "y_valid = df_valid['quality']"
      ],
      "metadata": {
        "lines_to_next_cell": 0,
        "execution": {
          "iopub.status.busy": "2022-04-01T09:57:19.062761Z",
          "iopub.execute_input": "2022-04-01T09:57:19.062976Z",
          "iopub.status.idle": "2022-04-01T09:57:19.075724Z",
          "shell.execute_reply.started": "2022-04-01T09:57:19.062942Z",
          "shell.execute_reply": "2022-04-01T09:57:19.074972Z"
        },
        "trusted": true,
        "id": "eetwNncNm4qG"
      },
      "execution_count": null,
      "outputs": []
    },
    {
      "cell_type": "code",
      "source": [
        "red_wine.describe()"
      ],
      "metadata": {
        "execution": {
          "iopub.status.busy": "2022-04-01T09:57:19.076902Z",
          "iopub.execute_input": "2022-04-01T09:57:19.077158Z",
          "iopub.status.idle": "2022-04-01T09:57:19.124183Z",
          "shell.execute_reply.started": "2022-04-01T09:57:19.077129Z",
          "shell.execute_reply": "2022-04-01T09:57:19.123278Z"
        },
        "trusted": true,
        "id": "v8bGY_i3m4qG"
      },
      "execution_count": null,
      "outputs": []
    },
    {
      "cell_type": "code",
      "source": [
        "from tensorflow import keras\n",
        "from tensorflow.keras import layers\n",
        "\n",
        "model = keras.Sequential([\n",
        "    layers.Dense(512, activation='relu', input_shape=[11]),\n",
        "    layers.Dense(512, activation='relu'),\n",
        "    layers.Dense(512, activation='relu'),\n",
        "    layers.Dense(1),\n",
        "])"
      ],
      "metadata": {
        "execution": {
          "iopub.status.busy": "2022-04-01T09:57:19.125173Z",
          "iopub.execute_input": "2022-04-01T09:57:19.125378Z",
          "iopub.status.idle": "2022-04-01T09:57:19.144320Z",
          "shell.execute_reply.started": "2022-04-01T09:57:19.125351Z",
          "shell.execute_reply": "2022-04-01T09:57:19.143449Z"
        },
        "trusted": true,
        "id": "VLqpQWRfm4qH"
      },
      "execution_count": null,
      "outputs": []
    },
    {
      "cell_type": "code",
      "source": [
        "model.compile(\n",
        "    optimizer='adam',\n",
        "    loss='mae',\n",
        ")"
      ],
      "metadata": {
        "execution": {
          "iopub.status.busy": "2022-04-01T09:57:19.145527Z",
          "iopub.execute_input": "2022-04-01T09:57:19.145858Z",
          "iopub.status.idle": "2022-04-01T09:57:19.154108Z",
          "shell.execute_reply.started": "2022-04-01T09:57:19.145830Z",
          "shell.execute_reply": "2022-04-01T09:57:19.153139Z"
        },
        "trusted": true,
        "id": "3eMdsFmAm4qH"
      },
      "execution_count": null,
      "outputs": []
    },
    {
      "cell_type": "code",
      "source": [
        "history = model.fit(\n",
        "    X_train, y_train,\n",
        "    validation_data=(X_valid, y_valid),\n",
        "    batch_size=256,\n",
        "    epochs=10,\n",
        ")"
      ],
      "metadata": {
        "id": "7cgxvzRrryg3"
      },
      "execution_count": null,
      "outputs": []
    },
    {
      "cell_type": "markdown",
      "source": [
        "# 2) Define a linear model\n",
        "\n",
        "Now define a linear model appropriate for this task. Pay attention to how many inputs and outputs the model should have."
      ],
      "metadata": {
        "id": "CEEa85Xzm4qH"
      }
    },
    {
      "cell_type": "code",
      "source": [
        "model.summary()"
      ],
      "metadata": {
        "execution": {
          "iopub.status.busy": "2022-04-01T09:57:19.225295Z",
          "iopub.execute_input": "2022-04-01T09:57:19.225843Z",
          "iopub.status.idle": "2022-04-01T09:57:19.237548Z",
          "shell.execute_reply.started": "2022-04-01T09:57:19.225808Z",
          "shell.execute_reply": "2022-04-01T09:57:19.236685Z"
        },
        "trusted": true,
        "id": "RwuUB91vm4qI"
      },
      "execution_count": null,
      "outputs": []
    },
    {
      "cell_type": "code",
      "source": [
        "import pandas as pd\n",
        "\n",
        "# convert the training history to a dataframe\n",
        "history_df = pd.DataFrame(history.history)\n",
        "# use Pandas native plot method\n",
        "history_df['loss'].plot();"
      ],
      "metadata": {
        "id": "i6FtZdYSoj2l"
      },
      "execution_count": null,
      "outputs": []
    }
  ]
}