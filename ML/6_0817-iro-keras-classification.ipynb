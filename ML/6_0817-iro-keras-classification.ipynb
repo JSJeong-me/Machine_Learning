{
  "nbformat": 4,
  "nbformat_minor": 0,
  "metadata": {
    "colab": {
      "name": "Untitled7.ipynb",
      "provenance": [],
      "authorship_tag": "ABX9TyMjvZ4CafDBB3pMtRE02xs1",
      "include_colab_link": true
    },
    "kernelspec": {
      "name": "python3",
      "display_name": "Python 3"
    },
    "language_info": {
      "name": "python"
    },
    "accelerator": "GPU",
    "gpuClass": "standard"
  },
  "cells": [
    {
      "cell_type": "markdown",
      "metadata": {
        "id": "view-in-github",
        "colab_type": "text"
      },
      "source": [
        "<a href=\"https://colab.research.google.com/github/JSJeong-me/Machine_Learning/blob/main/ML/6_0817-iro-keras-classification.ipynb\" target=\"_parent\"><img src=\"https://colab.research.google.com/assets/colab-badge.svg\" alt=\"Open In Colab\"/></a>"
      ]
    },
    {
      "cell_type": "code",
      "source": [
        "from tensorflow import keras\n",
        "from tensorflow.keras import layers\n",
        "from tensorflow.keras.utils import to_categorical"
      ],
      "metadata": {
        "id": "fZHfzppHb6we"
      },
      "execution_count": 61,
      "outputs": []
    },
    {
      "cell_type": "code",
      "source": [
        "import pandas as pd"
      ],
      "metadata": {
        "id": "PbF65PDVKoVu"
      },
      "execution_count": null,
      "outputs": []
    },
    {
      "cell_type": "code",
      "source": [
        "data = pd.read_csv('winequality-red.csv')"
      ],
      "metadata": {
        "id": "Ri27AeReKt_w"
      },
      "execution_count": null,
      "outputs": []
    },
    {
      "cell_type": "code",
      "source": [
        "data_q_sort = data['quality'].unique().sort()"
      ],
      "metadata": {
        "id": "aG21y0u8MY8k"
      },
      "execution_count": null,
      "outputs": []
    },
    {
      "cell_type": "code",
      "source": [
        "test = data['quality'].unique()"
      ],
      "metadata": {
        "id": "tXmxSN1cMY5w"
      },
      "execution_count": 57,
      "outputs": []
    },
    {
      "cell_type": "code",
      "source": [
        "# data.corr()"
      ],
      "metadata": {
        "id": "LxFMoxw1Nkmo"
      },
      "execution_count": null,
      "outputs": []
    },
    {
      "cell_type": "code",
      "source": [
        "# import matplotlib.pyplot as plt\n",
        "# import seaborn as sns"
      ],
      "metadata": {
        "id": "gL5DtCERNkjQ"
      },
      "execution_count": null,
      "outputs": []
    },
    {
      "cell_type": "code",
      "source": [
        "# plt.figure(figsize=(10,10))"
      ],
      "metadata": {
        "id": "j5U4mS2RNkgS"
      },
      "execution_count": null,
      "outputs": []
    },
    {
      "cell_type": "code",
      "source": [
        "# sns.heatmap(data.corr(), annot=True, linewidths=0.5)"
      ],
      "metadata": {
        "id": "itKljyf6OVU-"
      },
      "execution_count": null,
      "outputs": []
    },
    {
      "cell_type": "code",
      "source": [
        "# data.describe()"
      ],
      "metadata": {
        "id": "p0V2_jFVOVR5"
      },
      "execution_count": null,
      "outputs": []
    },
    {
      "cell_type": "code",
      "source": [
        "# len(data.columns)"
      ],
      "metadata": {
        "id": "6wWHUkoXOmCU"
      },
      "execution_count": null,
      "outputs": []
    },
    {
      "cell_type": "code",
      "source": [
        "# data.columns"
      ],
      "metadata": {
        "id": "Ec0yxDEFO5zE"
      },
      "execution_count": null,
      "outputs": []
    },
    {
      "cell_type": "code",
      "source": [
        "from sklearn.model_selection import train_test_split"
      ],
      "metadata": {
        "id": "GlUOOwnMOU39"
      },
      "execution_count": null,
      "outputs": []
    },
    {
      "cell_type": "code",
      "source": [
        "X = data.iloc[:, 0:11]"
      ],
      "metadata": {
        "id": "6rn6hOgKOhIx"
      },
      "execution_count": null,
      "outputs": []
    },
    {
      "cell_type": "code",
      "source": [
        "y = data['quality']"
      ],
      "metadata": {
        "id": "5ATriz5TOzce"
      },
      "execution_count": null,
      "outputs": []
    },
    {
      "cell_type": "code",
      "source": [
        "y.shape"
      ],
      "metadata": {
        "id": "NPizofkQO-z5"
      },
      "execution_count": null,
      "outputs": []
    },
    {
      "cell_type": "code",
      "source": [
        "from sklearn.preprocessing import LabelEncoder\n",
        "le = LabelEncoder()"
      ],
      "metadata": {
        "id": "fryMpn_oVaej"
      },
      "execution_count": 60,
      "outputs": []
    },
    {
      "cell_type": "code",
      "source": [
        "y = le.fit(y)"
      ],
      "metadata": {
        "id": "xvdAcswKV2Sr"
      },
      "execution_count": null,
      "outputs": []
    },
    {
      "cell_type": "code",
      "source": [
        "X_train, X_test, y_train, y_test = train_test_split(X, y, test_size=0.2, random_state= 42)"
      ],
      "metadata": {
        "id": "94kP7G1tOO5Q"
      },
      "execution_count": null,
      "outputs": []
    },
    {
      "cell_type": "code",
      "source": [
        "y_train_cat = to_categorical(y_train, 6)"
      ],
      "metadata": {
        "id": "EApnlkszWGPx"
      },
      "execution_count": null,
      "outputs": []
    },
    {
      "cell_type": "code",
      "source": [
        "y_test_cat = to_categorical(y_test, 6)"
      ],
      "metadata": {
        "id": "1LXuzPFKWWrt"
      },
      "execution_count": null,
      "outputs": []
    },
    {
      "cell_type": "code",
      "source": [
        "from sklearn.preprocessing import MinMaxScaler"
      ],
      "metadata": {
        "id": "rFZJ7IGNOVPZ"
      },
      "execution_count": null,
      "outputs": []
    },
    {
      "cell_type": "code",
      "source": [
        "scaler = MinMaxScaler(feature_range=(0,1))"
      ],
      "metadata": {
        "id": "duG9dYfeOVMg"
      },
      "execution_count": null,
      "outputs": []
    },
    {
      "cell_type": "code",
      "source": [
        "s_X_train = scaler.fit_transform(X_train)"
      ],
      "metadata": {
        "id": "WCc_VyCpNkdc"
      },
      "execution_count": null,
      "outputs": []
    },
    {
      "cell_type": "code",
      "source": [
        "s_X_test = scaler.fit_transform(X_test)"
      ],
      "metadata": {
        "id": "Pxh9CDB0OGbO"
      },
      "execution_count": null,
      "outputs": []
    },
    {
      "cell_type": "code",
      "source": [
        "# type(s_X_train)"
      ],
      "metadata": {
        "id": "hDf0pCm4OGWC"
      },
      "execution_count": null,
      "outputs": []
    },
    {
      "cell_type": "code",
      "source": [
        "# s_X_train.min()"
      ],
      "metadata": {
        "id": "MOXKazp-OGSQ"
      },
      "execution_count": null,
      "outputs": []
    },
    {
      "cell_type": "code",
      "source": [
        "# df_s_X_train = pd.DataFrame(s_X_train)"
      ],
      "metadata": {
        "id": "XcOdbncYP48D"
      },
      "execution_count": null,
      "outputs": []
    },
    {
      "cell_type": "code",
      "source": [
        "# df_s_X_train.describe()"
      ],
      "metadata": {
        "id": "lEd-3KTaP45V"
      },
      "execution_count": null,
      "outputs": []
    },
    {
      "cell_type": "code",
      "source": [
        ""
      ],
      "metadata": {
        "id": "BeLY9oXQP42X"
      },
      "execution_count": null,
      "outputs": []
    },
    {
      "cell_type": "code",
      "source": [
        ""
      ],
      "metadata": {
        "id": "nlpY30vCP4zq"
      },
      "execution_count": null,
      "outputs": []
    },
    {
      "cell_type": "code",
      "source": [
        ""
      ],
      "metadata": {
        "id": "a6Y74pHBP4w1"
      },
      "execution_count": null,
      "outputs": []
    },
    {
      "cell_type": "code",
      "execution_count": null,
      "metadata": {
        "id": "UxCRcOYnb0hQ"
      },
      "outputs": [],
      "source": [
        "# Create a network with 1 linear unit\n",
        "model = keras.Sequential([\n",
        "    layers.Dense(units=80, input_shape=[11], activation='relu'),\n",
        "    layers.BatchNormalization(),\n",
        "    layers.Dropout(rate=0.5),\n",
        "    layers.Dense(units=30, activation='relu'),\n",
        "    layers.BatchNormalization(),\n",
        "    layers.Dropout(rate=0.5),\n",
        "    layers.Dense(units=10, activation='relu'),\n",
        "    layers.BatchNormalization(),\n",
        "    layers.Dropout(rate=0.5),\n",
        "    layers.Dense(units=6, activation='softmax')\n",
        "])"
      ]
    },
    {
      "cell_type": "code",
      "source": [
        "model.compile(optimizer='adam', loss='categorical_crossentropy', metrics=['accuracy'])"
      ],
      "metadata": {
        "id": "hVrtcr5O4hEE"
      },
      "execution_count": null,
      "outputs": []
    },
    {
      "cell_type": "code",
      "source": [
        "model.summary()"
      ],
      "metadata": {
        "id": "PxfuQN4cb-S7"
      },
      "execution_count": null,
      "outputs": []
    },
    {
      "cell_type": "code",
      "source": [
        "history = model.fit(s_X_train, y_train_cat, validation_data = (s_X_test, y_test_cat), batch_size=64, epochs=150)"
      ],
      "metadata": {
        "id": "E4LdCDiucBZ2"
      },
      "execution_count": null,
      "outputs": []
    },
    {
      "cell_type": "code",
      "source": [
        "# type(history)"
      ],
      "metadata": {
        "id": "mvkqLhvCQ4EI"
      },
      "execution_count": null,
      "outputs": []
    },
    {
      "cell_type": "code",
      "source": [
        "history.history"
      ],
      "metadata": {
        "id": "GzVLxxIBQ5C5"
      },
      "execution_count": null,
      "outputs": []
    },
    {
      "cell_type": "code",
      "source": [
        "df_history = pd.DataFrame(history.history)"
      ],
      "metadata": {
        "id": "1yYfWGKiRAih"
      },
      "execution_count": null,
      "outputs": []
    },
    {
      "cell_type": "code",
      "source": [
        "df_history.columns"
      ],
      "metadata": {
        "id": "54iDgZriROw5"
      },
      "execution_count": null,
      "outputs": []
    },
    {
      "cell_type": "code",
      "source": [
        "# df_history['val_loss'].min()"
      ],
      "metadata": {
        "id": "KYAYNn5UPeIU"
      },
      "execution_count": null,
      "outputs": []
    },
    {
      "cell_type": "code",
      "source": [
        "# df_history['val_mse'].min()"
      ],
      "metadata": {
        "id": "MRffW5zVPmit"
      },
      "execution_count": null,
      "outputs": []
    },
    {
      "cell_type": "code",
      "source": [
        "# df_history.loc[0:150,['loss', 'val_loss']].plot()"
      ],
      "metadata": {
        "id": "wDS_MH4mRRAB"
      },
      "execution_count": null,
      "outputs": []
    },
    {
      "cell_type": "code",
      "source": [
        "s_X_test.shape"
      ],
      "metadata": {
        "id": "RNQYzKwCSxP-"
      },
      "execution_count": null,
      "outputs": []
    },
    {
      "cell_type": "code",
      "source": [
        "y_pred = model.predict(s_X_test)"
      ],
      "metadata": {
        "id": "tGdFrK82R1Mx"
      },
      "execution_count": null,
      "outputs": []
    },
    {
      "cell_type": "code",
      "source": [
        "y_pred[0]"
      ],
      "metadata": {
        "id": "7h29NhN8Rp4h"
      },
      "execution_count": null,
      "outputs": []
    },
    {
      "cell_type": "code",
      "source": [
        "# arr_y_test = y_test.values"
      ],
      "metadata": {
        "id": "ZyTC4iFbTw6x"
      },
      "execution_count": null,
      "outputs": []
    },
    {
      "cell_type": "code",
      "source": [
        "# arr_y_test[0]"
      ],
      "metadata": {
        "id": "w_NkIxIiT3qY"
      },
      "execution_count": null,
      "outputs": []
    },
    {
      "cell_type": "code",
      "source": [
        "type(y_test)"
      ],
      "metadata": {
        "id": "aK03z4fAS98F"
      },
      "execution_count": null,
      "outputs": []
    },
    {
      "cell_type": "code",
      "source": [
        "# mse__value, _ = model.evaluate(s_X_test, y_test)"
      ],
      "metadata": {
        "id": "dRF7w94cTT4J"
      },
      "execution_count": null,
      "outputs": []
    },
    {
      "cell_type": "code",
      "source": [
        "# mse__value"
      ],
      "metadata": {
        "id": "CyvpqpZ1UuxU"
      },
      "execution_count": null,
      "outputs": []
    }
  ]
}