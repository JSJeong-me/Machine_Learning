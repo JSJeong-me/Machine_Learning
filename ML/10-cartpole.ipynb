{
  "cells": [
    {
      "cell_type": "markdown",
      "metadata": {
        "id": "view-in-github",
        "colab_type": "text"
      },
      "source": [
        "<a href=\"https://colab.research.google.com/github/JSJeong-me/Machine_Learning/blob/main/ML/10-cartpole.ipynb\" target=\"_parent\"><img src=\"https://colab.research.google.com/assets/colab-badge.svg\" alt=\"Open In Colab\"/></a>"
      ]
    },
    {
      "cell_type": "markdown",
      "metadata": {
        "id": "CDnt8NFmR8qO"
      },
      "source": [
        "Setup rendering dependencies for Google Colaboratory."
      ]
    },
    {
      "cell_type": "code",
      "execution_count": 1,
      "metadata": {
        "id": "dMoTeS3yR8qU"
      },
      "outputs": [],
      "source": [
        "!pip install gym pyvirtualdisplay > /dev/null 2>&1\n",
        "!apt-get install -y xvfb python-opengl ffmpeg > /dev/null 2>&1"
      ]
    },
    {
      "cell_type": "markdown",
      "metadata": {
        "id": "aLHHrgXqR8qW"
      },
      "source": [
        "Install d3rlpy!"
      ]
    },
    {
      "cell_type": "code",
      "execution_count": 2,
      "metadata": {
        "id": "sdJ8qfTpR8qX",
        "outputId": "6d989cb3-b3ec-49a3-fade-7f29f5587e4e",
        "colab": {
          "base_uri": "https://localhost:8080/"
        }
      },
      "outputs": [
        {
          "output_type": "stream",
          "name": "stdout",
          "text": [
            "Collecting d3rlpy\n",
            "  Downloading d3rlpy-1.1.0-cp37-cp37m-manylinux1_x86_64.whl (1.2 MB)\n",
            "\u001b[K     |████████████████████████████████| 1.2 MB 5.2 MB/s \n",
            "\u001b[?25hRequirement already satisfied: torch in /usr/local/lib/python3.7/dist-packages (from d3rlpy) (1.11.0+cu113)\n",
            "Requirement already satisfied: scikit-learn in /usr/local/lib/python3.7/dist-packages (from d3rlpy) (1.0.2)\n",
            "Requirement already satisfied: typing-extensions in /usr/local/lib/python3.7/dist-packages (from d3rlpy) (4.2.0)\n",
            "Requirement already satisfied: click in /usr/local/lib/python3.7/dist-packages (from d3rlpy) (7.1.2)\n",
            "Requirement already satisfied: scipy in /usr/local/lib/python3.7/dist-packages (from d3rlpy) (1.4.1)\n",
            "Requirement already satisfied: cloudpickle in /usr/local/lib/python3.7/dist-packages (from d3rlpy) (1.3.0)\n",
            "Requirement already satisfied: h5py in /usr/local/lib/python3.7/dist-packages (from d3rlpy) (3.1.0)\n",
            "Collecting tensorboardX\n",
            "  Downloading tensorboardX-2.5-py2.py3-none-any.whl (125 kB)\n",
            "\u001b[K     |████████████████████████████████| 125 kB 43.6 MB/s \n",
            "\u001b[?25hRequirement already satisfied: gym in /usr/local/lib/python3.7/dist-packages (from d3rlpy) (0.17.3)\n",
            "Collecting colorama\n",
            "  Downloading colorama-0.4.4-py2.py3-none-any.whl (16 kB)\n",
            "Collecting structlog\n",
            "  Downloading structlog-21.5.0-py3-none-any.whl (53 kB)\n",
            "\u001b[K     |████████████████████████████████| 53 kB 1.7 MB/s \n",
            "\u001b[?25hRequirement already satisfied: tqdm in /usr/local/lib/python3.7/dist-packages (from d3rlpy) (4.64.0)\n",
            "Collecting GPUtil\n",
            "  Downloading GPUtil-1.4.0.tar.gz (5.5 kB)\n",
            "Requirement already satisfied: pyglet<=1.5.0,>=1.4.0 in /usr/local/lib/python3.7/dist-packages (from gym->d3rlpy) (1.5.0)\n",
            "Requirement already satisfied: numpy>=1.10.4 in /usr/local/lib/python3.7/dist-packages (from gym->d3rlpy) (1.21.6)\n",
            "Requirement already satisfied: future in /usr/local/lib/python3.7/dist-packages (from pyglet<=1.5.0,>=1.4.0->gym->d3rlpy) (0.16.0)\n",
            "Requirement already satisfied: cached-property in /usr/local/lib/python3.7/dist-packages (from h5py->d3rlpy) (1.5.2)\n",
            "Requirement already satisfied: joblib>=0.11 in /usr/local/lib/python3.7/dist-packages (from scikit-learn->d3rlpy) (1.1.0)\n",
            "Requirement already satisfied: threadpoolctl>=2.0.0 in /usr/local/lib/python3.7/dist-packages (from scikit-learn->d3rlpy) (3.1.0)\n",
            "Requirement already satisfied: protobuf>=3.8.0 in /usr/local/lib/python3.7/dist-packages (from tensorboardX->d3rlpy) (3.17.3)\n",
            "Requirement already satisfied: six in /usr/local/lib/python3.7/dist-packages (from tensorboardX->d3rlpy) (1.15.0)\n",
            "Building wheels for collected packages: GPUtil\n",
            "  Building wheel for GPUtil (setup.py) ... \u001b[?25l\u001b[?25hdone\n",
            "  Created wheel for GPUtil: filename=GPUtil-1.4.0-py3-none-any.whl size=7411 sha256=ea749720a6d34b36e8cf6d81cd63188e30dfd6dd910a14befd64539b2f765c9b\n",
            "  Stored in directory: /root/.cache/pip/wheels/6e/f8/83/534c52482d6da64622ddbf72cd93c35d2ef2881b78fd08ff0c\n",
            "Successfully built GPUtil\n",
            "Installing collected packages: tensorboardX, structlog, GPUtil, colorama, d3rlpy\n",
            "Successfully installed GPUtil-1.4.0 colorama-0.4.4 d3rlpy-1.1.0 structlog-21.5.0 tensorboardX-2.5\n"
          ]
        }
      ],
      "source": [
        "!pip install d3rlpy"
      ]
    },
    {
      "cell_type": "markdown",
      "metadata": {
        "id": "J1muI5bkR8qY"
      },
      "source": [
        "Setup cartpole dataset."
      ]
    },
    {
      "cell_type": "code",
      "execution_count": 3,
      "metadata": {
        "id": "1iUbGFP_R8qZ",
        "outputId": "ea54903c-8424-4acc-d07c-1b51aaa3e20a",
        "colab": {
          "base_uri": "https://localhost:8080/"
        }
      },
      "outputs": [
        {
          "output_type": "stream",
          "name": "stdout",
          "text": [
            "Downloading cartpole.pkl into d3rlpy_data/cartpole_replay_v1.1.0.h5...\n"
          ]
        }
      ],
      "source": [
        "from d3rlpy.datasets import get_cartpole\n",
        "\n",
        "# get CartPole dataset\n",
        "dataset, env = get_cartpole()"
      ]
    },
    {
      "cell_type": "markdown",
      "metadata": {
        "id": "VfE9ytRiR8qb"
      },
      "source": [
        "Setup data-driven deep reinforcement learning algorithm."
      ]
    },
    {
      "cell_type": "code",
      "execution_count": 4,
      "metadata": {
        "id": "SLeD_jswR8qc",
        "outputId": "59424044-3bde-4176-8737-d88c64993c90",
        "colab": {
          "base_uri": "https://localhost:8080/",
          "height": 361,
          "referenced_widgets": [
            "29f357d9e85445e7bc35c74e4ddb5adc",
            "b842a765e66d46948c8bd2f4e0ad3870",
            "ebe86cbe762b40a8b3c2e3c52ccd1b4f",
            "8512562ebdcf49b8a241efae2f9dd64d",
            "461ad9a0d08743a383c344f2e386feae",
            "1efb90151b1248448f741e262710a44f",
            "3d5de2697c134cfca718beaaf61a3ebb",
            "466b7391ea724bd68c5d80662b161122",
            "6a32233ccd07462f86471331aee32a46",
            "cae1e9838e674d48a81e49824bc4eca8",
            "7f34114037854556b2399f275044563f"
          ]
        }
      },
      "outputs": [
        {
          "output_type": "stream",
          "name": "stdout",
          "text": [
            "2022-05-06 06:02.00 [debug    ] RoundIterator is selected.\n",
            "2022-05-06 06:02.00 [info     ] Directory is created at d3rlpy_logs/DiscreteCQL_20220506060200\n",
            "2022-05-06 06:02.00 [debug    ] Building models...\n",
            "2022-05-06 06:02.00 [debug    ] Models have been built.\n",
            "2022-05-06 06:02.00 [info     ] Parameters are saved to d3rlpy_logs/DiscreteCQL_20220506060200/params.json params={'action_scaler': None, 'alpha': 1.0, 'batch_size': 32, 'encoder_factory': {'type': 'default', 'params': {'activation': 'relu', 'use_batch_norm': False, 'dropout_rate': None}}, 'gamma': 0.99, 'generated_maxlen': 100000, 'learning_rate': 6.25e-05, 'n_critics': 1, 'n_frames': 1, 'n_steps': 1, 'optim_factory': {'optim_cls': 'Adam', 'betas': (0.9, 0.999), 'eps': 1e-08, 'weight_decay': 0, 'amsgrad': False}, 'q_func_factory': {'type': 'mean', 'params': {'share_encoder': False}}, 'real_ratio': 1.0, 'reward_scaler': None, 'scaler': None, 'target_update_interval': 8000, 'use_gpu': None, 'algorithm': 'DiscreteCQL', 'observation_shape': (4,), 'action_size': 2}\n"
          ]
        },
        {
          "output_type": "display_data",
          "data": {
            "text/plain": [
              "Epoch 1/1:   0%|          | 0/2502 [00:00<?, ?it/s]"
            ],
            "application/vnd.jupyter.widget-view+json": {
              "version_major": 2,
              "version_minor": 0,
              "model_id": "29f357d9e85445e7bc35c74e4ddb5adc"
            }
          },
          "metadata": {}
        },
        {
          "output_type": "stream",
          "name": "stdout",
          "text": [
            "2022-05-06 06:02.26 [info     ] DiscreteCQL_20220506060200: epoch=1 step=2502 epoch=1 metrics={'time_sample_batch': 0.00020415624745076985, 'time_algorithm_update': 0.00790301253565019, 'loss': 0.6818982881607769, 'time_step': 0.00830855300958208, 'environment': 200.0, 'advantage': -2.5915046483778155, 'td_error': 1.140804249640917, 'value_scale': 1.0549770076815035} step=2502\n",
            "2022-05-06 06:02.26 [info     ] Model parameters are saved to d3rlpy_logs/DiscreteCQL_20220506060200/model_2502.pt\n"
          ]
        },
        {
          "output_type": "execute_result",
          "data": {
            "text/plain": [
              "[(1,\n",
              "  {'advantage': -2.5915046483778155,\n",
              "   'environment': 200.0,\n",
              "   'loss': 0.6818982881607769,\n",
              "   'td_error': 1.140804249640917,\n",
              "   'time_algorithm_update': 0.00790301253565019,\n",
              "   'time_sample_batch': 0.00020415624745076985,\n",
              "   'time_step': 0.00830855300958208,\n",
              "   'value_scale': 1.0549770076815035})]"
            ]
          },
          "metadata": {},
          "execution_count": 4
        }
      ],
      "source": [
        "from d3rlpy.algos import DiscreteCQL\n",
        "from d3rlpy.metrics.scorer import discounted_sum_of_advantage_scorer\n",
        "from d3rlpy.metrics.scorer import evaluate_on_environment\n",
        "from d3rlpy.metrics.scorer import td_error_scorer\n",
        "from d3rlpy.metrics.scorer import average_value_estimation_scorer\n",
        "from sklearn.model_selection import train_test_split\n",
        "\n",
        "# setup CQL algorithm\n",
        "cql = DiscreteCQL(use_gpu=False)\n",
        "\n",
        "# split train and test episodes\n",
        "train_episodes, test_episodes = train_test_split(dataset, test_size=0.2)\n",
        "\n",
        "# start training\n",
        "cql.fit(train_episodes,\n",
        "        eval_episodes=test_episodes,\n",
        "        n_epochs=1,\n",
        "        scorers={\n",
        "            'environment': evaluate_on_environment(env), # evaluate with CartPol-v0 environment\n",
        "            'advantage': discounted_sum_of_advantage_scorer, # smaller is better\n",
        "            'td_error': td_error_scorer, # smaller is better\n",
        "            'value_scale': average_value_estimation_scorer # smaller is better\n",
        "        })"
      ]
    },
    {
      "cell_type": "markdown",
      "metadata": {
        "id": "Dk9i9OFgR8qe"
      },
      "source": [
        "Setup rendering utilities for Google Colaboratory."
      ]
    },
    {
      "cell_type": "code",
      "execution_count": 5,
      "metadata": {
        "id": "Vx30V10uR8qf"
      },
      "outputs": [],
      "source": [
        "import glob\n",
        "import io\n",
        "import base64\n",
        "\n",
        "from gym.wrappers import Monitor\n",
        "from IPython.display import HTML\n",
        "from IPython import display as ipythondisplay\n",
        "from pyvirtualdisplay import Display\n",
        "\n",
        "# start virtual display\n",
        "display = Display(visible=0, size=(1400, 900))\n",
        "display.start()\n",
        "\n",
        "# play recorded video\n",
        "def show_video():\n",
        "    mp4list = glob.glob('video/*.mp4')\n",
        "    if len(mp4list) > 0:\n",
        "        mp4 = mp4list[0]\n",
        "        video = io.open(mp4, 'r+b').read()\n",
        "        encoded = base64.b64encode(video)\n",
        "        ipythondisplay.display(HTML(data='''\n",
        "            <video alt=\"test\" autoplay loop controls style=\"height: 400px;\">\n",
        "                <source src=\"data:video/mp4;base64,{0}\" type=\"video/mp4\" />\n",
        "            </video>'''.format(encoded.decode('ascii'))))\n",
        "    else: \n",
        "        print(\"Could not find video\")"
      ]
    },
    {
      "cell_type": "markdown",
      "metadata": {
        "id": "EgMfboY3R8qg"
      },
      "source": [
        "Record video!"
      ]
    },
    {
      "cell_type": "code",
      "execution_count": 6,
      "metadata": {
        "id": "hZ9SMCQrR8qg",
        "outputId": "58a61881-1974-46c8-ef48-7a1db6601713",
        "colab": {
          "base_uri": "https://localhost:8080/"
        }
      },
      "outputs": [
        {
          "output_type": "execute_result",
          "data": {
            "text/plain": [
              "200.0"
            ]
          },
          "metadata": {},
          "execution_count": 6
        }
      ],
      "source": [
        "# wrap Monitor wrapper\n",
        "env = Monitor(env, './video', force=True)\n",
        "\n",
        "# evaluate\n",
        "evaluate_on_environment(env)(cql)"
      ]
    },
    {
      "cell_type": "markdown",
      "metadata": {
        "id": "XRlh480yR8qh"
      },
      "source": [
        "Let's see how it works!"
      ]
    },
    {
      "cell_type": "code",
      "execution_count": 7,
      "metadata": {
        "id": "uQlbfMleR8qh",
        "outputId": "61398ed1-3551-4132-c864-66b1d435ae50",
        "colab": {
          "base_uri": "https://localhost:8080/",
          "height": 420
        }
      },
      "outputs": [
        {
          "output_type": "display_data",
          "data": {
            "text/plain": [
              "<IPython.core.display.HTML object>"
            ],
            "text/html": [
              "\n",
              "            <video alt=\"test\" autoplay loop controls style=\"height: 400px;\">\n",
              "                <source src=\"data:video/mp4;base64,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\" type=\"video/mp4\" />\n",
              "            </video>"
            ]
          },
          "metadata": {}
        }
      ],
      "source": [
        "show_video()"
      ]
    }
  ],
  "metadata": {
    "kernelspec": {
      "display_name": "Python 3",
      "language": "python",
      "name": "python3"
    },
    "language_info": {
      "codemirror_mode": {
        "name": "ipython",
        "version": 3
      },
      "file_extension": ".py",
      "mimetype": "text/x-python",
      "name": "python",
      "nbconvert_exporter": "python",
      "pygments_lexer": "ipython3",
      "version": "3.7.7"
    },
    "colab": {
      "name": "cartpole.ipynb",
      "provenance": [],
      "include_colab_link": true
    },
    "widgets": {
      "application/vnd.jupyter.widget-state+json": {
        "29f357d9e85445e7bc35c74e4ddb5adc": {
          "model_module": "@jupyter-widgets/controls",
          "model_name": "HBoxModel",
          "model_module_version": "1.5.0",
          "state": {
            "_dom_classes": [],
            "_model_module": "@jupyter-widgets/controls",
            "_model_module_version": "1.5.0",
            "_model_name": "HBoxModel",
            "_view_count": null,
            "_view_module": "@jupyter-widgets/controls",
            "_view_module_version": "1.5.0",
            "_view_name": "HBoxView",
            "box_style": "",
            "children": [
              "IPY_MODEL_b842a765e66d46948c8bd2f4e0ad3870",
              "IPY_MODEL_ebe86cbe762b40a8b3c2e3c52ccd1b4f",
              "IPY_MODEL_8512562ebdcf49b8a241efae2f9dd64d"
            ],
            "layout": "IPY_MODEL_461ad9a0d08743a383c344f2e386feae"
          }
        },
        "b842a765e66d46948c8bd2f4e0ad3870": {
          "model_module": "@jupyter-widgets/controls",
          "model_name": "HTMLModel",
          "model_module_version": "1.5.0",
          "state": {
            "_dom_classes": [],
            "_model_module": "@jupyter-widgets/controls",
            "_model_module_version": "1.5.0",
            "_model_name": "HTMLModel",
            "_view_count": null,
            "_view_module": "@jupyter-widgets/controls",
            "_view_module_version": "1.5.0",
            "_view_name": "HTMLView",
            "description": "",
            "description_tooltip": null,
            "layout": "IPY_MODEL_1efb90151b1248448f741e262710a44f",
            "placeholder": "​",
            "style": "IPY_MODEL_3d5de2697c134cfca718beaaf61a3ebb",
            "value": "Epoch 1/1: 100%"
          }
        },
        "ebe86cbe762b40a8b3c2e3c52ccd1b4f": {
          "model_module": "@jupyter-widgets/controls",
          "model_name": "FloatProgressModel",
          "model_module_version": "1.5.0",
          "state": {
            "_dom_classes": [],
            "_model_module": "@jupyter-widgets/controls",
            "_model_module_version": "1.5.0",
            "_model_name": "FloatProgressModel",
            "_view_count": null,
            "_view_module": "@jupyter-widgets/controls",
            "_view_module_version": "1.5.0",
            "_view_name": "ProgressView",
            "bar_style": "success",
            "description": "",
            "description_tooltip": null,
            "layout": "IPY_MODEL_466b7391ea724bd68c5d80662b161122",
            "max": 2502,
            "min": 0,
            "orientation": "horizontal",
            "style": "IPY_MODEL_6a32233ccd07462f86471331aee32a46",
            "value": 2502
          }
        },
        "8512562ebdcf49b8a241efae2f9dd64d": {
          "model_module": "@jupyter-widgets/controls",
          "model_name": "HTMLModel",
          "model_module_version": "1.5.0",
          "state": {
            "_dom_classes": [],
            "_model_module": "@jupyter-widgets/controls",
            "_model_module_version": "1.5.0",
            "_model_name": "HTMLModel",
            "_view_count": null,
            "_view_module": "@jupyter-widgets/controls",
            "_view_module_version": "1.5.0",
            "_view_name": "HTMLView",
            "description": "",
            "description_tooltip": null,
            "layout": "IPY_MODEL_cae1e9838e674d48a81e49824bc4eca8",
            "placeholder": "​",
            "style": "IPY_MODEL_7f34114037854556b2399f275044563f",
            "value": " 2502/2502 [00:21&lt;00:00, 163.33it/s, loss=0.682]"
          }
        },
        "461ad9a0d08743a383c344f2e386feae": {
          "model_module": "@jupyter-widgets/base",
          "model_name": "LayoutModel",
          "model_module_version": "1.2.0",
          "state": {
            "_model_module": "@jupyter-widgets/base",
            "_model_module_version": "1.2.0",
            "_model_name": "LayoutModel",
            "_view_count": null,
            "_view_module": "@jupyter-widgets/base",
            "_view_module_version": "1.2.0",
            "_view_name": "LayoutView",
            "align_content": null,
            "align_items": null,
            "align_self": null,
            "border": null,
            "bottom": null,
            "display": null,
            "flex": null,
            "flex_flow": null,
            "grid_area": null,
            "grid_auto_columns": null,
            "grid_auto_flow": null,
            "grid_auto_rows": null,
            "grid_column": null,
            "grid_gap": null,
            "grid_row": null,
            "grid_template_areas": null,
            "grid_template_columns": null,
            "grid_template_rows": null,
            "height": null,
            "justify_content": null,
            "justify_items": null,
            "left": null,
            "margin": null,
            "max_height": null,
            "max_width": null,
            "min_height": null,
            "min_width": null,
            "object_fit": null,
            "object_position": null,
            "order": null,
            "overflow": null,
            "overflow_x": null,
            "overflow_y": null,
            "padding": null,
            "right": null,
            "top": null,
            "visibility": null,
            "width": null
          }
        },
        "1efb90151b1248448f741e262710a44f": {
          "model_module": "@jupyter-widgets/base",
          "model_name": "LayoutModel",
          "model_module_version": "1.2.0",
          "state": {
            "_model_module": "@jupyter-widgets/base",
            "_model_module_version": "1.2.0",
            "_model_name": "LayoutModel",
            "_view_count": null,
            "_view_module": "@jupyter-widgets/base",
            "_view_module_version": "1.2.0",
            "_view_name": "LayoutView",
            "align_content": null,
            "align_items": null,
            "align_self": null,
            "border": null,
            "bottom": null,
            "display": null,
            "flex": null,
            "flex_flow": null,
            "grid_area": null,
            "grid_auto_columns": null,
            "grid_auto_flow": null,
            "grid_auto_rows": null,
            "grid_column": null,
            "grid_gap": null,
            "grid_row": null,
            "grid_template_areas": null,
            "grid_template_columns": null,
            "grid_template_rows": null,
            "height": null,
            "justify_content": null,
            "justify_items": null,
            "left": null,
            "margin": null,
            "max_height": null,
            "max_width": null,
            "min_height": null,
            "min_width": null,
            "object_fit": null,
            "object_position": null,
            "order": null,
            "overflow": null,
            "overflow_x": null,
            "overflow_y": null,
            "padding": null,
            "right": null,
            "top": null,
            "visibility": null,
            "width": null
          }
        },
        "3d5de2697c134cfca718beaaf61a3ebb": {
          "model_module": "@jupyter-widgets/controls",
          "model_name": "DescriptionStyleModel",
          "model_module_version": "1.5.0",
          "state": {
            "_model_module": "@jupyter-widgets/controls",
            "_model_module_version": "1.5.0",
            "_model_name": "DescriptionStyleModel",
            "_view_count": null,
            "_view_module": "@jupyter-widgets/base",
            "_view_module_version": "1.2.0",
            "_view_name": "StyleView",
            "description_width": ""
          }
        },
        "466b7391ea724bd68c5d80662b161122": {
          "model_module": "@jupyter-widgets/base",
          "model_name": "LayoutModel",
          "model_module_version": "1.2.0",
          "state": {
            "_model_module": "@jupyter-widgets/base",
            "_model_module_version": "1.2.0",
            "_model_name": "LayoutModel",
            "_view_count": null,
            "_view_module": "@jupyter-widgets/base",
            "_view_module_version": "1.2.0",
            "_view_name": "LayoutView",
            "align_content": null,
            "align_items": null,
            "align_self": null,
            "border": null,
            "bottom": null,
            "display": null,
            "flex": null,
            "flex_flow": null,
            "grid_area": null,
            "grid_auto_columns": null,
            "grid_auto_flow": null,
            "grid_auto_rows": null,
            "grid_column": null,
            "grid_gap": null,
            "grid_row": null,
            "grid_template_areas": null,
            "grid_template_columns": null,
            "grid_template_rows": null,
            "height": null,
            "justify_content": null,
            "justify_items": null,
            "left": null,
            "margin": null,
            "max_height": null,
            "max_width": null,
            "min_height": null,
            "min_width": null,
            "object_fit": null,
            "object_position": null,
            "order": null,
            "overflow": null,
            "overflow_x": null,
            "overflow_y": null,
            "padding": null,
            "right": null,
            "top": null,
            "visibility": null,
            "width": null
          }
        },
        "6a32233ccd07462f86471331aee32a46": {
          "model_module": "@jupyter-widgets/controls",
          "model_name": "ProgressStyleModel",
          "model_module_version": "1.5.0",
          "state": {
            "_model_module": "@jupyter-widgets/controls",
            "_model_module_version": "1.5.0",
            "_model_name": "ProgressStyleModel",
            "_view_count": null,
            "_view_module": "@jupyter-widgets/base",
            "_view_module_version": "1.2.0",
            "_view_name": "StyleView",
            "bar_color": null,
            "description_width": ""
          }
        },
        "cae1e9838e674d48a81e49824bc4eca8": {
          "model_module": "@jupyter-widgets/base",
          "model_name": "LayoutModel",
          "model_module_version": "1.2.0",
          "state": {
            "_model_module": "@jupyter-widgets/base",
            "_model_module_version": "1.2.0",
            "_model_name": "LayoutModel",
            "_view_count": null,
            "_view_module": "@jupyter-widgets/base",
            "_view_module_version": "1.2.0",
            "_view_name": "LayoutView",
            "align_content": null,
            "align_items": null,
            "align_self": null,
            "border": null,
            "bottom": null,
            "display": null,
            "flex": null,
            "flex_flow": null,
            "grid_area": null,
            "grid_auto_columns": null,
            "grid_auto_flow": null,
            "grid_auto_rows": null,
            "grid_column": null,
            "grid_gap": null,
            "grid_row": null,
            "grid_template_areas": null,
            "grid_template_columns": null,
            "grid_template_rows": null,
            "height": null,
            "justify_content": null,
            "justify_items": null,
            "left": null,
            "margin": null,
            "max_height": null,
            "max_width": null,
            "min_height": null,
            "min_width": null,
            "object_fit": null,
            "object_position": null,
            "order": null,
            "overflow": null,
            "overflow_x": null,
            "overflow_y": null,
            "padding": null,
            "right": null,
            "top": null,
            "visibility": null,
            "width": null
          }
        },
        "7f34114037854556b2399f275044563f": {
          "model_module": "@jupyter-widgets/controls",
          "model_name": "DescriptionStyleModel",
          "model_module_version": "1.5.0",
          "state": {
            "_model_module": "@jupyter-widgets/controls",
            "_model_module_version": "1.5.0",
            "_model_name": "DescriptionStyleModel",
            "_view_count": null,
            "_view_module": "@jupyter-widgets/base",
            "_view_module_version": "1.2.0",
            "_view_name": "StyleView",
            "description_width": ""
          }
        }
      }
    },
    "accelerator": "GPU"
  },
  "nbformat": 4,
  "nbformat_minor": 0
}