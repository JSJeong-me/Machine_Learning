{
  "cells": [
    {
      "cell_type": "markdown",
      "metadata": {
        "id": "view-in-github",
        "colab_type": "text"
      },
      "source": [
        "<a href=\"https://colab.research.google.com/github/JSJeong-me/Machine_Learning/blob/main/ML/10-cartpole.ipynb\" target=\"_parent\"><img src=\"https://colab.research.google.com/assets/colab-badge.svg\" alt=\"Open In Colab\"/></a>"
      ]
    },
    {
      "cell_type": "markdown",
      "metadata": {
        "id": "CDnt8NFmR8qO"
      },
      "source": [
        "Setup rendering dependencies for Google Colaboratory."
      ]
    },
    {
      "cell_type": "code",
      "execution_count": 1,
      "metadata": {
        "id": "dMoTeS3yR8qU"
      },
      "outputs": [],
      "source": [
        "!pip install gym pyvirtualdisplay > /dev/null 2>&1\n",
        "!apt-get install -y xvfb python-opengl ffmpeg > /dev/null 2>&1"
      ]
    },
    {
      "cell_type": "markdown",
      "metadata": {
        "id": "aLHHrgXqR8qW"
      },
      "source": [
        "Install d3rlpy!"
      ]
    },
    {
      "cell_type": "code",
      "execution_count": 2,
      "metadata": {
        "id": "sdJ8qfTpR8qX",
        "outputId": "350b39de-6e3d-4bb4-e370-edcc7a1f0f90",
        "colab": {
          "base_uri": "https://localhost:8080/"
        }
      },
      "outputs": [
        {
          "output_type": "stream",
          "name": "stdout",
          "text": [
            "Collecting d3rlpy\n",
            "  Downloading d3rlpy-1.1.0-cp37-cp37m-manylinux1_x86_64.whl (1.2 MB)\n",
            "\u001b[K     |████████████████████████████████| 1.2 MB 5.2 MB/s \n",
            "\u001b[?25hRequirement already satisfied: gym in /usr/local/lib/python3.7/dist-packages (from d3rlpy) (0.17.3)\n",
            "Requirement already satisfied: typing-extensions in /usr/local/lib/python3.7/dist-packages (from d3rlpy) (4.2.0)\n",
            "Requirement already satisfied: cloudpickle in /usr/local/lib/python3.7/dist-packages (from d3rlpy) (1.3.0)\n",
            "Requirement already satisfied: torch in /usr/local/lib/python3.7/dist-packages (from d3rlpy) (1.11.0+cu113)\n",
            "Collecting colorama\n",
            "  Downloading colorama-0.4.4-py2.py3-none-any.whl (16 kB)\n",
            "Requirement already satisfied: scipy in /usr/local/lib/python3.7/dist-packages (from d3rlpy) (1.4.1)\n",
            "Requirement already satisfied: h5py in /usr/local/lib/python3.7/dist-packages (from d3rlpy) (3.1.0)\n",
            "Requirement already satisfied: scikit-learn in /usr/local/lib/python3.7/dist-packages (from d3rlpy) (1.0.2)\n",
            "Requirement already satisfied: click in /usr/local/lib/python3.7/dist-packages (from d3rlpy) (7.1.2)\n",
            "Collecting structlog\n",
            "  Downloading structlog-21.5.0-py3-none-any.whl (53 kB)\n",
            "\u001b[K     |████████████████████████████████| 53 kB 1.5 MB/s \n",
            "\u001b[?25hRequirement already satisfied: tqdm in /usr/local/lib/python3.7/dist-packages (from d3rlpy) (4.64.0)\n",
            "Collecting GPUtil\n",
            "  Downloading GPUtil-1.4.0.tar.gz (5.5 kB)\n",
            "Collecting tensorboardX\n",
            "  Downloading tensorboardX-2.5-py2.py3-none-any.whl (125 kB)\n",
            "\u001b[K     |████████████████████████████████| 125 kB 64.0 MB/s \n",
            "\u001b[?25hRequirement already satisfied: pyglet<=1.5.0,>=1.4.0 in /usr/local/lib/python3.7/dist-packages (from gym->d3rlpy) (1.5.0)\n",
            "Requirement already satisfied: numpy>=1.10.4 in /usr/local/lib/python3.7/dist-packages (from gym->d3rlpy) (1.21.6)\n",
            "Requirement already satisfied: future in /usr/local/lib/python3.7/dist-packages (from pyglet<=1.5.0,>=1.4.0->gym->d3rlpy) (0.16.0)\n",
            "Requirement already satisfied: cached-property in /usr/local/lib/python3.7/dist-packages (from h5py->d3rlpy) (1.5.2)\n",
            "Requirement already satisfied: joblib>=0.11 in /usr/local/lib/python3.7/dist-packages (from scikit-learn->d3rlpy) (1.1.0)\n",
            "Requirement already satisfied: threadpoolctl>=2.0.0 in /usr/local/lib/python3.7/dist-packages (from scikit-learn->d3rlpy) (3.1.0)\n",
            "Requirement already satisfied: six in /usr/local/lib/python3.7/dist-packages (from tensorboardX->d3rlpy) (1.15.0)\n",
            "Requirement already satisfied: protobuf>=3.8.0 in /usr/local/lib/python3.7/dist-packages (from tensorboardX->d3rlpy) (3.17.3)\n",
            "Building wheels for collected packages: GPUtil\n",
            "  Building wheel for GPUtil (setup.py) ... \u001b[?25l\u001b[?25hdone\n",
            "  Created wheel for GPUtil: filename=GPUtil-1.4.0-py3-none-any.whl size=7411 sha256=ca3264da5e489cba41b1852122f21bb7a8db4573505fcf4c950432198623d0c5\n",
            "  Stored in directory: /root/.cache/pip/wheels/6e/f8/83/534c52482d6da64622ddbf72cd93c35d2ef2881b78fd08ff0c\n",
            "Successfully built GPUtil\n",
            "Installing collected packages: tensorboardX, structlog, GPUtil, colorama, d3rlpy\n",
            "Successfully installed GPUtil-1.4.0 colorama-0.4.4 d3rlpy-1.1.0 structlog-21.5.0 tensorboardX-2.5\n"
          ]
        }
      ],
      "source": [
        "!pip install d3rlpy"
      ]
    },
    {
      "cell_type": "markdown",
      "metadata": {
        "id": "J1muI5bkR8qY"
      },
      "source": [
        "Setup cartpole dataset."
      ]
    },
    {
      "cell_type": "code",
      "execution_count": 3,
      "metadata": {
        "id": "1iUbGFP_R8qZ",
        "outputId": "be838e46-5536-4c11-dc64-26bc6978ca02",
        "colab": {
          "base_uri": "https://localhost:8080/"
        }
      },
      "outputs": [
        {
          "output_type": "stream",
          "name": "stdout",
          "text": [
            "Downloading cartpole.pkl into d3rlpy_data/cartpole_replay_v1.1.0.h5...\n"
          ]
        }
      ],
      "source": [
        "from d3rlpy.datasets import get_cartpole\n",
        "\n",
        "# get CartPole dataset\n",
        "dataset, env = get_cartpole()"
      ]
    },
    {
      "cell_type": "markdown",
      "metadata": {
        "id": "VfE9ytRiR8qb"
      },
      "source": [
        "Setup data-driven deep reinforcement learning algorithm."
      ]
    },
    {
      "cell_type": "code",
      "execution_count": 4,
      "metadata": {
        "id": "SLeD_jswR8qc",
        "outputId": "2185266f-01e1-4187-ce97-d025ef08d661",
        "colab": {
          "base_uri": "https://localhost:8080/",
          "height": 384,
          "referenced_widgets": [
            "96bcc69ad1a34aa18fbc12395dfc4330",
            "f5dc9021d39a485ebae96a79ba4eb271",
            "5a32a851236b4fe4ac109f5e8c732f75",
            "974f6a1bc56b499fa0c6c8e6dfc5ece7",
            "bb72afab269b4891b538d85d77074b47",
            "0508803514524f78bb832898bee58781",
            "9ccf0ff93af7456b996dd70803909ac0",
            "159789f3251b4f2baf08e8505cd9376c",
            "dbb59688361a4ebe887375df8bc0566a",
            "31b1ba42045c4b1790baae4b7d9deb75",
            "f14cc49e94c74ccda9d59b2cc6400598"
          ]
        }
      },
      "outputs": [
        {
          "output_type": "stream",
          "name": "stdout",
          "text": [
            "2022-05-01 01:42.53 [debug    ] RoundIterator is selected.\n",
            "2022-05-01 01:42.53 [info     ] Directory is created at d3rlpy_logs/DiscreteCQL_20220501014253\n",
            "2022-05-01 01:42.53 [debug    ] Building models...\n",
            "2022-05-01 01:42.53 [debug    ] Models have been built.\n",
            "2022-05-01 01:42.53 [info     ] Parameters are saved to d3rlpy_logs/DiscreteCQL_20220501014253/params.json params={'action_scaler': None, 'alpha': 1.0, 'batch_size': 32, 'encoder_factory': {'type': 'default', 'params': {'activation': 'relu', 'use_batch_norm': False, 'dropout_rate': None}}, 'gamma': 0.99, 'generated_maxlen': 100000, 'learning_rate': 6.25e-05, 'n_critics': 1, 'n_frames': 1, 'n_steps': 1, 'optim_factory': {'optim_cls': 'Adam', 'betas': (0.9, 0.999), 'eps': 1e-08, 'weight_decay': 0, 'amsgrad': False}, 'q_func_factory': {'type': 'mean', 'params': {'share_encoder': False}}, 'real_ratio': 1.0, 'reward_scaler': None, 'scaler': None, 'target_update_interval': 8000, 'use_gpu': None, 'algorithm': 'DiscreteCQL', 'observation_shape': (4,), 'action_size': 2}\n"
          ]
        },
        {
          "output_type": "display_data",
          "data": {
            "text/plain": [
              "Epoch 1/1:   0%|          | 0/2487 [00:00<?, ?it/s]"
            ],
            "application/vnd.jupyter.widget-view+json": {
              "version_major": 2,
              "version_minor": 0,
              "model_id": "96bcc69ad1a34aa18fbc12395dfc4330"
            }
          },
          "metadata": {}
        },
        {
          "output_type": "stream",
          "name": "stdout",
          "text": [
            "2022-05-01 01:43.18 [info     ] DiscreteCQL_20220501014253: epoch=1 step=2487 epoch=1 metrics={'time_sample_batch': 0.0002580052357770661, 'time_algorithm_update': 0.007473945330077978, 'loss': 0.6861463472888227, 'time_step': 0.007964002496514591, 'environment': 200.0, 'advantage': -2.63836737968158, 'td_error': 1.1459702195786692, 'value_scale': 1.0837596543706949} step=2487\n",
            "2022-05-01 01:43.18 [info     ] Model parameters are saved to d3rlpy_logs/DiscreteCQL_20220501014253/model_2487.pt\n"
          ]
        },
        {
          "output_type": "execute_result",
          "data": {
            "text/plain": [
              "[(1,\n",
              "  {'advantage': -2.63836737968158,\n",
              "   'environment': 200.0,\n",
              "   'loss': 0.6861463472888227,\n",
              "   'td_error': 1.1459702195786692,\n",
              "   'time_algorithm_update': 0.007473945330077978,\n",
              "   'time_sample_batch': 0.0002580052357770661,\n",
              "   'time_step': 0.007964002496514591,\n",
              "   'value_scale': 1.0837596543706949})]"
            ]
          },
          "metadata": {},
          "execution_count": 4
        }
      ],
      "source": [
        "from d3rlpy.algos import DiscreteCQL\n",
        "from d3rlpy.metrics.scorer import discounted_sum_of_advantage_scorer\n",
        "from d3rlpy.metrics.scorer import evaluate_on_environment\n",
        "from d3rlpy.metrics.scorer import td_error_scorer\n",
        "from d3rlpy.metrics.scorer import average_value_estimation_scorer\n",
        "from sklearn.model_selection import train_test_split\n",
        "\n",
        "# setup CQL algorithm\n",
        "cql = DiscreteCQL(use_gpu=False)\n",
        "\n",
        "# split train and test episodes\n",
        "train_episodes, test_episodes = train_test_split(dataset, test_size=0.2)\n",
        "\n",
        "# start training\n",
        "cql.fit(train_episodes,\n",
        "        eval_episodes=test_episodes,\n",
        "        n_epochs=1,\n",
        "        scorers={\n",
        "            'environment': evaluate_on_environment(env), # evaluate with CartPol-v0 environment\n",
        "            'advantage': discounted_sum_of_advantage_scorer, # smaller is better\n",
        "            'td_error': td_error_scorer, # smaller is better\n",
        "            'value_scale': average_value_estimation_scorer # smaller is better\n",
        "        })"
      ]
    },
    {
      "cell_type": "markdown",
      "metadata": {
        "id": "Dk9i9OFgR8qe"
      },
      "source": [
        "Setup rendering utilities for Google Colaboratory."
      ]
    },
    {
      "cell_type": "code",
      "execution_count": 5,
      "metadata": {
        "id": "Vx30V10uR8qf"
      },
      "outputs": [],
      "source": [
        "import glob\n",
        "import io\n",
        "import base64\n",
        "\n",
        "from gym.wrappers import Monitor\n",
        "from IPython.display import HTML\n",
        "from IPython import display as ipythondisplay\n",
        "from pyvirtualdisplay import Display\n",
        "\n",
        "# start virtual display\n",
        "display = Display(visible=0, size=(1400, 900))\n",
        "display.start()\n",
        "\n",
        "# play recorded video\n",
        "def show_video():\n",
        "    mp4list = glob.glob('video/*.mp4')\n",
        "    if len(mp4list) > 0:\n",
        "        mp4 = mp4list[0]\n",
        "        video = io.open(mp4, 'r+b').read()\n",
        "        encoded = base64.b64encode(video)\n",
        "        ipythondisplay.display(HTML(data='''\n",
        "            <video alt=\"test\" autoplay loop controls style=\"height: 400px;\">\n",
        "                <source src=\"data:video/mp4;base64,{0}\" type=\"video/mp4\" />\n",
        "            </video>'''.format(encoded.decode('ascii'))))\n",
        "    else: \n",
        "        print(\"Could not find video\")"
      ]
    },
    {
      "cell_type": "markdown",
      "metadata": {
        "id": "EgMfboY3R8qg"
      },
      "source": [
        "Record video!"
      ]
    },
    {
      "cell_type": "code",
      "execution_count": 6,
      "metadata": {
        "id": "hZ9SMCQrR8qg",
        "outputId": "f6e2a4ca-4f8d-441e-c3b3-8b8821bc9c39",
        "colab": {
          "base_uri": "https://localhost:8080/"
        }
      },
      "outputs": [
        {
          "output_type": "execute_result",
          "data": {
            "text/plain": [
              "200.0"
            ]
          },
          "metadata": {},
          "execution_count": 6
        }
      ],
      "source": [
        "# wrap Monitor wrapper\n",
        "env = Monitor(env, './video', force=True)\n",
        "\n",
        "# evaluate\n",
        "evaluate_on_environment(env)(cql)"
      ]
    },
    {
      "cell_type": "markdown",
      "metadata": {
        "id": "XRlh480yR8qh"
      },
      "source": [
        "Let's see how it works!"
      ]
    },
    {
      "cell_type": "code",
      "execution_count": 7,
      "metadata": {
        "id": "uQlbfMleR8qh",
        "outputId": "b0c14dee-17ee-45c7-c3ab-834e4193345a",
        "colab": {
          "base_uri": "https://localhost:8080/",
          "height": 420
        }
      },
      "outputs": [
        {
          "output_type": "display_data",
          "data": {
            "text/plain": [
              "<IPython.core.display.HTML object>"
            ],
            "text/html": [
              "\n",
              "            <video alt=\"test\" autoplay loop controls style=\"height: 400px;\">\n",
              "                <source src=\"data:video/mp4;base64,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\" type=\"video/mp4\" />\n",
              "            </video>"
            ]
          },
          "metadata": {}
        }
      ],
      "source": [
        "show_video()"
      ]
    }
  ],
  "metadata": {
    "kernelspec": {
      "display_name": "Python 3",
      "language": "python",
      "name": "python3"
    },
    "language_info": {
      "codemirror_mode": {
        "name": "ipython",
        "version": 3
      },
      "file_extension": ".py",
      "mimetype": "text/x-python",
      "name": "python",
      "nbconvert_exporter": "python",
      "pygments_lexer": "ipython3",
      "version": "3.7.7"
    },
    "colab": {
      "name": "cartpole.ipynb",
      "provenance": [],
      "include_colab_link": true
    },
    "widgets": {
      "application/vnd.jupyter.widget-state+json": {
        "96bcc69ad1a34aa18fbc12395dfc4330": {
          "model_module": "@jupyter-widgets/controls",
          "model_name": "HBoxModel",
          "model_module_version": "1.5.0",
          "state": {
            "_dom_classes": [],
            "_model_module": "@jupyter-widgets/controls",
            "_model_module_version": "1.5.0",
            "_model_name": "HBoxModel",
            "_view_count": null,
            "_view_module": "@jupyter-widgets/controls",
            "_view_module_version": "1.5.0",
            "_view_name": "HBoxView",
            "box_style": "",
            "children": [
              "IPY_MODEL_f5dc9021d39a485ebae96a79ba4eb271",
              "IPY_MODEL_5a32a851236b4fe4ac109f5e8c732f75",
              "IPY_MODEL_974f6a1bc56b499fa0c6c8e6dfc5ece7"
            ],
            "layout": "IPY_MODEL_bb72afab269b4891b538d85d77074b47"
          }
        },
        "f5dc9021d39a485ebae96a79ba4eb271": {
          "model_module": "@jupyter-widgets/controls",
          "model_name": "HTMLModel",
          "model_module_version": "1.5.0",
          "state": {
            "_dom_classes": [],
            "_model_module": "@jupyter-widgets/controls",
            "_model_module_version": "1.5.0",
            "_model_name": "HTMLModel",
            "_view_count": null,
            "_view_module": "@jupyter-widgets/controls",
            "_view_module_version": "1.5.0",
            "_view_name": "HTMLView",
            "description": "",
            "description_tooltip": null,
            "layout": "IPY_MODEL_0508803514524f78bb832898bee58781",
            "placeholder": "​",
            "style": "IPY_MODEL_9ccf0ff93af7456b996dd70803909ac0",
            "value": "Epoch 1/1: 100%"
          }
        },
        "5a32a851236b4fe4ac109f5e8c732f75": {
          "model_module": "@jupyter-widgets/controls",
          "model_name": "FloatProgressModel",
          "model_module_version": "1.5.0",
          "state": {
            "_dom_classes": [],
            "_model_module": "@jupyter-widgets/controls",
            "_model_module_version": "1.5.0",
            "_model_name": "FloatProgressModel",
            "_view_count": null,
            "_view_module": "@jupyter-widgets/controls",
            "_view_module_version": "1.5.0",
            "_view_name": "ProgressView",
            "bar_style": "success",
            "description": "",
            "description_tooltip": null,
            "layout": "IPY_MODEL_159789f3251b4f2baf08e8505cd9376c",
            "max": 2487,
            "min": 0,
            "orientation": "horizontal",
            "style": "IPY_MODEL_dbb59688361a4ebe887375df8bc0566a",
            "value": 2487
          }
        },
        "974f6a1bc56b499fa0c6c8e6dfc5ece7": {
          "model_module": "@jupyter-widgets/controls",
          "model_name": "HTMLModel",
          "model_module_version": "1.5.0",
          "state": {
            "_dom_classes": [],
            "_model_module": "@jupyter-widgets/controls",
            "_model_module_version": "1.5.0",
            "_model_name": "HTMLModel",
            "_view_count": null,
            "_view_module": "@jupyter-widgets/controls",
            "_view_module_version": "1.5.0",
            "_view_name": "HTMLView",
            "description": "",
            "description_tooltip": null,
            "layout": "IPY_MODEL_31b1ba42045c4b1790baae4b7d9deb75",
            "placeholder": "​",
            "style": "IPY_MODEL_f14cc49e94c74ccda9d59b2cc6400598",
            "value": " 2487/2487 [00:20&lt;00:00, 168.89it/s, loss=0.686]"
          }
        },
        "bb72afab269b4891b538d85d77074b47": {
          "model_module": "@jupyter-widgets/base",
          "model_name": "LayoutModel",
          "model_module_version": "1.2.0",
          "state": {
            "_model_module": "@jupyter-widgets/base",
            "_model_module_version": "1.2.0",
            "_model_name": "LayoutModel",
            "_view_count": null,
            "_view_module": "@jupyter-widgets/base",
            "_view_module_version": "1.2.0",
            "_view_name": "LayoutView",
            "align_content": null,
            "align_items": null,
            "align_self": null,
            "border": null,
            "bottom": null,
            "display": null,
            "flex": null,
            "flex_flow": null,
            "grid_area": null,
            "grid_auto_columns": null,
            "grid_auto_flow": null,
            "grid_auto_rows": null,
            "grid_column": null,
            "grid_gap": null,
            "grid_row": null,
            "grid_template_areas": null,
            "grid_template_columns": null,
            "grid_template_rows": null,
            "height": null,
            "justify_content": null,
            "justify_items": null,
            "left": null,
            "margin": null,
            "max_height": null,
            "max_width": null,
            "min_height": null,
            "min_width": null,
            "object_fit": null,
            "object_position": null,
            "order": null,
            "overflow": null,
            "overflow_x": null,
            "overflow_y": null,
            "padding": null,
            "right": null,
            "top": null,
            "visibility": null,
            "width": null
          }
        },
        "0508803514524f78bb832898bee58781": {
          "model_module": "@jupyter-widgets/base",
          "model_name": "LayoutModel",
          "model_module_version": "1.2.0",
          "state": {
            "_model_module": "@jupyter-widgets/base",
            "_model_module_version": "1.2.0",
            "_model_name": "LayoutModel",
            "_view_count": null,
            "_view_module": "@jupyter-widgets/base",
            "_view_module_version": "1.2.0",
            "_view_name": "LayoutView",
            "align_content": null,
            "align_items": null,
            "align_self": null,
            "border": null,
            "bottom": null,
            "display": null,
            "flex": null,
            "flex_flow": null,
            "grid_area": null,
            "grid_auto_columns": null,
            "grid_auto_flow": null,
            "grid_auto_rows": null,
            "grid_column": null,
            "grid_gap": null,
            "grid_row": null,
            "grid_template_areas": null,
            "grid_template_columns": null,
            "grid_template_rows": null,
            "height": null,
            "justify_content": null,
            "justify_items": null,
            "left": null,
            "margin": null,
            "max_height": null,
            "max_width": null,
            "min_height": null,
            "min_width": null,
            "object_fit": null,
            "object_position": null,
            "order": null,
            "overflow": null,
            "overflow_x": null,
            "overflow_y": null,
            "padding": null,
            "right": null,
            "top": null,
            "visibility": null,
            "width": null
          }
        },
        "9ccf0ff93af7456b996dd70803909ac0": {
          "model_module": "@jupyter-widgets/controls",
          "model_name": "DescriptionStyleModel",
          "model_module_version": "1.5.0",
          "state": {
            "_model_module": "@jupyter-widgets/controls",
            "_model_module_version": "1.5.0",
            "_model_name": "DescriptionStyleModel",
            "_view_count": null,
            "_view_module": "@jupyter-widgets/base",
            "_view_module_version": "1.2.0",
            "_view_name": "StyleView",
            "description_width": ""
          }
        },
        "159789f3251b4f2baf08e8505cd9376c": {
          "model_module": "@jupyter-widgets/base",
          "model_name": "LayoutModel",
          "model_module_version": "1.2.0",
          "state": {
            "_model_module": "@jupyter-widgets/base",
            "_model_module_version": "1.2.0",
            "_model_name": "LayoutModel",
            "_view_count": null,
            "_view_module": "@jupyter-widgets/base",
            "_view_module_version": "1.2.0",
            "_view_name": "LayoutView",
            "align_content": null,
            "align_items": null,
            "align_self": null,
            "border": null,
            "bottom": null,
            "display": null,
            "flex": null,
            "flex_flow": null,
            "grid_area": null,
            "grid_auto_columns": null,
            "grid_auto_flow": null,
            "grid_auto_rows": null,
            "grid_column": null,
            "grid_gap": null,
            "grid_row": null,
            "grid_template_areas": null,
            "grid_template_columns": null,
            "grid_template_rows": null,
            "height": null,
            "justify_content": null,
            "justify_items": null,
            "left": null,
            "margin": null,
            "max_height": null,
            "max_width": null,
            "min_height": null,
            "min_width": null,
            "object_fit": null,
            "object_position": null,
            "order": null,
            "overflow": null,
            "overflow_x": null,
            "overflow_y": null,
            "padding": null,
            "right": null,
            "top": null,
            "visibility": null,
            "width": null
          }
        },
        "dbb59688361a4ebe887375df8bc0566a": {
          "model_module": "@jupyter-widgets/controls",
          "model_name": "ProgressStyleModel",
          "model_module_version": "1.5.0",
          "state": {
            "_model_module": "@jupyter-widgets/controls",
            "_model_module_version": "1.5.0",
            "_model_name": "ProgressStyleModel",
            "_view_count": null,
            "_view_module": "@jupyter-widgets/base",
            "_view_module_version": "1.2.0",
            "_view_name": "StyleView",
            "bar_color": null,
            "description_width": ""
          }
        },
        "31b1ba42045c4b1790baae4b7d9deb75": {
          "model_module": "@jupyter-widgets/base",
          "model_name": "LayoutModel",
          "model_module_version": "1.2.0",
          "state": {
            "_model_module": "@jupyter-widgets/base",
            "_model_module_version": "1.2.0",
            "_model_name": "LayoutModel",
            "_view_count": null,
            "_view_module": "@jupyter-widgets/base",
            "_view_module_version": "1.2.0",
            "_view_name": "LayoutView",
            "align_content": null,
            "align_items": null,
            "align_self": null,
            "border": null,
            "bottom": null,
            "display": null,
            "flex": null,
            "flex_flow": null,
            "grid_area": null,
            "grid_auto_columns": null,
            "grid_auto_flow": null,
            "grid_auto_rows": null,
            "grid_column": null,
            "grid_gap": null,
            "grid_row": null,
            "grid_template_areas": null,
            "grid_template_columns": null,
            "grid_template_rows": null,
            "height": null,
            "justify_content": null,
            "justify_items": null,
            "left": null,
            "margin": null,
            "max_height": null,
            "max_width": null,
            "min_height": null,
            "min_width": null,
            "object_fit": null,
            "object_position": null,
            "order": null,
            "overflow": null,
            "overflow_x": null,
            "overflow_y": null,
            "padding": null,
            "right": null,
            "top": null,
            "visibility": null,
            "width": null
          }
        },
        "f14cc49e94c74ccda9d59b2cc6400598": {
          "model_module": "@jupyter-widgets/controls",
          "model_name": "DescriptionStyleModel",
          "model_module_version": "1.5.0",
          "state": {
            "_model_module": "@jupyter-widgets/controls",
            "_model_module_version": "1.5.0",
            "_model_name": "DescriptionStyleModel",
            "_view_count": null,
            "_view_module": "@jupyter-widgets/base",
            "_view_module_version": "1.2.0",
            "_view_name": "StyleView",
            "description_width": ""
          }
        }
      }
    }
  },
  "nbformat": 4,
  "nbformat_minor": 0
}