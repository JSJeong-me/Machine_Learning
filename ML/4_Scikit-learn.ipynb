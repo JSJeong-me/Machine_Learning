{
  "nbformat": 4,
  "nbformat_minor": 0,
  "metadata": {
    "colab": {
      "name": "Untitled5.ipynb",
      "provenance": [],
      "authorship_tag": "ABX9TyMcq3ewWFdH1m6j/X39+AuU",
      "include_colab_link": true
    },
    "kernelspec": {
      "name": "python3",
      "display_name": "Python 3"
    },
    "language_info": {
      "name": "python"
    }
  },
  "cells": [
    {
      "cell_type": "markdown",
      "metadata": {
        "id": "view-in-github",
        "colab_type": "text"
      },
      "source": [
        "<a href=\"https://colab.research.google.com/github/JSJeong-me/Machine_Learning/blob/main/ML/4_Scikit-learn.ipynb\" target=\"_parent\"><img src=\"https://colab.research.google.com/assets/colab-badge.svg\" alt=\"Open In Colab\"/></a>"
      ]
    },
    {
      "cell_type": "markdown",
      "source": [
        "https://towardsdatascience.com/linear-regression-using-python-b136c91bf0a2\n"
      ],
      "metadata": {
        "id": "G7CqkJS1LjxV"
      }
    },
    {
      "cell_type": "code",
      "execution_count": 1,
      "metadata": {
        "colab": {
          "base_uri": "https://localhost:8080/",
          "height": 279
        },
        "id": "7nnUVi6IK7NF",
        "outputId": "bf5c49df-7076-4d3a-c34e-f59d4d5c627a"
      },
      "outputs": [
        {
          "output_type": "display_data",
          "data": {
            "text/plain": [
              "<Figure size 432x288 with 1 Axes>"
            ],
            "image/png": "[encoded data removed]"
          },
          "metadata": {
            "needs_background": "light"
          }
        }
      ],
      "source": [
        "# imports\n",
        "import numpy as np\n",
        "import matplotlib.pyplot as plt\n",
        "\n",
        "# generate random data-set\n",
        "np.random.seed(0)\n",
        "x = np.random.rand(100, 1)\n",
        "y = 2 + 3 * x + np.random.rand(100, 1)\n",
        "\n",
        "# plot\n",
        "plt.scatter(x,y,s=10)\n",
        "plt.xlabel('x')\n",
        "plt.ylabel('y')\n",
        "plt.show()"
      ]
    },
    {
      "cell_type": "markdown",
      "source": [
        "### These errors are also called as residuals. \n"
      ],
      "metadata": {
        "id": "DFiXm1joLO7d"
      }
    },
    {
      "cell_type": "markdown",
      "source": [
        "![1_6lzTBeDt_J39XPvhI4NAMg.png](data:image/png;base64,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)"
      ],
      "metadata": {
        "id": "LZIvrmKuLIui"
      }
    },
    {
      "cell_type": "code",
      "source": [
        "# imports\n",
        "import numpy as np\n",
        "\n",
        "\n",
        "class LinearRegressionUsingGD:\n",
        "    \"\"\"Linear Regression Using Gradient Descent.\n",
        "\n",
        "    Parameters\n",
        "    ----------\n",
        "    eta : float\n",
        "        Learning rate\n",
        "    n_iterations : int\n",
        "        No of passes over the training set\n",
        "\n",
        "    Attributes\n",
        "    ----------\n",
        "    w_ : weights/ after fitting the model\n",
        "    cost_ : total error of the model after each iteration\n",
        "\n",
        "    \"\"\"\n",
        "\n",
        "    def __init__(self, eta=0.05, n_iterations=1000):\n",
        "        self.eta = eta\n",
        "        self.n_iterations = n_iterations\n",
        "\n",
        "    def fit(self, x, y):\n",
        "        \"\"\"Fit the training data\n",
        "\n",
        "        Parameters\n",
        "        ----------\n",
        "        x : array-like, shape = [n_samples, n_features]\n",
        "            Training samples\n",
        "        y : array-like, shape = [n_samples, n_target_values]\n",
        "            Target values\n",
        "\n",
        "        Returns\n",
        "        -------\n",
        "        self : object\n",
        "\n",
        "        \"\"\"\n",
        "\n",
        "        self.cost_ = []\n",
        "        self.w_ = np.zeros((x.shape[1], 1))\n",
        "        m = x.shape[0]\n",
        "\n",
        "        for _ in range(self.n_iterations):\n",
        "            y_pred = np.dot(x, self.w_)\n",
        "            residuals = y_pred - y\n",
        "            gradient_vector = np.dot(x.T, residuals)\n",
        "            self.w_ -= (self.eta / m) * gradient_vector\n",
        "            cost = np.sum((residuals ** 2)) / (2 * m)\n",
        "            self.cost_.append(cost)\n",
        "        return self\n",
        "\n",
        "    def predict(self, x):\n",
        "        \"\"\" Predicts the value after the model has been trained.\n",
        "\n",
        "        Parameters\n",
        "        ----------\n",
        "        x : array-like, shape = [n_samples, n_features]\n",
        "            Test samples\n",
        "\n",
        "        Returns\n",
        "        -------\n",
        "        Predicted value\n",
        "\n",
        "        \"\"\"\n",
        "        return np.dot(x, self.w_)"
      ],
      "metadata": {
        "id": "qzm5pLloLSqM"
      },
      "execution_count": 2,
      "outputs": []
    },
    {
      "cell_type": "markdown",
      "source": [
        "### The coefficient is [2.89114079]\n",
        "### The intercept is [2.58109277]"
      ],
      "metadata": {
        "id": "FAupd67NLqJE"
      }
    },
    {
      "cell_type": "markdown",
      "source": [
        "![1_7XWNzoEn6fzwzzLmsYUWlQ.png](data:image/png;base64,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)"
      ],
      "metadata": {
        "id": "jXYJ2kJILvfV"
      }
    },
    {
      "cell_type": "markdown",
      "source": [
        "### Evaluating the performance of the model\n",
        "We will be using Root mean squared error(RMSE) and Coefficient of Determination(R² score) to evaluate our model.\n",
        "RMSE is the square root of the average of the sum of the squares of residuals."
      ],
      "metadata": {
        "id": "HMpFObdxL-4S"
      }
    },
    {
      "cell_type": "code",
      "source": [
        "# mean squared error\n",
        "mse = np.sum((y_pred - y_actual)**2)\n",
        "\n",
        "# root mean squared error\n",
        "# m is the number of training examples\n",
        "rmse = np.sqrt(mse/m)"
      ],
      "metadata": {
        "id": "FC1QQAaJLMxj"
      },
      "execution_count": null,
      "outputs": []
    },
    {
      "cell_type": "markdown",
      "source": [
        "### R² score or the coefficient of determination explains how much the total variance of the dependent variable can be reduced by using the least square regression."
      ],
      "metadata": {
        "id": "7CPTkiUQMO4M"
      }
    },
    {
      "cell_type": "code",
      "source": [
        "\n",
        "# sum of square of residuals\n",
        "ssr = np.sum((y_pred - y_actual)**2)\n",
        "\n",
        "#  total sum of squares\n",
        "sst = np.sum((y_actual - np.mean(y_actual))**2)\n",
        "\n",
        "# R2 score\n",
        "r2_score = 1 - (ssr/sst)"
      ],
      "metadata": {
        "id": "3OKNBPWEMS0F"
      },
      "execution_count": null,
      "outputs": []
    },
    {
      "cell_type": "markdown",
      "source": [
        "### Scikit-learn implementation"
      ],
      "metadata": {
        "id": "wMRM1FYOMXbz"
      }
    },
    {
      "cell_type": "code",
      "source": [
        "# imports\n",
        "import numpy as np\n",
        "import matplotlib.pyplot as plt\n",
        "from sklearn.linear_model import LinearRegression\n",
        "from sklearn.metrics import mean_squared_error, r2_score\n",
        "\n",
        "# generate random data-set\n",
        "np.random.seed(0)\n",
        "x = np.random.rand(100, 1)\n",
        "y = 2 + 3 * x + np.random.rand(100, 1)\n",
        "\n",
        "# sckit-learn implementation\n",
        "\n",
        "# Model initialization\n",
        "regression_model = LinearRegression()\n",
        "# Fit the data(train the model)\n",
        "regression_model.fit(x, y)\n",
        "# Predict\n",
        "y_predicted = regression_model.predict(x)\n",
        "\n",
        "# model evaluation\n",
        "rmse = mean_squared_error(y, y_predicted)\n",
        "r2 = r2_score(y, y_predicted)\n",
        "\n",
        "# printing values\n",
        "print('Slope:' ,regression_model.coef_)\n",
        "print('Intercept:', regression_model.intercept_)\n",
        "print('Root mean squared error: ', rmse)\n",
        "print('R2 score: ', r2)\n",
        "\n",
        "# plotting values\n",
        "\n",
        "# data points\n",
        "plt.scatter(x, y, s=10)\n",
        "plt.xlabel('x')\n",
        "plt.ylabel('y')\n",
        "\n",
        "# predicted values\n",
        "plt.plot(x, y_predicted, color='r')\n",
        "plt.show()"
      ],
      "metadata": {
        "colab": {
          "base_uri": "https://localhost:8080/",
          "height": 351
        },
        "id": "VmFuEFQ8MVr1",
        "outputId": "7f271f05-fd2a-4a51-e448-7e5497b2201a"
      },
      "execution_count": 4,
      "outputs": [
        {
          "output_type": "stream",
          "name": "stdout",
          "text": [
            "Slope: [[2.93655106]]\n",
            "Intercept: [2.55808002]\n",
            "Root mean squared error:  0.07623324582875007\n",
            "R2 score:  0.9038655568672764\n"
          ]
        },
        {
          "output_type": "display_data",
          "data": {
            "text/plain": [
              "<Figure size 432x288 with 1 Axes>"
            ],
            "image/png": "[encoded data removed]"
          },
          "metadata": {
            "needs_background": "light"
          }
        }
      ]
    }
  ]
}