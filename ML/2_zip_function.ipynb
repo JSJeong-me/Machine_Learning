{
  "nbformat": 4,
  "nbformat_minor": 0,
  "metadata": {
    "colab": {
      "name": "Untitled0.ipynb",
      "provenance": [],
      "authorship_tag": "ABX9TyMxqNbG8+zNQ0oGbH+IcwXd",
      "include_colab_link": true
    },
    "kernelspec": {
      "name": "python3",
      "display_name": "Python 3"
    },
    "language_info": {
      "name": "python"
    }
  },
  "cells": [
    {
      "cell_type": "markdown",
      "metadata": {
        "id": "view-in-github",
        "colab_type": "text"
      },
      "source": [
        "<a href=\"https://colab.research.google.com/github/JSJeong-me/Machine_Learning/blob/main/ML/2_zip_function.ipynb\" target=\"_parent\"><img src=\"https://colab.research.google.com/assets/colab-badge.svg\" alt=\"Open In Colab\"/></a>"
      ]
    },
    {
      "cell_type": "code",
      "execution_count": null,
      "metadata": {
        "id": "_6m2s4654eBO"
      },
      "outputs": [],
      "source": [
        "fruits = [\"apple\", \"banana\", \"melon\"]"
      ]
    },
    {
      "cell_type": "code",
      "source": [
        "type(fruits)"
      ],
      "metadata": {
        "id": "MRgGrwpq4sio"
      },
      "execution_count": null,
      "outputs": []
    },
    {
      "cell_type": "code",
      "source": [
        "fruits.append(\"cherry\")"
      ],
      "metadata": {
        "id": "ezyrAQIB4wq4"
      },
      "execution_count": null,
      "outputs": []
    },
    {
      "cell_type": "code",
      "source": [
        "fruits"
      ],
      "metadata": {
        "id": "YVg9ixQB40cI"
      },
      "execution_count": null,
      "outputs": []
    },
    {
      "cell_type": "code",
      "source": [
        "fruits[:3]"
      ],
      "metadata": {
        "id": "e0N8zhqb48uP"
      },
      "execution_count": null,
      "outputs": []
    },
    {
      "cell_type": "code",
      "source": [
        "for x in fruits:\n",
        "  print(x)"
      ],
      "metadata": {
        "id": "B9NkDRID5BNQ"
      },
      "execution_count": null,
      "outputs": []
    },
    {
      "cell_type": "code",
      "source": [
        "for i in range(len(fruits)):\n",
        "  print(i)"
      ],
      "metadata": {
        "id": "TIJZt98z5aoI"
      },
      "execution_count": null,
      "outputs": []
    },
    {
      "cell_type": "code",
      "source": [
        ""
      ],
      "metadata": {
        "id": "MBBILcki5o3X"
      },
      "execution_count": null,
      "outputs": []
    },
    {
      "cell_type": "code",
      "source": [
        "type(tuple_fruits)"
      ],
      "metadata": {
        "id": "bl8CcUDx6JHl"
      },
      "execution_count": null,
      "outputs": []
    },
    {
      "cell_type": "code",
      "source": [
        "tuple_fruits[0] = \"mango\""
      ],
      "metadata": {
        "id": "KI-gEEKU6MEH"
      },
      "execution_count": null,
      "outputs": []
    },
    {
      "cell_type": "code",
      "source": [
        "x1, x2, x3, x4 = tuple_fruits"
      ],
      "metadata": {
        "id": "joSggROm6Sjf"
      },
      "execution_count": null,
      "outputs": []
    },
    {
      "cell_type": "code",
      "source": [
        "x1"
      ],
      "metadata": {
        "id": "RGunZbuz6fyY"
      },
      "execution_count": null,
      "outputs": []
    },
    {
      "cell_type": "code",
      "source": [
        "x4"
      ],
      "metadata": {
        "id": "Y2xTIHsu6ieP"
      },
      "execution_count": null,
      "outputs": []
    },
    {
      "cell_type": "code",
      "source": [
        "tuple_animal = (\"dog\",)"
      ],
      "metadata": {
        "id": "b8SHunkm6lyn"
      },
      "execution_count": null,
      "outputs": []
    },
    {
      "cell_type": "code",
      "source": [
        "type(tuple_animal)"
      ],
      "metadata": {
        "id": "w1ak17Mb6yVI"
      },
      "execution_count": null,
      "outputs": []
    },
    {
      "cell_type": "code",
      "source": [
        "type(str_animal)"
      ],
      "metadata": {
        "id": "NF_lH3vX61Wv"
      },
      "execution_count": null,
      "outputs": []
    },
    {
      "cell_type": "code",
      "source": [
        "for x in tuple_fruits:\n",
        "  print(x)"
      ],
      "metadata": {
        "id": "afyhRoCN7V0h"
      },
      "execution_count": null,
      "outputs": []
    },
    {
      "cell_type": "code",
      "source": [
        "for i in range(len(tuple_fruits)):\n",
        "  print(i)"
      ],
      "metadata": {
        "id": "UKXCMSqD7hom"
      },
      "execution_count": null,
      "outputs": []
    },
    {
      "cell_type": "code",
      "source": [
        "y1, y2, y3, y4 = tuple_fruits"
      ],
      "metadata": {
        "id": "Z_q2xL2f7uU4"
      },
      "execution_count": null,
      "outputs": []
    },
    {
      "cell_type": "code",
      "source": [
        "y4"
      ],
      "metadata": {
        "id": "OpgzNEtt8Gcf"
      },
      "execution_count": null,
      "outputs": []
    },
    {
      "cell_type": "code",
      "source": [
        ""
      ],
      "metadata": {
        "id": "cAAy31DiByN1"
      },
      "execution_count": null,
      "outputs": []
    },
    {
      "cell_type": "code",
      "source": [
        ""
      ],
      "metadata": {
        "id": "MiYF7YpCByK_"
      },
      "execution_count": null,
      "outputs": []
    },
    {
      "cell_type": "code",
      "source": [
        ""
      ],
      "metadata": {
        "id": "B3Xk0CkeByHp"
      },
      "execution_count": null,
      "outputs": []
    },
    {
      "cell_type": "code",
      "source": [
        ""
      ],
      "metadata": {
        "id": "Ct__fPv_ByER"
      },
      "execution_count": null,
      "outputs": []
    },
    {
      "cell_type": "code",
      "source": [
        "tuple_fruits = ('apple', 'banana', 'melon', 'cherry')"
      ],
      "metadata": {
        "id": "LhdAy7GeBvNZ"
      },
      "execution_count": null,
      "outputs": []
    },
    {
      "cell_type": "code",
      "source": [
        "tuple_person = (\"tom\", \"merry\", \"john\", \"mike\", \"me\")"
      ],
      "metadata": {
        "id": "PvbxFPXm9ZIh"
      },
      "execution_count": null,
      "outputs": []
    },
    {
      "cell_type": "code",
      "source": [
        "x = zip(tuple_fruits, tuple_person)"
      ],
      "metadata": {
        "id": "tqQCNrb7BxxD"
      },
      "execution_count": null,
      "outputs": []
    },
    {
      "cell_type": "code",
      "source": [
        "tuple(x)"
      ],
      "metadata": {
        "id": "wzHwUEHkBxtO"
      },
      "execution_count": null,
      "outputs": []
    },
    {
      "cell_type": "code",
      "source": [
        ""
      ],
      "metadata": {
        "id": "qaF1VlHYBxqN"
      },
      "execution_count": null,
      "outputs": []
    },
    {
      "cell_type": "code",
      "source": [
        ""
      ],
      "metadata": {
        "id": "Cclf-rgqBxlK"
      },
      "execution_count": null,
      "outputs": []
    },
    {
      "cell_type": "code",
      "source": [
        ""
      ],
      "metadata": {
        "id": "TZOqmD9NBxT0"
      },
      "execution_count": null,
      "outputs": []
    },
    {
      "cell_type": "code",
      "source": [
        "x = zip(tuple_person, tuple_fruits)"
      ],
      "metadata": {
        "id": "wGpVq9gf9jn9"
      },
      "execution_count": null,
      "outputs": []
    },
    {
      "cell_type": "code",
      "source": [
        "tuple(x)"
      ],
      "metadata": {
        "id": "S0gNtj059squ"
      },
      "execution_count": null,
      "outputs": []
    },
    {
      "cell_type": "code",
      "source": [
        "num_1 = [1, 2, 3]\n",
        "num_2 = [10, 20, 30]"
      ],
      "metadata": {
        "id": "HjcUmdDx92k_"
      },
      "execution_count": null,
      "outputs": []
    },
    {
      "cell_type": "code",
      "source": [
        "y = zip(num_1, num_2)"
      ],
      "metadata": {
        "id": "eOkp17XI-ctH"
      },
      "execution_count": null,
      "outputs": []
    },
    {
      "cell_type": "code",
      "source": [
        "new_num = list(y)"
      ],
      "metadata": {
        "id": "D3rjAfTF-iGO"
      },
      "execution_count": null,
      "outputs": []
    },
    {
      "cell_type": "code",
      "source": [
        "new_num[2]"
      ],
      "metadata": {
        "id": "9lf7jy-1BPee"
      },
      "execution_count": null,
      "outputs": []
    },
    {
      "cell_type": "code",
      "source": [
        ""
      ],
      "metadata": {
        "id": "HEqduasvBewf"
      },
      "execution_count": null,
      "outputs": []
    }
  ]
}