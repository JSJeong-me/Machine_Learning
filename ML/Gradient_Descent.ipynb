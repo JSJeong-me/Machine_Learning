{
  "nbformat": 4,
  "nbformat_minor": 0,
  "metadata": {
    "colab": {
      "name": "Untitled4.ipynb",
      "provenance": [],
      "authorship_tag": "ABX9TyMmbL7uZp5/Fd0++IGYLaFa",
      "include_colab_link": true
    },
    "kernelspec": {
      "name": "python3",
      "display_name": "Python 3"
    },
    "language_info": {
      "name": "python"
    }
  },
  "cells": [
    {
      "cell_type": "markdown",
      "metadata": {
        "id": "view-in-github",
        "colab_type": "text"
      },
      "source": [
        "<a href=\"https://colab.research.google.com/github/JSJeong-me/Machine_Learning/blob/main/ML/Gradient_Descent.ipynb\" target=\"_parent\"><img src=\"https://colab.research.google.com/assets/colab-badge.svg\" alt=\"Open In Colab\"/></a>"
      ]
    },
    {
      "cell_type": "code",
      "execution_count": 2,
      "metadata": {
        "colab": {
          "base_uri": "https://localhost:8080/",
          "height": 265
        },
        "id": "zg8kJY19Xi7A",
        "outputId": "ba561328-dda0-4b9c-e5d1-be8750cfcd7c"
      },
      "outputs": [
        {
          "output_type": "display_data",
          "data": {
            "text/plain": [
              "<Figure size 432x288 with 1 Axes>"
            ],
            "image/png": "[encoded data removed]"
          },
          "metadata": {
            "needs_background": "light"
          }
        }
      ],
      "source": [
        "from numpy import arange\n",
        "from matplotlib import pyplot\n",
        "\n",
        "# objective function\n",
        "def objective(x):\n",
        "  return x**2.0\n",
        "\n",
        "# define range for input\n",
        "r_min, r_max = -1.0, 1.0\n",
        "# sample input range uniformly at 0.1 increments\n",
        "inputs = arange(r_min, r_max+0.1, 0.1)\n",
        "# compute targets\n",
        "results = objective(inputs)\n",
        "# create a line plot of input vs result\n",
        "pyplot.plot(inputs, results)\n",
        "# show the plot\n",
        "pyplot.show()\n"
      ]
    },
    {
      "cell_type": "code",
      "source": [
        "from numpy import asarray\n",
        "from numpy.random import rand"
      ],
      "metadata": {
        "id": "VE4DLXxDYSH7"
      },
      "execution_count": 5,
      "outputs": []
    },
    {
      "cell_type": "code",
      "source": [
        "# derivative of objective function\n",
        "def derivative(x):\n",
        "  return x * 2.0\n",
        "\n",
        "# gradient descent algorithm\n",
        "def gradient_descent(objective, derivative, bounds, n_iter, step_size):\n",
        "  # generate an initial point\n",
        "  solution = bounds[:, 0] + rand(len(bounds)) * (bounds[:, 1] - bounds[:, 0])\n",
        "  # run the gradient descent\n",
        "  for i in range(n_iter):\n",
        "    # calculate gradient\n",
        "    gradient = derivative(solution)\n",
        "    # take a step\n",
        "    solution = solution - step_size * gradient\n",
        "    # evaluate candidate point\n",
        "    solution_eval = objective(solution)\n",
        "    # report progress\n",
        "    print('>%d f(%s) = %.5f' % (i, solution, solution_eval))\n",
        "  return [solution, solution_eval]\n",
        "\n",
        "# define range for input\n",
        "bounds = asarray([[-1.0, 1.0]])\n",
        "# define the total iterations\n",
        "n_iter = 30\n",
        "# define the step size\n",
        "step_size = 0.1\n",
        "# perform the gradient descent search\n",
        "best, score = gradient_descent(objective, derivative, bounds, n_iter, step_size)\n",
        "print('Done!')\n",
        "print('f(%s) = %f' % (best, score)) "
      ],
      "metadata": {
        "colab": {
          "base_uri": "https://localhost:8080/"
        },
        "id": "N3ly1jNNXsEe",
        "outputId": "f526388b-b77f-40aa-ca45-a55064ea2fd9"
      },
      "execution_count": 6,
      "outputs": [
        {
          "output_type": "stream",
          "name": "stdout",
          "text": [
            ">0 f([-0.18372906]) = 0.03376\n",
            ">1 f([-0.14698324]) = 0.02160\n",
            ">2 f([-0.1175866]) = 0.01383\n",
            ">3 f([-0.09406928]) = 0.00885\n",
            ">4 f([-0.07525542]) = 0.00566\n",
            ">5 f([-0.06020434]) = 0.00362\n",
            ">6 f([-0.04816347]) = 0.00232\n",
            ">7 f([-0.03853078]) = 0.00148\n",
            ">8 f([-0.03082462]) = 0.00095\n",
            ">9 f([-0.0246597]) = 0.00061\n",
            ">10 f([-0.01972776]) = 0.00039\n",
            ">11 f([-0.01578221]) = 0.00025\n",
            ">12 f([-0.01262576]) = 0.00016\n",
            ">13 f([-0.01010061]) = 0.00010\n",
            ">14 f([-0.00808049]) = 0.00007\n",
            ">15 f([-0.00646439]) = 0.00004\n",
            ">16 f([-0.00517151]) = 0.00003\n",
            ">17 f([-0.00413721]) = 0.00002\n",
            ">18 f([-0.00330977]) = 0.00001\n",
            ">19 f([-0.00264781]) = 0.00001\n",
            ">20 f([-0.00211825]) = 0.00000\n",
            ">21 f([-0.0016946]) = 0.00000\n",
            ">22 f([-0.00135568]) = 0.00000\n",
            ">23 f([-0.00108454]) = 0.00000\n",
            ">24 f([-0.00086764]) = 0.00000\n",
            ">25 f([-0.00069411]) = 0.00000\n",
            ">26 f([-0.00055529]) = 0.00000\n",
            ">27 f([-0.00044423]) = 0.00000\n",
            ">28 f([-0.00035538]) = 0.00000\n",
            ">29 f([-0.00028431]) = 0.00000\n",
            "Done!\n",
            "f([-0.00028431]) = 0.000000\n"
          ]
        }
      ]
    },
    {
      "cell_type": "code",
      "source": [
        ""
      ],
      "metadata": {
        "id": "wLSXEvdAYadO"
      },
      "execution_count": null,
      "outputs": []
    },
    {
      "cell_type": "code",
      "source": [
        "from numpy import asarray\n",
        "from numpy import arange\n",
        "from numpy.random import rand\n",
        "from matplotlib import pyplot\n",
        "\n",
        "# objective function\n",
        "def objective(x):\n",
        "  return x**2.0\n",
        "\n",
        "# derivative of objective function\n",
        "def derivative(x):\n",
        "  return x * 2.0\n",
        "\n",
        "# gradient descent algorithm\n",
        "def gradient_descent(objective, derivative, bounds, n_iter, step_size):\n",
        "  # track all solutions\n",
        "  solutions, scores = list(), list()\n",
        "  # generate an initial point\n",
        "  solution = bounds[:, 0] + rand(len(bounds)) * (bounds[:, 1] - bounds[:, 0])\n",
        "  # run the gradient descent\n",
        "  for i in range(n_iter):\n",
        "    # calculate gradient\n",
        "    gradient = derivative(solution)\n",
        "    # take a step\n",
        "    solution = solution - step_size * gradient\n",
        "    # evaluate candidate point\n",
        "    solution_eval = objective(solution)\n",
        "    # store solution\n",
        "    solutions.append(solution)\n",
        "    scores.append(solution_eval)\n",
        "    # report progress\n",
        "    print('>%d f(%s) = %.5f' % (i, solution, solution_eval))\n",
        "  return [solutions, scores]\n",
        "\n",
        "# define range for input\n",
        "bounds = asarray([[-1.0, 1.0]])\n",
        "# define the total iterations\n",
        "n_iter = 30\n",
        "# define the step size\n",
        "step_size = 0.1\n",
        "# perform the gradient descent search\n",
        "solutions, scores = gradient_descent(objective, derivative, bounds, n_iter,step_size)\n",
        "\n",
        "# sample input range uniformly at 0.1 increments\n",
        "inputs = arange(bounds[0,0], bounds[0,1]+0.1, 0.1)\n",
        "# compute targets\n",
        "results = objective(inputs)\n",
        "# create a line plot of input vs result\n",
        "pyplot.plot(inputs, results)\n",
        "# plot the solutions found\n",
        "pyplot.plot(solutions, scores, '.-', color='red')\n",
        "# show the plot\n",
        "pyplot.show()\n",
        "\n"
      ],
      "metadata": {
        "colab": {
          "base_uri": "https://localhost:8080/",
          "height": 817
        },
        "id": "iwdjEdFzYaPO",
        "outputId": "97f0a40f-8c28-430c-9209-abe096c40582"
      },
      "execution_count": 8,
      "outputs": [
        {
          "output_type": "stream",
          "name": "stdout",
          "text": [
            ">0 f([0.19544756]) = 0.03820\n",
            ">1 f([0.15635805]) = 0.02445\n",
            ">2 f([0.12508644]) = 0.01565\n",
            ">3 f([0.10006915]) = 0.01001\n",
            ">4 f([0.08005532]) = 0.00641\n",
            ">5 f([0.06404426]) = 0.00410\n",
            ">6 f([0.05123541]) = 0.00263\n",
            ">7 f([0.04098832]) = 0.00168\n",
            ">8 f([0.03279066]) = 0.00108\n",
            ">9 f([0.02623253]) = 0.00069\n",
            ">10 f([0.02098602]) = 0.00044\n",
            ">11 f([0.01678882]) = 0.00028\n",
            ">12 f([0.01343105]) = 0.00018\n",
            ">13 f([0.01074484]) = 0.00012\n",
            ">14 f([0.00859587]) = 0.00007\n",
            ">15 f([0.0068767]) = 0.00005\n",
            ">16 f([0.00550136]) = 0.00003\n",
            ">17 f([0.00440109]) = 0.00002\n",
            ">18 f([0.00352087]) = 0.00001\n",
            ">19 f([0.0028167]) = 0.00001\n",
            ">20 f([0.00225336]) = 0.00001\n",
            ">21 f([0.00180269]) = 0.00000\n",
            ">22 f([0.00144215]) = 0.00000\n",
            ">23 f([0.00115372]) = 0.00000\n",
            ">24 f([0.00092298]) = 0.00000\n",
            ">25 f([0.00073838]) = 0.00000\n",
            ">26 f([0.0005907]) = 0.00000\n",
            ">27 f([0.00047256]) = 0.00000\n",
            ">28 f([0.00037805]) = 0.00000\n",
            ">29 f([0.00030244]) = 0.00000\n"
          ]
        },
        {
          "output_type": "display_data",
          "data": {
            "text/plain": [
              "<Figure size 432x288 with 1 Axes>"
            ],
            "image/png": "[encoded data removed]"
          },
          "metadata": {
            "needs_background": "light"
          }
        }
      ]
    }
  ]
}