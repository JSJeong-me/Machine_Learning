{
  "nbformat": 4,
  "nbformat_minor": 0,
  "metadata": {
    "colab": {
      "name": "Untitled7.ipynb",
      "provenance": [],
      "authorship_tag": "ABX9TyMBx6POaZgjspnhvW4U7EYZ",
      "include_colab_link": true
    },
    "kernelspec": {
      "name": "python3",
      "display_name": "Python 3"
    },
    "language_info": {
      "name": "python"
    }
  },
  "cells": [
    {
      "cell_type": "markdown",
      "metadata": {
        "id": "view-in-github",
        "colab_type": "text"
      },
      "source": [
        "<a href=\"https://colab.research.google.com/github/JSJeong-me/Machine_Learning/blob/main/ML/5_keras-model-uni.ipynb\" target=\"_parent\"><img src=\"https://colab.research.google.com/assets/colab-badge.svg\" alt=\"Open In Colab\"/></a>"
      ]
    },
    {
      "cell_type": "code",
      "source": [
        "from tensorflow import keras\n",
        "from tensorflow.keras import layers"
      ],
      "metadata": {
        "id": "fZHfzppHb6we"
      },
      "execution_count": 1,
      "outputs": []
    },
    {
      "cell_type": "code",
      "source": [
        "keras_layer = [\n",
        "    layers.Dense(units=150, input_shape=[3]),\n",
        "    layers.Dense(units=300, activation='relu'),\n",
        "    layers.Dense(units=350, activation='relu'),\n",
        "    layers.Dense(units=500, activation='relu'),\n",
        "    layers.Dense(units=200, activation='relu'),\n",
        "    layers.Dense(units=50, activation='relu'),\n",
        "    layers.Dense(units=1, activation='sigmoid')\n",
        "]"
      ],
      "metadata": {
        "id": "MStiDnpqbN2o"
      },
      "execution_count": 2,
      "outputs": []
    },
    {
      "cell_type": "code",
      "execution_count": 3,
      "metadata": {
        "id": "UxCRcOYnb0hQ"
      },
      "outputs": [],
      "source": [
        "# Create a network with 1 linear unit\n",
        "model = keras.Sequential(keras_layer)"
      ]
    },
    {
      "cell_type": "code",
      "source": [
        "model.summary()"
      ],
      "metadata": {
        "id": "PxfuQN4cb-S7",
        "outputId": "5bef7426-6af0-424b-90be-4693c1100ef8",
        "colab": {
          "base_uri": "https://localhost:8080/"
        }
      },
      "execution_count": 4,
      "outputs": [
        {
          "output_type": "stream",
          "name": "stdout",
          "text": [
            "Model: \"sequential\"\n",
            "_________________________________________________________________\n",
            " Layer (type)                Output Shape              Param #   \n",
            "=================================================================\n",
            " dense (Dense)               (None, 150)               600       \n",
            "                                                                 \n",
            " dense_1 (Dense)             (None, 300)               45300     \n",
            "                                                                 \n",
            " dense_2 (Dense)             (None, 350)               105350    \n",
            "                                                                 \n",
            " dense_3 (Dense)             (None, 500)               175500    \n",
            "                                                                 \n",
            " dense_4 (Dense)             (None, 200)               100200    \n",
            "                                                                 \n",
            " dense_5 (Dense)             (None, 50)                10050     \n",
            "                                                                 \n",
            " dense_6 (Dense)             (None, 1)                 51        \n",
            "                                                                 \n",
            "=================================================================\n",
            "Total params: 437,051\n",
            "Trainable params: 437,051\n",
            "Non-trainable params: 0\n",
            "_________________________________________________________________\n"
          ]
        }
      ]
    },
    {
      "cell_type": "code",
      "source": [
        ""
      ],
      "metadata": {
        "id": "E4LdCDiucBZ2"
      },
      "execution_count": 4,
      "outputs": []
    }
  ]
}