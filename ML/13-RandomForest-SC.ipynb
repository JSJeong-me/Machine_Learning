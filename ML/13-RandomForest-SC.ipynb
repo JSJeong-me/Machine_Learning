{
  "cells": [
    {
      "cell_type": "markdown",
      "metadata": {
        "id": "view-in-github",
        "colab_type": "text"
      },
      "source": [
        "<a href=\"https://colab.research.google.com/github/JSJeong-me/Machine_Learning/blob/main/ML/13-RandomForest-SC.ipynb\" target=\"_parent\"><img src=\"https://colab.research.google.com/assets/colab-badge.svg\" alt=\"Open In Colab\"/></a>"
      ]
    },
    {
      "cell_type": "code",
      "source": [
        "#!pip install -U pandas-profiling"
      ],
      "metadata": {
        "id": "M2FXUNW0oRtV"
      },
      "execution_count": 1,
      "outputs": []
    },
    {
      "cell_type": "code",
      "execution_count": 2,
      "metadata": {
        "id": "l4K4GyEunqsF"
      },
      "outputs": [],
      "source": [
        "from sklearn.ensemble import RandomForestClassifier"
      ]
    },
    {
      "cell_type": "code",
      "execution_count": 3,
      "metadata": {
        "id": "5dLImKxXnqsJ"
      },
      "outputs": [],
      "source": [
        "from sklearn.model_selection import train_test_split"
      ]
    },
    {
      "cell_type": "code",
      "execution_count": 4,
      "metadata": {
        "id": "7lGIAbd4nqsJ"
      },
      "outputs": [],
      "source": [
        "import pandas as pd\n",
        "import numpy as np\n",
        "import pandas_profiling"
      ]
    },
    {
      "cell_type": "code",
      "execution_count": 5,
      "metadata": {
        "id": "wUQXB8ElnqsK"
      },
      "outputs": [],
      "source": [
        "%matplotlib inline"
      ]
    },
    {
      "cell_type": "code",
      "execution_count": 6,
      "metadata": {
        "scrolled": true,
        "id": "4-gBbOSTnqsL"
      },
      "outputs": [],
      "source": [
        "df = pd.read_csv(\"./credit_cards_dataset.csv\")"
      ]
    },
    {
      "cell_type": "code",
      "execution_count": 7,
      "metadata": {
        "id": "9Ab6xjChnqsO"
      },
      "outputs": [],
      "source": [
        "# df.profile_report()"
      ]
    },
    {
      "cell_type": "code",
      "execution_count": 8,
      "metadata": {
        "id": "L1-PPu2knqsO"
      },
      "outputs": [],
      "source": [
        "#print(\"Original shape of the data: \"+ str(df.shape))\n",
        "features_names = df.columns"
      ]
    },
    {
      "cell_type": "code",
      "execution_count": 9,
      "metadata": {
        "id": "Q8dSAhjCnqsO"
      },
      "outputs": [],
      "source": [
        "#df.describe()"
      ]
    },
    {
      "cell_type": "code",
      "source": [
        ""
      ],
      "metadata": {
        "id": "XS9rH0IKV4WT"
      },
      "execution_count": 9,
      "outputs": []
    },
    {
      "cell_type": "code",
      "source": [
        "X = df.drop(['default.payment.next.month','ID'], axis =1).values\n",
        "y = df['default.payment.next.month'].values\n",
        "print(X.shape)\n",
        "print(y.shape)"
      ],
      "metadata": {
        "id": "ksmOKXzwUt9M",
        "outputId": "c96ded54-fdcc-42dc-b9d3-3c6ae0588a6d",
        "colab": {
          "base_uri": "https://localhost:8080/"
        }
      },
      "execution_count": 10,
      "outputs": [
        {
          "output_type": "stream",
          "name": "stdout",
          "text": [
            "(30000, 23)\n",
            "(30000,)\n"
          ]
        }
      ]
    },
    {
      "cell_type": "markdown",
      "metadata": {
        "id": "gKHWf0h1nqsP"
      },
      "source": [
        "Split my data into training and testing"
      ]
    },
    {
      "cell_type": "code",
      "execution_count": 11,
      "metadata": {
        "id": "oP6sqee4nqsQ"
      },
      "outputs": [],
      "source": [
        "X_train, X_test, y_train, y_test = train_test_split(X, y, train_size=0.7, random_state=42, shuffle=True)"
      ]
    },
    {
      "cell_type": "markdown",
      "source": [
        "# Standard Scaler"
      ],
      "metadata": {
        "id": "ZqeYRocPV_jr"
      }
    },
    {
      "cell_type": "code",
      "source": [
        "from sklearn.preprocessing import StandardScaler"
      ],
      "metadata": {
        "id": "eAanx0XBWJVd"
      },
      "execution_count": 12,
      "outputs": []
    },
    {
      "cell_type": "code",
      "source": [
        "sc = StandardScaler()\n",
        "X_train = sc.fit_transform(X_train)\n",
        "X_test = sc.transform(X_test)"
      ],
      "metadata": {
        "id": "9t0hIhgiV-Hq"
      },
      "execution_count": 13,
      "outputs": []
    },
    {
      "cell_type": "markdown",
      "source": [
        "PCA\n"
      ],
      "metadata": {
        "id": "REsdp-_SWqvE"
      }
    },
    {
      "cell_type": "code",
      "source": [
        "from sklearn.decomposition import PCA"
      ],
      "metadata": {
        "id": "XzRpb8BjWo9L"
      },
      "execution_count": 14,
      "outputs": []
    },
    {
      "cell_type": "code",
      "source": [
        "# # define the transform\n",
        "# trans = PCA(n_components=15)\n",
        "\n",
        "# # transform the data\n",
        "# X_dim_train = trans.fit_transform(X_train)\n",
        "# X_dim_test = trans.fit_transform(X_test)"
      ],
      "metadata": {
        "id": "AgSnr_zOWdLj"
      },
      "execution_count": 15,
      "outputs": []
    },
    {
      "cell_type": "code",
      "source": [
        ""
      ],
      "metadata": {
        "id": "CMujNWd5W00S"
      },
      "execution_count": 15,
      "outputs": []
    },
    {
      "cell_type": "markdown",
      "metadata": {
        "id": "iZXUXJ0EnqsQ"
      },
      "source": [
        "Instantiate the random forest model with 200 trees"
      ]
    },
    {
      "cell_type": "code",
      "execution_count": 16,
      "metadata": {
        "id": "I9J6JPoznqsQ"
      },
      "outputs": [],
      "source": [
        "rf = RandomForestClassifier(n_estimators=200, criterion='entropy', max_features='log2', max_depth=15)"
      ]
    },
    {
      "cell_type": "code",
      "execution_count": 17,
      "metadata": {
        "id": "HrM3FIvLnqsR",
        "colab": {
          "base_uri": "https://localhost:8080/"
        },
        "outputId": "d8807b44-b08f-46a3-a4de-4e4add1ba6ec"
      },
      "outputs": [
        {
          "output_type": "execute_result",
          "data": {
            "text/plain": [
              "RandomForestClassifier(criterion='entropy', max_depth=15, max_features='log2',\n",
              "                       n_estimators=200)"
            ]
          },
          "metadata": {},
          "execution_count": 17
        }
      ],
      "source": [
        "rf.fit(X_train, y_train)"
      ]
    },
    {
      "cell_type": "code",
      "execution_count": 18,
      "metadata": {
        "id": "8tZq3jOlnqsR"
      },
      "outputs": [],
      "source": [
        "y_predict = rf.predict(X_test)"
      ]
    },
    {
      "cell_type": "markdown",
      "metadata": {
        "id": "UGMj3rQbnqsR"
      },
      "source": [
        "Check feature importance\n"
      ]
    },
    {
      "cell_type": "code",
      "execution_count": 19,
      "metadata": {
        "id": "PKDJb_XEnqsR",
        "colab": {
          "base_uri": "https://localhost:8080/"
        },
        "outputId": "3cd09e3f-d070-459c-b045-847a61f7b9dd"
      },
      "outputs": [
        {
          "output_type": "execute_result",
          "data": {
            "text/plain": [
              "[(0.13869364920234653, 'AGE'),\n",
              " (0.056335291124952044, 'PAY_0'),\n",
              " (0.05548602216172569, 'PAY_6'),\n",
              " (0.052224565914610166, 'BILL_AMT6'),\n",
              " (0.05087043572544543, 'ID'),\n",
              " (0.049593483314674586, 'BILL_AMT1'),\n",
              " (0.04666382800327655, 'BILL_AMT2'),\n",
              " (0.0460770710828468, 'BILL_AMT5'),\n",
              " (0.045794470831870875, 'MARRIAGE'),\n",
              " (0.04547781878216451, 'PAY_AMT1'),\n",
              " (0.0453051292732288, 'BILL_AMT4'),\n",
              " (0.045013629089619325, 'PAY_AMT2'),\n",
              " (0.04496221892697716, 'BILL_AMT3'),\n",
              " (0.04200506579964618, 'PAY_AMT3'),\n",
              " (0.041684367099683144, 'PAY_AMT5'),\n",
              " (0.04078644389697464, 'PAY_AMT4'),\n",
              " (0.04060819432733668, 'PAY_2'),\n",
              " (0.03073190364661912, 'PAY_3'),\n",
              " (0.024665324737290086, 'PAY_5'),\n",
              " (0.022670900844508277, 'PAY_4'),\n",
              " (0.016272231837473464, 'SEX'),\n",
              " (0.009669463535830595, 'EDUCATION'),\n",
              " (0.008408490840899391, 'LIMIT_BAL')]"
            ]
          },
          "metadata": {},
          "execution_count": 19
        }
      ],
      "source": [
        "sorted(zip(rf.feature_importances_, features_names), reverse=True)"
      ]
    },
    {
      "cell_type": "code",
      "execution_count": 20,
      "metadata": {
        "id": "QwwgspM0nqsR",
        "colab": {
          "base_uri": "https://localhost:8080/",
          "height": 462
        },
        "outputId": "1d83850c-407d-425a-896e-1068fe51356c"
      },
      "outputs": [
        {
          "output_type": "display_data",
          "data": {
            "text/plain": [
              "<Figure size 864x432 with 1 Axes>"
            ],
            "image/png": "[encoded data removed]"
          },
          "metadata": {
            "needs_background": "light"
          }
        }
      ],
      "source": [
        "## plot the importances ##\n",
        "import matplotlib.pyplot as plt\n",
        "importances = rf.feature_importances_\n",
        "\n",
        "\n",
        "indices = np.argsort(importances)[::-1]\n",
        "plt.figure(figsize=(12,6))\n",
        "plt.title(\"Feature importances by DecisionTreeClassifier\")\n",
        "plt.bar(range(len(indices)), importances[indices], color='lightblue',  align=\"center\")\n",
        "plt.step(range(len(indices)), np.cumsum(importances[indices]), where='mid', label='Cumulative')\n",
        "plt.xticks(range(len(indices)), features_names[indices], rotation='vertical',fontsize=14)\n",
        "plt.xlim([-1, len(indices)])\n",
        "plt.show()"
      ]
    },
    {
      "cell_type": "markdown",
      "metadata": {
        "id": "TTN5J36qnqsS"
      },
      "source": [
        "# Making my prediction and seeing how well my model predicted by checking recall, precision, F1 score and making a confusion matrix.\n",
        "\n",
        "Recall -tells us generally or overall how well our model predicted based on \n",
        "        the total of how much it correctly predicted /correctly predicted +                           how many where actually right but predicted wrong.\n",
        "                        \n",
        "                        formula = TP/TP+FN\n",
        "                        \n",
        "Precision -tells us or gives us true measure how well our model predicted it                              shows correctly predicted /correctly predicted + how many the model                            predicted to be positive but where false.\n",
        "\n",
        "                       formula = TP/TP+FP\n",
        "                       \n",
        "F1 score - gives us a mean of precision and recall, a sumarization of how well it                        did in respect to recall and precision.\n"
      ]
    },
    {
      "cell_type": "code",
      "execution_count": 21,
      "metadata": {
        "id": "iXb_-ki9nqsS"
      },
      "outputs": [],
      "source": [
        "from sklearn.metrics import precision_recall_fscore_support\n",
        "from sklearn.metrics import recall_score\n",
        "from sklearn.metrics import classification_report\n",
        "from sklearn.model_selection import GridSearchCV"
      ]
    },
    {
      "cell_type": "code",
      "execution_count": 23,
      "metadata": {
        "id": "aQdSKjUFnqsS",
        "colab": {
          "base_uri": "https://localhost:8080/"
        },
        "outputId": "7cfa3439-d1b9-4be0-bc0d-1d0845582a6b"
      },
      "outputs": [
        {
          "output_type": "execute_result",
          "data": {
            "text/plain": [
              "(9000, 23)"
            ]
          },
          "metadata": {},
          "execution_count": 23
        }
      ],
      "source": [
        "X_test.shape"
      ]
    },
    {
      "cell_type": "code",
      "execution_count": 24,
      "metadata": {
        "id": "8QAxtfdknqsS"
      },
      "outputs": [],
      "source": [
        "#Make my predictions\n",
        "y_prediction = rf.predict(X_test)"
      ]
    },
    {
      "cell_type": "code",
      "execution_count": 25,
      "metadata": {
        "id": "B4k2IDRynqsS"
      },
      "outputs": [],
      "source": [
        "y_probability = rf.predict_proba(X_test)"
      ]
    },
    {
      "cell_type": "code",
      "execution_count": 26,
      "metadata": {
        "id": "46nJvI_7nqsT",
        "colab": {
          "base_uri": "https://localhost:8080/"
        },
        "outputId": "835584f4-139c-445f-a1ff-25dbbbdcc606"
      },
      "outputs": [
        {
          "output_type": "execute_result",
          "data": {
            "text/plain": [
              "(9000, 2)"
            ]
          },
          "metadata": {},
          "execution_count": 26
        }
      ],
      "source": [
        "y_probability.shape"
      ]
    },
    {
      "cell_type": "code",
      "source": [
        ""
      ],
      "metadata": {
        "id": "2qC-BbD4rLbJ"
      },
      "execution_count": 26,
      "outputs": []
    },
    {
      "cell_type": "code",
      "execution_count": 27,
      "metadata": {
        "id": "D99WK0WAnqsT",
        "colab": {
          "base_uri": "https://localhost:8080/"
        },
        "outputId": "45ffb562-c0de-49b4-f24e-ab129606b0bd"
      },
      "outputs": [
        {
          "output_type": "stream",
          "name": "stdout",
          "text": [
            "Recall score:0.36020408163265305\n"
          ]
        }
      ],
      "source": [
        "print(\"Recall score:\"+ str(recall_score(y_test, y_prediction)))"
      ]
    },
    {
      "cell_type": "code",
      "execution_count": 28,
      "metadata": {
        "id": "pxejJ6q7nqsT",
        "colab": {
          "base_uri": "https://localhost:8080/"
        },
        "outputId": "540898c1-888f-47c6-fbb1-c0b0a6d64750"
      },
      "outputs": [
        {
          "output_type": "execute_result",
          "data": {
            "text/plain": [
              "array([[0],\n",
              "       [0],\n",
              "       [0],\n",
              "       ...,\n",
              "       [0],\n",
              "       [0],\n",
              "       [0]])"
            ]
          },
          "metadata": {},
          "execution_count": 28
        }
      ],
      "source": [
        "y_prediction.reshape(-1,1)"
      ]
    },
    {
      "cell_type": "code",
      "execution_count": 29,
      "metadata": {
        "id": "VL5N5MPHnqsT",
        "colab": {
          "base_uri": "https://localhost:8080/"
        },
        "outputId": "b42603c4-6bd7-46de-f33a-01f32bbdc962"
      },
      "outputs": [
        {
          "output_type": "stream",
          "name": "stdout",
          "text": [
            "              precision    recall  f1-score   support\n",
            "\n",
            " non_default       0.84      0.95      0.89      7040\n",
            "     default       0.66      0.36      0.47      1960\n",
            "\n",
            "    accuracy                           0.82      9000\n",
            "   macro avg       0.75      0.65      0.68      9000\n",
            "weighted avg       0.80      0.82      0.80      9000\n",
            "\n"
          ]
        }
      ],
      "source": [
        "# This shows overall acuracy of how well it will predict defualt or non_default\n",
        "# The scores corresponding to every class will tell you the accuracy of the classifier \n",
        "# in classifying the data points in that particular class compared to all other classes.\n",
        "# The support is the number of samples of the true response that lie in that class.\n",
        "\n",
        "print(classification_report(y_test, y_prediction,\n",
        "                            target_names=[\"non_default\", \"default\"]))"
      ]
    },
    {
      "cell_type": "code",
      "execution_count": 30,
      "metadata": {
        "id": "537EH3GhnqsU"
      },
      "outputs": [],
      "source": [
        "# Creating confusion matrix would give us a ration of non-default compared \n",
        "# to default."
      ]
    },
    {
      "cell_type": "code",
      "execution_count": 31,
      "metadata": {
        "id": "Q2-VR8DXnqsU"
      },
      "outputs": [],
      "source": [
        "from sklearn.metrics import confusion_matrix\n",
        "import itertools\n",
        "import matplotlib\n",
        "import numpy as np\n",
        "import matplotlib.pyplot as plt\n",
        "%matplotlib inline  \n",
        "import numpy as np"
      ]
    },
    {
      "cell_type": "code",
      "execution_count": 32,
      "metadata": {
        "id": "aIlADg9wnqsU"
      },
      "outputs": [],
      "source": [
        "def plot_confusion_matrix(cm, classes,\n",
        "                          normalize=False,\n",
        "                          title='Confusion matrix',\n",
        "                          cmap=plt.cm.Blues):\n",
        "    if normalize:\n",
        "        cm = cm.astype('float') / cm.sum(axis=1)[:, np.newaxis]\n",
        "        print(\"Normalized confusion matrix\")\n",
        "    else:\n",
        "        print('Confusion matrix, without normalization')\n",
        "\n",
        "    print(cm)\n",
        "    \n",
        "    plt.imshow(cm, interpolation='nearest', cmap=cmap)\n",
        "    plt.title(title)\n",
        "    plt.colorbar()\n",
        "    tick_marks = np.arange(len(classes))\n",
        "    plt.xticks(tick_marks, classes, rotation=45)\n",
        "    plt.yticks(tick_marks, classes)\n",
        "\n",
        "    fmt = '.2f' if normalize else 'd'\n",
        "    thresh = cm.max() / 2.\n",
        "    for i, j in itertools.product(range(cm.shape[0]), range(cm.shape[1])):\n",
        "        plt.text(j, i, format(cm[i, j], fmt),\n",
        "                 horizontalalignment=\"center\",\n",
        "                 color=\"white\" if cm[i, j] > thresh else \"black\")"
      ]
    },
    {
      "cell_type": "code",
      "execution_count": 33,
      "metadata": {
        "scrolled": true,
        "id": "XP9RmawjnqsU",
        "colab": {
          "base_uri": "https://localhost:8080/",
          "height": 378
        },
        "outputId": "e3ece6d9-bd41-43c5-b6ba-5bd0bf79f50d"
      },
      "outputs": [
        {
          "output_type": "stream",
          "name": "stdout",
          "text": [
            "Confusion matrix, without normalization\n",
            "[[6671  369]\n",
            " [1254  706]]\n"
          ]
        },
        {
          "output_type": "display_data",
          "data": {
            "text/plain": [
              "<Figure size 432x288 with 2 Axes>"
            ],
            "image/png": "[encoded data removed]"
          },
          "metadata": {
            "needs_background": "light"
          }
        }
      ],
      "source": [
        "cnf_matrix = confusion_matrix(y_test, y_prediction)\n",
        "plt.figure()\n",
        "plot_confusion_matrix(cnf_matrix, classes=['Non_Default','Default'], normalize=False,\n",
        "                      title='Non Normalized confusion matrix')"
      ]
    }
  ],
  "metadata": {
    "kernelspec": {
      "display_name": "Python 3",
      "language": "python",
      "name": "python3"
    },
    "language_info": {
      "codemirror_mode": {
        "name": "ipython",
        "version": 3
      },
      "file_extension": ".py",
      "mimetype": "text/x-python",
      "name": "python",
      "nbconvert_exporter": "python",
      "pygments_lexer": "ipython3",
      "version": "3.7.6"
    },
    "colab": {
      "name": "2-0Randomforest(profiling).ipynb",
      "provenance": [],
      "include_colab_link": true
    },
    "accelerator": "GPU"
  },
  "nbformat": 4,
  "nbformat_minor": 0
}