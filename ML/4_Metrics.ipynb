{
  "nbformat": 4,
  "nbformat_minor": 0,
  "metadata": {
    "colab": {
      "name": "Untitled4.ipynb",
      "provenance": [],
      "authorship_tag": "ABX9TyPX78hN5aq4XiwEi8K+fYh4",
      "include_colab_link": true
    },
    "kernelspec": {
      "name": "python3",
      "display_name": "Python 3"
    },
    "language_info": {
      "name": "python"
    }
  },
  "cells": [
    {
      "cell_type": "markdown",
      "metadata": {
        "id": "view-in-github",
        "colab_type": "text"
      },
      "source": [
        "<a href=\"https://colab.research.google.com/github/JSJeong-me/Machine_Learning/blob/main/ML/4_Metrics.ipynb\" target=\"_parent\"><img src=\"https://colab.research.google.com/assets/colab-badge.svg\" alt=\"Open In Colab\"/></a>"
      ]
    },
    {
      "cell_type": "markdown",
      "source": [
        "###  the classification accuracy of the model based on just these predictions"
      ],
      "metadata": {
        "id": "5fv550-BC6NM"
      }
    },
    {
      "cell_type": "code",
      "source": [
        "import numpy as np\n",
        "\n",
        "import sklearn.metrics as metrics"
      ],
      "metadata": {
        "id": "crYBmTPuTKu_"
      },
      "execution_count": null,
      "outputs": []
    },
    {
      "cell_type": "code",
      "source": [
        "y = np.array([1,1,1,1,0,0]) #0은 정상(실력자), 1은 음치\n",
        "\n",
        "p = np.array([1,1,0,0,0,0]) #나의 예측"
      ],
      "metadata": {
        "id": "zcYEnw2BTc7g"
      },
      "execution_count": null,
      "outputs": []
    },
    {
      "cell_type": "markdown",
      "source": [
        "### Classification Metrics"
      ],
      "metadata": {
        "id": "uagag2TPThF6"
      }
    },
    {
      "cell_type": "code",
      "source": [
        "print('accuracy', metrics.accuracy_score(y,p) )\n",
        "\n",
        "print('precision', metrics.precision_score(y,p) )\n",
        "\n",
        "print('recall', metrics.recall_score(y,p) )\n",
        "\n",
        "print('f1', metrics.f1_score(y,p) )\n",
        "\n",
        "print(metrics.classification_report(y,p))\n",
        "\n",
        "print(metrics.confusion_matrix(y,p))"
      ],
      "metadata": {
        "id": "CU6riggITfXc"
      },
      "execution_count": null,
      "outputs": []
    },
    {
      "cell_type": "code",
      "execution_count": null,
      "metadata": {
        "id": "pJHZTvsvCzmw"
      },
      "outputs": [],
      "source": [
        "#accuracy = correct predictions / total predictions * 100\n",
        "accuracy = 3 / 5 * 100\n",
        "accuracy = 60"
      ]
    },
    {
      "cell_type": "markdown",
      "source": [
        "### Regression Predictive Modeling"
      ],
      "metadata": {
        "id": "SjdtMXZWDTRj"
      }
    },
    {
      "cell_type": "markdown",
      "source": [
        "### 주택 가격 예측\n",
        "a house may be predicted to sell for a specific dollar value, perhaps in the range of 200,000.\n",
        "\n",
        "\n",
        "*   A regression problem requires the prediction of a quantity.\n",
        "*   A regression can have real valued or discrete input variables.\n",
        "\n",
        "*   A problem with multiple input variables is often called a multivariate regression problem.\n",
        "*   A regression problem where input variables are ordered by time is called a time series forecasting problem.\n",
        "\n",
        "\n"
      ],
      "metadata": {
        "id": "26GMF9iKDbpM"
      }
    },
    {
      "cell_type": "markdown",
      "source": [
        "\n",
        "\n",
        "\n"
      ],
      "metadata": {
        "id": "eV6_1RRXDroq"
      }
    },
    {
      "cell_type": "code",
      "source": [
        "# example of increase in mean squared error\n",
        "from matplotlib import pyplot\n",
        "from sklearn.metrics import mean_squared_error\n",
        "# real value\n",
        "expected = [1.0, 1.0, 1.0, 1.0, 1.0, 1.0, 1.0, 1.0, 1.0, 1.0, 1.0]\n",
        "# predicted value\n",
        "predicted = [1.0, 0.9, 0.8, 0.7, 0.6, 0.5, 0.4, 0.3, 0.2, 0.1, 0.0]\n",
        "# calculate errors"
      ],
      "metadata": {
        "id": "x_nen2nWXRHf"
      },
      "execution_count": 2,
      "outputs": []
    },
    {
      "cell_type": "code",
      "source": [
        "errors = list()\n",
        "for i in range(len(expected)):\n",
        "\t# calculate error\n",
        "\terr = (expected[i] - predicted[i])**2\n",
        "\t# store error\n",
        "\terrors.append(err)\n",
        "\t# report error\n",
        "\tprint('>%.1f, %.1f = %.3f' % (expected[i], predicted[i], err))"
      ],
      "metadata": {
        "id": "arQlfJtQXXK1",
        "outputId": "9406211c-a0d8-40ee-b24e-2279159cec82",
        "colab": {
          "base_uri": "https://localhost:8080/"
        }
      },
      "execution_count": 3,
      "outputs": [
        {
          "output_type": "stream",
          "name": "stdout",
          "text": [
            ">1.0, 1.0 = 0.000\n",
            ">1.0, 0.9 = 0.010\n",
            ">1.0, 0.8 = 0.040\n",
            ">1.0, 0.7 = 0.090\n",
            ">1.0, 0.6 = 0.160\n",
            ">1.0, 0.5 = 0.250\n",
            ">1.0, 0.4 = 0.360\n",
            ">1.0, 0.3 = 0.490\n",
            ">1.0, 0.2 = 0.640\n",
            ">1.0, 0.1 = 0.810\n",
            ">1.0, 0.0 = 1.000\n"
          ]
        }
      ]
    },
    {
      "cell_type": "code",
      "source": [
        "# plot errors\n",
        "pyplot.plot(errors)\n",
        "pyplot.xticks(ticks=[i for i in range(len(errors))], labels=predicted)\n",
        "pyplot.xlabel('Predicted Value')\n",
        "pyplot.ylabel('Mean Squared Error')\n",
        "pyplot.show()"
      ],
      "metadata": {
        "id": "7TaK-6JIXqhD",
        "outputId": "47d7701a-40f8-4180-94dc-cb22a8b9eb81",
        "colab": {
          "base_uri": "https://localhost:8080/",
          "height": 279
        }
      },
      "execution_count": 4,
      "outputs": [
        {
          "output_type": "display_data",
          "data": {
            "text/plain": [
              "<Figure size 432x288 with 1 Axes>"
            ],
            "image/png": "[encoded data removed]"
          },
          "metadata": {
            "needs_background": "light"
          }
        }
      ]
    },
    {
      "cell_type": "code",
      "source": [
        "# calculate errors\n",
        "errors = mean_squared_error(expected, predicted)"
      ],
      "metadata": {
        "id": "4d30Lv6SXz8R"
      },
      "execution_count": 5,
      "outputs": []
    },
    {
      "cell_type": "code",
      "source": [
        "from sklearn.metrics import mean_squared_error\n",
        "# real value\n",
        "expected = [1.0, 1.0, 1.0, 1.0, 1.0, 1.0, 1.0, 1.0, 1.0, 1.0, 1.0]\n",
        "# predicted value\n",
        "predicted = [1.0, 0.9, 0.8, 0.7, 0.6, 0.5, 0.4, 0.3, 0.2, 0.1, 0.0]\n",
        "# calculate errors\n",
        "errors = mean_squared_error(expected, predicted)\n",
        "# report error\n",
        "print(errors)"
      ],
      "metadata": {
        "id": "loa8F2GbX4-8",
        "outputId": "8728792a-24e9-40d6-d7b7-5d0da389f7e7",
        "colab": {
          "base_uri": "https://localhost:8080/"
        }
      },
      "execution_count": 6,
      "outputs": [
        {
          "output_type": "stream",
          "name": "stdout",
          "text": [
            "0.35000000000000003\n"
          ]
        }
      ]
    },
    {
      "cell_type": "markdown",
      "source": [
        "### A benefit of RMSE is that the units of the error score are in the same units as the predicted value."
      ],
      "metadata": {
        "id": "CIgMiqiaEtaK"
      }
    },
    {
      "cell_type": "code",
      "source": [
        "# example of calculate the root mean squared error\n",
        "from sklearn.metrics import mean_squared_error\n",
        "# real value\n",
        "expected = [1.0, 1.0, 1.0, 1.0, 1.0, 1.0, 1.0, 1.0, 1.0, 1.0, 1.0]\n",
        "# predicted value\n",
        "predicted = [1.0, 0.9, 0.8, 0.7, 0.6, 0.5, 0.4, 0.3, 0.2, 0.1, 0.0]\n",
        "# calculate errors\n",
        "errors = mean_squared_error(expected, predicted, squared=False)\n",
        "# report error\n",
        "print(errors)"
      ],
      "metadata": {
        "id": "TSkYBE8qX-NU",
        "outputId": "b9e52de1-ad62-4be5-c1a0-c2d7820a2cb2",
        "colab": {
          "base_uri": "https://localhost:8080/"
        }
      },
      "execution_count": 8,
      "outputs": [
        {
          "output_type": "stream",
          "name": "stdout",
          "text": [
            "0.5916079783099616\n"
          ]
        }
      ]
    },
    {
      "cell_type": "code",
      "source": [
        "from matplotlib import pyplot\n",
        "from sklearn.metrics import mean_squared_error\n",
        "# real value\n",
        "expected = [1.0, 1.0, 1.0, 1.0, 1.0, 1.0, 1.0, 1.0, 1.0, 1.0, 1.0]\n",
        "# predicted value\n",
        "predicted = [1.0, 0.9, 0.8, 0.7, 0.6, 0.5, 0.4, 0.3, 0.2, 0.1, 0.0]\n",
        "# calculate errors\n",
        "errors = list()\n",
        "for i in range(len(expected)):\n",
        "\t# calculate error\n",
        "\terr = abs((expected[i] - predicted[i]))\n",
        "\t# store error\n",
        "\terrors.append(err)\n",
        "\t# report error\n",
        "\tprint('>%.1f, %.1f = %.3f' % (expected[i], predicted[i], err))\n",
        "# plot errors\n",
        "pyplot.plot(errors)\n",
        "pyplot.xticks(ticks=[i for i in range(len(errors))], labels=predicted)\n",
        "pyplot.xlabel('Predicted Value')\n",
        "pyplot.ylabel('Mean Absolute Error')\n",
        "pyplot.show()"
      ],
      "metadata": {
        "id": "-mJyjkyQYB40",
        "outputId": "f3e0438f-71cd-4720-9fa4-12caac723f97",
        "colab": {
          "base_uri": "https://localhost:8080/",
          "height": 476
        }
      },
      "execution_count": 9,
      "outputs": [
        {
          "output_type": "stream",
          "name": "stdout",
          "text": [
            ">1.0, 1.0 = 0.000\n",
            ">1.0, 0.9 = 0.100\n",
            ">1.0, 0.8 = 0.200\n",
            ">1.0, 0.7 = 0.300\n",
            ">1.0, 0.6 = 0.400\n",
            ">1.0, 0.5 = 0.500\n",
            ">1.0, 0.4 = 0.600\n",
            ">1.0, 0.3 = 0.700\n",
            ">1.0, 0.2 = 0.800\n",
            ">1.0, 0.1 = 0.900\n",
            ">1.0, 0.0 = 1.000\n"
          ]
        },
        {
          "output_type": "display_data",
          "data": {
            "text/plain": [
              "<Figure size 432x288 with 1 Axes>"
            ],
            "image/png": "[encoded data removed]"
          },
          "metadata": {
            "needs_background": "light"
          }
        }
      ]
    },
    {
      "cell_type": "code",
      "source": [
        "# example of calculate the mean absolute error\n",
        "from sklearn.metrics import mean_absolute_error\n",
        "# real value\n",
        "expected = [1.0, 1.0, 1.0, 1.0, 1.0, 1.0, 1.0, 1.0, 1.0, 1.0, 1.0]\n",
        "# predicted value\n",
        "predicted = [1.0, 0.9, 0.8, 0.7, 0.6, 0.5, 0.4, 0.3, 0.2, 0.1, 0.0]\n",
        "# calculate errors\n",
        "errors = mean_absolute_error(expected, predicted)\n",
        "# report error\n",
        "print(errors)"
      ],
      "metadata": {
        "id": "qOa4fW4RYNsg",
        "outputId": "9d1bda9a-1737-4401-ec2a-fff9c50516b5",
        "colab": {
          "base_uri": "https://localhost:8080/"
        }
      },
      "execution_count": 10,
      "outputs": [
        {
          "output_type": "stream",
          "name": "stdout",
          "text": [
            "0.5\n"
          ]
        }
      ]
    },
    {
      "cell_type": "markdown",
      "source": [
        "### Classification vs Regression\n",
        "Classification predictive modeling problems are different from regression predictive modeling problems.\n",
        "\n",
        "Classification is the task of predicting a discrete class label.\n",
        "Regression is the task of predicting a continuous quantity."
      ],
      "metadata": {
        "id": "zndKUdgDEyR4"
      }
    },
    {
      "cell_type": "code",
      "source": [
        ""
      ],
      "metadata": {
        "id": "4Pavs1iMEs7f"
      },
      "execution_count": null,
      "outputs": []
    },
    {
      "cell_type": "markdown",
      "source": [
        "### Convert Between Classification and Regression Problems\n",
        "\n",
        "For example, amounts in a continuous range between 0 and 100 could be converted into 2 buckets:\n",
        "\n",
        "Class 0: 0 to 49\n",
        "Class 1: 50 to 100"
      ],
      "metadata": {
        "id": "DPT6awa6FCH-"
      }
    },
    {
      "cell_type": "code",
      "source": [
        "# quantity = min + probability * range"
      ],
      "metadata": {
        "id": "jsh_1G7oFRK8"
      },
      "execution_count": null,
      "outputs": []
    }
  ]
}