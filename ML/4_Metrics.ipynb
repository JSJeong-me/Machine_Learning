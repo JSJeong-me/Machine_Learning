{
  "nbformat": 4,
  "nbformat_minor": 0,
  "metadata": {
    "colab": {
      "name": "Untitled4.ipynb",
      "provenance": [],
      "authorship_tag": "ABX9TyODsncs9HK/IUcphcEKp60c",
      "include_colab_link": true
    },
    "kernelspec": {
      "name": "python3",
      "display_name": "Python 3"
    },
    "language_info": {
      "name": "python"
    }
  },
  "cells": [
    {
      "cell_type": "markdown",
      "metadata": {
        "id": "view-in-github",
        "colab_type": "text"
      },
      "source": [
        "<a href=\"https://colab.research.google.com/github/JSJeong-me/Machine_Learning/blob/main/ML/4_Metrics.ipynb\" target=\"_parent\"><img src=\"https://colab.research.google.com/assets/colab-badge.svg\" alt=\"Open In Colab\"/></a>"
      ]
    },
    {
      "cell_type": "markdown",
      "source": [
        "###  the classification accuracy of the model based on just these predictions"
      ],
      "metadata": {
        "id": "5fv550-BC6NM"
      }
    },
    {
      "cell_type": "code",
      "execution_count": 3,
      "metadata": {
        "id": "pJHZTvsvCzmw"
      },
      "outputs": [],
      "source": [
        "#accuracy = correct predictions / total predictions * 100\n",
        "accuracy = 3 / 5 * 100\n",
        "accuracy = 60"
      ]
    },
    {
      "cell_type": "markdown",
      "source": [
        "### Regression Predictive Modeling"
      ],
      "metadata": {
        "id": "SjdtMXZWDTRj"
      }
    },
    {
      "cell_type": "markdown",
      "source": [
        "### 주택 가격 예측\n",
        "a house may be predicted to sell for a specific dollar value, perhaps in the range of 200,000.\n",
        "\n",
        "\n",
        "*   A regression problem requires the prediction of a quantity.\n",
        "*   A regression can have real valued or discrete input variables.\n",
        "\n",
        "*   A problem with multiple input variables is often called a multivariate regression problem.\n",
        "*   A regression problem where input variables are ordered by time is called a time series forecasting problem.\n",
        "\n",
        "\n"
      ],
      "metadata": {
        "id": "26GMF9iKDbpM"
      }
    },
    {
      "cell_type": "markdown",
      "source": [
        "\n",
        "\n",
        "\n"
      ],
      "metadata": {
        "id": "eV6_1RRXDroq"
      }
    },
    {
      "cell_type": "code",
      "source": [
        "from numpy import sqrt"
      ],
      "metadata": {
        "id": "I5xvtcH1EXTk"
      },
      "execution_count": 5,
      "outputs": []
    },
    {
      "cell_type": "code",
      "source": [
        "#RMSE = sqrt(average(error^2))\n",
        "RMSE = sqrt(((1.0 - 1.5)**2 + (3.0 - 3.3)**2) / 2)\n",
        "RMSE = sqrt((0.25 + 0.09) / 2)\n",
        "RMSE = sqrt(0.17)\n",
        "RMSE = 0.412"
      ],
      "metadata": {
        "id": "E2fVGJ6yDKaL"
      },
      "execution_count": 7,
      "outputs": []
    },
    {
      "cell_type": "markdown",
      "source": [
        "### A benefit of RMSE is that the units of the error score are in the same units as the predicted value."
      ],
      "metadata": {
        "id": "CIgMiqiaEtaK"
      }
    },
    {
      "cell_type": "markdown",
      "source": [
        "### Classification vs Regression\n",
        "Classification predictive modeling problems are different from regression predictive modeling problems.\n",
        "\n",
        "Classification is the task of predicting a discrete class label.\n",
        "Regression is the task of predicting a continuous quantity."
      ],
      "metadata": {
        "id": "zndKUdgDEyR4"
      }
    },
    {
      "cell_type": "code",
      "source": [
        ""
      ],
      "metadata": {
        "id": "4Pavs1iMEs7f"
      },
      "execution_count": null,
      "outputs": []
    },
    {
      "cell_type": "markdown",
      "source": [
        "### Convert Between Classification and Regression Problems\n",
        "\n",
        "For example, amounts in a continuous range between 0 and 100 could be converted into 2 buckets:\n",
        "\n",
        "Class 0: 0 to 49\n",
        "Class 1: 50 to 100"
      ],
      "metadata": {
        "id": "DPT6awa6FCH-"
      }
    },
    {
      "cell_type": "code",
      "source": [
        "# quantity = min + probability * range"
      ],
      "metadata": {
        "id": "jsh_1G7oFRK8"
      },
      "execution_count": null,
      "outputs": []
    }
  ]
}