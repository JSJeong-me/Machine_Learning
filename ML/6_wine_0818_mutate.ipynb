{
  "metadata": {
    "kernelspec": {
      "language": "python",
      "display_name": "Python 3",
      "name": "python3"
    },
    "language_info": {
      "name": "python",
      "version": "3.7.12",
      "mimetype": "text/x-python",
      "codemirror_mode": {
        "name": "ipython",
        "version": 3
      },
      "pygments_lexer": "ipython3",
      "nbconvert_exporter": "python",
      "file_extension": ".py"
    },
    "colab": {
      "name": "notebook0fdae1b397.ipynb",
      "provenance": [],
      "include_colab_link": true
    },
    "accelerator": "GPU",
    "gpuClass": "standard"
  },
  "nbformat_minor": 0,
  "nbformat": 4,
  "cells": [
    {
      "cell_type": "markdown",
      "metadata": {
        "id": "view-in-github",
        "colab_type": "text"
      },
      "source": [
        "<a href=\"https://colab.research.google.com/github/JSJeong-me/Machine_Learning/blob/main/ML/6_wine_0818_mutate.ipynb\" target=\"_parent\"><img src=\"https://colab.research.google.com/assets/colab-badge.svg\" alt=\"Open In Colab\"/></a>"
      ]
    },
    {
      "cell_type": "markdown",
      "source": [
        "**This notebook is an exercise in the [Intro to Deep Learning](https://www.kaggle.com/learn/intro-to-deep-learning) course.  You can reference the tutorial at [this link](https://www.kaggle.com/ryanholbrook/a-single-neuron).**\n",
        "\n",
        "---\n"
      ],
      "metadata": {
        "id": "3mUBPSlwm4qA"
      }
    },
    {
      "cell_type": "code",
      "source": [
        "!hostname"
      ],
      "metadata": {
        "id": "QmuXCldbUQxl"
      },
      "execution_count": null,
      "outputs": []
    },
    {
      "cell_type": "markdown",
      "source": [
        "# Introduction #\n",
        "\n",
        "In the tutorial we learned about the building blocks of neural networks: *linear units*. We saw that a model of just one linear unit will fit a linear function to a dataset (equivalent to linear regression). In this exercise, you'll build a linear model and get some practice working with models in Keras.\n",
        "\n",
        "Before you get started, run the code cell below to set everything up."
      ],
      "metadata": {
        "id": "lu_BKhPIm4qE"
      }
    },
    {
      "cell_type": "markdown",
      "source": [
        "The *Red Wine Quality* dataset consists of physiochemical measurements from about 1600 Portuguese red wines.  Also included is a quality rating for each wine from blind taste-tests. \n",
        "\n",
        "First, run the next cell to display the first few rows of this dataset."
      ],
      "metadata": {
        "id": "beV27Dokm4qF"
      }
    },
    {
      "cell_type": "code",
      "source": [
        "import pandas as pd\n",
        "from IPython.display import display\n",
        "\n",
        "red_wine = pd.read_csv('winequality-red.csv')"
      ],
      "metadata": {
        "id": "oOsO38pc7e7i"
      },
      "execution_count": null,
      "outputs": []
    },
    {
      "cell_type": "code",
      "source": [
        "red_wine['total_acidity'] = red_wine['fixed acidity'] + red_wine['volatile acidity']\n",
        "red_wine['total_acidity_citric'] = red_wine['total_acidity'] + red_wine['citric acid']\n",
        "red_wine['bound_sulphur_dioxide'] = red_wine['total sulfur dioxide'] - red_wine['free sulfur dioxide']\n",
        "red_wine['org_minus_fail_SG'] = (red_wine['alcohol'] * 7.36)/1000"
      ],
      "metadata": {
        "id": "cAmYx5vjjHpt"
      },
      "execution_count": null,
      "outputs": []
    },
    {
      "cell_type": "code",
      "source": [
        "# len(red_wine.columns)"
      ],
      "metadata": {
        "id": "DCsRjq6lhayN",
        "outputId": "635f60eb-a0ab-4a96-b8ef-647761243917",
        "colab": {
          "base_uri": "https://localhost:8080/"
        }
      },
      "execution_count": 82,
      "outputs": [
        {
          "output_type": "execute_result",
          "data": {
            "text/plain": [
              "16"
            ]
          },
          "metadata": {},
          "execution_count": 82
        }
      ]
    },
    {
      "cell_type": "code",
      "source": [
        "import seaborn as sns\n",
        "import matplotlib.pyplot as plt\n",
        "\n",
        "corr = red_wine.corr(method='pearson')\n",
        "sns.heatmap(corr, xticklabels = corr.columns.values,\n",
        "           yticklabels=corr.columns.values)"
      ],
      "metadata": {
        "id": "hU_Cz8VsGJ2I"
      },
      "execution_count": null,
      "outputs": []
    },
    {
      "cell_type": "code",
      "source": [
        "red_wine['quality'].hist()"
      ],
      "metadata": {
        "id": "Ptu1qMbdGThJ"
      },
      "execution_count": null,
      "outputs": []
    },
    {
      "cell_type": "code",
      "source": [
        "from sklearn.preprocessing import LabelEncoder"
      ],
      "metadata": {
        "id": "mtKMerWbRjIR"
      },
      "execution_count": null,
      "outputs": []
    },
    {
      "cell_type": "code",
      "source": [
        "from tensorflow.keras.utils import to_categorical"
      ],
      "metadata": {
        "id": "-acIjliIRsFf"
      },
      "execution_count": null,
      "outputs": []
    },
    {
      "cell_type": "code",
      "source": [
        ""
      ],
      "metadata": {
        "id": "f_wjraMsiW5f"
      },
      "execution_count": 84,
      "outputs": []
    },
    {
      "cell_type": "code",
      "source": [
        "# X.columns"
      ],
      "metadata": {
        "id": "JKEDeP2qiYc3",
        "outputId": "acf4cac8-2d4c-4c3f-e126-e48bb2ba4ab2",
        "colab": {
          "base_uri": "https://localhost:8080/"
        }
      },
      "execution_count": 86,
      "outputs": [
        {
          "output_type": "execute_result",
          "data": {
            "text/plain": [
              "Index(['fixed acidity', 'volatile acidity', 'citric acid', 'residual sugar',\n",
              "       'chlorides', 'free sulfur dioxide', 'total sulfur dioxide', 'density',\n",
              "       'pH', 'sulphates', 'alcohol', 'total_acidity', 'total_acidity_citric',\n",
              "       'bound_sulphur_dioxide', 'org_minus_fail_SG'],\n",
              "      dtype='object')"
            ]
          },
          "metadata": {},
          "execution_count": 86
        }
      ]
    },
    {
      "cell_type": "code",
      "source": [
        "from sklearn.model_selection import train_test_split\n",
        "\n",
        "# X = red_wine.iloc[:,0:11]\n",
        "X = red_wine.drop(['quality'], axis=1)\n",
        "\n",
        "y = red_wine['quality']"
      ],
      "metadata": {
        "id": "0UuAvHWuV2tO"
      },
      "execution_count": 87,
      "outputs": []
    },
    {
      "cell_type": "code",
      "source": [
        "X.shape"
      ],
      "metadata": {
        "id": "lxDaB9sIV4Kw",
        "outputId": "895534f7-d770-4ac4-bab0-6d0e36be86a1",
        "colab": {
          "base_uri": "https://localhost:8080/"
        }
      },
      "execution_count": 88,
      "outputs": [
        {
          "output_type": "execute_result",
          "data": {
            "text/plain": [
              "(1599, 15)"
            ]
          },
          "metadata": {},
          "execution_count": 88
        }
      ]
    },
    {
      "cell_type": "code",
      "source": [
        "y.shape"
      ],
      "metadata": {
        "id": "VsB5hbWrV9ns"
      },
      "execution_count": null,
      "outputs": []
    },
    {
      "cell_type": "code",
      "source": [
        "type(y)"
      ],
      "metadata": {
        "id": "gdvpBnPIWDmE"
      },
      "execution_count": null,
      "outputs": []
    },
    {
      "cell_type": "code",
      "source": [
        "y.min()"
      ],
      "metadata": {
        "id": "SeMfp-BHWHTD"
      },
      "execution_count": null,
      "outputs": []
    },
    {
      "cell_type": "code",
      "source": [
        "le = LabelEncoder()"
      ],
      "metadata": {
        "id": "Jz6uYokpWPsE"
      },
      "execution_count": 89,
      "outputs": []
    },
    {
      "cell_type": "code",
      "source": [
        "y = le.fit_transform(y)"
      ],
      "metadata": {
        "id": "hsALoIuBWCKA"
      },
      "execution_count": 90,
      "outputs": []
    },
    {
      "cell_type": "code",
      "source": [
        "type(y)"
      ],
      "metadata": {
        "id": "AA2O7AiSWXuw"
      },
      "execution_count": null,
      "outputs": []
    },
    {
      "cell_type": "code",
      "source": [
        "y.min()"
      ],
      "metadata": {
        "id": "ZBGx_DwwWcSc"
      },
      "execution_count": null,
      "outputs": []
    },
    {
      "cell_type": "code",
      "source": [
        "X_train, X_test, y_train, y_test = train_test_split(X,\n",
        "                                                  y,\n",
        "                                                  test_size=0.2,\n",
        "                                                  random_state = 42)"
      ],
      "metadata": {
        "id": "nJAI5v63WsGW"
      },
      "execution_count": 91,
      "outputs": []
    },
    {
      "cell_type": "code",
      "source": [
        "y_test.shape"
      ],
      "metadata": {
        "id": "ykMV-rc9WuY-"
      },
      "execution_count": null,
      "outputs": []
    },
    {
      "cell_type": "code",
      "source": [
        "y_train_cat = to_categorical(y_train,6)\n",
        "y_test_cat = to_categorical(y_test, 6)"
      ],
      "metadata": {
        "id": "7Hd3WHYI7hHy"
      },
      "execution_count": 92,
      "outputs": []
    },
    {
      "cell_type": "code",
      "source": [
        "y_test_cat.shape"
      ],
      "metadata": {
        "id": "DhCiVwX7XBf4"
      },
      "execution_count": null,
      "outputs": []
    },
    {
      "cell_type": "code",
      "source": [
        "# Scale to [0, 1]\n",
        "# max_ = df_train.max(axis=0)\n",
        "# min_ = df_train.min(axis=0)\n",
        "# df_train = (df_train - min_) / (max_ - min_)\n",
        "# df_valid = (df_valid - min_) / (max_ - min_)"
      ],
      "metadata": {
        "id": "JVfWAkMg7jJx"
      },
      "execution_count": null,
      "outputs": []
    },
    {
      "cell_type": "code",
      "source": [
        "from sklearn.preprocessing import MinMaxScaler"
      ],
      "metadata": {
        "id": "FpenQQuDEIsD"
      },
      "execution_count": null,
      "outputs": []
    },
    {
      "cell_type": "code",
      "source": [
        "scaler = MinMaxScaler(feature_range=(0, 1))"
      ],
      "metadata": {
        "id": "7sr2sEcQEDiZ"
      },
      "execution_count": 93,
      "outputs": []
    },
    {
      "cell_type": "code",
      "source": [
        "X_train = scaler.fit_transform(X_train)\n",
        "X_train = pd.DataFrame(X_train)"
      ],
      "metadata": {
        "id": "GRvQcFM4XTGZ"
      },
      "execution_count": 94,
      "outputs": []
    },
    {
      "cell_type": "code",
      "source": [
        "X_test = scaler.fit_transform(X_test)\n",
        "X_test = pd.DataFrame(X_test)"
      ],
      "metadata": {
        "id": "ENslQb-rERTF"
      },
      "execution_count": 95,
      "outputs": []
    },
    {
      "cell_type": "code",
      "source": [
        "type(X_test)"
      ],
      "metadata": {
        "id": "5fLa53NrEU8X"
      },
      "execution_count": null,
      "outputs": []
    },
    {
      "cell_type": "code",
      "source": [
        "red_wine.describe()"
      ],
      "metadata": {
        "execution": {
          "iopub.status.busy": "2022-04-01T09:57:19.076902Z",
          "iopub.execute_input": "2022-04-01T09:57:19.077158Z",
          "iopub.status.idle": "2022-04-01T09:57:19.124183Z",
          "shell.execute_reply.started": "2022-04-01T09:57:19.077129Z",
          "shell.execute_reply": "2022-04-01T09:57:19.123278Z"
        },
        "trusted": true,
        "id": "v8bGY_i3m4qG"
      },
      "execution_count": null,
      "outputs": []
    },
    {
      "cell_type": "code",
      "source": [
        "from tensorflow import keras\n",
        "from tensorflow.keras import layers, callbacks\n",
        "\n",
        "model = keras.Sequential([\n",
        "    layers.Dense(128, activation='relu', input_shape=[15]),\n",
        "    layers.Dropout(rate=0.5),\n",
        "    layers.BatchNormalization(),\n",
        "    layers.Dense(64, activation='relu'),\n",
        "    layers.BatchNormalization(),\n",
        "    layers.Dropout(rate=0.5),\n",
        "    layers.Dense(32, activation='relu'),\n",
        "    layers.BatchNormalization(),\n",
        "    layers.Dropout(rate=0.5),\n",
        "    layers.Dense(6, activation='softmax'),\n",
        "])"
      ],
      "metadata": {
        "execution": {
          "iopub.status.busy": "2022-04-01T09:57:19.125173Z",
          "iopub.execute_input": "2022-04-01T09:57:19.125378Z",
          "iopub.status.idle": "2022-04-01T09:57:19.144320Z",
          "shell.execute_reply.started": "2022-04-01T09:57:19.125351Z",
          "shell.execute_reply": "2022-04-01T09:57:19.143449Z"
        },
        "trusted": true,
        "id": "VLqpQWRfm4qH"
      },
      "execution_count": 97,
      "outputs": []
    },
    {
      "cell_type": "code",
      "source": [
        "# early_stopping = callbacks.EarlyStopping(\n",
        "#     min_delta=0.001, # minimium amount of change to count as an improvement\n",
        "#     patience=20, # how many epochs to wait before stopping\n",
        "#     restore_best_weights=True,\n",
        "# )"
      ],
      "metadata": {
        "id": "YRFXgvMVGnQ9"
      },
      "execution_count": null,
      "outputs": []
    },
    {
      "cell_type": "code",
      "source": [
        "model.compile(\n",
        "    optimizer='adam',\n",
        "    loss='categorical_crossentropy', metrics=['accuracy']\n",
        ")"
      ],
      "metadata": {
        "execution": {
          "iopub.status.busy": "2022-04-01T09:57:19.145527Z",
          "iopub.execute_input": "2022-04-01T09:57:19.145858Z",
          "iopub.status.idle": "2022-04-01T09:57:19.154108Z",
          "shell.execute_reply.started": "2022-04-01T09:57:19.145830Z",
          "shell.execute_reply": "2022-04-01T09:57:19.153139Z"
        },
        "trusted": true,
        "id": "3eMdsFmAm4qH"
      },
      "execution_count": null,
      "outputs": []
    },
    {
      "cell_type": "code",
      "source": [
        "history = model.fit(\n",
        "    X_train, y_train_cat,\n",
        "    validation_data = (X_test,y_test_cat),\n",
        "    batch_size=128,\n",
        "    # callbacks=[early_stopping],\n",
        "    epochs=150,\n",
        ")"
      ],
      "metadata": {
        "id": "7cgxvzRrryg3"
      },
      "execution_count": null,
      "outputs": []
    },
    {
      "cell_type": "markdown",
      "source": [
        "# 2) Define a linear model\n",
        "\n",
        "Now define a linear model appropriate for this task. Pay attention to how many inputs and outputs the model should have."
      ],
      "metadata": {
        "id": "CEEa85Xzm4qH"
      }
    },
    {
      "cell_type": "code",
      "source": [
        "model.summary()"
      ],
      "metadata": {
        "execution": {
          "iopub.status.busy": "2022-04-01T09:57:19.225295Z",
          "iopub.execute_input": "2022-04-01T09:57:19.225843Z",
          "iopub.status.idle": "2022-04-01T09:57:19.237548Z",
          "shell.execute_reply.started": "2022-04-01T09:57:19.225808Z",
          "shell.execute_reply": "2022-04-01T09:57:19.236685Z"
        },
        "trusted": true,
        "id": "RwuUB91vm4qI"
      },
      "execution_count": null,
      "outputs": []
    },
    {
      "cell_type": "code",
      "source": [
        ""
      ],
      "metadata": {
        "id": "JtcpDvZWE-ce"
      },
      "execution_count": null,
      "outputs": []
    },
    {
      "cell_type": "code",
      "source": [
        "import pandas as pd\n",
        "\n",
        "# convert the training history to a dataframe\n",
        "history_df = pd.DataFrame(history.history)\n",
        "# use Pandas native plot method\n",
        "history_df.loc[0:100,['loss','val_loss']].plot()"
      ],
      "metadata": {
        "id": "i6FtZdYSoj2l"
      },
      "execution_count": null,
      "outputs": []
    },
    {
      "cell_type": "code",
      "source": [
        "plt.plot(history.history['accuracy'], label='Accuracy training data')\n",
        "plt.plot(history.history['val_accuracy'], label='Accuracy validation data')\n",
        "plt.legend()\n",
        "plt.title('Model accuracy')\n",
        "plt.ylabel('Accuracy')\n",
        "plt.xlabel('epoch')\n",
        "plt.show()"
      ],
      "metadata": {
        "id": "BvlQAgyVmDFk"
      },
      "execution_count": null,
      "outputs": []
    },
    {
      "cell_type": "code",
      "source": [
        "# mse_value, mae_value = model.evaluate(X_test, y_test, verbose=0)\n",
        "\n",
        "# print(mse_value)"
      ],
      "metadata": {
        "id": "EDO4vhapE_bi"
      },
      "execution_count": null,
      "outputs": []
    },
    {
      "cell_type": "code",
      "source": [
        "y_pred = model.predict(X_test)"
      ],
      "metadata": {
        "id": "8HIcDR9tFCWg"
      },
      "execution_count": null,
      "outputs": []
    },
    {
      "cell_type": "code",
      "source": [
        "type(y_pred)"
      ],
      "metadata": {
        "id": "_TuQSTG8YbJN"
      },
      "execution_count": null,
      "outputs": []
    },
    {
      "cell_type": "code",
      "source": [
        "y_pred[-50,2]"
      ],
      "metadata": {
        "id": "rLpG_k68YfnY"
      },
      "execution_count": null,
      "outputs": []
    },
    {
      "cell_type": "code",
      "source": [
        "y_test[-50]"
      ],
      "metadata": {
        "id": "7FnasxnUYfkp"
      },
      "execution_count": null,
      "outputs": []
    },
    {
      "cell_type": "code",
      "source": [
        ""
      ],
      "metadata": {
        "id": "UcpdaiJgYfh7"
      },
      "execution_count": null,
      "outputs": []
    },
    {
      "cell_type": "code",
      "source": [
        ""
      ],
      "metadata": {
        "id": "w215e2RmYffb"
      },
      "execution_count": null,
      "outputs": []
    },
    {
      "cell_type": "code",
      "source": [
        ""
      ],
      "metadata": {
        "id": "PP8TwKWqYfc-"
      },
      "execution_count": null,
      "outputs": []
    },
    {
      "cell_type": "code",
      "source": [
        ""
      ],
      "metadata": {
        "id": "1_zY_nxmYfaF"
      },
      "execution_count": null,
      "outputs": []
    },
    {
      "cell_type": "code",
      "source": [
        ""
      ],
      "metadata": {
        "id": "_zHbOSoYCvCZ"
      },
      "execution_count": null,
      "outputs": []
    },
    {
      "cell_type": "markdown",
      "source": [
        "https://www.tensorflow.org/datasets/catalog/wine_quality"
      ],
      "metadata": {
        "id": "fempb8HMCvlY"
      }
    },
    {
      "cell_type": "markdown",
      "source": [
        "Creating new features¶\n",
        "\n",
        "Creating new features from existing features is also an important step to check if it improves the accuracy or even correlation with our dependent variable. After little research, I came up with the following new features:\n",
        "\n",
        "total_acidity - Sum of fixed and volatile acidity. [fixed acidity + volatile acidity]\n",
        "total_acidity_citric - I learnt that citric acid is a type of titratable or total acid, so i thought maybe i should add that too in total acidity?. Or else let's just create a new feature for that! [fixed acidity + volatile acidity + citric acid]\n",
        "bound_sulphur_dioxide - total sulphur dioxide is actually a sum of bound(fixed) SO2 and free sulphur dioxide. [total sulphur dioxide - free sulphur dioxide]\n",
        "org_minus_final_SG -\n",
        "%alcohol(byvolume)=OriginalSpecificGravity−FinalSpecificGravity7.36×1000\n",
        " \n",
        "Fun fact: Coke has about the same level of sugar, at 108 g/L, as some of the sweetest dessert wines!"
      ],
      "metadata": {
        "id": "ECOEMhxoCdOn"
      }
    },
    {
      "cell_type": "code",
      "source": [
        "red_wine.columns"
      ],
      "metadata": {
        "id": "-mxspc68f6PG"
      },
      "execution_count": null,
      "outputs": []
    },
    {
      "cell_type": "code",
      "source": [
        ""
      ],
      "metadata": {
        "id": "H-BsjLW-fjI4"
      },
      "execution_count": null,
      "outputs": []
    },
    {
      "cell_type": "code",
      "source": [
        ""
      ],
      "metadata": {
        "id": "uSnbG-_wfjES"
      },
      "execution_count": null,
      "outputs": []
    },
    {
      "cell_type": "code",
      "source": [
        ""
      ],
      "metadata": {
        "id": "dbNO3rYYfi9D"
      },
      "execution_count": null,
      "outputs": []
    },
    {
      "cell_type": "code",
      "source": [
        ""
      ],
      "metadata": {
        "id": "OCaNyeWpfihE"
      },
      "execution_count": null,
      "outputs": []
    },
    {
      "cell_type": "code",
      "source": [
        "# dataset_additional = data.copy()\n",
        "\n",
        "# dataset_additional['total_acidity'] = dataset_additional['fixed acidity'] + dataset_additional['volatile acidity']\n",
        "# dataset_additional['total_acidity_citric'] = dataset_additional['total_acidity'] + dataset_additional['citric acid']\n",
        "# dataset_additional['bound_sulphur_dioxide'] = dataset_additional['total sulfur dioxide'] - dataset_additional['free sulfur dioxide']\n",
        "# dataset_additional['org_minus_fail_SG'] = (dataset_additional['alcohol'] * 7.36)/1000"
      ],
      "metadata": {
        "id": "vgZrqhcTCajR"
      },
      "execution_count": null,
      "outputs": []
    }
  ]
}