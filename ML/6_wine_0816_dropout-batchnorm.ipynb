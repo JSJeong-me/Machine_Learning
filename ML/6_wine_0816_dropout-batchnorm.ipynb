{
  "metadata": {
    "kernelspec": {
      "language": "python",
      "display_name": "Python 3",
      "name": "python3"
    },
    "language_info": {
      "name": "python",
      "version": "3.7.12",
      "mimetype": "text/x-python",
      "codemirror_mode": {
        "name": "ipython",
        "version": 3
      },
      "pygments_lexer": "ipython3",
      "nbconvert_exporter": "python",
      "file_extension": ".py"
    },
    "colab": {
      "name": "notebook0fdae1b397.ipynb",
      "provenance": [],
      "include_colab_link": true
    },
    "accelerator": "GPU",
    "gpuClass": "standard"
  },
  "nbformat_minor": 0,
  "nbformat": 4,
  "cells": [
    {
      "cell_type": "markdown",
      "metadata": {
        "id": "view-in-github",
        "colab_type": "text"
      },
      "source": [
        "<a href=\"https://colab.research.google.com/github/JSJeong-me/Machine_Learning/blob/main/ML/6_wine_0816_dropout-batchnorm.ipynb\" target=\"_parent\"><img src=\"https://colab.research.google.com/assets/colab-badge.svg\" alt=\"Open In Colab\"/></a>"
      ]
    },
    {
      "cell_type": "markdown",
      "source": [
        "**This notebook is an exercise in the [Intro to Deep Learning](https://www.kaggle.com/learn/intro-to-deep-learning) course.  You can reference the tutorial at [this link](https://www.kaggle.com/ryanholbrook/a-single-neuron).**\n",
        "\n",
        "---\n"
      ],
      "metadata": {
        "id": "3mUBPSlwm4qA"
      }
    },
    {
      "cell_type": "markdown",
      "source": [
        "# Introduction #\n",
        "\n",
        "In the tutorial we learned about the building blocks of neural networks: *linear units*. We saw that a model of just one linear unit will fit a linear function to a dataset (equivalent to linear regression). In this exercise, you'll build a linear model and get some practice working with models in Keras.\n",
        "\n",
        "Before you get started, run the code cell below to set everything up."
      ],
      "metadata": {
        "id": "lu_BKhPIm4qE"
      }
    },
    {
      "cell_type": "markdown",
      "source": [
        "The *Red Wine Quality* dataset consists of physiochemical measurements from about 1600 Portuguese red wines.  Also included is a quality rating for each wine from blind taste-tests. \n",
        "\n",
        "First, run the next cell to display the first few rows of this dataset."
      ],
      "metadata": {
        "id": "beV27Dokm4qF"
      }
    },
    {
      "cell_type": "code",
      "source": [
        "import pandas as pd\n",
        "from IPython.display import display\n",
        "\n",
        "red_wine = pd.read_csv('winequality-red.csv')"
      ],
      "metadata": {
        "id": "oOsO38pc7e7i"
      },
      "execution_count": 1,
      "outputs": []
    },
    {
      "cell_type": "code",
      "source": [
        "import seaborn as sns\n",
        "import matplotlib.pyplot as plt\n",
        "\n",
        "corr = red_wine.corr()\n",
        "sns.heatmap(corr, xticklabels = corr.columns.values,\n",
        "           yticklabels=corr.columns.values)"
      ],
      "metadata": {
        "id": "hU_Cz8VsGJ2I",
        "outputId": "7d74ab71-9920-41fc-b0af-1b55af5ac402",
        "colab": {
          "base_uri": "https://localhost:8080/",
          "height": 371
        }
      },
      "execution_count": 2,
      "outputs": [
        {
          "output_type": "execute_result",
          "data": {
            "text/plain": [
              "<matplotlib.axes._subplots.AxesSubplot at 0x7f38b2124350>"
            ]
          },
          "metadata": {},
          "execution_count": 2
        },
        {
          "output_type": "display_data",
          "data": {
            "text/plain": [
              "<Figure size 432x288 with 2 Axes>"
            ],
            "image/png": "[encoded data removed]"
          },
          "metadata": {
            "needs_background": "light"
          }
        }
      ]
    },
    {
      "cell_type": "code",
      "source": [
        "red_wine['quality'].hist()"
      ],
      "metadata": {
        "id": "Ptu1qMbdGThJ",
        "outputId": "22395876-5591-484f-fef1-26daa9eab41a",
        "colab": {
          "base_uri": "https://localhost:8080/",
          "height": 283
        }
      },
      "execution_count": 3,
      "outputs": [
        {
          "output_type": "execute_result",
          "data": {
            "text/plain": [
              "<matplotlib.axes._subplots.AxesSubplot at 0x7f38a2baa9d0>"
            ]
          },
          "metadata": {},
          "execution_count": 3
        },
        {
          "output_type": "display_data",
          "data": {
            "text/plain": [
              "<Figure size 432x288 with 1 Axes>"
            ],
            "image/png": "[encoded data removed]"
          },
          "metadata": {
            "needs_background": "light"
          }
        }
      ]
    },
    {
      "cell_type": "code",
      "source": [
        "from sklearn.model_selection import train_test_split\n",
        "\n",
        "X = red_wine.iloc[:,0:11]\n",
        "y = red_wine['quality']\n",
        "  \n",
        "\n",
        "X_train, X_test, y_train, y_test = train_test_split(X,\n",
        "                                                  y,\n",
        "                                                  test_size=0.33,\n",
        "                                                  random_state = 42)"
      ],
      "metadata": {
        "id": "7Hd3WHYI7hHy"
      },
      "execution_count": 4,
      "outputs": []
    },
    {
      "cell_type": "code",
      "source": [
        "# Scale to [0, 1]\n",
        "# max_ = df_train.max(axis=0)\n",
        "# min_ = df_train.min(axis=0)\n",
        "# df_train = (df_train - min_) / (max_ - min_)\n",
        "# df_valid = (df_valid - min_) / (max_ - min_)"
      ],
      "metadata": {
        "id": "JVfWAkMg7jJx"
      },
      "execution_count": 5,
      "outputs": []
    },
    {
      "cell_type": "code",
      "source": [
        "from sklearn.preprocessing import MinMaxScaler"
      ],
      "metadata": {
        "id": "FpenQQuDEIsD"
      },
      "execution_count": 6,
      "outputs": []
    },
    {
      "cell_type": "code",
      "source": [
        "scaler = MinMaxScaler(feature_range=(0, 1))"
      ],
      "metadata": {
        "id": "7sr2sEcQEDiZ"
      },
      "execution_count": 7,
      "outputs": []
    },
    {
      "cell_type": "code",
      "source": [
        "X_train = scaler.fit_transform(X_train)\n",
        "X_train = pd.DataFrame(X_train)\n",
        "\n",
        "X_test = scaler.fit_transform(X_test)\n",
        "X_test = pd.DataFrame(X_test)"
      ],
      "metadata": {
        "id": "ENslQb-rERTF"
      },
      "execution_count": 8,
      "outputs": []
    },
    {
      "cell_type": "code",
      "source": [
        ""
      ],
      "metadata": {
        "id": "5fLa53NrEU8X"
      },
      "execution_count": 8,
      "outputs": []
    },
    {
      "cell_type": "code",
      "source": [
        "red_wine.describe()"
      ],
      "metadata": {
        "execution": {
          "iopub.status.busy": "2022-04-01T09:57:19.076902Z",
          "iopub.execute_input": "2022-04-01T09:57:19.077158Z",
          "iopub.status.idle": "2022-04-01T09:57:19.124183Z",
          "shell.execute_reply.started": "2022-04-01T09:57:19.077129Z",
          "shell.execute_reply": "2022-04-01T09:57:19.123278Z"
        },
        "trusted": true,
        "id": "v8bGY_i3m4qG",
        "outputId": "000a6e04-76ac-42b8-8009-a668124be41f",
        "colab": {
          "base_uri": "https://localhost:8080/",
          "height": 379
        }
      },
      "execution_count": 9,
      "outputs": [
        {
          "output_type": "execute_result",
          "data": {
            "text/plain": [
              "       fixed acidity  volatile acidity  citric acid  residual sugar  \\\n",
              "count    1599.000000       1599.000000  1599.000000     1599.000000   \n",
              "mean        8.319637          0.527821     0.270976        2.538806   \n",
              "std         1.741096          0.179060     0.194801        1.409928   \n",
              "min         4.600000          0.120000     0.000000        0.900000   \n",
              "25%         7.100000          0.390000     0.090000        1.900000   \n",
              "50%         7.900000          0.520000     0.260000        2.200000   \n",
              "75%         9.200000          0.640000     0.420000        2.600000   \n",
              "max        15.900000          1.580000     1.000000       15.500000   \n",
              "\n",
              "         chlorides  free sulfur dioxide  total sulfur dioxide      density  \\\n",
              "count  1599.000000          1599.000000           1599.000000  1599.000000   \n",
              "mean      0.087467            15.874922             46.467792     0.996747   \n",
              "std       0.047065            10.460157             32.895324     0.001887   \n",
              "min       0.012000             1.000000              6.000000     0.990070   \n",
              "25%       0.070000             7.000000             22.000000     0.995600   \n",
              "50%       0.079000            14.000000             38.000000     0.996750   \n",
              "75%       0.090000            21.000000             62.000000     0.997835   \n",
              "max       0.611000            72.000000            289.000000     1.003690   \n",
              "\n",
              "                pH    sulphates      alcohol      quality  \n",
              "count  1599.000000  1599.000000  1599.000000  1599.000000  \n",
              "mean      3.311113     0.658149    10.422983     5.636023  \n",
              "std       0.154386     0.169507     1.065668     0.807569  \n",
              "min       2.740000     0.330000     8.400000     3.000000  \n",
              "25%       3.210000     0.550000     9.500000     5.000000  \n",
              "50%       3.310000     0.620000    10.200000     6.000000  \n",
              "75%       3.400000     0.730000    11.100000     6.000000  \n",
              "max       4.010000     2.000000    14.900000     8.000000  "
            ],
            "text/html": [
              "\n",
              "  <div id=\"df-a1e2708e-dc9b-4ddd-99f3-9f40dd22d753\">\n",
              "    <div class=\"colab-df-container\">\n",
              "      <div>\n",
              "<style scoped>\n",
              "    .dataframe tbody tr th:only-of-type {\n",
              "        vertical-align: middle;\n",
              "    }\n",
              "\n",
              "    .dataframe tbody tr th {\n",
              "        vertical-align: top;\n",
              "    }\n",
              "\n",
              "    .dataframe thead th {\n",
              "        text-align: right;\n",
              "    }\n",
              "</style>\n",
              "<table border=\"1\" class=\"dataframe\">\n",
              "  <thead>\n",
              "    <tr style=\"text-align: right;\">\n",
              "      <th></th>\n",
              "      <th>fixed acidity</th>\n",
              "      <th>volatile acidity</th>\n",
              "      <th>citric acid</th>\n",
              "      <th>residual sugar</th>\n",
              "      <th>chlorides</th>\n",
              "      <th>free sulfur dioxide</th>\n",
              "      <th>total sulfur dioxide</th>\n",
              "      <th>density</th>\n",
              "      <th>pH</th>\n",
              "      <th>sulphates</th>\n",
              "      <th>alcohol</th>\n",
              "      <th>quality</th>\n",
              "    </tr>\n",
              "  </thead>\n",
              "  <tbody>\n",
              "    <tr>\n",
              "      <th>count</th>\n",
              "      <td>1599.000000</td>\n",
              "      <td>1599.000000</td>\n",
              "      <td>1599.000000</td>\n",
              "      <td>1599.000000</td>\n",
              "      <td>1599.000000</td>\n",
              "      <td>1599.000000</td>\n",
              "      <td>1599.000000</td>\n",
              "      <td>1599.000000</td>\n",
              "      <td>1599.000000</td>\n",
              "      <td>1599.000000</td>\n",
              "      <td>1599.000000</td>\n",
              "      <td>1599.000000</td>\n",
              "    </tr>\n",
              "    <tr>\n",
              "      <th>mean</th>\n",
              "      <td>8.319637</td>\n",
              "      <td>0.527821</td>\n",
              "      <td>0.270976</td>\n",
              "      <td>2.538806</td>\n",
              "      <td>0.087467</td>\n",
              "      <td>15.874922</td>\n",
              "      <td>46.467792</td>\n",
              "      <td>0.996747</td>\n",
              "      <td>3.311113</td>\n",
              "      <td>0.658149</td>\n",
              "      <td>10.422983</td>\n",
              "      <td>5.636023</td>\n",
              "    </tr>\n",
              "    <tr>\n",
              "      <th>std</th>\n",
              "      <td>1.741096</td>\n",
              "      <td>0.179060</td>\n",
              "      <td>0.194801</td>\n",
              "      <td>1.409928</td>\n",
              "      <td>0.047065</td>\n",
              "      <td>10.460157</td>\n",
              "      <td>32.895324</td>\n",
              "      <td>0.001887</td>\n",
              "      <td>0.154386</td>\n",
              "      <td>0.169507</td>\n",
              "      <td>1.065668</td>\n",
              "      <td>0.807569</td>\n",
              "    </tr>\n",
              "    <tr>\n",
              "      <th>min</th>\n",
              "      <td>4.600000</td>\n",
              "      <td>0.120000</td>\n",
              "      <td>0.000000</td>\n",
              "      <td>0.900000</td>\n",
              "      <td>0.012000</td>\n",
              "      <td>1.000000</td>\n",
              "      <td>6.000000</td>\n",
              "      <td>0.990070</td>\n",
              "      <td>2.740000</td>\n",
              "      <td>0.330000</td>\n",
              "      <td>8.400000</td>\n",
              "      <td>3.000000</td>\n",
              "    </tr>\n",
              "    <tr>\n",
              "      <th>25%</th>\n",
              "      <td>7.100000</td>\n",
              "      <td>0.390000</td>\n",
              "      <td>0.090000</td>\n",
              "      <td>1.900000</td>\n",
              "      <td>0.070000</td>\n",
              "      <td>7.000000</td>\n",
              "      <td>22.000000</td>\n",
              "      <td>0.995600</td>\n",
              "      <td>3.210000</td>\n",
              "      <td>0.550000</td>\n",
              "      <td>9.500000</td>\n",
              "      <td>5.000000</td>\n",
              "    </tr>\n",
              "    <tr>\n",
              "      <th>50%</th>\n",
              "      <td>7.900000</td>\n",
              "      <td>0.520000</td>\n",
              "      <td>0.260000</td>\n",
              "      <td>2.200000</td>\n",
              "      <td>0.079000</td>\n",
              "      <td>14.000000</td>\n",
              "      <td>38.000000</td>\n",
              "      <td>0.996750</td>\n",
              "      <td>3.310000</td>\n",
              "      <td>0.620000</td>\n",
              "      <td>10.200000</td>\n",
              "      <td>6.000000</td>\n",
              "    </tr>\n",
              "    <tr>\n",
              "      <th>75%</th>\n",
              "      <td>9.200000</td>\n",
              "      <td>0.640000</td>\n",
              "      <td>0.420000</td>\n",
              "      <td>2.600000</td>\n",
              "      <td>0.090000</td>\n",
              "      <td>21.000000</td>\n",
              "      <td>62.000000</td>\n",
              "      <td>0.997835</td>\n",
              "      <td>3.400000</td>\n",
              "      <td>0.730000</td>\n",
              "      <td>11.100000</td>\n",
              "      <td>6.000000</td>\n",
              "    </tr>\n",
              "    <tr>\n",
              "      <th>max</th>\n",
              "      <td>15.900000</td>\n",
              "      <td>1.580000</td>\n",
              "      <td>1.000000</td>\n",
              "      <td>15.500000</td>\n",
              "      <td>0.611000</td>\n",
              "      <td>72.000000</td>\n",
              "      <td>289.000000</td>\n",
              "      <td>1.003690</td>\n",
              "      <td>4.010000</td>\n",
              "      <td>2.000000</td>\n",
              "      <td>14.900000</td>\n",
              "      <td>8.000000</td>\n",
              "    </tr>\n",
              "  </tbody>\n",
              "</table>\n",
              "</div>\n",
              "      <button class=\"colab-df-convert\" onclick=\"convertToInteractive('df-a1e2708e-dc9b-4ddd-99f3-9f40dd22d753')\"\n",
              "              title=\"Convert this dataframe to an interactive table.\"\n",
              "              style=\"display:none;\">\n",
              "        \n",
              "  <svg xmlns=\"http://www.w3.org/2000/svg\" height=\"24px\"viewBox=\"0 0 24 24\"\n",
              "       width=\"24px\">\n",
              "    <path d=\"M0 0h24v24H0V0z\" fill=\"none\"/>\n",
              "    <path d=\"M18.56 5.44l.94 2.06.94-2.06 2.06-.94-2.06-.94-.94-2.06-.94 2.06-2.06.94zm-11 1L8.5 8.5l.94-2.06 2.06-.94-2.06-.94L8.5 2.5l-.94 2.06-2.06.94zm10 10l.94 2.06.94-2.06 2.06-.94-2.06-.94-.94-2.06-.94 2.06-2.06.94z\"/><path d=\"M17.41 7.96l-1.37-1.37c-.4-.4-.92-.59-1.43-.59-.52 0-1.04.2-1.43.59L10.3 9.45l-7.72 7.72c-.78.78-.78 2.05 0 2.83L4 21.41c.39.39.9.59 1.41.59.51 0 1.02-.2 1.41-.59l7.78-7.78 2.81-2.81c.8-.78.8-2.07 0-2.86zM5.41 20L4 18.59l7.72-7.72 1.47 1.35L5.41 20z\"/>\n",
              "  </svg>\n",
              "      </button>\n",
              "      \n",
              "  <style>\n",
              "    .colab-df-container {\n",
              "      display:flex;\n",
              "      flex-wrap:wrap;\n",
              "      gap: 12px;\n",
              "    }\n",
              "\n",
              "    .colab-df-convert {\n",
              "      background-color: #E8F0FE;\n",
              "      border: none;\n",
              "      border-radius: 50%;\n",
              "      cursor: pointer;\n",
              "      display: none;\n",
              "      fill: #1967D2;\n",
              "      height: 32px;\n",
              "      padding: 0 0 0 0;\n",
              "      width: 32px;\n",
              "    }\n",
              "\n",
              "    .colab-df-convert:hover {\n",
              "      background-color: #E2EBFA;\n",
              "      box-shadow: 0px 1px 2px rgba(60, 64, 67, 0.3), 0px 1px 3px 1px rgba(60, 64, 67, 0.15);\n",
              "      fill: #174EA6;\n",
              "    }\n",
              "\n",
              "    [theme=dark] .colab-df-convert {\n",
              "      background-color: #3B4455;\n",
              "      fill: #D2E3FC;\n",
              "    }\n",
              "\n",
              "    [theme=dark] .colab-df-convert:hover {\n",
              "      background-color: #434B5C;\n",
              "      box-shadow: 0px 1px 3px 1px rgba(0, 0, 0, 0.15);\n",
              "      filter: drop-shadow(0px 1px 2px rgba(0, 0, 0, 0.3));\n",
              "      fill: #FFFFFF;\n",
              "    }\n",
              "  </style>\n",
              "\n",
              "      <script>\n",
              "        const buttonEl =\n",
              "          document.querySelector('#df-a1e2708e-dc9b-4ddd-99f3-9f40dd22d753 button.colab-df-convert');\n",
              "        buttonEl.style.display =\n",
              "          google.colab.kernel.accessAllowed ? 'block' : 'none';\n",
              "\n",
              "        async function convertToInteractive(key) {\n",
              "          const element = document.querySelector('#df-a1e2708e-dc9b-4ddd-99f3-9f40dd22d753');\n",
              "          const dataTable =\n",
              "            await google.colab.kernel.invokeFunction('convertToInteractive',\n",
              "                                                     [key], {});\n",
              "          if (!dataTable) return;\n",
              "\n",
              "          const docLinkHtml = 'Like what you see? Visit the ' +\n",
              "            '<a target=\"_blank\" href=https://colab.research.google.com/notebooks/data_table.ipynb>data table notebook</a>'\n",
              "            + ' to learn more about interactive tables.';\n",
              "          element.innerHTML = '';\n",
              "          dataTable['output_type'] = 'display_data';\n",
              "          await google.colab.output.renderOutput(dataTable, element);\n",
              "          const docLink = document.createElement('div');\n",
              "          docLink.innerHTML = docLinkHtml;\n",
              "          element.appendChild(docLink);\n",
              "        }\n",
              "      </script>\n",
              "    </div>\n",
              "  </div>\n",
              "  "
            ]
          },
          "metadata": {},
          "execution_count": 9
        }
      ]
    },
    {
      "cell_type": "code",
      "source": [
        "from tensorflow import keras\n",
        "from tensorflow.keras import layers, callbacks\n",
        "\n",
        "model = keras.Sequential([\n",
        "    layers.Dense(128, activation='relu', input_shape=[11]),\n",
        "    layers.Dropout(rate=0.5),\n",
        "    layers.BatchNormalization(),\n",
        "    layers.Dense(64, activation='relu'),\n",
        "    layers.BatchNormalization(),\n",
        "    layers.Dropout(rate=0.5),\n",
        "    layers.Dense(32, activation='relu'),\n",
        "    layers.BatchNormalization(),\n",
        "    layers.Dropout(rate=0.5),\n",
        "    layers.Dense(1),\n",
        "])"
      ],
      "metadata": {
        "execution": {
          "iopub.status.busy": "2022-04-01T09:57:19.125173Z",
          "iopub.execute_input": "2022-04-01T09:57:19.125378Z",
          "iopub.status.idle": "2022-04-01T09:57:19.144320Z",
          "shell.execute_reply.started": "2022-04-01T09:57:19.125351Z",
          "shell.execute_reply": "2022-04-01T09:57:19.143449Z"
        },
        "trusted": true,
        "id": "VLqpQWRfm4qH"
      },
      "execution_count": 10,
      "outputs": []
    },
    {
      "cell_type": "code",
      "source": [
        "# early_stopping = callbacks.EarlyStopping(\n",
        "#     min_delta=0.001, # minimium amount of change to count as an improvement\n",
        "#     patience=20, # how many epochs to wait before stopping\n",
        "#     restore_best_weights=True,\n",
        "# )"
      ],
      "metadata": {
        "id": "YRFXgvMVGnQ9"
      },
      "execution_count": 11,
      "outputs": []
    },
    {
      "cell_type": "code",
      "source": [
        "model.compile(\n",
        "    optimizer='adam',\n",
        "    loss='mae', metrics=['mse']\n",
        ")"
      ],
      "metadata": {
        "execution": {
          "iopub.status.busy": "2022-04-01T09:57:19.145527Z",
          "iopub.execute_input": "2022-04-01T09:57:19.145858Z",
          "iopub.status.idle": "2022-04-01T09:57:19.154108Z",
          "shell.execute_reply.started": "2022-04-01T09:57:19.145830Z",
          "shell.execute_reply": "2022-04-01T09:57:19.153139Z"
        },
        "trusted": true,
        "id": "3eMdsFmAm4qH"
      },
      "execution_count": 12,
      "outputs": []
    },
    {
      "cell_type": "code",
      "source": [
        "history = model.fit(\n",
        "    X_train, y_train,\n",
        "    validation_data = (X_test,y_test),\n",
        "    batch_size=128,\n",
        "    # callbacks=[early_stopping],\n",
        "    epochs=100,\n",
        ")"
      ],
      "metadata": {
        "id": "7cgxvzRrryg3",
        "outputId": "2556265f-ac02-4f8e-8f90-bfea31fc0254",
        "colab": {
          "base_uri": "https://localhost:8080/"
        }
      },
      "execution_count": 13,
      "outputs": [
        {
          "output_type": "stream",
          "name": "stdout",
          "text": [
            "Epoch 1/100\n",
            "9/9 [==============================] - 4s 58ms/step - loss: 5.6463 - mse: 35.8717 - val_loss: 5.5047 - val_mse: 30.9508\n",
            "Epoch 2/100\n",
            "9/9 [==============================] - 0s 15ms/step - loss: 5.6095 - mse: 35.7145 - val_loss: 5.5500 - val_mse: 31.4501\n",
            "Epoch 3/100\n",
            "9/9 [==============================] - 0s 15ms/step - loss: 5.4769 - mse: 34.0582 - val_loss: 5.5657 - val_mse: 31.6245\n",
            "Epoch 4/100\n",
            "9/9 [==============================] - 0s 13ms/step - loss: 5.4084 - mse: 32.7219 - val_loss: 5.5741 - val_mse: 31.7155\n",
            "Epoch 5/100\n",
            "9/9 [==============================] - 0s 14ms/step - loss: 5.4060 - mse: 32.9625 - val_loss: 5.5614 - val_mse: 31.5689\n",
            "Epoch 6/100\n",
            "9/9 [==============================] - 0s 13ms/step - loss: 5.2028 - mse: 30.6078 - val_loss: 5.5221 - val_mse: 31.1284\n",
            "Epoch 7/100\n",
            "9/9 [==============================] - 0s 23ms/step - loss: 5.2352 - mse: 31.2360 - val_loss: 5.4604 - val_mse: 30.4456\n",
            "Epoch 8/100\n",
            "9/9 [==============================] - 0s 20ms/step - loss: 5.1119 - mse: 29.7495 - val_loss: 5.3892 - val_mse: 29.6654\n",
            "Epoch 9/100\n",
            "9/9 [==============================] - 0s 24ms/step - loss: 5.0253 - mse: 29.2521 - val_loss: 5.3193 - val_mse: 28.9110\n",
            "Epoch 10/100\n",
            "9/9 [==============================] - 0s 16ms/step - loss: 4.9537 - mse: 28.3089 - val_loss: 5.2103 - val_mse: 27.7570\n",
            "Epoch 11/100\n",
            "9/9 [==============================] - 0s 22ms/step - loss: 4.7560 - mse: 26.1947 - val_loss: 5.0815 - val_mse: 26.4240\n",
            "Epoch 12/100\n",
            "9/9 [==============================] - 0s 16ms/step - loss: 4.6890 - mse: 25.8450 - val_loss: 4.9328 - val_mse: 24.9308\n",
            "Epoch 13/100\n",
            "9/9 [==============================] - 0s 24ms/step - loss: 4.7078 - mse: 26.1416 - val_loss: 4.7793 - val_mse: 23.4412\n",
            "Epoch 14/100\n",
            "9/9 [==============================] - 0s 14ms/step - loss: 4.4526 - mse: 23.6575 - val_loss: 4.6341 - val_mse: 22.0757\n",
            "Epoch 15/100\n",
            "9/9 [==============================] - 0s 20ms/step - loss: 4.4661 - mse: 23.9916 - val_loss: 4.4594 - val_mse: 20.4861\n",
            "Epoch 16/100\n",
            "9/9 [==============================] - 0s 15ms/step - loss: 4.3505 - mse: 22.9876 - val_loss: 4.2772 - val_mse: 18.8959\n",
            "Epoch 17/100\n",
            "9/9 [==============================] - 0s 19ms/step - loss: 4.1331 - mse: 21.0280 - val_loss: 4.0800 - val_mse: 17.2574\n",
            "Epoch 18/100\n",
            "9/9 [==============================] - 0s 15ms/step - loss: 3.9991 - mse: 19.9749 - val_loss: 3.8625 - val_mse: 15.5362\n",
            "Epoch 19/100\n",
            "9/9 [==============================] - 0s 17ms/step - loss: 3.9045 - mse: 19.5779 - val_loss: 3.6585 - val_mse: 14.0001\n",
            "Epoch 20/100\n",
            "9/9 [==============================] - 0s 20ms/step - loss: 3.6730 - mse: 17.7835 - val_loss: 3.4159 - val_mse: 12.2860\n",
            "Epoch 21/100\n",
            "9/9 [==============================] - 0s 15ms/step - loss: 3.6794 - mse: 18.0723 - val_loss: 3.1961 - val_mse: 10.8350\n",
            "Epoch 22/100\n",
            "9/9 [==============================] - 0s 23ms/step - loss: 3.4609 - mse: 16.5669 - val_loss: 2.9512 - val_mse: 9.3355\n",
            "Epoch 23/100\n",
            "9/9 [==============================] - 0s 27ms/step - loss: 3.2526 - mse: 14.5572 - val_loss: 2.7083 - val_mse: 7.9628\n",
            "Epoch 24/100\n",
            "9/9 [==============================] - 0s 29ms/step - loss: 3.1520 - mse: 14.2493 - val_loss: 2.4774 - val_mse: 6.7617\n",
            "Epoch 25/100\n",
            "9/9 [==============================] - 0s 22ms/step - loss: 3.0221 - mse: 13.2759 - val_loss: 2.2350 - val_mse: 5.6138\n",
            "Epoch 26/100\n",
            "9/9 [==============================] - 0s 33ms/step - loss: 3.0666 - mse: 14.0475 - val_loss: 2.0168 - val_mse: 4.6819\n",
            "Epoch 27/100\n",
            "9/9 [==============================] - 0s 23ms/step - loss: 2.7886 - mse: 11.7276 - val_loss: 1.8135 - val_mse: 3.8898\n",
            "Epoch 28/100\n",
            "9/9 [==============================] - 0s 16ms/step - loss: 2.6371 - mse: 10.6749 - val_loss: 1.6280 - val_mse: 3.2294\n",
            "Epoch 29/100\n",
            "9/9 [==============================] - 0s 18ms/step - loss: 2.6647 - mse: 10.8264 - val_loss: 1.4700 - val_mse: 2.7081\n",
            "Epoch 30/100\n",
            "9/9 [==============================] - 0s 21ms/step - loss: 2.4411 - mse: 9.4442 - val_loss: 1.3776 - val_mse: 2.4317\n",
            "Epoch 31/100\n",
            "9/9 [==============================] - 0s 15ms/step - loss: 2.4141 - mse: 9.5111 - val_loss: 1.2508 - val_mse: 2.0753\n",
            "Epoch 32/100\n",
            "9/9 [==============================] - 0s 13ms/step - loss: 2.3372 - mse: 9.1735 - val_loss: 1.1186 - val_mse: 1.7288\n",
            "Epoch 33/100\n",
            "9/9 [==============================] - 0s 19ms/step - loss: 2.2850 - mse: 8.6421 - val_loss: 1.0296 - val_mse: 1.5139\n",
            "Epoch 34/100\n",
            "9/9 [==============================] - 0s 21ms/step - loss: 2.1652 - mse: 7.6232 - val_loss: 0.9799 - val_mse: 1.4025\n",
            "Epoch 35/100\n",
            "9/9 [==============================] - 0s 16ms/step - loss: 2.2020 - mse: 7.6512 - val_loss: 0.9340 - val_mse: 1.2961\n",
            "Epoch 36/100\n",
            "9/9 [==============================] - 0s 17ms/step - loss: 2.0863 - mse: 6.9838 - val_loss: 0.8993 - val_mse: 1.2197\n",
            "Epoch 37/100\n",
            "9/9 [==============================] - 0s 24ms/step - loss: 2.0056 - mse: 6.4645 - val_loss: 0.8488 - val_mse: 1.1055\n",
            "Epoch 38/100\n",
            "9/9 [==============================] - 0s 19ms/step - loss: 2.0301 - mse: 6.9035 - val_loss: 0.7930 - val_mse: 0.9828\n",
            "Epoch 39/100\n",
            "9/9 [==============================] - 0s 14ms/step - loss: 1.9682 - mse: 6.3142 - val_loss: 0.7803 - val_mse: 0.9517\n",
            "Epoch 40/100\n",
            "9/9 [==============================] - 0s 17ms/step - loss: 1.9793 - mse: 6.2165 - val_loss: 0.7791 - val_mse: 0.9441\n",
            "Epoch 41/100\n",
            "9/9 [==============================] - 0s 18ms/step - loss: 1.9222 - mse: 5.9719 - val_loss: 0.7903 - val_mse: 0.9690\n",
            "Epoch 42/100\n",
            "9/9 [==============================] - 0s 15ms/step - loss: 1.8869 - mse: 5.7411 - val_loss: 0.7624 - val_mse: 0.9148\n",
            "Epoch 43/100\n",
            "9/9 [==============================] - 0s 14ms/step - loss: 1.8813 - mse: 5.7226 - val_loss: 0.7174 - val_mse: 0.8261\n",
            "Epoch 44/100\n",
            "9/9 [==============================] - 0s 14ms/step - loss: 1.8129 - mse: 5.3644 - val_loss: 0.7032 - val_mse: 0.7897\n",
            "Epoch 45/100\n",
            "9/9 [==============================] - 0s 17ms/step - loss: 1.7210 - mse: 4.8383 - val_loss: 0.7323 - val_mse: 0.8368\n",
            "Epoch 46/100\n",
            "9/9 [==============================] - 0s 16ms/step - loss: 1.7983 - mse: 5.2572 - val_loss: 0.7660 - val_mse: 0.8928\n",
            "Epoch 47/100\n",
            "9/9 [==============================] - 0s 18ms/step - loss: 1.6888 - mse: 4.8495 - val_loss: 0.7644 - val_mse: 0.8898\n",
            "Epoch 48/100\n",
            "9/9 [==============================] - 0s 15ms/step - loss: 1.6774 - mse: 4.5869 - val_loss: 0.7555 - val_mse: 0.8787\n",
            "Epoch 49/100\n",
            "9/9 [==============================] - 0s 13ms/step - loss: 1.7103 - mse: 4.6500 - val_loss: 0.7318 - val_mse: 0.8359\n",
            "Epoch 50/100\n",
            "9/9 [==============================] - 0s 24ms/step - loss: 1.6755 - mse: 4.5688 - val_loss: 0.7034 - val_mse: 0.7865\n",
            "Epoch 51/100\n",
            "9/9 [==============================] - 0s 16ms/step - loss: 1.6756 - mse: 4.4903 - val_loss: 0.6776 - val_mse: 0.7522\n",
            "Epoch 52/100\n",
            "9/9 [==============================] - 0s 16ms/step - loss: 1.6678 - mse: 4.5074 - val_loss: 0.6570 - val_mse: 0.7214\n",
            "Epoch 53/100\n",
            "9/9 [==============================] - 0s 22ms/step - loss: 1.5580 - mse: 4.2437 - val_loss: 0.6582 - val_mse: 0.7224\n",
            "Epoch 54/100\n",
            "9/9 [==============================] - 0s 20ms/step - loss: 1.5630 - mse: 4.0111 - val_loss: 0.6440 - val_mse: 0.6922\n",
            "Epoch 55/100\n",
            "9/9 [==============================] - 0s 22ms/step - loss: 1.5828 - mse: 4.2430 - val_loss: 0.6388 - val_mse: 0.6802\n",
            "Epoch 56/100\n",
            "9/9 [==============================] - 0s 23ms/step - loss: 1.4915 - mse: 3.8902 - val_loss: 0.6461 - val_mse: 0.6981\n",
            "Epoch 57/100\n",
            "9/9 [==============================] - 0s 14ms/step - loss: 1.5824 - mse: 4.2853 - val_loss: 0.6467 - val_mse: 0.7032\n",
            "Epoch 58/100\n",
            "9/9 [==============================] - 0s 15ms/step - loss: 1.4831 - mse: 3.4420 - val_loss: 0.6329 - val_mse: 0.6810\n",
            "Epoch 59/100\n",
            "9/9 [==============================] - 0s 25ms/step - loss: 1.4424 - mse: 3.5207 - val_loss: 0.6202 - val_mse: 0.6528\n",
            "Epoch 60/100\n",
            "9/9 [==============================] - 0s 15ms/step - loss: 1.5368 - mse: 4.0830 - val_loss: 0.6183 - val_mse: 0.6495\n",
            "Epoch 61/100\n",
            "9/9 [==============================] - 0s 18ms/step - loss: 1.5162 - mse: 3.7643 - val_loss: 0.6160 - val_mse: 0.6464\n",
            "Epoch 62/100\n",
            "9/9 [==============================] - 0s 18ms/step - loss: 1.4241 - mse: 3.3485 - val_loss: 0.6078 - val_mse: 0.6285\n",
            "Epoch 63/100\n",
            "9/9 [==============================] - 0s 15ms/step - loss: 1.4215 - mse: 3.2736 - val_loss: 0.6056 - val_mse: 0.6294\n",
            "Epoch 64/100\n",
            "9/9 [==============================] - 0s 25ms/step - loss: 1.4165 - mse: 3.5385 - val_loss: 0.6057 - val_mse: 0.6328\n",
            "Epoch 65/100\n",
            "9/9 [==============================] - 0s 19ms/step - loss: 1.4596 - mse: 3.5568 - val_loss: 0.6083 - val_mse: 0.6355\n",
            "Epoch 66/100\n",
            "9/9 [==============================] - 0s 16ms/step - loss: 1.4204 - mse: 3.3629 - val_loss: 0.6065 - val_mse: 0.6281\n",
            "Epoch 67/100\n",
            "9/9 [==============================] - 0s 18ms/step - loss: 1.4737 - mse: 3.6564 - val_loss: 0.6015 - val_mse: 0.6140\n",
            "Epoch 68/100\n",
            "9/9 [==============================] - 0s 13ms/step - loss: 1.3817 - mse: 3.0863 - val_loss: 0.6027 - val_mse: 0.6167\n",
            "Epoch 69/100\n",
            "9/9 [==============================] - 0s 11ms/step - loss: 1.3498 - mse: 3.0430 - val_loss: 0.5950 - val_mse: 0.5968\n",
            "Epoch 70/100\n",
            "9/9 [==============================] - 0s 11ms/step - loss: 1.3752 - mse: 3.1616 - val_loss: 0.5889 - val_mse: 0.5811\n",
            "Epoch 71/100\n",
            "9/9 [==============================] - 0s 16ms/step - loss: 1.3113 - mse: 3.0441 - val_loss: 0.5899 - val_mse: 0.5835\n",
            "Epoch 72/100\n",
            "9/9 [==============================] - 0s 17ms/step - loss: 1.3410 - mse: 3.0002 - val_loss: 0.5910 - val_mse: 0.5851\n",
            "Epoch 73/100\n",
            "9/9 [==============================] - 0s 25ms/step - loss: 1.2467 - mse: 2.5171 - val_loss: 0.5861 - val_mse: 0.5740\n",
            "Epoch 74/100\n",
            "9/9 [==============================] - 0s 18ms/step - loss: 1.3022 - mse: 2.8971 - val_loss: 0.5811 - val_mse: 0.5628\n",
            "Epoch 75/100\n",
            "9/9 [==============================] - 0s 21ms/step - loss: 1.2448 - mse: 2.6720 - val_loss: 0.5659 - val_mse: 0.5314\n",
            "Epoch 76/100\n",
            "9/9 [==============================] - 0s 19ms/step - loss: 1.2802 - mse: 2.6583 - val_loss: 0.5610 - val_mse: 0.5210\n",
            "Epoch 77/100\n",
            "9/9 [==============================] - 0s 17ms/step - loss: 1.2839 - mse: 2.7506 - val_loss: 0.5630 - val_mse: 0.5245\n",
            "Epoch 78/100\n",
            "9/9 [==============================] - 0s 18ms/step - loss: 1.2696 - mse: 2.8059 - val_loss: 0.5678 - val_mse: 0.5334\n",
            "Epoch 79/100\n",
            "9/9 [==============================] - 0s 19ms/step - loss: 1.2256 - mse: 2.5408 - val_loss: 0.5793 - val_mse: 0.5607\n",
            "Epoch 80/100\n",
            "9/9 [==============================] - 0s 16ms/step - loss: 1.3196 - mse: 3.0825 - val_loss: 0.5845 - val_mse: 0.5759\n",
            "Epoch 81/100\n",
            "9/9 [==============================] - 0s 8ms/step - loss: 1.2788 - mse: 2.8045 - val_loss: 0.5836 - val_mse: 0.5734\n",
            "Epoch 82/100\n",
            "9/9 [==============================] - 0s 7ms/step - loss: 1.2376 - mse: 2.5342 - val_loss: 0.5911 - val_mse: 0.5950\n",
            "Epoch 83/100\n",
            "9/9 [==============================] - 0s 9ms/step - loss: 1.2528 - mse: 2.5827 - val_loss: 0.5850 - val_mse: 0.5786\n",
            "Epoch 84/100\n",
            "9/9 [==============================] - 0s 9ms/step - loss: 1.2299 - mse: 2.4833 - val_loss: 0.5783 - val_mse: 0.5564\n",
            "Epoch 85/100\n",
            "9/9 [==============================] - 0s 9ms/step - loss: 1.1853 - mse: 2.3632 - val_loss: 0.5778 - val_mse: 0.5568\n",
            "Epoch 86/100\n",
            "9/9 [==============================] - 0s 8ms/step - loss: 1.2414 - mse: 2.5550 - val_loss: 0.5782 - val_mse: 0.5630\n",
            "Epoch 87/100\n",
            "9/9 [==============================] - 0s 7ms/step - loss: 1.1727 - mse: 2.3657 - val_loss: 0.5775 - val_mse: 0.5593\n",
            "Epoch 88/100\n",
            "9/9 [==============================] - 0s 9ms/step - loss: 1.1917 - mse: 2.3709 - val_loss: 0.5754 - val_mse: 0.5550\n",
            "Epoch 89/100\n",
            "9/9 [==============================] - 0s 8ms/step - loss: 1.1651 - mse: 2.3099 - val_loss: 0.5734 - val_mse: 0.5531\n",
            "Epoch 90/100\n",
            "9/9 [==============================] - 0s 8ms/step - loss: 1.1929 - mse: 2.3899 - val_loss: 0.5764 - val_mse: 0.5642\n",
            "Epoch 91/100\n",
            "9/9 [==============================] - 0s 8ms/step - loss: 1.1656 - mse: 2.2378 - val_loss: 0.5774 - val_mse: 0.5665\n",
            "Epoch 92/100\n",
            "9/9 [==============================] - 0s 8ms/step - loss: 1.1409 - mse: 2.2821 - val_loss: 0.5737 - val_mse: 0.5569\n",
            "Epoch 93/100\n",
            "9/9 [==============================] - 0s 8ms/step - loss: 1.1965 - mse: 2.4584 - val_loss: 0.5736 - val_mse: 0.5536\n",
            "Epoch 94/100\n",
            "9/9 [==============================] - 0s 7ms/step - loss: 1.1809 - mse: 2.3054 - val_loss: 0.5731 - val_mse: 0.5444\n",
            "Epoch 95/100\n",
            "9/9 [==============================] - 0s 8ms/step - loss: 1.1175 - mse: 1.9943 - val_loss: 0.5729 - val_mse: 0.5410\n",
            "Epoch 96/100\n",
            "9/9 [==============================] - 0s 9ms/step - loss: 1.1333 - mse: 2.1811 - val_loss: 0.5679 - val_mse: 0.5150\n",
            "Epoch 97/100\n",
            "9/9 [==============================] - 0s 8ms/step - loss: 1.1595 - mse: 2.2348 - val_loss: 0.5677 - val_mse: 0.5125\n",
            "Epoch 98/100\n",
            "9/9 [==============================] - 0s 8ms/step - loss: 1.1250 - mse: 2.1024 - val_loss: 0.5645 - val_mse: 0.5152\n",
            "Epoch 99/100\n",
            "9/9 [==============================] - 0s 10ms/step - loss: 1.1181 - mse: 2.1535 - val_loss: 0.5680 - val_mse: 0.5374\n",
            "Epoch 100/100\n",
            "9/9 [==============================] - 0s 8ms/step - loss: 1.1464 - mse: 2.0427 - val_loss: 0.5695 - val_mse: 0.5452\n"
          ]
        }
      ]
    },
    {
      "cell_type": "markdown",
      "source": [
        "# 2) Define a linear model\n",
        "\n",
        "Now define a linear model appropriate for this task. Pay attention to how many inputs and outputs the model should have."
      ],
      "metadata": {
        "id": "CEEa85Xzm4qH"
      }
    },
    {
      "cell_type": "code",
      "source": [
        "model.summary()"
      ],
      "metadata": {
        "execution": {
          "iopub.status.busy": "2022-04-01T09:57:19.225295Z",
          "iopub.execute_input": "2022-04-01T09:57:19.225843Z",
          "iopub.status.idle": "2022-04-01T09:57:19.237548Z",
          "shell.execute_reply.started": "2022-04-01T09:57:19.225808Z",
          "shell.execute_reply": "2022-04-01T09:57:19.236685Z"
        },
        "trusted": true,
        "id": "RwuUB91vm4qI",
        "outputId": "8176a8d6-7bb6-4d16-a11e-7c22bf81769f",
        "colab": {
          "base_uri": "https://localhost:8080/"
        }
      },
      "execution_count": 14,
      "outputs": [
        {
          "output_type": "stream",
          "name": "stdout",
          "text": [
            "Model: \"sequential\"\n",
            "_________________________________________________________________\n",
            " Layer (type)                Output Shape              Param #   \n",
            "=================================================================\n",
            " dense (Dense)               (None, 128)               1536      \n",
            "                                                                 \n",
            " dropout (Dropout)           (None, 128)               0         \n",
            "                                                                 \n",
            " batch_normalization (BatchN  (None, 128)              512       \n",
            " ormalization)                                                   \n",
            "                                                                 \n",
            " dense_1 (Dense)             (None, 64)                8256      \n",
            "                                                                 \n",
            " batch_normalization_1 (Batc  (None, 64)               256       \n",
            " hNormalization)                                                 \n",
            "                                                                 \n",
            " dropout_1 (Dropout)         (None, 64)                0         \n",
            "                                                                 \n",
            " dense_2 (Dense)             (None, 32)                2080      \n",
            "                                                                 \n",
            " batch_normalization_2 (Batc  (None, 32)               128       \n",
            " hNormalization)                                                 \n",
            "                                                                 \n",
            " dropout_2 (Dropout)         (None, 32)                0         \n",
            "                                                                 \n",
            " dense_3 (Dense)             (None, 1)                 33        \n",
            "                                                                 \n",
            "=================================================================\n",
            "Total params: 12,801\n",
            "Trainable params: 12,353\n",
            "Non-trainable params: 448\n",
            "_________________________________________________________________\n"
          ]
        }
      ]
    },
    {
      "cell_type": "code",
      "source": [
        ""
      ],
      "metadata": {
        "id": "JtcpDvZWE-ce"
      },
      "execution_count": 14,
      "outputs": []
    },
    {
      "cell_type": "code",
      "source": [
        "import pandas as pd\n",
        "\n",
        "# convert the training history to a dataframe\n",
        "history_df = pd.DataFrame(history.history)\n",
        "# use Pandas native plot method\n",
        "history_df.loc[20:100,['loss','val_loss']].plot()"
      ],
      "metadata": {
        "id": "i6FtZdYSoj2l",
        "outputId": "3593fa4b-ffd5-41ae-8c3e-aa46580d9e90",
        "colab": {
          "base_uri": "https://localhost:8080/",
          "height": 283
        }
      },
      "execution_count": 21,
      "outputs": [
        {
          "output_type": "execute_result",
          "data": {
            "text/plain": [
              "<matplotlib.axes._subplots.AxesSubplot at 0x7f38302f6a50>"
            ]
          },
          "metadata": {},
          "execution_count": 21
        },
        {
          "output_type": "display_data",
          "data": {
            "text/plain": [
              "<Figure size 432x288 with 1 Axes>"
            ],
            "image/png": "[encoded data removed]"
          },
          "metadata": {
            "needs_background": "light"
          }
        }
      ]
    },
    {
      "cell_type": "code",
      "source": [
        "mse_value, mae_value = model.evaluate(X_test, y_test, verbose=0)\n",
        "\n",
        "print(mse_value)"
      ],
      "metadata": {
        "id": "EDO4vhapE_bi",
        "outputId": "79ac75de-b517-44f8-b6ad-63da246feaf2",
        "colab": {
          "base_uri": "https://localhost:8080/"
        }
      },
      "execution_count": 16,
      "outputs": [
        {
          "output_type": "stream",
          "name": "stdout",
          "text": [
            "0.5694658756256104\n"
          ]
        }
      ]
    },
    {
      "cell_type": "code",
      "source": [
        "y_pred = model.predict(X_test)"
      ],
      "metadata": {
        "id": "8HIcDR9tFCWg"
      },
      "execution_count": 17,
      "outputs": []
    },
    {
      "cell_type": "code",
      "source": [
        "y_pred[-5]"
      ],
      "metadata": {
        "id": "WNigXt_kFIvR",
        "outputId": "e9975040-fef5-4c18-8b65-9011639ce038",
        "colab": {
          "base_uri": "https://localhost:8080/"
        }
      },
      "execution_count": 26,
      "outputs": [
        {
          "output_type": "execute_result",
          "data": {
            "text/plain": [
              "array([5.5576334], dtype=float32)"
            ]
          },
          "metadata": {},
          "execution_count": 26
        }
      ]
    },
    {
      "cell_type": "code",
      "source": [
        "y_test"
      ],
      "metadata": {
        "id": "vY0bATdwFQW4",
        "outputId": "34d87cbf-e777-4df9-dfc6-45943e56f338",
        "colab": {
          "base_uri": "https://localhost:8080/"
        }
      },
      "execution_count": 19,
      "outputs": [
        {
          "output_type": "execute_result",
          "data": {
            "text/plain": [
              "803     6\n",
              "124     5\n",
              "350     6\n",
              "682     5\n",
              "1326    6\n",
              "       ..\n",
              "813     4\n",
              "377     7\n",
              "898     7\n",
              "126     5\n",
              "819     5\n",
              "Name: quality, Length: 528, dtype: int64"
            ]
          },
          "metadata": {},
          "execution_count": 19
        }
      ]
    },
    {
      "cell_type": "code",
      "source": [
        "from sklearn.metrics import r2_score\n",
        "\n",
        "r2_score(y_test, y_pred)"
      ],
      "metadata": {
        "id": "kdEqEiKzFG3F",
        "outputId": "c74caa34-7f2d-413c-e817-e5e94978e540",
        "colab": {
          "base_uri": "https://localhost:8080/"
        }
      },
      "execution_count": 20,
      "outputs": [
        {
          "output_type": "execute_result",
          "data": {
            "text/plain": [
              "0.17674704475479797"
            ]
          },
          "metadata": {},
          "execution_count": 20
        }
      ]
    }
  ]
}