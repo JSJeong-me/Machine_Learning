{
  "nbformat": 4,
  "nbformat_minor": 0,
  "metadata": {
    "colab": {
      "name": "cartpole - dqn",
      "provenance": [],
      "collapsed_sections": [],
      "include_colab_link": true
    },
    "kernelspec": {
      "name": "python3",
      "display_name": "Python 3"
    },
    "accelerator": "GPU"
  },
  "cells": [
    {
      "cell_type": "markdown",
      "metadata": {
        "id": "view-in-github",
        "colab_type": "text"
      },
      "source": [
        "<a href=\"https://colab.research.google.com/github/JSJeong-me/Machine_Learning/blob/main/ML/10-pytorch-cartpole_dqn.ipynb\" target=\"_parent\"><img src=\"https://colab.research.google.com/assets/colab-badge.svg\" alt=\"Open In Colab\"/></a>"
      ]
    },
    {
      "cell_type": "code",
      "metadata": {
        "id": "uMINlr-k4B6E"
      },
      "source": [
        "!apt-get install -y xvfb python-opengl > /dev/null 2>&1\n"
      ],
      "execution_count": 1,
      "outputs": []
    },
    {
      "cell_type": "code",
      "metadata": {
        "id": "PYWvsa8e4Etl"
      },
      "source": [
        "!pip install gym pyvirtualdisplay > /dev/null 2>&1"
      ],
      "execution_count": 2,
      "outputs": []
    },
    {
      "cell_type": "code",
      "metadata": {
        "id": "97MS4hMz4qPb"
      },
      "source": [
        "%matplotlib inline"
      ],
      "execution_count": 3,
      "outputs": []
    },
    {
      "cell_type": "code",
      "metadata": {
        "id": "O61RGjjHGxQx"
      },
      "source": [
        "# from google.colab import drive\n",
        "# drive.mount('/content/drive')"
      ],
      "execution_count": 4,
      "outputs": []
    },
    {
      "cell_type": "code",
      "metadata": {
        "id": "3r5vahpXWc_U"
      },
      "source": [
        "import gym\n",
        "from gym import wrappers\n",
        "import math\n",
        "import random\n",
        "import numpy as np\n",
        "import matplotlib\n",
        "import matplotlib.pyplot as plt\n",
        "from collections import namedtuple\n",
        "from itertools import count\n",
        "from PIL import Image\n",
        "\n",
        "from IPython import display as ipythondisplay\n",
        "\n",
        "import torch\n",
        "import torch.nn as nn\n",
        "import torch.optim as optim\n",
        "import torch.nn.functional as F\n",
        "import torchvision.transforms as T"
      ],
      "execution_count": 5,
      "outputs": []
    },
    {
      "cell_type": "code",
      "metadata": {
        "colab": {
          "base_uri": "https://localhost:8080/"
        },
        "id": "PcDsgS3rIItC",
        "outputId": "11e3329a-fa0c-4b47-e987-b94a6310b8ac"
      },
      "source": [
        "from gym.version import VERSION\n",
        "print(VERSION)"
      ],
      "execution_count": 6,
      "outputs": [
        {
          "output_type": "stream",
          "name": "stdout",
          "text": [
            "0.17.3\n"
          ]
        }
      ]
    },
    {
      "cell_type": "code",
      "metadata": {
        "id": "7Ud9LmqyWjSG"
      },
      "source": [
        "env = gym.make('CartPole-v0')\n",
        "env = gym.wrappers.Monitor(env, 'drive/MyDrive/Colab Notebooks/videos', force = True, video_callable=lambda episode_id: episode_id%10==0)\n",
        "is_ipython = 'inline' in matplotlib.get_backend()\n",
        "if is_ipython:\n",
        "  from IPython import display\n",
        "\n",
        "plt.ion()\n",
        "\n",
        "device = torch.device(\"cuda\" if torch.cuda.is_available() else \"cpu\")"
      ],
      "execution_count": 7,
      "outputs": []
    },
    {
      "cell_type": "code",
      "metadata": {
        "id": "suGAswKsXPLr"
      },
      "source": [
        "Transition = namedtuple('Transition',\n",
        "                        ('state', 'action', 'next_state', 'reward'))\n",
        "# Transition: Replay Memory에 삽입되는 데이터의 최소형태\n",
        "\n",
        "class ReplayMemory(object):\n",
        "\n",
        "    def __init__(self, capacity):\n",
        "        self.capacity = capacity\n",
        "        self.memory = []\n",
        "        self.position = 0\n",
        "# capacity: Replay Memory의 사이즈 \n",
        "# 기본적으로는 python list의 형태\n",
        "\n",
        "    def push(self, *args):\n",
        "      \n",
        "        if len(self.memory) < self.capacity:\n",
        "            self.memory.append(None)\n",
        "        self.memory[self.position] = Transition(*args)\n",
        "        self.position = (self.position + 1) % self.capacity\n",
        "  \n",
        "# push: Replay Memory에 Transition을 밀어넣음\n",
        "# Replay Memory 크기가 capacity보다 작을 때는 추가하는 것에서 그치지만,\n",
        "# capacity보다 커졌을 때는 position의 위치에 신규 transition을 넣는다.\n",
        "# 새로운 transition이 삽입되면 position = {(position + 1)을 capacity로 나눠준 결과의 나머지}\n",
        "# append 함수는 리스트의 끝에 원소를 삽입하므로,\n",
        "# 리스트가 capacity만큼 커진 뒤 처음으로 삭제되는 원소는 제일 처음에 삽입했던 원소가 된다. (fisrt in first out)\n",
        "# 다음으로 들어오는 transition은 1의 위치에 삽입, \n",
        "# position이 가리키는 정수가 capacity만큼 커지면, 자동으로 0으로 돌아감(capcity로 나눠준 결과의 '나머지'를 활용하므로)\n",
        "\n",
        "\n",
        "    def sample(self, batch_size):\n",
        "        return random.sample(self.memory, batch_size)\n",
        "# sample 함수는 'memory'에서 'batch_size'만큼의 원소를 추출해줌\n",
        "\n",
        "\n",
        "    def __len__(self):\n",
        "        return len(self.memory)"
      ],
      "execution_count": 8,
      "outputs": []
    },
    {
      "cell_type": "code",
      "metadata": {
        "id": "bKaxj7Wbc8wJ"
      },
      "source": [
        "class DQN(nn.Module):\n",
        "  def __init__(self, h, w, outputs):\n",
        "    super(DQN, self).__init__()\n",
        "    self.conv1 = nn.Conv2d(3, 16, kernel_size = 5, stride = 2)\n",
        "    self.bn1 = nn.BatchNorm2d(16)\n",
        "    self.conv2 = nn.Conv2d(16, 32, kernel_size = 5, stride = 2)\n",
        "    self.bn2 = nn.BatchNorm2d(32)\n",
        "    self.conv3 = nn.Conv2d(32, 32, 5, 2)\n",
        "    self.bn3 = nn.BatchNorm2d(32)\n",
        "\n",
        "# 구조: \n",
        "# Conv1:  3개의 인풋채널 -> 16개의 5x5 커널, stride 2 -> 16개의 채널 \n",
        "# Conv2: 16개의 인풋채널 -> 32개의 5x5 커널, stride 2 -> 32개의 채널\n",
        "# Conv3: 32개의 인풋채널 -> 32개의 5x5 커널, stride 2 -> 32개의 채널\n",
        "\n",
        "# Conv Layer 최종 결과:\n",
        "# 32개 채널의 convw * convh 크기 output\n",
        "\n",
        "    def conv2d_size_out(size, kernel_size = 5, stride = 2):\n",
        "      return (size - (kernel_size-1) -1)//stride + 1\n",
        "    convw = conv2d_size_out(conv2d_size_out(conv2d_size_out(w)))\n",
        "    convh = conv2d_size_out(conv2d_size_out(conv2d_size_out(h)))\n",
        "    linear_input_size = convw*convh*32\n",
        "    self.head = nn.Linear(linear_input_size, outputs)\n",
        "\n",
        "  def forward(self, x):\n",
        "    x = F.relu(self.bn1(self.conv1(x)))\n",
        "    x = F.relu(self.bn2(self.conv2(x)))\n",
        "    x = F.relu(self.bn3(self.conv3(x)))\n",
        "    return self.head(x.view(x.size(0), -1))\n",
        "\n",
        "    "
      ],
      "execution_count": 9,
      "outputs": []
    },
    {
      "cell_type": "code",
      "metadata": {
        "colab": {
          "base_uri": "https://localhost:8080/"
        },
        "id": "9eUPZEoR5YDn",
        "outputId": "a1a39d88-5f1a-42a2-b572-0bb31d303c81"
      },
      "source": [
        "from pyvirtualdisplay import Display\n",
        "display = Display(visible=0, size=(400, 300))\n",
        "display.start()"
      ],
      "execution_count": 10,
      "outputs": [
        {
          "output_type": "execute_result",
          "data": {
            "text/plain": [
              "<pyvirtualdisplay.display.Display at 0x7f6ae622aad0>"
            ]
          },
          "metadata": {},
          "execution_count": 10
        }
      ]
    },
    {
      "cell_type": "code",
      "metadata": {
        "colab": {
          "base_uri": "https://localhost:8080/",
          "height": 213
        },
        "id": "94r2eL0Lervm",
        "outputId": "2ba8b087-7ee9-4c3b-b6d9-bc64bf01aeb7"
      },
      "source": [
        "resize = T.Compose([T.ToPILImage(),\n",
        "                    T.Resize(40, interpolation=Image.CUBIC),\n",
        "                    T.ToTensor()])\n",
        "\n",
        "# T: torchvision transform은 이미지 변형에 사용됨\n",
        "# PIL image를 입력받은 뒤 적절하게 변형하여 tensor로 바꿈\n",
        "\n",
        "def get_cart_location(screen_width):\n",
        "    world_width = env.x_threshold * 2\n",
        "    scale = screen_width / world_width\n",
        "    return int(env.state[0] * scale + screen_width / 2.0)  # MIDDLE OF CART\n",
        "\n",
        "# cart의 위치 구하기\n",
        "# cart 가로 사이즈: world width\n",
        "# scale: 카트 대비 스크린의 크기\n",
        "# env.state: 카트 이동 거리(카트 크기 기준)\n",
        "# 카트 위치: 카트 이동 거리*scale + 스크린 중간\n",
        "\n",
        "def get_screen():\n",
        "    screen = env.render(mode='rgb_array').transpose((2, 0, 1))\n",
        "    _, screen_height, screen_width = screen.shape\n",
        "    screen = screen[:, int(screen_height*0.4):int(screen_height * 0.8)]\n",
        "# 카트가 화면 아래쪽에 위치하므로 화면 크기를 줄일 수 있음\n",
        "    view_width = int(screen_width * 0.6)\n",
        "    cart_location = get_cart_location(screen_width)\n",
        "    if cart_location < view_width // 2:\n",
        "        slice_range = slice(view_width)\n",
        "    elif cart_location > (screen_width - view_width // 2):\n",
        "        slice_range = slice(-view_width, None)\n",
        "    else:\n",
        "        slice_range = slice(cart_location - view_width // 2,\n",
        "                            cart_location + view_width // 2)\n",
        "    screen = screen[:, :, slice_range]\n",
        "    screen = np.ascontiguousarray(screen, dtype=np.float32) / 255\n",
        "    screen = torch.from_numpy(screen)\n",
        "    return resize(screen).unsqueeze(0).to(device)\n",
        "\n",
        "\n",
        "env.reset()\n",
        "plt.figure()\n",
        "plt.imshow(get_screen().cpu().squeeze(0).permute(1, 2, 0).numpy(),\n",
        "           interpolation='none')\n",
        "ipythondisplay.clear_output(wait=True)\n",
        "plt.title('Example extracted screen')\n",
        "plt.show()"
      ],
      "execution_count": 11,
      "outputs": [
        {
          "output_type": "display_data",
          "data": {
            "text/plain": [
              "<Figure size 432x288 with 1 Axes>"
            ],
            "image/png": "[encoded data removed]"
          },
          "metadata": {
            "needs_background": "light"
          }
        }
      ]
    },
    {
      "cell_type": "code",
      "metadata": {
        "id": "uP_qUKPkmjjE",
        "colab": {
          "base_uri": "https://localhost:8080/"
        },
        "outputId": "bc952619-d379-4f0d-c72a-f636cc87926c"
      },
      "source": [
        "device"
      ],
      "execution_count": 12,
      "outputs": [
        {
          "output_type": "execute_result",
          "data": {
            "text/plain": [
              "device(type='cuda')"
            ]
          },
          "metadata": {},
          "execution_count": 12
        }
      ]
    },
    {
      "cell_type": "code",
      "metadata": {
        "id": "W8L12mfz4z0R"
      },
      "source": [
        "BATCH_SIZE = 128\n",
        "GAMMA = 0.999\n",
        "EPS_START = 0.9\n",
        "EPS_END = 0.05\n",
        "EPS_DECAY = 200\n",
        "TARGET_UPDATE = 10\n",
        "\n",
        "init_screen = get_screen()\n",
        "_, _, screen_height, screen_width = init_screen.shape\n",
        "\n",
        "n_actions = env.action_space.n\n",
        "# gym action space가 보유한 '행동'\n",
        "\n",
        "policy_net = DQN(screen_height, screen_width, n_actions).to(device)\n",
        "target_net = DQN(screen_height, screen_width, n_actions).to(device)\n",
        "target_net.load_state_dict(policy_net.state_dict())\n",
        "target_net.eval()\n",
        "\n",
        "optimizer = optim.RMSprop(policy_net.parameters())\n",
        "memory = ReplayMemory(10000)\n",
        "\n",
        "steps_done = 0\n",
        "\n",
        "def select_action(state):\n",
        "  global steps_done\n",
        "  sample = random.random()\n",
        "  eps_threshold = EPS_END + (EPS_START - EPS_END) * math.exp(-1.*steps_done/EPS_DECAY)\n",
        "  steps_done += 1\n",
        "  if sample > eps_threshold:\n",
        "    with torch.no_grad():\n",
        "      return policy_net(state).max(1)[1].view(1,1)\n",
        "# 1- eps_threshold 의 확률로 최선의 행동을 선택\n",
        "# policy_net(state): 각 state에 대한 행동에 따른 보상\n",
        "# t.max(1)[1]: 행동 중 가장 큰 보상과 index \n",
        "  else:\n",
        "    return torch.tensor([[random.randrange(n_actions)]], device = device, dtype = torch.long)\n",
        "  \n",
        "episode_durations = []\n",
        "# episode durations 리스트 형성\n",
        "\n",
        "def plot_durations():\n",
        "  plt.figure(2)\n",
        "  plt.clf()\n",
        "  durations_t = torch.tensor(episode_durations, dtype = torch.float)\n",
        "# durations_t 는 episode durations 리스트를 tensor로 만들어 줌\n",
        "\n",
        "  plt.title('Training')\n",
        "  plt.xlabel('Episode')\n",
        "  plt.ylabel('Duration')\n",
        "\n",
        "  plt.plot(durations_t.numpy())\n",
        "\n",
        "  if len(durations_t) >= 100:\n",
        "    means = durations_t.unfold(0, 100, 1).mean(1).view(-1)\n",
        "    means = torch.cat((torch.zeros(99), means))\n",
        "    plt.plot(means.numpy())\n",
        "# durations_t의 원소 개수가 100을 넘어가면 == 에피소드가 100을 넘으면\n",
        "# 평균값을 새로 plot에 추가\n",
        "\n",
        "  plt.pause(0.001)\n",
        "  if is_ipython:\n",
        "    ipythondisplay.clear_output(wait = True)\n",
        "    # ipythondisplay.display(plt.gcf())\n",
        "\n",
        "episode_rewards = []\n",
        "\n",
        "def plot_rewards():\n",
        "    plt.figure(3)\n",
        "    plt.clf()\n",
        "    reward_t = torch.tensor(episode_rewards, dtype=torch.float)\n",
        "    plt.title('Training...')\n",
        "    plt.xlabel('Episode')\n",
        "    plt.ylabel('Duration')\n",
        "    plt.plot(reward_t.numpy())\n",
        "    # Take 100 episode averages and plot them too\n",
        "    if len(reward_t) >= 100:\n",
        "        means = reward_t.unfold(0, 100, 1).mean(1).view(-1)\n",
        "        means = torch.cat((torch.zeros(99), means))\n",
        "        plt.plot(means.numpy())\n",
        "\n",
        "    plt.pause(0.001)  # pause a bit so that plots are updated\n",
        "    if is_ipython:\n",
        "        ipythondisplay.clear_output(wait=True)\n",
        "        # display.display(plt.gcf())"
      ],
      "execution_count": 13,
      "outputs": []
    },
    {
      "cell_type": "code",
      "metadata": {
        "id": "gtr2QNnFuwrb"
      },
      "source": [
        "def optimize_model():\n",
        "  if len(memory) < BATCH_SIZE:\n",
        "    return\n",
        "\n",
        "# memory 가 batch_size 이상만큼 쌓였을 때 시작\n",
        "# 참고로 memory capcity는 10000, batch_size 는 128\n",
        "\n",
        "  transitions = memory.sample(BATCH_SIZE)\n",
        "\n",
        "  batch = Transition(*zip(*transitions))\n",
        "# memory에서 추출된 샘플들을 또 한데 모음\n",
        "# 한데 모은 샘플들은 하나의 tensor로 병합될 예정 (마지막 state 빼고)\n",
        "# 참고로, 샘플의 형식은 (State, Action, Next State, Reward)\n",
        "\n",
        "  non_final_mask = torch.tensor(tuple(map(lambda s: s != None, batch.next_state)), device = device, dtype = torch.bool)\n",
        "# 현재 state가 final state가 아님을 보장해주는 필터\n",
        "  non_final_next_states = torch.cat([s for s in batch.next_state if s != None])\n",
        "# Next state가 final state가 아님을 보장해주는 필터\n",
        "\n",
        "  state_batch = torch.cat(batch.state)\n",
        "  action_batch = torch.cat(batch.action)\n",
        "  reward_batch = torch.cat(batch.reward)\n",
        "\n",
        "# Loss 계산: (Q - expected Q) 최소화\n",
        "  state_action_values = policy_net(state_batch).gather(1, action_batch)\n",
        "# gather의 역할:\n",
        "\n",
        "  next_state_values = torch.zeros(BATCH_SIZE, device = device)\n",
        "  next_state_values[non_final_mask] = target_net(non_final_next_states).max(1)[0].detach()\n",
        "# mask 사용법:\n",
        "# detach의 역할\n",
        "  expected_state_action_values = (next_state_values * GAMMA) + reward_batch\n",
        "# Expected Q: r + gamma * max_a(Q')\n",
        "\n",
        "  loss = F.smooth_l1_loss(state_action_values, expected_state_action_values.unsqueeze(1))\n",
        "\n",
        "  optimizer.zero_grad()\n",
        "  loss.backward()\n",
        "  for param in policy_net.parameters():\n",
        "    param.grad.data.clamp_(-1, 1)\n",
        "  optimizer.step()\n"
      ],
      "execution_count": 14,
      "outputs": []
    },
    {
      "cell_type": "code",
      "metadata": {
        "colab": {
          "base_uri": "https://localhost:8080/",
          "height": 295
        },
        "id": "lcCNryRFyliQ",
        "outputId": "251a56f7-0fda-4e40-82b5-b3c590673a35"
      },
      "source": [
        "num_episodes = 1000\n",
        "for i_episode in range(num_episodes):\n",
        "  env.reset()\n",
        "  last_screen = get_screen()\n",
        "  current_screen = get_screen()\n",
        "  state = current_screen - last_screen\n",
        "  for t in count():\n",
        "    action = select_action(state)\n",
        "    _, reward, done, _ = env.step(action.item())\n",
        "    reward = torch.tensor([reward], device = device)\n",
        "# State에 대한 reward는 언제나 1인데,\n",
        "# incremental timestep을 cartpole이 균형을 잡고 있는 동안은 무조건 보상이 주어지고\n",
        "# cartpole이 균형을 잃을 경우 에피소드가 종료되기 때문\n",
        "\n",
        "\n",
        "    last_screen = current_screen\n",
        "    current_screen = get_screen()\n",
        "    if not done:\n",
        "      next_state = current_screen - last_screen\n",
        "    else:\n",
        "      next_state = None\n",
        "\n",
        "    memory.push(state, action, next_state, reward)\n",
        "\n",
        "    state = next_state\n",
        "\n",
        "    optimize_model()\n",
        "    if done:\n",
        "      episode_durations.append(t + 1)\n",
        "      episode_rewards.append(reward)\n",
        "      plot_durations()\n",
        "      break\n",
        "    \n",
        "  if i_episode % TARGET_UPDATE == 0:\n",
        "    target_net.load_state_dict(policy_net.state_dict())\n",
        "\n",
        "\n",
        "print('Complete')\n",
        "env.render()\n",
        "env.close\n",
        "plt.ioff()\n",
        "plt.show()\n"
      ],
      "execution_count": null,
      "outputs": [
        {
          "output_type": "display_data",
          "data": {
            "text/plain": [
              "<Figure size 432x288 with 1 Axes>"
            ],
            "image/png": "[encoded data removed]"
          },
          "metadata": {
            "needs_background": "light"
          }
        }
      ]
    },
    {
      "cell_type": "code",
      "metadata": {
        "id": "RnFi585KLssK"
      },
      "source": [
        "import base64\n",
        "import glob\n",
        "import io\n",
        "import os\n",
        "\n",
        "from IPython.display import HTML, display\n",
        "\n",
        "\n",
        "def ipython_show_video(path: str) -> None:\n",
        "    \"\"\"Show a video at `path` within IPython Notebook.\"\"\"\n",
        "    if not os.path.isfile(path):\n",
        "        raise NameError(\"Cannot access: {}\".format(path))\n",
        "\n",
        "    video = io.open(path, \"r+b\").read()\n",
        "    encoded = base64.b64encode(video)\n",
        "\n",
        "    display(HTML(\n",
        "        data=\"\"\"\n",
        "        <video alt=\"test\" controls>\n",
        "        <source src=\"data:video/mp4;base64,{0}\" type=\"video/mp4\"/>\n",
        "        </video>\n",
        "        \"\"\".format(encoded.decode(\"ascii\"))\n",
        "    ))\n",
        "\n",
        "list_of_files = glob.glob(\"drive/MyDrive/Colab Notebooks/videos/*.mp4\")\n",
        "latest_file = max(list_of_files, key=os.path.getctime)\n",
        "print(latest_file)\n",
        "print(os.path.getctime(latest_file))\n",
        "ipython_show_video(latest_file)\n"
      ],
      "execution_count": null,
      "outputs": []
    },
    {
      "cell_type": "code",
      "metadata": {
        "id": "lVLgiHABZkbz"
      },
      "source": [
        "env.close()\n"
      ],
      "execution_count": null,
      "outputs": []
    }
  ]
}